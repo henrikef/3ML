{
 "cells": [
  {
   "cell_type": "markdown",
   "metadata": {
    "deletable": true,
    "editable": true
   },
   "source": [
    "# Spectrum Plugins \n",
    "\n",
    "The **SpectrumLike** plugin is designed to handle binned photon/particle spectra. It comes in three basic classes:\n",
    "\n",
    "* **SpectrumLike**: Generic binned spectral\n",
    "* **DispersionSpectrumLike**: Generic binned spectra with energy dispersion\n",
    "* **OGIPLike**: binned spectra with dispersion from OGIP PHA files\n",
    "\n",
    "The functionality of all three plugins is the same."
   ]
  },
  {
   "cell_type": "markdown",
   "metadata": {
    "ExecuteTime": {
     "end_time": "2017-07-18T07:54:42.343373Z",
     "start_time": "2017-07-18T07:54:42.329408Z"
    },
    "collapsed": true,
    "deletable": true,
    "editable": true
   },
   "source": [
    "## SpectrumLike\n",
    "\n",
    "The most basic spectrum plugin is **SpectrumLike** which handles spectra with and without backgrounds. There are six basic features of a spectrum:\n",
    "\n",
    "* the energy boundries of the bins,\n",
    "* the data in these energy bins,\n",
    "* the statistical properties of the total spectrum\n",
    "    * Possion (counts are meausred in an on/off fashion),\n",
    "    * Gaussian (counts are the result of a masking process or a fit),\n",
    "* the exposure,\n",
    "* the background (and its associated statistical properties),\n",
    "* and any known systematic errors associated with the total or background spectrum.\n",
    "\n",
    "Let's start by examining an observation where the total counts are Poisson distributed and the measured background ground has been observed by viewing an off-source region and hence is also Poisson.\n",
    "\n"
   ]
  },
  {
   "cell_type": "code",
   "execution_count": 1,
   "metadata": {
    "ExecuteTime": {
     "end_time": "2017-07-18T06:36:27.345905Z",
     "start_time": "2017-07-18T06:36:27.337172Z"
    },
    "collapsed": false,
    "deletable": true,
    "editable": true
   },
   "outputs": [
    {
     "name": "stdout",
     "output_type": "stream",
     "text": [
      "Configuration read from /home/giacomov/.threeML/threeML_config.yml\n",
      "Plotter is MatPlotlib\n"
     ]
    }
   ],
   "source": [
    "from threeML import *\n",
    "\n",
    "import matplotlib.pyplot as plt\n",
    "import numpy as np\n",
    "\n",
    "%matplotlib inline\n"
   ]
  },
  {
   "cell_type": "markdown",
   "metadata": {
    "deletable": true,
    "editable": true
   },
   "source": [
    "We will construct a simulated spectrum over the energy range 10-1000 keV. The spectrum will have logrithmic energy boundaries.\n",
    "\n",
    "We will simulate a blackbody source spectrum on top of powerlaw background."
   ]
  },
  {
   "cell_type": "code",
   "execution_count": 2,
   "metadata": {
    "ExecuteTime": {
     "end_time": "2017-07-18T07:45:38.715961Z",
     "start_time": "2017-07-18T07:45:38.708282Z"
    },
    "collapsed": true,
    "deletable": true,
    "editable": true
   },
   "outputs": [],
   "source": [
    "energies = np.logspace(1,3,51)\n",
    "\n",
    "low_edge = energies[:-1]\n",
    "high_edge = energies[1:]\n",
    "\n",
    "# get a blackbody source function\n",
    "source_function = Blackbody(K=9E-2,kT=20)\n",
    "\n",
    "# power law background function\n",
    "background_function = Powerlaw(K=1,index=-1.5, piv=100.)\n",
    "\n",
    "spectrum_generator = SpectrumLike.from_function('fake',\n",
    "                                               source_function=source_function,\n",
    "                                               background_function=background_function,\n",
    "                                               energy_min=low_edge,\n",
    "                                               energy_max=high_edge)"
   ]
  },
  {
   "cell_type": "markdown",
   "metadata": {
    "deletable": true,
    "editable": true
   },
   "source": [
    "### The count spectrum\n",
    "\n",
    "Let's examine a few properties about the count spectrum including the contents stored in the plugin, viewing the count distribution, masking channels, and rebinnined the spectrum.\n",
    "\n",
    "\n",
    "We can examine the contents of our plugin with the display function:"
   ]
  },
  {
   "cell_type": "code",
   "execution_count": 3,
   "metadata": {
    "ExecuteTime": {
     "end_time": "2017-07-18T07:45:19.170778Z",
     "start_time": "2017-07-18T07:45:19.159048Z"
    },
    "collapsed": false,
    "deletable": true,
    "editable": true
   },
   "outputs": [
    {
     "data": {
      "text/html": [
       "<div>\n",
       "<table border=\"1\" class=\"dataframe\">\n",
       "  <thead>\n",
       "    <tr style=\"text-align: right;\">\n",
       "      <th></th>\n",
       "      <th>0</th>\n",
       "    </tr>\n",
       "  </thead>\n",
       "  <tbody>\n",
       "    <tr>\n",
       "      <th>n. channels</th>\n",
       "      <td>50</td>\n",
       "    </tr>\n",
       "    <tr>\n",
       "      <th>total rate</th>\n",
       "      <td>1868</td>\n",
       "    </tr>\n",
       "    <tr>\n",
       "      <th>total bkg. rate</th>\n",
       "      <td>308</td>\n",
       "    </tr>\n",
       "    <tr>\n",
       "      <th>bkg. exposure</th>\n",
       "      <td>1</td>\n",
       "    </tr>\n",
       "    <tr>\n",
       "      <th>bkg. is poisson</th>\n",
       "      <td>True</td>\n",
       "    </tr>\n",
       "    <tr>\n",
       "      <th>exposure</th>\n",
       "      <td>1</td>\n",
       "    </tr>\n",
       "    <tr>\n",
       "      <th>is poisson</th>\n",
       "      <td>True</td>\n",
       "    </tr>\n",
       "    <tr>\n",
       "      <th>background</th>\n",
       "      <td>profiled</td>\n",
       "    </tr>\n",
       "    <tr>\n",
       "      <th>significance</th>\n",
       "      <td>35.2423</td>\n",
       "    </tr>\n",
       "    <tr>\n",
       "      <th>src/bkg area ratio</th>\n",
       "      <td>1</td>\n",
       "    </tr>\n",
       "    <tr>\n",
       "      <th>src/bkg exposure ratio</th>\n",
       "      <td>1</td>\n",
       "    </tr>\n",
       "    <tr>\n",
       "      <th>src/bkg scale factor</th>\n",
       "      <td>1</td>\n",
       "    </tr>\n",
       "  </tbody>\n",
       "</table>\n",
       "</div>"
      ],
      "text/plain": [
       "                               0\n",
       "n. channels                   50\n",
       "total rate                  1868\n",
       "total bkg. rate              308\n",
       "bkg. exposure                  1\n",
       "bkg. is poisson             True\n",
       "exposure                       1\n",
       "is poisson                  True\n",
       "background              profiled\n",
       "significance             35.2423\n",
       "src/bkg area ratio             1\n",
       "src/bkg exposure ratio         1\n",
       "src/bkg scale factor           1"
      ]
     },
     "metadata": {},
     "output_type": "display_data"
    }
   ],
   "source": [
    "spectrum_generator.display()"
   ]
  },
  {
   "cell_type": "markdown",
   "metadata": {
    "deletable": true,
    "editable": true
   },
   "source": [
    "These properties are accessible from the object. For example:"
   ]
  },
  {
   "cell_type": "code",
   "execution_count": 4,
   "metadata": {
    "collapsed": false,
    "deletable": true,
    "editable": true
   },
   "outputs": [
    {
     "name": "stdout",
     "output_type": "stream",
     "text": [
      "1.0\n",
      "35.2422992155\n",
      "[  23.   24.   25.   38.   31.   33.   46.   44.   48.   70.   55.   75.\n",
      "   70.   86.   96.  101.  109.   90.   91.  100.  103.   89.   84.   74.\n",
      "   51.   49.   40.   21.   14.   13.   15.   12.    7.    4.    4.    2.\n",
      "    4.    1.    2.    2.    4.    4.    3.    6.    0.    1.    2.    0.\n",
      "    1.    1.]\n"
     ]
    }
   ],
   "source": [
    "print spectrum_generator.exposure\n",
    "print spectrum_generator.significance\n",
    "print spectrum_generator.observed_counts"
   ]
  },
  {
   "cell_type": "markdown",
   "metadata": {
    "deletable": true,
    "editable": true
   },
   "source": [
    "To view the count spectrum, we call the *view_count_spectrum* method:"
   ]
  },
  {
   "cell_type": "code",
   "execution_count": 5,
   "metadata": {
    "collapsed": false,
    "deletable": true,
    "editable": true
   },
   "outputs": [
    {
     "data": {
      "image/png": "[encoded data removed]",
      "text/plain": [
       "<matplotlib.figure.Figure at 0x7f884d2e8590>"
      ]
     },
     "metadata": {},
     "output_type": "display_data"
    }
   ],
   "source": [
    "spectrum_generator.view_count_spectrum()"
   ]
  },
  {
   "cell_type": "markdown",
   "metadata": {
    "deletable": true,
    "editable": true
   },
   "source": [
    "It is even possible see which channels are above a given significance threshold. Red regions are below the supplied significance regions. "
   ]
  },
  {
   "cell_type": "code",
   "execution_count": 6,
   "metadata": {
    "collapsed": false,
    "deletable": true,
    "editable": true
   },
   "outputs": [
    {
     "data": {
      "image/png": "[encoded data removed]",
      "text/plain": [
       "<matplotlib.figure.Figure at 0x7f884cf87990>"
      ]
     },
     "metadata": {},
     "output_type": "display_data"
    }
   ],
   "source": [
    "spectrum_generator.view_count_spectrum(significance_level=5)"
   ]
  },
  {
   "cell_type": "markdown",
   "metadata": {
    "deletable": true,
    "editable": true
   },
   "source": [
    "**Note:** In 3ML, the **Significance** module is used to compute significnaces. When total counts ($N_{\\rm on}$) are Poisson distributed and the background or off-source counts ($N_{\\rm off}$) are also Poisson distributed, the significance in $\\sigma$ is calculated via the likelihood ratio derived in [Li & Ma (1980)](http://adsabs.harvard.edu/abs/1983ApJ...272..317L):\n",
    "\n",
    "$$ \\sigma = \\sqrt{-2 \\log \\lambda} = \\sqrt{2} \\left( N_{\\rm on} \\log \\left[ \\frac{1+\\alpha}{\\alpha} \\frac{N_{\\rm on}}{N_{\\rm on}+N_{\\rm off}} \\right] + N_{\\rm off} \\log \\left[ (1 + \\alpha)\\frac{N_{\\rm off}}{N_{\\rm on}+N_{\\rm off}} \\right] \\right)$$\n",
    "\n",
    "In the case that the background is Gaussian distributed, an equivalent likelihood ratio is used (see Vianello *in prep*).\n",
    "\n",
    "#### Selection\n",
    "\n",
    "Many times, there are channels that we are not valid for analysis due to poor instrument characteristics, overflow, or systematics. We then would like to mask or exclude these channels before fitting the spectrum. We provide several ways to do this and it is useful to consult the docstring. However, we review the process here.\n",
    "\n",
    "**NOTE to Xspec users: while XSpec uses integers and floats to distinguish between energies and channels\n",
    "specifications, 3ML does not, as it would be error-prone when writing scripts. Read the following documentation\n",
    "to know how to achieve the same functionality.**\n",
    "\n",
    "##### Energy selections:\n",
    "They are specified as 'emin-emax'. Energies are in keV. "
   ]
  },
  {
   "cell_type": "code",
   "execution_count": 7,
   "metadata": {
    "collapsed": false,
    "deletable": true,
    "editable": true
   },
   "outputs": [
    {
     "data": {
      "image/png": "[encoded data removed]",
      "text/plain": [
       "<matplotlib.figure.Figure at 0x7f884cccd510>"
      ]
     },
     "metadata": {},
     "output_type": "display_data"
    }
   ],
   "source": [
    "spectrum_generator.set_active_measurements('10-12.5','56.0-100.0')\n",
    "spectrum_generator.view_count_spectrum()"
   ]
  },
  {
   "cell_type": "markdown",
   "metadata": {
    "deletable": true,
    "editable": true
   },
   "source": [
    "which will set the energy range 10-12.5 keV and 56-100 keV to be\n",
    " used in the analysis. Note that there is no difference in saying 10 or 10.0.\n",
    "\n",
    "##### Channel selections:\n",
    "\n",
    "They are specified as 'c[channel min]-c[channel max]'."
   ]
  },
  {
   "cell_type": "code",
   "execution_count": 8,
   "metadata": {
    "collapsed": false,
    "deletable": true,
    "editable": true
   },
   "outputs": [
    {
     "data": {
      "image/png": "[encoded data removed]",
      "text/plain": [
       "<matplotlib.figure.Figure at 0x7f884d186b90>"
      ]
     },
     "metadata": {},
     "output_type": "display_data"
    }
   ],
   "source": [
    "spectrum_generator.set_active_measurements('c10-c12','c20-c50')\n",
    "spectrum_generator.view_count_spectrum()"
   ]
  },
  {
   "cell_type": "markdown",
   "metadata": {
    "deletable": true,
    "editable": true
   },
   "source": [
    "This will set channels 10-12 and 20-50 as active channels to be used in the analysis\n",
    "\n",
    "##### Mixed channel and energy selections:\n",
    "\n",
    "You can also specify mixed energy/channel selections, for example to go from 0.2 keV to channel 10 and from channel 20 to 1000 keV:"
   ]
  },
  {
   "cell_type": "code",
   "execution_count": 9,
   "metadata": {
    "collapsed": false,
    "deletable": true,
    "editable": true
   },
   "outputs": [
    {
     "data": {
      "image/png": "[encoded data removed]",
      "text/plain": [
       "<matplotlib.figure.Figure at 0x7f884cf6b050>"
      ]
     },
     "metadata": {},
     "output_type": "display_data"
    }
   ],
   "source": [
    "spectrum_generator.set_active_measurements('0.2-c10','c20-1000')\n",
    "spectrum_generator.view_count_spectrum()"
   ]
  },
  {
   "cell_type": "markdown",
   "metadata": {
    "deletable": true,
    "editable": true
   },
   "source": [
    "##### Use all measurements (i.e., reset to initial state):\n",
    "\n",
    "Use 'all' to select all measurements, as in:\n"
   ]
  },
  {
   "cell_type": "code",
   "execution_count": 10,
   "metadata": {
    "collapsed": false,
    "deletable": true,
    "editable": true
   },
   "outputs": [
    {
     "data": {
      "image/png": "[encoded data removed]",
      "text/plain": [
       "<matplotlib.figure.Figure at 0x7f884d0c7d90>"
      ]
     },
     "metadata": {},
     "output_type": "display_data"
    }
   ],
   "source": [
    "spectrum_generator.set_active_measurements('all')\n",
    "spectrum_generator.view_count_spectrum()"
   ]
  },
  {
   "cell_type": "markdown",
   "metadata": {
    "deletable": true,
    "editable": true
   },
   "source": [
    "##### Exclude measurements:\n",
    "\n",
    "Excluding measurements work as selecting measurements, but with the \"exclude\" keyword set to the energies and/or channels to be excluded. To exclude between channel 10 and 20 keV and 50 keV to channel 120 do:"
   ]
  },
  {
   "cell_type": "code",
   "execution_count": 11,
   "metadata": {
    "collapsed": false,
    "deletable": true,
    "editable": true,
    "scrolled": false
   },
   "outputs": [
    {
     "data": {
      "image/png": "[encoded data removed]",
      "text/plain": [
       "<matplotlib.figure.Figure at 0x7f884d17bb50>"
      ]
     },
     "metadata": {},
     "output_type": "display_data"
    }
   ],
   "source": [
    "spectrum_generator.set_active_measurements(exclude=[\"c2-20\", \"50-c40\"])\n",
    "spectrum_generator.view_count_spectrum()"
   ]
  },
  {
   "cell_type": "markdown",
   "metadata": {
    "deletable": true,
    "editable": true
   },
   "source": [
    "##### Select and exclude:\n",
    "\n",
    "Call this method more than once if you need to select and exclude. For example, to select between 0.2 keV and channel 10, but exclude channel 30-50 and energy, do:"
   ]
  },
  {
   "cell_type": "code",
   "execution_count": 12,
   "metadata": {
    "collapsed": false,
    "deletable": true,
    "editable": true
   },
   "outputs": [
    {
     "data": {
      "image/png": "[encoded data removed]",
      "text/plain": [
       "<matplotlib.figure.Figure at 0x7f884cd84310>"
      ]
     },
     "metadata": {},
     "output_type": "display_data"
    }
   ],
   "source": [
    "spectrum_generator.set_active_measurements(\"0.2-c10\",exclude=[\"c30-c50\"])\n",
    "spectrum_generator.view_count_spectrum()"
   ]
  },
  {
   "cell_type": "markdown",
   "metadata": {
    "deletable": true,
    "editable": true
   },
   "source": [
    "### Rebinning\n",
    "\n",
    "We can rebin the spectra based off a minimum total or background rate requried. This is useful when using profile likelihoods, however, we do not change the underlying likelihood by binning up the data. For more information, consult the statistics section.\n",
    "\n",
    "To rebin a spectrum based off the total counts, we specify the minimum counts per bin we would like, say 100:"
   ]
  },
  {
   "cell_type": "code",
   "execution_count": 13,
   "metadata": {
    "collapsed": false,
    "deletable": true,
    "editable": true
   },
   "outputs": [
    {
     "data": {
      "image/png": "[encoded data removed]",
      "text/plain": [
       "<matplotlib.figure.Figure at 0x7f884cf904d0>"
      ]
     },
     "metadata": {},
     "output_type": "display_data"
    }
   ],
   "source": [
    "spectrum_generator.set_active_measurements(\"all\")\n",
    "\n",
    "spectrum_generator.rebin_on_source(100)\n",
    "\n",
    "spectrum_generator.view_count_spectrum()"
   ]
  },
  {
   "cell_type": "markdown",
   "metadata": {
    "deletable": true,
    "editable": true
   },
   "source": [
    "We can remove the rebinning this way:"
   ]
  },
  {
   "cell_type": "code",
   "execution_count": 14,
   "metadata": {
    "collapsed": true,
    "deletable": true,
    "editable": true
   },
   "outputs": [],
   "source": [
    "spectrum_generator.remove_rebinning()"
   ]
  },
  {
   "cell_type": "markdown",
   "metadata": {
    "deletable": true,
    "editable": true
   },
   "source": [
    "Instead, when using a profile likelihood which requires at least one background count per bin to be valid, we would call:"
   ]
  },
  {
   "cell_type": "code",
   "execution_count": 15,
   "metadata": {
    "collapsed": false,
    "deletable": true,
    "editable": true
   },
   "outputs": [
    {
     "data": {
      "image/png": "[encoded data removed]",
      "text/plain": [
       "<matplotlib.figure.Figure at 0x7f884cf7bad0>"
      ]
     },
     "metadata": {},
     "output_type": "display_data"
    }
   ],
   "source": [
    "spectrum_generator.rebin_on_background(10)\n",
    "spectrum_generator.view_count_spectrum()"
   ]
  },
  {
   "cell_type": "code",
   "execution_count": 16,
   "metadata": {
    "collapsed": true,
    "deletable": true,
    "editable": true
   },
   "outputs": [],
   "source": [
    "spectrum_generator.remove_rebinning()"
   ]
  },
  {
   "cell_type": "markdown",
   "metadata": {
    "deletable": true,
    "editable": true
   },
   "source": [
    "### Fitting\n",
    "\n",
    "To fit the data, we need to create a function, a PointSouce, a Model, and either a JointLikelihood or BayesianAnalysis object. "
   ]
  },
  {
   "cell_type": "code",
   "execution_count": 17,
   "metadata": {
    "collapsed": false,
    "deletable": true,
    "editable": true
   },
   "outputs": [
    {
     "name": "stdout",
     "output_type": "stream",
     "text": [
      "Best fit values:\n",
      "\n"
     ]
    },
    {
     "data": {
      "text/html": [
       "<div>\n",
       "<table border=\"1\" class=\"dataframe\">\n",
       "  <thead>\n",
       "    <tr style=\"text-align: right;\">\n",
       "      <th></th>\n",
       "      <th>result</th>\n",
       "      <th>unit</th>\n",
       "    </tr>\n",
       "    <tr>\n",
       "      <th>parameter</th>\n",
       "      <th></th>\n",
       "      <th></th>\n",
       "    </tr>\n",
       "  </thead>\n",
       "  <tbody>\n",
       "    <tr>\n",
       "      <th>mysource.spectrum.main.Blackbody.K</th>\n",
       "      <td>(9.700 +/- 0.7) x 10^-2</td>\n",
       "      <td>1 / (cm2 keV3 s)</td>\n",
       "    </tr>\n",
       "    <tr>\n",
       "      <th>mysource.spectrum.main.Blackbody.kT</th>\n",
       "      <td>(1.920 +/- 0.04) x 10</td>\n",
       "      <td>keV</td>\n",
       "    </tr>\n",
       "  </tbody>\n",
       "</table>\n",
       "</div>"
      ],
      "text/plain": [
       "                                                      result              unit\n",
       "parameter                                                                     \n",
       "mysource.spectrum.main.Blackbody.K   (9.700 +/- 0.7) x 10^-2  1 / (cm2 keV3 s)\n",
       "mysource.spectrum.main.Blackbody.kT    (1.920 +/- 0.04) x 10               keV"
      ]
     },
     "metadata": {},
     "output_type": "display_data"
    },
    {
     "name": "stdout",
     "output_type": "stream",
     "text": [
      "\n",
      "Correlation matrix:\n",
      "\n"
     ]
    },
    {
     "data": {
      "text/html": [
       "<table id=\"table140223383482512\">\n",
       "<tr><td>1.00</td><td>-0.92</td></tr>\n",
       "<tr><td>-0.92</td><td>1.00</td></tr>\n",
       "</table>"
      ],
      "text/plain": [
       " 1.00 -0.92\n",
       "-0.92  1.00"
      ]
     },
     "metadata": {},
     "output_type": "display_data"
    },
    {
     "name": "stdout",
     "output_type": "stream",
     "text": [
      "\n",
      "Values of -log(likelihood) at the minimum:\n",
      "\n"
     ]
    },
    {
     "data": {
      "text/html": [
       "<div>\n",
       "<table border=\"1\" class=\"dataframe\">\n",
       "  <thead>\n",
       "    <tr style=\"text-align: right;\">\n",
       "      <th></th>\n",
       "      <th>-log(likelihood)</th>\n",
       "    </tr>\n",
       "  </thead>\n",
       "  <tbody>\n",
       "    <tr>\n",
       "      <th>fake</th>\n",
       "      <td>223.150497</td>\n",
       "    </tr>\n",
       "    <tr>\n",
       "      <th>total</th>\n",
       "      <td>223.150497</td>\n",
       "    </tr>\n",
       "  </tbody>\n",
       "</table>\n",
       "</div>"
      ],
      "text/plain": [
       "       -log(likelihood)\n",
       "fake         223.150497\n",
       "total        223.150497"
      ]
     },
     "metadata": {},
     "output_type": "display_data"
    },
    {
     "name": "stdout",
     "output_type": "stream",
     "text": [
      "\n",
      "Values of statistical measures:\n",
      "\n"
     ]
    },
    {
     "data": {
      "text/html": [
       "<div>\n",
       "<table border=\"1\" class=\"dataframe\">\n",
       "  <thead>\n",
       "    <tr style=\"text-align: right;\">\n",
       "      <th></th>\n",
       "      <th>statistical measures</th>\n",
       "    </tr>\n",
       "  </thead>\n",
       "  <tbody>\n",
       "    <tr>\n",
       "      <th>AIC</th>\n",
       "      <td>450.556313</td>\n",
       "    </tr>\n",
       "    <tr>\n",
       "      <th>BIC</th>\n",
       "      <td>454.125040</td>\n",
       "    </tr>\n",
       "  </tbody>\n",
       "</table>\n",
       "</div>"
      ],
      "text/plain": [
       "     statistical measures\n",
       "AIC            450.556313\n",
       "BIC            454.125040"
      ]
     },
     "metadata": {},
     "output_type": "display_data"
    }
   ],
   "source": [
    "bb = Blackbody()\n",
    "\n",
    "pts = PointSource('mysource',0,0,spectral_shape=bb)\n",
    "\n",
    "model = Model(pts)\n",
    "\n",
    "# MLE fitting\n",
    "\n",
    "jl = JointLikelihood(model,DataList(spectrum_generator))\n",
    "\n",
    "result = jl.fit()"
   ]
  },
  {
   "cell_type": "code",
   "execution_count": 18,
   "metadata": {
    "collapsed": false,
    "deletable": true,
    "editable": true
   },
   "outputs": [
    {
     "data": {
      "image/png": "[encoded data removed]",
      "text/plain": [
       "<matplotlib.figure.Figure at 0x7f884cf8e250>"
      ]
     },
     "metadata": {},
     "output_type": "display_data"
    }
   ],
   "source": [
    "count_fig1 = spectrum_generator.display_model(min_rate=10)"
   ]
  },
  {
   "cell_type": "code",
   "execution_count": 19,
   "metadata": {
    "collapsed": false,
    "deletable": true,
    "editable": true
   },
   "outputs": [
    {
     "data": {
      "application/vnd.jupyter.widget-view+json": {
       "model_id": "a1d6df019c714f7c98d10b2f24d50a0f"
      }
     },
     "metadata": {},
     "output_type": "display_data"
    },
    {
     "data": {
      "image/png": "[encoded data removed]",
      "text/plain": [
       "<matplotlib.figure.Figure at 0x7f884cb424d0>"
      ]
     },
     "metadata": {},
     "output_type": "display_data"
    }
   ],
   "source": [
    "_ = plot_point_source_spectra(jl.results, flux_unit='erg/(cm2 s keV)')\n",
    "\n",
    "_ = plt.ylim(1E-20)"
   ]
  },
  {
   "cell_type": "markdown",
   "metadata": {
    "deletable": true,
    "editable": true
   },
   "source": [
    "Perhaps we want to fit a different model and compare the results. We change the spectral model and will overplot the fit's expected counts with the fit to the blackbody."
   ]
  },
  {
   "cell_type": "code",
   "execution_count": 20,
   "metadata": {
    "collapsed": false,
    "deletable": true,
    "editable": true
   },
   "outputs": [
    {
     "name": "stdout",
     "output_type": "stream",
     "text": [
      "Best fit values:\n",
      "\n"
     ]
    },
    {
     "data": {
      "text/html": [
       "<div>\n",
       "<table border=\"1\" class=\"dataframe\">\n",
       "  <thead>\n",
       "    <tr style=\"text-align: right;\">\n",
       "      <th></th>\n",
       "      <th>result</th>\n",
       "      <th>unit</th>\n",
       "    </tr>\n",
       "    <tr>\n",
       "      <th>parameter</th>\n",
       "      <th></th>\n",
       "      <th></th>\n",
       "    </tr>\n",
       "  </thead>\n",
       "  <tbody>\n",
       "    <tr>\n",
       "      <th>mysource.spectrum.main.Powerlaw.K</th>\n",
       "      <td>(10.000 +/- 0.017) x 10^2</td>\n",
       "      <td>1 / (cm2 keV s)</td>\n",
       "    </tr>\n",
       "    <tr>\n",
       "      <th>mysource.spectrum.main.Powerlaw.index</th>\n",
       "      <td>-1.370 +/- 0.013</td>\n",
       "      <td></td>\n",
       "    </tr>\n",
       "  </tbody>\n",
       "</table>\n",
       "</div>"
      ],
      "text/plain": [
       "                                                          result  \\\n",
       "parameter                                                          \n",
       "mysource.spectrum.main.Powerlaw.K      (10.000 +/- 0.017) x 10^2   \n",
       "mysource.spectrum.main.Powerlaw.index           -1.370 +/- 0.013   \n",
       "\n",
       "                                                  unit  \n",
       "parameter                                               \n",
       "mysource.spectrum.main.Powerlaw.K      1 / (cm2 keV s)  \n",
       "mysource.spectrum.main.Powerlaw.index                   "
      ]
     },
     "metadata": {},
     "output_type": "display_data"
    },
    {
     "name": "stdout",
     "output_type": "stream",
     "text": [
      "\n",
      "Correlation matrix:\n",
      "\n"
     ]
    },
    {
     "data": {
      "text/html": [
       "<table id=\"table140223377856848\">\n",
       "<tr><td>1.00</td><td>-0.02</td></tr>\n",
       "<tr><td>-0.02</td><td>1.00</td></tr>\n",
       "</table>"
      ],
      "text/plain": [
       " 1.00 -0.02\n",
       "-0.02  1.00"
      ]
     },
     "metadata": {},
     "output_type": "display_data"
    },
    {
     "name": "stdout",
     "output_type": "stream",
     "text": [
      "\n",
      "Values of -log(likelihood) at the minimum:\n",
      "\n"
     ]
    },
    {
     "data": {
      "text/html": [
       "<div>\n",
       "<table border=\"1\" class=\"dataframe\">\n",
       "  <thead>\n",
       "    <tr style=\"text-align: right;\">\n",
       "      <th></th>\n",
       "      <th>-log(likelihood)</th>\n",
       "    </tr>\n",
       "  </thead>\n",
       "  <tbody>\n",
       "    <tr>\n",
       "      <th>fake</th>\n",
       "      <td>703.319139</td>\n",
       "    </tr>\n",
       "    <tr>\n",
       "      <th>total</th>\n",
       "      <td>703.319139</td>\n",
       "    </tr>\n",
       "  </tbody>\n",
       "</table>\n",
       "</div>"
      ],
      "text/plain": [
       "       -log(likelihood)\n",
       "fake         703.319139\n",
       "total        703.319139"
      ]
     },
     "metadata": {},
     "output_type": "display_data"
    },
    {
     "name": "stdout",
     "output_type": "stream",
     "text": [
      "\n",
      "Values of statistical measures:\n",
      "\n"
     ]
    },
    {
     "data": {
      "text/html": [
       "<div>\n",
       "<table border=\"1\" class=\"dataframe\">\n",
       "  <thead>\n",
       "    <tr style=\"text-align: right;\">\n",
       "      <th></th>\n",
       "      <th>statistical measures</th>\n",
       "    </tr>\n",
       "  </thead>\n",
       "  <tbody>\n",
       "    <tr>\n",
       "      <th>AIC</th>\n",
       "      <td>1410.893597</td>\n",
       "    </tr>\n",
       "    <tr>\n",
       "      <th>BIC</th>\n",
       "      <td>1414.462324</td>\n",
       "    </tr>\n",
       "  </tbody>\n",
       "</table>\n",
       "</div>"
      ],
      "text/plain": [
       "     statistical measures\n",
       "AIC           1410.893597\n",
       "BIC           1414.462324"
      ]
     },
     "metadata": {},
     "output_type": "display_data"
    }
   ],
   "source": [
    "import warnings\n",
    "\n",
    "pl = Powerlaw()\n",
    "\n",
    "pts = PointSource('mysource',0,0,spectral_shape=pl)\n",
    "\n",
    "model = Model(pts)\n",
    "\n",
    "# MLE fitting\n",
    "\n",
    "jl = JointLikelihood(model,DataList(spectrum_generator))\n",
    "\n",
    "with warnings.catch_warnings():\n",
    "    warnings.simplefilter('ignore')\n",
    "\n",
    "    result = jl.fit()"
   ]
  },
  {
   "cell_type": "code",
   "execution_count": 21,
   "metadata": {
    "collapsed": false,
    "deletable": true,
    "editable": true
   },
   "outputs": [
    {
     "data": {
      "image/png": "[encoded data removed]",
      "text/plain": [
       "<matplotlib.figure.Figure at 0x7f884cf8e250>"
      ]
     },
     "execution_count": 21,
     "metadata": {},
     "output_type": "execute_result"
    }
   ],
   "source": [
    "spectrum_generator.display_model(min_rate=10,\n",
    "                                 show_data=False,\n",
    "                                 show_residuals=True,\n",
    "                                 data_color='g',\n",
    "                                 model_color='b',\n",
    "                                 model_label='powerlaw',\n",
    "                                 model_subplot=count_fig1.axes)"
   ]
  },
  {
   "cell_type": "markdown",
   "metadata": {
    "deletable": true,
    "editable": true
   },
   "source": [
    "Examining the fit in count space lets us easily see that the fit with the powerlaw model is very poor. We can of course deterimine the fit quality numerically, but this is saved for another section."
   ]
  },
  {
   "cell_type": "markdown",
   "metadata": {
    "deletable": true,
    "editable": true
   },
   "source": [
    "## DispersionSpectrumLike\n",
    "\n",
    "Instruments that exhibit energy dispersion must have their spectra fit through a process called forward folding. Let $R(\\varepsilon,E)$ be our response converting between true (monte carlo) energy ($E$) and detector channel/energy ($\\varepsilon$), $f(E, \\vec{\\phi}_{\\rm s})$ be our photon model which is a function of $E$ and  source model parameters $\\vec{\\phi}_{\\rm s}$. Then, the source counts ($S_{c} (\\vec{\\phi}_{\\rm s})$) registered in the detector between channel (c) with energy boundaries $E_{{\\rm min}, c}$ and  $E_{{\\rm max}, c}$ (in the absence of background) are given by the convolution of the photon model with the response:\n",
    "\n",
    "$$S_{c} (\\vec{\\phi}_{\\rm s}) =\n",
    "  \\int_{0}^\\infty {\\rm d} E \\, f(E, \\vec{\\phi}_{\\rm s})\n",
    "  \\int_{E_{{\\rm min}, c}}^{E_{{\\rm max}, c}} {\\rm d} \\varepsilon\n",
    "  \\, R(\\varepsilon, E) $$\n",
    "\n",
    "Therefore, to fit the data in count space, we assume a photon model, fold it through the response, and calculate the predicted counts. This process is iterated on the source model parameters via likelihood minimization or posterior sampling until an optimal set of parameters is found. \n",
    "\n",
    "To handle dispersed spectra, 3ML provides the **DispersionSpectrumLike** plugin.\n"
   ]
  },
  {
   "cell_type": "code",
   "execution_count": 22,
   "metadata": {
    "collapsed": false,
    "deletable": true,
    "editable": true
   },
   "outputs": [
    {
     "name": "stderr",
     "output_type": "stream",
     "text": [
      "\n",
      "WARNING UserWarning: The default choice for MATRIX extension failed:KeyError(\"Extension ('MATRIX', 1) not found.\",)available: None 'EBOUNDS' 'SPECRESP MATRIX'\n",
      "\n"
     ]
    }
   ],
   "source": [
    "from threeML.plugins.DispersionSpectrumLike import DispersionSpectrumLike\n",
    "from threeML.plugins.OGIP.response import OGIPResponse\n",
    "from threeML.io.package_data import get_path_of_data_file\n",
    "\n",
    "\n",
    "# we will use a demo response\n",
    "response = OGIPResponse(get_path_of_data_file('datasets/ogip_powerlaw.rsp'))\n",
    "\n",
    "\n",
    "\n",
    "source_function = Broken_powerlaw(K=1E-2,\n",
    "                                  alpha=0,\n",
    "                                  beta=-2,\n",
    "                                  xb=2000,\n",
    "                                  piv=200\n",
    "                                 )\n",
    "\n",
    "background_function = Powerlaw(K=10,\n",
    "                               index=-1.5,\n",
    "                               piv=100.\n",
    "                              )\n",
    "\n",
    "\n",
    "\n",
    "dispersion_spectrum_generator = DispersionSpectrumLike.from_function('test',\n",
    "                                 source_function=source_function,\n",
    "                                 response=response,\n",
    "                                 background_function=background_function)"
   ]
  },
  {
   "cell_type": "markdown",
   "metadata": {
    "deletable": true,
    "editable": true
   },
   "source": [
    "We can view the response and the count spectrum created."
   ]
  },
  {
   "cell_type": "code",
   "execution_count": 23,
   "metadata": {
    "collapsed": false,
    "deletable": true,
    "editable": true
   },
   "outputs": [
    {
     "data": {
      "image/png": "[encoded data removed]",
      "text/plain": [
       "<matplotlib.figure.Figure at 0x7f884cf63890>"
      ]
     },
     "metadata": {},
     "output_type": "display_data"
    }
   ],
   "source": [
    "_ = dispersion_spectrum_generator.display_rsp()"
   ]
  },
  {
   "cell_type": "code",
   "execution_count": 24,
   "metadata": {
    "collapsed": false,
    "deletable": true,
    "editable": true
   },
   "outputs": [
    {
     "data": {
      "image/png": "[encoded data removed]",
      "text/plain": [
       "<matplotlib.figure.Figure at 0x7f884c190310>"
      ]
     },
     "metadata": {},
     "output_type": "display_data"
    }
   ],
   "source": [
    "dispersion_spectrum_generator.view_count_spectrum()"
   ]
  },
  {
   "cell_type": "markdown",
   "metadata": {
    "deletable": true,
    "editable": true
   },
   "source": [
    "All the functionality of **SpectrumLike** is inherited in **DispersionSpectrumLike**. Therefore, fitting, and examination of the data is the same.\n",
    "\n",
    "\n",
    "## OGIPLike\n",
    "\n",
    "Finally, many x-ray mission provide data in the form of fits files known and pulse-height analysis (PHA) data. The keywords for the information in the data are known as the Office of Guest Investigators Program (OGIP) standard. While these data are always a form of binned spectra, 3ML provide a convience plugin for reading OGIP standard PHA Type I (single spectrum) and Type II (multiple spectrum) files.\n",
    "\n",
    "The **OGIPLike** plugin inherits from **DispersionSpectrumLike** and thus needs either a full response or a redistribution matrix (RMF) and ancillary response (ARF) file. The plugin will prove the keywords in the data files to automatically figure out the correct likelihood for the observation."
   ]
  },
  {
   "cell_type": "code",
   "execution_count": 25,
   "metadata": {
    "collapsed": false,
    "deletable": true,
    "editable": true
   },
   "outputs": [
    {
     "name": "stdout",
     "output_type": "stream",
     "text": [
      "Auto-probed noise models:\n",
      "- observation: poisson\n",
      "- background: poisson\n"
     ]
    },
    {
     "name": "stderr",
     "output_type": "stream",
     "text": [
      "\n",
      "WARNING UserWarning: FILTER is not set. This is not a compliant OGIP file. Assuming no FILTER.\n",
      "\n"
     ]
    }
   ],
   "source": [
    "ogip_data = OGIPLike('ogip',\n",
    "                     observation=get_path_of_data_file('datasets/ogip_powerlaw.pha'),\n",
    "                     background = get_path_of_data_file('datasets/ogip_powerlaw.bak'),\n",
    "                     response=get_path_of_data_file('datasets/ogip_powerlaw.rsp')\n",
    "                    )"
   ]
  },
  {
   "cell_type": "code",
   "execution_count": 26,
   "metadata": {
    "collapsed": false,
    "deletable": true,
    "editable": true
   },
   "outputs": [
    {
     "data": {
      "text/html": [
       "<div>\n",
       "<table border=\"1\" class=\"dataframe\">\n",
       "  <thead>\n",
       "    <tr style=\"text-align: right;\">\n",
       "      <th></th>\n",
       "      <th>0</th>\n",
       "    </tr>\n",
       "  </thead>\n",
       "  <tbody>\n",
       "    <tr>\n",
       "      <th>bak file</th>\n",
       "      <td>/home/giacomov/work_env/local/lib/python2.7/si...</td>\n",
       "    </tr>\n",
       "    <tr>\n",
       "      <th>pha file</th>\n",
       "      <td>/home/giacomov/work_env/local/lib/python2.7/si...</td>\n",
       "    </tr>\n",
       "    <tr>\n",
       "      <th>n. channels</th>\n",
       "      <td>128</td>\n",
       "    </tr>\n",
       "    <tr>\n",
       "      <th>total rate</th>\n",
       "      <td>1.74</td>\n",
       "    </tr>\n",
       "    <tr>\n",
       "      <th>total bkg. rate</th>\n",
       "      <td>0.1464</td>\n",
       "    </tr>\n",
       "    <tr>\n",
       "      <th>bkg. exposure</th>\n",
       "      <td>5000</td>\n",
       "    </tr>\n",
       "    <tr>\n",
       "      <th>bkg. is poisson</th>\n",
       "      <td>True</td>\n",
       "    </tr>\n",
       "    <tr>\n",
       "      <th>exposure</th>\n",
       "      <td>200</td>\n",
       "    </tr>\n",
       "    <tr>\n",
       "      <th>is poisson</th>\n",
       "      <td>True</td>\n",
       "    </tr>\n",
       "    <tr>\n",
       "      <th>background</th>\n",
       "      <td>profiled</td>\n",
       "    </tr>\n",
       "    <tr>\n",
       "      <th>significance</th>\n",
       "      <td>31.1034</td>\n",
       "    </tr>\n",
       "    <tr>\n",
       "      <th>src/bkg area ratio</th>\n",
       "      <td>1</td>\n",
       "    </tr>\n",
       "    <tr>\n",
       "      <th>src/bkg exposure ratio</th>\n",
       "      <td>0.04</td>\n",
       "    </tr>\n",
       "    <tr>\n",
       "      <th>src/bkg scale factor</th>\n",
       "      <td>0.04</td>\n",
       "    </tr>\n",
       "    <tr>\n",
       "      <th>response</th>\n",
       "      <td>/home/giacomov/work_env/local/lib/python2.7/si...</td>\n",
       "    </tr>\n",
       "  </tbody>\n",
       "</table>\n",
       "</div>"
      ],
      "text/plain": [
       "                                                                        0\n",
       "bak file                /home/giacomov/work_env/local/lib/python2.7/si...\n",
       "pha file                /home/giacomov/work_env/local/lib/python2.7/si...\n",
       "n. channels                                                           128\n",
       "total rate                                                           1.74\n",
       "total bkg. rate                                                    0.1464\n",
       "bkg. exposure                                                        5000\n",
       "bkg. is poisson                                                      True\n",
       "exposure                                                              200\n",
       "is poisson                                                           True\n",
       "background                                                       profiled\n",
       "significance                                                      31.1034\n",
       "src/bkg area ratio                                                      1\n",
       "src/bkg exposure ratio                                               0.04\n",
       "src/bkg scale factor                                                 0.04\n",
       "response                /home/giacomov/work_env/local/lib/python2.7/si..."
      ]
     },
     "metadata": {},
     "output_type": "display_data"
    }
   ],
   "source": [
    "ogip_data.display()"
   ]
  },
  {
   "cell_type": "code",
   "execution_count": 27,
   "metadata": {
    "collapsed": false,
    "deletable": true,
    "editable": true
   },
   "outputs": [
    {
     "data": {
      "image/png": "[encoded data removed]",
      "text/plain": [
       "<matplotlib.figure.Figure at 0x7f884bfbec90>"
      ]
     },
     "metadata": {},
     "output_type": "display_data"
    }
   ],
   "source": [
    "ogip_data.view_count_spectrum()"
   ]
  },
  {
   "cell_type": "markdown",
   "metadata": {
    "deletable": true,
    "editable": true
   },
   "source": [
    "When using PHA Type II data, a spectrum number must be supplied to indicate which spectrum from the file to use. Users can also follow the XSPEC convention of specifying the spectrum number in the filename (e.g. 'my_pha.fits{1}') "
   ]
  },
  {
   "cell_type": "code",
   "execution_count": null,
   "metadata": {
    "collapsed": true,
    "deletable": true,
    "editable": true
   },
   "outputs": [],
   "source": []
  }
 ],
 "metadata": {
  "kernelspec": {
   "display_name": "Python 2",
   "language": "python",
   "name": "python2"
  },
  "language_info": {
   "codemirror_mode": {
    "name": "ipython",
    "version": 2
   },
   "file_extension": ".py",
   "mimetype": "text/x-python",
   "name": "python",
   "nbconvert_exporter": "python",
   "pygments_lexer": "ipython2",
   "version": "2.7.12"
  },
  "toc": {
   "colors": {
    "hover_highlight": "#DAA520",
    "navigate_num": "#000000",
    "navigate_text": "#333333",
    "running_highlight": "#FF0000",
    "selected_highlight": "#FFD700",
    "sidebar_border": "#EEEEEE",
    "wrapper_background": "#FFFFFF"
   },
   "moveMenuLeft": true,
   "nav_menu": {
    "height": "26px",
    "width": "254px"
   },
   "navigate_menu": true,
   "number_sections": true,
   "sideBar": true,
   "threshold": 4,
   "toc_cell": false,
   "toc_section_display": "block",
   "toc_window_display": false,
   "widenNotebook": false
  },
  "varInspector": {
   "cols": {
    "lenName": 16,
    "lenType": 16,
    "lenVar": 40
   },
   "kernels_config": {
    "python": {
     "delete_cmd_postfix": "",
     "delete_cmd_prefix": "del ",
     "library": "var_list.py",
     "varRefreshCmd": "print(var_dic_list())"
    },
    "r": {
     "delete_cmd_postfix": ") ",
     "delete_cmd_prefix": "rm(",
     "library": "var_list.r",
     "varRefreshCmd": "cat(var_dic_list()) "
    }
   },
   "types_to_exclude": [
    "module",
    "function",
    "builtin_function_or_method",
    "instance",
    "_Feature"
   ],
   "window_display": false
  }
 },
 "nbformat": 4,
 "nbformat_minor": 2
}
