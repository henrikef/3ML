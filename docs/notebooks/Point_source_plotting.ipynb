{
 "cells": [
  {
   "cell_type": "markdown",
   "metadata": {},
   "source": [
    "# Point source plotting basics\n",
    "In 3ML, we distinguish between **data** and **model** plotting. Data plots contian real data points and the over-plotted model is (sometimes) folded through an instrument response. Therefore, the x-axis is not always in the same *units* across instruments if there is energy dispersion. \n",
    "\n",
    "However, all instuments see the same model and a multi-wavelength fit can be viewed in model space without complication. 3ML uses one interface to plot both MLE and Bayesian fitted models. To demonstrate we will use toy data simulated from a powerlaw and two gaussians for MLE fits and an exponentially cutoff power law with one gaussian for Bayesian fits.\n",
    "\n",
    "First we load the analysis results:\n"
   ]
  },
  {
   "cell_type": "code",
   "execution_count": 1,
   "metadata": {
    "ExecuteTime": {
     "end_time": "2020-04-13T07:53:23.440768Z",
     "start_time": "2020-04-13T07:53:21.262690Z"
    }
   },
   "outputs": [
    {
     "name": "stderr",
     "output_type": "stream",
     "text": [
      "/Users/jburgess/coding/tml/threeml/threeML/__init__.py:12: UserWarning: No DISPLAY variable set. Using backend for graphics without display (Agg)\n",
      "  warnings.warn(\"No DISPLAY variable set. Using backend for graphics without display (Agg)\")\n",
      "/Users/jburgess/coding/tml/astromodels/astromodels/functions/function.py:139: YAMLLoadWarning: calling yaml.load() without Loader=... is deprecated, as the default Loader is unsafe. Please read https://msg.pyyaml.org/load for full details.\n",
      "  function_definition = my_yaml.load(dct['__doc__'])\n",
      "/Users/jburgess/coding/tml/astromodels/astromodels/core/parameter.py:555: UserWarning: We have set the min_value of K to 1e-99 because there was a postive transform\n",
      "  warnings.warn('We have set the min_value of %s to 1e-99 because there was a postive transform' % self.path)\n",
      "/Users/jburgess/coding/tml/astromodels/astromodels/core/parameter.py:555: UserWarning: We have set the min_value of xc to 1e-99 because there was a postive transform\n",
      "  warnings.warn('We have set the min_value of %s to 1e-99 because there was a postive transform' % self.path)\n"
     ]
    },
    {
     "name": "stdout",
     "output_type": "stream",
     "text": [
      "Configuration read from /Users/jburgess/.threeML/threeML_config.yml\n"
     ]
    },
    {
     "name": "stderr",
     "output_type": "stream",
     "text": [
      "\n",
      "WARNING RuntimeWarning: numpy.ufunc size changed, may indicate binary incompatibility. Expected 192 from C header, got 216 from PyObject\n",
      "\n",
      "WARNING: AstropyDeprecationWarning: The timefunc function is deprecated and may be removed in a future version.\n",
      "        Use astroquery.utils.timer.timefunc instead. [astropy.utils.timer]\n",
      "WARNING:astropy:AstropyDeprecationWarning: The timefunc function is deprecated and may be removed in a future version.\n",
      "        Use astroquery.utils.timer.timefunc instead.\n",
      "WARNING: AstropyDeprecationWarning: The timefunc function is deprecated and may be removed in a future version.\n",
      "        Use astroquery.utils.timer.timefunc instead. [astroquery.vo_conesearch.conesearch]\n",
      "WARNING:astropy:AstropyDeprecationWarning: The timefunc function is deprecated and may be removed in a future version.\n",
      "        Use astroquery.utils.timer.timefunc instead.\n",
      "\n",
      "WARNING YAMLLoadWarning: calling yaml.load() without Loader=... is deprecated, as the default Loader is unsafe. Please read https://msg.pyyaml.org/load for full details.\n",
      "\n"
     ]
    }
   ],
   "source": [
    "%matplotlib inline\n",
    "jtplot.style(context=\"talk\", fscale=1, ticks=True, grid=False)\n",
    "\n",
    "\n",
    "import matplotlib.pyplot as plt\n",
    "\n",
    "plt.style.use(\"mike\")\n",
    "import numpy as np\n",
    "\n",
    "from threeML import *\n",
    "from threeML.io.package_data import get_path_of_data_file"
   ]
  },
  {
   "cell_type": "code",
   "execution_count": 4,
   "metadata": {
    "ExecuteTime": {
     "end_time": "2020-04-13T07:54:16.785953Z",
     "start_time": "2020-04-13T07:54:16.705932Z"
    }
   },
   "outputs": [
    {
     "name": "stderr",
     "output_type": "stream",
     "text": [
      "\n",
      "WARNING YAMLLoadWarning: calling yaml.load() without Loader=... is deprecated, as the default Loader is unsafe. Please read https://msg.pyyaml.org/load for full details.\n",
      "\n",
      "\n",
      "WARNING UserWarning: We have set the min_value of composite.K_1 to 1e-99 because there was a postive transform\n",
      "\n"
     ]
    },
    {
     "ename": "CannotConvertValueToNewUnits",
     "evalue": "Cannot convert the value 10.61718649156905 from cm2 keV s to the new units 1 / (cm2 keV s)",
     "output_type": "error",
     "traceback": [
      "\u001b[0;31m---------------------------------------------------------------------------\u001b[0m",
      "\u001b[0;31mUnitConversionError\u001b[0m                       Traceback (most recent call last)",
      "\u001b[0;32m~/coding/tml/astromodels/astromodels/core/parameter.py\u001b[0m in \u001b[0;36m_set_unit\u001b[0;34m(self, input_unit)\u001b[0m\n\u001b[1;32m    291\u001b[0m \u001b[0;34m\u001b[0m\u001b[0m\n\u001b[0;32m--> 292\u001b[0;31m                 \u001b[0mself\u001b[0m\u001b[0;34m.\u001b[0m\u001b[0mvalue\u001b[0m \u001b[0;34m=\u001b[0m \u001b[0mself\u001b[0m\u001b[0;34m.\u001b[0m\u001b[0mas_quantity\u001b[0m\u001b[0;34m.\u001b[0m\u001b[0mto\u001b[0m\u001b[0;34m(\u001b[0m\u001b[0mnew_unit\u001b[0m\u001b[0;34m)\u001b[0m\u001b[0;34m.\u001b[0m\u001b[0mvalue\u001b[0m\u001b[0;34m\u001b[0m\u001b[0;34m\u001b[0m\u001b[0m\n\u001b[0m\u001b[1;32m    293\u001b[0m \u001b[0;34m\u001b[0m\u001b[0m\n",
      "\u001b[0;32m~/.environs/3ml/lib/python3.7/site-packages/astropy-4.0.1.post1-py3.7-macosx-10.15-x86_64.egg/astropy/units/quantity.py\u001b[0m in \u001b[0;36mto\u001b[0;34m(self, unit, equivalencies)\u001b[0m\n\u001b[1;32m    688\u001b[0m         \u001b[0munit\u001b[0m \u001b[0;34m=\u001b[0m \u001b[0mUnit\u001b[0m\u001b[0;34m(\u001b[0m\u001b[0munit\u001b[0m\u001b[0;34m)\u001b[0m\u001b[0;34m\u001b[0m\u001b[0;34m\u001b[0m\u001b[0m\n\u001b[0;32m--> 689\u001b[0;31m         \u001b[0;32mreturn\u001b[0m \u001b[0mself\u001b[0m\u001b[0;34m.\u001b[0m\u001b[0m_new_view\u001b[0m\u001b[0;34m(\u001b[0m\u001b[0mself\u001b[0m\u001b[0;34m.\u001b[0m\u001b[0m_to_value\u001b[0m\u001b[0;34m(\u001b[0m\u001b[0munit\u001b[0m\u001b[0;34m,\u001b[0m \u001b[0mequivalencies\u001b[0m\u001b[0;34m)\u001b[0m\u001b[0;34m,\u001b[0m \u001b[0munit\u001b[0m\u001b[0;34m)\u001b[0m\u001b[0;34m\u001b[0m\u001b[0;34m\u001b[0m\u001b[0m\n\u001b[0m\u001b[1;32m    690\u001b[0m \u001b[0;34m\u001b[0m\u001b[0m\n",
      "\u001b[0;32m~/.environs/3ml/lib/python3.7/site-packages/astropy-4.0.1.post1-py3.7-macosx-10.15-x86_64.egg/astropy/units/quantity.py\u001b[0m in \u001b[0;36m_to_value\u001b[0;34m(self, unit, equivalencies)\u001b[0m\n\u001b[1;32m    660\u001b[0m         return self.unit.to(unit, self.view(np.ndarray),\n\u001b[0;32m--> 661\u001b[0;31m                             equivalencies=equivalencies)\n\u001b[0m\u001b[1;32m    662\u001b[0m \u001b[0;34m\u001b[0m\u001b[0m\n",
      "\u001b[0;32m~/.environs/3ml/lib/python3.7/site-packages/astropy-4.0.1.post1-py3.7-macosx-10.15-x86_64.egg/astropy/units/core.py\u001b[0m in \u001b[0;36mto\u001b[0;34m(self, other, value, equivalencies)\u001b[0m\n\u001b[1;32m    986\u001b[0m         \u001b[0;32melse\u001b[0m\u001b[0;34m:\u001b[0m\u001b[0;34m\u001b[0m\u001b[0;34m\u001b[0m\u001b[0m\n\u001b[0;32m--> 987\u001b[0;31m             \u001b[0;32mreturn\u001b[0m \u001b[0mself\u001b[0m\u001b[0;34m.\u001b[0m\u001b[0m_get_converter\u001b[0m\u001b[0;34m(\u001b[0m\u001b[0mother\u001b[0m\u001b[0;34m,\u001b[0m \u001b[0mequivalencies\u001b[0m\u001b[0;34m=\u001b[0m\u001b[0mequivalencies\u001b[0m\u001b[0;34m)\u001b[0m\u001b[0;34m(\u001b[0m\u001b[0mvalue\u001b[0m\u001b[0;34m)\u001b[0m\u001b[0;34m\u001b[0m\u001b[0;34m\u001b[0m\u001b[0m\n\u001b[0m\u001b[1;32m    988\u001b[0m \u001b[0;34m\u001b[0m\u001b[0m\n",
      "\u001b[0;32m~/.environs/3ml/lib/python3.7/site-packages/astropy-4.0.1.post1-py3.7-macosx-10.15-x86_64.egg/astropy/units/core.py\u001b[0m in \u001b[0;36m_get_converter\u001b[0;34m(self, other, equivalencies)\u001b[0m\n\u001b[1;32m    917\u001b[0m \u001b[0;34m\u001b[0m\u001b[0m\n\u001b[0;32m--> 918\u001b[0;31m             \u001b[0;32mraise\u001b[0m \u001b[0mexc\u001b[0m\u001b[0;34m\u001b[0m\u001b[0;34m\u001b[0m\u001b[0m\n\u001b[0m\u001b[1;32m    919\u001b[0m \u001b[0;34m\u001b[0m\u001b[0m\n",
      "\u001b[0;32m~/.environs/3ml/lib/python3.7/site-packages/astropy-4.0.1.post1-py3.7-macosx-10.15-x86_64.egg/astropy/units/core.py\u001b[0m in \u001b[0;36m_get_converter\u001b[0;34m(self, other, equivalencies)\u001b[0m\n\u001b[1;32m    903\u001b[0m             return self._apply_equivalencies(\n\u001b[0;32m--> 904\u001b[0;31m                 self, other, self._normalize_equivalencies(equivalencies))\n\u001b[0m\u001b[1;32m    905\u001b[0m         \u001b[0;32mexcept\u001b[0m \u001b[0mUnitsError\u001b[0m \u001b[0;32mas\u001b[0m \u001b[0mexc\u001b[0m\u001b[0;34m:\u001b[0m\u001b[0;34m\u001b[0m\u001b[0;34m\u001b[0m\u001b[0m\n",
      "\u001b[0;32m~/.environs/3ml/lib/python3.7/site-packages/astropy-4.0.1.post1-py3.7-macosx-10.15-x86_64.egg/astropy/units/core.py\u001b[0m in \u001b[0;36m_apply_equivalencies\u001b[0;34m(self, unit, other, equivalencies)\u001b[0m\n\u001b[1;32m    887\u001b[0m             \"{} and {} are not convertible\".format(\n\u001b[0;32m--> 888\u001b[0;31m                 unit_str, other_str))\n\u001b[0m\u001b[1;32m    889\u001b[0m \u001b[0;34m\u001b[0m\u001b[0m\n",
      "\u001b[0;31mUnitConversionError\u001b[0m: 'cm2 keV s' and '1 / (cm2 keV s)' are not convertible",
      "\nDuring handling of the above exception, another exception occurred:\n",
      "\u001b[0;31mCannotConvertValueToNewUnits\u001b[0m              Traceback (most recent call last)",
      "\u001b[0;32m<ipython-input-4-76c4bc7cc062>\u001b[0m in \u001b[0;36m<module>\u001b[0;34m\u001b[0m\n\u001b[1;32m      1\u001b[0m \u001b[0;31m#mle1 = load_analysis_results(get_path_of_data_file(\"datasets/toy_xy_mle1.fits\"))\u001b[0m\u001b[0;34m\u001b[0m\u001b[0;34m\u001b[0m\u001b[0;34m\u001b[0m\u001b[0m\n\u001b[0;32m----> 2\u001b[0;31m \u001b[0mbayes1\u001b[0m \u001b[0;34m=\u001b[0m \u001b[0mload_analysis_results\u001b[0m\u001b[0;34m(\u001b[0m\u001b[0mget_path_of_data_file\u001b[0m\u001b[0;34m(\u001b[0m\u001b[0;34m\"datasets/toy_xy_bayes2.fits\"\u001b[0m\u001b[0;34m)\u001b[0m\u001b[0;34m)\u001b[0m\u001b[0;34m\u001b[0m\u001b[0;34m\u001b[0m\u001b[0m\n\u001b[0m",
      "\u001b[0;32m~/coding/tml/threeml/threeML/analysis_results.py\u001b[0m in \u001b[0;36mload_analysis_results\u001b[0;34m(fits_file)\u001b[0m\n\u001b[1;32m     79\u001b[0m         \u001b[0;32mif\u001b[0m \u001b[0mn_results\u001b[0m \u001b[0;34m==\u001b[0m \u001b[0;36m1\u001b[0m\u001b[0;34m:\u001b[0m\u001b[0;34m\u001b[0m\u001b[0;34m\u001b[0m\u001b[0m\n\u001b[1;32m     80\u001b[0m \u001b[0;34m\u001b[0m\u001b[0m\n\u001b[0;32m---> 81\u001b[0;31m             \u001b[0;32mreturn\u001b[0m \u001b[0m_load_one_results\u001b[0m\u001b[0;34m(\u001b[0m\u001b[0mf\u001b[0m\u001b[0;34m[\u001b[0m\u001b[0;34m'ANALYSIS_RESULTS'\u001b[0m\u001b[0;34m,\u001b[0m \u001b[0;36m1\u001b[0m\u001b[0;34m]\u001b[0m\u001b[0;34m)\u001b[0m\u001b[0;34m\u001b[0m\u001b[0;34m\u001b[0m\u001b[0m\n\u001b[0m\u001b[1;32m     82\u001b[0m \u001b[0;34m\u001b[0m\u001b[0m\n\u001b[1;32m     83\u001b[0m         \u001b[0;32melse\u001b[0m\u001b[0;34m:\u001b[0m\u001b[0;34m\u001b[0m\u001b[0;34m\u001b[0m\u001b[0m\n",
      "\u001b[0;32m~/coding/tml/threeml/threeML/analysis_results.py\u001b[0m in \u001b[0;36m_load_one_results\u001b[0;34m(fits_extension)\u001b[0m\n\u001b[1;32m     94\u001b[0m     \u001b[0mmodel_dict\u001b[0m \u001b[0;34m=\u001b[0m \u001b[0mmy_yaml\u001b[0m\u001b[0;34m.\u001b[0m\u001b[0mload\u001b[0m\u001b[0;34m(\u001b[0m\u001b[0mserialized_model\u001b[0m\u001b[0;34m)\u001b[0m\u001b[0;34m\u001b[0m\u001b[0;34m\u001b[0m\u001b[0m\n\u001b[1;32m     95\u001b[0m \u001b[0;34m\u001b[0m\u001b[0m\n\u001b[0;32m---> 96\u001b[0;31m     \u001b[0moptimized_model\u001b[0m \u001b[0;34m=\u001b[0m \u001b[0mModelParser\u001b[0m\u001b[0;34m(\u001b[0m\u001b[0mmodel_dict\u001b[0m\u001b[0;34m=\u001b[0m\u001b[0mmodel_dict\u001b[0m\u001b[0;34m)\u001b[0m\u001b[0;34m.\u001b[0m\u001b[0mget_model\u001b[0m\u001b[0;34m(\u001b[0m\u001b[0;34m)\u001b[0m\u001b[0;34m\u001b[0m\u001b[0;34m\u001b[0m\u001b[0m\n\u001b[0m\u001b[1;32m     97\u001b[0m \u001b[0;34m\u001b[0m\u001b[0m\n\u001b[1;32m     98\u001b[0m     \u001b[0;31m# Gather statistics values\u001b[0m\u001b[0;34m\u001b[0m\u001b[0;34m\u001b[0m\u001b[0;34m\u001b[0m\u001b[0m\n",
      "\u001b[0;32m~/coding/tml/astromodels/astromodels/core/model_parser.py\u001b[0m in \u001b[0;36m__init__\u001b[0;34m(self, model_file, model_dict)\u001b[0m\n\u001b[1;32m     90\u001b[0m             \u001b[0mself\u001b[0m\u001b[0;34m.\u001b[0m\u001b[0m_model_dict\u001b[0m \u001b[0;34m=\u001b[0m \u001b[0mmodel_dict\u001b[0m\u001b[0;34m\u001b[0m\u001b[0;34m\u001b[0m\u001b[0m\n\u001b[1;32m     91\u001b[0m \u001b[0;34m\u001b[0m\u001b[0m\n\u001b[0;32m---> 92\u001b[0;31m         \u001b[0mself\u001b[0m\u001b[0;34m.\u001b[0m\u001b[0m_parse\u001b[0m\u001b[0;34m(\u001b[0m\u001b[0;34m)\u001b[0m\u001b[0;34m\u001b[0m\u001b[0;34m\u001b[0m\u001b[0m\n\u001b[0m\u001b[1;32m     93\u001b[0m \u001b[0;34m\u001b[0m\u001b[0m\n\u001b[1;32m     94\u001b[0m     \u001b[0;32mdef\u001b[0m \u001b[0m_parse\u001b[0m\u001b[0;34m(\u001b[0m\u001b[0mself\u001b[0m\u001b[0;34m)\u001b[0m\u001b[0;34m:\u001b[0m\u001b[0;34m\u001b[0m\u001b[0;34m\u001b[0m\u001b[0m\n",
      "\u001b[0;32m~/coding/tml/astromodels/astromodels/core/model_parser.py\u001b[0m in \u001b[0;36m_parse\u001b[0;34m(self)\u001b[0m\n\u001b[1;32m    136\u001b[0m             \u001b[0;32melse\u001b[0m\u001b[0;34m:\u001b[0m\u001b[0;34m\u001b[0m\u001b[0;34m\u001b[0m\u001b[0m\n\u001b[1;32m    137\u001b[0m \u001b[0;34m\u001b[0m\u001b[0m\n\u001b[0;32m--> 138\u001b[0;31m                 \u001b[0mthis_parser\u001b[0m \u001b[0;34m=\u001b[0m \u001b[0mSourceParser\u001b[0m\u001b[0;34m(\u001b[0m\u001b[0msource_or_var_name\u001b[0m\u001b[0;34m,\u001b[0m \u001b[0msource_or_var_definition\u001b[0m\u001b[0;34m)\u001b[0m\u001b[0;34m\u001b[0m\u001b[0;34m\u001b[0m\u001b[0m\n\u001b[0m\u001b[1;32m    139\u001b[0m \u001b[0;34m\u001b[0m\u001b[0m\n\u001b[1;32m    140\u001b[0m                 \u001b[0mres\u001b[0m \u001b[0;34m=\u001b[0m \u001b[0mthis_parser\u001b[0m\u001b[0;34m.\u001b[0m\u001b[0mget_source\u001b[0m\u001b[0;34m(\u001b[0m\u001b[0;34m)\u001b[0m\u001b[0;34m\u001b[0m\u001b[0;34m\u001b[0m\u001b[0m\n",
      "\u001b[0;32m~/coding/tml/astromodels/astromodels/core/model_parser.py\u001b[0m in \u001b[0;36m__init__\u001b[0;34m(self, source_name, source_definition)\u001b[0m\n\u001b[1;32m    331\u001b[0m         \u001b[0;32mif\u001b[0m \u001b[0msource_type\u001b[0m \u001b[0;34m==\u001b[0m \u001b[0mPOINT_SOURCE\u001b[0m\u001b[0;34m:\u001b[0m\u001b[0;34m\u001b[0m\u001b[0;34m\u001b[0m\u001b[0m\n\u001b[1;32m    332\u001b[0m \u001b[0;34m\u001b[0m\u001b[0m\n\u001b[0;32m--> 333\u001b[0;31m             \u001b[0mself\u001b[0m\u001b[0;34m.\u001b[0m\u001b[0m_parsed_source\u001b[0m \u001b[0;34m=\u001b[0m \u001b[0mself\u001b[0m\u001b[0;34m.\u001b[0m\u001b[0m_parse_point_source\u001b[0m\u001b[0;34m(\u001b[0m\u001b[0msource_definition\u001b[0m\u001b[0;34m)\u001b[0m\u001b[0;34m\u001b[0m\u001b[0;34m\u001b[0m\u001b[0m\n\u001b[0m\u001b[1;32m    334\u001b[0m \u001b[0;34m\u001b[0m\u001b[0m\n\u001b[1;32m    335\u001b[0m         \u001b[0;32melif\u001b[0m \u001b[0msource_type\u001b[0m \u001b[0;34m==\u001b[0m \u001b[0mEXTENDED_SOURCE\u001b[0m\u001b[0;34m:\u001b[0m\u001b[0;34m\u001b[0m\u001b[0;34m\u001b[0m\u001b[0m\n",
      "\u001b[0;32m~/coding/tml/astromodels/astromodels/core/model_parser.py\u001b[0m in \u001b[0;36m_parse_point_source\u001b[0;34m(self, pts_source_definition)\u001b[0m\n\u001b[1;32m    420\u001b[0m \u001b[0;34m\u001b[0m\u001b[0m\n\u001b[1;32m    421\u001b[0m             this_point_source = point_source.PointSource(self._source_name, sky_position=this_sky_direction,\n\u001b[0;32m--> 422\u001b[0;31m                                                          components=components)\n\u001b[0m\u001b[1;32m    423\u001b[0m \u001b[0;34m\u001b[0m\u001b[0m\n\u001b[1;32m    424\u001b[0m         \u001b[0;32mexcept\u001b[0m\u001b[0;34m:\u001b[0m\u001b[0;34m\u001b[0m\u001b[0;34m\u001b[0m\u001b[0m\n",
      "\u001b[0;32m~/coding/tml/astromodels/astromodels/sources/point_source.py\u001b[0m in \u001b[0;36m__init__\u001b[0;34m(self, source_name, ra, dec, spectral_shape, l, b, components, sky_position)\u001b[0m\n\u001b[1;32m    141\u001b[0m         \u001b[0;32mfor\u001b[0m \u001b[0mcomponent\u001b[0m \u001b[0;32min\u001b[0m \u001b[0mlist\u001b[0m\u001b[0;34m(\u001b[0m\u001b[0mself\u001b[0m\u001b[0;34m.\u001b[0m\u001b[0m_components\u001b[0m\u001b[0;34m.\u001b[0m\u001b[0mvalues\u001b[0m\u001b[0;34m(\u001b[0m\u001b[0;34m)\u001b[0m\u001b[0;34m)\u001b[0m\u001b[0;34m:\u001b[0m\u001b[0;34m\u001b[0m\u001b[0;34m\u001b[0m\u001b[0m\n\u001b[1;32m    142\u001b[0m \u001b[0;34m\u001b[0m\u001b[0m\n\u001b[0;32m--> 143\u001b[0;31m             \u001b[0mcomponent\u001b[0m\u001b[0;34m.\u001b[0m\u001b[0mshape\u001b[0m\u001b[0;34m.\u001b[0m\u001b[0mset_units\u001b[0m\u001b[0;34m(\u001b[0m\u001b[0mx_unit\u001b[0m\u001b[0;34m,\u001b[0m \u001b[0my_unit\u001b[0m\u001b[0;34m)\u001b[0m\u001b[0;34m\u001b[0m\u001b[0;34m\u001b[0m\u001b[0m\n\u001b[0m\u001b[1;32m    144\u001b[0m \u001b[0;34m\u001b[0m\u001b[0m\n\u001b[1;32m    145\u001b[0m     \u001b[0;32mdef\u001b[0m \u001b[0m__call__\u001b[0m\u001b[0;34m(\u001b[0m\u001b[0mself\u001b[0m\u001b[0;34m,\u001b[0m \u001b[0mx\u001b[0m\u001b[0;34m,\u001b[0m \u001b[0mtag\u001b[0m\u001b[0;34m=\u001b[0m\u001b[0;32mNone\u001b[0m\u001b[0;34m)\u001b[0m\u001b[0;34m:\u001b[0m\u001b[0;34m\u001b[0m\u001b[0;34m\u001b[0m\u001b[0m\n",
      "\u001b[0;32m~/coding/tml/astromodels/astromodels/functions/function.py\u001b[0m in \u001b[0;36mset_units\u001b[0;34m(self, x_unit, y_unit, relaxed)\u001b[0m\n\u001b[1;32m   1468\u001b[0m                 \u001b[0;32melse\u001b[0m\u001b[0;34m:\u001b[0m\u001b[0;34m\u001b[0m\u001b[0;34m\u001b[0m\u001b[0m\n\u001b[1;32m   1469\u001b[0m \u001b[0;34m\u001b[0m\u001b[0m\n\u001b[0;32m-> 1470\u001b[0;31m                     \u001b[0mfunction\u001b[0m\u001b[0;34m.\u001b[0m\u001b[0mset_units\u001b[0m\u001b[0;34m(\u001b[0m\u001b[0mx_unit\u001b[0m\u001b[0;34m,\u001b[0m \u001b[0my_unit\u001b[0m\u001b[0;34m)\u001b[0m\u001b[0;34m\u001b[0m\u001b[0;34m\u001b[0m\u001b[0m\n\u001b[0m\u001b[1;32m   1471\u001b[0m \u001b[0;34m\u001b[0m\u001b[0m\n\u001b[1;32m   1472\u001b[0m     \u001b[0;34m@\u001b[0m\u001b[0mproperty\u001b[0m\u001b[0;34m\u001b[0m\u001b[0;34m\u001b[0m\u001b[0m\n",
      "\u001b[0;32m~/coding/tml/astromodels/astromodels/functions/function.py\u001b[0m in \u001b[0;36mset_units\u001b[0;34m(self, in_x_unit, in_y_unit)\u001b[0m\n\u001b[1;32m    850\u001b[0m \u001b[0;34m\u001b[0m\u001b[0m\n\u001b[1;32m    851\u001b[0m         \u001b[0;31m# Now call the underlying method to set units, which is defined by each function\u001b[0m\u001b[0;34m\u001b[0m\u001b[0;34m\u001b[0m\u001b[0;34m\u001b[0m\u001b[0m\n\u001b[0;32m--> 852\u001b[0;31m         \u001b[0mnew_units\u001b[0m \u001b[0;34m=\u001b[0m \u001b[0mself\u001b[0m\u001b[0;34m.\u001b[0m\u001b[0m_set_units\u001b[0m\u001b[0;34m(\u001b[0m\u001b[0min_x_unit\u001b[0m\u001b[0;34m,\u001b[0m \u001b[0min_y_unit\u001b[0m\u001b[0;34m)\u001b[0m\u001b[0;34m\u001b[0m\u001b[0;34m\u001b[0m\u001b[0m\n\u001b[0m\u001b[1;32m    853\u001b[0m \u001b[0;34m\u001b[0m\u001b[0m\n\u001b[1;32m    854\u001b[0m         \u001b[0;31m# Store the units.\u001b[0m\u001b[0;34m\u001b[0m\u001b[0;34m\u001b[0m\u001b[0;34m\u001b[0m\u001b[0m\n",
      "\u001b[0;32m~/coding/tml/astromodels/astromodels/functions/functions.py\u001b[0m in \u001b[0;36m_set_units\u001b[0;34m(self, x_unit, y_unit)\u001b[0m\n\u001b[1;32m    325\u001b[0m         \u001b[0;31m# The normalization has the same units as the y\u001b[0m\u001b[0;34m\u001b[0m\u001b[0;34m\u001b[0m\u001b[0;34m\u001b[0m\u001b[0m\n\u001b[1;32m    326\u001b[0m \u001b[0;34m\u001b[0m\u001b[0m\n\u001b[0;32m--> 327\u001b[0;31m         \u001b[0mself\u001b[0m\u001b[0;34m.\u001b[0m\u001b[0mK\u001b[0m\u001b[0;34m.\u001b[0m\u001b[0munit\u001b[0m \u001b[0;34m=\u001b[0m \u001b[0my_unit\u001b[0m\u001b[0;34m\u001b[0m\u001b[0;34m\u001b[0m\u001b[0m\n\u001b[0m\u001b[1;32m    328\u001b[0m \u001b[0;34m\u001b[0m\u001b[0m\n\u001b[1;32m    329\u001b[0m     \u001b[0;31m# noinspection PyPep8Naming\u001b[0m\u001b[0;34m\u001b[0m\u001b[0;34m\u001b[0m\u001b[0;34m\u001b[0m\u001b[0m\n",
      "\u001b[0;32m~/coding/tml/astromodels/astromodels/core/parameter.py\u001b[0m in \u001b[0;36m_set_unit\u001b[0;34m(self, input_unit)\u001b[0m\n\u001b[1;32m    303\u001b[0m \u001b[0;34m\u001b[0m\u001b[0m\n\u001b[1;32m    304\u001b[0m                 raise CannotConvertValueToNewUnits(\"Cannot convert the value %s from %s to the \"\n\u001b[0;32m--> 305\u001b[0;31m                                                    \"new units %s\" % (self.value, self._unit, new_unit_name))\n\u001b[0m\u001b[1;32m    306\u001b[0m \u001b[0;34m\u001b[0m\u001b[0m\n\u001b[1;32m    307\u001b[0m         \u001b[0;32melse\u001b[0m\u001b[0;34m:\u001b[0m\u001b[0;34m\u001b[0m\u001b[0;34m\u001b[0m\u001b[0m\n",
      "\u001b[0;31mCannotConvertValueToNewUnits\u001b[0m: Cannot convert the value 10.61718649156905 from cm2 keV s to the new units 1 / (cm2 keV s)"
     ]
    }
   ],
   "source": [
    "#mle1 = load_analysis_results(get_path_of_data_file(\"datasets/toy_xy_mle1.fits\"))\n",
    "bayes1 = load_analysis_results(get_path_of_data_file(\"datasets/toy_xy_bayes2.fits\"))"
   ]
  },
  {
   "cell_type": "markdown",
   "metadata": {},
   "source": [
    "## Plotting a single analysis result\n",
    "\n",
    "The easiest way to plot is to call **plot_point_source_spectra**. By default, it plots in photon space with a range of 10-40000 keV evaluated at 100 logrithmic points:"
   ]
  },
  {
   "cell_type": "code",
   "execution_count": null,
   "metadata": {
    "ExecuteTime": {
     "end_time": "2020-04-13T07:53:23.548341Z",
     "start_time": "2020-04-13T07:53:21.262Z"
    }
   },
   "outputs": [],
   "source": [
    "_ = plot_point_source_spectra(mle1,ene_min=1,ene_max=1E3)"
   ]
  },
  {
   "cell_type": "markdown",
   "metadata": {},
   "source": [
    "### Flux and energy units\n",
    "We use astropy units to specify both the flux and energy units. \n",
    "* The plotting routine understands photon, energy ($F_{\\nu}$) and $\\nu F_{\n",
    "\\nu}$ flux units;\n",
    "\n",
    "* energy units can be energy, frequency, or wavelength\n",
    "\n",
    "* a custom range can be applied.\n",
    "\n",
    "#### changing flux units\n"
   ]
  },
  {
   "cell_type": "code",
   "execution_count": null,
   "metadata": {
    "ExecuteTime": {
     "end_time": "2020-04-13T07:53:23.549667Z",
     "start_time": "2020-04-13T07:53:21.265Z"
    }
   },
   "outputs": [],
   "source": [
    "_ = plot_point_source_spectra(mle1,ene_min=1,ene_max=1E3,flux_unit='1/(m2 s MeV)')\n",
    "_ = plot_point_source_spectra(mle1,ene_min=1,ene_max=1E3,flux_unit='erg/(cm2 day keV)')\n",
    "_ = plot_point_source_spectra(mle1,ene_min=1,ene_max=1E3,flux_unit='keV2/(cm2 s keV)')"
   ]
  },
  {
   "cell_type": "markdown",
   "metadata": {},
   "source": [
    "#### changing energy units"
   ]
  },
  {
   "cell_type": "code",
   "execution_count": null,
   "metadata": {
    "ExecuteTime": {
     "end_time": "2020-04-13T07:53:23.550993Z",
     "start_time": "2020-04-13T07:53:21.267Z"
    }
   },
   "outputs": [],
   "source": [
    "_ = plot_point_source_spectra(mle1,\n",
    "                              ene_min=.001,\n",
    "                              ene_max=1E3,\n",
    "                              energy_unit='MeV')\n",
    "\n",
    "# energy ranges can also be specified in units\n",
    "_ = plot_point_source_spectra(mle1,\n",
    "                              ene_min=1*astropy_units.keV,\n",
    "                              ene_max=1*astropy_units.MeV)\n",
    "\n",
    "_ = plot_point_source_spectra(mle1,\n",
    "                              ene_min=1E3*astropy_units.Hz,\n",
    "                              ene_max=1E7*astropy_units.Hz)\n",
    "\n",
    "_ = plot_point_source_spectra(mle1,\n",
    "                              ene_min=1E1*astropy_units.nm,\n",
    "                              ene_max=1E3*astropy_units.nm,\n",
    "                              xscale='linear') # plotting with a linear scale\n"
   ]
  },
  {
   "cell_type": "markdown",
   "metadata": {},
   "source": [
    "### Plotting components\n",
    "\n",
    "Sometimes it is interesting to see the components in a composite model. We can specify the **use_components** switch. Here we will use *Bayesian* results. Note that all features work with MLE of Bayesian results."
   ]
  },
  {
   "cell_type": "code",
   "execution_count": null,
   "metadata": {
    "ExecuteTime": {
     "end_time": "2020-04-13T07:53:23.552386Z",
     "start_time": "2020-04-13T07:53:21.269Z"
    }
   },
   "outputs": [],
   "source": [
    "_ = plot_point_source_spectra(bayes1,\n",
    "                              ene_min=1,\n",
    "                              ene_max=1E3,\n",
    "                              use_components=True\n",
    "                             )\n",
    "\n",
    "_=plt.ylim(bottom=1)"
   ]
  },
  {
   "cell_type": "markdown",
   "metadata": {},
   "source": [
    "Notice that the duplicated components have the subscripts *n1* and *n2*. If we want to specify which components to plot, we must use these subscripts."
   ]
  },
  {
   "cell_type": "code",
   "execution_count": null,
   "metadata": {
    "ExecuteTime": {
     "end_time": "2020-04-13T07:53:23.553764Z",
     "start_time": "2020-04-13T07:53:21.271Z"
    }
   },
   "outputs": [],
   "source": [
    "_ = plot_point_source_spectra(mle1,\n",
    "                              flux_unit='erg/(cm2 s keV)',\n",
    "                              ene_min=1,\n",
    "                              ene_max=1E3,\n",
    "                              use_components=True,\n",
    "                              components_to_use=['Gaussian_n1','Gaussian_n2'])\n",
    "\n",
    "_=plt.ylim(bottom=1E-20)"
   ]
  },
  {
   "cell_type": "markdown",
   "metadata": {},
   "source": [
    "If we want to see the total model with the components, just add *total* to the components list.\n",
    "\n",
    "Additionally, we can change the confidence interval for the contours from the default of 1$\\sigma$ (0.68) to 2$\\sigma$ (0.95)."
   ]
  },
  {
   "cell_type": "code",
   "execution_count": null,
   "metadata": {
    "ExecuteTime": {
     "end_time": "2020-04-13T07:53:23.555218Z",
     "start_time": "2020-04-13T07:53:21.273Z"
    }
   },
   "outputs": [],
   "source": [
    "_ = plot_point_source_spectra(bayes1,\n",
    "                              flux_unit='erg/(cm2 s keV)',\n",
    "                              ene_min=1,\n",
    "                              ene_max=1E3,\n",
    "                              use_components=True,\n",
    "                              components_to_use=['total','Gaussian'],\n",
    "                              confidence_level=0.95)\n",
    "                                \n",
    "\n",
    "\n",
    "_=plt.ylim(bottom=1E-9)"
   ]
  },
  {
   "cell_type": "code",
   "execution_count": null,
   "metadata": {
    "ExecuteTime": {
     "end_time": "2020-04-13T07:53:23.556532Z",
     "start_time": "2020-04-13T07:53:21.274Z"
    }
   },
   "outputs": [],
   "source": [
    "_ = plot_point_source_spectra(mle1,\n",
    "                              flux_unit='erg/(cm2 s keV)',\n",
    "                              ene_min=1,\n",
    "                              ene_max=1E3,\n",
    "                              use_components=True,\n",
    "                              fit_cmap='jet', # specify a color map\n",
    "                              contour_colors='k', # specify a color for all contours\n",
    "                              components_to_use=['total','Gaussian_n2','Gaussian_n1'])\n",
    "                                \n",
    "\n",
    "\n",
    "_=plt.ylim(bottom=1E-16)"
   ]
  },
  {
   "cell_type": "markdown",
   "metadata": {},
   "source": [
    "### Additional features\n",
    "Explore the docstring to see all the available options. Default configurations can be altered in the 3ML config file.\n"
   ]
  },
  {
   "cell_type": "markdown",
   "metadata": {},
   "source": [
    "* Use asymmetric errors and alter the default color map"
   ]
  },
  {
   "cell_type": "code",
   "execution_count": null,
   "metadata": {
    "ExecuteTime": {
     "end_time": "2020-04-13T07:53:23.557763Z",
     "start_time": "2020-04-13T07:53:21.276Z"
    }
   },
   "outputs": [],
   "source": [
    "threeML_config['model plot']['point source plot']['fit cmap'] = 'plasma'\n",
    "_ = plot_point_source_spectra(mle1, equal_tailed=False)"
   ]
  },
  {
   "cell_type": "markdown",
   "metadata": {},
   "source": [
    "* turn of contours and the legend and increase the number of points plotted"
   ]
  },
  {
   "cell_type": "code",
   "execution_count": null,
   "metadata": {
    "ExecuteTime": {
     "end_time": "2020-04-13T07:53:23.559222Z",
     "start_time": "2020-04-13T07:53:21.278Z"
    }
   },
   "outputs": [],
   "source": [
    "_ = plot_point_source_spectra(mle1, show_legend=False, show_contours=False, num_ene=500)"
   ]
  },
  {
   "cell_type": "markdown",
   "metadata": {},
   "source": [
    "* colors or color maps can be specfied"
   ]
  },
  {
   "cell_type": "code",
   "execution_count": null,
   "metadata": {
    "ExecuteTime": {
     "end_time": "2020-04-13T07:53:23.560585Z",
     "start_time": "2020-04-13T07:53:21.279Z"
    }
   },
   "outputs": [],
   "source": [
    "_ = plot_point_source_spectra(mle1, fit_colors='orange', contour_colors='blue')"
   ]
  },
  {
   "cell_type": "markdown",
   "metadata": {},
   "source": [
    "Further modifications to plotting style, legend style, etc. can be modified either in the 3ML configuration:"
   ]
  },
  {
   "cell_type": "code",
   "execution_count": null,
   "metadata": {
    "ExecuteTime": {
     "end_time": "2020-04-13T07:53:23.561844Z",
     "start_time": "2020-04-13T07:53:21.281Z"
    }
   },
   "outputs": [],
   "source": [
    "threeML_config['model plot']['point source plot']"
   ]
  },
  {
   "cell_type": "markdown",
   "metadata": {},
   "source": [
    "or by directly passing dictionary arguments to the the plot command. Examine the docstring for more details!"
   ]
  },
  {
   "cell_type": "markdown",
   "metadata": {},
   "source": [
    "## Plotting multiple results\n",
    "\n",
    "Any number of results can be plotted together. Simply provide them as arguments. You can mix and match MLE and Bayesian results as well as plotting their components."
   ]
  },
  {
   "cell_type": "code",
   "execution_count": null,
   "metadata": {
    "ExecuteTime": {
     "end_time": "2020-04-13T07:53:23.563107Z",
     "start_time": "2020-04-13T07:53:21.282Z"
    }
   },
   "outputs": [],
   "source": [
    "_ = plot_point_source_spectra(mle1, bayes1,ene_min=1)\n",
    "\n",
    "_=plt.ylim(bottom=1E-1)"
   ]
  },
  {
   "cell_type": "markdown",
   "metadata": {},
   "source": [
    "Specify particular colors for each analysis and broaden the contours"
   ]
  },
  {
   "cell_type": "code",
   "execution_count": null,
   "metadata": {
    "ExecuteTime": {
     "end_time": "2020-04-13T07:53:23.564426Z",
     "start_time": "2020-04-13T07:53:21.284Z"
    }
   },
   "outputs": [],
   "source": [
    "_ = plot_point_source_spectra(mle1,\n",
    "                              bayes1,\n",
    "                              ene_min=1.,\n",
    "                              confidence_level=.95,\n",
    "                              equal_tailed=False,\n",
    "                              fit_colors=['orange','green'],\n",
    "                              contour_colors='blue')\n",
    "_ =plt.ylim(bottom=1E-1)"
   ]
  },
  {
   "cell_type": "markdown",
   "metadata": {},
   "source": [
    "As with single results, we can choose to plot the components for all the sources."
   ]
  },
  {
   "cell_type": "code",
   "execution_count": null,
   "metadata": {
    "ExecuteTime": {
     "end_time": "2020-04-13T07:53:23.565884Z",
     "start_time": "2020-04-13T07:53:21.285Z"
    }
   },
   "outputs": [],
   "source": [
    "_ = plot_point_source_spectra(mle1,\n",
    "                              bayes1,\n",
    "                              ene_min=1.,\n",
    "                             use_components=True)\n",
    "_=plt.ylim(bottom=1E-4)"
   ]
  },
  {
   "cell_type": "code",
   "execution_count": null,
   "metadata": {},
   "outputs": [],
   "source": []
  }
 ],
 "metadata": {
  "kernelspec": {
   "display_name": "3ml",
   "language": "python",
   "name": "3ml"
  },
  "language_info": {
   "codemirror_mode": {
    "name": "ipython",
    "version": 3
   },
   "file_extension": ".py",
   "mimetype": "text/x-python",
   "name": "python",
   "nbconvert_exporter": "python",
   "pygments_lexer": "ipython3",
   "version": "3.7.7"
  },
  "widgets": {
   "state": {
    "0168281db9c54531ab3fc8725c661a9a": {
     "views": [
      {
       "cell_index": 3
      }
     ]
    },
    "03012afaf2c84c4a92c0de5aafd43e16": {
     "views": [
      {
       "cell_index": 3
      }
     ]
    },
    "0c6494eb55244b3ca91103767be31b43": {
     "views": [
      {
       "cell_index": 27
      }
     ]
    },
    "162e9e912dec49c2b492024995138c05": {
     "views": [
      {
       "cell_index": 14
      }
     ]
    },
    "189f45ce48644ae296c6e3e9dbfaf184": {
     "views": [
      {
       "cell_index": 4
      }
     ]
    },
    "1ac830b1b1744c149b9e8c6ea14f8b8d": {
     "views": [
      {
       "cell_index": 20
      }
     ]
    },
    "1b1c36cdf40b4a04a190db35ccbff93f": {
     "views": [
      {
       "cell_index": 6
      }
     ]
    },
    "1bd5d0d6ea4942ab8fc4c45e25504dba": {
     "views": [
      {
       "cell_index": 16
      }
     ]
    },
    "23027247b5c04d57ad401f5e186a78af": {
     "views": [
      {
       "cell_index": 27
      }
     ]
    },
    "27fe6ba27c594baebba468b89bf4c37c": {
     "views": [
      {
       "cell_index": 8
      }
     ]
    },
    "28c87ac3766c49c7a0feaf8e51ccec03": {
     "views": [
      {
       "cell_index": 14
      }
     ]
    },
    "2ca6da3b51d34cfc869ca721aa32b45f": {
     "views": [
      {
       "cell_index": 3
      }
     ]
    },
    "31caa46c7c024bfcad230eda380738bf": {
     "views": [
      {
       "cell_index": 12
      }
     ]
    },
    "34b4996919bc4fffb6bb3fc4074c5526": {
     "views": [
      {
       "cell_index": 25
      }
     ]
    },
    "36451deb7e884bada057c702c7d1cb8e": {
     "views": [
      {
       "cell_index": 15
      }
     ]
    },
    "40feb34f4f2443159709c895395a45e6": {
     "views": [
      {
       "cell_index": 6
      }
     ]
    },
    "42fcaedc05394496b99248d7ddb6aa17": {
     "views": [
      {
       "cell_index": 16
      }
     ]
    },
    "5202d82c9e9141eb9d24af3dd05f3746": {
     "views": [
      {
       "cell_index": 15
      }
     ]
    },
    "547b3854727b4f8d840ed2cae28a008c": {
     "views": [
      {
       "cell_index": 6
      }
     ]
    },
    "550d7b5658b248489cdcbb131626c349": {
     "views": [
      {
       "cell_index": 6
      }
     ]
    },
    "558743abdec74941a73c5e6b25eedfcc": {
     "views": [
      {
       "cell_index": 8
      }
     ]
    },
    "559df1ef59ce462c94633fbf518d2e93": {
     "views": [
      {
       "cell_index": 8
      }
     ]
    },
    "59d2c1e1fe5d430cb545c44db81f2e7b": {
     "views": [
      {
       "cell_index": 3
      }
     ]
    },
    "5e25d163ecc2401ba2117af4c34c53be": {
     "views": [
      {
       "cell_index": 10
      }
     ]
    },
    "5e2aff53e4c04f8990306ddd67f97ad2": {
     "views": [
      {
       "cell_index": 26
      }
     ]
    },
    "5fdebff9a830496e96b380b964acc4a2": {
     "views": [
      {
       "cell_index": 27
      }
     ]
    },
    "64ba70093c994a54a6d8b4b02251667b": {
     "views": [
      {
       "cell_index": 27
      }
     ]
    },
    "683125740dc44b12a22d4bdc037489ad": {
     "views": [
      {
       "cell_index": 4
      }
     ]
    },
    "6958996c39c54a14a69dd973eafceed2": {
     "views": [
      {
       "cell_index": 8
      }
     ]
    },
    "6c844118fc3f46dbabbf9442b70ca2d9": {
     "views": [
      {
       "cell_index": 15
      }
     ]
    },
    "717134a810c249b7ab74c062636ee60a": {
     "views": [
      {
       "cell_index": 15
      }
     ]
    },
    "718f8ac9ecf14f65a4d83661a1a93d93": {
     "views": [
      {
       "cell_index": 3
      }
     ]
    },
    "744a7fe44e2f46839e47edde3496101a": {
     "views": [
      {
       "cell_index": 4
      }
     ]
    },
    "7a3485a730d54c23bee1efff78c7b866": {
     "views": [
      {
       "cell_index": 12
      }
     ]
    },
    "7bafc58064334a58919514a01b7df127": {
     "views": [
      {
       "cell_index": 12
      }
     ]
    },
    "7d6241df9c4f47f7add37de82fc49ae9": {
     "views": [
      {
       "cell_index": 14
      }
     ]
    },
    "80cf8daac9aa45bf9bc7654222fcc0aa": {
     "views": [
      {
       "cell_index": 8
      }
     ]
    },
    "80db94d123b04f67a9703ccf8cb5cb11": {
     "views": [
      {
       "cell_index": 24
      }
     ]
    },
    "8863e557fc5d4c3abd377cec996e421d": {
     "views": [
      {
       "cell_index": 10
      }
     ]
    },
    "88d99069471c40449fa0f405446a18f7": {
     "views": [
      {
       "cell_index": 3
      }
     ]
    },
    "8c50d57de7004da49aab1923d3ae095c": {
     "views": [
      {
       "cell_index": 27
      }
     ]
    },
    "8feb344dd9284c7f9056ba4e78aa9ff1": {
     "views": [
      {
       "cell_index": 6
      }
     ]
    },
    "915538e1500f4035a2cb4d9b53b95a85": {
     "views": [
      {
       "cell_index": 3
      }
     ]
    },
    "92be12bceb5d47259b760aa3483724f3": {
     "views": [
      {
       "cell_index": 25
      }
     ]
    },
    "98bf6391694d4b748cd75a04db70b2dd": {
     "views": [
      {
       "cell_index": 14
      }
     ]
    },
    "9b6c1224d6da40bdac71ebb8aedb9dbc": {
     "views": [
      {
       "cell_index": 4
      }
     ]
    },
    "9fb13708823e4a3989ef6a3c705df125": {
     "views": [
      {
       "cell_index": 8
      }
     ]
    },
    "a44e172f7c0e43bfbba2ace33bb37995": {
     "views": [
      {
       "cell_index": 5
      }
     ]
    },
    "a4b43038907d418d8d7ee103687c160e": {
     "views": [
      {
       "cell_index": 6
      }
     ]
    },
    "a4e802e009e0449b97035f221e2df3f1": {
     "views": [
      {
       "cell_index": 4
      }
     ]
    },
    "a58afa048c1442b099552b957253aae4": {
     "views": [
      {
       "cell_index": 15
      }
     ]
    },
    "a870c4c0137a4be08ca42411128ee0a2": {
     "views": [
      {
       "cell_index": 27
      }
     ]
    },
    "ab44adf0b04b418e8420fed95759fc06": {
     "views": [
      {
       "cell_index": 27
      }
     ]
    },
    "af61fbfee2bf48e39d6a95dd487a53c6": {
     "views": [
      {
       "cell_index": 8
      }
     ]
    },
    "b2d0d809bbca4740b6eb3560cad4817b": {
     "views": [
      {
       "cell_index": 6
      }
     ]
    },
    "b35fb25655ee4383a2fd1640513060d4": {
     "views": [
      {
       "cell_index": 15
      }
     ]
    },
    "b6c73fe096f1402aa6efb79ef00702a0": {
     "views": [
      {
       "cell_index": 8
      }
     ]
    },
    "b7b69df213a64963bfe84b10e3479d39": {
     "views": [
      {
       "cell_index": 8
      }
     ]
    },
    "bdacbc9ee7d3403ea16d0d2fbff9e0b4": {
     "views": [
      {
       "cell_index": 19
      }
     ]
    },
    "bfb6c8ebdb4740ba9833cb07de0d9c11": {
     "views": [
      {
       "cell_index": 3
      }
     ]
    },
    "c6cf8f3fdd5c4405a3e771e4bb7c9488": {
     "views": [
      {
       "cell_index": 4
      }
     ]
    },
    "c718f39031254cd7a9e3f6f094d8deaa": {
     "views": [
      {
       "cell_index": 4
      }
     ]
    },
    "cae2ae6b293d445e9c37cb1f769050b5": {
     "views": [
      {
       "cell_index": 6
      }
     ]
    },
    "caee61a6fdfc43d882f1df16bac0b1e1": {
     "views": [
      {
       "cell_index": 14
      }
     ]
    },
    "cfb2cfea7a1a49808c634fab259b54f6": {
     "views": [
      {
       "cell_index": 24
      }
     ]
    },
    "d0d42c0c69c34401905336c2de1471e1": {
     "views": [
      {
       "cell_index": 6
      }
     ]
    },
    "db77f1f5bbdf48d89a6cd6096f35e018": {
     "views": [
      {
       "cell_index": 6
      }
     ]
    },
    "de4c3437d87c4c5ea6b1e337af30a906": {
     "views": [
      {
       "cell_index": 3
      }
     ]
    },
    "de58a742fef14f08b3d21dacc94fd8ad": {
     "views": [
      {
       "cell_index": 14
      }
     ]
    },
    "e330e4b64eb842bebb6d0dcfb8f166e2": {
     "views": [
      {
       "cell_index": 4
      }
     ]
    },
    "e4ce3a98116c4563bb8a232d307afc11": {
     "views": [
      {
       "cell_index": 14
      }
     ]
    },
    "e6fe139d2e2145f6b3e5a73e1b52b47d": {
     "views": [
      {
       "cell_index": 10
      }
     ]
    },
    "e806495470b546bdbe12f4846eed1b2c": {
     "views": [
      {
       "cell_index": 24
      }
     ]
    },
    "eccaac27580a4e35be216a218ae1edf7": {
     "views": [
      {
       "cell_index": 10
      }
     ]
    },
    "f3939ad803644b32b6eda63f2200e043": {
     "views": [
      {
       "cell_index": 25
      }
     ]
    },
    "fb3852a01deb43ca90610d52fe3d1fd9": {
     "views": [
      {
       "cell_index": 4
      }
     ]
    },
    "fd535f30ebf44cd1b68f9f66f3b10c9f": {
     "views": [
      {
       "cell_index": 3
      }
     ]
    }
   },
   "version": "1.2.0"
  }
 },
 "nbformat": 4,
 "nbformat_minor": 1
}
