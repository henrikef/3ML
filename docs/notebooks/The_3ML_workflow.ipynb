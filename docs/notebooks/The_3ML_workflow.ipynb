{
 "cells": [
  {
   "cell_type": "markdown",
   "metadata": {},
   "source": [
    "# The 3ML workflow\n",
    "\n",
    "Generally, an analysis in 3ML is performed in 3 steps:\n",
    "\n",
    "1. Load the data: one or more datasets are loaded and then listed in a DataList object\n",
    "2. Define the model: a model for the data is defined by including one or more PointSource, ExtendedSource or ParticleSource instances\n",
    "3. Perform a likelihood or a Bayesian analysis: the data and the model are used together to perform either a Maximum Likelihood analysis, or a Bayesian analysis"
   ]
  },
  {
   "cell_type": "markdown",
   "metadata": {},
   "source": [
    "## Loading data\n",
    "\n",
    "3ML is built around the concept of _plugins_. A plugin is used to load a particular type of data, or the data from a particular instrument. There is a plugin of optical data, one for X-ray data, one for Fermi/LAT data and so on. Plugins instances can be added and removed at the loading stage without changing any other stage of the analysis (but of course, you need to rerun all stages to update the results).\n",
    "\n",
    "First, let's import 3ML:"
   ]
  },
  {
   "cell_type": "code",
   "execution_count": 2,
   "metadata": {},
   "outputs": [],
   "source": [
    "from threeML import *\n",
    "import matplotlib.pyplot as plt\n",
    "%matplotlib notebook"
   ]
  },
  {
   "cell_type": "code",
   "execution_count": 3,
   "metadata": {
    "nbsphinx": "hidden"
   },
   "outputs": [],
   "source": [
    "plt.style.use('mike')\n",
    "import warnings\n",
    "warnings.filterwarnings('ignore')"
   ]
  },
  {
   "cell_type": "markdown",
   "metadata": {},
   "source": [
    "Let's start by loading one dataset, which in the 3ML workflow means creating an instance of the appropriate plugin:"
   ]
  },
  {
   "cell_type": "code",
   "execution_count": 4,
   "metadata": {},
   "outputs": [
    {
     "name": "stdout",
     "output_type": "stream",
     "text": [
      "Using Gaussian statistic (equivalent to chi^2) with the provided errors.\n"
     ]
    },
    {
     "data": {
      "application/javascript": [
       "/* Put everything inside the global mpl namespace */\n",
       "window.mpl = {};\n",
       "\n",
       "\n",
       "mpl.get_websocket_type = function() {\n",
       "    if (typeof(WebSocket) !== 'undefined') {\n",
       "        return WebSocket;\n",
       "    } else if (typeof(MozWebSocket) !== 'undefined') {\n",
       "        return MozWebSocket;\n",
       "    } else {\n",
       "        alert('Your browser does not have WebSocket support. ' +\n",
       "              'Please try Chrome, Safari or Firefox ≥ 6. ' +\n",
       "              'Firefox 4 and 5 are also supported but you ' +\n",
       "              'have to enable WebSockets in about:config.');\n",
       "    };\n",
       "}\n",
       "\n",
       "mpl.figure = function(figure_id, websocket, ondownload, parent_element) {\n",
       "    this.id = figure_id;\n",
       "\n",
       "    this.ws = websocket;\n",
       "\n",
       "    this.supports_binary = (this.ws.binaryType != undefined);\n",
       "\n",
       "    if (!this.supports_binary) {\n",
       "        var warnings = document.getElementById(\"mpl-warnings\");\n",
       "        if (warnings) {\n",
       "            warnings.style.display = 'block';\n",
       "            warnings.textContent = (\n",
       "                \"This browser does not support binary websocket messages. \" +\n",
       "                    \"Performance may be slow.\");\n",
       "        }\n",
       "    }\n",
       "\n",
       "    this.imageObj = new Image();\n",
       "\n",
       "    this.context = undefined;\n",
       "    this.message = undefined;\n",
       "    this.canvas = undefined;\n",
       "    this.rubberband_canvas = undefined;\n",
       "    this.rubberband_context = undefined;\n",
       "    this.format_dropdown = undefined;\n",
       "\n",
       "    this.image_mode = 'full';\n",
       "\n",
       "    this.root = $('<div/>');\n",
       "    this._root_extra_style(this.root)\n",
       "    this.root.attr('style', 'display: inline-block');\n",
       "\n",
       "    $(parent_element).append(this.root);\n",
       "\n",
       "    this._init_header(this);\n",
       "    this._init_canvas(this);\n",
       "    this._init_toolbar(this);\n",
       "\n",
       "    var fig = this;\n",
       "\n",
       "    this.waiting = false;\n",
       "\n",
       "    this.ws.onopen =  function () {\n",
       "            fig.send_message(\"supports_binary\", {value: fig.supports_binary});\n",
       "            fig.send_message(\"send_image_mode\", {});\n",
       "            if (mpl.ratio != 1) {\n",
       "                fig.send_message(\"set_dpi_ratio\", {'dpi_ratio': mpl.ratio});\n",
       "            }\n",
       "            fig.send_message(\"refresh\", {});\n",
       "        }\n",
       "\n",
       "    this.imageObj.onload = function() {\n",
       "            if (fig.image_mode == 'full') {\n",
       "                // Full images could contain transparency (where diff images\n",
       "                // almost always do), so we need to clear the canvas so that\n",
       "                // there is no ghosting.\n",
       "                fig.context.clearRect(0, 0, fig.canvas.width, fig.canvas.height);\n",
       "            }\n",
       "            fig.context.drawImage(fig.imageObj, 0, 0);\n",
       "        };\n",
       "\n",
       "    this.imageObj.onunload = function() {\n",
       "        fig.ws.close();\n",
       "    }\n",
       "\n",
       "    this.ws.onmessage = this._make_on_message_function(this);\n",
       "\n",
       "    this.ondownload = ondownload;\n",
       "}\n",
       "\n",
       "mpl.figure.prototype._init_header = function() {\n",
       "    var titlebar = $(\n",
       "        '<div class=\"ui-dialog-titlebar ui-widget-header ui-corner-all ' +\n",
       "        'ui-helper-clearfix\"/>');\n",
       "    var titletext = $(\n",
       "        '<div class=\"ui-dialog-title\" style=\"width: 100%; ' +\n",
       "        'text-align: center; padding: 3px;\"/>');\n",
       "    titlebar.append(titletext)\n",
       "    this.root.append(titlebar);\n",
       "    this.header = titletext[0];\n",
       "}\n",
       "\n",
       "\n",
       "\n",
       "mpl.figure.prototype._canvas_extra_style = function(canvas_div) {\n",
       "\n",
       "}\n",
       "\n",
       "\n",
       "mpl.figure.prototype._root_extra_style = function(canvas_div) {\n",
       "\n",
       "}\n",
       "\n",
       "mpl.figure.prototype._init_canvas = function() {\n",
       "    var fig = this;\n",
       "\n",
       "    var canvas_div = $('<div/>');\n",
       "\n",
       "    canvas_div.attr('style', 'position: relative; clear: both; outline: 0');\n",
       "\n",
       "    function canvas_keyboard_event(event) {\n",
       "        return fig.key_event(event, event['data']);\n",
       "    }\n",
       "\n",
       "    canvas_div.keydown('key_press', canvas_keyboard_event);\n",
       "    canvas_div.keyup('key_release', canvas_keyboard_event);\n",
       "    this.canvas_div = canvas_div\n",
       "    this._canvas_extra_style(canvas_div)\n",
       "    this.root.append(canvas_div);\n",
       "\n",
       "    var canvas = $('<canvas/>');\n",
       "    canvas.addClass('mpl-canvas');\n",
       "    canvas.attr('style', \"left: 0; top: 0; z-index: 0; outline: 0\")\n",
       "\n",
       "    this.canvas = canvas[0];\n",
       "    this.context = canvas[0].getContext(\"2d\");\n",
       "\n",
       "    var backingStore = this.context.backingStorePixelRatio ||\n",
       "\tthis.context.webkitBackingStorePixelRatio ||\n",
       "\tthis.context.mozBackingStorePixelRatio ||\n",
       "\tthis.context.msBackingStorePixelRatio ||\n",
       "\tthis.context.oBackingStorePixelRatio ||\n",
       "\tthis.context.backingStorePixelRatio || 1;\n",
       "\n",
       "    mpl.ratio = (window.devicePixelRatio || 1) / backingStore;\n",
       "\n",
       "    var rubberband = $('<canvas/>');\n",
       "    rubberband.attr('style', \"position: absolute; left: 0; top: 0; z-index: 1;\")\n",
       "\n",
       "    var pass_mouse_events = true;\n",
       "\n",
       "    canvas_div.resizable({\n",
       "        start: function(event, ui) {\n",
       "            pass_mouse_events = false;\n",
       "        },\n",
       "        resize: function(event, ui) {\n",
       "            fig.request_resize(ui.size.width, ui.size.height);\n",
       "        },\n",
       "        stop: function(event, ui) {\n",
       "            pass_mouse_events = true;\n",
       "            fig.request_resize(ui.size.width, ui.size.height);\n",
       "        },\n",
       "    });\n",
       "\n",
       "    function mouse_event_fn(event) {\n",
       "        if (pass_mouse_events)\n",
       "            return fig.mouse_event(event, event['data']);\n",
       "    }\n",
       "\n",
       "    rubberband.mousedown('button_press', mouse_event_fn);\n",
       "    rubberband.mouseup('button_release', mouse_event_fn);\n",
       "    // Throttle sequential mouse events to 1 every 20ms.\n",
       "    rubberband.mousemove('motion_notify', mouse_event_fn);\n",
       "\n",
       "    rubberband.mouseenter('figure_enter', mouse_event_fn);\n",
       "    rubberband.mouseleave('figure_leave', mouse_event_fn);\n",
       "\n",
       "    canvas_div.on(\"wheel\", function (event) {\n",
       "        event = event.originalEvent;\n",
       "        event['data'] = 'scroll'\n",
       "        if (event.deltaY < 0) {\n",
       "            event.step = 1;\n",
       "        } else {\n",
       "            event.step = -1;\n",
       "        }\n",
       "        mouse_event_fn(event);\n",
       "    });\n",
       "\n",
       "    canvas_div.append(canvas);\n",
       "    canvas_div.append(rubberband);\n",
       "\n",
       "    this.rubberband = rubberband;\n",
       "    this.rubberband_canvas = rubberband[0];\n",
       "    this.rubberband_context = rubberband[0].getContext(\"2d\");\n",
       "    this.rubberband_context.strokeStyle = \"#000000\";\n",
       "\n",
       "    this._resize_canvas = function(width, height) {\n",
       "        // Keep the size of the canvas, canvas container, and rubber band\n",
       "        // canvas in synch.\n",
       "        canvas_div.css('width', width)\n",
       "        canvas_div.css('height', height)\n",
       "\n",
       "        canvas.attr('width', width * mpl.ratio);\n",
       "        canvas.attr('height', height * mpl.ratio);\n",
       "        canvas.attr('style', 'width: ' + width + 'px; height: ' + height + 'px;');\n",
       "\n",
       "        rubberband.attr('width', width);\n",
       "        rubberband.attr('height', height);\n",
       "    }\n",
       "\n",
       "    // Set the figure to an initial 600x600px, this will subsequently be updated\n",
       "    // upon first draw.\n",
       "    this._resize_canvas(600, 600);\n",
       "\n",
       "    // Disable right mouse context menu.\n",
       "    $(this.rubberband_canvas).bind(\"contextmenu\",function(e){\n",
       "        return false;\n",
       "    });\n",
       "\n",
       "    function set_focus () {\n",
       "        canvas.focus();\n",
       "        canvas_div.focus();\n",
       "    }\n",
       "\n",
       "    window.setTimeout(set_focus, 100);\n",
       "}\n",
       "\n",
       "mpl.figure.prototype._init_toolbar = function() {\n",
       "    var fig = this;\n",
       "\n",
       "    var nav_element = $('<div/>');\n",
       "    nav_element.attr('style', 'width: 100%');\n",
       "    this.root.append(nav_element);\n",
       "\n",
       "    // Define a callback function for later on.\n",
       "    function toolbar_event(event) {\n",
       "        return fig.toolbar_button_onclick(event['data']);\n",
       "    }\n",
       "    function toolbar_mouse_event(event) {\n",
       "        return fig.toolbar_button_onmouseover(event['data']);\n",
       "    }\n",
       "\n",
       "    for(var toolbar_ind in mpl.toolbar_items) {\n",
       "        var name = mpl.toolbar_items[toolbar_ind][0];\n",
       "        var tooltip = mpl.toolbar_items[toolbar_ind][1];\n",
       "        var image = mpl.toolbar_items[toolbar_ind][2];\n",
       "        var method_name = mpl.toolbar_items[toolbar_ind][3];\n",
       "\n",
       "        if (!name) {\n",
       "            // put a spacer in here.\n",
       "            continue;\n",
       "        }\n",
       "        var button = $('<button/>');\n",
       "        button.addClass('ui-button ui-widget ui-state-default ui-corner-all ' +\n",
       "                        'ui-button-icon-only');\n",
       "        button.attr('role', 'button');\n",
       "        button.attr('aria-disabled', 'false');\n",
       "        button.click(method_name, toolbar_event);\n",
       "        button.mouseover(tooltip, toolbar_mouse_event);\n",
       "\n",
       "        var icon_img = $('<span/>');\n",
       "        icon_img.addClass('ui-button-icon-primary ui-icon');\n",
       "        icon_img.addClass(image);\n",
       "        icon_img.addClass('ui-corner-all');\n",
       "\n",
       "        var tooltip_span = $('<span/>');\n",
       "        tooltip_span.addClass('ui-button-text');\n",
       "        tooltip_span.html(tooltip);\n",
       "\n",
       "        button.append(icon_img);\n",
       "        button.append(tooltip_span);\n",
       "\n",
       "        nav_element.append(button);\n",
       "    }\n",
       "\n",
       "    var fmt_picker_span = $('<span/>');\n",
       "\n",
       "    var fmt_picker = $('<select/>');\n",
       "    fmt_picker.addClass('mpl-toolbar-option ui-widget ui-widget-content');\n",
       "    fmt_picker_span.append(fmt_picker);\n",
       "    nav_element.append(fmt_picker_span);\n",
       "    this.format_dropdown = fmt_picker[0];\n",
       "\n",
       "    for (var ind in mpl.extensions) {\n",
       "        var fmt = mpl.extensions[ind];\n",
       "        var option = $(\n",
       "            '<option/>', {selected: fmt === mpl.default_extension}).html(fmt);\n",
       "        fmt_picker.append(option);\n",
       "    }\n",
       "\n",
       "    // Add hover states to the ui-buttons\n",
       "    $( \".ui-button\" ).hover(\n",
       "        function() { $(this).addClass(\"ui-state-hover\");},\n",
       "        function() { $(this).removeClass(\"ui-state-hover\");}\n",
       "    );\n",
       "\n",
       "    var status_bar = $('<span class=\"mpl-message\"/>');\n",
       "    nav_element.append(status_bar);\n",
       "    this.message = status_bar[0];\n",
       "}\n",
       "\n",
       "mpl.figure.prototype.request_resize = function(x_pixels, y_pixels) {\n",
       "    // Request matplotlib to resize the figure. Matplotlib will then trigger a resize in the client,\n",
       "    // which will in turn request a refresh of the image.\n",
       "    this.send_message('resize', {'width': x_pixels, 'height': y_pixels});\n",
       "}\n",
       "\n",
       "mpl.figure.prototype.send_message = function(type, properties) {\n",
       "    properties['type'] = type;\n",
       "    properties['figure_id'] = this.id;\n",
       "    this.ws.send(JSON.stringify(properties));\n",
       "}\n",
       "\n",
       "mpl.figure.prototype.send_draw_message = function() {\n",
       "    if (!this.waiting) {\n",
       "        this.waiting = true;\n",
       "        this.ws.send(JSON.stringify({type: \"draw\", figure_id: this.id}));\n",
       "    }\n",
       "}\n",
       "\n",
       "\n",
       "mpl.figure.prototype.handle_save = function(fig, msg) {\n",
       "    var format_dropdown = fig.format_dropdown;\n",
       "    var format = format_dropdown.options[format_dropdown.selectedIndex].value;\n",
       "    fig.ondownload(fig, format);\n",
       "}\n",
       "\n",
       "\n",
       "mpl.figure.prototype.handle_resize = function(fig, msg) {\n",
       "    var size = msg['size'];\n",
       "    if (size[0] != fig.canvas.width || size[1] != fig.canvas.height) {\n",
       "        fig._resize_canvas(size[0], size[1]);\n",
       "        fig.send_message(\"refresh\", {});\n",
       "    };\n",
       "}\n",
       "\n",
       "mpl.figure.prototype.handle_rubberband = function(fig, msg) {\n",
       "    var x0 = msg['x0'] / mpl.ratio;\n",
       "    var y0 = (fig.canvas.height - msg['y0']) / mpl.ratio;\n",
       "    var x1 = msg['x1'] / mpl.ratio;\n",
       "    var y1 = (fig.canvas.height - msg['y1']) / mpl.ratio;\n",
       "    x0 = Math.floor(x0) + 0.5;\n",
       "    y0 = Math.floor(y0) + 0.5;\n",
       "    x1 = Math.floor(x1) + 0.5;\n",
       "    y1 = Math.floor(y1) + 0.5;\n",
       "    var min_x = Math.min(x0, x1);\n",
       "    var min_y = Math.min(y0, y1);\n",
       "    var width = Math.abs(x1 - x0);\n",
       "    var height = Math.abs(y1 - y0);\n",
       "\n",
       "    fig.rubberband_context.clearRect(\n",
       "        0, 0, fig.canvas.width / mpl.ratio, fig.canvas.height / mpl.ratio);\n",
       "\n",
       "    fig.rubberband_context.strokeRect(min_x, min_y, width, height);\n",
       "}\n",
       "\n",
       "mpl.figure.prototype.handle_figure_label = function(fig, msg) {\n",
       "    // Updates the figure title.\n",
       "    fig.header.textContent = msg['label'];\n",
       "}\n",
       "\n",
       "mpl.figure.prototype.handle_cursor = function(fig, msg) {\n",
       "    var cursor = msg['cursor'];\n",
       "    switch(cursor)\n",
       "    {\n",
       "    case 0:\n",
       "        cursor = 'pointer';\n",
       "        break;\n",
       "    case 1:\n",
       "        cursor = 'default';\n",
       "        break;\n",
       "    case 2:\n",
       "        cursor = 'crosshair';\n",
       "        break;\n",
       "    case 3:\n",
       "        cursor = 'move';\n",
       "        break;\n",
       "    }\n",
       "    fig.rubberband_canvas.style.cursor = cursor;\n",
       "}\n",
       "\n",
       "mpl.figure.prototype.handle_message = function(fig, msg) {\n",
       "    fig.message.textContent = msg['message'];\n",
       "}\n",
       "\n",
       "mpl.figure.prototype.handle_draw = function(fig, msg) {\n",
       "    // Request the server to send over a new figure.\n",
       "    fig.send_draw_message();\n",
       "}\n",
       "\n",
       "mpl.figure.prototype.handle_image_mode = function(fig, msg) {\n",
       "    fig.image_mode = msg['mode'];\n",
       "}\n",
       "\n",
       "mpl.figure.prototype.updated_canvas_event = function() {\n",
       "    // Called whenever the canvas gets updated.\n",
       "    this.send_message(\"ack\", {});\n",
       "}\n",
       "\n",
       "// A function to construct a web socket function for onmessage handling.\n",
       "// Called in the figure constructor.\n",
       "mpl.figure.prototype._make_on_message_function = function(fig) {\n",
       "    return function socket_on_message(evt) {\n",
       "        if (evt.data instanceof Blob) {\n",
       "            /* FIXME: We get \"Resource interpreted as Image but\n",
       "             * transferred with MIME type text/plain:\" errors on\n",
       "             * Chrome.  But how to set the MIME type?  It doesn't seem\n",
       "             * to be part of the websocket stream */\n",
       "            evt.data.type = \"image/png\";\n",
       "\n",
       "            /* Free the memory for the previous frames */\n",
       "            if (fig.imageObj.src) {\n",
       "                (window.URL || window.webkitURL).revokeObjectURL(\n",
       "                    fig.imageObj.src);\n",
       "            }\n",
       "\n",
       "            fig.imageObj.src = (window.URL || window.webkitURL).createObjectURL(\n",
       "                evt.data);\n",
       "            fig.updated_canvas_event();\n",
       "            fig.waiting = false;\n",
       "            return;\n",
       "        }\n",
       "        else if (typeof evt.data === 'string' && evt.data.slice(0, 21) == \"data:image/png;base64\") {\n",
       "            fig.imageObj.src = evt.data;\n",
       "            fig.updated_canvas_event();\n",
       "            fig.waiting = false;\n",
       "            return;\n",
       "        }\n",
       "\n",
       "        var msg = JSON.parse(evt.data);\n",
       "        var msg_type = msg['type'];\n",
       "\n",
       "        // Call the  \"handle_{type}\" callback, which takes\n",
       "        // the figure and JSON message as its only arguments.\n",
       "        try {\n",
       "            var callback = fig[\"handle_\" + msg_type];\n",
       "        } catch (e) {\n",
       "            console.log(\"No handler for the '\" + msg_type + \"' message type: \", msg);\n",
       "            return;\n",
       "        }\n",
       "\n",
       "        if (callback) {\n",
       "            try {\n",
       "                // console.log(\"Handling '\" + msg_type + \"' message: \", msg);\n",
       "                callback(fig, msg);\n",
       "            } catch (e) {\n",
       "                console.log(\"Exception inside the 'handler_\" + msg_type + \"' callback:\", e, e.stack, msg);\n",
       "            }\n",
       "        }\n",
       "    };\n",
       "}\n",
       "\n",
       "// from http://stackoverflow.com/questions/1114465/getting-mouse-location-in-canvas\n",
       "mpl.findpos = function(e) {\n",
       "    //this section is from http://www.quirksmode.org/js/events_properties.html\n",
       "    var targ;\n",
       "    if (!e)\n",
       "        e = window.event;\n",
       "    if (e.target)\n",
       "        targ = e.target;\n",
       "    else if (e.srcElement)\n",
       "        targ = e.srcElement;\n",
       "    if (targ.nodeType == 3) // defeat Safari bug\n",
       "        targ = targ.parentNode;\n",
       "\n",
       "    // jQuery normalizes the pageX and pageY\n",
       "    // pageX,Y are the mouse positions relative to the document\n",
       "    // offset() returns the position of the element relative to the document\n",
       "    var x = e.pageX - $(targ).offset().left;\n",
       "    var y = e.pageY - $(targ).offset().top;\n",
       "\n",
       "    return {\"x\": x, \"y\": y};\n",
       "};\n",
       "\n",
       "/*\n",
       " * return a copy of an object with only non-object keys\n",
       " * we need this to avoid circular references\n",
       " * http://stackoverflow.com/a/24161582/3208463\n",
       " */\n",
       "function simpleKeys (original) {\n",
       "  return Object.keys(original).reduce(function (obj, key) {\n",
       "    if (typeof original[key] !== 'object')\n",
       "        obj[key] = original[key]\n",
       "    return obj;\n",
       "  }, {});\n",
       "}\n",
       "\n",
       "mpl.figure.prototype.mouse_event = function(event, name) {\n",
       "    var canvas_pos = mpl.findpos(event)\n",
       "\n",
       "    if (name === 'button_press')\n",
       "    {\n",
       "        this.canvas.focus();\n",
       "        this.canvas_div.focus();\n",
       "    }\n",
       "\n",
       "    var x = canvas_pos.x * mpl.ratio;\n",
       "    var y = canvas_pos.y * mpl.ratio;\n",
       "\n",
       "    this.send_message(name, {x: x, y: y, button: event.button,\n",
       "                             step: event.step,\n",
       "                             guiEvent: simpleKeys(event)});\n",
       "\n",
       "    /* This prevents the web browser from automatically changing to\n",
       "     * the text insertion cursor when the button is pressed.  We want\n",
       "     * to control all of the cursor setting manually through the\n",
       "     * 'cursor' event from matplotlib */\n",
       "    event.preventDefault();\n",
       "    return false;\n",
       "}\n",
       "\n",
       "mpl.figure.prototype._key_event_extra = function(event, name) {\n",
       "    // Handle any extra behaviour associated with a key event\n",
       "}\n",
       "\n",
       "mpl.figure.prototype.key_event = function(event, name) {\n",
       "\n",
       "    // Prevent repeat events\n",
       "    if (name == 'key_press')\n",
       "    {\n",
       "        if (event.which === this._key)\n",
       "            return;\n",
       "        else\n",
       "            this._key = event.which;\n",
       "    }\n",
       "    if (name == 'key_release')\n",
       "        this._key = null;\n",
       "\n",
       "    var value = '';\n",
       "    if (event.ctrlKey && event.which != 17)\n",
       "        value += \"ctrl+\";\n",
       "    if (event.altKey && event.which != 18)\n",
       "        value += \"alt+\";\n",
       "    if (event.shiftKey && event.which != 16)\n",
       "        value += \"shift+\";\n",
       "\n",
       "    value += 'k';\n",
       "    value += event.which.toString();\n",
       "\n",
       "    this._key_event_extra(event, name);\n",
       "\n",
       "    this.send_message(name, {key: value,\n",
       "                             guiEvent: simpleKeys(event)});\n",
       "    return false;\n",
       "}\n",
       "\n",
       "mpl.figure.prototype.toolbar_button_onclick = function(name) {\n",
       "    if (name == 'download') {\n",
       "        this.handle_save(this, null);\n",
       "    } else {\n",
       "        this.send_message(\"toolbar_button\", {name: name});\n",
       "    }\n",
       "};\n",
       "\n",
       "mpl.figure.prototype.toolbar_button_onmouseover = function(tooltip) {\n",
       "    this.message.textContent = tooltip;\n",
       "};\n",
       "mpl.toolbar_items = [[\"Home\", \"Reset original view\", \"fa fa-home icon-home\", \"home\"], [\"Back\", \"Back to previous view\", \"fa fa-arrow-left icon-arrow-left\", \"back\"], [\"Forward\", \"Forward to next view\", \"fa fa-arrow-right icon-arrow-right\", \"forward\"], [\"\", \"\", \"\", \"\"], [\"Pan\", \"Pan axes with left mouse, zoom with right\", \"fa fa-arrows icon-move\", \"pan\"], [\"Zoom\", \"Zoom to rectangle\", \"fa fa-square-o icon-check-empty\", \"zoom\"], [\"\", \"\", \"\", \"\"], [\"Download\", \"Download plot\", \"fa fa-floppy-o icon-save\", \"download\"]];\n",
       "\n",
       "mpl.extensions = [\"eps\", \"pdf\", \"png\", \"ps\", \"raw\", \"svg\"];\n",
       "\n",
       "mpl.default_extension = \"png\";var comm_websocket_adapter = function(comm) {\n",
       "    // Create a \"websocket\"-like object which calls the given IPython comm\n",
       "    // object with the appropriate methods. Currently this is a non binary\n",
       "    // socket, so there is still some room for performance tuning.\n",
       "    var ws = {};\n",
       "\n",
       "    ws.close = function() {\n",
       "        comm.close()\n",
       "    };\n",
       "    ws.send = function(m) {\n",
       "        //console.log('sending', m);\n",
       "        comm.send(m);\n",
       "    };\n",
       "    // Register the callback with on_msg.\n",
       "    comm.on_msg(function(msg) {\n",
       "        //console.log('receiving', msg['content']['data'], msg);\n",
       "        // Pass the mpl event to the overridden (by mpl) onmessage function.\n",
       "        ws.onmessage(msg['content']['data'])\n",
       "    });\n",
       "    return ws;\n",
       "}\n",
       "\n",
       "mpl.mpl_figure_comm = function(comm, msg) {\n",
       "    // This is the function which gets called when the mpl process\n",
       "    // starts-up an IPython Comm through the \"matplotlib\" channel.\n",
       "\n",
       "    var id = msg.content.data.id;\n",
       "    // Get hold of the div created by the display call when the Comm\n",
       "    // socket was opened in Python.\n",
       "    var element = $(\"#\" + id);\n",
       "    var ws_proxy = comm_websocket_adapter(comm)\n",
       "\n",
       "    function ondownload(figure, format) {\n",
       "        window.open(figure.imageObj.src);\n",
       "    }\n",
       "\n",
       "    var fig = new mpl.figure(id, ws_proxy,\n",
       "                           ondownload,\n",
       "                           element.get(0));\n",
       "\n",
       "    // Call onopen now - mpl needs it, as it is assuming we've passed it a real\n",
       "    // web socket which is closed, not our websocket->open comm proxy.\n",
       "    ws_proxy.onopen();\n",
       "\n",
       "    fig.parent_element = element.get(0);\n",
       "    fig.cell_info = mpl.find_output_cell(\"<div id='\" + id + \"'></div>\");\n",
       "    if (!fig.cell_info) {\n",
       "        console.error(\"Failed to find cell for figure\", id, fig);\n",
       "        return;\n",
       "    }\n",
       "\n",
       "    var output_index = fig.cell_info[2]\n",
       "    var cell = fig.cell_info[0];\n",
       "\n",
       "};\n",
       "\n",
       "mpl.figure.prototype.handle_close = function(fig, msg) {\n",
       "    var width = fig.canvas.width/mpl.ratio\n",
       "    fig.root.unbind('remove')\n",
       "\n",
       "    // Update the output cell to use the data from the current canvas.\n",
       "    fig.push_to_output();\n",
       "    var dataURL = fig.canvas.toDataURL();\n",
       "    // Re-enable the keyboard manager in IPython - without this line, in FF,\n",
       "    // the notebook keyboard shortcuts fail.\n",
       "    IPython.keyboard_manager.enable()\n",
       "    $(fig.parent_element).html('<img src=\"' + dataURL + '\" width=\"' + width + '\">');\n",
       "    fig.close_ws(fig, msg);\n",
       "}\n",
       "\n",
       "mpl.figure.prototype.close_ws = function(fig, msg){\n",
       "    fig.send_message('closing', msg);\n",
       "    // fig.ws.close()\n",
       "}\n",
       "\n",
       "mpl.figure.prototype.push_to_output = function(remove_interactive) {\n",
       "    // Turn the data on the canvas into data in the output cell.\n",
       "    var width = this.canvas.width/mpl.ratio\n",
       "    var dataURL = this.canvas.toDataURL();\n",
       "    this.cell_info[1]['text/html'] = '<img src=\"' + dataURL + '\" width=\"' + width + '\">';\n",
       "}\n",
       "\n",
       "mpl.figure.prototype.updated_canvas_event = function() {\n",
       "    // Tell IPython that the notebook contents must change.\n",
       "    IPython.notebook.set_dirty(true);\n",
       "    this.send_message(\"ack\", {});\n",
       "    var fig = this;\n",
       "    // Wait a second, then push the new image to the DOM so\n",
       "    // that it is saved nicely (might be nice to debounce this).\n",
       "    setTimeout(function () { fig.push_to_output() }, 1000);\n",
       "}\n",
       "\n",
       "mpl.figure.prototype._init_toolbar = function() {\n",
       "    var fig = this;\n",
       "\n",
       "    var nav_element = $('<div/>');\n",
       "    nav_element.attr('style', 'width: 100%');\n",
       "    this.root.append(nav_element);\n",
       "\n",
       "    // Define a callback function for later on.\n",
       "    function toolbar_event(event) {\n",
       "        return fig.toolbar_button_onclick(event['data']);\n",
       "    }\n",
       "    function toolbar_mouse_event(event) {\n",
       "        return fig.toolbar_button_onmouseover(event['data']);\n",
       "    }\n",
       "\n",
       "    for(var toolbar_ind in mpl.toolbar_items){\n",
       "        var name = mpl.toolbar_items[toolbar_ind][0];\n",
       "        var tooltip = mpl.toolbar_items[toolbar_ind][1];\n",
       "        var image = mpl.toolbar_items[toolbar_ind][2];\n",
       "        var method_name = mpl.toolbar_items[toolbar_ind][3];\n",
       "\n",
       "        if (!name) { continue; };\n",
       "\n",
       "        var button = $('<button class=\"btn btn-default\" href=\"#\" title=\"' + name + '\"><i class=\"fa ' + image + ' fa-lg\"></i></button>');\n",
       "        button.click(method_name, toolbar_event);\n",
       "        button.mouseover(tooltip, toolbar_mouse_event);\n",
       "        nav_element.append(button);\n",
       "    }\n",
       "\n",
       "    // Add the status bar.\n",
       "    var status_bar = $('<span class=\"mpl-message\" style=\"text-align:right; float: right;\"/>');\n",
       "    nav_element.append(status_bar);\n",
       "    this.message = status_bar[0];\n",
       "\n",
       "    // Add the close button to the window.\n",
       "    var buttongrp = $('<div class=\"btn-group inline pull-right\"></div>');\n",
       "    var button = $('<button class=\"btn btn-mini btn-primary\" href=\"#\" title=\"Stop Interaction\"><i class=\"fa fa-power-off icon-remove icon-large\"></i></button>');\n",
       "    button.click(function (evt) { fig.handle_close(fig, {}); } );\n",
       "    button.mouseover('Stop Interaction', toolbar_mouse_event);\n",
       "    buttongrp.append(button);\n",
       "    var titlebar = this.root.find($('.ui-dialog-titlebar'));\n",
       "    titlebar.prepend(buttongrp);\n",
       "}\n",
       "\n",
       "mpl.figure.prototype._root_extra_style = function(el){\n",
       "    var fig = this\n",
       "    el.on(\"remove\", function(){\n",
       "\tfig.close_ws(fig, {});\n",
       "    });\n",
       "}\n",
       "\n",
       "mpl.figure.prototype._canvas_extra_style = function(el){\n",
       "    // this is important to make the div 'focusable\n",
       "    el.attr('tabindex', 0)\n",
       "    // reach out to IPython and tell the keyboard manager to turn it's self\n",
       "    // off when our div gets focus\n",
       "\n",
       "    // location in version 3\n",
       "    if (IPython.notebook.keyboard_manager) {\n",
       "        IPython.notebook.keyboard_manager.register_events(el);\n",
       "    }\n",
       "    else {\n",
       "        // location in version 2\n",
       "        IPython.keyboard_manager.register_events(el);\n",
       "    }\n",
       "\n",
       "}\n",
       "\n",
       "mpl.figure.prototype._key_event_extra = function(event, name) {\n",
       "    var manager = IPython.notebook.keyboard_manager;\n",
       "    if (!manager)\n",
       "        manager = IPython.keyboard_manager;\n",
       "\n",
       "    // Check for shift+enter\n",
       "    if (event.shiftKey && event.which == 13) {\n",
       "        this.canvas_div.blur();\n",
       "        // select the cell after this one\n",
       "        var index = IPython.notebook.find_cell_index(this.cell_info[0]);\n",
       "        IPython.notebook.select(index + 1);\n",
       "    }\n",
       "}\n",
       "\n",
       "mpl.figure.prototype.handle_save = function(fig, msg) {\n",
       "    fig.ondownload(fig, null);\n",
       "}\n",
       "\n",
       "\n",
       "mpl.find_output_cell = function(html_output) {\n",
       "    // Return the cell and output element which can be found *uniquely* in the notebook.\n",
       "    // Note - this is a bit hacky, but it is done because the \"notebook_saving.Notebook\"\n",
       "    // IPython event is triggered only after the cells have been serialised, which for\n",
       "    // our purposes (turning an active figure into a static one), is too late.\n",
       "    var cells = IPython.notebook.get_cells();\n",
       "    var ncells = cells.length;\n",
       "    for (var i=0; i<ncells; i++) {\n",
       "        var cell = cells[i];\n",
       "        if (cell.cell_type === 'code'){\n",
       "            for (var j=0; j<cell.output_area.outputs.length; j++) {\n",
       "                var data = cell.output_area.outputs[j];\n",
       "                if (data.data) {\n",
       "                    // IPython >= 3 moved mimebundle to data attribute of output\n",
       "                    data = data.data;\n",
       "                }\n",
       "                if (data['text/html'] == html_output) {\n",
       "                    return [cell, data, j];\n",
       "                }\n",
       "            }\n",
       "        }\n",
       "    }\n",
       "}\n",
       "\n",
       "// Register the function which deals with the matplotlib target/channel.\n",
       "// The kernel may be null if the page has been refreshed.\n",
       "if (IPython.notebook.kernel != null) {\n",
       "    IPython.notebook.kernel.comm_manager.register_target('matplotlib', mpl.mpl_figure_comm);\n",
       "}\n"
      ],
      "text/plain": [
       "<IPython.core.display.Javascript object>"
      ]
     },
     "metadata": {},
     "output_type": "display_data"
    },
    {
     "data": {
      "text/html": [
       "<img src=\"data:image/png;base64,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\" width=\"800\">"
      ],
      "text/plain": [
       "<IPython.core.display.HTML object>"
      ]
     },
     "metadata": {},
     "output_type": "display_data"
    }
   ],
   "source": [
    "# Get some example data\n",
    "from threeML.io.package_data import get_path_of_data_file\n",
    "\n",
    "data_path = get_path_of_data_file(\"datasets/xy_powerlaw.txt\")\n",
    "\n",
    "# Create an instance of the XYLike plugin, which allows to analyze simple x,y points\n",
    "# with error bars\n",
    "xyl = XYLike.from_text_file(\"xyl\", data_path)\n",
    "\n",
    "# Let's plot it just to see what we have loaded\n",
    "fig = xyl.plot(x_scale='log', y_scale='log')"
   ]
  },
  {
   "cell_type": "markdown",
   "metadata": {},
   "source": [
    "Now we need to create a DataList object, which in this case contains only one instance:"
   ]
  },
  {
   "cell_type": "code",
   "execution_count": 5,
   "metadata": {},
   "outputs": [],
   "source": [
    "data = DataList(xyl)"
   ]
  },
  {
   "cell_type": "markdown",
   "metadata": {},
   "source": [
    "The DataList object can receive one or more plugin instances on initialization. So for example, to use two datasets we can simply do:"
   ]
  },
  {
   "cell_type": "code",
   "execution_count": 6,
   "metadata": {},
   "outputs": [
    {
     "name": "stdout",
     "output_type": "stream",
     "text": [
      "Auto-probed noise models:\n",
      "- observation: poisson\n",
      "- background: poisson\n"
     ]
    }
   ],
   "source": [
    "# Create the second instance, this time of a different type\n",
    "\n",
    "pha = get_path_of_data_file(\"datasets/ogip_powerlaw.pha\")\n",
    "bak = get_path_of_data_file(\"datasets/ogip_powerlaw.bak\")\n",
    "rsp = get_path_of_data_file(\"datasets/ogip_powerlaw.rsp\")\n",
    "\n",
    "ogip = OGIPLike(\"ogip\", pha, bak, rsp)\n",
    "\n",
    "# Now use both plugins\n",
    "data = DataList(xyl, ogip)"
   ]
  },
  {
   "cell_type": "markdown",
   "metadata": {},
   "source": [
    "The DataList object can accept any number of plugins in input.\n",
    "\n",
    "You can also create a list of plugins, and then create a DataList using the \"expansion\" feature of the python language ('*'), like this:"
   ]
  },
  {
   "cell_type": "code",
   "execution_count": 7,
   "metadata": {},
   "outputs": [],
   "source": [
    "# This is equivalent to write data = DataList(xyl, ogip)\n",
    "\n",
    "my_plugins = [xyl, ogip]\n",
    "data = DataList(*my_plugins)"
   ]
  },
  {
   "cell_type": "markdown",
   "metadata": {
    "collapsed": true
   },
   "source": [
    "This is useful if you need to create the list of plugins at runtime, for example looping over many files."
   ]
  },
  {
   "cell_type": "markdown",
   "metadata": {},
   "source": [
    "## Define the model\n",
    "\n",
    "After you have loaded your data, you need to define a model for them. A model is a collection of one or more sources. A source represents an astrophysical reality, like a star, a galaxy, a molecular cloud... There are 3 kinds of sources: PointSource, ExtendedSource and ParticleSource. The latter is used only in special situations. The models are defined using the package astromodels. Here we will only go through the basics. You can find a lot more information here: [astromodels.readthedocs.org](https://astromodels.readthedocs.org)\n",
    "\n",
    "### Point sources\n",
    "A point source is characterized by a name, a position, and a spectrum. These are some examples:"
   ]
  },
  {
   "cell_type": "code",
   "execution_count": 8,
   "metadata": {},
   "outputs": [],
   "source": [
    "# A point source with a power law spectrum\n",
    "\n",
    "source1_sp = Powerlaw()\n",
    "source1 = PointSource(\"source1\", ra=23.5, dec=-22.7, spectral_shape=source1_sp)\n",
    "\n",
    "# Another source with a log-parabolic spectrum plus a power law\n",
    "\n",
    "source2_sp = Log_parabola() + Powerlaw()\n",
    "source2 = PointSource(\"source2\", ra=30.5, dec=-27.1, spectral_shape=source2_sp)\n",
    "\n",
    "# A third source defined in terms of its Galactic latitude and longitude\n",
    "source3_sp = Cutoff_powerlaw()\n",
    "source3 = PointSource(\"source3\", l=216.1, b=-74.56, spectral_shape=source3_sp)"
   ]
  },
  {
   "cell_type": "markdown",
   "metadata": {},
   "source": [
    "### Extended sources\n",
    "\n",
    "An extended source is characterized by its spatial shape and its spectral shape:"
   ]
  },
  {
   "cell_type": "code",
   "execution_count": 9,
   "metadata": {},
   "outputs": [],
   "source": [
    "# An extended source with a Gaussian shape centered on R.A., Dec = (30.5, -27.1)\n",
    "# and a sigma of 3.0 degrees\n",
    "ext1_spatial = Gaussian_on_sphere(lon0=30.5, lat0=-27.1, sigma=3.0)\n",
    "ext1_spectral = Powerlaw()\n",
    "\n",
    "ext1 = ExtendedSource(\"ext1\", ext1_spatial, ext1_spectral)\n",
    "\n",
    "# An extended source with a 3D function \n",
    "# (i.e., the function defines both the spatial and the spectral shape)\n",
    "ext2_spatial = Continuous_injection_diffusion()\n",
    "ext2 = ExtendedSource(\"ext2\", ext2_spatial)"
   ]
  },
  {
   "cell_type": "markdown",
   "metadata": {},
   "source": [
    "**NOTE**: not all plugins support extended sources. For example, the XYLike plugin we used above do not, as it is meant for data without spatial resolution. "
   ]
  },
  {
   "cell_type": "markdown",
   "metadata": {},
   "source": [
    "### Create the likelihood model"
   ]
  },
  {
   "cell_type": "markdown",
   "metadata": {},
   "source": [
    "Now that we have defined our sources, we can create a model simply as:"
   ]
  },
  {
   "cell_type": "code",
   "execution_count": 10,
   "metadata": {},
   "outputs": [
    {
     "data": {
      "text/html": [
       "Model summary:<br><br><div>\n",
       "<style scoped>\n",
       "    .dataframe tbody tr th:only-of-type {\n",
       "        vertical-align: middle;\n",
       "    }\n",
       "\n",
       "    .dataframe tbody tr th {\n",
       "        vertical-align: top;\n",
       "    }\n",
       "\n",
       "    .dataframe thead th {\n",
       "        text-align: right;\n",
       "    }\n",
       "</style>\n",
       "<table border=\"1\" class=\"dataframe\">\n",
       "  <thead>\n",
       "    <tr style=\"text-align: right;\">\n",
       "      <th></th>\n",
       "      <th>N</th>\n",
       "    </tr>\n",
       "  </thead>\n",
       "  <tbody>\n",
       "    <tr>\n",
       "      <th>Point sources</th>\n",
       "      <td>3</td>\n",
       "    </tr>\n",
       "    <tr>\n",
       "      <th>Extended sources</th>\n",
       "      <td>2</td>\n",
       "    </tr>\n",
       "    <tr>\n",
       "      <th>Particle sources</th>\n",
       "      <td>0</td>\n",
       "    </tr>\n",
       "  </tbody>\n",
       "</table>\n",
       "</div><br><br>Free parameters (19):<br><br><div>\n",
       "<style scoped>\n",
       "    .dataframe tbody tr th:only-of-type {\n",
       "        vertical-align: middle;\n",
       "    }\n",
       "\n",
       "    .dataframe tbody tr th {\n",
       "        vertical-align: top;\n",
       "    }\n",
       "\n",
       "    .dataframe thead th {\n",
       "        text-align: right;\n",
       "    }\n",
       "</style>\n",
       "<table border=\"1\" class=\"dataframe\">\n",
       "  <thead>\n",
       "    <tr style=\"text-align: right;\">\n",
       "      <th></th>\n",
       "      <th>value</th>\n",
       "      <th>min_value</th>\n",
       "      <th>max_value</th>\n",
       "      <th>unit</th>\n",
       "    </tr>\n",
       "  </thead>\n",
       "  <tbody>\n",
       "    <tr>\n",
       "      <th>source1.spectrum.main.Powerlaw.K</th>\n",
       "      <td>1</td>\n",
       "      <td>1e-30</td>\n",
       "      <td>1000</td>\n",
       "      <td>keV-1 s-1 cm-2</td>\n",
       "    </tr>\n",
       "    <tr>\n",
       "      <th>source1.spectrum.main.Powerlaw.index</th>\n",
       "      <td>-2</td>\n",
       "      <td>-10</td>\n",
       "      <td>10</td>\n",
       "      <td></td>\n",
       "    </tr>\n",
       "    <tr>\n",
       "      <th>source2.spectrum.main.composite.K_1</th>\n",
       "      <td>1</td>\n",
       "      <td>1e-30</td>\n",
       "      <td>100000</td>\n",
       "      <td>keV-1 s-1 cm-2</td>\n",
       "    </tr>\n",
       "    <tr>\n",
       "      <th>source2.spectrum.main.composite.alpha_1</th>\n",
       "      <td>-2</td>\n",
       "      <td>None</td>\n",
       "      <td>None</td>\n",
       "      <td></td>\n",
       "    </tr>\n",
       "    <tr>\n",
       "      <th>source2.spectrum.main.composite.beta_1</th>\n",
       "      <td>1</td>\n",
       "      <td>None</td>\n",
       "      <td>None</td>\n",
       "      <td></td>\n",
       "    </tr>\n",
       "    <tr>\n",
       "      <th>source2.spectrum.main.composite.K_2</th>\n",
       "      <td>1</td>\n",
       "      <td>1e-30</td>\n",
       "      <td>1000</td>\n",
       "      <td>keV-1 s-1 cm-2</td>\n",
       "    </tr>\n",
       "    <tr>\n",
       "      <th>source2.spectrum.main.composite.index_2</th>\n",
       "      <td>-2</td>\n",
       "      <td>-10</td>\n",
       "      <td>10</td>\n",
       "      <td></td>\n",
       "    </tr>\n",
       "    <tr>\n",
       "      <th>source3.spectrum.main.Cutoff_powerlaw.K</th>\n",
       "      <td>1</td>\n",
       "      <td>1e-30</td>\n",
       "      <td>1000</td>\n",
       "      <td>keV-1 s-1 cm-2</td>\n",
       "    </tr>\n",
       "    <tr>\n",
       "      <th>source3.spectrum.main.Cutoff_powerlaw.index</th>\n",
       "      <td>-2</td>\n",
       "      <td>-10</td>\n",
       "      <td>10</td>\n",
       "      <td></td>\n",
       "    </tr>\n",
       "    <tr>\n",
       "      <th>source3.spectrum.main.Cutoff_powerlaw.xc</th>\n",
       "      <td>10</td>\n",
       "      <td>1e-99</td>\n",
       "      <td>None</td>\n",
       "      <td>keV</td>\n",
       "    </tr>\n",
       "    <tr>\n",
       "      <th>ext1.Gaussian_on_sphere.lon0</th>\n",
       "      <td>30.5</td>\n",
       "      <td>0</td>\n",
       "      <td>360</td>\n",
       "      <td>deg</td>\n",
       "    </tr>\n",
       "    <tr>\n",
       "      <th>ext1.Gaussian_on_sphere.lat0</th>\n",
       "      <td>-27.1</td>\n",
       "      <td>-90</td>\n",
       "      <td>90</td>\n",
       "      <td>deg</td>\n",
       "    </tr>\n",
       "    <tr>\n",
       "      <th>ext1.Gaussian_on_sphere.sigma</th>\n",
       "      <td>3</td>\n",
       "      <td>0</td>\n",
       "      <td>20</td>\n",
       "      <td>deg</td>\n",
       "    </tr>\n",
       "    <tr>\n",
       "      <th>ext1.spectrum.main.Powerlaw.K</th>\n",
       "      <td>1</td>\n",
       "      <td>1e-30</td>\n",
       "      <td>1000</td>\n",
       "      <td>keV-1 s-1 cm-2</td>\n",
       "    </tr>\n",
       "    <tr>\n",
       "      <th>ext1.spectrum.main.Powerlaw.index</th>\n",
       "      <td>-2</td>\n",
       "      <td>-10</td>\n",
       "      <td>10</td>\n",
       "      <td></td>\n",
       "    </tr>\n",
       "    <tr>\n",
       "      <th>ext2.Continuous_injection_diffusion.lon0</th>\n",
       "      <td>0</td>\n",
       "      <td>0</td>\n",
       "      <td>360</td>\n",
       "      <td>deg</td>\n",
       "    </tr>\n",
       "    <tr>\n",
       "      <th>ext2.Continuous_injection_diffusion.lat0</th>\n",
       "      <td>0</td>\n",
       "      <td>-90</td>\n",
       "      <td>90</td>\n",
       "      <td>deg</td>\n",
       "    </tr>\n",
       "    <tr>\n",
       "      <th>ext2.Continuous_injection_diffusion.rdiff0</th>\n",
       "      <td>1</td>\n",
       "      <td>0</td>\n",
       "      <td>20</td>\n",
       "      <td>deg</td>\n",
       "    </tr>\n",
       "    <tr>\n",
       "      <th>ext2.spectrum.main.Constant.k</th>\n",
       "      <td>0</td>\n",
       "      <td>None</td>\n",
       "      <td>None</td>\n",
       "      <td></td>\n",
       "    </tr>\n",
       "  </tbody>\n",
       "</table>\n",
       "</div><br><br>Fixed parameters (16):<br><br><div>\n",
       "<style scoped>\n",
       "    .dataframe tbody tr th:only-of-type {\n",
       "        vertical-align: middle;\n",
       "    }\n",
       "\n",
       "    .dataframe tbody tr th {\n",
       "        vertical-align: top;\n",
       "    }\n",
       "\n",
       "    .dataframe thead th {\n",
       "        text-align: right;\n",
       "    }\n",
       "</style>\n",
       "<table border=\"1\" class=\"dataframe\">\n",
       "  <thead>\n",
       "    <tr style=\"text-align: right;\">\n",
       "      <th></th>\n",
       "      <th>value</th>\n",
       "      <th>min_value</th>\n",
       "      <th>max_value</th>\n",
       "      <th>unit</th>\n",
       "    </tr>\n",
       "  </thead>\n",
       "  <tbody>\n",
       "    <tr>\n",
       "      <th>source1.position.ra</th>\n",
       "      <td>23.5</td>\n",
       "      <td>0</td>\n",
       "      <td>360</td>\n",
       "      <td>deg</td>\n",
       "    </tr>\n",
       "    <tr>\n",
       "      <th>source1.position.dec</th>\n",
       "      <td>-22.7</td>\n",
       "      <td>-90</td>\n",
       "      <td>90</td>\n",
       "      <td>deg</td>\n",
       "    </tr>\n",
       "    <tr>\n",
       "      <th>source1.spectrum.main.Powerlaw.piv</th>\n",
       "      <td>1</td>\n",
       "      <td>None</td>\n",
       "      <td>None</td>\n",
       "      <td>keV</td>\n",
       "    </tr>\n",
       "    <tr>\n",
       "      <th>source2.position.ra</th>\n",
       "      <td>30.5</td>\n",
       "      <td>0</td>\n",
       "      <td>360</td>\n",
       "      <td>deg</td>\n",
       "    </tr>\n",
       "    <tr>\n",
       "      <th>source2.position.dec</th>\n",
       "      <td>-27.1</td>\n",
       "      <td>-90</td>\n",
       "      <td>90</td>\n",
       "      <td>deg</td>\n",
       "    </tr>\n",
       "    <tr>\n",
       "      <th>source2.spectrum.main.composite.piv_1</th>\n",
       "      <td>1</td>\n",
       "      <td>None</td>\n",
       "      <td>None</td>\n",
       "      <td>keV</td>\n",
       "    </tr>\n",
       "    <tr>\n",
       "      <th>source2.spectrum.main.composite.piv_2</th>\n",
       "      <td>1</td>\n",
       "      <td>None</td>\n",
       "      <td>None</td>\n",
       "      <td>keV</td>\n",
       "    </tr>\n",
       "    <tr>\n",
       "      <th>source3.position.l</th>\n",
       "      <td>216.1</td>\n",
       "      <td>0</td>\n",
       "      <td>360</td>\n",
       "      <td>deg</td>\n",
       "    </tr>\n",
       "    <tr>\n",
       "      <th>source3.position.b</th>\n",
       "      <td>-74.56</td>\n",
       "      <td>-90</td>\n",
       "      <td>90</td>\n",
       "      <td>deg</td>\n",
       "    </tr>\n",
       "    <tr>\n",
       "      <th>source3.spectrum.main.Cutoff_powerlaw.piv</th>\n",
       "      <td>1</td>\n",
       "      <td>None</td>\n",
       "      <td>None</td>\n",
       "      <td>keV</td>\n",
       "    </tr>\n",
       "    <tr>\n",
       "      <th>ext1.spectrum.main.Powerlaw.piv</th>\n",
       "      <td>1</td>\n",
       "      <td>None</td>\n",
       "      <td>None</td>\n",
       "      <td>keV</td>\n",
       "    </tr>\n",
       "    <tr>\n",
       "      <th>ext2.Continuous_injection_diffusion.rinj</th>\n",
       "      <td>100</td>\n",
       "      <td>0</td>\n",
       "      <td>200</td>\n",
       "      <td></td>\n",
       "    </tr>\n",
       "    <tr>\n",
       "      <th>ext2.Continuous_injection_diffusion.delta</th>\n",
       "      <td>0.5</td>\n",
       "      <td>0.3</td>\n",
       "      <td>0.6</td>\n",
       "      <td></td>\n",
       "    </tr>\n",
       "    <tr>\n",
       "      <th>ext2.Continuous_injection_diffusion.b</th>\n",
       "      <td>3</td>\n",
       "      <td>1</td>\n",
       "      <td>10</td>\n",
       "      <td></td>\n",
       "    </tr>\n",
       "    <tr>\n",
       "      <th>ext2.Continuous_injection_diffusion.piv</th>\n",
       "      <td>2e+10</td>\n",
       "      <td>0</td>\n",
       "      <td>None</td>\n",
       "      <td>keV</td>\n",
       "    </tr>\n",
       "    <tr>\n",
       "      <th>ext2.Continuous_injection_diffusion.piv2</th>\n",
       "      <td>1e+09</td>\n",
       "      <td>0</td>\n",
       "      <td>None</td>\n",
       "      <td>keV</td>\n",
       "    </tr>\n",
       "  </tbody>\n",
       "</table>\n",
       "</div><br><br>Linked parameters (0):<br><br>(none)<br><br>Independent variables:<br><br>(none)<br>"
      ],
      "text/plain": [
       "Model summary:\n",
       "==============\n",
       "\n",
       "                  N\n",
       "Point sources     3\n",
       "Extended sources  2\n",
       "Particle sources  0\n",
       "\n",
       "Free parameters (19):\n",
       "--------------------\n",
       "\n",
       "                                         value min_value max_value  \\\n",
       "source1.spectrum.main.Powerlaw.K             1     1e-30      1000   \n",
       "source1.spectrum.main.Powerlaw.index        -2       -10        10   \n",
       "source2.spectrum.main.composite.K_1          1     1e-30    100000   \n",
       "source2.spectrum.main.composite.alpha_1     -2      None      None   \n",
       "source2.spectrum.main.composite.beta_1       1      None      None   \n",
       "source2.spectrum.main.composite.K_2          1     1e-30      1000   \n",
       "source2.spectrum.main.composite.index_2     -2       -10        10   \n",
       "source3.spectrum.main.Cutoff_powerlaw.K      1     1e-30      1000   \n",
       "source3...index                             -2       -10        10   \n",
       "source3.spectrum.main.Cutoff_powerlaw.xc    10     1e-99      None   \n",
       "ext1.Gaussian_on_sphere.lon0              30.5         0       360   \n",
       "ext1.Gaussian_on_sphere.lat0             -27.1       -90        90   \n",
       "ext1.Gaussian_on_sphere.sigma                3         0        20   \n",
       "ext1.spectrum.main.Powerlaw.K                1     1e-30      1000   \n",
       "ext1.spectrum.main.Powerlaw.index           -2       -10        10   \n",
       "ext2.Continuous_injection_diffusion.lon0     0         0       360   \n",
       "ext2.Continuous_injection_diffusion.lat0     0       -90        90   \n",
       "ext2...rdiff0                                1         0        20   \n",
       "ext2.spectrum.main.Constant.k                0      None      None   \n",
       "\n",
       "                                                    unit  \n",
       "source1.spectrum.main.Powerlaw.K          keV-1 s-1 cm-2  \n",
       "source1.spectrum.main.Powerlaw.index                      \n",
       "source2.spectrum.main.composite.K_1       keV-1 s-1 cm-2  \n",
       "source2.spectrum.main.composite.alpha_1                   \n",
       "source2.spectrum.main.composite.beta_1                    \n",
       "source2.spectrum.main.composite.K_2       keV-1 s-1 cm-2  \n",
       "source2.spectrum.main.composite.index_2                   \n",
       "source3.spectrum.main.Cutoff_powerlaw.K   keV-1 s-1 cm-2  \n",
       "source3...index                                           \n",
       "source3.spectrum.main.Cutoff_powerlaw.xc             keV  \n",
       "ext1.Gaussian_on_sphere.lon0                         deg  \n",
       "ext1.Gaussian_on_sphere.lat0                         deg  \n",
       "ext1.Gaussian_on_sphere.sigma                        deg  \n",
       "ext1.spectrum.main.Powerlaw.K             keV-1 s-1 cm-2  \n",
       "ext1.spectrum.main.Powerlaw.index                         \n",
       "ext2.Continuous_injection_diffusion.lon0             deg  \n",
       "ext2.Continuous_injection_diffusion.lat0             deg  \n",
       "ext2...rdiff0                                        deg  \n",
       "ext2.spectrum.main.Constant.k                             \n",
       "\n",
       "Fixed parameters (16):\n",
       "---------------------\n",
       "\n",
       "                                          value min_value max_value unit\n",
       "source1.position.ra                        23.5         0       360  deg\n",
       "source1.position.dec                      -22.7       -90        90  deg\n",
       "source1.spectrum.main.Powerlaw.piv            1      None      None  keV\n",
       "source2.position.ra                        30.5         0       360  deg\n",
       "source2.position.dec                      -27.1       -90        90  deg\n",
       "source2.spectrum.main.composite.piv_1         1      None      None  keV\n",
       "source2.spectrum.main.composite.piv_2         1      None      None  keV\n",
       "source3.position.l                        216.1         0       360  deg\n",
       "source3.position.b                       -74.56       -90        90  deg\n",
       "source3...piv                                 1      None      None  keV\n",
       "ext1.spectrum.main.Powerlaw.piv               1      None      None  keV\n",
       "ext2.Continuous_injection_diffusion.rinj    100         0       200     \n",
       "ext2...delta                                0.5       0.3       0.6     \n",
       "ext2.Continuous_injection_diffusion.b         3         1        10     \n",
       "ext2.Continuous_injection_diffusion.piv   2e+10         0      None  keV\n",
       "ext2.Continuous_injection_diffusion.piv2  1e+09         0      None  keV\n",
       "\n",
       "Linked parameters (0):\n",
       "----------------------\n",
       "\n",
       "(none)\n",
       "\n",
       "Independent variables:\n",
       "----------------------\n",
       "\n",
       "(none)"
      ]
     },
     "metadata": {},
     "output_type": "display_data"
    }
   ],
   "source": [
    "model = Model(source1, source2, source3, ext1, ext2)\n",
    "\n",
    "# We can see a summary of the model like this:\n",
    "model.display(complete=True)"
   ]
  },
  {
   "cell_type": "markdown",
   "metadata": {},
   "source": [
    "You can easily interact with the model. For example:"
   ]
  },
  {
   "cell_type": "code",
   "execution_count": 11,
   "metadata": {
    "scrolled": false
   },
   "outputs": [
    {
     "data": {
      "text/html": [
       "Model summary:<br><br><div>\n",
       "<style scoped>\n",
       "    .dataframe tbody tr th:only-of-type {\n",
       "        vertical-align: middle;\n",
       "    }\n",
       "\n",
       "    .dataframe tbody tr th {\n",
       "        vertical-align: top;\n",
       "    }\n",
       "\n",
       "    .dataframe thead th {\n",
       "        text-align: right;\n",
       "    }\n",
       "</style>\n",
       "<table border=\"1\" class=\"dataframe\">\n",
       "  <thead>\n",
       "    <tr style=\"text-align: right;\">\n",
       "      <th></th>\n",
       "      <th>N</th>\n",
       "    </tr>\n",
       "  </thead>\n",
       "  <tbody>\n",
       "    <tr>\n",
       "      <th>Point sources</th>\n",
       "      <td>3</td>\n",
       "    </tr>\n",
       "    <tr>\n",
       "      <th>Extended sources</th>\n",
       "      <td>2</td>\n",
       "    </tr>\n",
       "    <tr>\n",
       "      <th>Particle sources</th>\n",
       "      <td>0</td>\n",
       "    </tr>\n",
       "  </tbody>\n",
       "</table>\n",
       "</div><br><br>Free parameters (19):<br><br><div>\n",
       "<style scoped>\n",
       "    .dataframe tbody tr th:only-of-type {\n",
       "        vertical-align: middle;\n",
       "    }\n",
       "\n",
       "    .dataframe tbody tr th {\n",
       "        vertical-align: top;\n",
       "    }\n",
       "\n",
       "    .dataframe thead th {\n",
       "        text-align: right;\n",
       "    }\n",
       "</style>\n",
       "<table border=\"1\" class=\"dataframe\">\n",
       "  <thead>\n",
       "    <tr style=\"text-align: right;\">\n",
       "      <th></th>\n",
       "      <th>value</th>\n",
       "      <th>min_value</th>\n",
       "      <th>max_value</th>\n",
       "      <th>unit</th>\n",
       "    </tr>\n",
       "  </thead>\n",
       "  <tbody>\n",
       "    <tr>\n",
       "      <th>source1.spectrum.main.Powerlaw.K</th>\n",
       "      <td>2.3e-09</td>\n",
       "      <td>1e-14</td>\n",
       "      <td>1e-08</td>\n",
       "      <td>keV-1 s-1 cm-2</td>\n",
       "    </tr>\n",
       "    <tr>\n",
       "      <th>source1.spectrum.main.Powerlaw.index</th>\n",
       "      <td>-2</td>\n",
       "      <td>-10</td>\n",
       "      <td>10</td>\n",
       "      <td></td>\n",
       "    </tr>\n",
       "    <tr>\n",
       "      <th>source2.spectrum.main.composite.alpha_1</th>\n",
       "      <td>-2</td>\n",
       "      <td>None</td>\n",
       "      <td>None</td>\n",
       "      <td></td>\n",
       "    </tr>\n",
       "    <tr>\n",
       "      <th>source2.spectrum.main.composite.beta_1</th>\n",
       "      <td>1</td>\n",
       "      <td>None</td>\n",
       "      <td>None</td>\n",
       "      <td></td>\n",
       "    </tr>\n",
       "    <tr>\n",
       "      <th>source2.spectrum.main.composite.K_2</th>\n",
       "      <td>1</td>\n",
       "      <td>1e-30</td>\n",
       "      <td>1000</td>\n",
       "      <td>keV-1 s-1 cm-2</td>\n",
       "    </tr>\n",
       "    <tr>\n",
       "      <th>source2.spectrum.main.composite.index_2.Line.a</th>\n",
       "      <td>1</td>\n",
       "      <td>None</td>\n",
       "      <td>None</td>\n",
       "      <td></td>\n",
       "    </tr>\n",
       "    <tr>\n",
       "      <th>source2.spectrum.main.composite.index_2.Line.b</th>\n",
       "      <td>0</td>\n",
       "      <td>None</td>\n",
       "      <td>None</td>\n",
       "      <td></td>\n",
       "    </tr>\n",
       "    <tr>\n",
       "      <th>source3.spectrum.main.Cutoff_powerlaw.K</th>\n",
       "      <td>1</td>\n",
       "      <td>1e-30</td>\n",
       "      <td>1000</td>\n",
       "      <td>keV-1 s-1 cm-2</td>\n",
       "    </tr>\n",
       "    <tr>\n",
       "      <th>source3.spectrum.main.Cutoff_powerlaw.index</th>\n",
       "      <td>-2</td>\n",
       "      <td>-10</td>\n",
       "      <td>10</td>\n",
       "      <td></td>\n",
       "    </tr>\n",
       "    <tr>\n",
       "      <th>source3.spectrum.main.Cutoff_powerlaw.xc</th>\n",
       "      <td>10</td>\n",
       "      <td>1e-99</td>\n",
       "      <td>None</td>\n",
       "      <td>keV</td>\n",
       "    </tr>\n",
       "    <tr>\n",
       "      <th>ext1.Gaussian_on_sphere.lon0</th>\n",
       "      <td>30.5</td>\n",
       "      <td>0</td>\n",
       "      <td>360</td>\n",
       "      <td>deg</td>\n",
       "    </tr>\n",
       "    <tr>\n",
       "      <th>ext1.Gaussian_on_sphere.lat0</th>\n",
       "      <td>-27.1</td>\n",
       "      <td>-90</td>\n",
       "      <td>90</td>\n",
       "      <td>deg</td>\n",
       "    </tr>\n",
       "    <tr>\n",
       "      <th>ext1.Gaussian_on_sphere.sigma</th>\n",
       "      <td>3</td>\n",
       "      <td>0</td>\n",
       "      <td>20</td>\n",
       "      <td>deg</td>\n",
       "    </tr>\n",
       "    <tr>\n",
       "      <th>ext1.spectrum.main.Powerlaw.K</th>\n",
       "      <td>1</td>\n",
       "      <td>1e-30</td>\n",
       "      <td>1000</td>\n",
       "      <td>keV-1 s-1 cm-2</td>\n",
       "    </tr>\n",
       "    <tr>\n",
       "      <th>ext1.spectrum.main.Powerlaw.index</th>\n",
       "      <td>-2</td>\n",
       "      <td>-10</td>\n",
       "      <td>10</td>\n",
       "      <td></td>\n",
       "    </tr>\n",
       "    <tr>\n",
       "      <th>ext2.Continuous_injection_diffusion.lon0</th>\n",
       "      <td>0</td>\n",
       "      <td>0</td>\n",
       "      <td>360</td>\n",
       "      <td>deg</td>\n",
       "    </tr>\n",
       "    <tr>\n",
       "      <th>ext2.Continuous_injection_diffusion.lat0</th>\n",
       "      <td>0</td>\n",
       "      <td>-90</td>\n",
       "      <td>90</td>\n",
       "      <td>deg</td>\n",
       "    </tr>\n",
       "    <tr>\n",
       "      <th>ext2.Continuous_injection_diffusion.rdiff0</th>\n",
       "      <td>1</td>\n",
       "      <td>0</td>\n",
       "      <td>20</td>\n",
       "      <td>deg</td>\n",
       "    </tr>\n",
       "    <tr>\n",
       "      <th>ext2.spectrum.main.Constant.k</th>\n",
       "      <td>0</td>\n",
       "      <td>None</td>\n",
       "      <td>None</td>\n",
       "      <td></td>\n",
       "    </tr>\n",
       "  </tbody>\n",
       "</table>\n",
       "</div><br><br>Fixed parameters (18):<br><br><div>\n",
       "<style scoped>\n",
       "    .dataframe tbody tr th:only-of-type {\n",
       "        vertical-align: middle;\n",
       "    }\n",
       "\n",
       "    .dataframe tbody tr th {\n",
       "        vertical-align: top;\n",
       "    }\n",
       "\n",
       "    .dataframe thead th {\n",
       "        text-align: right;\n",
       "    }\n",
       "</style>\n",
       "<table border=\"1\" class=\"dataframe\">\n",
       "  <thead>\n",
       "    <tr style=\"text-align: right;\">\n",
       "      <th></th>\n",
       "      <th>value</th>\n",
       "      <th>min_value</th>\n",
       "      <th>max_value</th>\n",
       "      <th>unit</th>\n",
       "    </tr>\n",
       "  </thead>\n",
       "  <tbody>\n",
       "    <tr>\n",
       "      <th>source1.position.ra</th>\n",
       "      <td>23.5</td>\n",
       "      <td>0</td>\n",
       "      <td>360</td>\n",
       "      <td>deg</td>\n",
       "    </tr>\n",
       "    <tr>\n",
       "      <th>source1.position.dec</th>\n",
       "      <td>-22.7</td>\n",
       "      <td>-90</td>\n",
       "      <td>90</td>\n",
       "      <td>deg</td>\n",
       "    </tr>\n",
       "    <tr>\n",
       "      <th>source1.spectrum.main.Powerlaw.piv</th>\n",
       "      <td>1</td>\n",
       "      <td>None</td>\n",
       "      <td>None</td>\n",
       "      <td>keV</td>\n",
       "    </tr>\n",
       "    <tr>\n",
       "      <th>source2.position.ra</th>\n",
       "      <td>30.5</td>\n",
       "      <td>0</td>\n",
       "      <td>360</td>\n",
       "      <td>deg</td>\n",
       "    </tr>\n",
       "    <tr>\n",
       "      <th>source2.position.dec</th>\n",
       "      <td>-27.1</td>\n",
       "      <td>-90</td>\n",
       "      <td>90</td>\n",
       "      <td>deg</td>\n",
       "    </tr>\n",
       "    <tr>\n",
       "      <th>source2.spectrum.main.composite.K_1.Line.a</th>\n",
       "      <td>1</td>\n",
       "      <td>None</td>\n",
       "      <td>None</td>\n",
       "      <td></td>\n",
       "    </tr>\n",
       "    <tr>\n",
       "      <th>source2.spectrum.main.composite.K_1.Line.b</th>\n",
       "      <td>0</td>\n",
       "      <td>None</td>\n",
       "      <td>None</td>\n",
       "      <td>keV-1 s-1 cm-2</td>\n",
       "    </tr>\n",
       "    <tr>\n",
       "      <th>source2.spectrum.main.composite.piv_1</th>\n",
       "      <td>1</td>\n",
       "      <td>None</td>\n",
       "      <td>None</td>\n",
       "      <td>keV</td>\n",
       "    </tr>\n",
       "    <tr>\n",
       "      <th>source2.spectrum.main.composite.piv_2</th>\n",
       "      <td>1</td>\n",
       "      <td>None</td>\n",
       "      <td>None</td>\n",
       "      <td>keV</td>\n",
       "    </tr>\n",
       "    <tr>\n",
       "      <th>source3.position.l</th>\n",
       "      <td>216.1</td>\n",
       "      <td>0</td>\n",
       "      <td>360</td>\n",
       "      <td>deg</td>\n",
       "    </tr>\n",
       "    <tr>\n",
       "      <th>source3.position.b</th>\n",
       "      <td>-74.56</td>\n",
       "      <td>-90</td>\n",
       "      <td>90</td>\n",
       "      <td>deg</td>\n",
       "    </tr>\n",
       "    <tr>\n",
       "      <th>source3.spectrum.main.Cutoff_powerlaw.piv</th>\n",
       "      <td>1</td>\n",
       "      <td>None</td>\n",
       "      <td>None</td>\n",
       "      <td>keV</td>\n",
       "    </tr>\n",
       "    <tr>\n",
       "      <th>ext1.spectrum.main.Powerlaw.piv</th>\n",
       "      <td>1</td>\n",
       "      <td>None</td>\n",
       "      <td>None</td>\n",
       "      <td>keV</td>\n",
       "    </tr>\n",
       "    <tr>\n",
       "      <th>ext2.Continuous_injection_diffusion.rinj</th>\n",
       "      <td>100</td>\n",
       "      <td>0</td>\n",
       "      <td>200</td>\n",
       "      <td></td>\n",
       "    </tr>\n",
       "    <tr>\n",
       "      <th>ext2.Continuous_injection_diffusion.delta</th>\n",
       "      <td>0.5</td>\n",
       "      <td>0.3</td>\n",
       "      <td>0.6</td>\n",
       "      <td></td>\n",
       "    </tr>\n",
       "    <tr>\n",
       "      <th>ext2.Continuous_injection_diffusion.b</th>\n",
       "      <td>3</td>\n",
       "      <td>1</td>\n",
       "      <td>10</td>\n",
       "      <td></td>\n",
       "    </tr>\n",
       "    <tr>\n",
       "      <th>ext2.Continuous_injection_diffusion.piv</th>\n",
       "      <td>2e+10</td>\n",
       "      <td>0</td>\n",
       "      <td>None</td>\n",
       "      <td>keV</td>\n",
       "    </tr>\n",
       "    <tr>\n",
       "      <th>ext2.Continuous_injection_diffusion.piv2</th>\n",
       "      <td>1e+09</td>\n",
       "      <td>0</td>\n",
       "      <td>None</td>\n",
       "      <td>keV</td>\n",
       "    </tr>\n",
       "  </tbody>\n",
       "</table>\n",
       "</div><br><br>Linked parameters (2):<br><br><div>\n",
       "<style scoped>\n",
       "    .dataframe tbody tr th:only-of-type {\n",
       "        vertical-align: middle;\n",
       "    }\n",
       "\n",
       "    .dataframe tbody tr th {\n",
       "        vertical-align: top;\n",
       "    }\n",
       "\n",
       "    .dataframe thead th {\n",
       "        text-align: right;\n",
       "    }\n",
       "</style>\n",
       "<table border=\"1\" class=\"dataframe\">\n",
       "  <thead>\n",
       "    <tr style=\"text-align: right;\">\n",
       "      <th></th>\n",
       "      <th>source2.spectrum.main.composite.K_1</th>\n",
       "    </tr>\n",
       "  </thead>\n",
       "  <tbody>\n",
       "    <tr>\n",
       "      <th>current value</th>\n",
       "      <td>2.300000000000001e-09</td>\n",
       "    </tr>\n",
       "    <tr>\n",
       "      <th>function</th>\n",
       "      <td>Line</td>\n",
       "    </tr>\n",
       "    <tr>\n",
       "      <th>linked to</th>\n",
       "      <td>source1.spectrum.main.Powerlaw.K</td>\n",
       "    </tr>\n",
       "    <tr>\n",
       "      <th>unit</th>\n",
       "      <td>1 / (cm2 keV s)</td>\n",
       "    </tr>\n",
       "  </tbody>\n",
       "</table>\n",
       "</div><br><div>\n",
       "<style scoped>\n",
       "    .dataframe tbody tr th:only-of-type {\n",
       "        vertical-align: middle;\n",
       "    }\n",
       "\n",
       "    .dataframe tbody tr th {\n",
       "        vertical-align: top;\n",
       "    }\n",
       "\n",
       "    .dataframe thead th {\n",
       "        text-align: right;\n",
       "    }\n",
       "</style>\n",
       "<table border=\"1\" class=\"dataframe\">\n",
       "  <thead>\n",
       "    <tr style=\"text-align: right;\">\n",
       "      <th></th>\n",
       "      <th>source2.spectrum.main.composite.index_2</th>\n",
       "    </tr>\n",
       "  </thead>\n",
       "  <tbody>\n",
       "    <tr>\n",
       "      <th>current value</th>\n",
       "      <td>-2.0</td>\n",
       "    </tr>\n",
       "    <tr>\n",
       "      <th>function</th>\n",
       "      <td>Line</td>\n",
       "    </tr>\n",
       "    <tr>\n",
       "      <th>linked to</th>\n",
       "      <td>source2.spectrum.main.composite.alpha_1</td>\n",
       "    </tr>\n",
       "    <tr>\n",
       "      <th>unit</th>\n",
       "      <td></td>\n",
       "    </tr>\n",
       "  </tbody>\n",
       "</table>\n",
       "</div><br><br>Independent variables:<br><br>(none)<br>"
      ],
      "text/plain": [
       "Model summary:\n",
       "==============\n",
       "\n",
       "                  N\n",
       "Point sources     3\n",
       "Extended sources  2\n",
       "Particle sources  0\n",
       "\n",
       "Free parameters (19):\n",
       "--------------------\n",
       "\n",
       "                                            value min_value max_value  \\\n",
       "source1.spectrum.main.Powerlaw.K          2.3e-09     1e-14     1e-08   \n",
       "source1.spectrum.main.Powerlaw.index           -2       -10        10   \n",
       "source2.spectrum.main.composite.alpha_1        -2      None      None   \n",
       "source2.spectrum.main.composite.beta_1          1      None      None   \n",
       "source2.spectrum.main.composite.K_2             1     1e-30      1000   \n",
       "source2...a                                     1      None      None   \n",
       "source2...b                                     0      None      None   \n",
       "source3.spectrum.main.Cutoff_powerlaw.K         1     1e-30      1000   \n",
       "source3...index                                -2       -10        10   \n",
       "source3.spectrum.main.Cutoff_powerlaw.xc       10     1e-99      None   \n",
       "ext1.Gaussian_on_sphere.lon0                 30.5         0       360   \n",
       "ext1.Gaussian_on_sphere.lat0                -27.1       -90        90   \n",
       "ext1.Gaussian_on_sphere.sigma                   3         0        20   \n",
       "ext1.spectrum.main.Powerlaw.K                   1     1e-30      1000   \n",
       "ext1.spectrum.main.Powerlaw.index              -2       -10        10   \n",
       "ext2.Continuous_injection_diffusion.lon0        0         0       360   \n",
       "ext2.Continuous_injection_diffusion.lat0        0       -90        90   \n",
       "ext2...rdiff0                                   1         0        20   \n",
       "ext2.spectrum.main.Constant.k                   0      None      None   \n",
       "\n",
       "                                                    unit  \n",
       "source1.spectrum.main.Powerlaw.K          keV-1 s-1 cm-2  \n",
       "source1.spectrum.main.Powerlaw.index                      \n",
       "source2.spectrum.main.composite.alpha_1                   \n",
       "source2.spectrum.main.composite.beta_1                    \n",
       "source2.spectrum.main.composite.K_2       keV-1 s-1 cm-2  \n",
       "source2...a                                               \n",
       "source2...b                                               \n",
       "source3.spectrum.main.Cutoff_powerlaw.K   keV-1 s-1 cm-2  \n",
       "source3...index                                           \n",
       "source3.spectrum.main.Cutoff_powerlaw.xc             keV  \n",
       "ext1.Gaussian_on_sphere.lon0                         deg  \n",
       "ext1.Gaussian_on_sphere.lat0                         deg  \n",
       "ext1.Gaussian_on_sphere.sigma                        deg  \n",
       "ext1.spectrum.main.Powerlaw.K             keV-1 s-1 cm-2  \n",
       "ext1.spectrum.main.Powerlaw.index                         \n",
       "ext2.Continuous_injection_diffusion.lon0             deg  \n",
       "ext2.Continuous_injection_diffusion.lat0             deg  \n",
       "ext2...rdiff0                                        deg  \n",
       "ext2.spectrum.main.Constant.k                             \n",
       "\n",
       "Fixed parameters (18):\n",
       "---------------------\n",
       "\n",
       "                                          value min_value max_value  \\\n",
       "source1.position.ra                        23.5         0       360   \n",
       "source1.position.dec                      -22.7       -90        90   \n",
       "source1.spectrum.main.Powerlaw.piv            1      None      None   \n",
       "source2.position.ra                        30.5         0       360   \n",
       "source2.position.dec                      -27.1       -90        90   \n",
       "source2...a                                   1      None      None   \n",
       "source2...b                                   0      None      None   \n",
       "source2.spectrum.main.composite.piv_1         1      None      None   \n",
       "source2.spectrum.main.composite.piv_2         1      None      None   \n",
       "source3.position.l                        216.1         0       360   \n",
       "source3.position.b                       -74.56       -90        90   \n",
       "source3...piv                                 1      None      None   \n",
       "ext1.spectrum.main.Powerlaw.piv               1      None      None   \n",
       "ext2.Continuous_injection_diffusion.rinj    100         0       200   \n",
       "ext2...delta                                0.5       0.3       0.6   \n",
       "ext2.Continuous_injection_diffusion.b         3         1        10   \n",
       "ext2.Continuous_injection_diffusion.piv   2e+10         0      None   \n",
       "ext2.Continuous_injection_diffusion.piv2  1e+09         0      None   \n",
       "\n",
       "                                                    unit  \n",
       "source1.position.ra                                  deg  \n",
       "source1.position.dec                                 deg  \n",
       "source1.spectrum.main.Powerlaw.piv                   keV  \n",
       "source2.position.ra                                  deg  \n",
       "source2.position.dec                                 deg  \n",
       "source2...a                                               \n",
       "source2...b                               keV-1 s-1 cm-2  \n",
       "source2.spectrum.main.composite.piv_1                keV  \n",
       "source2.spectrum.main.composite.piv_2                keV  \n",
       "source3.position.l                                   deg  \n",
       "source3.position.b                                   deg  \n",
       "source3...piv                                        keV  \n",
       "ext1.spectrum.main.Powerlaw.piv                      keV  \n",
       "ext2.Continuous_injection_diffusion.rinj                  \n",
       "ext2...delta                                              \n",
       "ext2.Continuous_injection_diffusion.b                     \n",
       "ext2.Continuous_injection_diffusion.piv              keV  \n",
       "ext2.Continuous_injection_diffusion.piv2             keV  \n",
       "\n",
       "Linked parameters (2):\n",
       "----------------------\n",
       "\n",
       "              source2.spectrum.main.composite.K_1\n",
       "current value               2.300000000000001e-09\n",
       "function                                     Line\n",
       "linked to        source1.spectrum.main.Powerlaw.K\n",
       "unit                              1 / (cm2 keV s)\n",
       "\n",
       "               source2.spectrum.main.composite.index_2\n",
       "current value                                     -2.0\n",
       "function                                          Line\n",
       "linked to      source2.spectrum.main.composite.alpha_1\n",
       "unit                                                  \n",
       "\n",
       "\n",
       "Independent variables:\n",
       "----------------------\n",
       "\n",
       "(none)"
      ]
     },
     "metadata": {},
     "output_type": "display_data"
    }
   ],
   "source": [
    "# Fix a parameter\n",
    "model.source1.spectrum.main.Powerlaw.K.fix = True\n",
    "# or\n",
    "model.source1.spectrum.main.Powerlaw.K.free = False\n",
    "\n",
    "# Free it again\n",
    "model.source1.spectrum.main.Powerlaw.K.free = True\n",
    "# or\n",
    "model.source1.spectrum.main.Powerlaw.K.fix = False\n",
    "\n",
    "# Change the value\n",
    "model.source1.spectrum.main.Powerlaw.K = 2.3\n",
    "# or using physical units (need to be compatible with what shown \n",
    "# in the table above)\n",
    "model.source1.spectrum.main.Powerlaw.K = 2.3 * 1 / (u.cm**2 * u.s * u.TeV)\n",
    "\n",
    "# Change the boundaries for the parameter\n",
    "model.source1.spectrum.main.Powerlaw.K.bounds = (1e-10, 1.0)\n",
    "# you can use units here as well, like:\n",
    "model.source1.spectrum.main.Powerlaw.K.bounds = (1e-5 * 1 / (u.cm**2 * u.s * u.TeV), \n",
    "                                                 10.0 * 1 / (u.cm**2 * u.s * u.TeV))\n",
    "\n",
    "# Link two parameters so that they are forced to have the same value\n",
    "model.link(model.source2.spectrum.main.composite.K_1,\n",
    "           model.source1.spectrum.main.Powerlaw.K)\n",
    "\n",
    "# Link two parameters with a law. The parameters of the law become free\n",
    "# parameters in the fit. In this case we impose a linear relationship\n",
    "# between the index of the log-parabolic spectrum and the index of the\n",
    "# powerlaw in source2: index_2 = a * alpha_1 + b. \n",
    "\n",
    "law = Line()\n",
    "model.link(model.source2.spectrum.main.composite.index_2,\n",
    "           model.source2.spectrum.main.composite.alpha_1,\n",
    "           law)\n",
    "\n",
    "# If you want to force them to be in a specific relationship,\n",
    "# say index_2 = alpha_1 + 1, just fix a and b to the corresponding values,\n",
    "# after the linking, like:\n",
    "# model.source2.spectrum.main.composite.index_2.Line.a = 1.0\n",
    "# model.source2.spectrum.main.composite.index_2.Line.a.fix = True\n",
    "# model.source2.spectrum.main.composite.index_2.Line.b = 0.0\n",
    "# model.source2.spectrum.main.composite.index_2.Line.b.fix = True\n",
    "\n",
    "# Now display() will show the links\n",
    "model.display(complete=True)"
   ]
  },
  {
   "cell_type": "markdown",
   "metadata": {},
   "source": [
    "Now, for the following steps, let's keep it simple and let's use a single point source:"
   ]
  },
  {
   "cell_type": "code",
   "execution_count": 12,
   "metadata": {},
   "outputs": [],
   "source": [
    "new_model = Model(source1)\n",
    "\n",
    "source1_sp.K.bounds = (0.01, 100)"
   ]
  },
  {
   "cell_type": "markdown",
   "metadata": {},
   "source": [
    "A model can be saved to disk, and reloaded from disk, as:"
   ]
  },
  {
   "cell_type": "code",
   "execution_count": 13,
   "metadata": {},
   "outputs": [],
   "source": [
    "new_model.save(\"new_model.yml\", overwrite=True)\n",
    "\n",
    "new_model_reloaded = load_model(\"new_model.yml\")"
   ]
  },
  {
   "cell_type": "markdown",
   "metadata": {},
   "source": [
    "The output is in [YAML format](http://www.yaml.org/start.html), a human-readable text-based format."
   ]
  },
  {
   "cell_type": "markdown",
   "metadata": {},
   "source": [
    "## Perform the analysis\n",
    "\n",
    "### Maximum likelihood analysis\n",
    "\n",
    "Now that we have the data and the model, we can perform an analysis very easily:"
   ]
  },
  {
   "cell_type": "code",
   "execution_count": 14,
   "metadata": {},
   "outputs": [
    {
     "name": "stdout",
     "output_type": "stream",
     "text": [
      "Best fit values:\n",
      "\n"
     ]
    },
    {
     "data": {
      "text/html": [
       "<div>\n",
       "<style scoped>\n",
       "    .dataframe tbody tr th:only-of-type {\n",
       "        vertical-align: middle;\n",
       "    }\n",
       "\n",
       "    .dataframe tbody tr th {\n",
       "        vertical-align: top;\n",
       "    }\n",
       "\n",
       "    .dataframe thead th {\n",
       "        text-align: right;\n",
       "    }\n",
       "</style>\n",
       "<table border=\"1\" class=\"dataframe\">\n",
       "  <thead>\n",
       "    <tr style=\"text-align: right;\">\n",
       "      <th></th>\n",
       "      <th>result</th>\n",
       "      <th>unit</th>\n",
       "    </tr>\n",
       "    <tr>\n",
       "      <th>parameter</th>\n",
       "      <th></th>\n",
       "      <th></th>\n",
       "    </tr>\n",
       "  </thead>\n",
       "  <tbody>\n",
       "    <tr>\n",
       "      <th>source1.spectrum.main.Powerlaw.K</th>\n",
       "      <td>(9.0 -3.1 +5) x 10^-1</td>\n",
       "      <td>1 / (cm2 keV s)</td>\n",
       "    </tr>\n",
       "    <tr>\n",
       "      <th>source1.spectrum.main.Powerlaw.index</th>\n",
       "      <td>-1.98 +/- 0.07</td>\n",
       "      <td></td>\n",
       "    </tr>\n",
       "  </tbody>\n",
       "</table>\n",
       "</div>"
      ],
      "text/plain": [
       "                                                     result             unit\n",
       "parameter                                                                   \n",
       "source1.spectrum.main.Powerlaw.K      (9.0 -3.1 +5) x 10^-1  1 / (cm2 keV s)\n",
       "source1.spectrum.main.Powerlaw.index         -1.98 +/- 0.07                 "
      ]
     },
     "metadata": {},
     "output_type": "display_data"
    },
    {
     "name": "stdout",
     "output_type": "stream",
     "text": [
      "\n",
      "Correlation matrix:\n",
      "\n"
     ]
    },
    {
     "data": {
      "text/html": [
       "<table id=\"table4702753360\">\n",
       "<tr><td>1.00</td><td>-0.99</td></tr>\n",
       "<tr><td>-0.99</td><td>1.00</td></tr>\n",
       "</table>"
      ],
      "text/plain": [
       " 1.00 -0.99\n",
       "-0.99  1.00"
      ]
     },
     "metadata": {},
     "output_type": "display_data"
    },
    {
     "name": "stdout",
     "output_type": "stream",
     "text": [
      "\n",
      "Values of -log(likelihood) at the minimum:\n",
      "\n"
     ]
    },
    {
     "data": {
      "text/html": [
       "<div>\n",
       "<style scoped>\n",
       "    .dataframe tbody tr th:only-of-type {\n",
       "        vertical-align: middle;\n",
       "    }\n",
       "\n",
       "    .dataframe tbody tr th {\n",
       "        vertical-align: top;\n",
       "    }\n",
       "\n",
       "    .dataframe thead th {\n",
       "        text-align: right;\n",
       "    }\n",
       "</style>\n",
       "<table border=\"1\" class=\"dataframe\">\n",
       "  <thead>\n",
       "    <tr style=\"text-align: right;\">\n",
       "      <th></th>\n",
       "      <th>-log(likelihood)</th>\n",
       "    </tr>\n",
       "  </thead>\n",
       "  <tbody>\n",
       "    <tr>\n",
       "      <th>ogip</th>\n",
       "      <td>181.766578</td>\n",
       "    </tr>\n",
       "    <tr>\n",
       "      <th>total</th>\n",
       "      <td>181.766578</td>\n",
       "    </tr>\n",
       "  </tbody>\n",
       "</table>\n",
       "</div>"
      ],
      "text/plain": [
       "       -log(likelihood)\n",
       "ogip         181.766578\n",
       "total        181.766578"
      ]
     },
     "metadata": {},
     "output_type": "display_data"
    },
    {
     "name": "stdout",
     "output_type": "stream",
     "text": [
      "\n",
      "Values of statistical measures:\n",
      "\n"
     ]
    },
    {
     "data": {
      "text/html": [
       "<div>\n",
       "<style scoped>\n",
       "    .dataframe tbody tr th:only-of-type {\n",
       "        vertical-align: middle;\n",
       "    }\n",
       "\n",
       "    .dataframe tbody tr th {\n",
       "        vertical-align: top;\n",
       "    }\n",
       "\n",
       "    .dataframe thead th {\n",
       "        text-align: right;\n",
       "    }\n",
       "</style>\n",
       "<table border=\"1\" class=\"dataframe\">\n",
       "  <thead>\n",
       "    <tr style=\"text-align: right;\">\n",
       "      <th></th>\n",
       "      <th>statistical measures</th>\n",
       "    </tr>\n",
       "  </thead>\n",
       "  <tbody>\n",
       "    <tr>\n",
       "      <th>AIC</th>\n",
       "      <td>367.629156</td>\n",
       "    </tr>\n",
       "    <tr>\n",
       "      <th>BIC</th>\n",
       "      <td>373.237217</td>\n",
       "    </tr>\n",
       "  </tbody>\n",
       "</table>\n",
       "</div>"
      ],
      "text/plain": [
       "     statistical measures\n",
       "AIC            367.629156\n",
       "BIC            373.237217"
      ]
     },
     "metadata": {},
     "output_type": "display_data"
    }
   ],
   "source": [
    "data = DataList(ogip)\n",
    "\n",
    "jl = JointLikelihood(new_model, data)\n",
    "\n",
    "best_fit_parameters, likelihood_values = jl.fit()"
   ]
  },
  {
   "cell_type": "markdown",
   "metadata": {},
   "source": [
    "The output of the fit() method of the JointLikelihood object consists of two pandas DataFrame objects, which can be queried, saved to disk, reloaded and so on. Refer to the [pandas manual](http://pandas.pydata.org/pandas-docs/stable/dsintro.html#dataframe) for details.\n",
    "\n",
    "After the fit the JointLikelihood instance will have a .results attribute which contains the results of the fit."
   ]
  },
  {
   "cell_type": "code",
   "execution_count": 15,
   "metadata": {},
   "outputs": [
    {
     "name": "stdout",
     "output_type": "stream",
     "text": [
      "Best fit values:\n",
      "\n"
     ]
    },
    {
     "data": {
      "text/html": [
       "<div>\n",
       "<style scoped>\n",
       "    .dataframe tbody tr th:only-of-type {\n",
       "        vertical-align: middle;\n",
       "    }\n",
       "\n",
       "    .dataframe tbody tr th {\n",
       "        vertical-align: top;\n",
       "    }\n",
       "\n",
       "    .dataframe thead th {\n",
       "        text-align: right;\n",
       "    }\n",
       "</style>\n",
       "<table border=\"1\" class=\"dataframe\">\n",
       "  <thead>\n",
       "    <tr style=\"text-align: right;\">\n",
       "      <th></th>\n",
       "      <th>result</th>\n",
       "      <th>unit</th>\n",
       "    </tr>\n",
       "    <tr>\n",
       "      <th>parameter</th>\n",
       "      <th></th>\n",
       "      <th></th>\n",
       "    </tr>\n",
       "  </thead>\n",
       "  <tbody>\n",
       "    <tr>\n",
       "      <th>source1.spectrum.main.Powerlaw.K</th>\n",
       "      <td>(9.0 -3.1 +5) x 10^-1</td>\n",
       "      <td>1 / (cm2 keV s)</td>\n",
       "    </tr>\n",
       "    <tr>\n",
       "      <th>source1.spectrum.main.Powerlaw.index</th>\n",
       "      <td>-1.98 +/- 0.07</td>\n",
       "      <td></td>\n",
       "    </tr>\n",
       "  </tbody>\n",
       "</table>\n",
       "</div>"
      ],
      "text/plain": [
       "                                                     result             unit\n",
       "parameter                                                                   \n",
       "source1.spectrum.main.Powerlaw.K      (9.0 -3.1 +5) x 10^-1  1 / (cm2 keV s)\n",
       "source1.spectrum.main.Powerlaw.index         -1.98 +/- 0.07                 "
      ]
     },
     "metadata": {},
     "output_type": "display_data"
    },
    {
     "name": "stdout",
     "output_type": "stream",
     "text": [
      "\n",
      "Correlation matrix:\n",
      "\n"
     ]
    },
    {
     "data": {
      "text/html": [
       "<table id=\"table4703278096\">\n",
       "<tr><td>1.00</td><td>-0.99</td></tr>\n",
       "<tr><td>-0.99</td><td>1.00</td></tr>\n",
       "</table>"
      ],
      "text/plain": [
       " 1.00 -0.99\n",
       "-0.99  1.00"
      ]
     },
     "metadata": {},
     "output_type": "display_data"
    },
    {
     "name": "stdout",
     "output_type": "stream",
     "text": [
      "\n",
      "Values of -log(likelihood) at the minimum:\n",
      "\n"
     ]
    },
    {
     "data": {
      "text/html": [
       "<div>\n",
       "<style scoped>\n",
       "    .dataframe tbody tr th:only-of-type {\n",
       "        vertical-align: middle;\n",
       "    }\n",
       "\n",
       "    .dataframe tbody tr th {\n",
       "        vertical-align: top;\n",
       "    }\n",
       "\n",
       "    .dataframe thead th {\n",
       "        text-align: right;\n",
       "    }\n",
       "</style>\n",
       "<table border=\"1\" class=\"dataframe\">\n",
       "  <thead>\n",
       "    <tr style=\"text-align: right;\">\n",
       "      <th></th>\n",
       "      <th>-log(likelihood)</th>\n",
       "    </tr>\n",
       "  </thead>\n",
       "  <tbody>\n",
       "    <tr>\n",
       "      <th>ogip</th>\n",
       "      <td>181.766578</td>\n",
       "    </tr>\n",
       "    <tr>\n",
       "      <th>total</th>\n",
       "      <td>181.766578</td>\n",
       "    </tr>\n",
       "  </tbody>\n",
       "</table>\n",
       "</div>"
      ],
      "text/plain": [
       "       -log(likelihood)\n",
       "ogip         181.766578\n",
       "total        181.766578"
      ]
     },
     "metadata": {},
     "output_type": "display_data"
    },
    {
     "name": "stdout",
     "output_type": "stream",
     "text": [
      "\n",
      "Values of statistical measures:\n",
      "\n"
     ]
    },
    {
     "data": {
      "text/html": [
       "<div>\n",
       "<style scoped>\n",
       "    .dataframe tbody tr th:only-of-type {\n",
       "        vertical-align: middle;\n",
       "    }\n",
       "\n",
       "    .dataframe tbody tr th {\n",
       "        vertical-align: top;\n",
       "    }\n",
       "\n",
       "    .dataframe thead th {\n",
       "        text-align: right;\n",
       "    }\n",
       "</style>\n",
       "<table border=\"1\" class=\"dataframe\">\n",
       "  <thead>\n",
       "    <tr style=\"text-align: right;\">\n",
       "      <th></th>\n",
       "      <th>statistical measures</th>\n",
       "    </tr>\n",
       "  </thead>\n",
       "  <tbody>\n",
       "    <tr>\n",
       "      <th>AIC</th>\n",
       "      <td>367.629156</td>\n",
       "    </tr>\n",
       "    <tr>\n",
       "      <th>BIC</th>\n",
       "      <td>373.237217</td>\n",
       "    </tr>\n",
       "  </tbody>\n",
       "</table>\n",
       "</div>"
      ],
      "text/plain": [
       "     statistical measures\n",
       "AIC            367.629156\n",
       "BIC            373.237217"
      ]
     },
     "metadata": {},
     "output_type": "display_data"
    }
   ],
   "source": [
    "jl.results.display()"
   ]
  },
  {
   "cell_type": "markdown",
   "metadata": {},
   "source": [
    "This object can be saved to disk in a FITS file:"
   ]
  },
  {
   "cell_type": "code",
   "execution_count": 16,
   "metadata": {},
   "outputs": [],
   "source": [
    "jl.results.write_to(\"my_results.fits\", overwrite=True)"
   ]
  },
  {
   "cell_type": "markdown",
   "metadata": {},
   "source": [
    "The produced FITS file contains the complete definition of the model and of the results, so it can be reloaded in a separate session as:"
   ]
  },
  {
   "cell_type": "code",
   "execution_count": 17,
   "metadata": {},
   "outputs": [
    {
     "name": "stdout",
     "output_type": "stream",
     "text": [
      "Best fit values:\n",
      "\n"
     ]
    },
    {
     "data": {
      "text/html": [
       "<div>\n",
       "<style scoped>\n",
       "    .dataframe tbody tr th:only-of-type {\n",
       "        vertical-align: middle;\n",
       "    }\n",
       "\n",
       "    .dataframe tbody tr th {\n",
       "        vertical-align: top;\n",
       "    }\n",
       "\n",
       "    .dataframe thead th {\n",
       "        text-align: right;\n",
       "    }\n",
       "</style>\n",
       "<table border=\"1\" class=\"dataframe\">\n",
       "  <thead>\n",
       "    <tr style=\"text-align: right;\">\n",
       "      <th></th>\n",
       "      <th>result</th>\n",
       "      <th>unit</th>\n",
       "    </tr>\n",
       "    <tr>\n",
       "      <th>parameter</th>\n",
       "      <th></th>\n",
       "      <th></th>\n",
       "    </tr>\n",
       "  </thead>\n",
       "  <tbody>\n",
       "    <tr>\n",
       "      <th>source1.spectrum.main.Powerlaw.K</th>\n",
       "      <td>(9.0 -3.1 +5) x 10^-1</td>\n",
       "      <td>1 / (cm2 keV s)</td>\n",
       "    </tr>\n",
       "    <tr>\n",
       "      <th>source1.spectrum.main.Powerlaw.index</th>\n",
       "      <td>-1.98 +/- 0.07</td>\n",
       "      <td></td>\n",
       "    </tr>\n",
       "  </tbody>\n",
       "</table>\n",
       "</div>"
      ],
      "text/plain": [
       "                                                     result             unit\n",
       "parameter                                                                   \n",
       "source1.spectrum.main.Powerlaw.K      (9.0 -3.1 +5) x 10^-1  1 / (cm2 keV s)\n",
       "source1.spectrum.main.Powerlaw.index         -1.98 +/- 0.07                 "
      ]
     },
     "metadata": {},
     "output_type": "display_data"
    },
    {
     "name": "stdout",
     "output_type": "stream",
     "text": [
      "\n",
      "Correlation matrix:\n",
      "\n"
     ]
    },
    {
     "data": {
      "text/html": [
       "<table id=\"table4702743888\">\n",
       "<tr><td>1.00</td><td>-0.99</td></tr>\n",
       "<tr><td>-0.99</td><td>1.00</td></tr>\n",
       "</table>"
      ],
      "text/plain": [
       " 1.00 -0.99\n",
       "-0.99  1.00"
      ]
     },
     "metadata": {},
     "output_type": "display_data"
    },
    {
     "name": "stdout",
     "output_type": "stream",
     "text": [
      "\n",
      "Values of -log(likelihood) at the minimum:\n",
      "\n"
     ]
    },
    {
     "data": {
      "text/html": [
       "<div>\n",
       "<style scoped>\n",
       "    .dataframe tbody tr th:only-of-type {\n",
       "        vertical-align: middle;\n",
       "    }\n",
       "\n",
       "    .dataframe tbody tr th {\n",
       "        vertical-align: top;\n",
       "    }\n",
       "\n",
       "    .dataframe thead th {\n",
       "        text-align: right;\n",
       "    }\n",
       "</style>\n",
       "<table border=\"1\" class=\"dataframe\">\n",
       "  <thead>\n",
       "    <tr style=\"text-align: right;\">\n",
       "      <th></th>\n",
       "      <th>-log(likelihood)</th>\n",
       "    </tr>\n",
       "  </thead>\n",
       "  <tbody>\n",
       "    <tr>\n",
       "      <th>ogip</th>\n",
       "      <td>181.766578</td>\n",
       "    </tr>\n",
       "    <tr>\n",
       "      <th>total</th>\n",
       "      <td>181.766578</td>\n",
       "    </tr>\n",
       "  </tbody>\n",
       "</table>\n",
       "</div>"
      ],
      "text/plain": [
       "       -log(likelihood)\n",
       "ogip         181.766578\n",
       "total        181.766578"
      ]
     },
     "metadata": {},
     "output_type": "display_data"
    },
    {
     "name": "stdout",
     "output_type": "stream",
     "text": [
      "\n",
      "Values of statistical measures:\n",
      "\n"
     ]
    },
    {
     "data": {
      "text/html": [
       "<div>\n",
       "<style scoped>\n",
       "    .dataframe tbody tr th:only-of-type {\n",
       "        vertical-align: middle;\n",
       "    }\n",
       "\n",
       "    .dataframe tbody tr th {\n",
       "        vertical-align: top;\n",
       "    }\n",
       "\n",
       "    .dataframe thead th {\n",
       "        text-align: right;\n",
       "    }\n",
       "</style>\n",
       "<table border=\"1\" class=\"dataframe\">\n",
       "  <thead>\n",
       "    <tr style=\"text-align: right;\">\n",
       "      <th></th>\n",
       "      <th>statistical measures</th>\n",
       "    </tr>\n",
       "  </thead>\n",
       "  <tbody>\n",
       "    <tr>\n",
       "      <th>AIC</th>\n",
       "      <td>367.629156</td>\n",
       "    </tr>\n",
       "    <tr>\n",
       "      <th>BIC</th>\n",
       "      <td>373.237217</td>\n",
       "    </tr>\n",
       "  </tbody>\n",
       "</table>\n",
       "</div>"
      ],
      "text/plain": [
       "     statistical measures\n",
       "AIC            367.629156\n",
       "BIC            373.237217"
      ]
     },
     "metadata": {},
     "output_type": "display_data"
    }
   ],
   "source": [
    "results_reloaded = load_analysis_results(\"my_results.fits\")\n",
    "\n",
    "results_reloaded.display()"
   ]
  },
  {
   "cell_type": "markdown",
   "metadata": {
    "collapsed": true
   },
   "source": [
    "The flux of the source can be computed from the 'results' object (even in another session by reloading the FITS file), as:"
   ]
  },
  {
   "cell_type": "code",
   "execution_count": 18,
   "metadata": {},
   "outputs": [
    {
     "data": {
      "application/vnd.jupyter.widget-view+json": {
       "model_id": "4a35e27dff014c11b9ded3fc217e797c",
       "version_major": 2,
       "version_minor": 0
      },
      "text/plain": [
       "VBox(children=(HTML(value='Propagating errors : '), HTML(value=''), FloatProgress(value=0.0)))"
      ]
     },
     "metadata": {},
     "output_type": "display_data"
    },
    {
     "data": {
      "text/html": [
       "<div>\n",
       "<style scoped>\n",
       "    .dataframe tbody tr th:only-of-type {\n",
       "        vertical-align: middle;\n",
       "    }\n",
       "\n",
       "    .dataframe tbody tr th {\n",
       "        vertical-align: top;\n",
       "    }\n",
       "\n",
       "    .dataframe thead th {\n",
       "        text-align: right;\n",
       "    }\n",
       "</style>\n",
       "<table border=\"1\" class=\"dataframe\">\n",
       "  <thead>\n",
       "    <tr style=\"text-align: right;\">\n",
       "      <th></th>\n",
       "      <th>flux</th>\n",
       "    </tr>\n",
       "  </thead>\n",
       "  <tbody>\n",
       "    <tr>\n",
       "      <th>source1: total</th>\n",
       "      <td>(3.8 -1.6 +2.9) x 10^-9 erg / (cm2 s)</td>\n",
       "    </tr>\n",
       "  </tbody>\n",
       "</table>\n",
       "</div>"
      ],
      "text/plain": [
       "                                                 flux\n",
       "source1: total  (3.8 -1.6 +2.9) x 10^-9 erg / (cm2 s)"
      ]
     },
     "metadata": {},
     "output_type": "display_data"
    }
   ],
   "source": [
    "fluxes = jl.results.get_flux(100 * u.keV, 1 * u.MeV)\n",
    "\n",
    "# Same results would be obtained with\n",
    "# fluxes = results_reloaded.get_point_source_flux(100 * u.keV, 1 * u.MeV)"
   ]
  },
  {
   "cell_type": "markdown",
   "metadata": {},
   "source": [
    "We can also plot the spectrum with its error region, as:"
   ]
  },
  {
   "cell_type": "code",
   "execution_count": 19,
   "metadata": {},
   "outputs": [
    {
     "data": {
      "application/vnd.jupyter.widget-view+json": {
       "model_id": "e907894e930f4655abe8d4f23e39e72b",
       "version_major": 2,
       "version_minor": 0
      },
      "text/plain": [
       "VBox(children=(HTML(value='Propagating errors : '), HTML(value=''), FloatProgress(value=0.0)))"
      ]
     },
     "metadata": {},
     "output_type": "display_data"
    },
    {
     "data": {
      "application/javascript": [
       "/* Put everything inside the global mpl namespace */\n",
       "window.mpl = {};\n",
       "\n",
       "\n",
       "mpl.get_websocket_type = function() {\n",
       "    if (typeof(WebSocket) !== 'undefined') {\n",
       "        return WebSocket;\n",
       "    } else if (typeof(MozWebSocket) !== 'undefined') {\n",
       "        return MozWebSocket;\n",
       "    } else {\n",
       "        alert('Your browser does not have WebSocket support. ' +\n",
       "              'Please try Chrome, Safari or Firefox ≥ 6. ' +\n",
       "              'Firefox 4 and 5 are also supported but you ' +\n",
       "              'have to enable WebSockets in about:config.');\n",
       "    };\n",
       "}\n",
       "\n",
       "mpl.figure = function(figure_id, websocket, ondownload, parent_element) {\n",
       "    this.id = figure_id;\n",
       "\n",
       "    this.ws = websocket;\n",
       "\n",
       "    this.supports_binary = (this.ws.binaryType != undefined);\n",
       "\n",
       "    if (!this.supports_binary) {\n",
       "        var warnings = document.getElementById(\"mpl-warnings\");\n",
       "        if (warnings) {\n",
       "            warnings.style.display = 'block';\n",
       "            warnings.textContent = (\n",
       "                \"This browser does not support binary websocket messages. \" +\n",
       "                    \"Performance may be slow.\");\n",
       "        }\n",
       "    }\n",
       "\n",
       "    this.imageObj = new Image();\n",
       "\n",
       "    this.context = undefined;\n",
       "    this.message = undefined;\n",
       "    this.canvas = undefined;\n",
       "    this.rubberband_canvas = undefined;\n",
       "    this.rubberband_context = undefined;\n",
       "    this.format_dropdown = undefined;\n",
       "\n",
       "    this.image_mode = 'full';\n",
       "\n",
       "    this.root = $('<div/>');\n",
       "    this._root_extra_style(this.root)\n",
       "    this.root.attr('style', 'display: inline-block');\n",
       "\n",
       "    $(parent_element).append(this.root);\n",
       "\n",
       "    this._init_header(this);\n",
       "    this._init_canvas(this);\n",
       "    this._init_toolbar(this);\n",
       "\n",
       "    var fig = this;\n",
       "\n",
       "    this.waiting = false;\n",
       "\n",
       "    this.ws.onopen =  function () {\n",
       "            fig.send_message(\"supports_binary\", {value: fig.supports_binary});\n",
       "            fig.send_message(\"send_image_mode\", {});\n",
       "            if (mpl.ratio != 1) {\n",
       "                fig.send_message(\"set_dpi_ratio\", {'dpi_ratio': mpl.ratio});\n",
       "            }\n",
       "            fig.send_message(\"refresh\", {});\n",
       "        }\n",
       "\n",
       "    this.imageObj.onload = function() {\n",
       "            if (fig.image_mode == 'full') {\n",
       "                // Full images could contain transparency (where diff images\n",
       "                // almost always do), so we need to clear the canvas so that\n",
       "                // there is no ghosting.\n",
       "                fig.context.clearRect(0, 0, fig.canvas.width, fig.canvas.height);\n",
       "            }\n",
       "            fig.context.drawImage(fig.imageObj, 0, 0);\n",
       "        };\n",
       "\n",
       "    this.imageObj.onunload = function() {\n",
       "        fig.ws.close();\n",
       "    }\n",
       "\n",
       "    this.ws.onmessage = this._make_on_message_function(this);\n",
       "\n",
       "    this.ondownload = ondownload;\n",
       "}\n",
       "\n",
       "mpl.figure.prototype._init_header = function() {\n",
       "    var titlebar = $(\n",
       "        '<div class=\"ui-dialog-titlebar ui-widget-header ui-corner-all ' +\n",
       "        'ui-helper-clearfix\"/>');\n",
       "    var titletext = $(\n",
       "        '<div class=\"ui-dialog-title\" style=\"width: 100%; ' +\n",
       "        'text-align: center; padding: 3px;\"/>');\n",
       "    titlebar.append(titletext)\n",
       "    this.root.append(titlebar);\n",
       "    this.header = titletext[0];\n",
       "}\n",
       "\n",
       "\n",
       "\n",
       "mpl.figure.prototype._canvas_extra_style = function(canvas_div) {\n",
       "\n",
       "}\n",
       "\n",
       "\n",
       "mpl.figure.prototype._root_extra_style = function(canvas_div) {\n",
       "\n",
       "}\n",
       "\n",
       "mpl.figure.prototype._init_canvas = function() {\n",
       "    var fig = this;\n",
       "\n",
       "    var canvas_div = $('<div/>');\n",
       "\n",
       "    canvas_div.attr('style', 'position: relative; clear: both; outline: 0');\n",
       "\n",
       "    function canvas_keyboard_event(event) {\n",
       "        return fig.key_event(event, event['data']);\n",
       "    }\n",
       "\n",
       "    canvas_div.keydown('key_press', canvas_keyboard_event);\n",
       "    canvas_div.keyup('key_release', canvas_keyboard_event);\n",
       "    this.canvas_div = canvas_div\n",
       "    this._canvas_extra_style(canvas_div)\n",
       "    this.root.append(canvas_div);\n",
       "\n",
       "    var canvas = $('<canvas/>');\n",
       "    canvas.addClass('mpl-canvas');\n",
       "    canvas.attr('style', \"left: 0; top: 0; z-index: 0; outline: 0\")\n",
       "\n",
       "    this.canvas = canvas[0];\n",
       "    this.context = canvas[0].getContext(\"2d\");\n",
       "\n",
       "    var backingStore = this.context.backingStorePixelRatio ||\n",
       "\tthis.context.webkitBackingStorePixelRatio ||\n",
       "\tthis.context.mozBackingStorePixelRatio ||\n",
       "\tthis.context.msBackingStorePixelRatio ||\n",
       "\tthis.context.oBackingStorePixelRatio ||\n",
       "\tthis.context.backingStorePixelRatio || 1;\n",
       "\n",
       "    mpl.ratio = (window.devicePixelRatio || 1) / backingStore;\n",
       "\n",
       "    var rubberband = $('<canvas/>');\n",
       "    rubberband.attr('style', \"position: absolute; left: 0; top: 0; z-index: 1;\")\n",
       "\n",
       "    var pass_mouse_events = true;\n",
       "\n",
       "    canvas_div.resizable({\n",
       "        start: function(event, ui) {\n",
       "            pass_mouse_events = false;\n",
       "        },\n",
       "        resize: function(event, ui) {\n",
       "            fig.request_resize(ui.size.width, ui.size.height);\n",
       "        },\n",
       "        stop: function(event, ui) {\n",
       "            pass_mouse_events = true;\n",
       "            fig.request_resize(ui.size.width, ui.size.height);\n",
       "        },\n",
       "    });\n",
       "\n",
       "    function mouse_event_fn(event) {\n",
       "        if (pass_mouse_events)\n",
       "            return fig.mouse_event(event, event['data']);\n",
       "    }\n",
       "\n",
       "    rubberband.mousedown('button_press', mouse_event_fn);\n",
       "    rubberband.mouseup('button_release', mouse_event_fn);\n",
       "    // Throttle sequential mouse events to 1 every 20ms.\n",
       "    rubberband.mousemove('motion_notify', mouse_event_fn);\n",
       "\n",
       "    rubberband.mouseenter('figure_enter', mouse_event_fn);\n",
       "    rubberband.mouseleave('figure_leave', mouse_event_fn);\n",
       "\n",
       "    canvas_div.on(\"wheel\", function (event) {\n",
       "        event = event.originalEvent;\n",
       "        event['data'] = 'scroll'\n",
       "        if (event.deltaY < 0) {\n",
       "            event.step = 1;\n",
       "        } else {\n",
       "            event.step = -1;\n",
       "        }\n",
       "        mouse_event_fn(event);\n",
       "    });\n",
       "\n",
       "    canvas_div.append(canvas);\n",
       "    canvas_div.append(rubberband);\n",
       "\n",
       "    this.rubberband = rubberband;\n",
       "    this.rubberband_canvas = rubberband[0];\n",
       "    this.rubberband_context = rubberband[0].getContext(\"2d\");\n",
       "    this.rubberband_context.strokeStyle = \"#000000\";\n",
       "\n",
       "    this._resize_canvas = function(width, height) {\n",
       "        // Keep the size of the canvas, canvas container, and rubber band\n",
       "        // canvas in synch.\n",
       "        canvas_div.css('width', width)\n",
       "        canvas_div.css('height', height)\n",
       "\n",
       "        canvas.attr('width', width * mpl.ratio);\n",
       "        canvas.attr('height', height * mpl.ratio);\n",
       "        canvas.attr('style', 'width: ' + width + 'px; height: ' + height + 'px;');\n",
       "\n",
       "        rubberband.attr('width', width);\n",
       "        rubberband.attr('height', height);\n",
       "    }\n",
       "\n",
       "    // Set the figure to an initial 600x600px, this will subsequently be updated\n",
       "    // upon first draw.\n",
       "    this._resize_canvas(600, 600);\n",
       "\n",
       "    // Disable right mouse context menu.\n",
       "    $(this.rubberband_canvas).bind(\"contextmenu\",function(e){\n",
       "        return false;\n",
       "    });\n",
       "\n",
       "    function set_focus () {\n",
       "        canvas.focus();\n",
       "        canvas_div.focus();\n",
       "    }\n",
       "\n",
       "    window.setTimeout(set_focus, 100);\n",
       "}\n",
       "\n",
       "mpl.figure.prototype._init_toolbar = function() {\n",
       "    var fig = this;\n",
       "\n",
       "    var nav_element = $('<div/>');\n",
       "    nav_element.attr('style', 'width: 100%');\n",
       "    this.root.append(nav_element);\n",
       "\n",
       "    // Define a callback function for later on.\n",
       "    function toolbar_event(event) {\n",
       "        return fig.toolbar_button_onclick(event['data']);\n",
       "    }\n",
       "    function toolbar_mouse_event(event) {\n",
       "        return fig.toolbar_button_onmouseover(event['data']);\n",
       "    }\n",
       "\n",
       "    for(var toolbar_ind in mpl.toolbar_items) {\n",
       "        var name = mpl.toolbar_items[toolbar_ind][0];\n",
       "        var tooltip = mpl.toolbar_items[toolbar_ind][1];\n",
       "        var image = mpl.toolbar_items[toolbar_ind][2];\n",
       "        var method_name = mpl.toolbar_items[toolbar_ind][3];\n",
       "\n",
       "        if (!name) {\n",
       "            // put a spacer in here.\n",
       "            continue;\n",
       "        }\n",
       "        var button = $('<button/>');\n",
       "        button.addClass('ui-button ui-widget ui-state-default ui-corner-all ' +\n",
       "                        'ui-button-icon-only');\n",
       "        button.attr('role', 'button');\n",
       "        button.attr('aria-disabled', 'false');\n",
       "        button.click(method_name, toolbar_event);\n",
       "        button.mouseover(tooltip, toolbar_mouse_event);\n",
       "\n",
       "        var icon_img = $('<span/>');\n",
       "        icon_img.addClass('ui-button-icon-primary ui-icon');\n",
       "        icon_img.addClass(image);\n",
       "        icon_img.addClass('ui-corner-all');\n",
       "\n",
       "        var tooltip_span = $('<span/>');\n",
       "        tooltip_span.addClass('ui-button-text');\n",
       "        tooltip_span.html(tooltip);\n",
       "\n",
       "        button.append(icon_img);\n",
       "        button.append(tooltip_span);\n",
       "\n",
       "        nav_element.append(button);\n",
       "    }\n",
       "\n",
       "    var fmt_picker_span = $('<span/>');\n",
       "\n",
       "    var fmt_picker = $('<select/>');\n",
       "    fmt_picker.addClass('mpl-toolbar-option ui-widget ui-widget-content');\n",
       "    fmt_picker_span.append(fmt_picker);\n",
       "    nav_element.append(fmt_picker_span);\n",
       "    this.format_dropdown = fmt_picker[0];\n",
       "\n",
       "    for (var ind in mpl.extensions) {\n",
       "        var fmt = mpl.extensions[ind];\n",
       "        var option = $(\n",
       "            '<option/>', {selected: fmt === mpl.default_extension}).html(fmt);\n",
       "        fmt_picker.append(option);\n",
       "    }\n",
       "\n",
       "    // Add hover states to the ui-buttons\n",
       "    $( \".ui-button\" ).hover(\n",
       "        function() { $(this).addClass(\"ui-state-hover\");},\n",
       "        function() { $(this).removeClass(\"ui-state-hover\");}\n",
       "    );\n",
       "\n",
       "    var status_bar = $('<span class=\"mpl-message\"/>');\n",
       "    nav_element.append(status_bar);\n",
       "    this.message = status_bar[0];\n",
       "}\n",
       "\n",
       "mpl.figure.prototype.request_resize = function(x_pixels, y_pixels) {\n",
       "    // Request matplotlib to resize the figure. Matplotlib will then trigger a resize in the client,\n",
       "    // which will in turn request a refresh of the image.\n",
       "    this.send_message('resize', {'width': x_pixels, 'height': y_pixels});\n",
       "}\n",
       "\n",
       "mpl.figure.prototype.send_message = function(type, properties) {\n",
       "    properties['type'] = type;\n",
       "    properties['figure_id'] = this.id;\n",
       "    this.ws.send(JSON.stringify(properties));\n",
       "}\n",
       "\n",
       "mpl.figure.prototype.send_draw_message = function() {\n",
       "    if (!this.waiting) {\n",
       "        this.waiting = true;\n",
       "        this.ws.send(JSON.stringify({type: \"draw\", figure_id: this.id}));\n",
       "    }\n",
       "}\n",
       "\n",
       "\n",
       "mpl.figure.prototype.handle_save = function(fig, msg) {\n",
       "    var format_dropdown = fig.format_dropdown;\n",
       "    var format = format_dropdown.options[format_dropdown.selectedIndex].value;\n",
       "    fig.ondownload(fig, format);\n",
       "}\n",
       "\n",
       "\n",
       "mpl.figure.prototype.handle_resize = function(fig, msg) {\n",
       "    var size = msg['size'];\n",
       "    if (size[0] != fig.canvas.width || size[1] != fig.canvas.height) {\n",
       "        fig._resize_canvas(size[0], size[1]);\n",
       "        fig.send_message(\"refresh\", {});\n",
       "    };\n",
       "}\n",
       "\n",
       "mpl.figure.prototype.handle_rubberband = function(fig, msg) {\n",
       "    var x0 = msg['x0'] / mpl.ratio;\n",
       "    var y0 = (fig.canvas.height - msg['y0']) / mpl.ratio;\n",
       "    var x1 = msg['x1'] / mpl.ratio;\n",
       "    var y1 = (fig.canvas.height - msg['y1']) / mpl.ratio;\n",
       "    x0 = Math.floor(x0) + 0.5;\n",
       "    y0 = Math.floor(y0) + 0.5;\n",
       "    x1 = Math.floor(x1) + 0.5;\n",
       "    y1 = Math.floor(y1) + 0.5;\n",
       "    var min_x = Math.min(x0, x1);\n",
       "    var min_y = Math.min(y0, y1);\n",
       "    var width = Math.abs(x1 - x0);\n",
       "    var height = Math.abs(y1 - y0);\n",
       "\n",
       "    fig.rubberband_context.clearRect(\n",
       "        0, 0, fig.canvas.width / mpl.ratio, fig.canvas.height / mpl.ratio);\n",
       "\n",
       "    fig.rubberband_context.strokeRect(min_x, min_y, width, height);\n",
       "}\n",
       "\n",
       "mpl.figure.prototype.handle_figure_label = function(fig, msg) {\n",
       "    // Updates the figure title.\n",
       "    fig.header.textContent = msg['label'];\n",
       "}\n",
       "\n",
       "mpl.figure.prototype.handle_cursor = function(fig, msg) {\n",
       "    var cursor = msg['cursor'];\n",
       "    switch(cursor)\n",
       "    {\n",
       "    case 0:\n",
       "        cursor = 'pointer';\n",
       "        break;\n",
       "    case 1:\n",
       "        cursor = 'default';\n",
       "        break;\n",
       "    case 2:\n",
       "        cursor = 'crosshair';\n",
       "        break;\n",
       "    case 3:\n",
       "        cursor = 'move';\n",
       "        break;\n",
       "    }\n",
       "    fig.rubberband_canvas.style.cursor = cursor;\n",
       "}\n",
       "\n",
       "mpl.figure.prototype.handle_message = function(fig, msg) {\n",
       "    fig.message.textContent = msg['message'];\n",
       "}\n",
       "\n",
       "mpl.figure.prototype.handle_draw = function(fig, msg) {\n",
       "    // Request the server to send over a new figure.\n",
       "    fig.send_draw_message();\n",
       "}\n",
       "\n",
       "mpl.figure.prototype.handle_image_mode = function(fig, msg) {\n",
       "    fig.image_mode = msg['mode'];\n",
       "}\n",
       "\n",
       "mpl.figure.prototype.updated_canvas_event = function() {\n",
       "    // Called whenever the canvas gets updated.\n",
       "    this.send_message(\"ack\", {});\n",
       "}\n",
       "\n",
       "// A function to construct a web socket function for onmessage handling.\n",
       "// Called in the figure constructor.\n",
       "mpl.figure.prototype._make_on_message_function = function(fig) {\n",
       "    return function socket_on_message(evt) {\n",
       "        if (evt.data instanceof Blob) {\n",
       "            /* FIXME: We get \"Resource interpreted as Image but\n",
       "             * transferred with MIME type text/plain:\" errors on\n",
       "             * Chrome.  But how to set the MIME type?  It doesn't seem\n",
       "             * to be part of the websocket stream */\n",
       "            evt.data.type = \"image/png\";\n",
       "\n",
       "            /* Free the memory for the previous frames */\n",
       "            if (fig.imageObj.src) {\n",
       "                (window.URL || window.webkitURL).revokeObjectURL(\n",
       "                    fig.imageObj.src);\n",
       "            }\n",
       "\n",
       "            fig.imageObj.src = (window.URL || window.webkitURL).createObjectURL(\n",
       "                evt.data);\n",
       "            fig.updated_canvas_event();\n",
       "            fig.waiting = false;\n",
       "            return;\n",
       "        }\n",
       "        else if (typeof evt.data === 'string' && evt.data.slice(0, 21) == \"data:image/png;base64\") {\n",
       "            fig.imageObj.src = evt.data;\n",
       "            fig.updated_canvas_event();\n",
       "            fig.waiting = false;\n",
       "            return;\n",
       "        }\n",
       "\n",
       "        var msg = JSON.parse(evt.data);\n",
       "        var msg_type = msg['type'];\n",
       "\n",
       "        // Call the  \"handle_{type}\" callback, which takes\n",
       "        // the figure and JSON message as its only arguments.\n",
       "        try {\n",
       "            var callback = fig[\"handle_\" + msg_type];\n",
       "        } catch (e) {\n",
       "            console.log(\"No handler for the '\" + msg_type + \"' message type: \", msg);\n",
       "            return;\n",
       "        }\n",
       "\n",
       "        if (callback) {\n",
       "            try {\n",
       "                // console.log(\"Handling '\" + msg_type + \"' message: \", msg);\n",
       "                callback(fig, msg);\n",
       "            } catch (e) {\n",
       "                console.log(\"Exception inside the 'handler_\" + msg_type + \"' callback:\", e, e.stack, msg);\n",
       "            }\n",
       "        }\n",
       "    };\n",
       "}\n",
       "\n",
       "// from http://stackoverflow.com/questions/1114465/getting-mouse-location-in-canvas\n",
       "mpl.findpos = function(e) {\n",
       "    //this section is from http://www.quirksmode.org/js/events_properties.html\n",
       "    var targ;\n",
       "    if (!e)\n",
       "        e = window.event;\n",
       "    if (e.target)\n",
       "        targ = e.target;\n",
       "    else if (e.srcElement)\n",
       "        targ = e.srcElement;\n",
       "    if (targ.nodeType == 3) // defeat Safari bug\n",
       "        targ = targ.parentNode;\n",
       "\n",
       "    // jQuery normalizes the pageX and pageY\n",
       "    // pageX,Y are the mouse positions relative to the document\n",
       "    // offset() returns the position of the element relative to the document\n",
       "    var x = e.pageX - $(targ).offset().left;\n",
       "    var y = e.pageY - $(targ).offset().top;\n",
       "\n",
       "    return {\"x\": x, \"y\": y};\n",
       "};\n",
       "\n",
       "/*\n",
       " * return a copy of an object with only non-object keys\n",
       " * we need this to avoid circular references\n",
       " * http://stackoverflow.com/a/24161582/3208463\n",
       " */\n",
       "function simpleKeys (original) {\n",
       "  return Object.keys(original).reduce(function (obj, key) {\n",
       "    if (typeof original[key] !== 'object')\n",
       "        obj[key] = original[key]\n",
       "    return obj;\n",
       "  }, {});\n",
       "}\n",
       "\n",
       "mpl.figure.prototype.mouse_event = function(event, name) {\n",
       "    var canvas_pos = mpl.findpos(event)\n",
       "\n",
       "    if (name === 'button_press')\n",
       "    {\n",
       "        this.canvas.focus();\n",
       "        this.canvas_div.focus();\n",
       "    }\n",
       "\n",
       "    var x = canvas_pos.x * mpl.ratio;\n",
       "    var y = canvas_pos.y * mpl.ratio;\n",
       "\n",
       "    this.send_message(name, {x: x, y: y, button: event.button,\n",
       "                             step: event.step,\n",
       "                             guiEvent: simpleKeys(event)});\n",
       "\n",
       "    /* This prevents the web browser from automatically changing to\n",
       "     * the text insertion cursor when the button is pressed.  We want\n",
       "     * to control all of the cursor setting manually through the\n",
       "     * 'cursor' event from matplotlib */\n",
       "    event.preventDefault();\n",
       "    return false;\n",
       "}\n",
       "\n",
       "mpl.figure.prototype._key_event_extra = function(event, name) {\n",
       "    // Handle any extra behaviour associated with a key event\n",
       "}\n",
       "\n",
       "mpl.figure.prototype.key_event = function(event, name) {\n",
       "\n",
       "    // Prevent repeat events\n",
       "    if (name == 'key_press')\n",
       "    {\n",
       "        if (event.which === this._key)\n",
       "            return;\n",
       "        else\n",
       "            this._key = event.which;\n",
       "    }\n",
       "    if (name == 'key_release')\n",
       "        this._key = null;\n",
       "\n",
       "    var value = '';\n",
       "    if (event.ctrlKey && event.which != 17)\n",
       "        value += \"ctrl+\";\n",
       "    if (event.altKey && event.which != 18)\n",
       "        value += \"alt+\";\n",
       "    if (event.shiftKey && event.which != 16)\n",
       "        value += \"shift+\";\n",
       "\n",
       "    value += 'k';\n",
       "    value += event.which.toString();\n",
       "\n",
       "    this._key_event_extra(event, name);\n",
       "\n",
       "    this.send_message(name, {key: value,\n",
       "                             guiEvent: simpleKeys(event)});\n",
       "    return false;\n",
       "}\n",
       "\n",
       "mpl.figure.prototype.toolbar_button_onclick = function(name) {\n",
       "    if (name == 'download') {\n",
       "        this.handle_save(this, null);\n",
       "    } else {\n",
       "        this.send_message(\"toolbar_button\", {name: name});\n",
       "    }\n",
       "};\n",
       "\n",
       "mpl.figure.prototype.toolbar_button_onmouseover = function(tooltip) {\n",
       "    this.message.textContent = tooltip;\n",
       "};\n",
       "mpl.toolbar_items = [[\"Home\", \"Reset original view\", \"fa fa-home icon-home\", \"home\"], [\"Back\", \"Back to previous view\", \"fa fa-arrow-left icon-arrow-left\", \"back\"], [\"Forward\", \"Forward to next view\", \"fa fa-arrow-right icon-arrow-right\", \"forward\"], [\"\", \"\", \"\", \"\"], [\"Pan\", \"Pan axes with left mouse, zoom with right\", \"fa fa-arrows icon-move\", \"pan\"], [\"Zoom\", \"Zoom to rectangle\", \"fa fa-square-o icon-check-empty\", \"zoom\"], [\"\", \"\", \"\", \"\"], [\"Download\", \"Download plot\", \"fa fa-floppy-o icon-save\", \"download\"]];\n",
       "\n",
       "mpl.extensions = [\"eps\", \"pdf\", \"png\", \"ps\", \"raw\", \"svg\"];\n",
       "\n",
       "mpl.default_extension = \"png\";var comm_websocket_adapter = function(comm) {\n",
       "    // Create a \"websocket\"-like object which calls the given IPython comm\n",
       "    // object with the appropriate methods. Currently this is a non binary\n",
       "    // socket, so there is still some room for performance tuning.\n",
       "    var ws = {};\n",
       "\n",
       "    ws.close = function() {\n",
       "        comm.close()\n",
       "    };\n",
       "    ws.send = function(m) {\n",
       "        //console.log('sending', m);\n",
       "        comm.send(m);\n",
       "    };\n",
       "    // Register the callback with on_msg.\n",
       "    comm.on_msg(function(msg) {\n",
       "        //console.log('receiving', msg['content']['data'], msg);\n",
       "        // Pass the mpl event to the overridden (by mpl) onmessage function.\n",
       "        ws.onmessage(msg['content']['data'])\n",
       "    });\n",
       "    return ws;\n",
       "}\n",
       "\n",
       "mpl.mpl_figure_comm = function(comm, msg) {\n",
       "    // This is the function which gets called when the mpl process\n",
       "    // starts-up an IPython Comm through the \"matplotlib\" channel.\n",
       "\n",
       "    var id = msg.content.data.id;\n",
       "    // Get hold of the div created by the display call when the Comm\n",
       "    // socket was opened in Python.\n",
       "    var element = $(\"#\" + id);\n",
       "    var ws_proxy = comm_websocket_adapter(comm)\n",
       "\n",
       "    function ondownload(figure, format) {\n",
       "        window.open(figure.imageObj.src);\n",
       "    }\n",
       "\n",
       "    var fig = new mpl.figure(id, ws_proxy,\n",
       "                           ondownload,\n",
       "                           element.get(0));\n",
       "\n",
       "    // Call onopen now - mpl needs it, as it is assuming we've passed it a real\n",
       "    // web socket which is closed, not our websocket->open comm proxy.\n",
       "    ws_proxy.onopen();\n",
       "\n",
       "    fig.parent_element = element.get(0);\n",
       "    fig.cell_info = mpl.find_output_cell(\"<div id='\" + id + \"'></div>\");\n",
       "    if (!fig.cell_info) {\n",
       "        console.error(\"Failed to find cell for figure\", id, fig);\n",
       "        return;\n",
       "    }\n",
       "\n",
       "    var output_index = fig.cell_info[2]\n",
       "    var cell = fig.cell_info[0];\n",
       "\n",
       "};\n",
       "\n",
       "mpl.figure.prototype.handle_close = function(fig, msg) {\n",
       "    var width = fig.canvas.width/mpl.ratio\n",
       "    fig.root.unbind('remove')\n",
       "\n",
       "    // Update the output cell to use the data from the current canvas.\n",
       "    fig.push_to_output();\n",
       "    var dataURL = fig.canvas.toDataURL();\n",
       "    // Re-enable the keyboard manager in IPython - without this line, in FF,\n",
       "    // the notebook keyboard shortcuts fail.\n",
       "    IPython.keyboard_manager.enable()\n",
       "    $(fig.parent_element).html('<img src=\"' + dataURL + '\" width=\"' + width + '\">');\n",
       "    fig.close_ws(fig, msg);\n",
       "}\n",
       "\n",
       "mpl.figure.prototype.close_ws = function(fig, msg){\n",
       "    fig.send_message('closing', msg);\n",
       "    // fig.ws.close()\n",
       "}\n",
       "\n",
       "mpl.figure.prototype.push_to_output = function(remove_interactive) {\n",
       "    // Turn the data on the canvas into data in the output cell.\n",
       "    var width = this.canvas.width/mpl.ratio\n",
       "    var dataURL = this.canvas.toDataURL();\n",
       "    this.cell_info[1]['text/html'] = '<img src=\"' + dataURL + '\" width=\"' + width + '\">';\n",
       "}\n",
       "\n",
       "mpl.figure.prototype.updated_canvas_event = function() {\n",
       "    // Tell IPython that the notebook contents must change.\n",
       "    IPython.notebook.set_dirty(true);\n",
       "    this.send_message(\"ack\", {});\n",
       "    var fig = this;\n",
       "    // Wait a second, then push the new image to the DOM so\n",
       "    // that it is saved nicely (might be nice to debounce this).\n",
       "    setTimeout(function () { fig.push_to_output() }, 1000);\n",
       "}\n",
       "\n",
       "mpl.figure.prototype._init_toolbar = function() {\n",
       "    var fig = this;\n",
       "\n",
       "    var nav_element = $('<div/>');\n",
       "    nav_element.attr('style', 'width: 100%');\n",
       "    this.root.append(nav_element);\n",
       "\n",
       "    // Define a callback function for later on.\n",
       "    function toolbar_event(event) {\n",
       "        return fig.toolbar_button_onclick(event['data']);\n",
       "    }\n",
       "    function toolbar_mouse_event(event) {\n",
       "        return fig.toolbar_button_onmouseover(event['data']);\n",
       "    }\n",
       "\n",
       "    for(var toolbar_ind in mpl.toolbar_items){\n",
       "        var name = mpl.toolbar_items[toolbar_ind][0];\n",
       "        var tooltip = mpl.toolbar_items[toolbar_ind][1];\n",
       "        var image = mpl.toolbar_items[toolbar_ind][2];\n",
       "        var method_name = mpl.toolbar_items[toolbar_ind][3];\n",
       "\n",
       "        if (!name) { continue; };\n",
       "\n",
       "        var button = $('<button class=\"btn btn-default\" href=\"#\" title=\"' + name + '\"><i class=\"fa ' + image + ' fa-lg\"></i></button>');\n",
       "        button.click(method_name, toolbar_event);\n",
       "        button.mouseover(tooltip, toolbar_mouse_event);\n",
       "        nav_element.append(button);\n",
       "    }\n",
       "\n",
       "    // Add the status bar.\n",
       "    var status_bar = $('<span class=\"mpl-message\" style=\"text-align:right; float: right;\"/>');\n",
       "    nav_element.append(status_bar);\n",
       "    this.message = status_bar[0];\n",
       "\n",
       "    // Add the close button to the window.\n",
       "    var buttongrp = $('<div class=\"btn-group inline pull-right\"></div>');\n",
       "    var button = $('<button class=\"btn btn-mini btn-primary\" href=\"#\" title=\"Stop Interaction\"><i class=\"fa fa-power-off icon-remove icon-large\"></i></button>');\n",
       "    button.click(function (evt) { fig.handle_close(fig, {}); } );\n",
       "    button.mouseover('Stop Interaction', toolbar_mouse_event);\n",
       "    buttongrp.append(button);\n",
       "    var titlebar = this.root.find($('.ui-dialog-titlebar'));\n",
       "    titlebar.prepend(buttongrp);\n",
       "}\n",
       "\n",
       "mpl.figure.prototype._root_extra_style = function(el){\n",
       "    var fig = this\n",
       "    el.on(\"remove\", function(){\n",
       "\tfig.close_ws(fig, {});\n",
       "    });\n",
       "}\n",
       "\n",
       "mpl.figure.prototype._canvas_extra_style = function(el){\n",
       "    // this is important to make the div 'focusable\n",
       "    el.attr('tabindex', 0)\n",
       "    // reach out to IPython and tell the keyboard manager to turn it's self\n",
       "    // off when our div gets focus\n",
       "\n",
       "    // location in version 3\n",
       "    if (IPython.notebook.keyboard_manager) {\n",
       "        IPython.notebook.keyboard_manager.register_events(el);\n",
       "    }\n",
       "    else {\n",
       "        // location in version 2\n",
       "        IPython.keyboard_manager.register_events(el);\n",
       "    }\n",
       "\n",
       "}\n",
       "\n",
       "mpl.figure.prototype._key_event_extra = function(event, name) {\n",
       "    var manager = IPython.notebook.keyboard_manager;\n",
       "    if (!manager)\n",
       "        manager = IPython.keyboard_manager;\n",
       "\n",
       "    // Check for shift+enter\n",
       "    if (event.shiftKey && event.which == 13) {\n",
       "        this.canvas_div.blur();\n",
       "        // select the cell after this one\n",
       "        var index = IPython.notebook.find_cell_index(this.cell_info[0]);\n",
       "        IPython.notebook.select(index + 1);\n",
       "    }\n",
       "}\n",
       "\n",
       "mpl.figure.prototype.handle_save = function(fig, msg) {\n",
       "    fig.ondownload(fig, null);\n",
       "}\n",
       "\n",
       "\n",
       "mpl.find_output_cell = function(html_output) {\n",
       "    // Return the cell and output element which can be found *uniquely* in the notebook.\n",
       "    // Note - this is a bit hacky, but it is done because the \"notebook_saving.Notebook\"\n",
       "    // IPython event is triggered only after the cells have been serialised, which for\n",
       "    // our purposes (turning an active figure into a static one), is too late.\n",
       "    var cells = IPython.notebook.get_cells();\n",
       "    var ncells = cells.length;\n",
       "    for (var i=0; i<ncells; i++) {\n",
       "        var cell = cells[i];\n",
       "        if (cell.cell_type === 'code'){\n",
       "            for (var j=0; j<cell.output_area.outputs.length; j++) {\n",
       "                var data = cell.output_area.outputs[j];\n",
       "                if (data.data) {\n",
       "                    // IPython >= 3 moved mimebundle to data attribute of output\n",
       "                    data = data.data;\n",
       "                }\n",
       "                if (data['text/html'] == html_output) {\n",
       "                    return [cell, data, j];\n",
       "                }\n",
       "            }\n",
       "        }\n",
       "    }\n",
       "}\n",
       "\n",
       "// Register the function which deals with the matplotlib target/channel.\n",
       "// The kernel may be null if the page has been refreshed.\n",
       "if (IPython.notebook.kernel != null) {\n",
       "    IPython.notebook.kernel.comm_manager.register_target('matplotlib', mpl.mpl_figure_comm);\n",
       "}\n"
      ],
      "text/plain": [
       "<IPython.core.display.Javascript object>"
      ]
     },
     "metadata": {},
     "output_type": "display_data"
    },
    {
     "data": {
      "text/html": [
       "<img src=\"data:image/png;base64,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\" width=\"800\">"
      ],
      "text/plain": [
       "<IPython.core.display.HTML object>"
      ]
     },
     "metadata": {},
     "output_type": "display_data"
    }
   ],
   "source": [
    "fig = plot_spectra(jl.results, ene_min=0.1, ene_max=1e6, num_ene=500, \n",
    "                          flux_unit='erg / (cm2 s)')"
   ]
  },
  {
   "cell_type": "markdown",
   "metadata": {},
   "source": [
    "### Bayesian analysis\n",
    "In a very similar way, we can also perform a Bayesian analysis. As a first step, we need to define the priors for all parameters:"
   ]
  },
  {
   "cell_type": "code",
   "execution_count": 20,
   "metadata": {},
   "outputs": [
    {
     "data": {
      "text/html": [
       "Model summary:<br><br><div>\n",
       "<style scoped>\n",
       "    .dataframe tbody tr th:only-of-type {\n",
       "        vertical-align: middle;\n",
       "    }\n",
       "\n",
       "    .dataframe tbody tr th {\n",
       "        vertical-align: top;\n",
       "    }\n",
       "\n",
       "    .dataframe thead th {\n",
       "        text-align: right;\n",
       "    }\n",
       "</style>\n",
       "<table border=\"1\" class=\"dataframe\">\n",
       "  <thead>\n",
       "    <tr style=\"text-align: right;\">\n",
       "      <th></th>\n",
       "      <th>N</th>\n",
       "    </tr>\n",
       "  </thead>\n",
       "  <tbody>\n",
       "    <tr>\n",
       "      <th>Point sources</th>\n",
       "      <td>1</td>\n",
       "    </tr>\n",
       "    <tr>\n",
       "      <th>Extended sources</th>\n",
       "      <td>0</td>\n",
       "    </tr>\n",
       "    <tr>\n",
       "      <th>Particle sources</th>\n",
       "      <td>0</td>\n",
       "    </tr>\n",
       "  </tbody>\n",
       "</table>\n",
       "</div><br><br>Free parameters (2):<br><br><div>\n",
       "<style scoped>\n",
       "    .dataframe tbody tr th:only-of-type {\n",
       "        vertical-align: middle;\n",
       "    }\n",
       "\n",
       "    .dataframe tbody tr th {\n",
       "        vertical-align: top;\n",
       "    }\n",
       "\n",
       "    .dataframe thead th {\n",
       "        text-align: right;\n",
       "    }\n",
       "</style>\n",
       "<table border=\"1\" class=\"dataframe\">\n",
       "  <thead>\n",
       "    <tr style=\"text-align: right;\">\n",
       "      <th></th>\n",
       "      <th>value</th>\n",
       "      <th>min_value</th>\n",
       "      <th>max_value</th>\n",
       "      <th>unit</th>\n",
       "    </tr>\n",
       "  </thead>\n",
       "  <tbody>\n",
       "    <tr>\n",
       "      <th>source1.spectrum.main.Powerlaw.K</th>\n",
       "      <td>0.902795</td>\n",
       "      <td>0.01</td>\n",
       "      <td>100</td>\n",
       "      <td>keV-1 s-1 cm-2</td>\n",
       "    </tr>\n",
       "    <tr>\n",
       "      <th>source1.spectrum.main.Powerlaw.index</th>\n",
       "      <td>-1.9774</td>\n",
       "      <td>-10</td>\n",
       "      <td>10</td>\n",
       "      <td></td>\n",
       "    </tr>\n",
       "  </tbody>\n",
       "</table>\n",
       "</div><br><br>Fixed parameters (4):<br><br><div>\n",
       "<style scoped>\n",
       "    .dataframe tbody tr th:only-of-type {\n",
       "        vertical-align: middle;\n",
       "    }\n",
       "\n",
       "    .dataframe tbody tr th {\n",
       "        vertical-align: top;\n",
       "    }\n",
       "\n",
       "    .dataframe thead th {\n",
       "        text-align: right;\n",
       "    }\n",
       "</style>\n",
       "<table border=\"1\" class=\"dataframe\">\n",
       "  <thead>\n",
       "    <tr style=\"text-align: right;\">\n",
       "      <th></th>\n",
       "      <th>value</th>\n",
       "      <th>min_value</th>\n",
       "      <th>max_value</th>\n",
       "      <th>unit</th>\n",
       "    </tr>\n",
       "  </thead>\n",
       "  <tbody>\n",
       "    <tr>\n",
       "      <th>source1.position.ra</th>\n",
       "      <td>23.5</td>\n",
       "      <td>0</td>\n",
       "      <td>360</td>\n",
       "      <td>deg</td>\n",
       "    </tr>\n",
       "    <tr>\n",
       "      <th>source1.position.dec</th>\n",
       "      <td>-22.7</td>\n",
       "      <td>-90</td>\n",
       "      <td>90</td>\n",
       "      <td>deg</td>\n",
       "    </tr>\n",
       "    <tr>\n",
       "      <th>source1.spectrum.main.Powerlaw.piv</th>\n",
       "      <td>1</td>\n",
       "      <td>None</td>\n",
       "      <td>None</td>\n",
       "      <td>keV</td>\n",
       "    </tr>\n",
       "    <tr>\n",
       "      <th>cons_ogip</th>\n",
       "      <td>1</td>\n",
       "      <td>0.8</td>\n",
       "      <td>1.2</td>\n",
       "      <td></td>\n",
       "    </tr>\n",
       "  </tbody>\n",
       "</table>\n",
       "</div><br><br>Linked parameters (0):<br><br>(none)<br><br>Independent variables:<br><br>(none)<br>"
      ],
      "text/plain": [
       "Model summary:\n",
       "==============\n",
       "\n",
       "                  N\n",
       "Point sources     1\n",
       "Extended sources  0\n",
       "Particle sources  0\n",
       "\n",
       "Free parameters (2):\n",
       "--------------------\n",
       "\n",
       "                                         value min_value max_value  \\\n",
       "source1.spectrum.main.Powerlaw.K      0.902795      0.01       100   \n",
       "source1.spectrum.main.Powerlaw.index   -1.9774       -10        10   \n",
       "\n",
       "                                                unit  \n",
       "source1.spectrum.main.Powerlaw.K      keV-1 s-1 cm-2  \n",
       "source1.spectrum.main.Powerlaw.index                  \n",
       "\n",
       "Fixed parameters (4):\n",
       "---------------------\n",
       "\n",
       "                                   value min_value max_value unit\n",
       "source1.position.ra                 23.5         0       360  deg\n",
       "source1.position.dec               -22.7       -90        90  deg\n",
       "source1.spectrum.main.Powerlaw.piv     1      None      None  keV\n",
       "cons_ogip                              1       0.8       1.2     \n",
       "\n",
       "Linked parameters (0):\n",
       "----------------------\n",
       "\n",
       "(none)\n",
       "\n",
       "Independent variables:\n",
       "----------------------\n",
       "\n",
       "(none)"
      ]
     },
     "metadata": {},
     "output_type": "display_data"
    }
   ],
   "source": [
    "\n",
    "\n",
    "# It can be set using the currently defined boundaries\n",
    "new_model.source1.spectrum.main.Powerlaw.index.set_uninformative_prior(Uniform_prior)\n",
    "\n",
    "# or uniform prior can be defined directly, like:\n",
    "new_model.source1.spectrum.main.Powerlaw.index.prior = Uniform_prior(lower_bound=-3, \n",
    "                                                                     upper_bound=0)\n",
    "\n",
    "\n",
    "# The same for the Log_uniform prior\n",
    "new_model.source1.spectrum.main.Powerlaw.K.prior = Log_uniform_prior(lower_bound=1e-3, \n",
    "                                                                     upper_bound=100)\n",
    "# or\n",
    "new_model.source1.spectrum.main.Powerlaw.K.set_uninformative_prior(Log_uniform_prior)\n",
    "\n",
    "new_model.display(complete=True)"
   ]
  },
  {
   "cell_type": "markdown",
   "metadata": {},
   "source": [
    "Then, we can perform our Bayesian analysis like:"
   ]
  },
  {
   "cell_type": "code",
   "execution_count": 21,
   "metadata": {},
   "outputs": [
    {
     "name": "stdout",
     "output_type": "stream",
     "text": [
      "[ultranest] Sampling 400 live points from prior ...\n"
     ]
    },
    {
     "name": "stderr",
     "output_type": "stream",
     "text": [
      "INFO:ultranest:Sampling 400 live points from prior ...\n",
      "DEBUG:ultranest:minimal_widths_sequence: [(-inf, 400.0), (inf, 400.0)]\n"
     ]
    },
    {
     "data": {
      "application/vnd.jupyter.widget-view+json": {
       "model_id": "efa19deb79fb4e1aaa7bab3540b627f4",
       "version_major": 2,
       "version_minor": 0
      },
      "text/plain": [
       "VBox(children=(HTML(value=''), GridspecLayout(children=(HTML(value=\"<div style='background-color:#6E6BF4;'>&nb…"
      ]
     },
     "metadata": {},
     "output_type": "display_data"
    },
    {
     "name": "stdout",
     "output_type": "stream",
     "text": [
      "[ultranest] Explored until L=-2e+02  \n"
     ]
    },
    {
     "name": "stderr",
     "output_type": "stream",
     "text": [
      "INFO:ultranest:Explored until L=-2e+02  \n"
     ]
    },
    {
     "name": "stdout",
     "output_type": "stream",
     "text": [
      "[ultranest] Likelihood function evaluations: 6397\n"
     ]
    },
    {
     "name": "stderr",
     "output_type": "stream",
     "text": [
      "INFO:ultranest:Likelihood function evaluations: 6397\n",
      "DEBUG:ultranest:did a run_iter pass!\n"
     ]
    },
    {
     "name": "stdout",
     "output_type": "stream",
     "text": [
      "[ultranest]   logZ = -188.8 +- 0.1049\n"
     ]
    },
    {
     "name": "stderr",
     "output_type": "stream",
     "text": [
      "INFO:ultranest:  logZ = -188.8 +- 0.1049\n"
     ]
    },
    {
     "name": "stdout",
     "output_type": "stream",
     "text": [
      "[ultranest] Effective samples strategy satisfied (ESS = 1652.9, need >400)\n"
     ]
    },
    {
     "name": "stderr",
     "output_type": "stream",
     "text": [
      "INFO:ultranest:Effective samples strategy satisfied (ESS = 1652.9, need >400)\n"
     ]
    },
    {
     "name": "stdout",
     "output_type": "stream",
     "text": [
      "[ultranest] Posterior uncertainty strategy is satisfied (KL: 0.46+-0.05 nat, need <0.50 nat)\n"
     ]
    },
    {
     "name": "stderr",
     "output_type": "stream",
     "text": [
      "INFO:ultranest:Posterior uncertainty strategy is satisfied (KL: 0.46+-0.05 nat, need <0.50 nat)\n"
     ]
    },
    {
     "name": "stdout",
     "output_type": "stream",
     "text": [
      "[ultranest] Evidency uncertainty strategy is satisfied (dlogz=0.26, need <0.5)\n"
     ]
    },
    {
     "name": "stderr",
     "output_type": "stream",
     "text": [
      "INFO:ultranest:Evidency uncertainty strategy is satisfied (dlogz=0.26, need <0.5)\n"
     ]
    },
    {
     "name": "stdout",
     "output_type": "stream",
     "text": [
      "[ultranest]   logZ error budget: single: 0.12 bs:0.10 tail:0.01 total:0.11 required:<0.50\n"
     ]
    },
    {
     "name": "stderr",
     "output_type": "stream",
     "text": [
      "INFO:ultranest:  logZ error budget: single: 0.12 bs:0.10 tail:0.01 total:0.11 required:<0.50\n"
     ]
    },
    {
     "name": "stdout",
     "output_type": "stream",
     "text": [
      "[ultranest] done iterating.\n"
     ]
    },
    {
     "name": "stderr",
     "output_type": "stream",
     "text": [
      "INFO:ultranest:done iterating.\n"
     ]
    }
   ],
   "source": [
    "bs = BayesianAnalysis(new_model, data)\n",
    "bs.set_sampler('ultranest')\n",
    "bs.sampler.setup()\n",
    "# This uses the emcee sampler\n",
    "samples = bs.sample(quiet=True)"
   ]
  },
  {
   "cell_type": "markdown",
   "metadata": {},
   "source": [
    "The BayesianAnalysis object will now have a \"results\" member which will work exactly the same as explained for the Maximum Likelihood analysis (see above):"
   ]
  },
  {
   "cell_type": "code",
   "execution_count": 24,
   "metadata": {},
   "outputs": [
    {
     "name": "stdout",
     "output_type": "stream",
     "text": [
      "Maximum a posteriori probability (MAP) point:\n",
      "\n"
     ]
    },
    {
     "data": {
      "text/html": [
       "<div>\n",
       "<style scoped>\n",
       "    .dataframe tbody tr th:only-of-type {\n",
       "        vertical-align: middle;\n",
       "    }\n",
       "\n",
       "    .dataframe tbody tr th {\n",
       "        vertical-align: top;\n",
       "    }\n",
       "\n",
       "    .dataframe thead th {\n",
       "        text-align: right;\n",
       "    }\n",
       "</style>\n",
       "<table border=\"1\" class=\"dataframe\">\n",
       "  <thead>\n",
       "    <tr style=\"text-align: right;\">\n",
       "      <th></th>\n",
       "      <th>result</th>\n",
       "      <th>unit</th>\n",
       "    </tr>\n",
       "    <tr>\n",
       "      <th>parameter</th>\n",
       "      <th></th>\n",
       "      <th></th>\n",
       "    </tr>\n",
       "  </thead>\n",
       "  <tbody>\n",
       "    <tr>\n",
       "      <th>source1.spectrum.main.Powerlaw.K</th>\n",
       "      <td>1.0 +/- 0.4</td>\n",
       "      <td>1 / (cm2 keV s)</td>\n",
       "    </tr>\n",
       "    <tr>\n",
       "      <th>source1.spectrum.main.Powerlaw.index</th>\n",
       "      <td>-1.98 +/- 0.07</td>\n",
       "      <td></td>\n",
       "    </tr>\n",
       "  </tbody>\n",
       "</table>\n",
       "</div>"
      ],
      "text/plain": [
       "                                              result             unit\n",
       "parameter                                                            \n",
       "source1.spectrum.main.Powerlaw.K         1.0 +/- 0.4  1 / (cm2 keV s)\n",
       "source1.spectrum.main.Powerlaw.index  -1.98 +/- 0.07                 "
      ]
     },
     "metadata": {},
     "output_type": "display_data"
    },
    {
     "name": "stdout",
     "output_type": "stream",
     "text": [
      "\n",
      "Values of -log(posterior) at the minimum:\n",
      "\n"
     ]
    },
    {
     "data": {
      "text/html": [
       "<div>\n",
       "<style scoped>\n",
       "    .dataframe tbody tr th:only-of-type {\n",
       "        vertical-align: middle;\n",
       "    }\n",
       "\n",
       "    .dataframe tbody tr th {\n",
       "        vertical-align: top;\n",
       "    }\n",
       "\n",
       "    .dataframe thead th {\n",
       "        text-align: right;\n",
       "    }\n",
       "</style>\n",
       "<table border=\"1\" class=\"dataframe\">\n",
       "  <thead>\n",
       "    <tr style=\"text-align: right;\">\n",
       "      <th></th>\n",
       "      <th>-log(posterior)</th>\n",
       "    </tr>\n",
       "  </thead>\n",
       "  <tbody>\n",
       "    <tr>\n",
       "      <th>ogip</th>\n",
       "      <td>-181.706401</td>\n",
       "    </tr>\n",
       "    <tr>\n",
       "      <th>total</th>\n",
       "      <td>-181.706401</td>\n",
       "    </tr>\n",
       "  </tbody>\n",
       "</table>\n",
       "</div>"
      ],
      "text/plain": [
       "       -log(posterior)\n",
       "ogip       -181.706401\n",
       "total      -181.706401"
      ]
     },
     "metadata": {},
     "output_type": "display_data"
    },
    {
     "name": "stdout",
     "output_type": "stream",
     "text": [
      "\n",
      "Values of statistical measures:\n",
      "\n"
     ]
    },
    {
     "data": {
      "text/html": [
       "<div>\n",
       "<style scoped>\n",
       "    .dataframe tbody tr th:only-of-type {\n",
       "        vertical-align: middle;\n",
       "    }\n",
       "\n",
       "    .dataframe tbody tr th {\n",
       "        vertical-align: top;\n",
       "    }\n",
       "\n",
       "    .dataframe thead th {\n",
       "        text-align: right;\n",
       "    }\n",
       "</style>\n",
       "<table border=\"1\" class=\"dataframe\">\n",
       "  <thead>\n",
       "    <tr style=\"text-align: right;\">\n",
       "      <th></th>\n",
       "      <th>statistical measures</th>\n",
       "    </tr>\n",
       "  </thead>\n",
       "  <tbody>\n",
       "    <tr>\n",
       "      <th>AIC</th>\n",
       "      <td>367.508803</td>\n",
       "    </tr>\n",
       "    <tr>\n",
       "      <th>BIC</th>\n",
       "      <td>373.116863</td>\n",
       "    </tr>\n",
       "    <tr>\n",
       "      <th>DIC</th>\n",
       "      <td>365.676099</td>\n",
       "    </tr>\n",
       "    <tr>\n",
       "      <th>PDIC</th>\n",
       "      <td>0.107584</td>\n",
       "    </tr>\n",
       "    <tr>\n",
       "      <th>log(Z)</th>\n",
       "      <td>-82.010346</td>\n",
       "    </tr>\n",
       "  </tbody>\n",
       "</table>\n",
       "</div>"
      ],
      "text/plain": [
       "        statistical measures\n",
       "AIC               367.508803\n",
       "BIC               373.116863\n",
       "DIC               365.676099\n",
       "PDIC                0.107584\n",
       "log(Z)            -82.010346"
      ]
     },
     "metadata": {},
     "output_type": "display_data"
    }
   ],
   "source": [
    "bs.results.display()"
   ]
  },
  {
   "cell_type": "code",
   "execution_count": 25,
   "metadata": {},
   "outputs": [
    {
     "data": {
      "application/vnd.jupyter.widget-view+json": {
       "model_id": "ef0990a7f2a24e8485bc2dc20da92270",
       "version_major": 2,
       "version_minor": 0
      },
      "text/plain": [
       "VBox(children=(HTML(value='Propagating errors : '), HTML(value=''), FloatProgress(value=0.0)))"
      ]
     },
     "metadata": {},
     "output_type": "display_data"
    },
    {
     "data": {
      "text/html": [
       "<div>\n",
       "<style scoped>\n",
       "    .dataframe tbody tr th:only-of-type {\n",
       "        vertical-align: middle;\n",
       "    }\n",
       "\n",
       "    .dataframe tbody tr th {\n",
       "        vertical-align: top;\n",
       "    }\n",
       "\n",
       "    .dataframe thead th {\n",
       "        text-align: right;\n",
       "    }\n",
       "</style>\n",
       "<table border=\"1\" class=\"dataframe\">\n",
       "  <thead>\n",
       "    <tr style=\"text-align: right;\">\n",
       "      <th></th>\n",
       "      <th>flux</th>\n",
       "    </tr>\n",
       "  </thead>\n",
       "  <tbody>\n",
       "    <tr>\n",
       "      <th>source1: total</th>\n",
       "      <td>(3.7 -1.6 +3.1) x 10^-9 erg / (cm2 s)</td>\n",
       "    </tr>\n",
       "  </tbody>\n",
       "</table>\n",
       "</div>"
      ],
      "text/plain": [
       "                                                 flux\n",
       "source1: total  (3.7 -1.6 +3.1) x 10^-9 erg / (cm2 s)"
      ]
     },
     "metadata": {},
     "output_type": "display_data"
    }
   ],
   "source": [
    "fluxes_bs = bs.results.get_flux(100 * u.keV, 1 * u.MeV)"
   ]
  },
  {
   "cell_type": "code",
   "execution_count": 26,
   "metadata": {},
   "outputs": [
    {
     "data": {
      "application/vnd.jupyter.widget-view+json": {
       "model_id": "acab53e109584af0a8c2963b61448718",
       "version_major": 2,
       "version_minor": 0
      },
      "text/plain": [
       "VBox(children=(HTML(value='Propagating errors : '), HTML(value=''), FloatProgress(value=0.0)))"
      ]
     },
     "metadata": {},
     "output_type": "display_data"
    },
    {
     "data": {
      "application/javascript": [
       "/* Put everything inside the global mpl namespace */\n",
       "window.mpl = {};\n",
       "\n",
       "\n",
       "mpl.get_websocket_type = function() {\n",
       "    if (typeof(WebSocket) !== 'undefined') {\n",
       "        return WebSocket;\n",
       "    } else if (typeof(MozWebSocket) !== 'undefined') {\n",
       "        return MozWebSocket;\n",
       "    } else {\n",
       "        alert('Your browser does not have WebSocket support. ' +\n",
       "              'Please try Chrome, Safari or Firefox ≥ 6. ' +\n",
       "              'Firefox 4 and 5 are also supported but you ' +\n",
       "              'have to enable WebSockets in about:config.');\n",
       "    };\n",
       "}\n",
       "\n",
       "mpl.figure = function(figure_id, websocket, ondownload, parent_element) {\n",
       "    this.id = figure_id;\n",
       "\n",
       "    this.ws = websocket;\n",
       "\n",
       "    this.supports_binary = (this.ws.binaryType != undefined);\n",
       "\n",
       "    if (!this.supports_binary) {\n",
       "        var warnings = document.getElementById(\"mpl-warnings\");\n",
       "        if (warnings) {\n",
       "            warnings.style.display = 'block';\n",
       "            warnings.textContent = (\n",
       "                \"This browser does not support binary websocket messages. \" +\n",
       "                    \"Performance may be slow.\");\n",
       "        }\n",
       "    }\n",
       "\n",
       "    this.imageObj = new Image();\n",
       "\n",
       "    this.context = undefined;\n",
       "    this.message = undefined;\n",
       "    this.canvas = undefined;\n",
       "    this.rubberband_canvas = undefined;\n",
       "    this.rubberband_context = undefined;\n",
       "    this.format_dropdown = undefined;\n",
       "\n",
       "    this.image_mode = 'full';\n",
       "\n",
       "    this.root = $('<div/>');\n",
       "    this._root_extra_style(this.root)\n",
       "    this.root.attr('style', 'display: inline-block');\n",
       "\n",
       "    $(parent_element).append(this.root);\n",
       "\n",
       "    this._init_header(this);\n",
       "    this._init_canvas(this);\n",
       "    this._init_toolbar(this);\n",
       "\n",
       "    var fig = this;\n",
       "\n",
       "    this.waiting = false;\n",
       "\n",
       "    this.ws.onopen =  function () {\n",
       "            fig.send_message(\"supports_binary\", {value: fig.supports_binary});\n",
       "            fig.send_message(\"send_image_mode\", {});\n",
       "            if (mpl.ratio != 1) {\n",
       "                fig.send_message(\"set_dpi_ratio\", {'dpi_ratio': mpl.ratio});\n",
       "            }\n",
       "            fig.send_message(\"refresh\", {});\n",
       "        }\n",
       "\n",
       "    this.imageObj.onload = function() {\n",
       "            if (fig.image_mode == 'full') {\n",
       "                // Full images could contain transparency (where diff images\n",
       "                // almost always do), so we need to clear the canvas so that\n",
       "                // there is no ghosting.\n",
       "                fig.context.clearRect(0, 0, fig.canvas.width, fig.canvas.height);\n",
       "            }\n",
       "            fig.context.drawImage(fig.imageObj, 0, 0);\n",
       "        };\n",
       "\n",
       "    this.imageObj.onunload = function() {\n",
       "        fig.ws.close();\n",
       "    }\n",
       "\n",
       "    this.ws.onmessage = this._make_on_message_function(this);\n",
       "\n",
       "    this.ondownload = ondownload;\n",
       "}\n",
       "\n",
       "mpl.figure.prototype._init_header = function() {\n",
       "    var titlebar = $(\n",
       "        '<div class=\"ui-dialog-titlebar ui-widget-header ui-corner-all ' +\n",
       "        'ui-helper-clearfix\"/>');\n",
       "    var titletext = $(\n",
       "        '<div class=\"ui-dialog-title\" style=\"width: 100%; ' +\n",
       "        'text-align: center; padding: 3px;\"/>');\n",
       "    titlebar.append(titletext)\n",
       "    this.root.append(titlebar);\n",
       "    this.header = titletext[0];\n",
       "}\n",
       "\n",
       "\n",
       "\n",
       "mpl.figure.prototype._canvas_extra_style = function(canvas_div) {\n",
       "\n",
       "}\n",
       "\n",
       "\n",
       "mpl.figure.prototype._root_extra_style = function(canvas_div) {\n",
       "\n",
       "}\n",
       "\n",
       "mpl.figure.prototype._init_canvas = function() {\n",
       "    var fig = this;\n",
       "\n",
       "    var canvas_div = $('<div/>');\n",
       "\n",
       "    canvas_div.attr('style', 'position: relative; clear: both; outline: 0');\n",
       "\n",
       "    function canvas_keyboard_event(event) {\n",
       "        return fig.key_event(event, event['data']);\n",
       "    }\n",
       "\n",
       "    canvas_div.keydown('key_press', canvas_keyboard_event);\n",
       "    canvas_div.keyup('key_release', canvas_keyboard_event);\n",
       "    this.canvas_div = canvas_div\n",
       "    this._canvas_extra_style(canvas_div)\n",
       "    this.root.append(canvas_div);\n",
       "\n",
       "    var canvas = $('<canvas/>');\n",
       "    canvas.addClass('mpl-canvas');\n",
       "    canvas.attr('style', \"left: 0; top: 0; z-index: 0; outline: 0\")\n",
       "\n",
       "    this.canvas = canvas[0];\n",
       "    this.context = canvas[0].getContext(\"2d\");\n",
       "\n",
       "    var backingStore = this.context.backingStorePixelRatio ||\n",
       "\tthis.context.webkitBackingStorePixelRatio ||\n",
       "\tthis.context.mozBackingStorePixelRatio ||\n",
       "\tthis.context.msBackingStorePixelRatio ||\n",
       "\tthis.context.oBackingStorePixelRatio ||\n",
       "\tthis.context.backingStorePixelRatio || 1;\n",
       "\n",
       "    mpl.ratio = (window.devicePixelRatio || 1) / backingStore;\n",
       "\n",
       "    var rubberband = $('<canvas/>');\n",
       "    rubberband.attr('style', \"position: absolute; left: 0; top: 0; z-index: 1;\")\n",
       "\n",
       "    var pass_mouse_events = true;\n",
       "\n",
       "    canvas_div.resizable({\n",
       "        start: function(event, ui) {\n",
       "            pass_mouse_events = false;\n",
       "        },\n",
       "        resize: function(event, ui) {\n",
       "            fig.request_resize(ui.size.width, ui.size.height);\n",
       "        },\n",
       "        stop: function(event, ui) {\n",
       "            pass_mouse_events = true;\n",
       "            fig.request_resize(ui.size.width, ui.size.height);\n",
       "        },\n",
       "    });\n",
       "\n",
       "    function mouse_event_fn(event) {\n",
       "        if (pass_mouse_events)\n",
       "            return fig.mouse_event(event, event['data']);\n",
       "    }\n",
       "\n",
       "    rubberband.mousedown('button_press', mouse_event_fn);\n",
       "    rubberband.mouseup('button_release', mouse_event_fn);\n",
       "    // Throttle sequential mouse events to 1 every 20ms.\n",
       "    rubberband.mousemove('motion_notify', mouse_event_fn);\n",
       "\n",
       "    rubberband.mouseenter('figure_enter', mouse_event_fn);\n",
       "    rubberband.mouseleave('figure_leave', mouse_event_fn);\n",
       "\n",
       "    canvas_div.on(\"wheel\", function (event) {\n",
       "        event = event.originalEvent;\n",
       "        event['data'] = 'scroll'\n",
       "        if (event.deltaY < 0) {\n",
       "            event.step = 1;\n",
       "        } else {\n",
       "            event.step = -1;\n",
       "        }\n",
       "        mouse_event_fn(event);\n",
       "    });\n",
       "\n",
       "    canvas_div.append(canvas);\n",
       "    canvas_div.append(rubberband);\n",
       "\n",
       "    this.rubberband = rubberband;\n",
       "    this.rubberband_canvas = rubberband[0];\n",
       "    this.rubberband_context = rubberband[0].getContext(\"2d\");\n",
       "    this.rubberband_context.strokeStyle = \"#000000\";\n",
       "\n",
       "    this._resize_canvas = function(width, height) {\n",
       "        // Keep the size of the canvas, canvas container, and rubber band\n",
       "        // canvas in synch.\n",
       "        canvas_div.css('width', width)\n",
       "        canvas_div.css('height', height)\n",
       "\n",
       "        canvas.attr('width', width * mpl.ratio);\n",
       "        canvas.attr('height', height * mpl.ratio);\n",
       "        canvas.attr('style', 'width: ' + width + 'px; height: ' + height + 'px;');\n",
       "\n",
       "        rubberband.attr('width', width);\n",
       "        rubberband.attr('height', height);\n",
       "    }\n",
       "\n",
       "    // Set the figure to an initial 600x600px, this will subsequently be updated\n",
       "    // upon first draw.\n",
       "    this._resize_canvas(600, 600);\n",
       "\n",
       "    // Disable right mouse context menu.\n",
       "    $(this.rubberband_canvas).bind(\"contextmenu\",function(e){\n",
       "        return false;\n",
       "    });\n",
       "\n",
       "    function set_focus () {\n",
       "        canvas.focus();\n",
       "        canvas_div.focus();\n",
       "    }\n",
       "\n",
       "    window.setTimeout(set_focus, 100);\n",
       "}\n",
       "\n",
       "mpl.figure.prototype._init_toolbar = function() {\n",
       "    var fig = this;\n",
       "\n",
       "    var nav_element = $('<div/>');\n",
       "    nav_element.attr('style', 'width: 100%');\n",
       "    this.root.append(nav_element);\n",
       "\n",
       "    // Define a callback function for later on.\n",
       "    function toolbar_event(event) {\n",
       "        return fig.toolbar_button_onclick(event['data']);\n",
       "    }\n",
       "    function toolbar_mouse_event(event) {\n",
       "        return fig.toolbar_button_onmouseover(event['data']);\n",
       "    }\n",
       "\n",
       "    for(var toolbar_ind in mpl.toolbar_items) {\n",
       "        var name = mpl.toolbar_items[toolbar_ind][0];\n",
       "        var tooltip = mpl.toolbar_items[toolbar_ind][1];\n",
       "        var image = mpl.toolbar_items[toolbar_ind][2];\n",
       "        var method_name = mpl.toolbar_items[toolbar_ind][3];\n",
       "\n",
       "        if (!name) {\n",
       "            // put a spacer in here.\n",
       "            continue;\n",
       "        }\n",
       "        var button = $('<button/>');\n",
       "        button.addClass('ui-button ui-widget ui-state-default ui-corner-all ' +\n",
       "                        'ui-button-icon-only');\n",
       "        button.attr('role', 'button');\n",
       "        button.attr('aria-disabled', 'false');\n",
       "        button.click(method_name, toolbar_event);\n",
       "        button.mouseover(tooltip, toolbar_mouse_event);\n",
       "\n",
       "        var icon_img = $('<span/>');\n",
       "        icon_img.addClass('ui-button-icon-primary ui-icon');\n",
       "        icon_img.addClass(image);\n",
       "        icon_img.addClass('ui-corner-all');\n",
       "\n",
       "        var tooltip_span = $('<span/>');\n",
       "        tooltip_span.addClass('ui-button-text');\n",
       "        tooltip_span.html(tooltip);\n",
       "\n",
       "        button.append(icon_img);\n",
       "        button.append(tooltip_span);\n",
       "\n",
       "        nav_element.append(button);\n",
       "    }\n",
       "\n",
       "    var fmt_picker_span = $('<span/>');\n",
       "\n",
       "    var fmt_picker = $('<select/>');\n",
       "    fmt_picker.addClass('mpl-toolbar-option ui-widget ui-widget-content');\n",
       "    fmt_picker_span.append(fmt_picker);\n",
       "    nav_element.append(fmt_picker_span);\n",
       "    this.format_dropdown = fmt_picker[0];\n",
       "\n",
       "    for (var ind in mpl.extensions) {\n",
       "        var fmt = mpl.extensions[ind];\n",
       "        var option = $(\n",
       "            '<option/>', {selected: fmt === mpl.default_extension}).html(fmt);\n",
       "        fmt_picker.append(option);\n",
       "    }\n",
       "\n",
       "    // Add hover states to the ui-buttons\n",
       "    $( \".ui-button\" ).hover(\n",
       "        function() { $(this).addClass(\"ui-state-hover\");},\n",
       "        function() { $(this).removeClass(\"ui-state-hover\");}\n",
       "    );\n",
       "\n",
       "    var status_bar = $('<span class=\"mpl-message\"/>');\n",
       "    nav_element.append(status_bar);\n",
       "    this.message = status_bar[0];\n",
       "}\n",
       "\n",
       "mpl.figure.prototype.request_resize = function(x_pixels, y_pixels) {\n",
       "    // Request matplotlib to resize the figure. Matplotlib will then trigger a resize in the client,\n",
       "    // which will in turn request a refresh of the image.\n",
       "    this.send_message('resize', {'width': x_pixels, 'height': y_pixels});\n",
       "}\n",
       "\n",
       "mpl.figure.prototype.send_message = function(type, properties) {\n",
       "    properties['type'] = type;\n",
       "    properties['figure_id'] = this.id;\n",
       "    this.ws.send(JSON.stringify(properties));\n",
       "}\n",
       "\n",
       "mpl.figure.prototype.send_draw_message = function() {\n",
       "    if (!this.waiting) {\n",
       "        this.waiting = true;\n",
       "        this.ws.send(JSON.stringify({type: \"draw\", figure_id: this.id}));\n",
       "    }\n",
       "}\n",
       "\n",
       "\n",
       "mpl.figure.prototype.handle_save = function(fig, msg) {\n",
       "    var format_dropdown = fig.format_dropdown;\n",
       "    var format = format_dropdown.options[format_dropdown.selectedIndex].value;\n",
       "    fig.ondownload(fig, format);\n",
       "}\n",
       "\n",
       "\n",
       "mpl.figure.prototype.handle_resize = function(fig, msg) {\n",
       "    var size = msg['size'];\n",
       "    if (size[0] != fig.canvas.width || size[1] != fig.canvas.height) {\n",
       "        fig._resize_canvas(size[0], size[1]);\n",
       "        fig.send_message(\"refresh\", {});\n",
       "    };\n",
       "}\n",
       "\n",
       "mpl.figure.prototype.handle_rubberband = function(fig, msg) {\n",
       "    var x0 = msg['x0'] / mpl.ratio;\n",
       "    var y0 = (fig.canvas.height - msg['y0']) / mpl.ratio;\n",
       "    var x1 = msg['x1'] / mpl.ratio;\n",
       "    var y1 = (fig.canvas.height - msg['y1']) / mpl.ratio;\n",
       "    x0 = Math.floor(x0) + 0.5;\n",
       "    y0 = Math.floor(y0) + 0.5;\n",
       "    x1 = Math.floor(x1) + 0.5;\n",
       "    y1 = Math.floor(y1) + 0.5;\n",
       "    var min_x = Math.min(x0, x1);\n",
       "    var min_y = Math.min(y0, y1);\n",
       "    var width = Math.abs(x1 - x0);\n",
       "    var height = Math.abs(y1 - y0);\n",
       "\n",
       "    fig.rubberband_context.clearRect(\n",
       "        0, 0, fig.canvas.width / mpl.ratio, fig.canvas.height / mpl.ratio);\n",
       "\n",
       "    fig.rubberband_context.strokeRect(min_x, min_y, width, height);\n",
       "}\n",
       "\n",
       "mpl.figure.prototype.handle_figure_label = function(fig, msg) {\n",
       "    // Updates the figure title.\n",
       "    fig.header.textContent = msg['label'];\n",
       "}\n",
       "\n",
       "mpl.figure.prototype.handle_cursor = function(fig, msg) {\n",
       "    var cursor = msg['cursor'];\n",
       "    switch(cursor)\n",
       "    {\n",
       "    case 0:\n",
       "        cursor = 'pointer';\n",
       "        break;\n",
       "    case 1:\n",
       "        cursor = 'default';\n",
       "        break;\n",
       "    case 2:\n",
       "        cursor = 'crosshair';\n",
       "        break;\n",
       "    case 3:\n",
       "        cursor = 'move';\n",
       "        break;\n",
       "    }\n",
       "    fig.rubberband_canvas.style.cursor = cursor;\n",
       "}\n",
       "\n",
       "mpl.figure.prototype.handle_message = function(fig, msg) {\n",
       "    fig.message.textContent = msg['message'];\n",
       "}\n",
       "\n",
       "mpl.figure.prototype.handle_draw = function(fig, msg) {\n",
       "    // Request the server to send over a new figure.\n",
       "    fig.send_draw_message();\n",
       "}\n",
       "\n",
       "mpl.figure.prototype.handle_image_mode = function(fig, msg) {\n",
       "    fig.image_mode = msg['mode'];\n",
       "}\n",
       "\n",
       "mpl.figure.prototype.updated_canvas_event = function() {\n",
       "    // Called whenever the canvas gets updated.\n",
       "    this.send_message(\"ack\", {});\n",
       "}\n",
       "\n",
       "// A function to construct a web socket function for onmessage handling.\n",
       "// Called in the figure constructor.\n",
       "mpl.figure.prototype._make_on_message_function = function(fig) {\n",
       "    return function socket_on_message(evt) {\n",
       "        if (evt.data instanceof Blob) {\n",
       "            /* FIXME: We get \"Resource interpreted as Image but\n",
       "             * transferred with MIME type text/plain:\" errors on\n",
       "             * Chrome.  But how to set the MIME type?  It doesn't seem\n",
       "             * to be part of the websocket stream */\n",
       "            evt.data.type = \"image/png\";\n",
       "\n",
       "            /* Free the memory for the previous frames */\n",
       "            if (fig.imageObj.src) {\n",
       "                (window.URL || window.webkitURL).revokeObjectURL(\n",
       "                    fig.imageObj.src);\n",
       "            }\n",
       "\n",
       "            fig.imageObj.src = (window.URL || window.webkitURL).createObjectURL(\n",
       "                evt.data);\n",
       "            fig.updated_canvas_event();\n",
       "            fig.waiting = false;\n",
       "            return;\n",
       "        }\n",
       "        else if (typeof evt.data === 'string' && evt.data.slice(0, 21) == \"data:image/png;base64\") {\n",
       "            fig.imageObj.src = evt.data;\n",
       "            fig.updated_canvas_event();\n",
       "            fig.waiting = false;\n",
       "            return;\n",
       "        }\n",
       "\n",
       "        var msg = JSON.parse(evt.data);\n",
       "        var msg_type = msg['type'];\n",
       "\n",
       "        // Call the  \"handle_{type}\" callback, which takes\n",
       "        // the figure and JSON message as its only arguments.\n",
       "        try {\n",
       "            var callback = fig[\"handle_\" + msg_type];\n",
       "        } catch (e) {\n",
       "            console.log(\"No handler for the '\" + msg_type + \"' message type: \", msg);\n",
       "            return;\n",
       "        }\n",
       "\n",
       "        if (callback) {\n",
       "            try {\n",
       "                // console.log(\"Handling '\" + msg_type + \"' message: \", msg);\n",
       "                callback(fig, msg);\n",
       "            } catch (e) {\n",
       "                console.log(\"Exception inside the 'handler_\" + msg_type + \"' callback:\", e, e.stack, msg);\n",
       "            }\n",
       "        }\n",
       "    };\n",
       "}\n",
       "\n",
       "// from http://stackoverflow.com/questions/1114465/getting-mouse-location-in-canvas\n",
       "mpl.findpos = function(e) {\n",
       "    //this section is from http://www.quirksmode.org/js/events_properties.html\n",
       "    var targ;\n",
       "    if (!e)\n",
       "        e = window.event;\n",
       "    if (e.target)\n",
       "        targ = e.target;\n",
       "    else if (e.srcElement)\n",
       "        targ = e.srcElement;\n",
       "    if (targ.nodeType == 3) // defeat Safari bug\n",
       "        targ = targ.parentNode;\n",
       "\n",
       "    // jQuery normalizes the pageX and pageY\n",
       "    // pageX,Y are the mouse positions relative to the document\n",
       "    // offset() returns the position of the element relative to the document\n",
       "    var x = e.pageX - $(targ).offset().left;\n",
       "    var y = e.pageY - $(targ).offset().top;\n",
       "\n",
       "    return {\"x\": x, \"y\": y};\n",
       "};\n",
       "\n",
       "/*\n",
       " * return a copy of an object with only non-object keys\n",
       " * we need this to avoid circular references\n",
       " * http://stackoverflow.com/a/24161582/3208463\n",
       " */\n",
       "function simpleKeys (original) {\n",
       "  return Object.keys(original).reduce(function (obj, key) {\n",
       "    if (typeof original[key] !== 'object')\n",
       "        obj[key] = original[key]\n",
       "    return obj;\n",
       "  }, {});\n",
       "}\n",
       "\n",
       "mpl.figure.prototype.mouse_event = function(event, name) {\n",
       "    var canvas_pos = mpl.findpos(event)\n",
       "\n",
       "    if (name === 'button_press')\n",
       "    {\n",
       "        this.canvas.focus();\n",
       "        this.canvas_div.focus();\n",
       "    }\n",
       "\n",
       "    var x = canvas_pos.x * mpl.ratio;\n",
       "    var y = canvas_pos.y * mpl.ratio;\n",
       "\n",
       "    this.send_message(name, {x: x, y: y, button: event.button,\n",
       "                             step: event.step,\n",
       "                             guiEvent: simpleKeys(event)});\n",
       "\n",
       "    /* This prevents the web browser from automatically changing to\n",
       "     * the text insertion cursor when the button is pressed.  We want\n",
       "     * to control all of the cursor setting manually through the\n",
       "     * 'cursor' event from matplotlib */\n",
       "    event.preventDefault();\n",
       "    return false;\n",
       "}\n",
       "\n",
       "mpl.figure.prototype._key_event_extra = function(event, name) {\n",
       "    // Handle any extra behaviour associated with a key event\n",
       "}\n",
       "\n",
       "mpl.figure.prototype.key_event = function(event, name) {\n",
       "\n",
       "    // Prevent repeat events\n",
       "    if (name == 'key_press')\n",
       "    {\n",
       "        if (event.which === this._key)\n",
       "            return;\n",
       "        else\n",
       "            this._key = event.which;\n",
       "    }\n",
       "    if (name == 'key_release')\n",
       "        this._key = null;\n",
       "\n",
       "    var value = '';\n",
       "    if (event.ctrlKey && event.which != 17)\n",
       "        value += \"ctrl+\";\n",
       "    if (event.altKey && event.which != 18)\n",
       "        value += \"alt+\";\n",
       "    if (event.shiftKey && event.which != 16)\n",
       "        value += \"shift+\";\n",
       "\n",
       "    value += 'k';\n",
       "    value += event.which.toString();\n",
       "\n",
       "    this._key_event_extra(event, name);\n",
       "\n",
       "    this.send_message(name, {key: value,\n",
       "                             guiEvent: simpleKeys(event)});\n",
       "    return false;\n",
       "}\n",
       "\n",
       "mpl.figure.prototype.toolbar_button_onclick = function(name) {\n",
       "    if (name == 'download') {\n",
       "        this.handle_save(this, null);\n",
       "    } else {\n",
       "        this.send_message(\"toolbar_button\", {name: name});\n",
       "    }\n",
       "};\n",
       "\n",
       "mpl.figure.prototype.toolbar_button_onmouseover = function(tooltip) {\n",
       "    this.message.textContent = tooltip;\n",
       "};\n",
       "mpl.toolbar_items = [[\"Home\", \"Reset original view\", \"fa fa-home icon-home\", \"home\"], [\"Back\", \"Back to previous view\", \"fa fa-arrow-left icon-arrow-left\", \"back\"], [\"Forward\", \"Forward to next view\", \"fa fa-arrow-right icon-arrow-right\", \"forward\"], [\"\", \"\", \"\", \"\"], [\"Pan\", \"Pan axes with left mouse, zoom with right\", \"fa fa-arrows icon-move\", \"pan\"], [\"Zoom\", \"Zoom to rectangle\", \"fa fa-square-o icon-check-empty\", \"zoom\"], [\"\", \"\", \"\", \"\"], [\"Download\", \"Download plot\", \"fa fa-floppy-o icon-save\", \"download\"]];\n",
       "\n",
       "mpl.extensions = [\"eps\", \"pdf\", \"png\", \"ps\", \"raw\", \"svg\"];\n",
       "\n",
       "mpl.default_extension = \"png\";var comm_websocket_adapter = function(comm) {\n",
       "    // Create a \"websocket\"-like object which calls the given IPython comm\n",
       "    // object with the appropriate methods. Currently this is a non binary\n",
       "    // socket, so there is still some room for performance tuning.\n",
       "    var ws = {};\n",
       "\n",
       "    ws.close = function() {\n",
       "        comm.close()\n",
       "    };\n",
       "    ws.send = function(m) {\n",
       "        //console.log('sending', m);\n",
       "        comm.send(m);\n",
       "    };\n",
       "    // Register the callback with on_msg.\n",
       "    comm.on_msg(function(msg) {\n",
       "        //console.log('receiving', msg['content']['data'], msg);\n",
       "        // Pass the mpl event to the overridden (by mpl) onmessage function.\n",
       "        ws.onmessage(msg['content']['data'])\n",
       "    });\n",
       "    return ws;\n",
       "}\n",
       "\n",
       "mpl.mpl_figure_comm = function(comm, msg) {\n",
       "    // This is the function which gets called when the mpl process\n",
       "    // starts-up an IPython Comm through the \"matplotlib\" channel.\n",
       "\n",
       "    var id = msg.content.data.id;\n",
       "    // Get hold of the div created by the display call when the Comm\n",
       "    // socket was opened in Python.\n",
       "    var element = $(\"#\" + id);\n",
       "    var ws_proxy = comm_websocket_adapter(comm)\n",
       "\n",
       "    function ondownload(figure, format) {\n",
       "        window.open(figure.imageObj.src);\n",
       "    }\n",
       "\n",
       "    var fig = new mpl.figure(id, ws_proxy,\n",
       "                           ondownload,\n",
       "                           element.get(0));\n",
       "\n",
       "    // Call onopen now - mpl needs it, as it is assuming we've passed it a real\n",
       "    // web socket which is closed, not our websocket->open comm proxy.\n",
       "    ws_proxy.onopen();\n",
       "\n",
       "    fig.parent_element = element.get(0);\n",
       "    fig.cell_info = mpl.find_output_cell(\"<div id='\" + id + \"'></div>\");\n",
       "    if (!fig.cell_info) {\n",
       "        console.error(\"Failed to find cell for figure\", id, fig);\n",
       "        return;\n",
       "    }\n",
       "\n",
       "    var output_index = fig.cell_info[2]\n",
       "    var cell = fig.cell_info[0];\n",
       "\n",
       "};\n",
       "\n",
       "mpl.figure.prototype.handle_close = function(fig, msg) {\n",
       "    var width = fig.canvas.width/mpl.ratio\n",
       "    fig.root.unbind('remove')\n",
       "\n",
       "    // Update the output cell to use the data from the current canvas.\n",
       "    fig.push_to_output();\n",
       "    var dataURL = fig.canvas.toDataURL();\n",
       "    // Re-enable the keyboard manager in IPython - without this line, in FF,\n",
       "    // the notebook keyboard shortcuts fail.\n",
       "    IPython.keyboard_manager.enable()\n",
       "    $(fig.parent_element).html('<img src=\"' + dataURL + '\" width=\"' + width + '\">');\n",
       "    fig.close_ws(fig, msg);\n",
       "}\n",
       "\n",
       "mpl.figure.prototype.close_ws = function(fig, msg){\n",
       "    fig.send_message('closing', msg);\n",
       "    // fig.ws.close()\n",
       "}\n",
       "\n",
       "mpl.figure.prototype.push_to_output = function(remove_interactive) {\n",
       "    // Turn the data on the canvas into data in the output cell.\n",
       "    var width = this.canvas.width/mpl.ratio\n",
       "    var dataURL = this.canvas.toDataURL();\n",
       "    this.cell_info[1]['text/html'] = '<img src=\"' + dataURL + '\" width=\"' + width + '\">';\n",
       "}\n",
       "\n",
       "mpl.figure.prototype.updated_canvas_event = function() {\n",
       "    // Tell IPython that the notebook contents must change.\n",
       "    IPython.notebook.set_dirty(true);\n",
       "    this.send_message(\"ack\", {});\n",
       "    var fig = this;\n",
       "    // Wait a second, then push the new image to the DOM so\n",
       "    // that it is saved nicely (might be nice to debounce this).\n",
       "    setTimeout(function () { fig.push_to_output() }, 1000);\n",
       "}\n",
       "\n",
       "mpl.figure.prototype._init_toolbar = function() {\n",
       "    var fig = this;\n",
       "\n",
       "    var nav_element = $('<div/>');\n",
       "    nav_element.attr('style', 'width: 100%');\n",
       "    this.root.append(nav_element);\n",
       "\n",
       "    // Define a callback function for later on.\n",
       "    function toolbar_event(event) {\n",
       "        return fig.toolbar_button_onclick(event['data']);\n",
       "    }\n",
       "    function toolbar_mouse_event(event) {\n",
       "        return fig.toolbar_button_onmouseover(event['data']);\n",
       "    }\n",
       "\n",
       "    for(var toolbar_ind in mpl.toolbar_items){\n",
       "        var name = mpl.toolbar_items[toolbar_ind][0];\n",
       "        var tooltip = mpl.toolbar_items[toolbar_ind][1];\n",
       "        var image = mpl.toolbar_items[toolbar_ind][2];\n",
       "        var method_name = mpl.toolbar_items[toolbar_ind][3];\n",
       "\n",
       "        if (!name) { continue; };\n",
       "\n",
       "        var button = $('<button class=\"btn btn-default\" href=\"#\" title=\"' + name + '\"><i class=\"fa ' + image + ' fa-lg\"></i></button>');\n",
       "        button.click(method_name, toolbar_event);\n",
       "        button.mouseover(tooltip, toolbar_mouse_event);\n",
       "        nav_element.append(button);\n",
       "    }\n",
       "\n",
       "    // Add the status bar.\n",
       "    var status_bar = $('<span class=\"mpl-message\" style=\"text-align:right; float: right;\"/>');\n",
       "    nav_element.append(status_bar);\n",
       "    this.message = status_bar[0];\n",
       "\n",
       "    // Add the close button to the window.\n",
       "    var buttongrp = $('<div class=\"btn-group inline pull-right\"></div>');\n",
       "    var button = $('<button class=\"btn btn-mini btn-primary\" href=\"#\" title=\"Stop Interaction\"><i class=\"fa fa-power-off icon-remove icon-large\"></i></button>');\n",
       "    button.click(function (evt) { fig.handle_close(fig, {}); } );\n",
       "    button.mouseover('Stop Interaction', toolbar_mouse_event);\n",
       "    buttongrp.append(button);\n",
       "    var titlebar = this.root.find($('.ui-dialog-titlebar'));\n",
       "    titlebar.prepend(buttongrp);\n",
       "}\n",
       "\n",
       "mpl.figure.prototype._root_extra_style = function(el){\n",
       "    var fig = this\n",
       "    el.on(\"remove\", function(){\n",
       "\tfig.close_ws(fig, {});\n",
       "    });\n",
       "}\n",
       "\n",
       "mpl.figure.prototype._canvas_extra_style = function(el){\n",
       "    // this is important to make the div 'focusable\n",
       "    el.attr('tabindex', 0)\n",
       "    // reach out to IPython and tell the keyboard manager to turn it's self\n",
       "    // off when our div gets focus\n",
       "\n",
       "    // location in version 3\n",
       "    if (IPython.notebook.keyboard_manager) {\n",
       "        IPython.notebook.keyboard_manager.register_events(el);\n",
       "    }\n",
       "    else {\n",
       "        // location in version 2\n",
       "        IPython.keyboard_manager.register_events(el);\n",
       "    }\n",
       "\n",
       "}\n",
       "\n",
       "mpl.figure.prototype._key_event_extra = function(event, name) {\n",
       "    var manager = IPython.notebook.keyboard_manager;\n",
       "    if (!manager)\n",
       "        manager = IPython.keyboard_manager;\n",
       "\n",
       "    // Check for shift+enter\n",
       "    if (event.shiftKey && event.which == 13) {\n",
       "        this.canvas_div.blur();\n",
       "        // select the cell after this one\n",
       "        var index = IPython.notebook.find_cell_index(this.cell_info[0]);\n",
       "        IPython.notebook.select(index + 1);\n",
       "    }\n",
       "}\n",
       "\n",
       "mpl.figure.prototype.handle_save = function(fig, msg) {\n",
       "    fig.ondownload(fig, null);\n",
       "}\n",
       "\n",
       "\n",
       "mpl.find_output_cell = function(html_output) {\n",
       "    // Return the cell and output element which can be found *uniquely* in the notebook.\n",
       "    // Note - this is a bit hacky, but it is done because the \"notebook_saving.Notebook\"\n",
       "    // IPython event is triggered only after the cells have been serialised, which for\n",
       "    // our purposes (turning an active figure into a static one), is too late.\n",
       "    var cells = IPython.notebook.get_cells();\n",
       "    var ncells = cells.length;\n",
       "    for (var i=0; i<ncells; i++) {\n",
       "        var cell = cells[i];\n",
       "        if (cell.cell_type === 'code'){\n",
       "            for (var j=0; j<cell.output_area.outputs.length; j++) {\n",
       "                var data = cell.output_area.outputs[j];\n",
       "                if (data.data) {\n",
       "                    // IPython >= 3 moved mimebundle to data attribute of output\n",
       "                    data = data.data;\n",
       "                }\n",
       "                if (data['text/html'] == html_output) {\n",
       "                    return [cell, data, j];\n",
       "                }\n",
       "            }\n",
       "        }\n",
       "    }\n",
       "}\n",
       "\n",
       "// Register the function which deals with the matplotlib target/channel.\n",
       "// The kernel may be null if the page has been refreshed.\n",
       "if (IPython.notebook.kernel != null) {\n",
       "    IPython.notebook.kernel.comm_manager.register_target('matplotlib', mpl.mpl_figure_comm);\n",
       "}\n"
      ],
      "text/plain": [
       "<IPython.core.display.Javascript object>"
      ]
     },
     "metadata": {},
     "output_type": "display_data"
    },
    {
     "data": {
      "text/html": [
       "<img src=\"data:image/png;base64,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\" width=\"800\">"
      ],
      "text/plain": [
       "<IPython.core.display.HTML object>"
      ]
     },
     "metadata": {},
     "output_type": "display_data"
    }
   ],
   "source": [
    "fig = plot_spectra(bs.results, ene_min=0.1, ene_max=1e6, num_ene=500, \n",
    "                          flux_unit='erg / (cm2 s)')"
   ]
  },
  {
   "cell_type": "markdown",
   "metadata": {},
   "source": [
    "We can also produce easily a \"corner plot\", like:"
   ]
  },
  {
   "cell_type": "code",
   "execution_count": 27,
   "metadata": {},
   "outputs": [
    {
     "data": {
      "application/javascript": [
       "/* Put everything inside the global mpl namespace */\n",
       "window.mpl = {};\n",
       "\n",
       "\n",
       "mpl.get_websocket_type = function() {\n",
       "    if (typeof(WebSocket) !== 'undefined') {\n",
       "        return WebSocket;\n",
       "    } else if (typeof(MozWebSocket) !== 'undefined') {\n",
       "        return MozWebSocket;\n",
       "    } else {\n",
       "        alert('Your browser does not have WebSocket support. ' +\n",
       "              'Please try Chrome, Safari or Firefox ≥ 6. ' +\n",
       "              'Firefox 4 and 5 are also supported but you ' +\n",
       "              'have to enable WebSockets in about:config.');\n",
       "    };\n",
       "}\n",
       "\n",
       "mpl.figure = function(figure_id, websocket, ondownload, parent_element) {\n",
       "    this.id = figure_id;\n",
       "\n",
       "    this.ws = websocket;\n",
       "\n",
       "    this.supports_binary = (this.ws.binaryType != undefined);\n",
       "\n",
       "    if (!this.supports_binary) {\n",
       "        var warnings = document.getElementById(\"mpl-warnings\");\n",
       "        if (warnings) {\n",
       "            warnings.style.display = 'block';\n",
       "            warnings.textContent = (\n",
       "                \"This browser does not support binary websocket messages. \" +\n",
       "                    \"Performance may be slow.\");\n",
       "        }\n",
       "    }\n",
       "\n",
       "    this.imageObj = new Image();\n",
       "\n",
       "    this.context = undefined;\n",
       "    this.message = undefined;\n",
       "    this.canvas = undefined;\n",
       "    this.rubberband_canvas = undefined;\n",
       "    this.rubberband_context = undefined;\n",
       "    this.format_dropdown = undefined;\n",
       "\n",
       "    this.image_mode = 'full';\n",
       "\n",
       "    this.root = $('<div/>');\n",
       "    this._root_extra_style(this.root)\n",
       "    this.root.attr('style', 'display: inline-block');\n",
       "\n",
       "    $(parent_element).append(this.root);\n",
       "\n",
       "    this._init_header(this);\n",
       "    this._init_canvas(this);\n",
       "    this._init_toolbar(this);\n",
       "\n",
       "    var fig = this;\n",
       "\n",
       "    this.waiting = false;\n",
       "\n",
       "    this.ws.onopen =  function () {\n",
       "            fig.send_message(\"supports_binary\", {value: fig.supports_binary});\n",
       "            fig.send_message(\"send_image_mode\", {});\n",
       "            if (mpl.ratio != 1) {\n",
       "                fig.send_message(\"set_dpi_ratio\", {'dpi_ratio': mpl.ratio});\n",
       "            }\n",
       "            fig.send_message(\"refresh\", {});\n",
       "        }\n",
       "\n",
       "    this.imageObj.onload = function() {\n",
       "            if (fig.image_mode == 'full') {\n",
       "                // Full images could contain transparency (where diff images\n",
       "                // almost always do), so we need to clear the canvas so that\n",
       "                // there is no ghosting.\n",
       "                fig.context.clearRect(0, 0, fig.canvas.width, fig.canvas.height);\n",
       "            }\n",
       "            fig.context.drawImage(fig.imageObj, 0, 0);\n",
       "        };\n",
       "\n",
       "    this.imageObj.onunload = function() {\n",
       "        fig.ws.close();\n",
       "    }\n",
       "\n",
       "    this.ws.onmessage = this._make_on_message_function(this);\n",
       "\n",
       "    this.ondownload = ondownload;\n",
       "}\n",
       "\n",
       "mpl.figure.prototype._init_header = function() {\n",
       "    var titlebar = $(\n",
       "        '<div class=\"ui-dialog-titlebar ui-widget-header ui-corner-all ' +\n",
       "        'ui-helper-clearfix\"/>');\n",
       "    var titletext = $(\n",
       "        '<div class=\"ui-dialog-title\" style=\"width: 100%; ' +\n",
       "        'text-align: center; padding: 3px;\"/>');\n",
       "    titlebar.append(titletext)\n",
       "    this.root.append(titlebar);\n",
       "    this.header = titletext[0];\n",
       "}\n",
       "\n",
       "\n",
       "\n",
       "mpl.figure.prototype._canvas_extra_style = function(canvas_div) {\n",
       "\n",
       "}\n",
       "\n",
       "\n",
       "mpl.figure.prototype._root_extra_style = function(canvas_div) {\n",
       "\n",
       "}\n",
       "\n",
       "mpl.figure.prototype._init_canvas = function() {\n",
       "    var fig = this;\n",
       "\n",
       "    var canvas_div = $('<div/>');\n",
       "\n",
       "    canvas_div.attr('style', 'position: relative; clear: both; outline: 0');\n",
       "\n",
       "    function canvas_keyboard_event(event) {\n",
       "        return fig.key_event(event, event['data']);\n",
       "    }\n",
       "\n",
       "    canvas_div.keydown('key_press', canvas_keyboard_event);\n",
       "    canvas_div.keyup('key_release', canvas_keyboard_event);\n",
       "    this.canvas_div = canvas_div\n",
       "    this._canvas_extra_style(canvas_div)\n",
       "    this.root.append(canvas_div);\n",
       "\n",
       "    var canvas = $('<canvas/>');\n",
       "    canvas.addClass('mpl-canvas');\n",
       "    canvas.attr('style', \"left: 0; top: 0; z-index: 0; outline: 0\")\n",
       "\n",
       "    this.canvas = canvas[0];\n",
       "    this.context = canvas[0].getContext(\"2d\");\n",
       "\n",
       "    var backingStore = this.context.backingStorePixelRatio ||\n",
       "\tthis.context.webkitBackingStorePixelRatio ||\n",
       "\tthis.context.mozBackingStorePixelRatio ||\n",
       "\tthis.context.msBackingStorePixelRatio ||\n",
       "\tthis.context.oBackingStorePixelRatio ||\n",
       "\tthis.context.backingStorePixelRatio || 1;\n",
       "\n",
       "    mpl.ratio = (window.devicePixelRatio || 1) / backingStore;\n",
       "\n",
       "    var rubberband = $('<canvas/>');\n",
       "    rubberband.attr('style', \"position: absolute; left: 0; top: 0; z-index: 1;\")\n",
       "\n",
       "    var pass_mouse_events = true;\n",
       "\n",
       "    canvas_div.resizable({\n",
       "        start: function(event, ui) {\n",
       "            pass_mouse_events = false;\n",
       "        },\n",
       "        resize: function(event, ui) {\n",
       "            fig.request_resize(ui.size.width, ui.size.height);\n",
       "        },\n",
       "        stop: function(event, ui) {\n",
       "            pass_mouse_events = true;\n",
       "            fig.request_resize(ui.size.width, ui.size.height);\n",
       "        },\n",
       "    });\n",
       "\n",
       "    function mouse_event_fn(event) {\n",
       "        if (pass_mouse_events)\n",
       "            return fig.mouse_event(event, event['data']);\n",
       "    }\n",
       "\n",
       "    rubberband.mousedown('button_press', mouse_event_fn);\n",
       "    rubberband.mouseup('button_release', mouse_event_fn);\n",
       "    // Throttle sequential mouse events to 1 every 20ms.\n",
       "    rubberband.mousemove('motion_notify', mouse_event_fn);\n",
       "\n",
       "    rubberband.mouseenter('figure_enter', mouse_event_fn);\n",
       "    rubberband.mouseleave('figure_leave', mouse_event_fn);\n",
       "\n",
       "    canvas_div.on(\"wheel\", function (event) {\n",
       "        event = event.originalEvent;\n",
       "        event['data'] = 'scroll'\n",
       "        if (event.deltaY < 0) {\n",
       "            event.step = 1;\n",
       "        } else {\n",
       "            event.step = -1;\n",
       "        }\n",
       "        mouse_event_fn(event);\n",
       "    });\n",
       "\n",
       "    canvas_div.append(canvas);\n",
       "    canvas_div.append(rubberband);\n",
       "\n",
       "    this.rubberband = rubberband;\n",
       "    this.rubberband_canvas = rubberband[0];\n",
       "    this.rubberband_context = rubberband[0].getContext(\"2d\");\n",
       "    this.rubberband_context.strokeStyle = \"#000000\";\n",
       "\n",
       "    this._resize_canvas = function(width, height) {\n",
       "        // Keep the size of the canvas, canvas container, and rubber band\n",
       "        // canvas in synch.\n",
       "        canvas_div.css('width', width)\n",
       "        canvas_div.css('height', height)\n",
       "\n",
       "        canvas.attr('width', width * mpl.ratio);\n",
       "        canvas.attr('height', height * mpl.ratio);\n",
       "        canvas.attr('style', 'width: ' + width + 'px; height: ' + height + 'px;');\n",
       "\n",
       "        rubberband.attr('width', width);\n",
       "        rubberband.attr('height', height);\n",
       "    }\n",
       "\n",
       "    // Set the figure to an initial 600x600px, this will subsequently be updated\n",
       "    // upon first draw.\n",
       "    this._resize_canvas(600, 600);\n",
       "\n",
       "    // Disable right mouse context menu.\n",
       "    $(this.rubberband_canvas).bind(\"contextmenu\",function(e){\n",
       "        return false;\n",
       "    });\n",
       "\n",
       "    function set_focus () {\n",
       "        canvas.focus();\n",
       "        canvas_div.focus();\n",
       "    }\n",
       "\n",
       "    window.setTimeout(set_focus, 100);\n",
       "}\n",
       "\n",
       "mpl.figure.prototype._init_toolbar = function() {\n",
       "    var fig = this;\n",
       "\n",
       "    var nav_element = $('<div/>');\n",
       "    nav_element.attr('style', 'width: 100%');\n",
       "    this.root.append(nav_element);\n",
       "\n",
       "    // Define a callback function for later on.\n",
       "    function toolbar_event(event) {\n",
       "        return fig.toolbar_button_onclick(event['data']);\n",
       "    }\n",
       "    function toolbar_mouse_event(event) {\n",
       "        return fig.toolbar_button_onmouseover(event['data']);\n",
       "    }\n",
       "\n",
       "    for(var toolbar_ind in mpl.toolbar_items) {\n",
       "        var name = mpl.toolbar_items[toolbar_ind][0];\n",
       "        var tooltip = mpl.toolbar_items[toolbar_ind][1];\n",
       "        var image = mpl.toolbar_items[toolbar_ind][2];\n",
       "        var method_name = mpl.toolbar_items[toolbar_ind][3];\n",
       "\n",
       "        if (!name) {\n",
       "            // put a spacer in here.\n",
       "            continue;\n",
       "        }\n",
       "        var button = $('<button/>');\n",
       "        button.addClass('ui-button ui-widget ui-state-default ui-corner-all ' +\n",
       "                        'ui-button-icon-only');\n",
       "        button.attr('role', 'button');\n",
       "        button.attr('aria-disabled', 'false');\n",
       "        button.click(method_name, toolbar_event);\n",
       "        button.mouseover(tooltip, toolbar_mouse_event);\n",
       "\n",
       "        var icon_img = $('<span/>');\n",
       "        icon_img.addClass('ui-button-icon-primary ui-icon');\n",
       "        icon_img.addClass(image);\n",
       "        icon_img.addClass('ui-corner-all');\n",
       "\n",
       "        var tooltip_span = $('<span/>');\n",
       "        tooltip_span.addClass('ui-button-text');\n",
       "        tooltip_span.html(tooltip);\n",
       "\n",
       "        button.append(icon_img);\n",
       "        button.append(tooltip_span);\n",
       "\n",
       "        nav_element.append(button);\n",
       "    }\n",
       "\n",
       "    var fmt_picker_span = $('<span/>');\n",
       "\n",
       "    var fmt_picker = $('<select/>');\n",
       "    fmt_picker.addClass('mpl-toolbar-option ui-widget ui-widget-content');\n",
       "    fmt_picker_span.append(fmt_picker);\n",
       "    nav_element.append(fmt_picker_span);\n",
       "    this.format_dropdown = fmt_picker[0];\n",
       "\n",
       "    for (var ind in mpl.extensions) {\n",
       "        var fmt = mpl.extensions[ind];\n",
       "        var option = $(\n",
       "            '<option/>', {selected: fmt === mpl.default_extension}).html(fmt);\n",
       "        fmt_picker.append(option);\n",
       "    }\n",
       "\n",
       "    // Add hover states to the ui-buttons\n",
       "    $( \".ui-button\" ).hover(\n",
       "        function() { $(this).addClass(\"ui-state-hover\");},\n",
       "        function() { $(this).removeClass(\"ui-state-hover\");}\n",
       "    );\n",
       "\n",
       "    var status_bar = $('<span class=\"mpl-message\"/>');\n",
       "    nav_element.append(status_bar);\n",
       "    this.message = status_bar[0];\n",
       "}\n",
       "\n",
       "mpl.figure.prototype.request_resize = function(x_pixels, y_pixels) {\n",
       "    // Request matplotlib to resize the figure. Matplotlib will then trigger a resize in the client,\n",
       "    // which will in turn request a refresh of the image.\n",
       "    this.send_message('resize', {'width': x_pixels, 'height': y_pixels});\n",
       "}\n",
       "\n",
       "mpl.figure.prototype.send_message = function(type, properties) {\n",
       "    properties['type'] = type;\n",
       "    properties['figure_id'] = this.id;\n",
       "    this.ws.send(JSON.stringify(properties));\n",
       "}\n",
       "\n",
       "mpl.figure.prototype.send_draw_message = function() {\n",
       "    if (!this.waiting) {\n",
       "        this.waiting = true;\n",
       "        this.ws.send(JSON.stringify({type: \"draw\", figure_id: this.id}));\n",
       "    }\n",
       "}\n",
       "\n",
       "\n",
       "mpl.figure.prototype.handle_save = function(fig, msg) {\n",
       "    var format_dropdown = fig.format_dropdown;\n",
       "    var format = format_dropdown.options[format_dropdown.selectedIndex].value;\n",
       "    fig.ondownload(fig, format);\n",
       "}\n",
       "\n",
       "\n",
       "mpl.figure.prototype.handle_resize = function(fig, msg) {\n",
       "    var size = msg['size'];\n",
       "    if (size[0] != fig.canvas.width || size[1] != fig.canvas.height) {\n",
       "        fig._resize_canvas(size[0], size[1]);\n",
       "        fig.send_message(\"refresh\", {});\n",
       "    };\n",
       "}\n",
       "\n",
       "mpl.figure.prototype.handle_rubberband = function(fig, msg) {\n",
       "    var x0 = msg['x0'] / mpl.ratio;\n",
       "    var y0 = (fig.canvas.height - msg['y0']) / mpl.ratio;\n",
       "    var x1 = msg['x1'] / mpl.ratio;\n",
       "    var y1 = (fig.canvas.height - msg['y1']) / mpl.ratio;\n",
       "    x0 = Math.floor(x0) + 0.5;\n",
       "    y0 = Math.floor(y0) + 0.5;\n",
       "    x1 = Math.floor(x1) + 0.5;\n",
       "    y1 = Math.floor(y1) + 0.5;\n",
       "    var min_x = Math.min(x0, x1);\n",
       "    var min_y = Math.min(y0, y1);\n",
       "    var width = Math.abs(x1 - x0);\n",
       "    var height = Math.abs(y1 - y0);\n",
       "\n",
       "    fig.rubberband_context.clearRect(\n",
       "        0, 0, fig.canvas.width / mpl.ratio, fig.canvas.height / mpl.ratio);\n",
       "\n",
       "    fig.rubberband_context.strokeRect(min_x, min_y, width, height);\n",
       "}\n",
       "\n",
       "mpl.figure.prototype.handle_figure_label = function(fig, msg) {\n",
       "    // Updates the figure title.\n",
       "    fig.header.textContent = msg['label'];\n",
       "}\n",
       "\n",
       "mpl.figure.prototype.handle_cursor = function(fig, msg) {\n",
       "    var cursor = msg['cursor'];\n",
       "    switch(cursor)\n",
       "    {\n",
       "    case 0:\n",
       "        cursor = 'pointer';\n",
       "        break;\n",
       "    case 1:\n",
       "        cursor = 'default';\n",
       "        break;\n",
       "    case 2:\n",
       "        cursor = 'crosshair';\n",
       "        break;\n",
       "    case 3:\n",
       "        cursor = 'move';\n",
       "        break;\n",
       "    }\n",
       "    fig.rubberband_canvas.style.cursor = cursor;\n",
       "}\n",
       "\n",
       "mpl.figure.prototype.handle_message = function(fig, msg) {\n",
       "    fig.message.textContent = msg['message'];\n",
       "}\n",
       "\n",
       "mpl.figure.prototype.handle_draw = function(fig, msg) {\n",
       "    // Request the server to send over a new figure.\n",
       "    fig.send_draw_message();\n",
       "}\n",
       "\n",
       "mpl.figure.prototype.handle_image_mode = function(fig, msg) {\n",
       "    fig.image_mode = msg['mode'];\n",
       "}\n",
       "\n",
       "mpl.figure.prototype.updated_canvas_event = function() {\n",
       "    // Called whenever the canvas gets updated.\n",
       "    this.send_message(\"ack\", {});\n",
       "}\n",
       "\n",
       "// A function to construct a web socket function for onmessage handling.\n",
       "// Called in the figure constructor.\n",
       "mpl.figure.prototype._make_on_message_function = function(fig) {\n",
       "    return function socket_on_message(evt) {\n",
       "        if (evt.data instanceof Blob) {\n",
       "            /* FIXME: We get \"Resource interpreted as Image but\n",
       "             * transferred with MIME type text/plain:\" errors on\n",
       "             * Chrome.  But how to set the MIME type?  It doesn't seem\n",
       "             * to be part of the websocket stream */\n",
       "            evt.data.type = \"image/png\";\n",
       "\n",
       "            /* Free the memory for the previous frames */\n",
       "            if (fig.imageObj.src) {\n",
       "                (window.URL || window.webkitURL).revokeObjectURL(\n",
       "                    fig.imageObj.src);\n",
       "            }\n",
       "\n",
       "            fig.imageObj.src = (window.URL || window.webkitURL).createObjectURL(\n",
       "                evt.data);\n",
       "            fig.updated_canvas_event();\n",
       "            fig.waiting = false;\n",
       "            return;\n",
       "        }\n",
       "        else if (typeof evt.data === 'string' && evt.data.slice(0, 21) == \"data:image/png;base64\") {\n",
       "            fig.imageObj.src = evt.data;\n",
       "            fig.updated_canvas_event();\n",
       "            fig.waiting = false;\n",
       "            return;\n",
       "        }\n",
       "\n",
       "        var msg = JSON.parse(evt.data);\n",
       "        var msg_type = msg['type'];\n",
       "\n",
       "        // Call the  \"handle_{type}\" callback, which takes\n",
       "        // the figure and JSON message as its only arguments.\n",
       "        try {\n",
       "            var callback = fig[\"handle_\" + msg_type];\n",
       "        } catch (e) {\n",
       "            console.log(\"No handler for the '\" + msg_type + \"' message type: \", msg);\n",
       "            return;\n",
       "        }\n",
       "\n",
       "        if (callback) {\n",
       "            try {\n",
       "                // console.log(\"Handling '\" + msg_type + \"' message: \", msg);\n",
       "                callback(fig, msg);\n",
       "            } catch (e) {\n",
       "                console.log(\"Exception inside the 'handler_\" + msg_type + \"' callback:\", e, e.stack, msg);\n",
       "            }\n",
       "        }\n",
       "    };\n",
       "}\n",
       "\n",
       "// from http://stackoverflow.com/questions/1114465/getting-mouse-location-in-canvas\n",
       "mpl.findpos = function(e) {\n",
       "    //this section is from http://www.quirksmode.org/js/events_properties.html\n",
       "    var targ;\n",
       "    if (!e)\n",
       "        e = window.event;\n",
       "    if (e.target)\n",
       "        targ = e.target;\n",
       "    else if (e.srcElement)\n",
       "        targ = e.srcElement;\n",
       "    if (targ.nodeType == 3) // defeat Safari bug\n",
       "        targ = targ.parentNode;\n",
       "\n",
       "    // jQuery normalizes the pageX and pageY\n",
       "    // pageX,Y are the mouse positions relative to the document\n",
       "    // offset() returns the position of the element relative to the document\n",
       "    var x = e.pageX - $(targ).offset().left;\n",
       "    var y = e.pageY - $(targ).offset().top;\n",
       "\n",
       "    return {\"x\": x, \"y\": y};\n",
       "};\n",
       "\n",
       "/*\n",
       " * return a copy of an object with only non-object keys\n",
       " * we need this to avoid circular references\n",
       " * http://stackoverflow.com/a/24161582/3208463\n",
       " */\n",
       "function simpleKeys (original) {\n",
       "  return Object.keys(original).reduce(function (obj, key) {\n",
       "    if (typeof original[key] !== 'object')\n",
       "        obj[key] = original[key]\n",
       "    return obj;\n",
       "  }, {});\n",
       "}\n",
       "\n",
       "mpl.figure.prototype.mouse_event = function(event, name) {\n",
       "    var canvas_pos = mpl.findpos(event)\n",
       "\n",
       "    if (name === 'button_press')\n",
       "    {\n",
       "        this.canvas.focus();\n",
       "        this.canvas_div.focus();\n",
       "    }\n",
       "\n",
       "    var x = canvas_pos.x * mpl.ratio;\n",
       "    var y = canvas_pos.y * mpl.ratio;\n",
       "\n",
       "    this.send_message(name, {x: x, y: y, button: event.button,\n",
       "                             step: event.step,\n",
       "                             guiEvent: simpleKeys(event)});\n",
       "\n",
       "    /* This prevents the web browser from automatically changing to\n",
       "     * the text insertion cursor when the button is pressed.  We want\n",
       "     * to control all of the cursor setting manually through the\n",
       "     * 'cursor' event from matplotlib */\n",
       "    event.preventDefault();\n",
       "    return false;\n",
       "}\n",
       "\n",
       "mpl.figure.prototype._key_event_extra = function(event, name) {\n",
       "    // Handle any extra behaviour associated with a key event\n",
       "}\n",
       "\n",
       "mpl.figure.prototype.key_event = function(event, name) {\n",
       "\n",
       "    // Prevent repeat events\n",
       "    if (name == 'key_press')\n",
       "    {\n",
       "        if (event.which === this._key)\n",
       "            return;\n",
       "        else\n",
       "            this._key = event.which;\n",
       "    }\n",
       "    if (name == 'key_release')\n",
       "        this._key = null;\n",
       "\n",
       "    var value = '';\n",
       "    if (event.ctrlKey && event.which != 17)\n",
       "        value += \"ctrl+\";\n",
       "    if (event.altKey && event.which != 18)\n",
       "        value += \"alt+\";\n",
       "    if (event.shiftKey && event.which != 16)\n",
       "        value += \"shift+\";\n",
       "\n",
       "    value += 'k';\n",
       "    value += event.which.toString();\n",
       "\n",
       "    this._key_event_extra(event, name);\n",
       "\n",
       "    this.send_message(name, {key: value,\n",
       "                             guiEvent: simpleKeys(event)});\n",
       "    return false;\n",
       "}\n",
       "\n",
       "mpl.figure.prototype.toolbar_button_onclick = function(name) {\n",
       "    if (name == 'download') {\n",
       "        this.handle_save(this, null);\n",
       "    } else {\n",
       "        this.send_message(\"toolbar_button\", {name: name});\n",
       "    }\n",
       "};\n",
       "\n",
       "mpl.figure.prototype.toolbar_button_onmouseover = function(tooltip) {\n",
       "    this.message.textContent = tooltip;\n",
       "};\n",
       "mpl.toolbar_items = [[\"Home\", \"Reset original view\", \"fa fa-home icon-home\", \"home\"], [\"Back\", \"Back to previous view\", \"fa fa-arrow-left icon-arrow-left\", \"back\"], [\"Forward\", \"Forward to next view\", \"fa fa-arrow-right icon-arrow-right\", \"forward\"], [\"\", \"\", \"\", \"\"], [\"Pan\", \"Pan axes with left mouse, zoom with right\", \"fa fa-arrows icon-move\", \"pan\"], [\"Zoom\", \"Zoom to rectangle\", \"fa fa-square-o icon-check-empty\", \"zoom\"], [\"\", \"\", \"\", \"\"], [\"Download\", \"Download plot\", \"fa fa-floppy-o icon-save\", \"download\"]];\n",
       "\n",
       "mpl.extensions = [\"eps\", \"pdf\", \"png\", \"ps\", \"raw\", \"svg\"];\n",
       "\n",
       "mpl.default_extension = \"png\";var comm_websocket_adapter = function(comm) {\n",
       "    // Create a \"websocket\"-like object which calls the given IPython comm\n",
       "    // object with the appropriate methods. Currently this is a non binary\n",
       "    // socket, so there is still some room for performance tuning.\n",
       "    var ws = {};\n",
       "\n",
       "    ws.close = function() {\n",
       "        comm.close()\n",
       "    };\n",
       "    ws.send = function(m) {\n",
       "        //console.log('sending', m);\n",
       "        comm.send(m);\n",
       "    };\n",
       "    // Register the callback with on_msg.\n",
       "    comm.on_msg(function(msg) {\n",
       "        //console.log('receiving', msg['content']['data'], msg);\n",
       "        // Pass the mpl event to the overridden (by mpl) onmessage function.\n",
       "        ws.onmessage(msg['content']['data'])\n",
       "    });\n",
       "    return ws;\n",
       "}\n",
       "\n",
       "mpl.mpl_figure_comm = function(comm, msg) {\n",
       "    // This is the function which gets called when the mpl process\n",
       "    // starts-up an IPython Comm through the \"matplotlib\" channel.\n",
       "\n",
       "    var id = msg.content.data.id;\n",
       "    // Get hold of the div created by the display call when the Comm\n",
       "    // socket was opened in Python.\n",
       "    var element = $(\"#\" + id);\n",
       "    var ws_proxy = comm_websocket_adapter(comm)\n",
       "\n",
       "    function ondownload(figure, format) {\n",
       "        window.open(figure.imageObj.src);\n",
       "    }\n",
       "\n",
       "    var fig = new mpl.figure(id, ws_proxy,\n",
       "                           ondownload,\n",
       "                           element.get(0));\n",
       "\n",
       "    // Call onopen now - mpl needs it, as it is assuming we've passed it a real\n",
       "    // web socket which is closed, not our websocket->open comm proxy.\n",
       "    ws_proxy.onopen();\n",
       "\n",
       "    fig.parent_element = element.get(0);\n",
       "    fig.cell_info = mpl.find_output_cell(\"<div id='\" + id + \"'></div>\");\n",
       "    if (!fig.cell_info) {\n",
       "        console.error(\"Failed to find cell for figure\", id, fig);\n",
       "        return;\n",
       "    }\n",
       "\n",
       "    var output_index = fig.cell_info[2]\n",
       "    var cell = fig.cell_info[0];\n",
       "\n",
       "};\n",
       "\n",
       "mpl.figure.prototype.handle_close = function(fig, msg) {\n",
       "    var width = fig.canvas.width/mpl.ratio\n",
       "    fig.root.unbind('remove')\n",
       "\n",
       "    // Update the output cell to use the data from the current canvas.\n",
       "    fig.push_to_output();\n",
       "    var dataURL = fig.canvas.toDataURL();\n",
       "    // Re-enable the keyboard manager in IPython - without this line, in FF,\n",
       "    // the notebook keyboard shortcuts fail.\n",
       "    IPython.keyboard_manager.enable()\n",
       "    $(fig.parent_element).html('<img src=\"' + dataURL + '\" width=\"' + width + '\">');\n",
       "    fig.close_ws(fig, msg);\n",
       "}\n",
       "\n",
       "mpl.figure.prototype.close_ws = function(fig, msg){\n",
       "    fig.send_message('closing', msg);\n",
       "    // fig.ws.close()\n",
       "}\n",
       "\n",
       "mpl.figure.prototype.push_to_output = function(remove_interactive) {\n",
       "    // Turn the data on the canvas into data in the output cell.\n",
       "    var width = this.canvas.width/mpl.ratio\n",
       "    var dataURL = this.canvas.toDataURL();\n",
       "    this.cell_info[1]['text/html'] = '<img src=\"' + dataURL + '\" width=\"' + width + '\">';\n",
       "}\n",
       "\n",
       "mpl.figure.prototype.updated_canvas_event = function() {\n",
       "    // Tell IPython that the notebook contents must change.\n",
       "    IPython.notebook.set_dirty(true);\n",
       "    this.send_message(\"ack\", {});\n",
       "    var fig = this;\n",
       "    // Wait a second, then push the new image to the DOM so\n",
       "    // that it is saved nicely (might be nice to debounce this).\n",
       "    setTimeout(function () { fig.push_to_output() }, 1000);\n",
       "}\n",
       "\n",
       "mpl.figure.prototype._init_toolbar = function() {\n",
       "    var fig = this;\n",
       "\n",
       "    var nav_element = $('<div/>');\n",
       "    nav_element.attr('style', 'width: 100%');\n",
       "    this.root.append(nav_element);\n",
       "\n",
       "    // Define a callback function for later on.\n",
       "    function toolbar_event(event) {\n",
       "        return fig.toolbar_button_onclick(event['data']);\n",
       "    }\n",
       "    function toolbar_mouse_event(event) {\n",
       "        return fig.toolbar_button_onmouseover(event['data']);\n",
       "    }\n",
       "\n",
       "    for(var toolbar_ind in mpl.toolbar_items){\n",
       "        var name = mpl.toolbar_items[toolbar_ind][0];\n",
       "        var tooltip = mpl.toolbar_items[toolbar_ind][1];\n",
       "        var image = mpl.toolbar_items[toolbar_ind][2];\n",
       "        var method_name = mpl.toolbar_items[toolbar_ind][3];\n",
       "\n",
       "        if (!name) { continue; };\n",
       "\n",
       "        var button = $('<button class=\"btn btn-default\" href=\"#\" title=\"' + name + '\"><i class=\"fa ' + image + ' fa-lg\"></i></button>');\n",
       "        button.click(method_name, toolbar_event);\n",
       "        button.mouseover(tooltip, toolbar_mouse_event);\n",
       "        nav_element.append(button);\n",
       "    }\n",
       "\n",
       "    // Add the status bar.\n",
       "    var status_bar = $('<span class=\"mpl-message\" style=\"text-align:right; float: right;\"/>');\n",
       "    nav_element.append(status_bar);\n",
       "    this.message = status_bar[0];\n",
       "\n",
       "    // Add the close button to the window.\n",
       "    var buttongrp = $('<div class=\"btn-group inline pull-right\"></div>');\n",
       "    var button = $('<button class=\"btn btn-mini btn-primary\" href=\"#\" title=\"Stop Interaction\"><i class=\"fa fa-power-off icon-remove icon-large\"></i></button>');\n",
       "    button.click(function (evt) { fig.handle_close(fig, {}); } );\n",
       "    button.mouseover('Stop Interaction', toolbar_mouse_event);\n",
       "    buttongrp.append(button);\n",
       "    var titlebar = this.root.find($('.ui-dialog-titlebar'));\n",
       "    titlebar.prepend(buttongrp);\n",
       "}\n",
       "\n",
       "mpl.figure.prototype._root_extra_style = function(el){\n",
       "    var fig = this\n",
       "    el.on(\"remove\", function(){\n",
       "\tfig.close_ws(fig, {});\n",
       "    });\n",
       "}\n",
       "\n",
       "mpl.figure.prototype._canvas_extra_style = function(el){\n",
       "    // this is important to make the div 'focusable\n",
       "    el.attr('tabindex', 0)\n",
       "    // reach out to IPython and tell the keyboard manager to turn it's self\n",
       "    // off when our div gets focus\n",
       "\n",
       "    // location in version 3\n",
       "    if (IPython.notebook.keyboard_manager) {\n",
       "        IPython.notebook.keyboard_manager.register_events(el);\n",
       "    }\n",
       "    else {\n",
       "        // location in version 2\n",
       "        IPython.keyboard_manager.register_events(el);\n",
       "    }\n",
       "\n",
       "}\n",
       "\n",
       "mpl.figure.prototype._key_event_extra = function(event, name) {\n",
       "    var manager = IPython.notebook.keyboard_manager;\n",
       "    if (!manager)\n",
       "        manager = IPython.keyboard_manager;\n",
       "\n",
       "    // Check for shift+enter\n",
       "    if (event.shiftKey && event.which == 13) {\n",
       "        this.canvas_div.blur();\n",
       "        // select the cell after this one\n",
       "        var index = IPython.notebook.find_cell_index(this.cell_info[0]);\n",
       "        IPython.notebook.select(index + 1);\n",
       "    }\n",
       "}\n",
       "\n",
       "mpl.figure.prototype.handle_save = function(fig, msg) {\n",
       "    fig.ondownload(fig, null);\n",
       "}\n",
       "\n",
       "\n",
       "mpl.find_output_cell = function(html_output) {\n",
       "    // Return the cell and output element which can be found *uniquely* in the notebook.\n",
       "    // Note - this is a bit hacky, but it is done because the \"notebook_saving.Notebook\"\n",
       "    // IPython event is triggered only after the cells have been serialised, which for\n",
       "    // our purposes (turning an active figure into a static one), is too late.\n",
       "    var cells = IPython.notebook.get_cells();\n",
       "    var ncells = cells.length;\n",
       "    for (var i=0; i<ncells; i++) {\n",
       "        var cell = cells[i];\n",
       "        if (cell.cell_type === 'code'){\n",
       "            for (var j=0; j<cell.output_area.outputs.length; j++) {\n",
       "                var data = cell.output_area.outputs[j];\n",
       "                if (data.data) {\n",
       "                    // IPython >= 3 moved mimebundle to data attribute of output\n",
       "                    data = data.data;\n",
       "                }\n",
       "                if (data['text/html'] == html_output) {\n",
       "                    return [cell, data, j];\n",
       "                }\n",
       "            }\n",
       "        }\n",
       "    }\n",
       "}\n",
       "\n",
       "// Register the function which deals with the matplotlib target/channel.\n",
       "// The kernel may be null if the page has been refreshed.\n",
       "if (IPython.notebook.kernel != null) {\n",
       "    IPython.notebook.kernel.comm_manager.register_target('matplotlib', mpl.mpl_figure_comm);\n",
       "}\n"
      ],
      "text/plain": [
       "<IPython.core.display.Javascript object>"
      ]
     },
     "metadata": {},
     "output_type": "display_data"
    },
    {
     "data": {
      "text/html": [
       "<img src=\"data:image/png;base64,iVBORw0KGgoAAAANSUhEUgAAAiYAAAImCAYAAABnzkFGAAAAAXNSR0IArs4c6QAAAERlWElmTU0AKgAAAAgAAYdpAAQAAAABAAAAGgAAAAAAA6ABAAMAAAABAAEAAKACAAQAAAABAAACJqADAAQAAAABAAACJgAAAADM7urTAABAAElEQVR4AeydB5gUxdaGDyJBJEpa8gIiSBRRwIABFFARxYQiIkEQFEFESSqoZJGMEUFFySqC3qsCKgYUMYEkuUgGWYkiOf/9lX+NvbM9uz2hw8x89TzL9HRX1al+e5f55tSpU9nOGEVYSIAESIAESIAESMAHBM7ywRg4BBIgARIgARIgARJQBChM+ItAAiRAAiRAAiTgGwIUJr55FBwICZAACZAACZAAhQl/B0iABEiABEiABHxDgMLEN4+CAyEBEiABEiABEqAw4e8ACZAACZAACZCAbwhQmPjmUXAgJEACJEACJEACFCb8HSABEiABEiABEvANAQoT3zwKDoQESIAESIAESIDChL8DJEACJEACJEACviFAYeKbR8GBkAAJkAAJkAAJUJjwd4AESIAESIAESMA3BChMfPMoOBASIAESIAESIAEKE/4OkAAJkAAJkAAJ+IYAhYlvHgUHkswE/vrrL+nT62lp2ri53HdvB/npp1+yxLFq5Wq59uqmMuWtaenqbty4Sbp17Sk3Nm0h99/XUX75ZXm663xDAiRAAn4mQGHi56fDsSUcgaFDXpCPP56f4b7GjJ4g551XSD6YN0s6d3lAnh0wWP7+++8M9fSJ06dPy4QJr0qVKhfoU+r15MmT8mS/Z+TqaxrIh/95Vx7p3kUG9B8k+/eH7itdB3xDAiRAAh4ToDDx+AHQPAkcPnxEvvn6O2nb/j7JnTu3XHHlZVK+QnlZ/M13IeF8+OF/peqFVaRsubLp6mzZsk0OHjgot99xq2TPnl0uueRiqVSponz99eJ09fiGBEiABPxK4Gy/DozjIoFICRw/flzemDRF5s//TA4YH9IVK5aXDg/cL5dcWifLLteuXSevT3xDVq1cI2fOnJFq1S6UBw0PBj7czeW3NWvlk08WyDJjmiQt7U/Jnz+/VK1WxbDTVsqUKW2umuXx9m3b5ZxzckuxYkUDdStUSJWNGzcH3psP4P14d/YceenlsTJh/CvmS+oY4zYXvN8Uoi9zPR6TAAmQgB8I0GPih6eQgGPo3u0J6frwYxnuDLEU7dt2lusa3iSLvvgqw/VYnBg2dKTMmvW+XHd9Q3mkWxc566yzpLcRv/Hrrysz7f5/hih5xBjzjj/S5P6296qfbYZoeLTb47Jly9Z0badNmyVffblYLq5TW7oaNprdfKMsX75SOj7wsGzYsCld3azeHDlyRPKce266aueem0dw3qpAON1xZwvJly9vhstly5aWvHnzyqyZ7wmmdb7//gdZvmyFHD16NENdniABEiABPxKgx8SPTyVBx/TXX/vlsUf7yNat2+SZZ5+UKxtcHvM7XbP6N/n8s0UqTuPue+5U/Tducp20a9tJXn35dXnx5TEhbU42vCy5cuVUdQoUyK/qXW+Im9ZGMOrrr70hzw3qH2h71123ydP9+0iOHDkC5xo2vFratXtQpk2dKU893Ttwvk/vp2XFilXq/bGjx5Qg056OVq1aSt26deTwoUOB+jg4dOiw4UU5J905vFn3v99l7W//k0d7dM1wDSfOPvtsGTRkgIwb85K88/Z0qVz5ArnWGFfRokUs6/MkCZAACfiNAIWJ355Igo4HoqRnj94CD8SgwQOkXv1LHbnTL7/8Rs7Kfpbc3PzGQP8QGzfd1FQmGuJi5587pVjxYoFr5gN4VOrWqyNalOBa4SKFpdZFNeS775YKYkHy5PlHLFSvUc3cVB2XLlNKyqeWky2bt6S7Nmz4wMB7BL9eVLum3HBD48A59HvkyFHZtWt3QEBgZU0TQ1AFl2XLfpUthrC74/Z71aVDBw+pWJI//vhD+vR9XJ2rWLGCjB3/QqDpw10elesbNwy85wEJkAAJ+JkAhYmfn06CjE2Lku3b/5Chw5+TOsb0h1Nl3brfpUzp0nJu0NRIlQsrK5O//74hpDA5ceKE5MqZK8PQcufOJbgGsYCYk1AFsRx79/2lxEmoOlbnIXYQ8PrG5Lel+6MPqaXCG9ZvVOeC60NwNWx0TeD0hHEvS0qJFGl1b8vAufXrN0hpg8GZM6flgzkfymljXPXqOSMEA0Z5QAIkQAIxIkBhEiOQ7MaaAAI14SnZvHmrjBw1THkfrGv+c/bUqVNy7NjxzKqo6RasOLEqe/bslcKFz8twSZ/bvXtPhmv6BIJWVxtTQRiD7h+CZM3qtarKbsOjkVlZsOBzQZ327dtkVs3yWo/HusrQwS9I82Z3Kq9J/2f6qYBaXbnXE09KzZrVpfV996iVO/p8zly51JSPOd7k4//OV0uSz5w+Y6zKqa08VLo+X0mABEjA7wQoTPz+hOJ4fAcPHpTHDFGy3vj2j7Jv374s7wbTKT2698q03uixz0vt2rUs6xw3RI057kNXypkzpzo8duyYPpXh9ZYWzWT0yPHy/PDRck+rO+W08cH+9pRpArGDcsxY7ROqbDamb8YauUjgUWnSNOMUjG7Xt98/0y36vX4tWLCgDB8xSL/N8Pr8iMEZzuGEVX9dH+ks+GEhARIggXgkQGESj08tTsaMJar58+eT518YLMONlTIjXxgrVatWCTmVgtuqVOl8GTdhZKZ3WMHI8RGq5DTiSeDlCC5YQoySy/AwhCq33NJMdu3cJTOmvyufGkuBUSobCcwQRItAUqtgVNSBcOnbu7+aPnp24NMBbwuusZAACZAACYRHgMIkPF6sHQYBTC/Au4FgzN59e0rvJ56SwYNHyOgxw9USXquu8uY9V01ZWF2zcw5TNrt3ZZyu0V6PIkYwa2blgY7tpOXdd6gcInmNOJUKRg6Uia9NVk3KGMGtweWgEXzau9dTAu8QBFVW/Qe353sSIAESIIH0BChM0vPguxgSKGesUIEoQalb9xK55dZmKhhzupED5N7Wd1taijbG5PzzK6q9YQ4Zy2/NAbBYRoxy/vn/jMfS+P+fzJcvXzpx9NOPv6i4j7Jly6RrhliYfn36yzZjlQziZ1KN+420IL/LsCEjZdmy5YatovKoEXMSKkj4hRFj5NvF36vcJMWNFUYdO7WTy6+or0zDMzR61HjBmCGayqWWla5dH5Rq1atGOjS2IwESIAFXCVCYuIo7uY11eaijWnGC1Sd1jFTpwfu8gE60MSbYI2bmjHflw3n/VVMw6BMf1ggIvdA0jYSEY38aS4cLFCggBQsWQDXLgpwovxl5QzB2JGrTBQLquWcGy6pVa2TwkGei/uA375UDUYG9ct6ZNjldAKy2faeRQ6Vb94cEcTPIQNvzsT4ybcZbapnzqVOnJSWluIx/cZQSU18YSez69h0gM2ZOCSx11v3wlQRIgAT8SIDCxI9PJUHHhPiOJ5/qLcirMei5YTJx0ksqFbv5dqONMUEMyzXXNlA5S7BMuVSpkipeBGnje/X+NxPtGuMDHUG297dtLe2MPWpQkCH1rbfekUuN1PVIMb969Rq1uqVuvUuMvWdamIcpL734mixevEQuv7y+/H3ggEp/b67QuHEj89tMj/VeOdNmvJlhr5wbbmySoW058/442bIZMTUnZffu3UqYILU97kmXRsbS4peMzf62Gl6dypUr6dN8JQESIAHfEqAw8e2jScyBwUuCdO/IsjreyMHRq3ePdDcabYwJOuvbr5cUL/6WzP/U2Cvn4AGpaATLIn8KEqVlVooULSzZz8qugl8PHzksJVJSpEOHtnJXy9uMjKrplycjHwrKt98uUT/qjemfcIRJuHvlwAyma+AFgjeofv26EiogeNvW7Uo4QaCxkAAJkEA8EMhmJIVKv+NXPIyaYySBBCLw6/IVKih45qwpgbvCfjgqB8zj3QPngg8wnYRMsBuNvXmwd05wwdLoR409i+oZwqVtu3+9KMH1+J4ESIAE/ESAHhM/PQ2OJSEJYDPDlf+/V07wDSJh2tVXX2l7rxxzeySBQ4AsdhouXbqU1L+sbuAyNvAb0H+QmsqCh4qFBEiABOKFAIVJvDwpjjNuCUwwAlEzK+HslWPVDzwnSPevy+nTp2XwoOclmxF/0qffE+pVX+MrCZAACfidwL/LDPw+Uo6PBBKUgHmvHEy/IG4l1F45WAK80Eh9DzFz8uQptVPxL78sl5q1/o2fQSK7vUbSt2eefSpDbEyCIuRtkQAJJBABxpgk0MPkrcQvAeQxwV45iBkpWrSIymNyibGkWhe9V06L25rLk/2ekXXr1ouxS5+aqsF00FXGdBAKVh/dfVcbtZQYuyzr8vzzg9KJF32eryRAAiTgNwIUJn57IhwPCZAACZAACSQxgX+/UiUxBN46CZAACZAACZCAPwhQmPjjOXAUJEACJEACJEACBgEKEx/9GiBN+tq1a9UeKD4aFodCAiRAAiRAAq4R4HJh11BnbWjz5s3SsWNHmThxopE+vHLWDWzUmDRpktr5Nm/evEYW0w42WqSvEm379L2FfueWndAj4BUSIAESIAE/EKAw8cNTcHAMkydPNlZqpBkbuyG9evjCJNr2dm/NLTt2x8N6JEACJEAC3hDgVI433GmVBEiABEiABEjAggCFiQUUniIBEiABEiABEvCGAIWJN9xplQRIgARIgARIwIIAhYkFFJ4iARIgARIgARLwhgCFiTfcaZUESIAESIAESMCCAIWJBRSeIgESIAESIAES8IYAhYk33GmVBEiABEiABEjAggDzmFhASaRTc+bMkVOnTkn27Nkjuq1o29s16pYdu+NhPRIgARIgAW8IUJh4w901q8WKFYvKVrTt7Rp3y47d8bAeCZAACZCANwQ4leMNd1olARIgARIgARKwIEBhYgGFp0iABEiABEiABLwhwKkcb7i7ZnX69Oly+PBhyZMnj9xzzz1h2422vV2DbtmxOx7WIwESIAES8IYAhYk33F2zOmHChMAmfpEIk2jb271Rt+zYHQ/rkQAJkAAJeEOAUznecKdVEiABEiABEiABCwIUJhZQeIoESIAESIAESMAbApzK8Ya7r6wiz8nWrVstx3Ty5El1Hq+bNm2SMmXKRJwTxdIAT5IACZAACZCAiQA9JiYYyXoIUbJ9+/Ysbx91QgmYLBuzAgmQAAmQAAnYIECPiQ1IyVClVKlSkpqamuFWzz77n18RvKIOCwmQAAmQAAk4SYAeEyfpsm8SIAESIAESIIGwCFCYhIWLlUmABEiABEiABJwkQGHiJF32TQIkQAIkQAIkEBYBxpiEhSv+KiNuJF++fFK4cOGIBh9te7tG3bJjdzysRwIkQAIk4A0BChNvuLtmderUqVHZMrfHcmGnitmOUzbYLwmQAAmQgP8JUJj4/xlFPMLM8pOYO8UyYK64MRPhMQmQAAmQgFcEGGPiFXkX7NrNTwJRgsRpLCRAAiRAAiTgNQF6TLx+Ag7bD5WfxGGz7J4ESIAESIAEIiJAYRIRtvhpNGTIEDl+/LgUKlRIRo8eHfbAe/ToIfv27VPtu3fvHnZ7uw3MdiIZp107rEcCJEACJOBvAhQm/n4+UY9u+fLlsnv3bklJSYmor6VLl0paWlrE7e0adcuO3fGwHgmQAAmQgDcEGGPiDXdaJQESIAESIAESsCBAYWIBhadIgARIgARIgAS8IUBh4g13WiUBEiABEiABErAgQGFiAYWnSIAESIAESIAEvCFAYeINd1olARIgARIgARKwIEBhYgGFp0iABEiABEiABLwhQGHiDXdaJQESIAESIAESsCBAYWIBhadIgARIgARIgAS8IcAEa95wd83qTTfdJNmzZ5d8+fJFZLNly5Zy4MCBiNvbNeqWHbvjYT0SIAESIAFvCFCYeMPdNatt2rSR1NTUiO1169Yt0HbTpk2B41gfmO3Eum/2RwIkQAIkED8EOJUTP8+KIyUBEiABEiCBhCdAYZLwj5g3SAIkQAIkQALxQ4DCJH6eFUdKAiRAAiRAAglPgMIkwR8xgkorVqwoV1xxRUR3inbRtLdr1C07dsfDeiRAAiRAAt4QoDDxhjutkgAJkAAJkAAJWBCgMLGAwlMkQAIkQAIkQALeEKAw8YY7rZIACZAACZAACVgQoDCxgMJTJEACJEACJEAC3hCgMPGGO62SAAmQAAmQAAlYEKAwsYDCUyRAAiRAAiRAAt4QoDDxhjutkgAJkAAJkAAJWBCgMLGAwlMkQAIkQAIkQALeEKAw8YY7rZIACZAACZAACVgQ4O7CFlAS6VTfvn3lvPPOk5w5c0Z0WyNHjpTjx49H3N6uUbfs2B0P65EACZAACXhDgMLEG+6uWb3oooskNTU1Ynv169cPtN20aVPgONYHZjux7pv9kQAJkAAJxA8BTuXEz7PiSEmABEiABEgg4QlQmCT8I+YNkgAJkAAJkED8EOBUTvw8q4hGumzZMtmyZYuKEYlkumTJkiWBGJOUlJSIxmCnkdlOJOO0Y4N1SIAESIAE/E+AwsT/zyiqEQ4dOlR2794tEBWLFy8Ou6+ePXtKWlqaaj916tSw29ttYLYTyTjt2mE9EiABEiABfxPgVI6/nw9HRwIkQAIkQAJJRYDCJKkeN2+WBEiABEiABPxNgMLE38+HoyMBEiABEiCBpCJAYZJUj5s3SwIkQAIkQAL+JkBh4u/nw9GRAAmQAAmQQFIRoDBJqsfNmyUBEiABEiABfxOgMPH38+HoSIAESIAESCCpCFCYJNXj5s2SAAmQAAmQgL8JMMGav5+P70a3fft2W2MqU6aMZM+e3VZdViIBEiABEiABTYDCRJNI0NeZM2dGtbuwOQvrqVOnbFHS4iWcXY3NdmwZYSUSIAESIIGEJEBhkpCP1ZmbggckHLHhzCjYKwmQAAmQQCITYIxJIj9d3hsJkAAJkAAJxBkBCpM4e2AcLgmQAAmQAAkkMgFO5STy0zXubcqUKSoINV++fNKtW7ew73bcuHFy4MABibS9XYNu2bE7HtYjARIgARLwhgCFiTfcXbP6n//8R3bv3i0pKSkRCRMEz6alpUXc3u6NumXH7nhYjwRIgARIwBsCnMrxhjutkgAJkAAJkAAJWBCgMLGAwlMkQAIkQAIkQALeEKAw8YY7rZIACZAACZAACVgQoDCxgMJTJEACJEACJEAC3hCgMPGGO62SAAmQAAmQAAlYEKAwsYDCUyRAAiRAAiRAAt4QoDDxhjutkgAJkAAJkAAJWBCgMLGAwlMkQAIkQAIkQALeEGCCNW+4u2a1Vq1acvz4cSlUqFBENuvWrSv79u2LuL1do27ZsTse1iMBEiABEvCGAIWJN9xds9qvX7+odgQePXq0K2N1y44rN0MjJEACJEACERPgVE7E6NiQBEiABEiABEgg1gQoTGJNlP2RAAmQAAmQAAlETIDCJGJ0bEgCJEACJEACJBBrAowxiTVRn/XXs2dPOXTokBQuXFimTp0a9ujuvfde2bNnT8Tt7Rp0y47d8bAeCZAACZCANwQoTLzh7prVbdu2ye7du+XAgQMR2dy0aZOkpaVF3N6uUbfs2B0P65EACZAACXhDgFM53nCnVRIgARIgARIgAQsCFCYWUHiKBEiABEiABEjAGwKcyvGGe1RWT506JVu3bs2yj+3bt2dZhxVIgARIgARIwE8E6DHx09OwORaIEjuio1SpUpI9e3abvbIaCZAACZAACXhPgB4T759BRCOA6EhNTc2ybbZs2bKswwokQAIkQAIk4BcC9Jj45UlwHCRAAiRAAiRAAkJhwl8CEiABEiABEiAB3xCgMPHNo+BASIAESIAESIAEGGOS4L8DXbt2lcOHD0uePHkiutNo29s16pYdu+NhPRIgARIgAW8IUJh4w901q/fcc09UtqJtb9e4W3bsjof1SIAESIAEvCHAqRxvuNMqCZAACZAACZCABQEKEwsoPEUCJEACJEACJOANAU7leMPdNas7d+4UZIpForVixYqFbTfa9nYNumXH7nhYjwRIgARIwBsCFCbecHfNaosWLdTuwCkpKbJ48eKw7Ubb3q5Bt+zYHQ/rkQAJkAAJeEOAUznecKdVEiABEiABEiABCwIUJhZQeIoESIAESIAESMAbApzK8YZ7wlu1s8kgIJQpU4YbDSb8bwNvkARIgATsE6Awsc+KNW0SgNiwU7R4sbMZoZ3+WIcESIAESCD+CVCYxP8z9N0dYAUQxYbvHgsHRAIkQAJxQYAxJnHxmDhIEiABEiABEkgOAhQmyfGceZckQAIkQAIkEBcEKEzi4jFxkCRAAiRAAiSQHAQoTJLjOfMuSYAESIAESCAuCDD4NS4eU+SDfPvtt+XkyZNy9tmRPepo29sduVt27I6H9UiABEiABLwhENmnlTdjpdUICFSoUCGCVv82ibb9vz1lfuSWncxHwaskQAIkQAJeE+BUjtdPgPZJgARIgARIgAQCBChMAih4QAIkQAIkQAIk4DUBTuV4/QQctj9v3jw5cuSInHPOOdK8efOwrUXb3q5Bt+zYHQ/rkQAJkAAJeEOAwsQb7q5ZHT58uKSlpUlKSkpEwiTa9nZv1C07dsfDeiRAAiRAAt4Q4FSON9xplQRIgARIgARIwIIAhYkFFJ4iARIgARIgARLwhgCFiTfcaZUESIAESIAESMCCAIWJBRSeIgESIAESIAES8IYAhYk33GmVBEiABEiABEjAggCFiQUUniIBEiABEiABEvCGAIWJN9xplQRIgARIgARIwIIAhYkFFJ4iARIgARIgARLwhgATrHnD3TWrRYoUUbb0a7iGdTv9Gm77rOpv375dVcmfP7/aBRmvmzZtytCsTJkykj179gzneYIESIAESCCxCFCYJNbzzHA3c+fOzXAunBPRts/MFsSGLi+//LI+zPCqxUtqamqGazxBAiRAAiSQWAQoTBLrecbV3cADQrERV4+MgyUBEiABxwkwxsRxxDRAAiRAAiRAAiRglwCFiV1SrEcCJEACJEACJOA4AU7lOI7YWwNPPvmk7N+/XwoUKCCDBw8OezDRtrdr0C07dsfDeiRAAiRAAt4QoDDxhrtrVhctWiRpaWmSkpISkc1o29s16pYdu+NhPRIgARIgAW8IcCrHG+60SgIkQAIkQAIkYEGAwsQCCk+RAAmQAAmQAAl4Q4DCxBvutEoCJEACJEACJGBBgMLEAgpPkQAJkAAJkAAJeEOAwsQb7rRKAiRAAiRAAiRgQYDCxAIKT5EACZAACZAACXhDgMLEG+60SgIkQAIkQAIkYEGAwsQCCk+RAAmQAAmQAAl4Q4AJ1rzh7prVZs2ayd9//y358+ePyGa07e0adcuO3fGwHgmQAAmQgDcEKEy84e6a1b59+0ZlK9r2do27ZcfueFiPBEiABEjAGwKcyvGGO62SAAmQAAmQAAlYEKAwsYDCUyRAAiRAAiRAAt4QoDDxhjutkgAJkAAJkAAJWBBgjIkFlEQ6df3118vOnTulWLFismDBgrBvLdr2dg26ZcfueFiPBEiABEjAGwL0mHjD3TWrhw8floMHDwpeIynRtrdr0y07dsfDeiRAAiRAAt4QoDDxhjutkgAJkAAJkAAJWBCgMLGAwlMkQAIkQAIkQALeEKAw8YY7rZIACZAACZAACVgQoDCxgMJTJEACJEACJEAC3hCgMPGGO62SAAmQAAmQAAlYEKAwsYDCUyRAAiRAAiRAAt4QoDDxhjutkgAJkAAJkAAJWBCgMLGAwlMkQAIkQAIkQALeEGDmV2+4u2Z14MCBcvToUcmdO3dENqNtb9eoW3bsjof1SIAESIAEvCFAYeINd9esNmzYMCpb0ba3a9wtO3bHw3okQAIkQALeEOBUjjfcaZUESIAESIAESMCCAIWJBRSeIgESIAESIAES8IYAp3K84e6a1RUrVsiJEyckR44cUqNGjbDtRtverkG37NgdD+uRAAmQAAl4Q4DCxBvurlnt3LmzpKWlSUpKiixevDhsu9G2t2vQLTt2x8N6JEACJEAC3hDgVI433GmVBEiABEiABEjAggCFiQUUniIBEiABEiABEvCGAIWJN9xplQRIgARIgARIwIIAY0wsoPCU/whs377d1qDKlCkj2bNnt1WXlUiABEiABPxHgMLEf8+EIwoiALFhp2jxkpqaaqc665AACZAACfiQAIWJDx8Kh5SeADwgFBvpmfAdCZAACSQqAcaYJOqT5X2RAAmQAAmQQBwSoDCJw4fGIZMACZAACZBAohKgMEnUJ8v7IgESIAESIIE4JMAYkzh8aOEM+dNPP5UzZ85ItmzZwmkWqBtt+0BHWRy4ZSeLYfAyCZAACZCAxwQoTDx+AE6bz5s3b1Qmom1v17hbduyOh/VIgARIgAS8IcCpHG+40yoJkAAJkAAJkIAFAQoTCyg8RQIkQAIkQAIk4A0BTuV4w901q5MmTZKDBw8Kpko6dOgQtt1o29s16JYdu+NhPRIgARIgAW8IUJh4wz1Tqzt27JBcuXKFrIMMp6VKlQp53Xxh8uTJkpaWJikpKREJk2jbm8eS2bFbdjIbA6+RAAmQAAl4T4BTOd4/g7BHAFFiN0172J2zAQmQAAmQAAl4SIAeEw/hhzJdokQJpmAPBYfnSYAESIAEEpoAPSYJ/Xh5cyRAAiRAAiQQXwToMYmv58XRZkFA7zCcRTU1FYbNAVlIgARIgAT8RYDCxF/Pg6OJgoDduBstXrhjcRSw2ZQESIAEHCJAYeIQWHbrPgF4QCg23OdOiyRAAiQQSwKMMYklTfZFAiRAAiRAAiQQFQEKk6jwsTEJkAAJkAAJkEAsCXAqJ5Y0fdhXtWrVBMuPzzvvvIhGF217u0bdsqPHo+NM9PtQr4hbYZBsKDo8TwL+J/DXX3/JsCEjZdmy5VK0aFF59LGuUqdObcuBZ1a3aZNb0rU5dvSYdO7ygLS8+w51fu4HH8pHH34iGzZslNb33SPt2t+Xrj7f2CdAYWKfVVzWfO2116Iad7Tt7Rp3yw7GwyBZu0+F9UggPggMHfKCXFS7ptxwQ+MMAx4zeoLxxayQfDBvlvz04y/y7IDB8s60yZI/f/6w6n7y6dxA/d2798hdd7aWq666MnDuvMKFpW271rJw4ReBczyIjACFSWTc2CqOCTBINo4fHodOAmEQOHz4iHzz9Xcybcabkjt3brniysukfIXysvib7+SGG5uk6ymcugsXfC7Vql0oJUqmBPpo0OBydbxkydLAOR5ERoDCJDJubEUCJEACJBBjAr+tWSuffLJAlv2y3Njj60/l1aharYp0eKCt4eksHba17du2yznn5JZixYoG2laokCobN24OvNcH4dRdMP8zaXFbc92UrzEmwODXGANldyRAAiQQikDLu9rIoIHDQ122dX7HjjS55qom8ovx4Z1oZdq0WfLVl4vlYiMGpGu3LtLs5htl+fKV0vGBh43YjU1h3+6RI0ckz7nnpmt37rl5BOeDi92669dvkK1bt8vV11wV3AXfx4gAPSYxAunXbjp16iR79+5Vwa+RxHFE294uF7fs2B0P65GAEwT69ntc8uXL60TXCdHnXXfdJk/37yM5cuQI3E/DhldLu3YPyrSpM+Wpp3sHzvfp/bSsWLFKvUcg6qIvvpIJ419R71u1ain3tm5peEvOkcOHDgXa4ODQocPqfLqTxhu7ded/+plcfkU9PsdggDF8T2ESQ5h+7GrVqlWGSzRNUlL+nQsNZ5zRtrdryy07dsej63H1jibB11gQuOiimrHoJmH7qF6jWoZ7K12mlJRPLSdbNm9Jd23Y8IGB96GCX0uVLmV4R47Krl27jRU5RVT9jRs3SZMm1wXa6gM7dU+fPi2fGcGtj/Xsppvx1QECnMpxACq7TAwCWL1TqlSpLG8G4mXr1q1Z1mMFEjBP5eB4/LiX5f335kqru9vK9Y2aSfu2nY1lrb8GQJ08eUpen/iG3HFbK2l83c3S9aEesv73DYHr5oMvF30tHTs8LNdf10zuuqO10e5NOXbsmKoy5/15avpnxvTZgSb4gL6u4U0yfNjIwDk/Hpw5c0b27vtLChQoEPbw8uQ5RwW8vjH5bcXi22+XyIb1G9W54M7s1P35p1/k5MmTUrfepcHNjfOnDBvHBeLl1Kl/jvHKEj4BekzCZ8YWSUKAq3eS5EF7eJsLjNUdRYxlpm3uv1fOnDktr732hjzTf5C8+/50Ofvs7PLaq5Nk9qz3VaBlzZrVZfXq32TwoOczjPjj/34qzw8frVaatL7vbkEcyttTpsnv69bLsOcHyq0tbpZFhnB58423jdiIBlK8eDEZ8fwYKVSooDzctXOG/nBCf7haXvz/k7ly5XQ8zw8Y7TY8Hu3bt8lsKCGv9TDylgwd/II0b3an8pr0f6ZfYKlwryeeFHBF3hGUzOri+nwj6LVho2vUs8F7cwHvt958J3DqnbenS+++PS2XMAcq8cCSAIWJJRaeJAESIAEXCBjegDHjng98UOJb98gXxsrmzZuVh2DOnHlGrMTd8kDHtmow11x7leTKlUuJDj26o0ePyksvvmYEit4gPR/vrk+rD+GBzw1TcRg1jCmSXr17SId2nWXMqAnGN/5LZPWqNTJ8xCDJmzd9cKju4NdfV0qP7r30W8vX0WOfl9q1a2W4Bq/BiRMnM5y3OpEzZw7Jli2b1SWDwxYZa+QhwdLcJk0zTr/oRojdCVUKFiyo7tPq+vMjBqc7nVldVOz3ZGgeSKjGpGrpcEb8hsIkYnRsSAL/EmAsyr8seGSfQA3j27o50VeJEsVV44MHDskmY0nrieMnpGnT69N1eK0hTvDtXJdVhsA4cOCgXHZ5PUEuDl2wsgUf+CuNAFEIk1KlShoCp50KEP3xx5/lxpuaSj2LKQndvlKl82XchMyneSoYOUGsyvLlK7IUNbrdW29PlHLlyuq3gdc9e/ZK39795VxjVc2zA5923DMTMMwDzwlQmHj+CDiAeCfATLLx/gS9Gz9WgqQr/+85OG1M66Sl7VSXChcpnK5KgYLpYy327tmnrvfrMyBdPf1m//6/9aEx1dNYJhrTRYg9ySoPBzwpmOaIpJQtW0ZNY9hpW9iYygouBw8ekt69npKDBw8qcVQkiEFwfb5PLAIUJon1PHk3HhAIJxbFrmfF7m1wLx+7pOKvHoIxUbDcH94OXfYY6dDNJW++f6ZievV+TLCCJbgULfLPahScn/jqGwLRc64hOl6a8KqMGjM85DRKNDEmhQufF3FsBQJI+/XpL9u2bpORo4ZJqrEiJ5qS2f43wf1mVXe6kWcFwcoQTqVKl5Rx41+QPHnyqG4QTDx65Hj53QhOxgog7MljNc0VbJPvMxKgMMnIhGdIwBECdj0rdo1D5ODHzsohu33arUdBZJdU5PWw9wsK0p/f37Z1oCMEYJpL1aoXSg4jTuOQka/D7OHA6pMRI8ZIpwfbq9TpSMg2d+5HKtC2aNHC8sKIsTL3g49UYKy5P30cTYyJ7iPcV4ih554ZLJieGjzkGalWvWq4XWSoH6u9crCyaen3P8qEl0arTLLYrO/ss//5CMVKnSf7PSO3336rIO4GrAcYQcxvvzPJiBXKn2FMPJE5AQqTzPm4elUv7UPgWyyLTla0du3aiLqNtr1do27ZsTsev9fDjtF//vmnbNq0ydWh7ty5U5YuXWr851zMVbswhp2yy5Urp/Y9cd24ywbLl081Aj6vN1Z6TFWxIxdeWFkFsn791eJ0I8EHHxKKvW4sDz5w4IAgNmT79j9k5ox3jfxFxaW68eGOXB4jjFU7pY28Hkg8hr+1BfM/l1dfmST16l9qcM2Y5yiaGJN0AwzjDYJ4Fy9eIpdfXl/+Nu4lWIQ1btwojN5EcYvFXjmNjbwnWGWDmBusaEKpWLFCYCxbtmyTg0acz+133KrOXXLJxcZzqChff71YmjW7IVCPB/YIUJjY4+RKLSRCQxk0aFDM7GGaQX+AdOzYMex+o21v16BbduyOh/X8S2DixIlSuXJl/w4whiN7otejamdcLAee+8GHUqtWTbXCpN39D6azgtUgBY3Yk/fe/cDIkDpLfUu/6uor1WoeiBB84P/xxw4ZOXqY5MyZU7V93Oi7Q7suSrDgfPDKmGhiTNINLow3mAZBQb4R/ASXcIVJOPvfZFYXCdqOGnE5yBWD5dt58+aVlnffrlLm6zEi34q54D0CmFnCJ0BhEj4zx1rUrVtXnnrqKfWtUP/n4ZgxdkwCcUoAHpN4LTNnTQkM3XysT+Kb9qKvPtVv1VTBg507CH7MxVxHn0cwa6iA1u6PPiz4MRdsijd/4YfmU54fjx03IqZjCLX/jTkgWBvMrC7yqBwy4kq2GXvkzDCe4TZjc8DHHu0jCPKtWauG8VpaiZVZM9+T226/RX4yErEtX7ZCSpYsobvnaxgEKEzCgOV0Vayhb9y4sdNm2D8JkAAJxD2Brg8/ppZCW90IEqYh94vd/W/QR2Z1kTsGpU3be1UeGUzjNGx0tSxZ8oMSJog1GTRkgIwb85Ka8qlc+QK51tjjR6fBV435j20CFCa2UbEiCZAACZCAXwhMeHFUlkOxs/+N7iSzuqUN7xKmxMzTXeZj9AGxMtZYpaPLw10elesbN9Rv+RoGgbPCqMuqJEACJEACJBA3BOzsf6NvJrO655yTW642YnbemTJdjh8/Lps3bZEvPv9S6huBw7qsX79B7ZWDTLzYk+i0EWOSWQI73Y6vGQlkMwJ00kfsZKzDMyRAAiRAAiQQlwSQmwR75WBzRJ1fBLE8KMF75WRWF9l1RwwfJT/88LMKLsZWATc3vzHAZML4V+Tjj+fLmdNn5JJLakv3Hl0F+VxYwidAYRI+M7YgARIgARIgARJwiACnchwCy25JgARIgARIgATCJ0BhEj4ztiABEiABEiABEnCIAIWJQ2Aj6RZBU8jOilcWEiCByAjw7ygybmxFAn4hwOXCfnkSxjiQih7ZWUeMGCFItpZZCV6qllldXiOBZCKg/46SKUNsrJ/vpEmT1M6+yHDaoUP65G7xbAtjd/PeYs0qWfqjMPHhk86dO7cPR8UhkQAJJAuByZMnC7bISElJcVyYuGkLz89te8nyOxPL++RUTixpxqiv/fv3GymPtxkbbx2JUY/shgRIgARIgATigwCFiQ+fEwTJwYMHjZ0xD/twdBwSCZAACZAACThHgMLEObYR94w9GzC3mydPnoj7YEMSIAESIAESiEcCjDHx4VMrXry4lC5d2ocj45BIgARIgARIwFkC9Jg4y5e9kwAJkAAJkAAJhEGAwiQMWG5VRR4GxJns2bOHAbBuQacdEiABEiABXxCgMPHFY0g/CAgTiJJdu3ap1/RX+Y4ESIAESIAEEpcAY0x8+Gz//vtv2b59u5x99tlSpUoVH46QQyIBEkhkAnPmzJFTp05J9uzZHb9NN23hZty25zjABDRAYeLDh4rERlgujNU5+GEhARIgATcJFCtWzDVzbtrCTbltzzWQCWSIwsSHDzNHjhySP39+KViwoBQuXNiHI+SQSIAESIAESMAZAhQmznCNqteSJUsqTwnSQaMg3gQ5Teg9iQorG5MACZAACcQBAQoTHz6kXLlySdmyZdX8LrK/Yq4XrxQmPnxYHBIJJCCB6dOnq/9z8IXonnvucfQO3bSFG3HbnqPwErRzChMfPlhs4oegM535FaJEH/twuBwSCZBAghGYMGFCYBM/p4WJm7bwmNy2l2C/Gq7cDpcLR4n5zJkzUfaQsTmECWJLIEiwmR8KvSUZOfEMCZAACZBA4hGgMAnzmWJaBbv/YknvsWPHJFu2bOKEOMGwduzYoYTJmjVrmGgtzOfE6iRAAiRAAvFJgFM5YTw3eDCGDBkif/zxhxw4cEAQnNqhQwepWbOmEihhdGWrKmJN9u7dK8ePHxd4UapVq0bPiS1yrEQCJOAXAvgyt3Xr1pDDOXnypLqGV7dyp4QcDC/4ggA9JjYfA7wjXbp0kd27d8sNN9wgTZo0EWRo7dmzp0ybNi3mGVqRkh428QqPDEQRflhIgARIIJ4IQJQgYWRWJSsBk1V7Xk8cAvSY2HyWn3/+uUDR9+jRQypXrqxaNW3aVGbPni0TJ05UAqJly5Yq/4jNLjOtBhECbwmmik6fPi3nnXceA2AzJcaLJEACfiVQqlQpSU1NtRweMlyjuJFl1nIAPOk7AhQmNh/JX3/9peJKdG4RNCtdurR069ZN8ubNK1OnTlUJ0e68804lJM46K3JnFDwkCHbFH2zOnDmlRIkS6gfTOTqeBYKFhQRIgARIgAQSjQCFSRZPFN4KiAy9XBdejAIFCijvCYQDVH7Hjh2Vx+SVV15R8Sbao5JF15lehjBBLhOIHqSnR5p6FHhOWEiABEiABEggUQlE/rU+UYkE3Zf2fDRq1EiJkClTpqgaECWYE9WlVatWUrVqVXnjjTdUsKo+H80rRAiEz/Lly+WLL76QX3/9NZru2JYESIAESIAEfE+AHhOLR4SgU8SUIGgLc6OVKlWSCy64QNq2bStjxoxRm0AhEBaiAXEnEClFihSRSy+9VD755BM5ceKEmoKx6DqsU/CaIMAWy5PhqYEdrACi1yQsjKxMAiQQJgHEg+TLl8+Vvbq0rXPPPTfMUUZWXdvjPmSR8XOjFYVJEGUEnSJuZN++fcrzgVUxECb9+vWTa665RtavXy9z585VQamdO3dWYkF3gY33EAMCYRKrgmkjbOYHsVSoUKHAlA6mlvT0UqxssR8SIAESAAHEzLlVtK1Nmza5YlLbc8UYjUREgMLEhA2CYsCAASqu45FHHpFatWrJwoUL5fnnn5eVK1eqZcJYeYO8IthvAV4M5DGBBwPHS5cuVd4U5B+JVUHAa/HixdW0ETwo6BtTSBBQFCaxosx+SIAESIAE/EKAwsT0JJCjZMuWLXLfffdJjRo11BV4SV5//XX57bff5Pzzz1feiyeeeEKwA/DMmTPlhx9+UEIGogGZWjHVg+NYFqwIQhAuRAnswotDURJLwuyLBEiABEjALwQoTExPYs+ePWqqBMtzddDrzp071aqYzz77TObNm6embrp27Sr333+/II8JziELLLwmCJAtU6aMqcfoD9Ev5kIxRYSlwxA9+NHji94CeyABEiABEiAB/xCgMDE9iypVqiivyEsvvaSyvMIzMWnSJClatKjcdtttKi38t99+K6NGjVLeCwgTLBV2skCEIAht9erV8vvvvysPDcZ5xRVXqIBbJ22zbxIggeQkgESSiLNDXNvo0aMdhaBt4YsXYvmcLtqeG/fm9L0kav8UJqYnCy8Etvh+8803Vap5xHdAGOAPs3z58qpm9erVZdeuXbJ48WK59tprlQcFq3Pg0XAq6Rk8MshlovfowR+wHg+DYE0PkIckQAIxIYB4OeROMieUjEnHFp1oW1jZ6EbR9ty4NzfuJxFtUJiYniqECcTG5ZdfrvZ2QGwJBAdEgF4WjGkeiAHsLmwOco2lKIFN/OiCDLOIfYEwwdQSVukgAFcHwUJAhSqc8glFhudJgARIgAT8SIDCJOipwPsB4YFAV+QQgbcCRSdUQ4DroUOHVF4TCAPUd7ogkyyWC2/btk3Z1oII4gjuSBYSIAESIAESSBQCSZv5FatcsioXXnihbNiwQUaMGKHmW7///nuZPHmybDLW27do0cIVUaLHCDGig2AxvYQxQCQhDoaFBEiABEiABBKFQFJ5TOB1QGxIw4YN1aoWvQ+O1cPE1AziTRBw+tFHH6kfTKFgHnTcuHFqHxurdk6cg/hAVkTYxrwoppVy5MihcqfoWBMn7LJPEiABEnCTwPbt222Zw+pHN7zVtgbDSjEnkFTCZPbs2TJnzhwVn4EVNYi/CCVOME2DrKvPPvus2qMG8R0VKlRQgsTtVMbwkOCPELEk8OAguRpiTmrXrs309DH/k2CHJEACXhDA/3HYAiSrosULUsuzJCaBpBImderUUStuZsyYobwOzZo1CylO8EcC0QJPxWWXXebp04cwQdAtfiBIkHANuw5jdRC8KbjOQgIkQALxTABeaoqNeH6CsRt7UsSY6HgSvMITgtgMiJP//Oc/iqT2nARjRZp57OzrhwLxgaXKmI6CMMEGgxAla9eu9cPwOAYSIAESIAESiAmBpBAmEB7Yoffll19WqeaxDw7OTZs2LaQ4wXLcWbNmSa9evQIrc2JCPIpOkAX2zz//VMJEp6lHGn0GwEYBlU1JgARIgAR8RSBppnIQl4FsqRUrVpS6detKzZo15cknn1TiBE/kpptuSjetgyRm2C/nxhtvVJlX/fLUkI0RqfPh+fnqq6/USh1O5/jl6XAcJJAYBLBZKVIlIOu008VNW7gXt+05zS8R+08aYYL4jObNm6uYETzIsmXLqsBW7CYMzwmKFic6mVqDBg3Ueb/8AwGCmBfEv2AnZExJYToKK3O8joPxCyOOgwRIIHoC3bp1i74Tmz24aQtDctueTQysZiKQFFM5+n7xoY6CrKqIN8EqG6y60dM6H3/8sbqOZGpeFozH6gcJ3+D1wVJhjL148eKqHjYSXLZsmcpGi6Rr5h8v74O2SYAESIAESCBcAkklTOAJ0QUf/GZxgqkbxKDMnz9fV/HdKzLS3nzzzcoVWaxYMTU+TFEh2Vr//v3V/j6IPWEhARIgARIggXglkDTCBDEZ8IQgePT9999XAaNmcYJ4k5IlS0q1atV8+yyxMgc5VDCNg7lfeE6wxG7dunWyZs0aWbRokTz33HPp9tnx7c1wYCRAAiRAAiRgQSAphAk8JYjLgChp06aNLFy4MLCSRYsT7I0zfvx4Wwl+LDi6cgoxJgh81XEmSFMPDwlWHOny5ZdfytSpU/VbvpIACZBA2AT0QgG8Ol3ctIV7cdue0/wSsf+EFyY6kBWipFOnTlKpUiXBcmEsvdUF4gTF69gSPZ5QrxAlSKqGFUXYcRiZaTdv3qyqm3c3fvHFF1W9UP3wPAmQAAmQAAn4lUBCCxPz9A1ECdIdd+3aVapWraqeB4JgzcX84W4+77djrDDCXhGILdGlffv2ctttt6m3OgeLvsZXEiABEiABEogXAgkrTCBK9PSNFiVYJlalSpXAs4kXIaIHjPiSokWLqjgTrMrZuHGjuoQpndatW0vHjh0DXp93331X7amj2/KVBEiABEiABOKBQMIKEy1K8IEN74JZlAR7SuLhQWGMOvgVr99//71g+TBKo0aNJH/+/IKVOk2aNFHnsGQYy4hZSIAESIAESCCeCCSsMMFDQG4PrLJ56KGHAp4SiJJ485RY/ULNnTs3cLpFixaB4/vuuy9w/M4776gMsYETPCABEiABEiABnxPwNpOYw3DgSahXr54ULFgwYCkRRAliS1auXKnuqVy5clK7du3A/SG4t379+rJkyRKVGRZ5WW644YbAdR6QAAmQQCwIYLocm4lmVbZv3+7r1Y5ZjZ/X3SeQ0B4TrLIxixL38UZuEQIq1A82F9QFImTVqlVKqECs4MecSn/ixIkqkRw8RZn96P74SgIkQAJ2CECUQHRkVbDoANPpLCRgl0BCe0zsQoinelhx895776khI47myiuvzDB8TF/hPwL8x7F8+XL56aef5JJLLslQjydIgARIIBoCEB2pqanRdBFRWzuCCB3j/0H8P8kSXwQS2mMSX4/C3mg///xzlWQNtS+++GIV9BrcEp6Wpk2bBk6/+uqrgWMekAAJkEA8E4DYgCDKqkC82JlqyqofXnefAD0m7jOPyuKMGTMC7a+55prAcfABpnhmz56tMsMiVT2WFmMXYhYSIAESyIrAyJEjBd5Z7CHmdAnXFjwg0XhpwrXn9P2z/4wEKEwyMvHtGaSf/+abb9T4ihQpEkgUZzVgxNc0btxYEI+C2JJ+/foJ4k3y5s1rVZ3nSIAESCBAAF9s3Cpu2sI9uW3PLY6JZIdTOYn0NIPuBR4VHfz7ww8/qH2C9u3bF1SLb0mABEiABEjAPwQoTPzzLLIcCUSGDnbdvXu3rF69OtM22Oxv0qRJak8dVPz111+lVatWajPDTBvyIgmQAAmQAAl4RIDCxCPwkZq9++67A02xk3BWpVatWjJ9+nSVFRZ1161bJ+jjjz/+yKopr5MACSQpAeRB+uqrr1Q+JKcRuGkL9+K2Paf5JWL/jDGJs6fasGFDtTPy3r171TJgpJ5HOvrMygUXXKDESdu2bVWUOiLV27VrJ9OmTVP77mTWltdIgASSiwASp3Xv3l3glUUs28yZMy0BxCpxWs+ePSUtLU1SUlJk8eLFlrZiedJte7Ece7L0RY9JnD1pRMnffvvtatT4D8TuHzIyxMJzgleU9evXS4cOHeTAgQPqPf8hARIgARDAFxf835JVYeK0rAjxeqQE6DGJlJyH7Vq2bKlW2GAIcEs+/vjjIff/WbhwYbqRYgfiESNGyP79+1WWWPT1yCOPyI033piuHt+QAAkkLwGdlAyr+6JZmpu8BHnn0RCgxyQaeh61RT6SOnXqKOvYNwebFdotcM3CTYvAWJT//e9/SuScPHnSbhesRwIkQAIkQAKOEaAwcQytsx3feuutAQNz5swJHNs5KFGihHTt2lVy5cqlqmO1Tp8+fdSeOnbasw4JkAAJkAAJOEWAwsQpsg73iyDYfPnyKSuYrrETK/Ltt9/K008/Lc8++6wSJV26dBG4alEgbgYNGqSSsakT/IcESIAESIAEPCBAYeIB9FiYzJ07dyAu5NixYzJ+/PhMRcV3330nU6ZMkV27dqkI+JdfflkqVaqkAmCxtw7KW2+9JZ999lkshsc+SIAESIAESCAiAhQmEWHzR6M77rgjsHMmdhwePXp0SHGCzf/MBQIFuw7Xrl1b5TXR1+bPn68P+UoCJEACJEACrhOgMHEdeewMVqhQQfr37x9YkTN16lSBZyS4hNpl89NPP1VC5vLLLw9s1oVVPiwkQAIkQAIk4BUBChOvyMfIbrNmzQQJg3TBTsLBxSw2sDxY7zIMwbJq1SrJkSOHXHzxxapZKBET3CffkwAJkAAJkIATBJjHxAmqLvd5yy23yJgxYwRLfpcuXZrO+unTpwPnEEuCzfyOHj0aqAOvSfXq1dWOm1rA4LVMmTKBOjwgARJILgLI9upW/hK7SSJj9QTcthercSdTP/SYJMDTzpMnj9SsWVPdCbI2mvfB+e2331QyNVwsXLiwbNiwQXbs2CHnnHOOqo+9c3DusssuU+/xjxYogRM8IAESIAESIAGXCFCYuAQ61mYKFCigdg3Wr1dddVXAxIoVKwLXxo0bFziPvS90OXLkiD6U559/XnlNtFhBnApSUsPbEvwTaMQDEiABEiABEnCAAIWJA1C96BIBrLogXwnKoUOH9KksXzdv3hzIJvvnn38K3rOQAAmQAAmQgNsEGGPiNnGH7GEqB2nmIUYgTODpCGfp7+uvv67iTL755hs1QnhN3JpjdggJuyUBEoiQAHIeYb8cJHHs1q1bhL3YawavLhJEumELI3Lbnj0KrGUmQI+JmUYcHyODa/369dUd7N27V9auXauyudq9pXnz5knFihUD1b///vvAMQ9IgASSi8B//vMfmTx5siAI1ukCG27Zwr24bc9pfonYP4VJFE8VXgk/lSuuuCIwHPzxWeU0CVQIOsCKnmnTpgkCaVG+/PJLQWAsCwmQAAmQAAm4SYDCJALacDvu2bNHzjrLX/iuvfbaQCbYd955J7APjt1b/PrrrwP77xw8eFDatGkjGzdutNuc9UiABEiABEggagL++mSN+nac7wArWzp16qSmSfzmMUHuke7duwcgYD8du0WvyEHgq94cEPfavn17wTkWEiABEiABEnCDAIVJGJTxQY0deYsVKybNmzf3nccEt9K5c2fRUzp2dhzWtz9x4sRAbhO0QyAtyrZt2+SBBx6Qv//+W1flKwmQAAmQAAk4RoDCxCZaiJKHHnpISpYsKX379lXiJLjpmTNngk+5/h7TSy+88IJKphaO8Xr16olZnGB1j/a4IEkbBI85Y2w4fbMuCZAACZAACdglQGFigxQ+pB9++GEpVKiQDBkyRIoUKaJaIWMq4jI++OAD+f3339USdyTWvAAAQABJREFUXRvdOV6laNGiMnLkyMDmfnYNBosTCJGcOXOq5khl/9hjj6nEa3b7Yz0SIAESIAESCJeAK8IE+7iYM41aDTItLU2eeOIJq0uen8PyW0zf5M+fX+1Hg6W5CxculK5duyqhgnXxDz74oLz11lsqKNaNAWPfm8x+GjRooLwceiznnXeePlQBshjz8uXLAz+VKlUS/LRu3Trdszp+/Hig3YIFC+Tpp59WOxIHTvKABEiABEiABGJIwBVhMmfOHLn//vstl69i+mPGjBnqOr6V+7EgqPTWW28VfEjjwxnLcIcNGyZNmjSRoUOHqoQ92OX37bffFp2gzA/TOo8++mhgDx2IK50wDenmsSMxlgSHW7AMGUKThQRIgARIgAScIOBK5lcET+JDG7EZDRs2VJkECxYsqJKAIR4C+TKwKgQeCL8WLMVF0rLPPvtM8ubNK3jfsWPHQN6PKlWqCJbYIoMqvBVmD4VX9wTPDvbBueuuu1Tw6qZNm6Rq1aqyevVqOXHihBInmPK5+uqrwxrihAkTVAwLlhOzkAAJJB6BWrVqqS9imL52utStW1f27dunpsqdtoX+3bbnxj0lmg1XhMl9990njRo1krFjx6oPdnhGkKUUH/L49o4PeYgSHbvhNeRjx44pr8j27dulQoUKahoHWVExXQNxhayomPLQyciwbBgiAKth4DHZuXOnL4QJOJYoUUKeffZZ6dGjh8IKEYh9dZC23ixOwmX+3HPPKXFy0003hduU9UmABHxOoF+/fgEPq9NDHT16tNMm0vXvtr10xvnGFgFXhAlGgtUsw4cPl5dffllN3WBKBDES+NC85pprbA3WjUqHDx9WHh0smYVAwYc3BEi7du3kxhtvFHwgYypD7+aLKRudaA114fnRAaNujNeODXip7rnnHpk+fbq6HyRNg1CEMMSYe/XqZacbVQcCDFlicd+PP/648sCUL1/edntWJAESIAESIIHMCLgSY4IB/PXXXyouY9asWUqQlCpVSq1igRfl008/zWyMrl3TH9K5cuUSfGPAapunnnpKBb1CVGHsWEIL7wMCRbFaB+IKBUnIFi1apDwUfvH8mMFhRQ2mm1B27NghNWrUUNNqeB/OMmCIkrJly6KZcvWOGDFCHfMfEiABEiABEogFAVeECYJfMfXx8ccfS+nSpdWUztSpUwXBmfBKIIAUUzlYcutlQTIx/GB6olq1amool112mbRs2VIdv/jiiyrjK4QLPCpYhYMP/P79+6vVOStXrlReBKze8VuBF2fAgAGBYSGAt23btoH34Rxs2bJFECOEAlH5448/htOcdUmABEiABEggJAFXhAmmPvCtHCtzsIskAqtQWrRoIdheG7EZK1asUKneQ47UhQtYuYIgrAsuuEDFjGhPAuI04CFBkOj48eNl6dKlUqBAATUHiz1zsNS5ePHigqBQ8w69Lgw5LBMXXnihmlJDo59++kmNP1IRZQ6Kg7D0wyqksGCwMgmQQEgCWLXXtGlTuffee0PWidUF2HDLFsbstr1YcUqmflyJMalevbrKUZKampqBLaY9Bg8eLF999ZXypGSo4OIJTHVAYGAFEWJfdOZT5CxBgOvNN9+sVhBhS3CIK8Sc3HDDDepDWQfAujjcsE1h2unKK69UU1KYkvn5559VEPL8+fNt94VpHHhMEKcCwYZpoWXLlsmoUaOU90hPbdnukBVJgAR8RwCeY2S7Dmdbi0hvAqsF8eXOCVtYwBBc4JnHveFLKGyjICVE9uzZ1TH/8Z6AKx4TTIFYiRLz7SOYFILAy4LpDnhFkHgMgZ2YgsL0x0cffaSSlV166aUqdwmmQXbt2qWGig9iBL8iKDQeCoSJLlhBhBU64ZTevXsHqptFyEsvvaTECT0nATw8IAES8JAAxAZiGbMqEC9bt27Nqhqvu0jAFWGi7wdTIPhmjdgSLL1FQdwJzqPo5bfqjcv/4AM1R44caroJydQgPN555x0V94JcIBdffLEa0XXXXadWsmD/mHgo2IzP/IMVULhPFCwZxuocXczTOkhrr6fccB1r/++44w71rUJPV/3xxx9yySWX6OYCcfLII4+oJHSBkzwgARIgAQ8IwAOCL8TBP/pLJF5xzY548WD4SW3Sta/5mK7BEmEIAHgY9DdrBE5i2SrmGPv06ePZw8C3f0zHIHka8q4gKRmWDiOWRH+QY3CbN29WS4L9uPLGDjyIP4iMxYsXC4QF3KeVK1dWyeOwgzCu474RO4N71wUBvyjgdPvtt6vEbXiPpHN4/9577+GtEpp4thBwZo+Kush/SIAESIAESCALAq54TDAVgjgG5NPAahwEveqC1Tj4Fv/JJ5/IvHnz9GnHXyFCgovORwKljQ9oiA/MQb7xxhtqOfCvv/4qX3zxhUqehtVF8VrAWxfE9uicLDgHYYYCPmb3po63wTV4TOrUqYNDJWywD9Ldd9+t3uMfPEtk9NXiM3CBByRAAiRAAiSQBQFXhMncuXOVywzLavGBbv4mjdUdTz75pAqkhIBxsmBp8ueff65MQIRYiROzfXywwnPw3//+V3lQMH4sCUZgbLx6THB/5hT02C/HLEzMYgK8dDELE5yDuNTBYvCEIdU9krjp8sorr1CcaBh8JQESIAESsE3AlakceB2weiVUwVQJ4hki2VQuVJ9W52fPnq0CWrEZH6aOtDjRnpLgNhBQ8AxgGTAECXJ3YFUK4i/iuSBTKwLD4BHB9gC4f4gMbA+ASHXct1mg4H1wNlswgOdFZ49FRl8IN9SdNm2awgNxgpT+mOphIQESIAESIAE7BFzxmCD4EsuzMiuIb8CHmpMFImP//v0qJb72zmhxYmUXH84QTVhCjCBRtI93UYL7BGe9xw2WDSMQWd8X3uO6jilBfWxIaPVssKMy2KBg2fAvv/yivDGtWrVS5/APMsNic0MWEiABEiABErBDwBVhgmW22PgOu9paFawrRxBszZo1rS5HfU5P2eAVXgF8iM6YMUOQjwQllDjBNA6WDidiweoZJLZDgXDAvZrjSyBEEEuCHDS6XjAHxOEEx5ZAzGGqqHHjxqo6VjfBc8JCAiRAAiRAAnYIuDKV88ADDyhh0q1bN5UHBCtbULCSA7vd6riPDh062Blz2HUgPOApwXQD9ojBhyb2vdFTDvAeaHGCVxRM96AO4mPeffddyZcvX9h2/dwAHhHwAHNM52CfIIgReLewBxCy3mL/H4iM4Gkc830hm6yeFkLitTVr1qh4E6ywQqAw+p00aZISMPEcMGy+Zx6TQKITwMpEbEiKLx9OFyyAwEpAN2zhXty25zS/ROw/+zNGcfrG8E0c37rhMcEy1Z07dyqT8KLAW4JAUgSU6v1pnBgPYifgMUFcxLXXXqumZfDBiZU2COxEGnp8MKMOXhFzgQ9npC/W0xVOjMvcJ7wWH374oTRv3tyV4FpMUzVp0kSWLFmiRAi8SbhvCBEICogzLCnGztBanOgcJnrcWswgxT0KNmvE/kLI+wJPDLLLol88c2TKZSEBpwm4/Xfk9P243T/+hvH/IVZR4ouc0wU28P+FG7ZwL8H2cL8oev8v9Yb/eErAFY8J7hBBo/iGDiGyatUqQUwJBAE+6BD4qld4OEUD6dPxgQ+PgB4PxBAyuwZ7ThBngeQ7DRo0cGo4vukXniDsX4QYGvyBQozhueDbEpYBw3uyyNg1GSt3QnmNateuLcWKFVPiA3lNkK4e5eGHH1ZeMexBhJVN2CvJnJDNNxA4EBIgARIgAd8QcE2Y6Ds+//zzBT9eFC1KEAeBH6wYMYsTTONg9ZDODOjFGGNtEx6NrAq+KWCXYHiHIBwhTpANERww7QaBghgg7KaMaS2rgmeqPWEQehCBKJjGQ+ZcFIjA119/XU2bqRPGPxA0doqd+7DTD+uQAAmQAAn4m4AjwmTYsGER37WT2V+1JwSD0zElWpwMHDhQeXTgudGBmxHfRBw2LFy4sNrpGStqsLwb+0ekGuma4dL93//+p4JjIVyw145ewWO+TXi+sJkf5or1Jn9YloyND99//30leJDGf/To0dzszwyOxyTgQwKYDkMcGv4/tPvlIdLbwBcaPY3stC2M0W17kXJJ5naOCBPsfxNc9DdeeCogChDfoBN44Rq+tTvpqcAvPvpHQCc2r0O8A6YrEFMCcYIkb8hW6mScSzATv73HfwpTpkwRiBPsLgqBgik4MMH0GwKI4VlBuvmUlJR0w8d/YEiyBs8KCvYZevrpp9V/bNgbCauA8OwR8Azm2FZdBxqn64hvSIAEPCfw0EMPqRQP+DtHXKCTBckasbuwG7ZwH27bc5JdovbtyHJhJEoz/2B1C2I8sPQUG70tXLhQpahH3AG8K/hWjg9FpH53osBTgg9OiJI2bdoo+5ieQNGeE0xFjB8/Puk3dEKgK3Z5xvNCgfcDMSJ6Qz+wRKZXCJfggj13dJAstiDAsmwUBLY99dRTASGCXZuHDx+uBEpwH3xPAiRAAiSQ3AQcESbBSJE5FR4LxBrg2zdEAgpiPrCCA4IAwbBO5LvQ0zcQJZ06dZJKlSqpb+9IGqaL/ubupMdG24qHVyz/RZ6XcuXKqeFCYOAbTf369dV7PEss8caKHXMBR0wJoaCOzhOD94jdQWZYzRqrjxBzgtU/LCRAAiRAAiSgCbgiTLCUFN+aQ61Tx1wmdrzFFEssi3n6BqIEAZ1Yw44pBxRMLZiLnm4yn0vWY7CaPn26EnJgAGEHIaJzkWA6BuJEB7ziFZswai8J2gTvr4PYHQQba2GKdPZwGSPYloUESIAESIAEQMAVYQIBoNeKh8KOYKtYfkBBlOjpGy1KkOCtSpUqgSFQiARQWB5geg2xIghiRcG0DnKTaHECbxR2EsYPpuUQg4ICr0j79u3TZYVVF4x/sCx56NChgSkf5JJp166d2qVY1+ErCZAACZBA8hJwRZggoQ2SqX399deWpJF59Lvvvotpgh0tSlq3bq0yk5pFSbCnxHJQPKkIYGoGy4R1sKvOdaLfw3OCaR5dkCwPK3GwTDjU1BhW9owaNSrgQcPzR2p7iFMWEiABZwjgyxoC2rP6wYo8FhLwkoArwgTueqyAwSoNrNBAQq8PPvhA3nzzTenevbs88cQTamka6sWyYPkqYlrQr/aUQJTQUxIeZR0Qq+Ny9IaMECGIEwJPCEHsiYTVToUKFcrSAKb2EFuk6yIx25133ikbNmzIsi0rkAAJhE8Au4nbER2YxtXTreFbYQsSiJ6AI8uFg4eFfBgTJ06UF198UXlGsAutuSDmA8tHsWw3lgXTBvXq1UuXapiiJDLCmM6BkLz99ttVwCq8JJjSAWMELkN45s+fP6zOsc8O4ljatm2rvC6YKoKHC6uCglPfh9UxK5MACVgSgOjA/8dZFf4/mRUhXneSgCvCBDeAP4ghQ4aoWBMk7EI8AoIjIUZwzYmCqQTuf2CPrJ3/iOB9gmiAkEA8EJYMY1XNmDFjAqtttDVzhlhM92AaD94qTOOYp3jwHp6THj16qP4QRHvXXXepPs0ZgvXyZd1/qFc79xGqLc+TAAmQAAl4T8CVqRzzbUIoYAXO9ddfr/aicUqUmG3yOHYE6tSpo3LRIEEeCrK6QnBmFrcDUYIAWSRng9dFJ9bTo0K8CvLbYCk3CkQrpviwwWJwXd2GryRAAiRAAolJwDWPCVZtYHkppgDwYWP1QYZvu7Nnz05M0gl0V9jcEMGrEA/whiA4FknYBg8erKZ0zLeKVTxYeaPL+vXr1X458LrovYtwDbEm48aNU/FGK1euVNNDffv2VSt4atasqZvzlQRIwAUC8IzqHFBOm3PTFu7FbXtO80vE/l3xmGDJKZKrYfUFVnVAgGBJafAP3fDx8yvWtGlTlZNEjxgJ07CyJji4Dll+g70emAJ69dVXMywhz5s3b7ptARC7AnECMcNCAiTgHgFMsSMjd6zj/qzuwE1bsO+2Pat75rnMCbjiMUHirXz58qn084hTYEkMAkiYhuj95557TsWcrF69WsWHYLoG5dChQ0qM4hii87bbblN75eD9rl271HGzZs3wNlDgRcGeRQiGRn8QJzjGtgYQLkjSh0BbFhIgARIggcQk4IrHBG7+q666Kqk3yEvEXx8IBKzKmTp1qtrsD/eI4FXsQgzPCabr9LJDHGMDP3MJ5SGDABk5cqRg1Q4K8psgYyymhbB7MQsJkAAJkEDiEnBFmGBZKT5UWBKLAIQJcpsgBgSxQdikEWXfvn1qeTi8Ivfcc0+6VTi4jsDZK664wjIzLK6jQJzAE6O9I1999ZX8/PPPgaRs/9TivyRAAk4QgJd75syZapsJJ/o39+mmLdh12575Xnlsj4ArUzktW7ZUwZJYJox5S5bEIwCBMmXKFJXxFQICcSXYLRreEwS6Ylkxkqhh92EsEcbUXlYFq3U6duyogmJRF3lw9EaCWrBk1QevkwAJhE8Au39joQL+Bps3bx5+B2G0cNMWhuW2vTBQsOr/E3BFmOBDqHLlymoDPQRNIlkXPqCsyk033WR1mufigACe8+jRo+Wxxx4TbNwIMYIIeAhTbEugs++GcyuIS1mwYIGsWbNGpdLGsuIHH3wwsF9POH2xLgmQAAmQgP8JuCJMnnzyyQCJuXPnBo71AWINEIOAVwoTTSU+X7Hsd+zYsYKNExG8iv05kN31+PHjghwo4RbEqPTq1Ut5TrB8EVNG8JocOXJETSNhLx8WEiABEiCBxCHgijDp06dP4hBL8jvBEu/MClbV4AeJ1yBIEfAK0YlMsAhmvf/++9M1X7duXbr3Vm/gTka7SZMmqdwKyBT7yCOPqFiVsmXLqn2WChQooDIJY9WOnRIq8NZOW9YhARIgARJwjoAjwgRJt8wfYE2aNHHuDtizLwkg7fzQoUNVECsSsKEMHDhQlixZIgMGDAjsVmx38Ji+QU6UzZs3y++//y5ffvmlyhyMLLGYQsqVK5cSJnb7Yz0SIAESIAF/EnBEmDRs2FDuuOMOFVOC28Z7OwXfYs1ZQu20YR3/EoA4feqpp5RwmDBhghoo4kW+/fZbleG1VatWtgePfZX69+8vHTp0UG0++ugjtUQZAXrlypULW+jYNsyKJEACJEACrhJwRJhg+ah5Dxy8p+vc1efqG2N47o8++qjaB+eZZ55RS4mReA3HWLaHWBQICzvl0ksvlRYtWsicOXNUzAraQ9wgCRuECwsJkAAJREIgOGN1qD7KlCkTyM0Uqg7PR0/AEWGCPU/MJfi9+RqPk4MAgpqRuwQb/iH+BAXLirGr8NNPPy21a9fOEgQCaZErBcIEZcOGDbJixQrbHrksDbACCZBA0hGA2LBTtHhJTU21U511oiDgiDCJYjxsmsAEsLN07969lZBALoGtW7eq1TWYonniiSdUdmCr28dqHHhHXn/9dbVk2FynSJEiKtj2zz//VBliESiLhH4sJEACJGCHAFb+UWzYIeVeHQoT91jTkkEAq2YwJQOvyeOPP66CWCE8hg0bpqZkzHvnYIkxAl6xTw6Eh7kULVpULT9GHRSkrUdStx07dihhguXESF/PvXXM1HhMAvYIQPCj6Fd7rSKrpW3o18h6sd9K29Gv9luyplsEKEzcIk07igAytuqsrdhh+KGHHpLPP/9cLSlGZlfsPo3A6U8++UQtMYbgMJcSJUqoaR8IDtQ9cOCAEiPIbYK68JigQJRg6gev2p65Hx6TAAmEJmCVbyp07eiuuGkLI3XbXnR0krM1hUlyPndf3DWWFMNrghwkOm4EGwLiJ7ggQBbblWNZMPbgQWI1uGAhPDZu3KjEStWqVQN76UC4aI9JcF98TwIkQAIk4F8CFCb+fTZJMTKs2sHKnPz584vOd2K+cezBg+0MatWqpTwjECV6x+Lzzz9fbQ6JFWC//PKLrF+/Xi0hPnr0qEphX7JkSbXiB30wQ6yZKo9JgARIwL8EKEz8+2ziemR2l4dXqlRJ3Sc8J9hDCbEkP/74o/J8ICANHhKcgxiBZwUJ1XCuWrVqStB88803SoRgGgfXsFEklg7jB4nYIFqw2zECb81FixvzOatju/dh1ZbnSIAESIAEwidAYRI+M7ZwgADiQFq3bq1W6SBuBNlcIVAWL14sCHTNmzevEhnYCBDiA14RbBC4cuVKQdwJNoWEEClWrJhgvx5M5WDqJ0eOHErQmIeMwFgEyjIw1kyFxyTwLwFsJwGhjy8DgwcP/veCA0du2sLw3bbnALKE75LCJOEfcXzdoDk4tkGDBsrzASEBYYLpHOy9g2XG2H8HP/CEYAoHuQiwRw/iTZDADd4WRN3DCxNc0B/aMjA2mAzfk8A/BBYtWiTIqqyDyZ3k4qYt3Ifb9pxkl6h9Z74jW6LeNe8rbgjAGwIPCqZqli9fLmvXrpXdu3erb3PwjCCOBJsDIncJBAnO4Tr+U4VIsSoQP5jKgceEhQRIgARIwF8E6DGJ8nngmzfjEKKEmElzCA7kJkGcyNKlS9WUDTwhcDFjFY7ZI4Jvd8jOuHfvXiVQzNcgUnANUz4HDx6UEydOCLZKYDK2TODzEgmQAAl4QIDCJEzoyI2BDzaIEQRh4ofiJEyIYVaH12Tbtm1q5Q6CWiE44BnBc9BLgq+88krVKwTI999/r4QHTmhBggBaxK3gPZYpI8YE8SgUJmE+DFYnARIgAYcJUJiEARgfgtjr5Y8//lDTC/iGjt1uuUlhGBAjqArxgGBXeE0gSMAdcSI7d+5U0zbmDSPhFdmyZYt6PqiPaxAkKJi6wdJj7LGD6R70GVzQrxY7TMwWTIfvSYAESMB5AowxsckY37C7dOmiPtBuuOEGadKkifpg69mzp0ybNk3FQNjsitUiIAAxgoBWLUpOnz6tPB4VK1ZUXhBkj8WUD4RI2bJl1ZSNWZBcfPHFAq9K3bp11UodpMHftGlThpFAlOiMsRku8gQJkAAJkIDjBOgxsYkYH3z4MMNuuPjWjdK0aVOZPXu2TJw4UX2Db9mypZpusNklq4VBwLxaB83g2cA5rNDB9Ay8H4gfgfjAVI/Ob1K8eHF1TptC3WXLlqkgWgTI1qtXT3QuFdSBV0V7THQbvpIACZAACbhHgMLEJmvsy/L333+nWz6HKYZu3bqppaxIo46lq3feeafg2/xZZ9EZZRNt2NXMIgUxPvBmwcuBoFcIj99++03lQIF3JbhgqkcvFcZzwrSPWZiY+w5uy/ckQAIkQALOE6AwsclYLy3Fhx9WhMB7giBKLDvt2LGj+gb/yiuvqHgT7VGx2XVSV7O7oilUplZ4STBNg1wmCGaFB2XdunVKrCCWBMuJ9Y7DAI2pHsSpoA3S1OMZfvnll+o8ErIFl1gLTLv3GzwOvicBEiCBZCFAYZLFk9bej0aNGsmbb74pU6ZMkQEDBqgPNHxL1x+YrVq1Uh+Ib7zxhjz33HNqWiGLrnk5BgSwDw4KRAkKvFpIxgbBgWXFEB9YkQPvFlb2fPHFF2pXYnhTkEUWQhMrfeBJsRImqlOLfxgkawGFpxKGQLNmzdTfEvawcrq4aQv34rY9p/klYv8UJhZP9fjx4+pDDB9U+MYM7wg+7O6//34ZO3as+hBEICxEifac4EPw0ksvlU8++UQtVcU3eRbnCUB4mDfoQ1r6K664QglDCA6IEsSZoCB9vV5KjKRtOmU9vGHmlT2hRm0WI+YgWUz/sJBAIhHo27eva7fjpi3clNv2XAOZQIYoTIIeJuIPRowYob5VY4rmggsuUN++UQ2BlZgymDt3rspj0rlz58A1XMe3C7RH8i4WbwhgmkYvK4ZggWjAe2SORYFIgecE9X799Ve59tprVQCsHi2WgmMZMjwwmAbSBe2xigcCFSKUQbKaDF9JgARIILYEKEyCeCIGAGLkxRdfVLEkd9xxh3L5oxo+kLDyBsJj5syZahoAeUwwnYApAWQmxQcaAjJZ3CcAjwYKBIWOCYIogQcMr9WrV1cbAu7atUt+/vln9dxwDV4UpLpHbBAECMSJFiXa44JVP/jdQFI3LEdmkKz7z5cWSYAEkoMAhYnpOetpGYgLeD6wRBgrPtq0aRNYuYFYhXbt2qkdbWfNmiU//PCD+haNDyoEWY4ZM0Z9aJm65aFLBPT0ihYoeMV0Dgo8JPCg4Pn99NNPSmzCc4Ipne+++055yCBIsO8OYocgPlevXq1iT5B5FtN0uh9O3SgU/IcESIAEHCFAYWLCioBJfGOeNGmSWrVx/vnnC8QHAmDbtm0bECeYDkCwK/KYfPjhhypIDF4TBMhil1sWbwjo6RUIB3iwsKkfdhzGc0TR0zHwmECkwAMCAaL3zkEbFIgVCBrUwwofTOGgD92PqsR/SCCBCVx//fWBKc0FCxY4eqdu2sKNuG3PUXgJ2jmFSdCDxXLTGjVqyDXXXKO+JePDCGnoUcziBEGxECgPPPBAUA986xUB8/SKFhnmsehYEzw7TMvBG4b8NPCGIK6kaNGiatdixAqhLgQLvGgQL1jNA7ECjwsLCSQ6AXgf8fuPmCqni5u2cC9u23OaXyL2T2ES9FQvuugitUIDH1IoSD0Pj8mwYcPUey1OsCJHLyXGBUz9MEeFQuSLf+DBMgsVDEpP5+AYcUDlypVTAgUxI4ghQWAzBA2mgPbv36+EJ3LWQJjg+SLfydVXX01xAoAsJEACJOAQAQoTE1gtLrQo0XlKsDcOihYniDGBJ8WcfIuixATSB4eY1tEBsHo4mL7BDwqmeSBA4AHRMSMQJ4gvQkAsvCN4pvCeYUoHogXTQlhyrANizd4TxKsg4ywET9WqVQN2YAPf0DAWbUePh68kQAIkQAIZCSStMNEiRL8CTbC4gFdEXzeLE7g4kYoeG8ixuEMg+NlEaxUiAz/mAo8KPCZ45njGyHOCY9TDMQQrRAqEBvbZQcErkrXhFW0hVhEsqwUQ6kLg4hXCBP3ZKbG+Xzs2WYcESIAE/EAg6YQJPiQwBQP3PL7FZvUBgOtmcYJv0y+//LLonWv98BA5htgQ0B4VxJ1gCidHjhxqigfPXHvR9CssLlq0KDAHD3GCrLNIrAeBg0BbxKnA8wJBEuy9ic2I2QsJkAAJJB6BpBIm+NY6btw4wR4qEByIJ0E2V3xoaPFh9YjN4uSWW25Rq2/cCAqzGgvPOU8A3hFsyAiBAm8JBApiTjAtA5FxySWXqE0CcQ1BswikxfmGDRsGBocMtBA0KOYpn0AFHpAACZAACVgSSJotcCFKOnXqJKtWrVKudwiLGTNmyODBgxUYu54TVA6eArAky5NxQQBiA94NvOoCzwl2HNYp6xFIC48IxAdeUfAKbwiWmMP7Bu+IucBror0n5vM8JgESIAESyJxAUnhMMH0zatQoJSgef/xx9aGDXBUffPCBvP766yrFPDwhWRUtXvRrVvV53f8EgmNAzCOGQIE3DXVwbPZ84BhxJfC0wZuC/DXwkuiVP3payNwfj0mABEiABLImkBQeE3x4YPoGKcfxTRgFMSLY+wbfepHx06rs3r1bli9fbnWJ5xKEAIQHgpxDxYBAlCAQFqtuzF4V3D68JljFg6kdFEzdBHtO4I2BYMErCwmQAAmQQNYEEt5jgkBXBCVCZCBWAAWudxxrdzs+fFD08mAc40MG++HMmzdP3n33XQa7AkoCFkzP4CdUgWDBahtMy+D3xFwXXhPtRdHBrvidMhcIFcShbNmyRWrVqhVYrQORg/7Qv7lPc1sek4BXBAYOHKgCv/HFzenipi3ci9v2nOaXiP0nvDDB8k3ECFx33XVKYNx8882SmpqqniVyU2BKp06dOuo9vjmjQMzgg6h27dpy0003UZQoKsn5D0QDxIcWEcEUtMDAeYgSK8/Lxo0bVYAsRAqmeFDQn15GjGOIH9jCD/qw6kc15D8k4AIBcyC30+bctIV7cdue0/wSsf+EFyZ6tQ0yuEKEwHuiM7bCPY/rcMfrAs8KNu9r0KCBXH755fo0X5OYgBYMVgi0wMDvFbxwEB+lSpVK5wUpX768+vZp9qZAeGixg99DeOiwCgjZaPV5K3s8RwIkQAKJTiDhhYkOVEV8CZKi4QMBXhTsgbJ48WL1QYBMnSgQJS+99JJ89tlnKv4k0R8+7y8yAtpLoj0bEBIQHRAlECd4j4JXZJPFD9Leo2A3ahSs+NHeE3j04DFB7pTM4l1UQ/5DAkEE4HnDHl9Zle3btyvRnFU9XicBrwkkvDAxA8Y3Xz1dg2We+CDBRnwoWpR8++23MnHiRClZsqS5KY8TjIAWrJHcFgSHnoZBDhM97WL2gug6EDH4HYNnDuIDv2coyJOihYl+NU/noH6oYhZG+J22U6K5Xzv9s453BCBK7IgOePLs7n6+YsWKQCwetmVwsrhpC/fhtj0n2SVq30kjTOAhgRjBPid6MzZ8eOBDA6sukHhtyZIl8uKLLwZW7iTqQ+d9RUfALEDMPWkPij6H3y+kp4eQgFcEBUIGRb9H0CwECaZx0B7HWqioihb/aNGDV7vCxKIbnkogAhAdOnYuFrfVuXPnwHYL8Cw7Wdy0hfuIxh4EoJ0CAai/BNupzzrpCSSFMDGLkjZt2ig3erNmzVTQ68KFC2XIkCEqkydFSfpfDr6zJhAsQKxqhaoTLDogRHSGWARca8Fi1ac+h74hSvCKEokHRffFVxIgAXsE7HqbtHiJpVC0N8LEqZXwwsQsSpD5FXlMunTpov5Txxb28+fPl2XLltFTkji/076+k2ARAY8HvCXwrOilx1ndgPaSQJyg0IOSFTFeJ4HoCcADQrERPUc7PSS0MEEcgJ6+gSiBu7Nr164q0RrgYJlwu3bt1Oobu2rYDlTWIYFQBLSIwBSOFhhYiWPl9tXTPPCiBHtadD94NXtQgoVPqHHwPAmQAAn4lUDCZn6FKMF/9ogp0aIEq3KqVKmiNvCDJwWlZcuWtgPC/PoQOa74IQARoUUIfkdR8F5Py5jvRE/zIGvxunXrMmSPRSp8FAgcCBe8Qszs2rUrXV2IFQTdQsSwkAAJkIDfCSSsMNGipHXr1kp4aFGCB4IVD/CksJCA2wS0iICQwO8oXrWoCB4LPCWIO0FBHAqECgrEB8SKFjbqZCb/mL0rmVTjJRIgARLwBYGE/nRG7Ei1atWUxwSeEhSIEi6d9MXvXlIPAgIFP5kVLVrMUzqoD4GCXDxIGIhpIHPRIsfsgTFP9Zjr8tjfBCA8mZ/E38+Io3OGQEILk0aNGkm9evVUzgiNj6JEk+BrvBDQAkWPV6/cwSvETXBcSbDgwXuzUNH98NXfBJzIT+LvO+boSOAfAgktTDBdg0RWLCSQSASChYp5qiZYlCTSfSfjvcQ6P0kyMuQ9xx+BhBYm8fc4OOJEJ5CVxw4iAz/wcNj1cpinakL1b84kG+xhMTPP7Jq5Xig75jo8JgESIIFICFCYREKNbUjAIQJm70c4wsRuXQzbbCPYw5LZNYdumd36kMCnn37qWjyem7aA2m17Pny8vh8ShYnvHxEHmEwEzN4Pp+47MxuZXXNqPOzXfwTy5s3r2qDctIWbctueayATyBCFSQI9TN5K/BOAMMBPrEvwFE2wp0Tbw3mra8HtdX2rV3hd8OPUvVjZ5DkSIIHEIUBhkjjPkndCAgECweIg2imacNqb6zohsgI3yQMS8CkBvV9OVsPjZn/WhChMrLnwLAnELQEIg23btgWSs2nPBc6HEgpZeUTQLrP2Zljh1DW347F/CEyaNEntuo5pjw4dOjg6MDdt4Uactmd3exMtXrj/TsZfLwqTjEx4hgTimgAEBDLGIlusFiKhpmj0jaINEnrh1WoqR5/DdRTdr25vfsW1zK6b6/LYnwQmT54saWlpkpKS4rgwcdMWaDttDxmdKTai+72mMImOH1uTgO8IaFEQjkBAXYgO3dbqpsziJbN6Vm15jgRIgATsEqAwsUuK9UggTgiEI0j0LWXlUUE9O+JF98dXEiABEoiUAIVJpOTYjgSSjIAd8ZJkSHi7JEACDhCgMHEAKrskAb8RYKZWvz0RjocESCAUgbNCXeB5EiABEiABEiABEnCbAIWJ28RpjwRIgARIgARIICQBCpOQaHiBBEiABEiABEjAbQIUJm4Tpz0SIAESIAESIIGQBBj8GhINL5AACZBAchKoVq2alChRQs477zzHAbhpCzfjtj3HASagAQqTBHyovCUSIAESiIbAa6+9Fk3zsNq6aQsDc9teWDBYWRGgMOEvAgmQQMwIIDusziDL7LDWWJH6f+vWrdYXTWexl0qpUqVMZ3hIAslBgDEmyfGceZck4AoBc9p6VwzGoRGIEr2BW2bDhyixuyFcZv3wGgnEGwF6TOLtiXG8JOBjAkxbb+/hQHRwozd7rBK5lh2BivuHQMXmgMlSKEyS5UnzPknABQKR7NPjwrBoIkwCnTp1kr1796rgV6djMty0BQxu2wuF3q43TIuXZBKyFCahfmt4ngRIgASSlMCqVaskLS1NUlJSHCfgpi3cjNv2QgGEBySZxEYoDlbnGWNiRcXmudOnT9usyWokQAIkQAIkQAJ2CFCY2KEUVOfAgQOyZ88eOess4gtCw7ckQAIkQAIkEBUBTuWEiW/37t3yyCOPSKNGjaR9+/YUJ2HyY3USSFQCXAacqE+W9+U2AQqTMIhDlHTp0kVKliwpzZs3pygJgx2rkkCiE9DLgLPKPcJlwIn+mxD7+9MBsFn1nCirdyhMsnrS/38douShhx5SoqRv375SrFixDC3PnDkj2bJly3CeJ0iABJKDAJcBJ8dzdvMuk3H1DoWJjd+wQ4cOycMPPyyFChWSIUOGSK5cuVSrDRs2qERJiDepXr26lC9fPqnWmttAxyokEPcEOEUT948wrm8gnNU7dj0rfl8NRGFi41cW6/nhIcmdO7ecPHlSzj33XFm4cKGMGjVK4CU5duyY8pTce++9csstt0jhwoVt9MoqJEAC8UCAUzTx8JQ4xnA8KxQmCfD7ggd+6623yrx582TBggVq/4phw4bJzTffLFdffbWcffbZ6vzbb7+tRAnESSTTOhA4KJs3b04AarwFEogtgaNHjwp+atWqpb4khOpd/x399NNPsmPHjlDVbJ/fuXOn+mKi+82s4e+//57Z5bi6liNHDjXetWvXOj5uN23hZty25zjAMAycOHFC8EzLlSuX6d9RGF3GvGo24wP0TMx7TYAOtbCAGxeuNOQseeWVV2TFihWSN29eKViwoPTo0UP0RmXwpAwdOlSWLl0qb731VkTbhc+fP18GDRqUAPR4CyTgHIGJEydK5cqVQxrg31FINLxAAgECWf0dBSp6cEBhYgH9yJEjMn36dNm2bZsUKFBALr74YmnQoIFApPTp00eJj9atW0vHjh1Va4gW5DT5/PPPZfjw4TJ27FipUqWKRc+Zn/rrr79U3yVKlJCcOXNmXplXSSBJCWT1TY9/R0n6i8HbDotAVn9HYXUW48qMMQkCit1RO3fuLBAn55xzjuzfv1/ef/99tUz47rvvloEDB8qYMWPkqquuUi3hWdGJ1uAiQ5tIRQW8MI0bNw4aEd+SAAmEQ4B/R+HQYl0S8B8BChPTM8F0zIABAyRfvnzKM1K1alU1F4dNrDCNU61aNalRo4aawsHKHKzWQSAsyp//1969QNs21X8An/70lgYxNGLoekY1PCskuYquLnp59CBurgjdS0jIK88xCOU5Ut6KlKJIBkpUciki0r0Z3T8xGBpR6WVU/ucz+8/Tuts5995z9nOt/ZtjnLPX3nvttebv+5uP7+8x53riiXTLLbck3o7ll1++ctU4DAQCgUAgEAgEAoHFRSCISQUpq2/mz5+fdtppp7TOOuvkb8Syp0+fnu66665kLxMFKeFJ+epXv5rmzZuXc068t3yYN2WZZZbJ58W/QCAQCAQCgUAgEJgYAvGwlwpeiIkM/BVXXDEv/7UCQLFU2MZpTz311OjZwjWWXNnDROa/35x11llp9dVXHz0nDgKBQCAQCAQCgUBgYgiEx6SCF++IP6EbOST2LVEkwSpCO6XIJXnXu96Vttlmm7xiR66JZcNRAoFAIBAIBAKBQGDyCITHpIIdcjFt2rScIyIsY7WNYm8CuSSS6koR1vnxj3+cPSmWEwcpKcjEayAQCAQCgUAgMHkEwsSvYGd1zXbbbZfe+ta3ZnLivdU58ktsOf+qV70qn42UnHHGGemHP/xhuuaaaxYgLJXLxWEgEAgEAoFAIBAITBCBofWY8I4o5bUcS2yVL8ILolgCLI9klVVWye/loJxzzjnpzjvvzCGfqhclnxD/AoFAIBAIBAKBQGDSCAydx8QmaUI0CIddW6tPA64eQ9R5EmItC7YE2JbUZ599drr99tvz65prrjlp4OOHgUAgMDgIlE0SB6dGUZNOIBB67QSKvb/GUO38avM0IRj5I0jI+uuvn3bfffdMUHhOWokJdWjYNlzjQfHMHHuVICdNJSXj4dD7pln/O9ZlUKxLPbvRIv785z+nZ599dugevNn0fh567UZv6d01lzxmpPTudv27E1Ky1157pSeffDITDCTEMzU8MO8d73jHmKREbQ3a9ihx7uOPP56JzVprrdU/Qbp85zJJ1WXgGsR6mugQWW2Mh67sDNxl1U348nStjvKoykPNJnyRPvygUzqXK7bvvvtmTygjZSzDpA/ideWW2mGZrN1Asn6ncOxKhdu4aOh1bCO7DUh7/tOhCOXolKeddlpeWXPwwQdnb4dOevXVV6cvf/nLOYHVE4HHKiYY3z300EPpox/9aJoysndJ04r9WmCBpFkivfXWW+el0YM4cJn06cJkahfeQZtQ7R68//7752cseQK19qP9eR2kgqh7ppMNBfUFS98tkff8jEEq2iaj4NFHH00rrLBCWnfddVMnDAOT1z777JNe/epXp3e/+90DSx47oQu6PvHEE9Njjz2WdS2Jf+bMmRnLppGx0Gsz9DoUHhOW4SWXXJInW6tuFEmudmj93ve+l1ZaaaX0pje96XljgEb+4IMPplVXXTVtscUWadlll33eOXX/wKDFavQYbIm9wlxWGm200UZ5Y7lBkk9dDzzwwPT1r389fec730k//elP09vf/vZJP5uoG7IhTt/4xjfS/fffn/e/0W54TAbJcwJH3kMbBnqEggRuxFSSN7JXHrPQDXwmck31FEb91a9+ldvlvffem3WP5Omz5cneE7mmc4tFjZQcdthhOdm99RqDSMpb67g47+XFwVBOnedwrbzyytkA+drXvpa9Ju3guDj37+U5odf/TU3Ra+M9JkjJn/70pzwYFetaJ3WMaNjB1QCoVC1bEwwlf/vb386DoefnNK2w7j0Neemll87Wow3k7rnnnmxdyaUpG8oNwiBtgOWJQCj322+/tNxyy2XvjroPStHWeJw8zuCZZ57JWB511FHp2GOPzR4TePd7vxtt3GMT1NOkXHYqvvLKK3PuFKK35ZZb9h1S9Tz11FOzvg866KC88SHy/N3vfjd5XDvr/yMf+UgmVhOprER27Uff50XQnhSEnFcGObM1AGNk0LxcE5GznOuJ59rdJz/5yYyhz20KidzDkefxAx/4QO0foxF6bZZeG09MWKsmsa222ipbsttvv/1oOEZIgBubd0ApA5EJBmHZYIMN0rbbblv7TpuFG+Mf2WHAi1RICIvZoG2bffu3sJ65zgs2Y1ymJx/9/Oc/z7k+hx56aE5aplehp5/85CfZM7H55ptnPZeJpieVarlJySVhlc6dOzdtsskm2bMjjcvDIftNSlQXwaNzei6kxOdvfvOb8/J3XolBICaMh/kjYaY3vvGNoxOqXZmFUuHr8Q90vccee+SHbpJhcYpVdh4xgZiZsLXvm266KYd6EXD4CG/ssssuOYT7yle+cnEuO7DnPP3009kwK3swqSj8Zs+enQ2Sr3zlK9lj5vlgxr3ShgdWoHEqFnptll4bT0yKtW9HVxMx70npgLaa972BqhTuQFaGie4tb3lL+biRr/DQoaukw3tWo91u7WwLn/e+9715oO7nU5MRJaEHT3g2eN58883pzDPPzBMJj5cHKn7oQx/K1uArXvGKvuirtDUhAmR4xowZuR7XXnttOu644xLvyeWXX56JXiHDva4oT6DJtzwHqtzfBIyMl1JkKe97/cpjopTX4m1CRkyi2gD9Wyn3/ve/f7ETOZ2vPfOE3njjjTkkJBeIwSLshjz6/NJLL80rdeSX9RuLdrAv4S79Wr8oOOrzH/vYx7LHxJPT5e4gfnUtw6LXMnc1Xa+NzzEpyV0mVR4QMVWdUge96KKL8kAk3q4gJTZPE8LZYYcdJmSJ1bFDG6h4ReRqwIkHgvtco//EJz6RB3A5CCZ9iYdIQb8KQsk7suGGG+bVUUceeWROWjT5mzy44REAyZtrrLFGXyaT0tbgd9lll2Uv3XrrrZfb2g9+8IN01VVX5fAO1zlLvR/WKU+BnA0JpZtuumnen4dO77vvvozfBz/4weyVKLLoJ/2oJ5L0i1/8IrdPXkuEpFoXkyhyxeInx8I8G4VYIDlkmTLidZk/4o3R7nmPhN6Ed0xujBT5ZtqTPCZhjzIJ9KvtT+a+JjA65B2RM/bEE0+kqVOnZvkLDq7La/bAAw/knCjJz1UjZTL37edvhkGvpV/Sq7wweYFN1OtQ7fzqwXul47GMWOB2eVUKKTH5ib2yeptcDFyK+D3SRma5B5ZGC5dw55d9XqzYMOmL4xrk+1HKapGyxJuL3ySqjsJQrF65ASxdYYDSgftRV/lL7j9v3rzsObGaS4Kp9iZ3waCiHRZvQK/qWHRuNQr9un/5zERs0q5O8PrEt771rUxaelVH9yl1sscQ8sHbpOizyIkCP15QhFmC+nhFDsWFF16Y83yEf2677bYs5957751DGXPmzMlkpJAP93afzTbbLO9vYuCvS+ENkyuj0CWs5GDB8ZaRnLFzzz03fwe7gqO+j4g9/PDDud/kE2rwj9ePTIipDS8RTDLTq3zAJumVrNdff30OtV533XU5TEyvM0aMMgZPk/Raml7jQzlFUB3RgMNy8IwbblshAMREoqKN11hQTd48rWDhVSdWTJK8RCZNLt3f/va32auUv/z/f85lwfZrtYbJQozcoPO5z30u1wMhKY8DMCCrHy/XSSedlGXoxJLSKgZjHRdLvPU7gz2L3mCvSDAW62eR3n333emQQw5JJ5988ihJbv19t94XnQszqQPMfKZvGNy1BbknClIiVKJP8Cx2u1SxLPWkc94lK+roVbJuISdeWfvaBgI4VimrepATRgnS/c1vfjMneiO1CA8yTi+KOpR7I7d+A6M6FHU/5ZRTcjsTotH+YaR49peJm+cEYbZKp3zne6sT/Z7MdSj0KkdGKNqkrd6IJQNg+vTpmYQ2Ra9FVuOzcU5btrnn4YcfnqaOeMCapNdq22t8KIewVVKy22675QFKTFlmvzwKAxuGPSykpOrKNbAbrAzCN9xwQw6TlBg+7GDES4HAcZkbuHvtjSj3M+EbhCzFRZKE5tS7rLYSojDxv+997+tJGK7UC06tRT3kMN1xxx15ckdEWPhi/epvUOkl0avqXF1hViZhbcASZ94SS0p5CVhhSAnCPqWLe/fom6VNVcmJOpo8hVfKXib6qdyvMqk+8sgj6Uc/+lFOkC3J236nuO4RRxyRr42ECdcKA8pVEqKR41O2CdC2eQMLCWG8XHHFFRkjYcJ+JlT/R5pF/9cW1Zt73+QlJKW/KCZtz/oSDkVO9GnEhVwIKLJGdmGr0pcWfcf+nKH/24uK1+eAAw7If6uttlruU/SqTwmf8gLxppnY66pXsgpZa+9ktbKKJ5/3GilnRNArwk3v2nZd9dramhrvMamSEoMTtsmVrbPymph0LZFtKilhURi8MW6d1nLQ6kBbJicNw6DP1c0yZX2YWBE3yzThUzp4ayPq9HuTqIGntbD05RvoiFZSWPJo4jBxyhlg9bOyu7W024AvVGQHYBOB1UzaU3XJskkepkgTi9wEYbnw2muvnT9nzcK2m3vimMgNVCYgE417yi0pdWvFlSWmIAYSn3nQhDS73ScMvHvuuWcmQ1bBwLRKThzzin34wx/O/RV5gh3ctQ8riEysVj+1FgRQm0Cy5ZAovFgsanlVfqfoC9qTPCrEhy69FxJhdfMmDHopY5y2BjPJ+/o9I6w8OoM3DHZyxiwN9xBSsiL2JjSyOh70YkzyZywvOW8MJt6TE044IbdZbZ5xQo9CPRL566hXbZTX1bL44slk0NgUVPhSLp3+8alPfSoTFrmRddVra7trNDExwWGbLAkNmYUkqbNkn7OadFarb1hmTSusBfLCwYRjYrpoxC1vMjCYt07gG2+8cXad2ysCeTN5YujdtprhbiC1UsJEYtIZbxJlKey666657iy9W2+9NQ86BmSTkd1MW+XqhF5hWTaqQtCQFIRP+zEIFrJXiJ5VDjvvvHMme3JffE6mbtStKp96zpo1K+MJUwM2r80Xv/jFcT00SLqJy6Am+flnP/tZ10mJOns8hNyW8847LxMnobgqOSnHCKnQC4+HsA5CSt8m2dNPPz3XvYqBY22B54c3xHWQNeTM5O09ol4KfU4ZIbc8RPCSB2Qjv5LXVM4b1FdjnP59/vnnZ4xMWMiH9jZjJA+hkBNYIHk8I7wLPCiw9UiOuox/9Ep3JVRV9KotkNN4JQRprLcEnl61f+F6x3XSK50ygshWxhVtmixWJRov6d4YL4+IXn2mDddNr619q7EP8StWd5WUiEuyXJViZbQC0pT35PvMZz6TY846owFZ/giL3woMk7tlkyVPoxABLm2d/5e//GVm5Nyh5ZxuYmOSV18EkvWsFB2W+5qMTCqKAUkdhZ9Y3gZWYYhuDLCw5EUykEsWNokjAHJHWGMmffiWUrBUr166xt1P/WDD9WtwFjY6/vjj81Jqlle1wFOBqVi1DezIRZ4ymVXP78YxXK2+0e6qui8Yumf12HsWPiLob7xwGNnkJLmuFVKl3UgipDf5VGUscE3Fb9zLqwG/ToXX1zJnFrUwhn5hAzn5JVVy0tqn6iSjutInY4AX7LOf/exo9RFU4xqDyuNHEBd5GNoIfRbd1kmvxh1tWCEXYwj51JYtkUe0eTZ5yPQjxKQppbE5JhgmUmICFoNkRZaBSCMdK1TQFKWSg1XBsizPQOGmxbw9B0ds3moLy4Vhw2IsA7djn5uY5Bxo/L0oBgxhNeEYupPc6tVAWqwFdaQ7r/Rn4uXtEp4SOlHvbhRWPSx5RqzWQDZ4GfzJkodhdSIvWKp3Oe5GvVqvKeQm3MEqVk+648K+ZWT1ghAX4oJ4wNp36uYPpkIWrCwD4JQRy7LbpehR6BCewqpIs3bKw1TFrRwbqGHK6+Q8bXW84vrk5ZUxSSHXruMRFNzjkmpho3CZywkSr3f90t7Gu/Ygfk6/5CztkNfEZ0JUDA2y6c9kQ74KpkUPgyjTWHVSb54EE7KQHKIiH0ho12pCXhIeBQTUWKdd+42/OupVG+XBNP6Q2XgoEZx3m/eY91+/1871+SJn3fTaqut6mQWttV/Ee1aEOCRLrEpKKK/pRSfUaVnPioaqmNAlVCnCOtzWwjoaPDLD6hDPLIlz+cQu/isdyCQi18HkyMJVH7t6qq/jQiSL7pxPxl5YQOplVY0BXSkWfFlaO9aAZ7KTAyGk0yss1ZMbF2EqxWRuoEZEDeDqiqxy/XLtq6dwmDYg/6LXRXjGwLvjjjtmjCXdqqMwmM3oWPy8YOo5kbbpGnJR/B7+3rM4TWaIj0lbcV2hSiv1JIb2wjvYaYxLH+LdVEp/oWfFUnqFpwFhgUUppT+V94P8Sk4kVtvlKbNU1liBZEsul/Sq2OX74osvznkYvJt1LfRkWT/ji3EktwQGxmz92tjH2NTfeXNLOJm8ddLrWPr5bwsd69uafyZ2eswxx4xut06cuitscVWisxqoWIKs5CK3QUtBTgzQ9nbQ2E38XKbtSOEAABH9SURBVMHc3L0s6oVAyQ1hASCRknDFyC+44IJcFXUrpMAHCJR9V0wypRT5yvtOviIg8m3EdVmfZWCfP5JcqfCYVAvSZKLrNZZlkOJ1onODl0mJd8FKBhM9rw83v3MUVphk1yJTVY5uHhd9aaP0yDIUajKZSrqdMZIbIYeoENaFtU3tVymv5dhAjXwVUutarG3eA0W8nuxya+S51IGUFBnLKzkKlo4V8pbv4cmTIFQq90LIrq6FnMaB0laQWGFHBpZ8wWKk2ChSm++VQdBNPOkS8UAoGZmItEJWY7lEYOOnMaiM7d2sT6+u3dhQDgANtiboYSwsC4M+i0InZbnr2P4MWl5ZolyeBm8sHFaST73vZVEfdeSenDoSI9cJdUBud14AYRr11fHo1OoJcplkezGZwIUnh8VuBYCBUT0kCUtOk6tTVm8gTSY655tce4mleglvmYBh6dXgzBshNKaOPufJ4f61wkkbgWMv61ltW9qpUBOrcMpICMkAayUYC5G1WFbgCNvwolTrqT34k+TrOtpIKdVjn5nQ6IpL3L4lQh5yERAz5FwYZJDLwmQdq97kL/2crNqj/iSJeLy8nLGu08/P6KxVj+W9/kfnJm0rqCR9Snx1jHibrLWXqvewn7Is6t5jydr6G4RL6FPYxvJ4EQG7ScsjY3h0c6Vfa126/b7RoZxugzfo17c7qiQp3gVxeUtrS8dWd2TEgCcXRynx6fymh/9YtiaLYvGYXE3qCs+JUsI6jtWTW7PbK1zcqxSTJHKHCLFiTIYIiBCh+irIlGWXBkfWaQn1lGv04lWuxtQRcqfAVSJk0bnBz4COwKi/YsLqZxFSoXcJsIgJvQpHabv2a5BUzHVfVtKVuvIICcHAmnyIl/NMRGVCLud6JTdPibaDCPEc8Bp1e0l0tQ6TPZ6orOU+cClY6Ps8yHQ/yEW7REzljdFZabPj1Zl8vGCMhItGPCcmZ4aEpcOD7jGZiKx06Vlgku31C3/GIjLqB8ULOB5Odfs8iEndNDaB+hrw7WXAimcdcgUiKiwNhSvbxFQm0DKITeAWHTu1kJJSBx2tSk4MUuU970qvi4GhOtDJ2xDXLUtKkTvhAGTFQFEw7Uc93RPhRKDUuxQYcv0iUMJmxUqrnlPO7cVrmXQQO5OL0Bf8vEpkRqglbxaPVKmniVrIz3vkmnUsf4ZsJqRyXqsM2pacEysbWJ88Jf0i4611G+/9ZGUt14NF6VN18JTwaMmH4im1ymRR5IR8wjh0aZWeydrYwRM46GUisurP+oSVSDye9ijiXSRrv8aabuLb6FBON4Gry7VZD5LCTKQGeRamTq9hi+EboGfOnJktqfEG9F7KWq2DjmjikXjKZYlQ8VoMQlEnm5ipD2seGRHHZ4EPQljAgK7I0zGQIaBCYDacmjt3bt6UySBexbvXuJZ7I0o8JV6PPvro7P2ge6TB6hl1L+caoG29LpHVEklhKmEgnhL6cG5JdG+VByZTRrwylhvbFRY5G+TSjqxVuQp25bX63aAd6+OIiZVTjBV9Sb0LiW6tL9KFgPMEmaiFc+pAwMgxEVkLQeMFFYIXyik5Za2YNOF9eEyaoMVFyGACsgkPgmICkBCrgXN72lCrrFBYxGX68jWLwPJXnbg806QvFWm5aVmyKu9EPgT386CFBVjbvAhWL9iYjM4N4Lxn3djvpQWixX4rxIAsCJeVlRV+PFYdTUTItcTt4u2gC54QeUcI91gF6THZWQWE/BTiNta5g/JZO7Jqk1UsB0Wm8epRvGdeETLtgRcMKZELVSbmVr3xtA2LrBLv6ybrePpe1OdBTBaFUEO+F/6wAZlloUI7Bj3WZUnaHGQxeU1sElfCPYNQV5Oh0JKHCrLYerkp2eLKz4vgOTFCIRLlJI7KxagmkC7utbp5Hrf7fvvtl8nnwqx6k5bwGZKBqCoSfB0j2RJkkTHF5EYvCg+h7bolSHKf9zI3KVdgEv86Ias9beogK3gQDlvIW2ljuwJjlfwyXl5lLHJCr86xzDtkzTA15l+EchqjysUThNXMg+LPcV1Kq6U0CPXmaTIBmvy5kQexIHOICOvZaqdBTX5szYcZC0ukBcG2KkFoj4elxNetTLDNOu/alJFwTWkvJngYWDrtO1gsjPyMdd9+fNYpWftR98nek8FEX1NHkrfpVu4Ib59QpJB0a1hHm5E3Z6foQSPbi8JgmGRdFBZjfR/EZCxU4rNAYDEQMFgKDfA8Rek+Arx8Jmyk2ooGBIS3xWeSZq2ykZNSEh95VuzMSz9i8n5XlzJMshad8O4g+DykijwjHj57ArWSE0QT+ZR8Xie9DqOsReaJvDb2WTkTASHODQQCgXohUHa4ZTWbpDwXxT4lcmkUpMTmaTbFs7GcpMi6lmGStegIMfOHfMgpkhfEm+IRI2VH23Ju3V+HSdbF1dV/UvcX9+w4LxAIBAKBAUBASKfkkAjVcI0Xd34hJTZPs+S4zqQE1MMkK5JZClKCjPCiWCYrh0gOimdqNaEMk6wT1VcQk4kiFucHAoFAXxEwoCMj9o6R/OhV0qucKcviy9Jtm9wNwtLtdsAaJlnlaxW92srAkvAqOfH0cSTT88/qXoZJ1snoKnJMJoNa/CYQCAT6gkB1orZ5oJUc22+/fV4mbMm2vVrmzJkzcEu3JwPWMMvKA2Z7AN4iOUQ8JxKdp02bVsuckqr+W/XaZFmrck/kODwmE0Erzg0EAoG+IVAd0O38ah8T+/NYFm0rfpOXZdGDtp/MZAAbdllnzZq1QFI5z4nCo1LnMpZemyprO3qK5Nd20IvfBgKBQE8QKPuSCNsgJbaxnz17dt51l0Wt2KvELrBjbczWk0p26CYh6+zR3XvL6qQOQdvXy4yn17JTcZNkbRfoICbtIhi/DwQCga4isKgBvVihXa1Ejy4esv6XlPQI8p7cZlF67UklanSTCOXUSFlR1UBgGBGw+oanxFJR3hCekqqVWXf3flWnIevaGQ7egyaVRem1SbJ2QpZ6B+w6gUBcIxAIBAYeAbkjVmMI41RJSQnjDLwAE6hgyPqfjfQmAFktTh0mvbarkAjltItg/D4QCAS6joBwjaXAddzlc6LghKwTRawe5w+TXtvVSBCTdhGM3wcCgUAgEAgEAoFAxxCIHJOOQRkXCgQCgUAgEAgEAoF2EQhi0i6C8ftAIBAIBAKBQCAQ6BgCQUw6BmVcKBAIBAKBQCAQCATaRSCISbsIxu8DgUAgEAgEAoFAoGMIBDHpGJRxoUAgEAgEAoFAIBBoF4EgJu0iGL8PBAKBQCAQCAQCgY4hEMSkY1DGhQKBQCAQCAQCgUCgXQSCmLSLYPw+EAgEAoFAIBAIBDqGQBCTjkEZFwoEAoFAIBAIBAKBdhEIYtIugvH7QCAQCAQCgUAgEOgYAkFMOgZlXCgQCAQCgUAgEAgE2kUgiEm7CMbvA4FAIBAIBAKBQKBjCAQx6RiUcaFAIBAIBAKBQCAQaBeBICbtIhi/bwwCF1xwQXrb296W7rrrrjFluuaaa/L306ZNS/fee++Y58SHgUCdEZg9e3Zu4//85z87JoY+deKJJ3bsenGh5iOwVPNFDAkDgfYRuPnmm9Ppp5+eXvjCF+ZBdt11123/onGFQGDAENhiiy3SGmuskf7nf8JmHTDVDFV1gpgMlbpD2MkgcMcdd6QTTjghD9bHHXdc2mijjSZzmfhNIDDwCOywww4DX8eoYPMRCFrcfB2HhG0gcN9996UjjzwyPffcc+moo45Km266aRtXi58GAoFAIBAILAqBICaLQii+H1oEfvOb36RPf/rT6dlnn02HHnpomjp16tBiEYIPBwLVHJPrr78+55vcdtttyfHuu++ettpqq7TTTjulSy+9NJP1Kirz589PhxxySNpmm23S9OnT0xFHHJGeeOKJ6imjx48//nj2Qr7nPe/J19xzzz3TtddeO3pNhsC+++6b73/VVVeN/s6Be8tbOe200xb4PN40B4EgJs3RZUjSQQR+97vfpYMPPjg988wz6cADD0wSXqMEAsOIwBVXXJFOPfXU9JrXvCZtvfXW6W9/+1v60pe+lK677rpROPQXRELYU/7V5ptvnh588MF0wAEHjJ5TDh5++OG01157pZtuuimts846mcgg/yeffHI6/vjj82lLLLFEJjkveMEL0vnnn5+eeuqp/Pljjz2WLrnkkrTCCiukj3/84+WS8dowBCLHpGEKDXHaR+DJJ5/Mg+Qf/vCHtOSSS6a11167/YvGFQKBmiLw61//Op111lmj/WDbbbfNJOT73/9+2m677bJU55xzTibxxx577Khn8S9/+UsmF48++ugCkp900knJd2eeeWZ6wxvekL/797//neRv3Xjjjemd73xn2njjjdOUKVPSLrvski666KJ07rnnpsMPPzx94QtfSP/4xz+ysfDSl750gevGm+YgEB6T5ugyJOkQAp///OcTV7NB81//+lcykHZy+WSHqhmXCQR6goDQTJWc6xcvf/nLR8M0Tz/9dLr99tvT+uuvP0pKVOxlL3tZ2meffRao47x589L999+fPZCFlDjBKqA99tgjnyt0VMquu+6aVllllXTDDTdkcuI+W265Zdpss83KKfHaQATCY9JApYZI7SHAVW2QNChyOcs1ufjii9PMmTPbu3D8OhCoIQKrrrrq82qNdPz973/Pn/OoIPDrrbfe885DaHgdS3nggQfyoXDOGWecUT4efUVQHnnkkdH3lucLqe6///7p8ssvT8sss0w+Hj0hDhqJQBCTRqo1hGoHgZ133jnNmDEjX0Lyq1j2ZZddluPma621VjuXjt8GArVD4EUvetFC6/zHP/4xf7/ssss+77yllloq+SulnGuDwvE2KfzrX/9aTs+vCM9KK62U5LFssskmabnlllvg+3jTPAT+22KaJ1tIFAhMCgGDXymvfe1rE6LCWhPSkfRXHWjLefEaCAwrAi9+8Yuz6EI6rUXyuJyQUsq5s2bNyqt7yucLe7366qszKeFNsdHhjjvuuEBoaWG/je/qiUDkmNRTb1HrHiIgrMNie+ihh3JIp4e3jlsFAgOPwGqrrZbreM899zyvrvYBqpbVV189vxUebS2SzSXAVlf7/P73v0/nnXde9pIcffTROWR0yimn5NfW38f75iAQxKQ5ugxJuoQAV7b9GSxhFNKZO3dul+4Ulw0E6ofAyiuvnF73utclxGTOnDmjAvCUXHjhhaPvHQjLrLjiitnzIRG2FMuF5ZxYlbP88suXj/NjIKzg2XvvvXPSq8RXv7vyyitHz4mD5iEQxKR5Og2JuoDABhtskJdGxiqdLoAbl6w9AgcddFB6yUtekjcktKzXvie77bZb3jCtmnsiDHrYYYdlee174liI1LmWH1sBZKmwcuuttyYrdF7/+tfnz30mBGSZMMJjT5MozUQgiEkz9RpSdQEBA6mNnSKk0wVw45K1RmDNNddM9jJB4O+88850yy235GMEpTUna8MNN0xnn3128nr33Xfnc5deeum8N0khLbwk9iyRV2KTNt5KhTfF6jgrglw7SjMRWGJk69/nmilaSBUIBAKBQCAQCAQCdUMgPCZ101jUNxAIBAKBQCAQaDACQUwarNwQLRAIBAKBQCAQqBsCQUzqprGobyAQCAQCgUAg0GAEgpg0WLkhWiAQCAQCgUAgUDcEgpjUTWNR30AgEAgEAoFAoMEIBDFpsHJDtEAgEAgEAoFAoG4IBDGpm8aivoFAIBAIBAKBQIMRCGLSYOWGaIFAIBAIBAKBQN0QCGJSN41FfQOBQCAQCAQCgQYjEMSkwcoN0QKBQCAQCAQCgbohEMSkbhqL+gYCgUAgEAgEAg1GIIhJg5UbogUCgUAgEAgEAnVDIIhJ3TQW9Q0EAoFAIBAIBBqMQBCTBis3RAsEAoFAIBAIBOqGQBCTumks6hsIBAKBQCAQCDQYgSAmDVZuiBYIBAKBQCAQCNQNgSAmddNY1DcQCAQCgUAgEGgwAkFMGqzcEC0QCAQCgUAgEKgbAkFM6qaxqG8gEAgEAoFAINBgBIKYNFi5IVogEAgEAoFAIFA3BIKY1E1jUd9AIBAIBAKBQKDBCAQxabByQ7RAIBAIBAKBQKBuCAQxqZvGor6BQCAQCAQCgUCDEQhi0mDlhmiBQCAQCAQCgUDdEPg/iY/TCtAdvj0AAAAASUVORK5CYII=\" width=\"550\">"
      ],
      "text/plain": [
       "<IPython.core.display.HTML object>"
      ]
     },
     "metadata": {},
     "output_type": "display_data"
    }
   ],
   "source": [
    "bs.results.corner_plot();"
   ]
  }
 ],
 "metadata": {
  "celltoolbar": "Edit Metadata",
  "kernelspec": {
   "display_name": "Python 2",
   "language": "python",
   "name": "python2"
  },
  "language_info": {
   "codemirror_mode": {
    "name": "ipython",
    "version": 3
   },
   "file_extension": ".py",
   "mimetype": "text/x-python",
   "name": "python",
   "nbconvert_exporter": "python",
   "pygments_lexer": "ipython3",
   "version": "3.7.7"
  },
  "widgets": {
   "application/vnd.jupyter.widget-state+json": {
    "state": {
     "0004c2b54f27410daf5d459a689d8d20": {
      "model_module": "@jupyter-widgets/controls",
      "model_module_version": "1.5.0",
      "model_name": "HTMLModel",
      "state": {
       "layout": "IPY_MODEL_42edcf3c71d345f7bf600bb8126029d8",
       "style": "IPY_MODEL_b0b751282ef8444ba130d1f1ba5dbed8",
       "value": "<div style='background-color:white;'>&nbsp;</div>"
      }
     },
     "004f344edc944d89a3a7589b307ee0eb": {
      "model_module": "@jupyter-widgets/controls",
      "model_module_version": "1.5.0",
      "model_name": "HTMLModel",
      "state": {
       "layout": "IPY_MODEL_cdd572da424045f0850a16d35abbdd97",
       "style": "IPY_MODEL_15ac2bc771294b9f8bd209df0c1a0542",
       "value": "<div style='background-color:white;'>&nbsp;</div>"
      }
     },
     "009f994506ce455da25d8935df98f8e9": {
      "model_module": "@jupyter-widgets/controls",
      "model_module_version": "1.5.0",
      "model_name": "DescriptionStyleModel",
      "state": {
       "description_width": ""
      }
     },
     "00e0a2d31ea04cd78b0d710d9367995c": {
      "model_module": "@jupyter-widgets/controls",
      "model_module_version": "1.5.0",
      "model_name": "HTMLModel",
      "state": {
       "layout": "IPY_MODEL_c4717a5aca8d4d2ea0a58b78ec0bbd5a",
       "style": "IPY_MODEL_222018b343d943abbbbf5347406234e7",
       "value": "<div style='background-color:white;'>&nbsp;</div>"
      }
     },
     "010210469fc948b9af403cc6a123a0af": {
      "model_module": "@jupyter-widgets/base",
      "model_module_version": "1.2.0",
      "model_name": "LayoutModel",
      "state": {
       "grid_area": "widget048",
       "margin": "0"
      }
     },
     "013ccfbd835843deac2003330ba6f7fa": {
      "model_module": "@jupyter-widgets/controls",
      "model_module_version": "1.5.0",
      "model_name": "DescriptionStyleModel",
      "state": {
       "description_width": ""
      }
     },
     "0149b985002e43019aea6bacecabf799": {
      "model_module": "@jupyter-widgets/controls",
      "model_module_version": "1.5.0",
      "model_name": "DescriptionStyleModel",
      "state": {
       "description_width": ""
      }
     },
     "019db4aede464cb490b5e6553d5a7820": {
      "model_module": "@jupyter-widgets/base",
      "model_module_version": "1.2.0",
      "model_name": "LayoutModel",
      "state": {
       "grid_area": "widget042",
       "margin": "0"
      }
     },
     "01a0632c22044ca7bbe575057807a899": {
      "model_module": "@jupyter-widgets/controls",
      "model_module_version": "1.5.0",
      "model_name": "DescriptionStyleModel",
      "state": {
       "description_width": ""
      }
     },
     "01bd4fb9f4604e48b4180c1f61f4ac5b": {
      "model_module": "@jupyter-widgets/base",
      "model_module_version": "1.2.0",
      "model_name": "LayoutModel",
      "state": {
       "grid_area": "widget085",
       "margin": "0"
      }
     },
     "01c8d4e68ab74a6bb82084950269356d": {
      "model_module": "@jupyter-widgets/controls",
      "model_module_version": "1.5.0",
      "model_name": "ProgressStyleModel",
      "state": {
       "description_width": ""
      }
     },
     "01dad334ca1a4caeb3607201d045ffbc": {
      "model_module": "@jupyter-widgets/base",
      "model_module_version": "1.2.0",
      "model_name": "LayoutModel",
      "state": {
       "grid_area": "widget024",
       "margin": "0"
      }
     },
     "02219a403ddb496dbaa63c84641773a5": {
      "model_module": "@jupyter-widgets/controls",
      "model_module_version": "1.5.0",
      "model_name": "HTMLModel",
      "state": {
       "layout": "IPY_MODEL_c3090a0283544942a13883664e986dee",
       "style": "IPY_MODEL_5c93ed6a490b47dda7b06ba921685dd6",
       "value": "<div style='background-color:white;'>&nbsp;</div>"
      }
     },
     "025dcfa5ec9d436cb45cbd6ff5d7f2af": {
      "model_module": "@jupyter-widgets/controls",
      "model_module_version": "1.5.0",
      "model_name": "HTMLModel",
      "state": {
       "layout": "IPY_MODEL_77a99f0af1a645de8c0345fa71cc93bd",
       "style": "IPY_MODEL_91c467a7c8a84c79a17f7c294293d592",
       "value": "<div style='background-color:white;'>&nbsp;</div>"
      }
     },
     "0298fb7c6fbc41d29b03c3767dfc8105": {
      "model_module": "@jupyter-widgets/base",
      "model_module_version": "1.2.0",
      "model_name": "LayoutModel",
      "state": {
       "grid_area": "widget105",
       "margin": "0"
      }
     },
     "02ab62ac38e74001b34ba746d7eccead": {
      "model_module": "@jupyter-widgets/controls",
      "model_module_version": "1.5.0",
      "model_name": "DescriptionStyleModel",
      "state": {
       "description_width": ""
      }
     },
     "02c0f3967284484bab835e503dc0cdaf": {
      "model_module": "@jupyter-widgets/base",
      "model_module_version": "1.2.0",
      "model_name": "LayoutModel",
      "state": {
       "grid_area": "widget031",
       "margin": "0"
      }
     },
     "0319e7e16b6f4bfd96ecab8ae84466f3": {
      "model_module": "@jupyter-widgets/controls",
      "model_module_version": "1.5.0",
      "model_name": "DescriptionStyleModel",
      "state": {
       "description_width": ""
      }
     },
     "0336674185b74ad0918e0ad0ec365a16": {
      "model_module": "@jupyter-widgets/base",
      "model_module_version": "1.2.0",
      "model_name": "LayoutModel",
      "state": {
       "grid_area": "widget091",
       "margin": "0"
      }
     },
     "0372cd8410dd4ad49a66af847538645b": {
      "model_module": "@jupyter-widgets/controls",
      "model_module_version": "1.5.0",
      "model_name": "DescriptionStyleModel",
      "state": {
       "description_width": ""
      }
     },
     "03888784fcff4f788c0b741a59b13796": {
      "model_module": "@jupyter-widgets/controls",
      "model_module_version": "1.5.0",
      "model_name": "HTMLModel",
      "state": {
       "layout": "IPY_MODEL_5e97e2c1059a4d6eb431cee5f36bef15",
       "style": "IPY_MODEL_2cc3d4fd95aa4a389ebbf2f56ac67626",
       "value": "<div style='background-color:white;'>&nbsp;</div>"
      }
     },
     "039c17d61fe14e3db8033651e0b06bc0": {
      "model_module": "@jupyter-widgets/controls",
      "model_module_version": "1.5.0",
      "model_name": "HTMLModel",
      "state": {
       "layout": "IPY_MODEL_49dc68f461084363b172fb663bb7b906",
       "style": "IPY_MODEL_45b43eec925e4d1fadd3b86f36534972",
       "value": "<div style='background-color:white;'>&nbsp;</div>"
      }
     },
     "0427c18d6b164223b8522e186b6f47fa": {
      "model_module": "@jupyter-widgets/base",
      "model_module_version": "1.2.0",
      "model_name": "LayoutModel",
      "state": {
       "grid_area": "widget093",
       "margin": "0"
      }
     },
     "0447d1a44deb41eb93d000ca94c1dd32": {
      "model_module": "@jupyter-widgets/controls",
      "model_module_version": "1.5.0",
      "model_name": "HTMLModel",
      "state": {
       "layout": "IPY_MODEL_cd278a83c9e3461f930ef70cfb7a6023",
       "style": "IPY_MODEL_4daf3b7f7495403bb63e4b01ff05d37c",
       "value": "<div style='background-color:white;'>&nbsp;</div>"
      }
     },
     "0494d4d30d2b4fa799a917577ec0083c": {
      "model_module": "@jupyter-widgets/base",
      "model_module_version": "1.2.0",
      "model_name": "LayoutModel",
      "state": {
       "grid_area": "widget086",
       "margin": "0"
      }
     },
     "04d719242dac4f549f120f8b81646d67": {
      "model_module": "@jupyter-widgets/controls",
      "model_module_version": "1.5.0",
      "model_name": "HTMLModel",
      "state": {
       "layout": "IPY_MODEL_9e8af3b3831848c3aa90529f1902a852",
       "style": "IPY_MODEL_0d4cbad02d4846a2b908508894c460a5",
       "value": "<div style='background-color:#6E6BF4;'>&nbsp;</div>"
      }
     },
     "04dd4fe5e0cd493eabb891577441f047": {
      "model_module": "@jupyter-widgets/base",
      "model_module_version": "1.2.0",
      "model_name": "LayoutModel",
      "state": {
       "grid_area": "widget041",
       "margin": "0"
      }
     },
     "04e57802e6a24b67a399dd6dcc31d513": {
      "model_module": "@jupyter-widgets/controls",
      "model_module_version": "1.5.0",
      "model_name": "DescriptionStyleModel",
      "state": {
       "description_width": ""
      }
     },
     "05193facde804a7aad071f3d7a34ae84": {
      "model_module": "@jupyter-widgets/controls",
      "model_module_version": "1.5.0",
      "model_name": "DescriptionStyleModel",
      "state": {
       "description_width": ""
      }
     },
     "0532d2465ead410595277824a4156c67": {
      "model_module": "@jupyter-widgets/controls",
      "model_module_version": "1.5.0",
      "model_name": "HTMLModel",
      "state": {
       "layout": "IPY_MODEL_ec9eaa0d48ce4617a3dd2ee08683af06",
       "style": "IPY_MODEL_a7af10ce750643a88d1f1f6d97a61e26",
       "value": "<div style='background-color:white;'>&nbsp;</div>"
      }
     },
     "055bcffbd26241ac83bf83bbbdba7403": {
      "model_module": "@jupyter-widgets/base",
      "model_module_version": "1.2.0",
      "model_name": "LayoutModel",
      "state": {
       "grid_area": "widget020",
       "margin": "0"
      }
     },
     "0562541300ba4e18836b12db525a4113": {
      "model_module": "@jupyter-widgets/base",
      "model_module_version": "1.2.0",
      "model_name": "LayoutModel",
      "state": {
       "grid_area": "widget022",
       "margin": "0"
      }
     },
     "0568d97870294f79be429b15a7d13871": {
      "model_module": "@jupyter-widgets/base",
      "model_module_version": "1.2.0",
      "model_name": "LayoutModel",
      "state": {
       "grid_area": "widget064",
       "margin": "0"
      }
     },
     "05986347e3f1489a93f4cd01cdc77dae": {
      "model_module": "@jupyter-widgets/base",
      "model_module_version": "1.2.0",
      "model_name": "LayoutModel",
      "state": {
       "grid_area": "widget004",
       "margin": "0"
      }
     },
     "05e8439a1fb4498e8e41b2479acbfa97": {
      "model_module": "@jupyter-widgets/base",
      "model_module_version": "1.2.0",
      "model_name": "LayoutModel",
      "state": {
       "grid_area": "widget050",
       "margin": "0"
      }
     },
     "06094906f8de4ab68ec6c7ec0f0916ef": {
      "model_module": "@jupyter-widgets/controls",
      "model_module_version": "1.5.0",
      "model_name": "HTMLModel",
      "state": {
       "layout": "IPY_MODEL_eaaace21ced54ab8940987744ecff855",
       "style": "IPY_MODEL_de5d0cf4f60d4aaba9e91d1e9198b037",
       "value": "<div style='background-color:white;'>&nbsp;</div>"
      }
     },
     "06219b927f1b4f0e887b75f18d60afc4": {
      "model_module": "@jupyter-widgets/controls",
      "model_module_version": "1.5.0",
      "model_name": "VBoxModel",
      "state": {
       "children": [
        "IPY_MODEL_f16ea9cf66a248109dc84cb6faf70ecc",
        "IPY_MODEL_fba67e9b5b574b5583aa7c12f88ff90c",
        "IPY_MODEL_70de23c9a923484fbe0cb4be02e84426"
       ],
       "layout": "IPY_MODEL_818e2baa4ebb4c6587d51c4e12f18ba0"
      }
     },
     "0697e967dcef41878b5203af7311567f": {
      "model_module": "@jupyter-widgets/base",
      "model_module_version": "1.2.0",
      "model_name": "LayoutModel",
      "state": {
       "grid_area": "widget100",
       "margin": "0"
      }
     },
     "06cf3f47606d4eca98b79989d6b13138": {
      "model_module": "@jupyter-widgets/base",
      "model_module_version": "1.2.0",
      "model_name": "LayoutModel",
      "state": {
       "grid_area": "widget052",
       "margin": "0"
      }
     },
     "06d060146d374be99c59dd800d1e2024": {
      "model_module": "@jupyter-widgets/controls",
      "model_module_version": "1.5.0",
      "model_name": "HTMLModel",
      "state": {
       "layout": "IPY_MODEL_4e84a66fe7e841f3b00cff7530cb8fa9",
       "style": "IPY_MODEL_6131412330af484ba3991ad2acdb03c4",
       "value": "<div style='background-color:white;'>&nbsp;</div>"
      }
     },
     "06edcf1025ac454b977cba6e15a475ae": {
      "model_module": "@jupyter-widgets/base",
      "model_module_version": "1.2.0",
      "model_name": "LayoutModel",
      "state": {
       "grid_area": "widget075",
       "margin": "0"
      }
     },
     "06f70f25260845ab862b001532c4544c": {
      "model_module": "@jupyter-widgets/controls",
      "model_module_version": "1.5.0",
      "model_name": "HTMLModel",
      "state": {
       "layout": "IPY_MODEL_e06fa0b983de4416a3dc5ad8edc58347",
       "style": "IPY_MODEL_25a3e07dba484b4592e836bc1c541f4b",
       "value": "<div style='background-color:white;'>&nbsp;</div>"
      }
     },
     "06fbcb5151df4ce885a57d01d87822bf": {
      "model_module": "@jupyter-widgets/controls",
      "model_module_version": "1.5.0",
      "model_name": "DescriptionStyleModel",
      "state": {
       "description_width": ""
      }
     },
     "07063dfacdd2420988ed6cf1b6e838c7": {
      "model_module": "@jupyter-widgets/base",
      "model_module_version": "1.2.0",
      "model_name": "LayoutModel",
      "state": {
       "grid_area": "widget089",
       "margin": "0"
      }
     },
     "07659ca08064445598a540daf36ae963": {
      "model_module": "@jupyter-widgets/base",
      "model_module_version": "1.2.0",
      "model_name": "LayoutModel",
      "state": {}
     },
     "076c960c73ca42db8f927634d700f9d6": {
      "model_module": "@jupyter-widgets/controls",
      "model_module_version": "1.5.0",
      "model_name": "HTMLModel",
      "state": {
       "layout": "IPY_MODEL_a6d957777eb54971b3d51ac065da4a3e",
       "style": "IPY_MODEL_a478194fa74a4f2fa34d0771fecc755c",
       "value": "<div style='background-color:#6E6BF4;'>&nbsp;</div>"
      }
     },
     "07769146c30f4bca8268e2fdae662d16": {
      "model_module": "@jupyter-widgets/base",
      "model_module_version": "1.2.0",
      "model_name": "LayoutModel",
      "state": {
       "grid_area": "widget025",
       "margin": "0"
      }
     },
     "07f01c26b73544818e3d0de01d0f753d": {
      "model_module": "@jupyter-widgets/controls",
      "model_module_version": "1.5.0",
      "model_name": "DescriptionStyleModel",
      "state": {
       "description_width": ""
      }
     },
     "07ff5a9252184ea281ccae88c1f0d116": {
      "model_module": "@jupyter-widgets/controls",
      "model_module_version": "1.5.0",
      "model_name": "HTMLModel",
      "state": {
       "layout": "IPY_MODEL_8f7144e8d52e4d2ab9a4acb644d0f06a",
       "style": "IPY_MODEL_535feee0364040cbbcf3f3b92e9da8d9",
       "value": "<div style='background-color:#6E6BF4; font-family:monospace'>&nbsp;</div>"
      }
     },
     "081a18d1577246f7aae33302fc57a08c": {
      "model_module": "@jupyter-widgets/controls",
      "model_module_version": "1.5.0",
      "model_name": "HTMLModel",
      "state": {
       "layout": "IPY_MODEL_6a646b13a1b643899da7665fbb4be3a5",
       "style": "IPY_MODEL_cfb8b5c0055a4ea99ad911318d29061c",
       "value": "<div style='background-color:white;'>&nbsp;</div>"
      }
     },
     "083df16fb9de4582a8ea0881da4ac7e6": {
      "model_module": "@jupyter-widgets/controls",
      "model_module_version": "1.5.0",
      "model_name": "HTMLModel",
      "state": {
       "layout": "IPY_MODEL_1a32d46d14764716999b184aff131a8e",
       "style": "IPY_MODEL_8f41b9e6b4a349edb7c7ba0d17230e13",
       "value": "<div style='background-color:white;'>&nbsp;</div>"
      }
     },
     "087d51fabd4145f6a9351a3a0d0436b3": {
      "model_module": "@jupyter-widgets/base",
      "model_module_version": "1.2.0",
      "model_name": "LayoutModel",
      "state": {
       "grid_area": "widget018",
       "margin": "0"
      }
     },
     "089f57251b3545b68a4787a6a53ecc5a": {
      "model_module": "@jupyter-widgets/controls",
      "model_module_version": "1.5.0",
      "model_name": "HTMLModel",
      "state": {
       "layout": "IPY_MODEL_9528c7be80a04c899695564f8e00c10c",
       "style": "IPY_MODEL_a00ce5eff04842848a4a4f64515a13d3",
       "value": "<div style='background-color:white;'>&nbsp;</div>"
      }
     },
     "08d6854272474690947119fb19165f9d": {
      "model_module": "@jupyter-widgets/controls",
      "model_module_version": "1.5.0",
      "model_name": "HTMLModel",
      "state": {
       "layout": "IPY_MODEL_0e0f2e32b2ed4b859da7933bcadd34b6",
       "style": "IPY_MODEL_56d0327ab5b5469fa8cd1cfee7d87480",
       "value": "<div style='background-color:white;'>&nbsp;</div>"
      }
     },
     "08e800cca8e7435b944c6a010668e0c9": {
      "model_module": "@jupyter-widgets/controls",
      "model_module_version": "1.5.0",
      "model_name": "HTMLModel",
      "state": {
       "layout": "IPY_MODEL_b745450f7f014fceae651dba6b9b06b5",
       "style": "IPY_MODEL_8124d8e6bb944ba68922aabf18d3c139",
       "value": "<div style='background-color:white;'>&nbsp;</div>"
      }
     },
     "090a05c0b2fc48208298d543ba0834df": {
      "model_module": "@jupyter-widgets/controls",
      "model_module_version": "1.5.0",
      "model_name": "DescriptionStyleModel",
      "state": {
       "description_width": ""
      }
     },
     "091153a4f6d748f085cd2365d52c3efc": {
      "model_module": "@jupyter-widgets/controls",
      "model_module_version": "1.5.0",
      "model_name": "DescriptionStyleModel",
      "state": {
       "description_width": ""
      }
     },
     "091f3b19b87b4abcac6c2baf15c9ae92": {
      "model_module": "@jupyter-widgets/controls",
      "model_module_version": "1.5.0",
      "model_name": "HTMLModel",
      "state": {
       "layout": "IPY_MODEL_909e9a4c0dfc4d5eb9aa7a5ca91d73de",
       "style": "IPY_MODEL_f9eafcf410594c8581e48833f4ebd588",
       "value": "<div style='background-color:white;'>&nbsp;</div>"
      }
     },
     "096364eb19b544dcaa1abd6b9dc6fd2e": {
      "model_module": "@jupyter-widgets/controls",
      "model_module_version": "1.5.0",
      "model_name": "HTMLModel",
      "state": {
       "layout": "IPY_MODEL_98ebf9802fab4bea85686ae2b05bc4fe",
       "style": "IPY_MODEL_cd8b5bf99ff24421b2ac978cc5707f88",
       "value": "<div style='background-color:#6E6BF4;'>&nbsp;</div>"
      }
     },
     "098b4d9c41de48b2abb063fb20d8c3e0": {
      "model_module": "@jupyter-widgets/controls",
      "model_module_version": "1.5.0",
      "model_name": "ProgressStyleModel",
      "state": {
       "description_width": ""
      }
     },
     "0a3f2333e211418f9403f544733a7166": {
      "model_module": "@jupyter-widgets/controls",
      "model_module_version": "1.5.0",
      "model_name": "HTMLModel",
      "state": {
       "layout": "IPY_MODEL_17a3e1191af04329b35115006522b9d6",
       "style": "IPY_MODEL_d7fce8b0d07241c6aea80b0354207a88",
       "value": "<div style='background-color:white;'>&nbsp;</div>"
      }
     },
     "0a4e3c4cf89942c89f7b40fed07e0c8f": {
      "model_module": "@jupyter-widgets/controls",
      "model_module_version": "1.5.0",
      "model_name": "DescriptionStyleModel",
      "state": {
       "description_width": ""
      }
     },
     "0a6c19d65cee421691978938b0885dac": {
      "model_module": "@jupyter-widgets/base",
      "model_module_version": "1.2.0",
      "model_name": "LayoutModel",
      "state": {
       "grid_area": "widget086",
       "margin": "0"
      }
     },
     "0a742cba5a8342cea647394a54cc2540": {
      "model_module": "@jupyter-widgets/controls",
      "model_module_version": "1.5.0",
      "model_name": "DescriptionStyleModel",
      "state": {
       "description_width": ""
      }
     },
     "0abc8e951a654f108cd4c92f4729e499": {
      "model_module": "@jupyter-widgets/base",
      "model_module_version": "1.2.0",
      "model_name": "LayoutModel",
      "state": {
       "grid_area": "widget017",
       "margin": "0"
      }
     },
     "0aed053ce4774fbe9e1fe16f99c62840": {
      "model_module": "@jupyter-widgets/base",
      "model_module_version": "1.2.0",
      "model_name": "LayoutModel",
      "state": {
       "grid_area": "widget017",
       "margin": "0"
      }
     },
     "0af422c862e54e308e12399bc61eb693": {
      "model_module": "@jupyter-widgets/controls",
      "model_module_version": "1.5.0",
      "model_name": "HTMLModel",
      "state": {
       "layout": "IPY_MODEL_bcce2fcde4834f4fb5d408fbadfe019a",
       "style": "IPY_MODEL_878cb4557c0f444ea0369c1f6a1f8b06",
       "value": "<div style='background-color:white;'>&nbsp;</div>"
      }
     },
     "0b053c8637a44c539c45189ec069e7dd": {
      "model_module": "@jupyter-widgets/controls",
      "model_module_version": "1.5.0",
      "model_name": "DescriptionStyleModel",
      "state": {
       "description_width": ""
      }
     },
     "0b38a27ff43a4a0abe088a1fac3ecd40": {
      "model_module": "@jupyter-widgets/controls",
      "model_module_version": "1.5.0",
      "model_name": "HTMLModel",
      "state": {
       "layout": "IPY_MODEL_0ccdd666eb0e4763abfda1be4aa29995",
       "style": "IPY_MODEL_4655604e97f945288a7771eb17bc7967",
       "value": "<div style='background-color:white;'>&nbsp;</div>"
      }
     },
     "0b512f3a2b8140cd8d4a97bce37cdbeb": {
      "model_module": "@jupyter-widgets/base",
      "model_module_version": "1.2.0",
      "model_name": "LayoutModel",
      "state": {
       "grid_area": "widget079",
       "margin": "0"
      }
     },
     "0b8d25b432ca485581626b89df657410": {
      "model_module": "@jupyter-widgets/controls",
      "model_module_version": "1.5.0",
      "model_name": "HTMLModel",
      "state": {
       "layout": "IPY_MODEL_2f4fb99383a7438bae3f8b2fe958328e",
       "style": "IPY_MODEL_3b7e11565c8c40ee8209a9eb43852c6b",
       "value": "<div style='background-color:#6E6BF4;'>&nbsp;</div>"
      }
     },
     "0b8feca1850c476a942febc2235e3c34": {
      "model_module": "@jupyter-widgets/base",
      "model_module_version": "1.2.0",
      "model_name": "LayoutModel",
      "state": {
       "grid_area": "widget070",
       "margin": "0"
      }
     },
     "0b979294e05e4594a105f66ac42f5f51": {
      "model_module": "@jupyter-widgets/controls",
      "model_module_version": "1.5.0",
      "model_name": "HTMLModel",
      "state": {
       "layout": "IPY_MODEL_b5aca7cbe73940de8f60a911b17ad3a7",
       "style": "IPY_MODEL_3df6df0c65ef4c71b2a1bfc5a9492a61",
       "value": "<div style='background-color:white;'>&nbsp;</div>"
      }
     },
     "0ba18eb17eee46709189d077386317b4": {
      "model_module": "@jupyter-widgets/base",
      "model_module_version": "1.2.0",
      "model_name": "LayoutModel",
      "state": {}
     },
     "0bafaa2c5b9d4dbaa5392c2876425537": {
      "model_module": "@jupyter-widgets/controls",
      "model_module_version": "1.5.0",
      "model_name": "HTMLModel",
      "state": {
       "layout": "IPY_MODEL_ea06d3bcf53f4b488c180514bb4acdca",
       "style": "IPY_MODEL_ff3de6af538b4b2b95a298ea947a4183",
       "value": "<div style='background-color:white;'>&nbsp;</div>"
      }
     },
     "0bc986a89e164058b671e8c64ab1893e": {
      "model_module": "@jupyter-widgets/controls",
      "model_module_version": "1.5.0",
      "model_name": "HTMLModel",
      "state": {
       "layout": "IPY_MODEL_6355d353e12049369bf58b7def1dd0e6",
       "style": "IPY_MODEL_ec8f5bfbf3f5445b8a4d96b39cf738ed",
       "value": "<div style='background-color:#6E6BF4;'>&nbsp;</div>"
      }
     },
     "0bdc711550e2436fb4c516db849bb2b4": {
      "model_module": "@jupyter-widgets/controls",
      "model_module_version": "1.5.0",
      "model_name": "HTMLModel",
      "state": {
       "layout": "IPY_MODEL_739ae92221c846338febf5b5fdb1cac7",
       "style": "IPY_MODEL_d08c7a04ae984649b38cb6c824632c47",
       "value": "<div style='background-color:white;'>&nbsp;</div>"
      }
     },
     "0c2a01a5b6d6495eba20f749cfa312bd": {
      "model_module": "@jupyter-widgets/base",
      "model_module_version": "1.2.0",
      "model_name": "LayoutModel",
      "state": {
       "grid_area": "widget030",
       "margin": "0"
      }
     },
     "0c6ce845d8574fb48688dcdddf52dbbc": {
      "model_module": "@jupyter-widgets/base",
      "model_module_version": "1.2.0",
      "model_name": "LayoutModel",
      "state": {
       "grid_area": "widget057",
       "margin": "0"
      }
     },
     "0c9764cf5c984903bee1f83b4ac58e18": {
      "model_module": "@jupyter-widgets/base",
      "model_module_version": "1.2.0",
      "model_name": "LayoutModel",
      "state": {
       "grid_area": "widget021",
       "margin": "0"
      }
     },
     "0cad05ee4b824ed2a6663a0405546324": {
      "model_module": "@jupyter-widgets/controls",
      "model_module_version": "1.5.0",
      "model_name": "DescriptionStyleModel",
      "state": {
       "description_width": ""
      }
     },
     "0ccdd666eb0e4763abfda1be4aa29995": {
      "model_module": "@jupyter-widgets/base",
      "model_module_version": "1.2.0",
      "model_name": "LayoutModel",
      "state": {
       "grid_area": "widget085",
       "margin": "0"
      }
     },
     "0cf8921a68e8434e9617f36cd4ad2b12": {
      "model_module": "@jupyter-widgets/controls",
      "model_module_version": "1.5.0",
      "model_name": "DescriptionStyleModel",
      "state": {
       "description_width": ""
      }
     },
     "0d441b7557124ff19a08b803f6ab740d": {
      "model_module": "@jupyter-widgets/base",
      "model_module_version": "1.2.0",
      "model_name": "LayoutModel",
      "state": {
       "grid_area": "widget066",
       "margin": "0"
      }
     },
     "0d4cbad02d4846a2b908508894c460a5": {
      "model_module": "@jupyter-widgets/controls",
      "model_module_version": "1.5.0",
      "model_name": "DescriptionStyleModel",
      "state": {
       "description_width": ""
      }
     },
     "0d4d09159b204b0b973ae86b26d6d625": {
      "model_module": "@jupyter-widgets/base",
      "model_module_version": "1.2.0",
      "model_name": "LayoutModel",
      "state": {
       "grid_area": "widget006",
       "margin": "0"
      }
     },
     "0d562c3f1d4c4b44a7296bd677f9ca11": {
      "model_module": "@jupyter-widgets/controls",
      "model_module_version": "1.5.0",
      "model_name": "DescriptionStyleModel",
      "state": {
       "description_width": ""
      }
     },
     "0d9840183246460f9922ef417b796948": {
      "model_module": "@jupyter-widgets/controls",
      "model_module_version": "1.5.0",
      "model_name": "DescriptionStyleModel",
      "state": {
       "description_width": ""
      }
     },
     "0e0f2e32b2ed4b859da7933bcadd34b6": {
      "model_module": "@jupyter-widgets/base",
      "model_module_version": "1.2.0",
      "model_name": "LayoutModel",
      "state": {
       "grid_area": "widget074",
       "margin": "0"
      }
     },
     "0ece44071bc048eb904a0146d3b6cd26": {
      "model_module": "@jupyter-widgets/controls",
      "model_module_version": "1.5.0",
      "model_name": "HTMLModel",
      "state": {
       "layout": "IPY_MODEL_687695ea60544c7a83f905738f505cf9",
       "style": "IPY_MODEL_94f76fa2b84e465385258777d19a9492",
       "value": "<div style='background-color:#6E6BF4;'>&nbsp;</div>"
      }
     },
     "0ee696a5f7404dfbac1144be6bd3d972": {
      "model_module": "@jupyter-widgets/controls",
      "model_module_version": "1.5.0",
      "model_name": "DescriptionStyleModel",
      "state": {
       "description_width": ""
      }
     },
     "0f19405689c54fdcb71607de0c3649a0": {
      "model_module": "@jupyter-widgets/controls",
      "model_module_version": "1.5.0",
      "model_name": "HTMLModel",
      "state": {
       "layout": "IPY_MODEL_31a09b05eaa7431fbb5c1646e82f327e",
       "style": "IPY_MODEL_cd7b1f4a48e54f349a3d77e47afb7f34",
       "value": "<div style='background-color:#6E6BF4;'>&nbsp;</div>"
      }
     },
     "0fa5a6478abc49439ef0ddfd18727a44": {
      "model_module": "@jupyter-widgets/controls",
      "model_module_version": "1.5.0",
      "model_name": "HTMLModel",
      "state": {
       "layout": "IPY_MODEL_b5eda5d827384dd49bf65d0919dc4120",
       "style": "IPY_MODEL_5d6e55d1e23d4ba3a423f5f422c438ae",
       "value": "<div style='background-color:white;'>&nbsp;</div>"
      }
     },
     "0fbbc5568b8843b282f6423fefbd4515": {
      "model_module": "@jupyter-widgets/controls",
      "model_module_version": "1.5.0",
      "model_name": "DescriptionStyleModel",
      "state": {
       "description_width": ""
      }
     },
     "0ff08c00682b448194b31939ca68d608": {
      "model_module": "@jupyter-widgets/base",
      "model_module_version": "1.2.0",
      "model_name": "LayoutModel",
      "state": {
       "grid_area": "widget103",
       "margin": "0"
      }
     },
     "1001f2a28f834c8db3596fd915c2cdd0": {
      "model_module": "@jupyter-widgets/controls",
      "model_module_version": "1.5.0",
      "model_name": "HTMLModel",
      "state": {
       "layout": "IPY_MODEL_615dc55c024f48319d42c2e6d4946394",
       "style": "IPY_MODEL_a5eba90a434c40e8995feb50cc604056",
       "value": "<div style='background-color:#6E6BF4;'>&nbsp;</div>"
      }
     },
     "101b5a34c3414d4bb6b5e8ae294aff4d": {
      "model_module": "@jupyter-widgets/controls",
      "model_module_version": "1.5.0",
      "model_name": "HTMLModel",
      "state": {
       "layout": "IPY_MODEL_fc37c2e4fd7a4fe58aa8c7fe44aeb219",
       "style": "IPY_MODEL_1a6c099cee8843228a01d3c96519c95b",
       "value": "<div style='background-color:white;'>&nbsp;</div>"
      }
     },
     "1042785648614c5d8b875461fbd4e1ac": {
      "model_module": "@jupyter-widgets/controls",
      "model_module_version": "1.5.0",
      "model_name": "HTMLModel",
      "state": {
       "layout": "IPY_MODEL_9956ae5d871445ddac49af4e7347bb2d",
       "style": "IPY_MODEL_4656fba968ef42109e2903300bd25e23",
       "value": "1 / 1  in 1.8 s (0:00:00 remaining)"
      }
     },
     "1044ff1bcee44f51a56e07a18978de04": {
      "model_module": "@jupyter-widgets/base",
      "model_module_version": "1.2.0",
      "model_name": "LayoutModel",
      "state": {
       "grid_area": "widget048",
       "margin": "0"
      }
     },
     "1066483a85e04a5f9b84390921cb36be": {
      "model_module": "@jupyter-widgets/controls",
      "model_module_version": "1.5.0",
      "model_name": "DescriptionStyleModel",
      "state": {
       "description_width": ""
      }
     },
     "10884ff11e01488198ede4d5e1a2ca5a": {
      "model_module": "@jupyter-widgets/base",
      "model_module_version": "1.2.0",
      "model_name": "LayoutModel",
      "state": {
       "grid_area": "widget002",
       "margin": "0"
      }
     },
     "10ae90aa0b924b7ca79b7216e46cfc6a": {
      "model_module": "@jupyter-widgets/controls",
      "model_module_version": "1.5.0",
      "model_name": "DescriptionStyleModel",
      "state": {
       "description_width": ""
      }
     },
     "10f170bcfa844e9f9fe58145bb46c0ab": {
      "model_module": "@jupyter-widgets/base",
      "model_module_version": "1.2.0",
      "model_name": "LayoutModel",
      "state": {
       "grid_area": "widget087",
       "margin": "0"
      }
     },
     "10fc3e82daec4fbcaed2e0eaf2d02180": {
      "model_module": "@jupyter-widgets/controls",
      "model_module_version": "1.5.0",
      "model_name": "HTMLModel",
      "state": {
       "layout": "IPY_MODEL_6cfeb8e8ca43438fad1512751db30a37",
       "style": "IPY_MODEL_6d2fbbdc49c14aaf937fb5dfd1a9e66c",
       "value": "<div style='background-color:#FFB858; font-weight:bold; padding-right: 2em;'>source1.spectrum.main.Powerlaw.index</div>"
      }
     },
     "10fd16767e6d4c74ab3ecf6d4359dbe6": {
      "model_module": "@jupyter-widgets/controls",
      "model_module_version": "1.5.0",
      "model_name": "HTMLModel",
      "state": {
       "layout": "IPY_MODEL_019db4aede464cb490b5e6553d5a7820",
       "style": "IPY_MODEL_beeeddf1603b4e6aab16af11feecc2f8",
       "value": "<div style='background-color:#6E6BF4;'>&nbsp;</div>"
      }
     },
     "11194d91e70a4ff88cc25c09578e7e22": {
      "model_module": "@jupyter-widgets/controls",
      "model_module_version": "1.5.0",
      "model_name": "DescriptionStyleModel",
      "state": {
       "description_width": ""
      }
     },
     "118d16e62de8430ca8784dd4eae2ea6b": {
      "model_module": "@jupyter-widgets/controls",
      "model_module_version": "1.5.0",
      "model_name": "HTMLModel",
      "state": {
       "layout": "IPY_MODEL_bc417799f1e1478b895b435616aaf816",
       "style": "IPY_MODEL_feaf6efd9ef646c29ae817eda3100340",
       "value": "<div style='background-color:white;'>&nbsp;</div>"
      }
     },
     "11cc34515b8d4451907619b4b122e908": {
      "model_module": "@jupyter-widgets/base",
      "model_module_version": "1.2.0",
      "model_name": "LayoutModel",
      "state": {
       "grid_area": "widget031",
       "margin": "0"
      }
     },
     "129619226a694585b9e5b3073d67cd61": {
      "model_module": "@jupyter-widgets/controls",
      "model_module_version": "1.5.0",
      "model_name": "HTMLModel",
      "state": {
       "layout": "IPY_MODEL_4562cb4764aa45ddbd54737db1a8828f",
       "style": "IPY_MODEL_bb9ec2e2db8a4372919dd3b10cf5c215",
       "value": "<div style='background-color:#6E6BF4; font-family:monospace'>&nbsp;</div>"
      }
     },
     "129d9c4332684909bc1a432847ac732d": {
      "model_module": "@jupyter-widgets/controls",
      "model_module_version": "1.5.0",
      "model_name": "DescriptionStyleModel",
      "state": {
       "description_width": ""
      }
     },
     "12aab8f70f3c4bcf8978c284f2242d23": {
      "model_module": "@jupyter-widgets/base",
      "model_module_version": "1.2.0",
      "model_name": "LayoutModel",
      "state": {
       "grid_area": "widget081",
       "margin": "0"
      }
     },
     "12aba537fd694cffa9a0c4894c5863c7": {
      "model_module": "@jupyter-widgets/base",
      "model_module_version": "1.2.0",
      "model_name": "LayoutModel",
      "state": {
       "grid_area": "widget018",
       "margin": "0"
      }
     },
     "12ad0891abe544ea902cd09735c2e7ea": {
      "model_module": "@jupyter-widgets/controls",
      "model_module_version": "1.5.0",
      "model_name": "HTMLModel",
      "state": {
       "layout": "IPY_MODEL_1d0b92d3d00b4249a7844a043c22b5d3",
       "style": "IPY_MODEL_1cdfde3163d74788a4df0a6e9eae8a86",
       "value": "<div style='background-color:white;'>&nbsp;</div>"
      }
     },
     "12dd1d4ab92440399f5dd9a1c52e6d4a": {
      "model_module": "@jupyter-widgets/controls",
      "model_module_version": "1.5.0",
      "model_name": "HTMLModel",
      "state": {
       "layout": "IPY_MODEL_2cab603292f5459b951a5f1b2cd51345",
       "style": "IPY_MODEL_7d32fceac09f49248ddbac9f7fa4fd44",
       "value": "<div style='background-color:white;'>&nbsp;</div>"
      }
     },
     "13094bf23d504e60a0ec1dae914df9bd": {
      "model_module": "@jupyter-widgets/controls",
      "model_module_version": "1.5.0",
      "model_name": "HTMLModel",
      "state": {
       "layout": "IPY_MODEL_1c2db8b295d04648bd6c0512d2df8eca",
       "style": "IPY_MODEL_b4bc6766dc044eae9ac50d5d3e815fa1",
       "value": "<div style='background-color:white;'>&nbsp;</div>"
      }
     },
     "1398f3d0d7604821a3a48564b959731c": {
      "model_module": "@jupyter-widgets/controls",
      "model_module_version": "1.5.0",
      "model_name": "VBoxModel",
      "state": {
       "children": [
        "IPY_MODEL_cbc780a99a0b438d89b80f0d15bcfc48",
        "IPY_MODEL_1042785648614c5d8b875461fbd4e1ac",
        "IPY_MODEL_b0d2b457218243fc9a0b992aae870a7a"
       ],
       "layout": "IPY_MODEL_a5936ea1567e476ba6514e079761cb95"
      }
     },
     "13a02640cd054dec852157ac56f69238": {
      "model_module": "@jupyter-widgets/controls",
      "model_module_version": "1.5.0",
      "model_name": "HTMLModel",
      "state": {
       "layout": "IPY_MODEL_c3b230dab4a94a259e99fb19289dc50e",
       "style": "IPY_MODEL_5e416d77f19a4f8b9be54801ba53953b",
       "value": "<div style='background-color:#6E6BF4;'>&nbsp;</div>"
      }
     },
     "13d0d0557b71473f989d9e1a634712ef": {
      "model_module": "@jupyter-widgets/controls",
      "model_module_version": "1.5.0",
      "model_name": "DescriptionStyleModel",
      "state": {
       "description_width": ""
      }
     },
     "13d42634b54f4513acdde8852f5a1562": {
      "model_module": "@jupyter-widgets/controls",
      "model_module_version": "1.5.0",
      "model_name": "DescriptionStyleModel",
      "state": {
       "description_width": ""
      }
     },
     "13ff7e8a4e904b409e3e5fc39e4b6f1c": {
      "model_module": "@jupyter-widgets/controls",
      "model_module_version": "1.5.0",
      "model_name": "HTMLModel",
      "state": {
       "layout": "IPY_MODEL_7ebef4b5a44d4b74b1fe7af5a9b33030",
       "style": "IPY_MODEL_c41d62554aa84478a6c0e945e0b46953",
       "value": "<div style='background-color:white;'>&nbsp;</div>"
      }
     },
     "1446c722561542638f352b461ed8371e": {
      "model_module": "@jupyter-widgets/controls",
      "model_module_version": "1.5.0",
      "model_name": "DescriptionStyleModel",
      "state": {
       "description_width": ""
      }
     },
     "1448d315a9fd40aea7a22c37dd146649": {
      "model_module": "@jupyter-widgets/base",
      "model_module_version": "1.2.0",
      "model_name": "LayoutModel",
      "state": {
       "grid_area": "widget106",
       "margin": "0"
      }
     },
     "14ab7001414f4ae28f45853e12719e0a": {
      "model_module": "@jupyter-widgets/controls",
      "model_module_version": "1.5.0",
      "model_name": "DescriptionStyleModel",
      "state": {
       "description_width": ""
      }
     },
     "14b5a0f9ee8645089b3fe80ef52c35fe": {
      "model_module": "@jupyter-widgets/base",
      "model_module_version": "1.2.0",
      "model_name": "LayoutModel",
      "state": {
       "grid_area": "widget064",
       "margin": "0"
      }
     },
     "14b5de21a21d4721b243e1613d0ed07f": {
      "model_module": "@jupyter-widgets/controls",
      "model_module_version": "1.5.0",
      "model_name": "DescriptionStyleModel",
      "state": {
       "description_width": ""
      }
     },
     "1530c80db23245179891f43c81c19544": {
      "model_module": "@jupyter-widgets/controls",
      "model_module_version": "1.5.0",
      "model_name": "DescriptionStyleModel",
      "state": {
       "description_width": ""
      }
     },
     "1590919e5c9b4163a58b8d6211128cd3": {
      "model_module": "@jupyter-widgets/controls",
      "model_module_version": "1.5.0",
      "model_name": "DescriptionStyleModel",
      "state": {
       "description_width": ""
      }
     },
     "1593853ae1d34443ad900077f42c742f": {
      "model_module": "@jupyter-widgets/controls",
      "model_module_version": "1.5.0",
      "model_name": "DescriptionStyleModel",
      "state": {
       "description_width": ""
      }
     },
     "15ac2bc771294b9f8bd209df0c1a0542": {
      "model_module": "@jupyter-widgets/controls",
      "model_module_version": "1.5.0",
      "model_name": "DescriptionStyleModel",
      "state": {
       "description_width": ""
      }
     },
     "15c9fb40663042e1a00223ce69d1da3c": {
      "model_module": "@jupyter-widgets/base",
      "model_module_version": "1.2.0",
      "model_name": "LayoutModel",
      "state": {
       "grid_area": "widget028",
       "margin": "0"
      }
     },
     "1600a258906441e98981148e9dfe3eb7": {
      "model_module": "@jupyter-widgets/controls",
      "model_module_version": "1.5.0",
      "model_name": "DescriptionStyleModel",
      "state": {
       "description_width": ""
      }
     },
     "163e7463c6f94026b2bf671408791461": {
      "model_module": "@jupyter-widgets/base",
      "model_module_version": "1.2.0",
      "model_name": "LayoutModel",
      "state": {
       "grid_area": "widget034",
       "margin": "0"
      }
     },
     "16627154828a465a97187e4a307b9ac7": {
      "model_module": "@jupyter-widgets/controls",
      "model_module_version": "1.5.0",
      "model_name": "HTMLModel",
      "state": {
       "layout": "IPY_MODEL_0494d4d30d2b4fa799a917577ec0083c",
       "style": "IPY_MODEL_c4e1a5f45a9949f092f950e9e2a756c9",
       "value": "<div style='background-color:white;'>&nbsp;</div>"
      }
     },
     "1673e14166c543f4854cbf8efc8cf817": {
      "model_module": "@jupyter-widgets/controls",
      "model_module_version": "1.5.0",
      "model_name": "DescriptionStyleModel",
      "state": {
       "description_width": ""
      }
     },
     "16c49491c47c486f827f7946f4f405b8": {
      "model_module": "@jupyter-widgets/controls",
      "model_module_version": "1.5.0",
      "model_name": "DescriptionStyleModel",
      "state": {
       "description_width": ""
      }
     },
     "16d5c959e25d464d872f8ee9db55bcde": {
      "model_module": "@jupyter-widgets/base",
      "model_module_version": "1.2.0",
      "model_name": "LayoutModel",
      "state": {
       "grid_area": "widget028",
       "margin": "0"
      }
     },
     "1794007bd2de4e19b0d89176afeef365": {
      "model_module": "@jupyter-widgets/base",
      "model_module_version": "1.2.0",
      "model_name": "LayoutModel",
      "state": {
       "grid_area": "widget055",
       "margin": "0"
      }
     },
     "17a3e1191af04329b35115006522b9d6": {
      "model_module": "@jupyter-widgets/base",
      "model_module_version": "1.2.0",
      "model_name": "LayoutModel",
      "state": {
       "grid_area": "widget011",
       "margin": "0"
      }
     },
     "17b40a7d42644ba29eae7415741eb167": {
      "model_module": "@jupyter-widgets/controls",
      "model_module_version": "1.5.0",
      "model_name": "HTMLModel",
      "state": {
       "layout": "IPY_MODEL_734caa4c47e34c388b0940c7435357fe",
       "style": "IPY_MODEL_25ad7eb4d8f749cbbe3b60a3c3f6e872",
       "value": "<div style='background-color:#6E6BF4;'>&nbsp;</div>"
      }
     },
     "17ccec72548040e1bfe36e5e8e108636": {
      "model_module": "@jupyter-widgets/controls",
      "model_module_version": "1.5.0",
      "model_name": "DescriptionStyleModel",
      "state": {
       "description_width": ""
      }
     },
     "180a8d830e34460db846419e796439cb": {
      "model_module": "@jupyter-widgets/controls",
      "model_module_version": "1.5.0",
      "model_name": "HTMLModel",
      "state": {
       "layout": "IPY_MODEL_db0d09b7e1554c1a93676b0ec4156929",
       "style": "IPY_MODEL_013ccfbd835843deac2003330ba6f7fa",
       "value": "+1.0"
      }
     },
     "18446a676e054ee6aead85215f6941f0": {
      "model_module": "@jupyter-widgets/controls",
      "model_module_version": "1.5.0",
      "model_name": "HTMLModel",
      "state": {
       "layout": "IPY_MODEL_38450a92de3f437c8dc42bbf399f85ff",
       "style": "IPY_MODEL_9bce47448ae14cefbc45bb3092d58660",
       "value": "<div style='background-color:white;'>&nbsp;</div>"
      }
     },
     "1845a75be0e14713bcf840bff706bfac": {
      "model_module": "@jupyter-widgets/controls",
      "model_module_version": "1.5.0",
      "model_name": "DescriptionStyleModel",
      "state": {
       "description_width": ""
      }
     },
     "188ec12d3ac44a33a0953b8922710114": {
      "model_module": "@jupyter-widgets/base",
      "model_module_version": "1.2.0",
      "model_name": "LayoutModel",
      "state": {}
     },
     "18b7dd54cf26401eb98c3df8f7c6c2c3": {
      "model_module": "@jupyter-widgets/controls",
      "model_module_version": "1.5.0",
      "model_name": "HTMLModel",
      "state": {
       "layout": "IPY_MODEL_c1a6b99a7e3346b88a83aa6cb55073f2",
       "style": "IPY_MODEL_b04e36ed19d94a0c9e5eefcffc1904fd",
       "value": "<div style='background-color:white;'>&nbsp;</div>"
      }
     },
     "18dced6f274d41aa9f0fe5891b439183": {
      "model_module": "@jupyter-widgets/controls",
      "model_module_version": "1.5.0",
      "model_name": "HTMLModel",
      "state": {
       "layout": "IPY_MODEL_6c4fb4e1f3cd448facdfaf85e5e470df",
       "style": "IPY_MODEL_a6dcfa65cbc8460387fe224897360164",
       "value": "<div style='background-color:#6E6BF4;'>&nbsp;</div>"
      }
     },
     "1912a8e1876b4deca84e8d8d5fc89e05": {
      "model_module": "@jupyter-widgets/controls",
      "model_module_version": "1.5.0",
      "model_name": "DescriptionStyleModel",
      "state": {
       "description_width": ""
      }
     },
     "19343f17f5ae4e3c80efd2921f0d73fc": {
      "model_module": "@jupyter-widgets/controls",
      "model_module_version": "1.5.0",
      "model_name": "DescriptionStyleModel",
      "state": {
       "description_width": ""
      }
     },
     "1934cbd7de434f1492fe57f7ad6bc803": {
      "model_module": "@jupyter-widgets/base",
      "model_module_version": "1.2.0",
      "model_name": "LayoutModel",
      "state": {
       "grid_area": "widget089",
       "margin": "0"
      }
     },
     "19ac485c3462409eafc1f4a63ba7a9e5": {
      "model_module": "@jupyter-widgets/controls",
      "model_module_version": "1.5.0",
      "model_name": "DescriptionStyleModel",
      "state": {
       "description_width": ""
      }
     },
     "19d71ffe116942878446bd1087ca2720": {
      "model_module": "@jupyter-widgets/controls",
      "model_module_version": "1.5.0",
      "model_name": "DescriptionStyleModel",
      "state": {
       "description_width": ""
      }
     },
     "1a32d46d14764716999b184aff131a8e": {
      "model_module": "@jupyter-widgets/base",
      "model_module_version": "1.2.0",
      "model_name": "LayoutModel",
      "state": {
       "grid_area": "widget090",
       "margin": "0"
      }
     },
     "1a41ae7ecd584283b2a47aa259d3bbdf": {
      "model_module": "@jupyter-widgets/controls",
      "model_module_version": "1.5.0",
      "model_name": "HTMLModel",
      "state": {
       "layout": "IPY_MODEL_8daa2a6dd71b43f994daeaa3022e1020",
       "style": "IPY_MODEL_37c46be904ec4a92b525bdf3ac74b526",
       "value": "<div style='background-color:#6E6BF4;'>&nbsp;</div>"
      }
     },
     "1a65c6f688f347f6bc9e472714ac6de9": {
      "model_module": "@jupyter-widgets/controls",
      "model_module_version": "1.5.0",
      "model_name": "DescriptionStyleModel",
      "state": {
       "description_width": ""
      }
     },
     "1a6c099cee8843228a01d3c96519c95b": {
      "model_module": "@jupyter-widgets/controls",
      "model_module_version": "1.5.0",
      "model_name": "DescriptionStyleModel",
      "state": {
       "description_width": ""
      }
     },
     "1a7fada51fdd479e9559a81ebe6c5870": {
      "model_module": "@jupyter-widgets/controls",
      "model_module_version": "1.5.0",
      "model_name": "HTMLModel",
      "state": {
       "layout": "IPY_MODEL_770a79e5d26e4ccdb972b066c1a66a31",
       "style": "IPY_MODEL_2836b5217936492399dd908aa10d208f",
       "value": "<div style='background-color:white;'>&nbsp;</div>"
      }
     },
     "1a9383c4afd84493a041137972c13fd0": {
      "model_module": "@jupyter-widgets/controls",
      "model_module_version": "1.5.0",
      "model_name": "DescriptionStyleModel",
      "state": {
       "description_width": ""
      }
     },
     "1ae4e6005ced43e0a2a0001692b665dc": {
      "model_module": "@jupyter-widgets/controls",
      "model_module_version": "1.5.0",
      "model_name": "DescriptionStyleModel",
      "state": {
       "description_width": ""
      }
     },
     "1b5cdc6618774b6e924b2742a64f2de5": {
      "model_module": "@jupyter-widgets/controls",
      "model_module_version": "1.5.0",
      "model_name": "DescriptionStyleModel",
      "state": {
       "description_width": ""
      }
     },
     "1bc036afc1894f0dbd83ea3333623c19": {
      "model_module": "@jupyter-widgets/controls",
      "model_module_version": "1.5.0",
      "model_name": "HTMLModel",
      "state": {
       "layout": "IPY_MODEL_c631b6a85cc74a2e87edfcae4af87c94",
       "style": "IPY_MODEL_5d59443e07014c9ab80ba874ceb58a08",
       "value": "<div style='background-color:white;'>&nbsp;</div>"
      }
     },
     "1bc6c58631d6481598f86e26b7d46818": {
      "model_module": "@jupyter-widgets/base",
      "model_module_version": "1.2.0",
      "model_name": "LayoutModel",
      "state": {
       "grid_area": "widget090",
       "margin": "0"
      }
     },
     "1c2db8b295d04648bd6c0512d2df8eca": {
      "model_module": "@jupyter-widgets/base",
      "model_module_version": "1.2.0",
      "model_name": "LayoutModel",
      "state": {
       "grid_area": "widget078",
       "margin": "0"
      }
     },
     "1c437ba234094ffd9ec67428145974e2": {
      "model_module": "@jupyter-widgets/controls",
      "model_module_version": "1.5.0",
      "model_name": "DescriptionStyleModel",
      "state": {
       "description_width": ""
      }
     },
     "1c4e408731cb4dc98dfe0b4fcdeb0f8b": {
      "model_module": "@jupyter-widgets/controls",
      "model_module_version": "1.5.0",
      "model_name": "HTMLModel",
      "state": {
       "layout": "IPY_MODEL_39417c6638724339bccf95796c89292b",
       "style": "IPY_MODEL_c70e7d7a236244f3bdb731376b9ead81",
       "value": "<div style='background-color:white;'>&nbsp;</div>"
      }
     },
     "1c7284ec88b047eebe4789c2210810f5": {
      "model_module": "@jupyter-widgets/base",
      "model_module_version": "1.2.0",
      "model_name": "LayoutModel",
      "state": {
       "grid_area": "widget098",
       "margin": "0"
      }
     },
     "1cdfde3163d74788a4df0a6e9eae8a86": {
      "model_module": "@jupyter-widgets/controls",
      "model_module_version": "1.5.0",
      "model_name": "DescriptionStyleModel",
      "state": {
       "description_width": ""
      }
     },
     "1d0b92d3d00b4249a7844a043c22b5d3": {
      "model_module": "@jupyter-widgets/base",
      "model_module_version": "1.2.0",
      "model_name": "LayoutModel",
      "state": {
       "grid_area": "widget102",
       "margin": "0"
      }
     },
     "1d2a767395d14ed69580b656d4572a05": {
      "model_module": "@jupyter-widgets/controls",
      "model_module_version": "1.5.0",
      "model_name": "DescriptionStyleModel",
      "state": {
       "description_width": ""
      }
     },
     "1d62a41d8ae54048b414c7114b473e28": {
      "model_module": "@jupyter-widgets/base",
      "model_module_version": "1.2.0",
      "model_name": "LayoutModel",
      "state": {
       "grid_area": "widget042",
       "margin": "0"
      }
     },
     "1d8e9653f1344cb4b260f4bd4770870b": {
      "model_module": "@jupyter-widgets/controls",
      "model_module_version": "1.5.0",
      "model_name": "DescriptionStyleModel",
      "state": {
       "description_width": ""
      }
     },
     "1d98d14b708847a0bafc52ba2344e337": {
      "model_module": "@jupyter-widgets/base",
      "model_module_version": "1.2.0",
      "model_name": "LayoutModel",
      "state": {
       "grid_area": "widget090",
       "margin": "0"
      }
     },
     "1da7f6fca35340cabf71057a9e1c692c": {
      "model_module": "@jupyter-widgets/controls",
      "model_module_version": "1.5.0",
      "model_name": "HTMLModel",
      "state": {
       "layout": "IPY_MODEL_9159110e990a4869894ad4844eeb3083",
       "style": "IPY_MODEL_3c7b79077416405dbf91a027b847aa61",
       "value": "<div style='background-color:#6E6BF4; font-family:monospace'>&nbsp;</div>"
      }
     },
     "1ddfb51ce7ac46acb647f1a77d72dcdd": {
      "model_module": "@jupyter-widgets/controls",
      "model_module_version": "1.5.0",
      "model_name": "HTMLModel",
      "state": {
       "layout": "IPY_MODEL_d6a1068145b343c99d45e7440615d39b",
       "style": "IPY_MODEL_499f5e90aa904f69b6347a3d86b0ec9c",
       "value": "<div style='background-color:white;'>&nbsp;</div>"
      }
     },
     "1de0996c482f4c88959f22b3ddb8c7af": {
      "model_module": "@jupyter-widgets/controls",
      "model_module_version": "1.5.0",
      "model_name": "DescriptionStyleModel",
      "state": {
       "description_width": ""
      }
     },
     "1e12d780c5b94b0480576621d031f95f": {
      "model_module": "@jupyter-widgets/controls",
      "model_module_version": "1.5.0",
      "model_name": "HTMLModel",
      "state": {
       "layout": "IPY_MODEL_07063dfacdd2420988ed6cf1b6e838c7",
       "style": "IPY_MODEL_9a989f65b7d44abc8f00ca688d021c7a",
       "value": "<div style='background-color:white;'>&nbsp;</div>"
      }
     },
     "1e3a013c7f1845ed8de636adefe706d1": {
      "model_module": "@jupyter-widgets/controls",
      "model_module_version": "1.5.0",
      "model_name": "HTMLModel",
      "state": {
       "layout": "IPY_MODEL_7ca6192dfd0b41c88175ded099a91368",
       "style": "IPY_MODEL_db41d1b9b6d2448aa5bae9db7e584d59",
       "value": "<div style='background-color:white;'>&nbsp;</div>"
      }
     },
     "1e92238d7e8f4c61b18a6a52af3bb92c": {
      "model_module": "@jupyter-widgets/controls",
      "model_module_version": "1.5.0",
      "model_name": "HTMLModel",
      "state": {
       "layout": "IPY_MODEL_b24d0abe02e74a6da3dc542a074183bb",
       "style": "IPY_MODEL_cb47034aa07b44a6a0daaf7ab986aa64",
       "value": "<div style='background-color:white;'>&nbsp;</div>"
      }
     },
     "1edabb984aaf4d0599b951e0e01b3e17": {
      "model_module": "@jupyter-widgets/controls",
      "model_module_version": "1.5.0",
      "model_name": "HTMLModel",
      "state": {
       "layout": "IPY_MODEL_ba01b7b872a64134b10302d2357454a5",
       "style": "IPY_MODEL_66f0d88ef9094288a3302c48eef2b234",
       "value": "<div style='background-color:white;'>&nbsp;</div>"
      }
     },
     "1ef1bee5b16b43aa8877b5b01d210e06": {
      "model_module": "@jupyter-widgets/controls",
      "model_module_version": "1.5.0",
      "model_name": "HTMLModel",
      "state": {
       "layout": "IPY_MODEL_49d2e1caab6b475c910f8fa4407a761c",
       "style": "IPY_MODEL_4997f0683ce34000b5fb7ec6d508ef00",
       "value": "<div style='background-color:white;'>&nbsp;</div>"
      }
     },
     "1f5522efcd0340ff92b31caebc73d87d": {
      "model_module": "@jupyter-widgets/base",
      "model_module_version": "1.2.0",
      "model_name": "LayoutModel",
      "state": {
       "grid_area": "widget077",
       "margin": "0"
      }
     },
     "1f570fc88f844b32aa729bec16e7e1fd": {
      "model_module": "@jupyter-widgets/base",
      "model_module_version": "1.2.0",
      "model_name": "LayoutModel",
      "state": {
       "grid_area": "widget065",
       "margin": "0"
      }
     },
     "1fbb39ff02fc448eb3dc0c3bc42ee8f9": {
      "model_module": "@jupyter-widgets/controls",
      "model_module_version": "1.5.0",
      "model_name": "DescriptionStyleModel",
      "state": {
       "description_width": ""
      }
     },
     "1fd4c1e36f9441898a3216a019e66a51": {
      "model_module": "@jupyter-widgets/controls",
      "model_module_version": "1.5.0",
      "model_name": "HTMLModel",
      "state": {
       "layout": "IPY_MODEL_087d51fabd4145f6a9351a3a0d0436b3",
       "style": "IPY_MODEL_3879b2e193d24073a10f653b69ed6871",
       "value": "<div style='background-color:white;'>&nbsp;</div>"
      }
     },
     "1fdb7a2457d145d4878745033e107058": {
      "model_module": "@jupyter-widgets/controls",
      "model_module_version": "1.5.0",
      "model_name": "HTMLModel",
      "state": {
       "layout": "IPY_MODEL_af99c270d0a74609bba3a2e43bd31255",
       "style": "IPY_MODEL_b208af90d0124fb2923156a00cb1b66a",
       "value": "Propagating errors : "
      }
     },
     "2002a54bbec04a979f7a3972d5e2c554": {
      "model_module": "@jupyter-widgets/controls",
      "model_module_version": "1.5.0",
      "model_name": "HTMLModel",
      "state": {
       "layout": "IPY_MODEL_a89d5681bc5a4217b9d2d0af962eac97",
       "style": "IPY_MODEL_c5facb9196174eb199e69f45ec5b3780",
       "value": "500 / 500  in 15.6 s (0:00:00 remaining)"
      }
     },
     "2002f7a4de4b46df976fb79e9fd02021": {
      "model_module": "@jupyter-widgets/controls",
      "model_module_version": "1.5.0",
      "model_name": "HTMLModel",
      "state": {
       "layout": "IPY_MODEL_abf30b0879f440fd838d6fe8a642cc05",
       "style": "IPY_MODEL_ddc2db071135403599b4d279fa6c7755",
       "value": "<div style='background-color:#6E6BF4;'>&nbsp;</div>"
      }
     },
     "20039d5c72cc41e1870596adf4dd3db6": {
      "model_module": "@jupyter-widgets/controls",
      "model_module_version": "1.5.0",
      "model_name": "DescriptionStyleModel",
      "state": {
       "description_width": ""
      }
     },
     "201dcea586014d22b1897d0005cf23e0": {
      "model_module": "@jupyter-widgets/controls",
      "model_module_version": "1.5.0",
      "model_name": "HTMLModel",
      "state": {
       "layout": "IPY_MODEL_5c3048178da146e9ad5a1c7147eed1cd",
       "style": "IPY_MODEL_9488f5e5c3d9405d9ec3d06990b1aae2",
       "value": "<div style='background-color:#6E6BF4;'>&nbsp;</div>"
      }
     },
     "2028d978897e440bb46e59ce70ab3a43": {
      "model_module": "@jupyter-widgets/controls",
      "model_module_version": "1.5.0",
      "model_name": "HTMLModel",
      "state": {
       "layout": "IPY_MODEL_828530ced3fc4617a410279d91107fff",
       "style": "IPY_MODEL_b2ea2be59fc64ed39cdf2ef9aa6a177b",
       "value": "<div style='background-color:#6E6BF4;'>&nbsp;</div>"
      }
     },
     "20452d3048b740369b53b60e63ac152b": {
      "model_module": "@jupyter-widgets/controls",
      "model_module_version": "1.5.0",
      "model_name": "HTMLModel",
      "state": {
       "layout": "IPY_MODEL_e83f6187c76c4569803c82ce2f490be7",
       "style": "IPY_MODEL_7481816d3c164405a88fe74ecbb87c05",
       "value": "<div style='background-color:white;'>&nbsp;</div>"
      }
     },
     "207f0ce0dfbf44f0bf8036f5f98a9828": {
      "model_module": "@jupyter-widgets/base",
      "model_module_version": "1.2.0",
      "model_name": "LayoutModel",
      "state": {
       "grid_area": "widget013",
       "margin": "0"
      }
     },
     "208b38cd675843eebacbafa1a822d98c": {
      "model_module": "@jupyter-widgets/controls",
      "model_module_version": "1.5.0",
      "model_name": "HTMLModel",
      "state": {
       "layout": "IPY_MODEL_8adfd94123a04b40997d7f2fe2b4d5e0",
       "style": "IPY_MODEL_db912373cce2402c9813430ec9ae5c8e",
       "value": "<div style='background-color:white;'>&nbsp;</div>"
      }
     },
     "2091306e0ecc477b982c5361082adaab": {
      "model_module": "@jupyter-widgets/base",
      "model_module_version": "1.2.0",
      "model_name": "LayoutModel",
      "state": {
       "grid_area": "widget038",
       "margin": "0"
      }
     },
     "20f858cb204741c8beb43476092207ba": {
      "model_module": "@jupyter-widgets/base",
      "model_module_version": "1.2.0",
      "model_name": "LayoutModel",
      "state": {}
     },
     "215edac9be3e406188cbf45374f98a3b": {
      "model_module": "@jupyter-widgets/base",
      "model_module_version": "1.2.0",
      "model_name": "LayoutModel",
      "state": {
       "grid_area": "widget072",
       "margin": "0"
      }
     },
     "21b80f34ede4499d8547f10b88005e0f": {
      "model_module": "@jupyter-widgets/base",
      "model_module_version": "1.2.0",
      "model_name": "LayoutModel",
      "state": {
       "grid_area": "widget061",
       "margin": "0"
      }
     },
     "21c4649a78544675874821f84eedbfab": {
      "model_module": "@jupyter-widgets/controls",
      "model_module_version": "1.5.0",
      "model_name": "DescriptionStyleModel",
      "state": {
       "description_width": ""
      }
     },
     "21ff2a898b414afaa96ec3f26b2a0d46": {
      "model_module": "@jupyter-widgets/controls",
      "model_module_version": "1.5.0",
      "model_name": "DescriptionStyleModel",
      "state": {
       "description_width": ""
      }
     },
     "222018b343d943abbbbf5347406234e7": {
      "model_module": "@jupyter-widgets/controls",
      "model_module_version": "1.5.0",
      "model_name": "DescriptionStyleModel",
      "state": {
       "description_width": ""
      }
     },
     "22a08324c54e46fda48fccc4e4b82865": {
      "model_module": "@jupyter-widgets/controls",
      "model_module_version": "1.5.0",
      "model_name": "HTMLModel",
      "state": {
       "layout": "IPY_MODEL_e50e7d8394b34ddab54d2d2716068352",
       "style": "IPY_MODEL_9e31f1a597644d22abf91db4fdef35e6",
       "value": "<div style='background-color:white;'>&nbsp;</div>"
      }
     },
     "22b9d1a43f8e4e8db58d7852ff6de8c1": {
      "model_module": "@jupyter-widgets/base",
      "model_module_version": "1.2.0",
      "model_name": "LayoutModel",
      "state": {
       "grid_area": "widget076",
       "margin": "0"
      }
     },
     "22e505fce7cf450e91a565ea1f7e8ae8": {
      "model_module": "@jupyter-widgets/controls",
      "model_module_version": "1.5.0",
      "model_name": "DescriptionStyleModel",
      "state": {
       "description_width": ""
      }
     },
     "233168855b74439493fa43eeabbf3116": {
      "model_module": "@jupyter-widgets/controls",
      "model_module_version": "1.5.0",
      "model_name": "DescriptionStyleModel",
      "state": {
       "description_width": ""
      }
     },
     "2350594a7ddb46a0aefdda0e4ad651ee": {
      "model_module": "@jupyter-widgets/controls",
      "model_module_version": "1.5.0",
      "model_name": "HTMLModel",
      "state": {
       "layout": "IPY_MODEL_6d10e9d655354262ae94563bd9a1106d",
       "style": "IPY_MODEL_587e44f55c334d7e9038d04603d66fc4",
       "value": "<div style='background-color:#6E6BF4;'>&nbsp;</div>"
      }
     },
     "235b3c6e59da445792d6ce7e00a7e61b": {
      "model_module": "@jupyter-widgets/base",
      "model_module_version": "1.2.0",
      "model_name": "LayoutModel",
      "state": {
       "grid_area": "widget047",
       "margin": "0"
      }
     },
     "2365a02cc0304c1a97a0abf3a5ae9e34": {
      "model_module": "@jupyter-widgets/base",
      "model_module_version": "1.2.0",
      "model_name": "LayoutModel",
      "state": {
       "grid_area": "widget099",
       "margin": "0"
      }
     },
     "238963116d3e4ce2928b10bbc2eafd9d": {
      "model_module": "@jupyter-widgets/base",
      "model_module_version": "1.2.0",
      "model_name": "LayoutModel",
      "state": {
       "grid_area": "widget084",
       "margin": "0"
      }
     },
     "239cbafeb93745bbb84305c61bd3c974": {
      "model_module": "@jupyter-widgets/controls",
      "model_module_version": "1.5.0",
      "model_name": "HTMLModel",
      "state": {
       "layout": "IPY_MODEL_207f0ce0dfbf44f0bf8036f5f98a9828",
       "style": "IPY_MODEL_dcc0ba4886404bb79b6735de820dba7f",
       "value": "<div style='background-color:#6E6BF4;'>&nbsp;</div>"
      }
     },
     "2451cb6f0cac47d19b4731a8020352f0": {
      "model_module": "@jupyter-widgets/controls",
      "model_module_version": "1.5.0",
      "model_name": "DescriptionStyleModel",
      "state": {
       "description_width": ""
      }
     },
     "2478793a8e424e04b2129d4aa48858e2": {
      "model_module": "@jupyter-widgets/controls",
      "model_module_version": "1.5.0",
      "model_name": "DescriptionStyleModel",
      "state": {
       "description_width": ""
      }
     },
     "24be70a9895a4e64aaad530b47641161": {
      "model_module": "@jupyter-widgets/controls",
      "model_module_version": "1.5.0",
      "model_name": "HTMLModel",
      "state": {
       "layout": "IPY_MODEL_ebbabcf5eef04cfdb7c82198bfa920a6",
       "style": "IPY_MODEL_f0d7c28c0d564cb18a9f18dd05748dd5",
       "value": "<div style='background-color:white;'>&nbsp;</div>"
      }
     },
     "24e7f0bb3d7e43478e377012cc8009e6": {
      "model_module": "@jupyter-widgets/controls",
      "model_module_version": "1.5.0",
      "model_name": "DescriptionStyleModel",
      "state": {
       "description_width": ""
      }
     },
     "24f85639396f4e998b141d5b67cc6978": {
      "model_module": "@jupyter-widgets/controls",
      "model_module_version": "1.5.0",
      "model_name": "DescriptionStyleModel",
      "state": {
       "description_width": ""
      }
     },
     "25345e700b134051b15afea33b2b9127": {
      "model_module": "@jupyter-widgets/controls",
      "model_module_version": "1.5.0",
      "model_name": "DescriptionStyleModel",
      "state": {
       "description_width": ""
      }
     },
     "25456ab35cbc4909888335135dbc8797": {
      "model_module": "@jupyter-widgets/controls",
      "model_module_version": "1.5.0",
      "model_name": "DescriptionStyleModel",
      "state": {
       "description_width": ""
      }
     },
     "255f2863eea249c6a0877df236037b46": {
      "model_module": "@jupyter-widgets/base",
      "model_module_version": "1.2.0",
      "model_name": "LayoutModel",
      "state": {
       "grid_area": "widget102",
       "margin": "0"
      }
     },
     "25a3e07dba484b4592e836bc1c541f4b": {
      "model_module": "@jupyter-widgets/controls",
      "model_module_version": "1.5.0",
      "model_name": "DescriptionStyleModel",
      "state": {
       "description_width": ""
      }
     },
     "25ad7eb4d8f749cbbe3b60a3c3f6e872": {
      "model_module": "@jupyter-widgets/controls",
      "model_module_version": "1.5.0",
      "model_name": "DescriptionStyleModel",
      "state": {
       "description_width": ""
      }
     },
     "25b8ede0d71b48f39f98cc98492a18dc": {
      "model_module": "@jupyter-widgets/controls",
      "model_module_version": "1.5.0",
      "model_name": "HTMLModel",
      "state": {
       "layout": "IPY_MODEL_54396e62c5a8489296e357efb72c45b0",
       "style": "IPY_MODEL_3f834bf2c9424823aa980a1fb6878dcd",
       "value": "<div style='background-color:white;'>&nbsp;</div>"
      }
     },
     "25f70087dc3d4cb0bffe28b7c01b17eb": {
      "model_module": "@jupyter-widgets/controls",
      "model_module_version": "1.5.0",
      "model_name": "DescriptionStyleModel",
      "state": {
       "description_width": ""
      }
     },
     "26093460796f40c3aadf5c4bcee28442": {
      "model_module": "@jupyter-widgets/controls",
      "model_module_version": "1.5.0",
      "model_name": "DescriptionStyleModel",
      "state": {
       "description_width": ""
      }
     },
     "260fc8c3ed3a47dcaf2bc4c3d69e9fec": {
      "model_module": "@jupyter-widgets/controls",
      "model_module_version": "1.5.0",
      "model_name": "DescriptionStyleModel",
      "state": {
       "description_width": ""
      }
     },
     "2661a29ea3b14e85b609399b955197d3": {
      "model_module": "@jupyter-widgets/base",
      "model_module_version": "1.2.0",
      "model_name": "LayoutModel",
      "state": {
       "grid_area": "widget053",
       "margin": "0"
      }
     },
     "26b3281e98c0488ea467e9721c05a4d8": {
      "model_module": "@jupyter-widgets/controls",
      "model_module_version": "1.5.0",
      "model_name": "DescriptionStyleModel",
      "state": {
       "description_width": ""
      }
     },
     "26fb841a2e354b0695576331108456ae": {
      "model_module": "@jupyter-widgets/controls",
      "model_module_version": "1.5.0",
      "model_name": "DescriptionStyleModel",
      "state": {
       "description_width": ""
      }
     },
     "272ba90a2df64081be11bd480b929e06": {
      "model_module": "@jupyter-widgets/controls",
      "model_module_version": "1.5.0",
      "model_name": "DescriptionStyleModel",
      "state": {
       "description_width": ""
      }
     },
     "27c4a35c5f0f4763a4bf0106bfc77cb9": {
      "model_module": "@jupyter-widgets/controls",
      "model_module_version": "1.5.0",
      "model_name": "DescriptionStyleModel",
      "state": {
       "description_width": ""
      }
     },
     "27e4673969a349bdab3441848ce11dd8": {
      "model_module": "@jupyter-widgets/controls",
      "model_module_version": "1.5.0",
      "model_name": "DescriptionStyleModel",
      "state": {
       "description_width": ""
      }
     },
     "27e914d91270411798f3be9373b05510": {
      "model_module": "@jupyter-widgets/controls",
      "model_module_version": "1.5.0",
      "model_name": "DescriptionStyleModel",
      "state": {
       "description_width": ""
      }
     },
     "281c80dc267c461f90edb51a1c5af42e": {
      "model_module": "@jupyter-widgets/controls",
      "model_module_version": "1.5.0",
      "model_name": "DescriptionStyleModel",
      "state": {
       "description_width": ""
      }
     },
     "2836b5217936492399dd908aa10d208f": {
      "model_module": "@jupyter-widgets/controls",
      "model_module_version": "1.5.0",
      "model_name": "DescriptionStyleModel",
      "state": {
       "description_width": ""
      }
     },
     "285386ecb97045d094437f8e7c191fb4": {
      "model_module": "@jupyter-widgets/base",
      "model_module_version": "1.2.0",
      "model_name": "LayoutModel",
      "state": {
       "grid_area": "widget047",
       "margin": "0"
      }
     },
     "288de75f9b474bd7afa55d534800c96d": {
      "model_module": "@jupyter-widgets/controls",
      "model_module_version": "1.5.0",
      "model_name": "HTMLModel",
      "state": {
       "layout": "IPY_MODEL_7f15ea083ead451a9419a0a3161785e2",
       "style": "IPY_MODEL_394c663b8c194b3a97f9e76c51f25ef3",
       "value": "<div style='background-color:white;'>&nbsp;</div>"
      }
     },
     "28946d6d4f5e4344892a49c28955b9fc": {
      "model_module": "@jupyter-widgets/base",
      "model_module_version": "1.2.0",
      "model_name": "LayoutModel",
      "state": {
       "grid_area": "widget030",
       "margin": "0"
      }
     },
     "28dcb446131f445587a09d97b92ce61f": {
      "model_module": "@jupyter-widgets/controls",
      "model_module_version": "1.5.0",
      "model_name": "DescriptionStyleModel",
      "state": {
       "description_width": ""
      }
     },
     "29029c9cd03046f39bc215862a55156f": {
      "model_module": "@jupyter-widgets/controls",
      "model_module_version": "1.5.0",
      "model_name": "HTMLModel",
      "state": {
       "layout": "IPY_MODEL_86e19f695a4c4f2886bbe643337ee6f8",
       "style": "IPY_MODEL_25f70087dc3d4cb0bffe28b7c01b17eb",
       "value": "<div style='background-color:white;'>&nbsp;</div>"
      }
     },
     "2924c54163b541b1aa75b1e73e3b5e1f": {
      "model_module": "@jupyter-widgets/controls",
      "model_module_version": "1.5.0",
      "model_name": "HTMLModel",
      "state": {
       "layout": "IPY_MODEL_ab0f7ca555bc410b90d80d699325fa24",
       "style": "IPY_MODEL_3656c46a826145b1a530bb92bdd5d6ac",
       "value": "+1.0e+02"
      }
     },
     "2966f7265870447a92251423c68092b7": {
      "model_module": "@jupyter-widgets/controls",
      "model_module_version": "1.5.0",
      "model_name": "HTMLModel",
      "state": {
       "layout": "IPY_MODEL_238963116d3e4ce2928b10bbc2eafd9d",
       "style": "IPY_MODEL_7a381405b4e14c6694156f0053e7779c",
       "value": "<div style='background-color:white;'>&nbsp;</div>"
      }
     },
     "296f11a426b7409cb47fb53820e7648e": {
      "model_module": "@jupyter-widgets/controls",
      "model_module_version": "1.5.0",
      "model_name": "HTMLModel",
      "state": {
       "layout": "IPY_MODEL_372b67944d744ed6bfcf3d73d775b5d2",
       "style": "IPY_MODEL_e11a6f2872d94db39d9ca5a91f751ff3",
       "value": "<div style='background-color:white;'>&nbsp;</div>"
      }
     },
     "29aaa542f5744395ac4de78ccaab9bbc": {
      "model_module": "@jupyter-widgets/base",
      "model_module_version": "1.2.0",
      "model_name": "LayoutModel",
      "state": {
       "grid_area": "widget088",
       "margin": "0"
      }
     },
     "29c52a66a7c0450db137265064c30744": {
      "model_module": "@jupyter-widgets/controls",
      "model_module_version": "1.5.0",
      "model_name": "DescriptionStyleModel",
      "state": {
       "description_width": ""
      }
     },
     "29fdfb6e9af54587a83aa9da600788ed": {
      "model_module": "@jupyter-widgets/controls",
      "model_module_version": "1.5.0",
      "model_name": "HTMLModel",
      "state": {
       "layout": "IPY_MODEL_e998360955d3439fb406c8435ddd1a24",
       "style": "IPY_MODEL_009f994506ce455da25d8935df98f8e9",
       "value": "<div style='background-color:white;'>&nbsp;</div>"
      }
     },
     "2a4665e011264a0fb6a48616bed9eb4c": {
      "model_module": "@jupyter-widgets/base",
      "model_module_version": "1.2.0",
      "model_name": "LayoutModel",
      "state": {
       "grid_area": "widget090",
       "margin": "0"
      }
     },
     "2a6d2d1f70fe467fac008e8c98248b75": {
      "model_module": "@jupyter-widgets/controls",
      "model_module_version": "1.5.0",
      "model_name": "HTMLModel",
      "state": {
       "layout": "IPY_MODEL_3976b6668be1408d8a4852c71eb6e5ef",
       "style": "IPY_MODEL_ff689313e8a34ea89548ea8bc8cde944",
       "value": "<div style='background-color:white;'>&nbsp;</div>"
      }
     },
     "2a6d8bae6ba04f68a2995bfc4b3addec": {
      "model_module": "@jupyter-widgets/controls",
      "model_module_version": "1.5.0",
      "model_name": "HTMLModel",
      "state": {
       "layout": "IPY_MODEL_56a6e9fe68de4c7388591204f4b84ee3",
       "style": "IPY_MODEL_b8d965983eb444f8a97a6f0127e502fb",
       "value": "<div style='background-color:#6E6BF4;'>&nbsp;</div>"
      }
     },
     "2aa9fa8c68354fab83190325928f0637": {
      "model_module": "@jupyter-widgets/controls",
      "model_module_version": "1.5.0",
      "model_name": "HTMLModel",
      "state": {
       "layout": "IPY_MODEL_57825cac7abc4d939dbfd4a891ad1f60",
       "style": "IPY_MODEL_db88e880b0df4ef180e1259e20b10cdd",
       "value": "<div style='background-color:#6E6BF4; font-family:monospace'>&nbsp;</div>"
      }
     },
     "2ab88bf4540641e8bf8b20b30018a888": {
      "model_module": "@jupyter-widgets/base",
      "model_module_version": "1.2.0",
      "model_name": "LayoutModel",
      "state": {
       "grid_area": "widget096",
       "margin": "0"
      }
     },
     "2abe84ac293e4fd1a91753b3613daa11": {
      "model_module": "@jupyter-widgets/controls",
      "model_module_version": "1.5.0",
      "model_name": "HTMLModel",
      "state": {
       "layout": "IPY_MODEL_362f27746f064d549b38b19a92446c9d",
       "style": "IPY_MODEL_701d974ced92412698263ea1bdc388c1",
       "value": "<div style='background-color:white;'>&nbsp;</div>"
      }
     },
     "2b0bcfae771c4cbcadc4be00ba9f5a2c": {
      "model_module": "@jupyter-widgets/controls",
      "model_module_version": "1.5.0",
      "model_name": "DescriptionStyleModel",
      "state": {
       "description_width": ""
      }
     },
     "2b1a308f97194e5493cb32caf404f736": {
      "model_module": "@jupyter-widgets/base",
      "model_module_version": "1.2.0",
      "model_name": "LayoutModel",
      "state": {
       "grid_area": "widget041",
       "margin": "0"
      }
     },
     "2b2107376281407887ae50986a7e293f": {
      "model_module": "@jupyter-widgets/controls",
      "model_module_version": "1.5.0",
      "model_name": "DescriptionStyleModel",
      "state": {
       "description_width": ""
      }
     },
     "2b88c777aa4348109985fb56529d2759": {
      "model_module": "@jupyter-widgets/controls",
      "model_module_version": "1.5.0",
      "model_name": "HTMLModel",
      "state": {
       "layout": "IPY_MODEL_6c8c05bcdb7048668a895a0d0196b61f",
       "style": "IPY_MODEL_758027a4d2834c85b76e75ae519ad792",
       "value": "<div style='background-color:#6E6BF4;'>&nbsp;</div>"
      }
     },
     "2ba3e5fe60184ec491c37331cca7d6b4": {
      "model_module": "@jupyter-widgets/controls",
      "model_module_version": "1.5.0",
      "model_name": "HTMLModel",
      "state": {
       "layout": "IPY_MODEL_4ae304a51b134e00b0c89bc0b5aaf9dd",
       "style": "IPY_MODEL_8c4d415e7e8d49c094f0f028462ae9b1",
       "value": "<div style='background-color:white;'>&nbsp;</div>"
      }
     },
     "2bacefa6608c46d799e1197cdd462e6b": {
      "model_module": "@jupyter-widgets/base",
      "model_module_version": "1.2.0",
      "model_name": "LayoutModel",
      "state": {
       "grid_area": "widget078",
       "margin": "0"
      }
     },
     "2c14e698b91c4bd0b59f7d8bcdf20126": {
      "model_module": "@jupyter-widgets/base",
      "model_module_version": "1.2.0",
      "model_name": "LayoutModel",
      "state": {
       "grid_area": "widget038",
       "margin": "0"
      }
     },
     "2c2e1e9d17de460db77f4108804cddec": {
      "model_module": "@jupyter-widgets/controls",
      "model_module_version": "1.5.0",
      "model_name": "DescriptionStyleModel",
      "state": {
       "description_width": ""
      }
     },
     "2c6e6c5b45ad49c3a672c7c4ab8331df": {
      "model_module": "@jupyter-widgets/controls",
      "model_module_version": "1.5.0",
      "model_name": "DescriptionStyleModel",
      "state": {
       "description_width": ""
      }
     },
     "2c87a1299ead4c3481547c29550a5def": {
      "model_module": "@jupyter-widgets/controls",
      "model_module_version": "1.5.0",
      "model_name": "DescriptionStyleModel",
      "state": {
       "description_width": ""
      }
     },
     "2cab603292f5459b951a5f1b2cd51345": {
      "model_module": "@jupyter-widgets/base",
      "model_module_version": "1.2.0",
      "model_name": "LayoutModel",
      "state": {
       "grid_area": "widget039",
       "margin": "0"
      }
     },
     "2cc3d4fd95aa4a389ebbf2f56ac67626": {
      "model_module": "@jupyter-widgets/controls",
      "model_module_version": "1.5.0",
      "model_name": "DescriptionStyleModel",
      "state": {
       "description_width": ""
      }
     },
     "2cd0e21168f646ac86b1599560d4ae08": {
      "model_module": "@jupyter-widgets/base",
      "model_module_version": "1.2.0",
      "model_name": "LayoutModel",
      "state": {
       "grid_area": "widget004",
       "margin": "0"
      }
     },
     "2cfea8ae72054eaab29dc79b334f9c2c": {
      "model_module": "@jupyter-widgets/base",
      "model_module_version": "1.2.0",
      "model_name": "LayoutModel",
      "state": {
       "grid_area": "widget092",
       "margin": "0"
      }
     },
     "2d071cea8ce84a74b56f561c53977b2b": {
      "model_module": "@jupyter-widgets/base",
      "model_module_version": "1.2.0",
      "model_name": "LayoutModel",
      "state": {
       "grid_area": "widget031",
       "margin": "0"
      }
     },
     "2d54a2422ef8414494925bf256036a73": {
      "model_module": "@jupyter-widgets/controls",
      "model_module_version": "1.5.0",
      "model_name": "DescriptionStyleModel",
      "state": {
       "description_width": ""
      }
     },
     "2dc0dd9baef34ad5816a7bb62316ce8e": {
      "model_module": "@jupyter-widgets/base",
      "model_module_version": "1.2.0",
      "model_name": "LayoutModel",
      "state": {
       "grid_area": "widget028",
       "margin": "0"
      }
     },
     "2de83ee18a824dc4a7b60d698fa734cf": {
      "model_module": "@jupyter-widgets/controls",
      "model_module_version": "1.5.0",
      "model_name": "HTMLModel",
      "state": {
       "layout": "IPY_MODEL_522fa91c568648178125ef4ff8231f7a",
       "style": "IPY_MODEL_f5c44329b7b140b78a39efb683ea6b31",
       "value": "<div style='background-color:white;'>&nbsp;</div>"
      }
     },
     "2e13721786fe45628ad3eccef3e505cc": {
      "model_module": "@jupyter-widgets/controls",
      "model_module_version": "1.5.0",
      "model_name": "HTMLModel",
      "state": {
       "layout": "IPY_MODEL_5a47b2e11686485a86357ce7cf7bd0a6",
       "style": "IPY_MODEL_787235228e4a48ab81f01457b68f2f95",
       "value": "-0.00"
      }
     },
     "2ed427aa3bac4b59b70bf88dc02a0940": {
      "model_module": "@jupyter-widgets/base",
      "model_module_version": "1.2.0",
      "model_name": "LayoutModel",
      "state": {
       "grid_area": "widget075",
       "margin": "0"
      }
     },
     "2f3af919d3d64996bc2f1b621660a654": {
      "model_module": "@jupyter-widgets/base",
      "model_module_version": "1.2.0",
      "model_name": "LayoutModel",
      "state": {
       "grid_area": "widget055",
       "margin": "0"
      }
     },
     "2f4fb99383a7438bae3f8b2fe958328e": {
      "model_module": "@jupyter-widgets/base",
      "model_module_version": "1.2.0",
      "model_name": "LayoutModel",
      "state": {
       "grid_area": "widget060",
       "margin": "0"
      }
     },
     "2f5e2d33533844c6b0237553c15778b9": {
      "model_module": "@jupyter-widgets/base",
      "model_module_version": "1.2.0",
      "model_name": "LayoutModel",
      "state": {
       "grid_area": "widget052",
       "margin": "0"
      }
     },
     "2ff19659219d4d15a9729aac61e38525": {
      "model_module": "@jupyter-widgets/base",
      "model_module_version": "1.2.0",
      "model_name": "LayoutModel",
      "state": {
       "grid_area": "widget067",
       "margin": "0"
      }
     },
     "300c5d0bcea441798f154d7eadf26064": {
      "model_module": "@jupyter-widgets/base",
      "model_module_version": "1.2.0",
      "model_name": "LayoutModel",
      "state": {
       "grid_area": "widget029",
       "margin": "0"
      }
     },
     "302a08e41ebd49a592ab291f15064945": {
      "model_module": "@jupyter-widgets/controls",
      "model_module_version": "1.5.0",
      "model_name": "DescriptionStyleModel",
      "state": {
       "description_width": ""
      }
     },
     "304cda75d6a34273bf6e3949bc9e976e": {
      "model_module": "@jupyter-widgets/base",
      "model_module_version": "1.2.0",
      "model_name": "LayoutModel",
      "state": {
       "grid_area": "widget022",
       "margin": "0"
      }
     },
     "30782656420e49a39e655969e88c48ef": {
      "model_module": "@jupyter-widgets/base",
      "model_module_version": "1.2.0",
      "model_name": "LayoutModel",
      "state": {
       "grid_area": "widget069",
       "margin": "0"
      }
     },
     "307f41692b6f4ab9aa7280c1ca164516": {
      "model_module": "@jupyter-widgets/controls",
      "model_module_version": "1.5.0",
      "model_name": "HTMLModel",
      "state": {
       "layout": "IPY_MODEL_a2a3620434c14649812a599908c349c4",
       "style": "IPY_MODEL_90bea509f8fe40e28c2096f043ea89ed",
       "value": "<div style='background-color:white;'>&nbsp;</div>"
      }
     },
     "30a45fe287ee42fbad135a75c2fda118": {
      "model_module": "@jupyter-widgets/controls",
      "model_module_version": "1.5.0",
      "model_name": "HTMLModel",
      "state": {
       "layout": "IPY_MODEL_73f1b4603e024b56a5664cde141aec7e",
       "style": "IPY_MODEL_1d8e9653f1344cb4b260f4bd4770870b",
       "value": "<div style='background-color:white;'>&nbsp;</div>"
      }
     },
     "30e1cbc99b90464ab1f76c1d8ae72f46": {
      "model_module": "@jupyter-widgets/controls",
      "model_module_version": "1.5.0",
      "model_name": "HTMLModel",
      "state": {
       "layout": "IPY_MODEL_0568d97870294f79be429b15a7d13871",
       "style": "IPY_MODEL_46de40e1269a4ffcafd1a612853a3e46",
       "value": "<div style='background-color:white;'>&nbsp;</div>"
      }
     },
     "312b27bc023143a7b8520948b5401f22": {
      "model_module": "@jupyter-widgets/base",
      "model_module_version": "1.2.0",
      "model_name": "LayoutModel",
      "state": {
       "grid_area": "widget062",
       "margin": "0"
      }
     },
     "3143e396655e49e789188a41fbbdeb6d": {
      "model_module": "@jupyter-widgets/controls",
      "model_module_version": "1.5.0",
      "model_name": "DescriptionStyleModel",
      "state": {
       "description_width": ""
      }
     },
     "31a09b05eaa7431fbb5c1646e82f327e": {
      "model_module": "@jupyter-widgets/base",
      "model_module_version": "1.2.0",
      "model_name": "LayoutModel",
      "state": {
       "grid_area": "widget069",
       "margin": "0"
      }
     },
     "31a4a79ba2a241dc8a546d13f0b9619c": {
      "model_module": "@jupyter-widgets/controls",
      "model_module_version": "1.5.0",
      "model_name": "DescriptionStyleModel",
      "state": {
       "description_width": ""
      }
     },
     "3206f5fe4ad54c18942cb9497b8c9a79": {
      "model_module": "@jupyter-widgets/controls",
      "model_module_version": "1.5.0",
      "model_name": "DescriptionStyleModel",
      "state": {
       "description_width": ""
      }
     },
     "3224f69cada343038f423548524e0371": {
      "model_module": "@jupyter-widgets/controls",
      "model_module_version": "1.5.0",
      "model_name": "HTMLModel",
      "state": {
       "layout": "IPY_MODEL_6d21a3d9b9af4abb83e3a8e42d4b376a",
       "style": "IPY_MODEL_b0947b9d1e0146c580d5a019eca25521",
       "value": "<div style='background-color:white;'>&nbsp;</div>"
      }
     },
     "325f22f921a643ee99716d1b2a7f5ba3": {
      "model_module": "@jupyter-widgets/controls",
      "model_module_version": "1.5.0",
      "model_name": "HTMLModel",
      "state": {
       "layout": "IPY_MODEL_3bb78faf8c3f4cf0b20445563bb41370",
       "style": "IPY_MODEL_ebad89d4cbb74dea88d067d4af941e3e",
       "value": "<div style='background-color:white;'>&nbsp;</div>"
      }
     },
     "328b419f32ec4f68981629e6dd683765": {
      "model_module": "@jupyter-widgets/controls",
      "model_module_version": "1.5.0",
      "model_name": "DescriptionStyleModel",
      "state": {
       "description_width": ""
      }
     },
     "329c018adaea46c6a1b3ee804bf4f774": {
      "model_module": "@jupyter-widgets/controls",
      "model_module_version": "1.5.0",
      "model_name": "GridBoxModel",
      "state": {
       "children": [
        "IPY_MODEL_f78bc20d1ab24acebbbbf3bd834c549c",
        "IPY_MODEL_f6f123fd825b44aca421bb7ec114a5f2",
        "IPY_MODEL_366e0c8aca234697b58cf3bbb100c2ab",
        "IPY_MODEL_613bf842bcd44482a88fa48257ccca36",
        "IPY_MODEL_92b9273bdf7746fb9e2bea1f1009ef27",
        "IPY_MODEL_4ca3a5fd9f524240a2c38c59fb164dc2",
        "IPY_MODEL_f42775aeff844e6c87df7c948ebcc343",
        "IPY_MODEL_96b018771d9a479f965c6b51ee922074",
        "IPY_MODEL_cb682ec5f73a48f782da926a0b7e0858",
        "IPY_MODEL_40638b2808784c11b4bad992b81213fb",
        "IPY_MODEL_a0bbfcacd8454534aeec080d4707aaf0",
        "IPY_MODEL_a1a97dda08684640835b912ae3acdf65",
        "IPY_MODEL_1edabb984aaf4d0599b951e0e01b3e17",
        "IPY_MODEL_f0e1b0ae0f6b4ae0a6b5cc2996458385",
        "IPY_MODEL_02219a403ddb496dbaa63c84641773a5",
        "IPY_MODEL_325f22f921a643ee99716d1b2a7f5ba3",
        "IPY_MODEL_404b5e87d9544ca3bb70b8bfcf9ac754",
        "IPY_MODEL_471628fdfc6d465494a450eebfbeacb2",
        "IPY_MODEL_0bdc711550e2436fb4c516db849bb2b4",
        "IPY_MODEL_64992d0009be4f8fa2dd0d46d40f0f94",
        "IPY_MODEL_5750069ee6824b15bedbdc912d52c6d8",
        "IPY_MODEL_64f0912d6ad7455b9ea169bebde0f3e9",
        "IPY_MODEL_ff4d4c6c3ec24d55b0d3f0a9246c9e0f",
        "IPY_MODEL_65d55efaf6c04316b0c67dc5d5cc85bc",
        "IPY_MODEL_86d8e51c08d243fe8d674554e66a7c06",
        "IPY_MODEL_ca4f3876e5914a4cb952c9d884c0df1f",
        "IPY_MODEL_0af422c862e54e308e12399bc61eb693",
        "IPY_MODEL_489384eed21a45cc8f6cdca6911427e9",
        "IPY_MODEL_2de83ee18a824dc4a7b60d698fa734cf",
        "IPY_MODEL_e2e2628c9acf4cf09c6b7546a432194e",
        "IPY_MODEL_6479f1351a184c70981b6d2397200a9a",
        "IPY_MODEL_94a4231a750a4d19884910be533e02de",
        "IPY_MODEL_413988457b9c4d56ab81ef4f10881632",
        "IPY_MODEL_2ba3e5fe60184ec491c37331cca7d6b4",
        "IPY_MODEL_e913b260cab34fae93fb80d56452fe82",
        "IPY_MODEL_8fb65aee0d29426cb999e632d7732540",
        "IPY_MODEL_03888784fcff4f788c0b741a59b13796",
        "IPY_MODEL_e2530adcdcf945e6a0c6bcb5f101cb25",
        "IPY_MODEL_631b57f2b388442ba05a2ce744ddd45d",
        "IPY_MODEL_4b7c17ee8a4a4da288fe2c232d847baa",
        "IPY_MODEL_eb73691177ce46dbac267d5b61a26d45",
        "IPY_MODEL_799786dfd829441a8acfc4b154c9122a",
        "IPY_MODEL_433adee5d4f04b88a070ed7c70ac334e",
        "IPY_MODEL_fd55d29c190d4e46b42f9889f9aaceed",
        "IPY_MODEL_4e81f1389c074d429c7679a8d6d6a372",
        "IPY_MODEL_6221a5f58df543688f8a112d1109bfb1",
        "IPY_MODEL_9d5eea4f05954434821df524e6436e3b",
        "IPY_MODEL_fec2389c09344278a2d943cd31b2e355",
        "IPY_MODEL_3224f69cada343038f423548524e0371",
        "IPY_MODEL_9d14d5a8093c48e0bb6031d1726e6d87",
        "IPY_MODEL_ab62547904ba48f59e27204be1d67ca3",
        "IPY_MODEL_926cfee69f5d4a65bf4c4771ab5f4ea5",
        "IPY_MODEL_89b077c887d44fb3af711cfd5d7b53d5",
        "IPY_MODEL_d2b9d60b85444a91bd05962c5eb58252",
        "IPY_MODEL_d187c74a873c4791b4eaefd138b6d802",
        "IPY_MODEL_cced0ebb41314ecc983568b60b642c50",
        "IPY_MODEL_a3e8f36c48e94ddcac4447a756f6cd78",
        "IPY_MODEL_091f3b19b87b4abcac6c2baf15c9ae92",
        "IPY_MODEL_1c4e408731cb4dc98dfe0b4fcdeb0f8b",
        "IPY_MODEL_e99176afb5b6419ca2b52b8601836f10",
        "IPY_MODEL_5f0df1e622244c96a44f01f5f1189650",
        "IPY_MODEL_24be70a9895a4e64aaad530b47641161",
        "IPY_MODEL_343132911cf14717baa5176dd619171b",
        "IPY_MODEL_30e1cbc99b90464ab1f76c1d8ae72f46",
        "IPY_MODEL_a157f9c38be64ada8767670744b3ce25",
        "IPY_MODEL_081a18d1577246f7aae33302fc57a08c",
        "IPY_MODEL_5889b3bcf33d494385fee9b0c5bb97ef",
        "IPY_MODEL_1e3a013c7f1845ed8de636adefe706d1",
        "IPY_MODEL_2abe84ac293e4fd1a91753b3613daa11",
        "IPY_MODEL_5fa2f44ece1d4aebb4c3462ccc85a3f5",
        "IPY_MODEL_c8f36d5c02ee41a1bf86d2675bd86347",
        "IPY_MODEL_0447d1a44deb41eb93d000ca94c1dd32",
        "IPY_MODEL_49f440ab05894368a333534fa602ed7d",
        "IPY_MODEL_491b6ac82f904246a835022bab507354",
        "IPY_MODEL_25b8ede0d71b48f39f98cc98492a18dc",
        "IPY_MODEL_8db7523ecba94d45b836248c295098ef",
        "IPY_MODEL_4d2657fa401b468f9a86749311968fa7",
        "IPY_MODEL_d53a830fc08e4488a1e4094469fe408a",
        "IPY_MODEL_49fa5a34320a4709a1105c4636d08549",
        "IPY_MODEL_3464ca0239f840f495d037db1f5316f9",
        "IPY_MODEL_5489a9d721ac41e2beb1a355e4049a0e",
        "IPY_MODEL_df809db404e04ad7ba5a3396b9c612b9",
        "IPY_MODEL_296f11a426b7409cb47fb53820e7648e",
        "IPY_MODEL_b88d7275e95241c0a9ebee7d5ac5a2e6",
        "IPY_MODEL_0b38a27ff43a4a0abe088a1fac3ecd40",
        "IPY_MODEL_16627154828a465a97187e4a307b9ac7",
        "IPY_MODEL_8d22e050384a4dba889d519dc48578a7",
        "IPY_MODEL_7f8abd51759d4a4b880ebed31d81d794",
        "IPY_MODEL_1e12d780c5b94b0480576621d031f95f",
        "IPY_MODEL_393158a9e6dd40a69cde9a634d8541c7",
        "IPY_MODEL_13ff7e8a4e904b409e3e5fc39e4b6f1c",
        "IPY_MODEL_bdd7e70e1bd04c3dab870eea3223fc98",
        "IPY_MODEL_a7d93df7c7b046f79febedb5201d25e3",
        "IPY_MODEL_5cb5e772d27e4f1e8af118f0aebc1858",
        "IPY_MODEL_ce46d513ebfc496fb68081936c94cb42",
        "IPY_MODEL_413b38a78626427d84593b2623257c8e",
        "IPY_MODEL_e01274a4cba34bf1b189d7cda0e7179c",
        "IPY_MODEL_208b38cd675843eebacbafa1a822d98c",
        "IPY_MODEL_a70151eee31a4d4eb04e2d31b50fd846",
        "IPY_MODEL_86dfeba19a634df0919c884e0bcc5d6e",
        "IPY_MODEL_6ad354148c974c84b1a7bf6c29120a19",
        "IPY_MODEL_12ad0891abe544ea902cd09735c2e7ea",
        "IPY_MODEL_6f5ea4cf7ef346bb8705aa042ad19d29",
        "IPY_MODEL_10fc3e82daec4fbcaed2e0eaf2d02180",
        "IPY_MODEL_4e0cef185f324a73a1ac1afeff3089af",
        "IPY_MODEL_2e13721786fe45628ad3eccef3e505cc"
       ],
       "layout": "IPY_MODEL_6463431e67354afcb9e59c48baa797e0"
      }
     },
     "330b64be8f2147e18dc6563b021827be": {
      "model_module": "@jupyter-widgets/controls",
      "model_module_version": "1.5.0",
      "model_name": "HTMLModel",
      "state": {
       "layout": "IPY_MODEL_4c5b338fd9e54ec3a3de916533e7df7d",
       "style": "IPY_MODEL_4f4b3d14a08940feabc3a94f555232fb",
       "value": "<div style='background-color:white;'>&nbsp;</div>"
      }
     },
     "33217f6a1f204e53baaa0f0a0f26a4df": {
      "model_module": "@jupyter-widgets/controls",
      "model_module_version": "1.5.0",
      "model_name": "HTMLModel",
      "state": {
       "layout": "IPY_MODEL_4fd35320438048ebb63063b19d3795db",
       "style": "IPY_MODEL_72611173ba994ca196a4f4cda3950f7c",
       "value": "<div style='background-color:white;'>&nbsp;</div>"
      }
     },
     "3329025799184dd0b233774da101509a": {
      "model_module": "@jupyter-widgets/controls",
      "model_module_version": "1.5.0",
      "model_name": "HTMLModel",
      "state": {
       "layout": "IPY_MODEL_bd088ae3ea274f2186d85de2ddc42772",
       "style": "IPY_MODEL_b40a366fe6174d6ea351d8dd1503db09",
       "value": "<div style='background-color:white;'>&nbsp;</div>"
      }
     },
     "3353708035364029bc9e35a00b88a2dc": {
      "model_module": "@jupyter-widgets/controls",
      "model_module_version": "1.5.0",
      "model_name": "HTMLModel",
      "state": {
       "layout": "IPY_MODEL_d7081411be77484294b3c1a5df12dda2",
       "style": "IPY_MODEL_b328cae6dfce44ffaf218c91f83f0468",
       "value": "<div style='background-color:#6E6BF4; font-family:monospace'>&nbsp;</div>"
      }
     },
     "3388d3e1cf8248a78be435feb141560a": {
      "model_module": "@jupyter-widgets/controls",
      "model_module_version": "1.5.0",
      "model_name": "HTMLModel",
      "state": {
       "layout": "IPY_MODEL_98a84f85d4f646829bb1e2f0d938faa2",
       "style": "IPY_MODEL_57c5d530a9e34441afb99c565238af03",
       "value": "<div style='background-color:#6E6BF4;'>&nbsp;</div>"
      }
     },
     "33b2ae7001eb489997c799ed2a5bcd4c": {
      "model_module": "@jupyter-widgets/controls",
      "model_module_version": "1.5.0",
      "model_name": "HTMLModel",
      "state": {
       "layout": "IPY_MODEL_ffb1bf05a5614e94806565d552b053c0",
       "style": "IPY_MODEL_ef149158513d486a9238468d7f614833",
       "value": "<div style='background-color:white;'>&nbsp;</div>"
      }
     },
     "34148271e0d9402396a358d8067c0204": {
      "model_module": "@jupyter-widgets/base",
      "model_module_version": "1.2.0",
      "model_name": "LayoutModel",
      "state": {
       "grid_area": "widget024",
       "margin": "0"
      }
     },
     "343132911cf14717baa5176dd619171b": {
      "model_module": "@jupyter-widgets/controls",
      "model_module_version": "1.5.0",
      "model_name": "HTMLModel",
      "state": {
       "layout": "IPY_MODEL_a354dc5873cb4a9690e90478bde8b182",
       "style": "IPY_MODEL_d8b5390775b64038ba61b0b6186a6ca0",
       "value": "<div style='background-color:white;'>&nbsp;</div>"
      }
     },
     "34519fecc90a44b992659708440de388": {
      "model_module": "@jupyter-widgets/controls",
      "model_module_version": "1.5.0",
      "model_name": "DescriptionStyleModel",
      "state": {
       "description_width": ""
      }
     },
     "3464ca0239f840f495d037db1f5316f9": {
      "model_module": "@jupyter-widgets/controls",
      "model_module_version": "1.5.0",
      "model_name": "HTMLModel",
      "state": {
       "layout": "IPY_MODEL_db0f63ae76d441e097d1a6052e2bb1d4",
       "style": "IPY_MODEL_3b79d5c4121d4dbcb0fa68f07b2b9281",
       "value": "<div style='background-color:white;'>&nbsp;</div>"
      }
     },
     "34b5c1812d2a4f5098dc0649df06b42d": {
      "model_module": "@jupyter-widgets/base",
      "model_module_version": "1.2.0",
      "model_name": "LayoutModel",
      "state": {
       "grid_area": "widget094",
       "margin": "0"
      }
     },
     "34c7b4f19ee843c69db0d684d833b4d2": {
      "model_module": "@jupyter-widgets/controls",
      "model_module_version": "1.5.0",
      "model_name": "DescriptionStyleModel",
      "state": {
       "description_width": ""
      }
     },
     "34dcadc92b374a5cae892889db71bcac": {
      "model_module": "@jupyter-widgets/controls",
      "model_module_version": "1.5.0",
      "model_name": "DescriptionStyleModel",
      "state": {
       "description_width": ""
      }
     },
     "35efb93a4c0440db8a3aa9210898a756": {
      "model_module": "@jupyter-widgets/controls",
      "model_module_version": "1.5.0",
      "model_name": "HTMLModel",
      "state": {
       "layout": "IPY_MODEL_79bd5c9d55424aa88849022f3435bdc2",
       "style": "IPY_MODEL_85cc9399104a44958f0e1ea6f8836b0b",
       "value": "<div style='background-color:white;'>&nbsp;</div>"
      }
     },
     "360c3362cd2c4146b266a5a775f02920": {
      "model_module": "@jupyter-widgets/controls",
      "model_module_version": "1.5.0",
      "model_name": "HTMLModel",
      "state": {
       "layout": "IPY_MODEL_01dad334ca1a4caeb3607201d045ffbc",
       "style": "IPY_MODEL_0149b985002e43019aea6bacecabf799",
       "value": "<div style='background-color:white;'>&nbsp;</div>"
      }
     },
     "362f27746f064d549b38b19a92446c9d": {
      "model_module": "@jupyter-widgets/base",
      "model_module_version": "1.2.0",
      "model_name": "LayoutModel",
      "state": {
       "grid_area": "widget069",
       "margin": "0"
      }
     },
     "3656c46a826145b1a530bb92bdd5d6ac": {
      "model_module": "@jupyter-widgets/controls",
      "model_module_version": "1.5.0",
      "model_name": "DescriptionStyleModel",
      "state": {
       "description_width": ""
      }
     },
     "366e0c8aca234697b58cf3bbb100c2ab": {
      "model_module": "@jupyter-widgets/controls",
      "model_module_version": "1.5.0",
      "model_name": "HTMLModel",
      "state": {
       "layout": "IPY_MODEL_f346e47e0b274e499397640edee85df5",
       "style": "IPY_MODEL_4e02b565a66646598d20c9d38fbcd2ba",
       "value": "<div style='background-color:white;'>&nbsp;</div>"
      }
     },
     "36742747ef924b59963ab99f7068c720": {
      "model_module": "@jupyter-widgets/base",
      "model_module_version": "1.2.0",
      "model_name": "LayoutModel",
      "state": {
       "grid_area": "widget067",
       "margin": "0"
      }
     },
     "36826a7379a2415984c85acd2035706d": {
      "model_module": "@jupyter-widgets/controls",
      "model_module_version": "1.5.0",
      "model_name": "DescriptionStyleModel",
      "state": {
       "description_width": ""
      }
     },
     "3685656b73b04b6ca65b29b9008254ef": {
      "model_module": "@jupyter-widgets/base",
      "model_module_version": "1.2.0",
      "model_name": "LayoutModel",
      "state": {
       "grid_area": "widget046",
       "margin": "0"
      }
     },
     "369b69773c0c4825b3ad4b962edc05e6": {
      "model_module": "@jupyter-widgets/controls",
      "model_module_version": "1.5.0",
      "model_name": "DescriptionStyleModel",
      "state": {
       "description_width": ""
      }
     },
     "36a9085b13ce42f398b1746fa176edf3": {
      "model_module": "@jupyter-widgets/base",
      "model_module_version": "1.2.0",
      "model_name": "LayoutModel",
      "state": {
       "grid_area": "widget018",
       "margin": "0"
      }
     },
     "36fa2cff2a794c5eb0b01fb08d7d4073": {
      "model_module": "@jupyter-widgets/controls",
      "model_module_version": "1.5.0",
      "model_name": "DescriptionStyleModel",
      "state": {
       "description_width": ""
      }
     },
     "372b67944d744ed6bfcf3d73d775b5d2": {
      "model_module": "@jupyter-widgets/base",
      "model_module_version": "1.2.0",
      "model_name": "LayoutModel",
      "state": {
       "grid_area": "widget083",
       "margin": "0"
      }
     },
     "37313406e06b4182b49b8aa89959caea": {
      "model_module": "@jupyter-widgets/base",
      "model_module_version": "1.2.0",
      "model_name": "LayoutModel",
      "state": {
       "grid_area": "widget074",
       "margin": "0"
      }
     },
     "374fa5aac36a42c580fb8fc44f14e663": {
      "model_module": "@jupyter-widgets/controls",
      "model_module_version": "1.5.0",
      "model_name": "HTMLModel",
      "state": {
       "layout": "IPY_MODEL_96310d9bcf1e4f668520a2eaabd4b861",
       "style": "IPY_MODEL_f435b22290fb4220a34b5bd8d00e0149",
       "value": "Propagating errors : "
      }
     },
     "3753321f23104458a44261d987f88dad": {
      "model_module": "@jupyter-widgets/base",
      "model_module_version": "1.2.0",
      "model_name": "LayoutModel",
      "state": {
       "grid_area": "widget101",
       "margin": "0"
      }
     },
     "3779b40afdec457598c2ea9d9a31db00": {
      "model_module": "@jupyter-widgets/controls",
      "model_module_version": "1.5.0",
      "model_name": "HTMLModel",
      "state": {
       "layout": "IPY_MODEL_45e1d9b9207a467686da93ec74133ffe",
       "style": "IPY_MODEL_e67d8730b956417296bb8042fc4bdb89",
       "value": "<div style='background-color:white;'>&nbsp;</div>"
      }
     },
     "37c46be904ec4a92b525bdf3ac74b526": {
      "model_module": "@jupyter-widgets/controls",
      "model_module_version": "1.5.0",
      "model_name": "DescriptionStyleModel",
      "state": {
       "description_width": ""
      }
     },
     "383ec32a294649b1a5df13d6ab012e9d": {
      "model_module": "@jupyter-widgets/controls",
      "model_module_version": "1.5.0",
      "model_name": "HTMLModel",
      "state": {
       "layout": "IPY_MODEL_15c9fb40663042e1a00223ce69d1da3c",
       "style": "IPY_MODEL_457c9324578647c9891f4f3a408c2065",
       "value": "<div style='background-color:white;'>&nbsp;</div>"
      }
     },
     "38450a92de3f437c8dc42bbf399f85ff": {
      "model_module": "@jupyter-widgets/base",
      "model_module_version": "1.2.0",
      "model_name": "LayoutModel",
      "state": {
       "grid_area": "widget008",
       "margin": "0"
      }
     },
     "386db4badec04d439e00945806eec01b": {
      "model_module": "@jupyter-widgets/base",
      "model_module_version": "1.2.0",
      "model_name": "LayoutModel",
      "state": {
       "grid_area": "widget067",
       "margin": "0"
      }
     },
     "38735e2f80094337865a8afde9f505d5": {
      "model_module": "@jupyter-widgets/base",
      "model_module_version": "1.2.0",
      "model_name": "LayoutModel",
      "state": {
       "grid_area": "widget074",
       "margin": "0"
      }
     },
     "3879b2e193d24073a10f653b69ed6871": {
      "model_module": "@jupyter-widgets/controls",
      "model_module_version": "1.5.0",
      "model_name": "DescriptionStyleModel",
      "state": {
       "description_width": ""
      }
     },
     "38837dcc07534953b0c4dc98ec740a37": {
      "model_module": "@jupyter-widgets/controls",
      "model_module_version": "1.5.0",
      "model_name": "HTMLModel",
      "state": {
       "layout": "IPY_MODEL_4afd6dfe408441df8059444354884c23",
       "style": "IPY_MODEL_17ccec72548040e1bfe36e5e8e108636",
       "value": "<div style='background-color:#6E6BF4;'>&nbsp;</div>"
      }
     },
     "38d8bee193b14e8da72538e30a2bf150": {
      "model_module": "@jupyter-widgets/controls",
      "model_module_version": "1.5.0",
      "model_name": "HTMLModel",
      "state": {
       "layout": "IPY_MODEL_3b87e441c5174ff1a577eb25915eb1e1",
       "style": "IPY_MODEL_13d42634b54f4513acdde8852f5a1562",
       "value": "<div style='background-color:white;'>&nbsp;</div>"
      }
     },
     "393158a9e6dd40a69cde9a634d8541c7": {
      "model_module": "@jupyter-widgets/controls",
      "model_module_version": "1.5.0",
      "model_name": "HTMLModel",
      "state": {
       "layout": "IPY_MODEL_1d98d14b708847a0bafc52ba2344e337",
       "style": "IPY_MODEL_9841715176a94f1f9bab997e87f71b7e",
       "value": "<div style='background-color:white;'>&nbsp;</div>"
      }
     },
     "39417c6638724339bccf95796c89292b": {
      "model_module": "@jupyter-widgets/base",
      "model_module_version": "1.2.0",
      "model_name": "LayoutModel",
      "state": {
       "grid_area": "widget059",
       "margin": "0"
      }
     },
     "39427ad732194dcf9f88f6806f9d20ba": {
      "model_module": "@jupyter-widgets/controls",
      "model_module_version": "1.5.0",
      "model_name": "HTMLModel",
      "state": {
       "layout": "IPY_MODEL_0c2a01a5b6d6495eba20f749cfa312bd",
       "style": "IPY_MODEL_aeb64109311743f3be2de7f3b8a513fe",
       "value": "<div style='background-color:white;'>&nbsp;</div>"
      }
     },
     "394c663b8c194b3a97f9e76c51f25ef3": {
      "model_module": "@jupyter-widgets/controls",
      "model_module_version": "1.5.0",
      "model_name": "DescriptionStyleModel",
      "state": {
       "description_width": ""
      }
     },
     "3976b6668be1408d8a4852c71eb6e5ef": {
      "model_module": "@jupyter-widgets/base",
      "model_module_version": "1.2.0",
      "model_name": "LayoutModel",
      "state": {
       "grid_area": "widget025",
       "margin": "0"
      }
     },
     "3a3b0791077b4e57b93e5e967bfbc178": {
      "model_module": "@jupyter-widgets/controls",
      "model_module_version": "1.5.0",
      "model_name": "HTMLModel",
      "state": {
       "layout": "IPY_MODEL_6ed03d4744b4466280837d188c8d499b",
       "style": "IPY_MODEL_0ee696a5f7404dfbac1144be6bd3d972",
       "value": "<div style='background-color:#6E6BF4;'>&nbsp;</div>"
      }
     },
     "3a4a33868c534447a38288eae19987e7": {
      "model_module": "@jupyter-widgets/controls",
      "model_module_version": "1.5.0",
      "model_name": "HTMLModel",
      "state": {
       "layout": "IPY_MODEL_96ef6e98ea2a4563835e8c21677e11ad",
       "style": "IPY_MODEL_27c4a35c5f0f4763a4bf0106bfc77cb9",
       "value": "Propagating errors : "
      }
     },
     "3a577ad6fbb6441daedd28f7bc47775f": {
      "model_module": "@jupyter-widgets/base",
      "model_module_version": "1.2.0",
      "model_name": "LayoutModel",
      "state": {
       "grid_area": "widget066",
       "margin": "0"
      }
     },
     "3aae1f3f34724cc2acc93c60637ecea1": {
      "model_module": "@jupyter-widgets/base",
      "model_module_version": "1.2.0",
      "model_name": "LayoutModel",
      "state": {
       "grid_area": "widget002",
       "margin": "0"
      }
     },
     "3adc823b9c07448f821946d647627596": {
      "model_module": "@jupyter-widgets/base",
      "model_module_version": "1.2.0",
      "model_name": "LayoutModel",
      "state": {
       "grid_area": "widget014",
       "margin": "0"
      }
     },
     "3ae0efffc6684322b5b12942a3b86b24": {
      "model_module": "@jupyter-widgets/controls",
      "model_module_version": "1.5.0",
      "model_name": "HTMLModel",
      "state": {
       "layout": "IPY_MODEL_56f510b2399f44f49b0d649c5c5de769",
       "style": "IPY_MODEL_82d8be76887c42139b64fdd0f8769a78",
       "value": "<div style='background-color:#6E6BF4; font-family:monospace'>&nbsp;</div>"
      }
     },
     "3b2d6e6470d947f69004d5d85f144d3e": {
      "model_module": "@jupyter-widgets/controls",
      "model_module_version": "1.5.0",
      "model_name": "FloatProgressModel",
      "state": {
       "layout": "IPY_MODEL_07659ca08064445598a540daf36ae963",
       "style": "IPY_MODEL_01c8d4e68ab74a6bb82084950269356d",
       "value": 100
      }
     },
     "3b65e581883c43db94cba570ff0a80c3": {
      "model_module": "@jupyter-widgets/controls",
      "model_module_version": "1.5.0",
      "model_name": "DescriptionStyleModel",
      "state": {
       "description_width": ""
      }
     },
     "3b79d5c4121d4dbcb0fa68f07b2b9281": {
      "model_module": "@jupyter-widgets/controls",
      "model_module_version": "1.5.0",
      "model_name": "DescriptionStyleModel",
      "state": {
       "description_width": ""
      }
     },
     "3b7e11565c8c40ee8209a9eb43852c6b": {
      "model_module": "@jupyter-widgets/controls",
      "model_module_version": "1.5.0",
      "model_name": "DescriptionStyleModel",
      "state": {
       "description_width": ""
      }
     },
     "3b87e441c5174ff1a577eb25915eb1e1": {
      "model_module": "@jupyter-widgets/base",
      "model_module_version": "1.2.0",
      "model_name": "LayoutModel",
      "state": {
       "grid_area": "widget088",
       "margin": "0"
      }
     },
     "3bb78faf8c3f4cf0b20445563bb41370": {
      "model_module": "@jupyter-widgets/base",
      "model_module_version": "1.2.0",
      "model_name": "LayoutModel",
      "state": {
       "grid_area": "widget016",
       "margin": "0"
      }
     },
     "3bc05f41838f42b1b89cbcc070d3862d": {
      "model_module": "@jupyter-widgets/controls",
      "model_module_version": "1.5.0",
      "model_name": "DescriptionStyleModel",
      "state": {
       "description_width": ""
      }
     },
     "3c0b61027c96444dba094126446d3df3": {
      "model_module": "@jupyter-widgets/controls",
      "model_module_version": "1.5.0",
      "model_name": "HTMLModel",
      "state": {
       "layout": "IPY_MODEL_e218e85ab3ac44929442f20c4461a16c",
       "style": "IPY_MODEL_fcb728af01804f6aa9a433bf8cad7a50",
       "value": "<div style='background-color:#6E6BF4;'>&nbsp;</div>"
      }
     },
     "3c11e4ed53d94e7092b655dd9fafad3c": {
      "model_module": "@jupyter-widgets/controls",
      "model_module_version": "1.5.0",
      "model_name": "DescriptionStyleModel",
      "state": {
       "description_width": ""
      }
     },
     "3c23b7d4f5194e3b8762c958f4a09eff": {
      "model_module": "@jupyter-widgets/controls",
      "model_module_version": "1.5.0",
      "model_name": "HTMLModel",
      "state": {
       "layout": "IPY_MODEL_a37fa4a1584f4d1dbc7699319e020e5f",
       "style": "IPY_MODEL_c2a069fc1c55443e9a7cf70156ef6844",
       "value": "<div style='background-color:white;'>&nbsp;</div>"
      }
     },
     "3c5b4b20b005410997045cff60a07e5a": {
      "model_module": "@jupyter-widgets/controls",
      "model_module_version": "1.5.0",
      "model_name": "DescriptionStyleModel",
      "state": {
       "description_width": ""
      }
     },
     "3c7b79077416405dbf91a027b847aa61": {
      "model_module": "@jupyter-widgets/controls",
      "model_module_version": "1.5.0",
      "model_name": "DescriptionStyleModel",
      "state": {
       "description_width": ""
      }
     },
     "3c7d84a9c1084241b22ad84f9ee69eeb": {
      "model_module": "@jupyter-widgets/controls",
      "model_module_version": "1.5.0",
      "model_name": "DescriptionStyleModel",
      "state": {
       "description_width": ""
      }
     },
     "3ddb199787384e6baf5338f1e4ec882d": {
      "model_module": "@jupyter-widgets/base",
      "model_module_version": "1.2.0",
      "model_name": "LayoutModel",
      "state": {}
     },
     "3df6df0c65ef4c71b2a1bfc5a9492a61": {
      "model_module": "@jupyter-widgets/controls",
      "model_module_version": "1.5.0",
      "model_name": "DescriptionStyleModel",
      "state": {
       "description_width": ""
      }
     },
     "3df9c2f6255a494b98766925b5e9fbf4": {
      "model_module": "@jupyter-widgets/base",
      "model_module_version": "1.2.0",
      "model_name": "LayoutModel",
      "state": {
       "grid_area": "widget032",
       "margin": "0"
      }
     },
     "3e3377c0b7a94b58b94a982505807763": {
      "model_module": "@jupyter-widgets/controls",
      "model_module_version": "1.5.0",
      "model_name": "DescriptionStyleModel",
      "state": {
       "description_width": ""
      }
     },
     "3e3b1997d9ea4d28a24d9ff21f847fe8": {
      "model_module": "@jupyter-widgets/controls",
      "model_module_version": "1.5.0",
      "model_name": "HTMLModel",
      "state": {
       "layout": "IPY_MODEL_4ae7fc5428d04aeca4fa04af91ee4195",
       "style": "IPY_MODEL_0fbbc5568b8843b282f6423fefbd4515",
       "value": "<div style='background-color:white;'>&nbsp;</div>"
      }
     },
     "3ea57e11fd594d638074addf34c0d0a4": {
      "model_module": "@jupyter-widgets/controls",
      "model_module_version": "1.5.0",
      "model_name": "DescriptionStyleModel",
      "state": {
       "description_width": ""
      }
     },
     "3f12dec1b15a4c46b09c9c2e3e26873a": {
      "model_module": "@jupyter-widgets/controls",
      "model_module_version": "1.5.0",
      "model_name": "HTMLModel",
      "state": {
       "layout": "IPY_MODEL_5928a086b35d4d7b9137cebed09e5c50",
       "style": "IPY_MODEL_a88994587c4f4816aebb357ed2b3efc2",
       "value": "<div style='background-color:#6E6BF4;'>&nbsp;</div>"
      }
     },
     "3f72816415a24514a98617c39d6925c0": {
      "model_module": "@jupyter-widgets/controls",
      "model_module_version": "1.5.0",
      "model_name": "ProgressStyleModel",
      "state": {
       "description_width": ""
      }
     },
     "3f834bf2c9424823aa980a1fb6878dcd": {
      "model_module": "@jupyter-widgets/controls",
      "model_module_version": "1.5.0",
      "model_name": "DescriptionStyleModel",
      "state": {
       "description_width": ""
      }
     },
     "404b5e87d9544ca3bb70b8bfcf9ac754": {
      "model_module": "@jupyter-widgets/controls",
      "model_module_version": "1.5.0",
      "model_name": "HTMLModel",
      "state": {
       "layout": "IPY_MODEL_8c2651fd4a234b5ba0c6994bf1cad9a4",
       "style": "IPY_MODEL_4abd598d576442f6b326944b3b505d74",
       "value": "<div style='background-color:white;'>&nbsp;</div>"
      }
     },
     "40638b2808784c11b4bad992b81213fb": {
      "model_module": "@jupyter-widgets/controls",
      "model_module_version": "1.5.0",
      "model_name": "HTMLModel",
      "state": {
       "layout": "IPY_MODEL_4e033164cf9040a499b2c47b4d3b61b3",
       "style": "IPY_MODEL_4abb81122f7c42b3b4e5e8285cfc3091",
       "value": "<div style='background-color:white;'>&nbsp;</div>"
      }
     },
     "41171ea46f0b4c13b13454445553b456": {
      "model_module": "@jupyter-widgets/controls",
      "model_module_version": "1.5.0",
      "model_name": "HTMLModel",
      "state": {
       "layout": "IPY_MODEL_f03a7fb9febe4fd2b0a4c24c4dbe3c1a",
       "style": "IPY_MODEL_21ff2a898b414afaa96ec3f26b2a0d46",
       "value": "<div style='background-color:#6E6BF4;'>&nbsp;</div>"
      }
     },
     "411a0214c9d748b5b039d7fec4cb6784": {
      "model_module": "@jupyter-widgets/controls",
      "model_module_version": "1.5.0",
      "model_name": "DescriptionStyleModel",
      "state": {
       "description_width": ""
      }
     },
     "413988457b9c4d56ab81ef4f10881632": {
      "model_module": "@jupyter-widgets/controls",
      "model_module_version": "1.5.0",
      "model_name": "HTMLModel",
      "state": {
       "layout": "IPY_MODEL_b87dbaf035ef47ce8eef2559a70a53ce",
       "style": "IPY_MODEL_c34b58f934234eaaab469bbdf0bba80d",
       "value": "<div style='background-color:white;'>&nbsp;</div>"
      }
     },
     "413b38a78626427d84593b2623257c8e": {
      "model_module": "@jupyter-widgets/controls",
      "model_module_version": "1.5.0",
      "model_name": "HTMLModel",
      "state": {
       "layout": "IPY_MODEL_2ab88bf4540641e8bf8b20b30018a888",
       "style": "IPY_MODEL_844c08a9d898432c8ff20d52b820e858",
       "value": "<div style='background-color:white;'>&nbsp;</div>"
      }
     },
     "4155c2cf62204d08aec6c521db992240": {
      "model_module": "@jupyter-widgets/controls",
      "model_module_version": "1.5.0",
      "model_name": "DescriptionStyleModel",
      "state": {
       "description_width": ""
      }
     },
     "41c20f561c904793b8a60dd710f56da8": {
      "model_module": "@jupyter-widgets/controls",
      "model_module_version": "1.5.0",
      "model_name": "HTMLModel",
      "state": {
       "layout": "IPY_MODEL_c5a25864978a4ec98fa22ee4de4a713e",
       "style": "IPY_MODEL_1c437ba234094ffd9ec67428145974e2",
       "value": "<div style='background-color:white;'>&nbsp;</div>"
      }
     },
     "41f09ca600c34272a054580dee2ce642": {
      "model_module": "@jupyter-widgets/controls",
      "model_module_version": "1.5.0",
      "model_name": "HTMLModel",
      "state": {
       "layout": "IPY_MODEL_0298fb7c6fbc41d29b03c3767dfc8105",
       "style": "IPY_MODEL_69e5f4cdda1340e2ac18995de37efd28",
       "value": "-3.00"
      }
     },
     "4206e045b5f7424fb862e2b71b4725bc": {
      "model_module": "@jupyter-widgets/controls",
      "model_module_version": "1.5.0",
      "model_name": "DescriptionStyleModel",
      "state": {
       "description_width": ""
      }
     },
     "42b2abb624b24a34add93e9e9fc60c6f": {
      "model_module": "@jupyter-widgets/controls",
      "model_module_version": "1.5.0",
      "model_name": "DescriptionStyleModel",
      "state": {
       "description_width": ""
      }
     },
     "42edcf3c71d345f7bf600bb8126029d8": {
      "model_module": "@jupyter-widgets/base",
      "model_module_version": "1.2.0",
      "model_name": "LayoutModel",
      "state": {
       "grid_area": "widget019",
       "margin": "0"
      }
     },
     "4322aabd3df14be2bac043a1cd120cae": {
      "model_module": "@jupyter-widgets/base",
      "model_module_version": "1.2.0",
      "model_name": "LayoutModel",
      "state": {
       "grid_area": "widget078",
       "margin": "0"
      }
     },
     "43322c4264b24aae80917ea2196ee4bf": {
      "model_module": "@jupyter-widgets/controls",
      "model_module_version": "1.5.0",
      "model_name": "HTMLModel",
      "state": {
       "layout": "IPY_MODEL_c095bd3506674f41b22afd1958c6a009",
       "style": "IPY_MODEL_e32df9c0e4c742bd88d3e75878e8951a",
       "value": "<div style='background-color:white;'>&nbsp;</div>"
      }
     },
     "433adee5d4f04b88a070ed7c70ac334e": {
      "model_module": "@jupyter-widgets/controls",
      "model_module_version": "1.5.0",
      "model_name": "HTMLModel",
      "state": {
       "layout": "IPY_MODEL_f717aac456734ad09d82f43f507a497e",
       "style": "IPY_MODEL_b9468c1be07d4927b97ab99440ea082e",
       "value": "<div style='background-color:#6E6BF4; font-family:monospace'>&nbsp;</div>"
      }
     },
     "439df542d8ca4f76ad96c031b7d5ac07": {
      "model_module": "@jupyter-widgets/base",
      "model_module_version": "1.2.0",
      "model_name": "LayoutModel",
      "state": {
       "grid_area": "widget003",
       "margin": "0"
      }
     },
     "43b9ed25895d48a0b9678fd3b0045f1f": {
      "model_module": "@jupyter-widgets/controls",
      "model_module_version": "1.5.0",
      "model_name": "DescriptionStyleModel",
      "state": {
       "description_width": ""
      }
     },
     "43be0467342f4149bb534940514eb73f": {
      "model_module": "@jupyter-widgets/controls",
      "model_module_version": "1.5.0",
      "model_name": "DescriptionStyleModel",
      "state": {
       "description_width": ""
      }
     },
     "43c8ac4f7d514230a5344ef4dde88c6f": {
      "model_module": "@jupyter-widgets/controls",
      "model_module_version": "1.5.0",
      "model_name": "HTMLModel",
      "state": {
       "layout": "IPY_MODEL_687ffe24ebd84635b58ea1586d304b29",
       "style": "IPY_MODEL_24f85639396f4e998b141d5b67cc6978",
       "value": "<div style='background-color:white;'>&nbsp;</div>"
      }
     },
     "43cd5a5785f441ab9eca3452a2caf5b4": {
      "model_module": "@jupyter-widgets/controls",
      "model_module_version": "1.5.0",
      "model_name": "HTMLModel",
      "state": {
       "layout": "IPY_MODEL_e5c96d5e7acd40d3b2de72786cfcd595",
       "style": "IPY_MODEL_20039d5c72cc41e1870596adf4dd3db6",
       "value": "<div style='background-color:white;'>&nbsp;</div>"
      }
     },
     "443631d81b354929b91535d22dd605ae": {
      "model_module": "@jupyter-widgets/base",
      "model_module_version": "1.2.0",
      "model_name": "LayoutModel",
      "state": {
       "grid_area": "widget102",
       "margin": "0"
      }
     },
     "445db2cd83104e02beb10a8ac96be126": {
      "model_module": "@jupyter-widgets/base",
      "model_module_version": "1.2.0",
      "model_name": "LayoutModel",
      "state": {
       "grid_area": "widget076",
       "margin": "0"
      }
     },
     "449c2e9dc0ca4a189b460f81771825d1": {
      "model_module": "@jupyter-widgets/base",
      "model_module_version": "1.2.0",
      "model_name": "LayoutModel",
      "state": {
       "grid_area": "widget068",
       "margin": "0"
      }
     },
     "452bc223dd864c1a8c041e6f0599c0bd": {
      "model_module": "@jupyter-widgets/controls",
      "model_module_version": "1.5.0",
      "model_name": "HTMLModel",
      "state": {
       "layout": "IPY_MODEL_7d6eb6364fad47c5ac9d1ff151a8c32c",
       "style": "IPY_MODEL_272ba90a2df64081be11bd480b929e06",
       "value": "<div style='background-color:#6E6BF4;'>&nbsp;</div>"
      }
     },
     "452edba268ef40319a83d1a53d812ce3": {
      "model_module": "@jupyter-widgets/controls",
      "model_module_version": "1.5.0",
      "model_name": "DescriptionStyleModel",
      "state": {
       "description_width": ""
      }
     },
     "455fbee0679445b290d0229ae7e5d708": {
      "model_module": "@jupyter-widgets/controls",
      "model_module_version": "1.5.0",
      "model_name": "HTMLModel",
      "state": {
       "layout": "IPY_MODEL_c036c603db7d4c46b93bbc79e21a1e7b",
       "style": "IPY_MODEL_c4a5fe2d0ef6444f908a5c2ee2c170ea",
       "value": "<div style='background-color:white;'>&nbsp;</div>"
      }
     },
     "4562cb4764aa45ddbd54737db1a8828f": {
      "model_module": "@jupyter-widgets/base",
      "model_module_version": "1.2.0",
      "model_name": "LayoutModel",
      "state": {
       "grid_area": "widget046",
       "margin": "0"
      }
     },
     "457c9324578647c9891f4f3a408c2065": {
      "model_module": "@jupyter-widgets/controls",
      "model_module_version": "1.5.0",
      "model_name": "DescriptionStyleModel",
      "state": {
       "description_width": ""
      }
     },
     "4582cfd37784456abde1a8e05eee5781": {
      "model_module": "@jupyter-widgets/base",
      "model_module_version": "1.2.0",
      "model_name": "LayoutModel",
      "state": {
       "grid_area": "widget016",
       "margin": "0"
      }
     },
     "45b43eec925e4d1fadd3b86f36534972": {
      "model_module": "@jupyter-widgets/controls",
      "model_module_version": "1.5.0",
      "model_name": "DescriptionStyleModel",
      "state": {
       "description_width": ""
      }
     },
     "45e1d9b9207a467686da93ec74133ffe": {
      "model_module": "@jupyter-widgets/base",
      "model_module_version": "1.2.0",
      "model_name": "LayoutModel",
      "state": {
       "grid_area": "widget059",
       "margin": "0"
      }
     },
     "46274b650e9647e8b3d21b91aae02314": {
      "model_module": "@jupyter-widgets/base",
      "model_module_version": "1.2.0",
      "model_name": "LayoutModel",
      "state": {
       "grid_area": "widget035",
       "margin": "0"
      }
     },
     "4655604e97f945288a7771eb17bc7967": {
      "model_module": "@jupyter-widgets/controls",
      "model_module_version": "1.5.0",
      "model_name": "DescriptionStyleModel",
      "state": {
       "description_width": ""
      }
     },
     "4656fba968ef42109e2903300bd25e23": {
      "model_module": "@jupyter-widgets/controls",
      "model_module_version": "1.5.0",
      "model_name": "DescriptionStyleModel",
      "state": {
       "description_width": ""
      }
     },
     "467937aa28e94f77912a908c51e38f63": {
      "model_module": "@jupyter-widgets/base",
      "model_module_version": "1.2.0",
      "model_name": "LayoutModel",
      "state": {
       "grid_area": "widget019",
       "margin": "0"
      }
     },
     "46bcabb420464295b71eefd2403482b4": {
      "model_module": "@jupyter-widgets/controls",
      "model_module_version": "1.5.0",
      "model_name": "HTMLModel",
      "state": {
       "layout": "IPY_MODEL_3a577ad6fbb6441daedd28f7bc47775f",
       "style": "IPY_MODEL_19343f17f5ae4e3c80efd2921f0d73fc",
       "value": "<div style='background-color:white;'>&nbsp;</div>"
      }
     },
     "46de40e1269a4ffcafd1a612853a3e46": {
      "model_module": "@jupyter-widgets/controls",
      "model_module_version": "1.5.0",
      "model_name": "DescriptionStyleModel",
      "state": {
       "description_width": ""
      }
     },
     "471628fdfc6d465494a450eebfbeacb2": {
      "model_module": "@jupyter-widgets/controls",
      "model_module_version": "1.5.0",
      "model_name": "HTMLModel",
      "state": {
       "layout": "IPY_MODEL_12aba537fd694cffa9a0c4894c5863c7",
       "style": "IPY_MODEL_0cad05ee4b824ed2a6663a0405546324",
       "value": "<div style='background-color:white;'>&nbsp;</div>"
      }
     },
     "47780e890d434dec9d13770022ebf0d2": {
      "model_module": "@jupyter-widgets/base",
      "model_module_version": "1.2.0",
      "model_name": "LayoutModel",
      "state": {
       "grid_area": "widget091",
       "margin": "0"
      }
     },
     "4789eb83c00e4a0d813e592b87d7cea7": {
      "model_module": "@jupyter-widgets/base",
      "model_module_version": "1.2.0",
      "model_name": "LayoutModel",
      "state": {
       "grid_area": "widget020",
       "margin": "0"
      }
     },
     "47d327374df74725a7104900029babc8": {
      "model_module": "@jupyter-widgets/controls",
      "model_module_version": "1.5.0",
      "model_name": "HTMLModel",
      "state": {
       "layout": "IPY_MODEL_5629e9c981834270a9561ac6f1c92879",
       "style": "IPY_MODEL_88fd6affa03a4fda85dc09f083fee717",
       "value": "<div style='background-color:#6E6BF4;'>&nbsp;</div>"
      }
     },
     "48435fbd32f74674a707624c51a9b0bd": {
      "model_module": "@jupyter-widgets/controls",
      "model_module_version": "1.5.0",
      "model_name": "DescriptionStyleModel",
      "state": {
       "description_width": ""
      }
     },
     "485939b7937245f1b6bed9fc37a2566f": {
      "model_module": "@jupyter-widgets/base",
      "model_module_version": "1.2.0",
      "model_name": "LayoutModel",
      "state": {
       "grid_area": "widget068",
       "margin": "0"
      }
     },
     "489384eed21a45cc8f6cdca6911427e9": {
      "model_module": "@jupyter-widgets/controls",
      "model_module_version": "1.5.0",
      "model_name": "HTMLModel",
      "state": {
       "layout": "IPY_MODEL_2dc0dd9baef34ad5816a7bb62316ce8e",
       "style": "IPY_MODEL_683640eb18054abb9c459a0f7234d1d9",
       "value": "<div style='background-color:white;'>&nbsp;</div>"
      }
     },
     "48f1ee2b074d408e9445e0691e397aee": {
      "model_module": "@jupyter-widgets/controls",
      "model_module_version": "1.5.0",
      "model_name": "HTMLModel",
      "state": {
       "layout": "IPY_MODEL_2a4665e011264a0fb6a48616bed9eb4c",
       "style": "IPY_MODEL_e1cdf334785b46efb5f7de4d471cd9ec",
       "value": "<div style='background-color:white;'>&nbsp;</div>"
      }
     },
     "491b6ac82f904246a835022bab507354": {
      "model_module": "@jupyter-widgets/controls",
      "model_module_version": "1.5.0",
      "model_name": "HTMLModel",
      "state": {
       "layout": "IPY_MODEL_37313406e06b4182b49b8aa89959caea",
       "style": "IPY_MODEL_cc5a3614e1304259b3135e1a8467cd81",
       "value": "<div style='background-color:white;'>&nbsp;</div>"
      }
     },
     "4956b675c1424494906fa567fee19c3d": {
      "model_module": "@jupyter-widgets/base",
      "model_module_version": "1.2.0",
      "model_name": "LayoutModel",
      "state": {
       "grid_area": "widget081",
       "margin": "0"
      }
     },
     "4997c64be2274389ae01bf249861c303": {
      "model_module": "@jupyter-widgets/controls",
      "model_module_version": "1.5.0",
      "model_name": "DescriptionStyleModel",
      "state": {
       "description_width": ""
      }
     },
     "4997f0683ce34000b5fb7ec6d508ef00": {
      "model_module": "@jupyter-widgets/controls",
      "model_module_version": "1.5.0",
      "model_name": "DescriptionStyleModel",
      "state": {
       "description_width": ""
      }
     },
     "499f5e90aa904f69b6347a3d86b0ec9c": {
      "model_module": "@jupyter-widgets/controls",
      "model_module_version": "1.5.0",
      "model_name": "DescriptionStyleModel",
      "state": {
       "description_width": ""
      }
     },
     "49d2e1caab6b475c910f8fa4407a761c": {
      "model_module": "@jupyter-widgets/base",
      "model_module_version": "1.2.0",
      "model_name": "LayoutModel",
      "state": {
       "grid_area": "widget008",
       "margin": "0"
      }
     },
     "49dc68f461084363b172fb663bb7b906": {
      "model_module": "@jupyter-widgets/base",
      "model_module_version": "1.2.0",
      "model_name": "LayoutModel",
      "state": {
       "grid_area": "widget096",
       "margin": "0"
      }
     },
     "49f440ab05894368a333534fa602ed7d": {
      "model_module": "@jupyter-widgets/controls",
      "model_module_version": "1.5.0",
      "model_name": "HTMLModel",
      "state": {
       "layout": "IPY_MODEL_bf54acbac6ce429fb4f2f93b714df1cc",
       "style": "IPY_MODEL_7e1f8964cf6e4c10975eab12224a2990",
       "value": "<div style='background-color:white;'>&nbsp;</div>"
      }
     },
     "49fa5a34320a4709a1105c4636d08549": {
      "model_module": "@jupyter-widgets/controls",
      "model_module_version": "1.5.0",
      "model_name": "HTMLModel",
      "state": {
       "layout": "IPY_MODEL_6bc3150ba04c41499487a32bd5dd9a7d",
       "style": "IPY_MODEL_8c136734ce3448088266838b1202b28d",
       "value": "<div style='background-color:white;'>&nbsp;</div>"
      }
     },
     "4a058df10c054a728bbabff36ffe9550": {
      "model_module": "@jupyter-widgets/controls",
      "model_module_version": "1.5.0",
      "model_name": "DescriptionStyleModel",
      "state": {
       "description_width": ""
      }
     },
     "4a2bb4a26731469f99c2b25e4bc21fa1": {
      "model_module": "@jupyter-widgets/controls",
      "model_module_version": "1.5.0",
      "model_name": "FloatProgressModel",
      "state": {
       "layout": "IPY_MODEL_20f858cb204741c8beb43476092207ba",
       "style": "IPY_MODEL_098b4d9c41de48b2abb063fb20d8c3e0",
       "value": 100
      }
     },
     "4a35e27dff014c11b9ded3fc217e797c": {
      "model_module": "@jupyter-widgets/controls",
      "model_module_version": "1.5.0",
      "model_name": "VBoxModel",
      "state": {
       "children": [
        "IPY_MODEL_3a4a33868c534447a38288eae19987e7",
        "IPY_MODEL_b74d24ebf2634877b6fb37274182c1ae",
        "IPY_MODEL_3b2d6e6470d947f69004d5d85f144d3e"
       ],
       "layout": "IPY_MODEL_3ddb199787384e6baf5338f1e4ec882d"
      }
     },
     "4a3fd6734ffe4eb3af29dd9f9ef6f8d7": {
      "model_module": "@jupyter-widgets/controls",
      "model_module_version": "1.5.0",
      "model_name": "DescriptionStyleModel",
      "state": {
       "description_width": ""
      }
     },
     "4a93839938f549f795bf8690e0a16914": {
      "model_module": "@jupyter-widgets/controls",
      "model_module_version": "1.5.0",
      "model_name": "HTMLModel",
      "state": {
       "layout": "IPY_MODEL_935c3f0a27d546c4b6877adc0ccb5dde",
       "style": "IPY_MODEL_881ed3e99f264b40bff52524dbe40289",
       "value": "<div style='background-color:white;'>&nbsp;</div>"
      }
     },
     "4abb81122f7c42b3b4e5e8285cfc3091": {
      "model_module": "@jupyter-widgets/controls",
      "model_module_version": "1.5.0",
      "model_name": "DescriptionStyleModel",
      "state": {
       "description_width": ""
      }
     },
     "4abd598d576442f6b326944b3b505d74": {
      "model_module": "@jupyter-widgets/controls",
      "model_module_version": "1.5.0",
      "model_name": "DescriptionStyleModel",
      "state": {
       "description_width": ""
      }
     },
     "4ac648e26f164aad946ebe0f44d9c9e4": {
      "model_module": "@jupyter-widgets/controls",
      "model_module_version": "1.5.0",
      "model_name": "DescriptionStyleModel",
      "state": {
       "description_width": ""
      }
     },
     "4ae304a51b134e00b0c89bc0b5aaf9dd": {
      "model_module": "@jupyter-widgets/base",
      "model_module_version": "1.2.0",
      "model_name": "LayoutModel",
      "state": {
       "grid_area": "widget034",
       "margin": "0"
      }
     },
     "4ae7fc5428d04aeca4fa04af91ee4195": {
      "model_module": "@jupyter-widgets/base",
      "model_module_version": "1.2.0",
      "model_name": "LayoutModel",
      "state": {
       "grid_area": "widget041",
       "margin": "0"
      }
     },
     "4afd6dfe408441df8059444354884c23": {
      "model_module": "@jupyter-widgets/base",
      "model_module_version": "1.2.0",
      "model_name": "LayoutModel",
      "state": {
       "grid_area": "widget058",
       "margin": "0"
      }
     },
     "4b153f97c6d74406b9e04a62de8786c0": {
      "model_module": "@jupyter-widgets/controls",
      "model_module_version": "1.5.0",
      "model_name": "HTMLModel",
      "state": {
       "layout": "IPY_MODEL_3753321f23104458a44261d987f88dad",
       "style": "IPY_MODEL_14b5de21a21d4721b243e1613d0ed07f",
       "value": "<div style='background-color:white;'>&nbsp;</div>"
      }
     },
     "4b65fe03cd034778921446e94cce4345": {
      "model_module": "@jupyter-widgets/controls",
      "model_module_version": "1.5.0",
      "model_name": "HTMLModel",
      "state": {
       "layout": "IPY_MODEL_bde3b98b94824228ae59f60e03a4391f",
       "style": "IPY_MODEL_88cc692ef16741378f551916da363431",
       "value": "<div style='background-color:white;'>&nbsp;</div>"
      }
     },
     "4b7c17ee8a4a4da288fe2c232d847baa": {
      "model_module": "@jupyter-widgets/controls",
      "model_module_version": "1.5.0",
      "model_name": "HTMLModel",
      "state": {
       "layout": "IPY_MODEL_53e42bceb93844cba444e17cd43b5916",
       "style": "IPY_MODEL_6a67bf852b0c49f4b3917cbf69a3543d",
       "value": "<div style='background-color:white;'>&nbsp;</div>"
      }
     },
     "4ba0d201f9ec438b85990b095de72e12": {
      "model_module": "@jupyter-widgets/controls",
      "model_module_version": "1.5.0",
      "model_name": "DescriptionStyleModel",
      "state": {
       "description_width": ""
      }
     },
     "4bcf42bfa04b450c9215b534961874b3": {
      "model_module": "@jupyter-widgets/base",
      "model_module_version": "1.2.0",
      "model_name": "LayoutModel",
      "state": {
       "grid_area": "widget106",
       "margin": "0"
      }
     },
     "4c4c2cdb85624c35bfb8dd37d569ef46": {
      "model_module": "@jupyter-widgets/controls",
      "model_module_version": "1.5.0",
      "model_name": "HTMLModel",
      "state": {
       "layout": "IPY_MODEL_467937aa28e94f77912a908c51e38f63",
       "style": "IPY_MODEL_919013a7fcf248ff9c1ad0a1d0d41d0a",
       "value": "<div style='background-color:#6E6BF4;'>&nbsp;</div>"
      }
     },
     "4c5b338fd9e54ec3a3de916533e7df7d": {
      "model_module": "@jupyter-widgets/base",
      "model_module_version": "1.2.0",
      "model_name": "LayoutModel",
      "state": {
       "grid_area": "widget016",
       "margin": "0"
      }
     },
     "4c62c46016594d448664922cc29dad6f": {
      "model_module": "@jupyter-widgets/controls",
      "model_module_version": "1.5.0",
      "model_name": "DescriptionStyleModel",
      "state": {
       "description_width": ""
      }
     },
     "4c7725f3e40e4168b1b80d3f370320f5": {
      "model_module": "@jupyter-widgets/controls",
      "model_module_version": "1.5.0",
      "model_name": "HTMLModel",
      "state": {
       "layout": "IPY_MODEL_b7fc4456aa614eaf91d64c3d3e95aa2c",
       "style": "IPY_MODEL_e1e2c8d523f04783ac1d018bd7d74cc6",
       "value": "<div style='background-color:#6E6BF4;'>&nbsp;</div>"
      }
     },
     "4ca3a5fd9f524240a2c38c59fb164dc2": {
      "model_module": "@jupyter-widgets/controls",
      "model_module_version": "1.5.0",
      "model_name": "HTMLModel",
      "state": {
       "layout": "IPY_MODEL_ca75b819c6e74d8eb57c0b772d5c3d49",
       "style": "IPY_MODEL_2b2107376281407887ae50986a7e293f",
       "value": "<div style='background-color:white;'>&nbsp;</div>"
      }
     },
     "4d2657fa401b468f9a86749311968fa7": {
      "model_module": "@jupyter-widgets/controls",
      "model_module_version": "1.5.0",
      "model_name": "HTMLModel",
      "state": {
       "layout": "IPY_MODEL_1f5522efcd0340ff92b31caebc73d87d",
       "style": "IPY_MODEL_7ba07017892e4ce78311b77a27bd44be",
       "value": "<div style='background-color:white;'>&nbsp;</div>"
      }
     },
     "4da2d9e09d45422bbf435b20e7c16704": {
      "model_module": "@jupyter-widgets/base",
      "model_module_version": "1.2.0",
      "model_name": "LayoutModel",
      "state": {
       "grid_area": "widget082",
       "margin": "0"
      }
     },
     "4daf3b7f7495403bb63e4b01ff05d37c": {
      "model_module": "@jupyter-widgets/controls",
      "model_module_version": "1.5.0",
      "model_name": "DescriptionStyleModel",
      "state": {
       "description_width": ""
      }
     },
     "4e02b565a66646598d20c9d38fbcd2ba": {
      "model_module": "@jupyter-widgets/controls",
      "model_module_version": "1.5.0",
      "model_name": "DescriptionStyleModel",
      "state": {
       "description_width": ""
      }
     },
     "4e033164cf9040a499b2c47b4d3b61b3": {
      "model_module": "@jupyter-widgets/base",
      "model_module_version": "1.2.0",
      "model_name": "LayoutModel",
      "state": {
       "grid_area": "widget010",
       "margin": "0"
      }
     },
     "4e0cef185f324a73a1ac1afeff3089af": {
      "model_module": "@jupyter-widgets/controls",
      "model_module_version": "1.5.0",
      "model_name": "HTMLModel",
      "state": {
       "layout": "IPY_MODEL_61c512a162c34afcb498716087df68d6",
       "style": "IPY_MODEL_d60c4a9fafcc470d83deef34b872cede",
       "value": "-3.00"
      }
     },
     "4e13870d4a554f778567f010093c867c": {
      "model_module": "@jupyter-widgets/controls",
      "model_module_version": "1.5.0",
      "model_name": "HTMLModel",
      "state": {
       "layout": "IPY_MODEL_312b27bc023143a7b8520948b5401f22",
       "style": "IPY_MODEL_b91df6fb27e14fb49c67b88165dd42d9",
       "value": "<div style='background-color:white;'>&nbsp;</div>"
      }
     },
     "4e77a27883d5411490ba245094fc389a": {
      "model_module": "@jupyter-widgets/controls",
      "model_module_version": "1.5.0",
      "model_name": "HTMLModel",
      "state": {
       "layout": "IPY_MODEL_4322aabd3df14be2bac043a1cd120cae",
       "style": "IPY_MODEL_f8562bc7a25649d096890b4f7d58b9e5",
       "value": "<div style='background-color:white;'>&nbsp;</div>"
      }
     },
     "4e81f1389c074d429c7679a8d6d6a372": {
      "model_module": "@jupyter-widgets/controls",
      "model_module_version": "1.5.0",
      "model_name": "HTMLModel",
      "state": {
       "layout": "IPY_MODEL_6b57cafbee6a413386d493ae1e53aca0",
       "style": "IPY_MODEL_d6a9585623ca4499a3c8e8209ffa2d55",
       "value": "<div style='background-color:#6E6BF4; font-family:monospace'>&nbsp;</div>"
      }
     },
     "4e84a66fe7e841f3b00cff7530cb8fa9": {
      "model_module": "@jupyter-widgets/base",
      "model_module_version": "1.2.0",
      "model_name": "LayoutModel",
      "state": {
       "grid_area": "widget089",
       "margin": "0"
      }
     },
     "4ef99cb2bcd447e09cd99896d37d8436": {
      "model_module": "@jupyter-widgets/base",
      "model_module_version": "1.2.0",
      "model_name": "LayoutModel",
      "state": {
       "grid_area": "widget030",
       "margin": "0"
      }
     },
     "4f2f8fc42f8545c78d6585d02d02f496": {
      "model_module": "@jupyter-widgets/controls",
      "model_module_version": "1.5.0",
      "model_name": "DescriptionStyleModel",
      "state": {
       "description_width": ""
      }
     },
     "4f4b3d14a08940feabc3a94f555232fb": {
      "model_module": "@jupyter-widgets/controls",
      "model_module_version": "1.5.0",
      "model_name": "DescriptionStyleModel",
      "state": {
       "description_width": ""
      }
     },
     "4f5038bc904c40bdaaaa0124a52051a6": {
      "model_module": "@jupyter-widgets/base",
      "model_module_version": "1.2.0",
      "model_name": "LayoutModel",
      "state": {
       "grid_area": "widget051",
       "margin": "0"
      }
     },
     "4f67745577cc48e7b367a9e81e970b18": {
      "model_module": "@jupyter-widgets/controls",
      "model_module_version": "1.5.0",
      "model_name": "HTMLModel",
      "state": {
       "layout": "IPY_MODEL_af2a089d33ff4c1082e129ca110b4cce",
       "style": "IPY_MODEL_260fc8c3ed3a47dcaf2bc4c3d69e9fec",
       "value": "<div style='background-color:white;'>&nbsp;</div>"
      }
     },
     "4fba3614468247a9a3a8d056db91ee50": {
      "model_module": "@jupyter-widgets/controls",
      "model_module_version": "1.5.0",
      "model_name": "HTMLModel",
      "state": {
       "layout": "IPY_MODEL_fbe73c5722cb42afade8a674353a9bbf",
       "style": "IPY_MODEL_f67e14d15345445a8150b61c8e3f3575",
       "value": "<div style='background-color:#6E6BF4;'>&nbsp;</div>"
      }
     },
     "4fbfd617310d4705b05ae4265e42f6d3": {
      "model_module": "@jupyter-widgets/controls",
      "model_module_version": "1.5.0",
      "model_name": "DescriptionStyleModel",
      "state": {
       "description_width": ""
      }
     },
     "4fd35320438048ebb63063b19d3795db": {
      "model_module": "@jupyter-widgets/base",
      "model_module_version": "1.2.0",
      "model_name": "LayoutModel",
      "state": {
       "grid_area": "widget056",
       "margin": "0"
      }
     },
     "4fdd0842dfd448dbb3e70ef5c5710178": {
      "model_module": "@jupyter-widgets/controls",
      "model_module_version": "1.5.0",
      "model_name": "DescriptionStyleModel",
      "state": {
       "description_width": ""
      }
     },
     "501b4a035847465198914509a628addc": {
      "model_module": "@jupyter-widgets/base",
      "model_module_version": "1.2.0",
      "model_name": "LayoutModel",
      "state": {
       "grid_area": "widget014",
       "margin": "0"
      }
     },
     "50870f0f147a4aa388758b7ae392193c": {
      "model_module": "@jupyter-widgets/controls",
      "model_module_version": "1.5.0",
      "model_name": "DescriptionStyleModel",
      "state": {
       "description_width": ""
      }
     },
     "50e81b16f00b4a668324afcf78eaf907": {
      "model_module": "@jupyter-widgets/base",
      "model_module_version": "1.2.0",
      "model_name": "LayoutModel",
      "state": {
       "grid_area": "widget082",
       "margin": "0"
      }
     },
     "510448d6c507433dafefd8399be19dfc": {
      "model_module": "@jupyter-widgets/controls",
      "model_module_version": "1.5.0",
      "model_name": "HTMLModel",
      "state": {
       "layout": "IPY_MODEL_9745b13abe114474a7915910a5ee9d39",
       "style": "IPY_MODEL_1d2a767395d14ed69580b656d4572a05",
       "value": "<div style='background-color:white;'>&nbsp;</div>"
      }
     },
     "514983e2d7f24f77b4f0ed978ccef54f": {
      "model_module": "@jupyter-widgets/controls",
      "model_module_version": "1.5.0",
      "model_name": "DescriptionStyleModel",
      "state": {
       "description_width": ""
      }
     },
     "5149cdd6e73144cdb74d51f30a343488": {
      "model_module": "@jupyter-widgets/base",
      "model_module_version": "1.2.0",
      "model_name": "LayoutModel",
      "state": {
       "grid_area": "widget076",
       "margin": "0"
      }
     },
     "515e5eeabb464bbaba7676a41783feee": {
      "model_module": "@jupyter-widgets/controls",
      "model_module_version": "1.5.0",
      "model_name": "HTMLModel",
      "state": {
       "layout": "IPY_MODEL_1044ff1bcee44f51a56e07a18978de04",
       "style": "IPY_MODEL_a8725e8987e34a2485003ea7ab43a1f1",
       "value": "<div style='background-color:#6E6BF4; font-family:monospace'>&nbsp;</div>"
      }
     },
     "51899a8bf6b24b73b78f592a95373e38": {
      "model_module": "@jupyter-widgets/controls",
      "model_module_version": "1.5.0",
      "model_name": "VBoxModel",
      "state": {
       "children": [
        "IPY_MODEL_8755ad300cd64d4bab58850c32704b23",
        "IPY_MODEL_df3a08ac22b143d6aac16fbca2b20768",
        "IPY_MODEL_4a2bb4a26731469f99c2b25e4bc21fa1"
       ],
       "layout": "IPY_MODEL_79a11030eabe4f19b6e81048d021dd11"
      }
     },
     "51bc162ec5db42f2a03d3ffc0621fa1d": {
      "model_module": "@jupyter-widgets/controls",
      "model_module_version": "1.5.0",
      "model_name": "DescriptionStyleModel",
      "state": {
       "description_width": ""
      }
     },
     "51d9400cecb6438a9461253ccf4fe710": {
      "model_module": "@jupyter-widgets/controls",
      "model_module_version": "1.5.0",
      "model_name": "HTMLModel",
      "state": {
       "layout": "IPY_MODEL_7959edcdac634b44bc6cdbefc7ee95e9",
       "style": "IPY_MODEL_8a3683068c914e13920bf04fbee6fdc6",
       "value": "<div style='background-color:white;'>&nbsp;</div>"
      }
     },
     "522fa91c568648178125ef4ff8231f7a": {
      "model_module": "@jupyter-widgets/base",
      "model_module_version": "1.2.0",
      "model_name": "LayoutModel",
      "state": {
       "grid_area": "widget029",
       "margin": "0"
      }
     },
     "52539a58092b440da50153082c4f76c9": {
      "model_module": "@jupyter-widgets/base",
      "model_module_version": "1.2.0",
      "model_name": "LayoutModel",
      "state": {
       "grid_area": "widget103",
       "margin": "0"
      }
     },
     "525e6334d9f7456c9a7b7c5f15f6b1ab": {
      "model_module": "@jupyter-widgets/controls",
      "model_module_version": "1.5.0",
      "model_name": "DescriptionStyleModel",
      "state": {
       "description_width": ""
      }
     },
     "526bbf6debc445d493cf33208d8e25c5": {
      "model_module": "@jupyter-widgets/controls",
      "model_module_version": "1.5.0",
      "model_name": "DescriptionStyleModel",
      "state": {
       "description_width": ""
      }
     },
     "52f31660d15646d889a6d57c3cae41ef": {
      "model_module": "@jupyter-widgets/controls",
      "model_module_version": "1.5.0",
      "model_name": "HTMLModel",
      "state": {
       "layout": "IPY_MODEL_abbe1a78acb845399b1c2b283ca37979",
       "style": "IPY_MODEL_9e39f6bb7858444f84f12b5330935a07",
       "value": "<div style='background-color:white;'>&nbsp;</div>"
      }
     },
     "534d338882e34f678ac9c9d312e53bc8": {
      "model_module": "@jupyter-widgets/controls",
      "model_module_version": "1.5.0",
      "model_name": "HTMLModel",
      "state": {
       "layout": "IPY_MODEL_b12b0bed130046a1b73f4b981e6f7598",
       "style": "IPY_MODEL_5c71961cbe7f46c49bf43b4450a23c7e",
       "value": "<div style='background-color:#6E6BF4;'>&nbsp;</div>"
      }
     },
     "535feee0364040cbbcf3f3b92e9da8d9": {
      "model_module": "@jupyter-widgets/controls",
      "model_module_version": "1.5.0",
      "model_name": "DescriptionStyleModel",
      "state": {
       "description_width": ""
      }
     },
     "53791f0c5b92475bbca5072c939a1bf6": {
      "model_module": "@jupyter-widgets/controls",
      "model_module_version": "1.5.0",
      "model_name": "HTMLModel",
      "state": {
       "layout": "IPY_MODEL_2cfea8ae72054eaab29dc79b334f9c2c",
       "style": "IPY_MODEL_799bd18f71154bcabd753d1d1ae40283",
       "value": "<div style='background-color:#6E6BF4;'>&nbsp;</div>"
      }
     },
     "537ccf91bc6349f588dc106b5813bd30": {
      "model_module": "@jupyter-widgets/controls",
      "model_module_version": "1.5.0",
      "model_name": "HTMLModel",
      "state": {
       "layout": "IPY_MODEL_3df9c2f6255a494b98766925b5e9fbf4",
       "style": "IPY_MODEL_83f8816c93be40688d69a5afe9bb1598",
       "value": "<div style='background-color:#6E6BF4;'>&nbsp;</div>"
      }
     },
     "53c4aea589624ae5adb2ad7553618f20": {
      "model_module": "@jupyter-widgets/controls",
      "model_module_version": "1.5.0",
      "model_name": "HTMLModel",
      "state": {
       "layout": "IPY_MODEL_61222049aa354adf9b5ffc0d77d79171",
       "style": "IPY_MODEL_0372cd8410dd4ad49a66af847538645b",
       "value": "<div style='background-color:white;'>&nbsp;</div>"
      }
     },
     "53e42bceb93844cba444e17cd43b5916": {
      "model_module": "@jupyter-widgets/base",
      "model_module_version": "1.2.0",
      "model_name": "LayoutModel",
      "state": {
       "grid_area": "widget040",
       "margin": "0"
      }
     },
     "541eeb49ded648a1b7daf95b1fa3469a": {
      "model_module": "@jupyter-widgets/base",
      "model_module_version": "1.2.0",
      "model_name": "LayoutModel",
      "state": {
       "grid_area": "widget001",
       "margin": "0"
      }
     },
     "5424414f25d147238b84d7406e0c3f72": {
      "model_module": "@jupyter-widgets/controls",
      "model_module_version": "1.5.0",
      "model_name": "HTMLModel",
      "state": {
       "layout": "IPY_MODEL_a63654d6cbd34761bf6eda90bd082016",
       "style": "IPY_MODEL_11194d91e70a4ff88cc25c09578e7e22",
       "value": "<div style='background-color:white;'>&nbsp;</div>"
      }
     },
     "5424f24b26ca4bcc975dc944cf4af0d8": {
      "model_module": "@jupyter-widgets/base",
      "model_module_version": "1.2.0",
      "model_name": "LayoutModel",
      "state": {
       "grid_area": "widget012",
       "margin": "0"
      }
     },
     "542b972c6fc242f989f0d5b45396544c": {
      "model_module": "@jupyter-widgets/controls",
      "model_module_version": "1.5.0",
      "model_name": "HTMLModel",
      "state": {
       "layout": "IPY_MODEL_8293f19b664b412691ad58de3d79ba0c",
       "style": "IPY_MODEL_3b65e581883c43db94cba570ff0a80c3",
       "value": "<div style='background-color:white;'>&nbsp;</div>"
      }
     },
     "54396e62c5a8489296e357efb72c45b0": {
      "model_module": "@jupyter-widgets/base",
      "model_module_version": "1.2.0",
      "model_name": "LayoutModel",
      "state": {
       "grid_area": "widget075",
       "margin": "0"
      }
     },
     "5470351295364ff3a36b57401a772635": {
      "model_module": "@jupyter-widgets/controls",
      "model_module_version": "1.5.0",
      "model_name": "DescriptionStyleModel",
      "state": {
       "description_width": ""
      }
     },
     "5489a9d721ac41e2beb1a355e4049a0e": {
      "model_module": "@jupyter-widgets/controls",
      "model_module_version": "1.5.0",
      "model_name": "HTMLModel",
      "state": {
       "layout": "IPY_MODEL_4956b675c1424494906fa567fee19c3d",
       "style": "IPY_MODEL_968016fdaeaa4ec09166ff516da59c08",
       "value": "<div style='background-color:white;'>&nbsp;</div>"
      }
     },
     "548d7fa8c62b4977a34123da2d7bdea6": {
      "model_module": "@jupyter-widgets/controls",
      "model_module_version": "1.5.0",
      "model_name": "HTMLModel",
      "state": {
       "layout": "IPY_MODEL_b65ba8e1724d4873b64fb7dcf7ae663d",
       "style": "IPY_MODEL_60456ad935ea489a87c38e9d5258c018",
       "value": "<div style='background-color:white;'>&nbsp;</div>"
      }
     },
     "558d67721f474feb81066de8b05d5999": {
      "model_module": "@jupyter-widgets/base",
      "model_module_version": "1.2.0",
      "model_name": "LayoutModel",
      "state": {
       "grid_area": "widget082",
       "margin": "0"
      }
     },
     "55f1c2c145294236a72dc0f141c532be": {
      "model_module": "@jupyter-widgets/controls",
      "model_module_version": "1.5.0",
      "model_name": "HTMLModel",
      "state": {
       "layout": "IPY_MODEL_541eeb49ded648a1b7daf95b1fa3469a",
       "style": "IPY_MODEL_84d030ada3d54f2ea249081def5a0d1e",
       "value": "<div style='background-color:white;'>&nbsp;</div>"
      }
     },
     "5629e9c981834270a9561ac6f1c92879": {
      "model_module": "@jupyter-widgets/base",
      "model_module_version": "1.2.0",
      "model_name": "LayoutModel",
      "state": {
       "grid_area": "widget080",
       "margin": "0"
      }
     },
     "56a6e9fe68de4c7388591204f4b84ee3": {
      "model_module": "@jupyter-widgets/base",
      "model_module_version": "1.2.0",
      "model_name": "LayoutModel",
      "state": {
       "grid_area": "widget070",
       "margin": "0"
      }
     },
     "56b2c4a1f05443b58b7d2246acede658": {
      "model_module": "@jupyter-widgets/controls",
      "model_module_version": "1.5.0",
      "model_name": "DescriptionStyleModel",
      "state": {
       "description_width": ""
      }
     },
     "56d0327ab5b5469fa8cd1cfee7d87480": {
      "model_module": "@jupyter-widgets/controls",
      "model_module_version": "1.5.0",
      "model_name": "DescriptionStyleModel",
      "state": {
       "description_width": ""
      }
     },
     "56f510b2399f44f49b0d649c5c5de769": {
      "model_module": "@jupyter-widgets/base",
      "model_module_version": "1.2.0",
      "model_name": "LayoutModel",
      "state": {
       "grid_area": "widget049",
       "margin": "0"
      }
     },
     "5739f7c37a624d58a726fa5ef9e1e529": {
      "model_module": "@jupyter-widgets/controls",
      "model_module_version": "1.5.0",
      "model_name": "HTMLModel",
      "state": {
       "layout": "IPY_MODEL_bcd161284566497c8d72b93c724a887c",
       "style": "IPY_MODEL_302a08e41ebd49a592ab291f15064945",
       "value": "<div style='background-color:white;'>&nbsp;</div>"
      }
     },
     "5750069ee6824b15bedbdc912d52c6d8": {
      "model_module": "@jupyter-widgets/controls",
      "model_module_version": "1.5.0",
      "model_name": "HTMLModel",
      "state": {
       "layout": "IPY_MODEL_dd9cbff32c1540fcbed881c8ed1e9042",
       "style": "IPY_MODEL_ff18d307cd4d479bbb5f425c324104be",
       "value": "<div style='background-color:white;'>&nbsp;</div>"
      }
     },
     "5775ffae568f4ddfbcc51bbd98e8c22d": {
      "model_module": "@jupyter-widgets/base",
      "model_module_version": "1.2.0",
      "model_name": "LayoutModel",
      "state": {
       "grid_area": "widget105",
       "margin": "0"
      }
     },
     "577886a451a8463c8706b1af45225c89": {
      "model_module": "@jupyter-widgets/base",
      "model_module_version": "1.2.0",
      "model_name": "LayoutModel",
      "state": {
       "grid_area": "widget050",
       "margin": "0"
      }
     },
     "57825cac7abc4d939dbfd4a891ad1f60": {
      "model_module": "@jupyter-widgets/base",
      "model_module_version": "1.2.0",
      "model_name": "LayoutModel",
      "state": {
       "grid_area": "widget044",
       "margin": "0"
      }
     },
     "57a41cc41f844e67bf805c0dbad39a80": {
      "model_module": "@jupyter-widgets/controls",
      "model_module_version": "1.5.0",
      "model_name": "HTMLModel",
      "state": {
       "layout": "IPY_MODEL_91c71a1a4e844cd3b32fc5d6566cdcb5",
       "style": "IPY_MODEL_8f797f17d4f9443e9ee7f9337b983dbd",
       "value": "<div style='background-color:#FFB858; font-weight:bold; padding-right: 2em;'>source1.spectrum.main.Powerlaw.K</div>"
      }
     },
     "57c5d530a9e34441afb99c565238af03": {
      "model_module": "@jupyter-widgets/controls",
      "model_module_version": "1.5.0",
      "model_name": "DescriptionStyleModel",
      "state": {
       "description_width": ""
      }
     },
     "57fa564984d94b79abbf2d1f5405e4ca": {
      "model_module": "@jupyter-widgets/controls",
      "model_module_version": "1.5.0",
      "model_name": "FloatProgressModel",
      "state": {
       "layout": "IPY_MODEL_c6697e12666a403ea70e577a2f26902d",
       "style": "IPY_MODEL_5ada36e2f20b418085690c96684be96e",
       "value": 100
      }
     },
     "587e44f55c334d7e9038d04603d66fc4": {
      "model_module": "@jupyter-widgets/controls",
      "model_module_version": "1.5.0",
      "model_name": "DescriptionStyleModel",
      "state": {
       "description_width": ""
      }
     },
     "5889b3bcf33d494385fee9b0c5bb97ef": {
      "model_module": "@jupyter-widgets/controls",
      "model_module_version": "1.5.0",
      "model_name": "HTMLModel",
      "state": {
       "layout": "IPY_MODEL_2ff19659219d4d15a9729aac61e38525",
       "style": "IPY_MODEL_f7c0f9a69e674969b73c7c24c08d4720",
       "value": "<div style='background-color:white;'>&nbsp;</div>"
      }
     },
     "58b942e438d14fef8f8d14623958a73a": {
      "model_module": "@jupyter-widgets/controls",
      "model_module_version": "1.5.0",
      "model_name": "DescriptionStyleModel",
      "state": {
       "description_width": ""
      }
     },
     "58f7c99d51224bbcac480039f7fe19dd": {
      "model_module": "@jupyter-widgets/controls",
      "model_module_version": "1.5.0",
      "model_name": "DescriptionStyleModel",
      "state": {
       "description_width": ""
      }
     },
     "5928a086b35d4d7b9137cebed09e5c50": {
      "model_module": "@jupyter-widgets/base",
      "model_module_version": "1.2.0",
      "model_name": "LayoutModel",
      "state": {
       "grid_area": "widget046",
       "margin": "0"
      }
     },
     "595e62989b8c45a79919d4086785f313": {
      "model_module": "@jupyter-widgets/base",
      "model_module_version": "1.2.0",
      "model_name": "LayoutModel",
      "state": {
       "grid_area": "widget086",
       "margin": "0"
      }
     },
     "595f90257beb40b8b90ae9c6678f3779": {
      "model_module": "@jupyter-widgets/controls",
      "model_module_version": "1.5.0",
      "model_name": "DescriptionStyleModel",
      "state": {
       "description_width": ""
      }
     },
     "59ec60ec7bd64311991811e718d65e5c": {
      "model_module": "@jupyter-widgets/controls",
      "model_module_version": "1.5.0",
      "model_name": "DescriptionStyleModel",
      "state": {
       "description_width": ""
      }
     },
     "59f0ee5f4f82453391c9c1c34c356e8a": {
      "model_module": "@jupyter-widgets/controls",
      "model_module_version": "1.5.0",
      "model_name": "HTMLModel",
      "state": {
       "layout": "IPY_MODEL_723d72eb97f140f784dff8b43d181e04",
       "style": "IPY_MODEL_7f11ce022bba41648fa3aadd3da6a90e",
       "value": "<div style='background-color:white;'>&nbsp;</div>"
      }
     },
     "5a2008da6f984a84abd564ddc92d67b8": {
      "model_module": "@jupyter-widgets/base",
      "model_module_version": "1.2.0",
      "model_name": "LayoutModel",
      "state": {
       "grid_area": "widget059",
       "margin": "0"
      }
     },
     "5a47b2e11686485a86357ce7cf7bd0a6": {
      "model_module": "@jupyter-widgets/base",
      "model_module_version": "1.2.0",
      "model_name": "LayoutModel",
      "state": {
       "grid_area": "widget106",
       "margin": "0"
      }
     },
     "5a9e3d10f45c44a39e673e9042ec0e7a": {
      "model_module": "@jupyter-widgets/base",
      "model_module_version": "1.2.0",
      "model_name": "LayoutModel",
      "state": {
       "grid_area": "widget052",
       "margin": "0"
      }
     },
     "5acc7f78093a47ad8018fc302c62fc58": {
      "model_module": "@jupyter-widgets/base",
      "model_module_version": "1.2.0",
      "model_name": "LayoutModel",
      "state": {}
     },
     "5ada36e2f20b418085690c96684be96e": {
      "model_module": "@jupyter-widgets/controls",
      "model_module_version": "1.5.0",
      "model_name": "ProgressStyleModel",
      "state": {
       "description_width": ""
      }
     },
     "5b2c899c50d64c00a64f1c2abf24d47c": {
      "model_module": "@jupyter-widgets/controls",
      "model_module_version": "1.5.0",
      "model_name": "DescriptionStyleModel",
      "state": {
       "description_width": ""
      }
     },
     "5b61b9c3e44f4345b59acc45978eb296": {
      "model_module": "@jupyter-widgets/controls",
      "model_module_version": "1.5.0",
      "model_name": "HTMLModel",
      "state": {
       "layout": "IPY_MODEL_dcae54f8b72240fe979da28d0cbaf7ff",
       "style": "IPY_MODEL_51bc162ec5db42f2a03d3ffc0621fa1d",
       "value": "<div style='background-color:white;'>&nbsp;</div>"
      }
     },
     "5c3048178da146e9ad5a1c7147eed1cd": {
      "model_module": "@jupyter-widgets/base",
      "model_module_version": "1.2.0",
      "model_name": "LayoutModel",
      "state": {
       "grid_area": "widget065",
       "margin": "0"
      }
     },
     "5c71961cbe7f46c49bf43b4450a23c7e": {
      "model_module": "@jupyter-widgets/controls",
      "model_module_version": "1.5.0",
      "model_name": "DescriptionStyleModel",
      "state": {
       "description_width": ""
      }
     },
     "5c829ddeac754a95ac640a4059f0fd79": {
      "model_module": "@jupyter-widgets/controls",
      "model_module_version": "1.5.0",
      "model_name": "DescriptionStyleModel",
      "state": {
       "description_width": ""
      }
     },
     "5c932fe2cde140c2baabfa77107b16ee": {
      "model_module": "@jupyter-widgets/controls",
      "model_module_version": "1.5.0",
      "model_name": "HTMLModel",
      "state": {
       "layout": "IPY_MODEL_0697e967dcef41878b5203af7311567f",
       "style": "IPY_MODEL_1b5cdc6618774b6e924b2742a64f2de5",
       "value": "<div style='background-color:white;'>&nbsp;</div>"
      }
     },
     "5c93ed6a490b47dda7b06ba921685dd6": {
      "model_module": "@jupyter-widgets/controls",
      "model_module_version": "1.5.0",
      "model_name": "DescriptionStyleModel",
      "state": {
       "description_width": ""
      }
     },
     "5cb5e772d27e4f1e8af118f0aebc1858": {
      "model_module": "@jupyter-widgets/controls",
      "model_module_version": "1.5.0",
      "model_name": "HTMLModel",
      "state": {
       "layout": "IPY_MODEL_34b5c1812d2a4f5098dc0649df06b42d",
       "style": "IPY_MODEL_07f01c26b73544818e3d0de01d0f753d",
       "value": "<div style='background-color:white;'>&nbsp;</div>"
      }
     },
     "5d05e24b920d41118bff014090e61758": {
      "model_module": "@jupyter-widgets/base",
      "model_module_version": "1.2.0",
      "model_name": "LayoutModel",
      "state": {
       "grid_area": "widget004",
       "margin": "0"
      }
     },
     "5d2e245a5cab4714b87e45d18cbeed15": {
      "model_module": "@jupyter-widgets/base",
      "model_module_version": "1.2.0",
      "model_name": "LayoutModel",
      "state": {}
     },
     "5d59443e07014c9ab80ba874ceb58a08": {
      "model_module": "@jupyter-widgets/controls",
      "model_module_version": "1.5.0",
      "model_name": "DescriptionStyleModel",
      "state": {
       "description_width": ""
      }
     },
     "5d6e55d1e23d4ba3a423f5f422c438ae": {
      "model_module": "@jupyter-widgets/controls",
      "model_module_version": "1.5.0",
      "model_name": "DescriptionStyleModel",
      "state": {
       "description_width": ""
      }
     },
     "5e08ccfad38541718848530fd9516d22": {
      "model_module": "@jupyter-widgets/base",
      "model_module_version": "1.2.0",
      "model_name": "LayoutModel",
      "state": {
       "grid_area": "widget022",
       "margin": "0"
      }
     },
     "5e416d77f19a4f8b9be54801ba53953b": {
      "model_module": "@jupyter-widgets/controls",
      "model_module_version": "1.5.0",
      "model_name": "DescriptionStyleModel",
      "state": {
       "description_width": ""
      }
     },
     "5e42013ea39b428a84aa9c17bb8a4330": {
      "model_module": "@jupyter-widgets/controls",
      "model_module_version": "1.5.0",
      "model_name": "HTMLModel",
      "state": {
       "layout": "IPY_MODEL_cf040ef032fb4229a1aa336b43c4cec6",
       "style": "IPY_MODEL_d829376bdd2c4fbc8addc598bf097524",
       "value": "<div style='background-color:white;'>&nbsp;</div>"
      }
     },
     "5e97e2c1059a4d6eb431cee5f36bef15": {
      "model_module": "@jupyter-widgets/base",
      "model_module_version": "1.2.0",
      "model_name": "LayoutModel",
      "state": {
       "grid_area": "widget037",
       "margin": "0"
      }
     },
     "5eb200315df8430e8c77333cbfc5be07": {
      "model_module": "@jupyter-widgets/controls",
      "model_module_version": "1.5.0",
      "model_name": "DescriptionStyleModel",
      "state": {
       "description_width": ""
      }
     },
     "5efb478a82ca4bc6b0001fecb9443b99": {
      "model_module": "@jupyter-widgets/base",
      "model_module_version": "1.2.0",
      "model_name": "LayoutModel",
      "state": {
       "grid_area": "widget063",
       "margin": "0"
      }
     },
     "5f0df1e622244c96a44f01f5f1189650": {
      "model_module": "@jupyter-widgets/controls",
      "model_module_version": "1.5.0",
      "model_name": "HTMLModel",
      "state": {
       "layout": "IPY_MODEL_21b80f34ede4499d8547f10b88005e0f",
       "style": "IPY_MODEL_b6bc55e49c9b490d8b219c7933e734f4",
       "value": "<div style='background-color:white;'>&nbsp;</div>"
      }
     },
     "5f73477214f04ad98a2e8072ab74766f": {
      "model_module": "@jupyter-widgets/base",
      "model_module_version": "1.2.0",
      "model_name": "LayoutModel",
      "state": {
       "grid_area": "widget008",
       "margin": "0"
      }
     },
     "5f94ed316b634ce5bab2cf3288c76bf9": {
      "model_module": "@jupyter-widgets/base",
      "model_module_version": "1.2.0",
      "model_name": "LayoutModel",
      "state": {
       "grid_area": "widget045",
       "margin": "0"
      }
     },
     "5fa2f44ece1d4aebb4c3462ccc85a3f5": {
      "model_module": "@jupyter-widgets/controls",
      "model_module_version": "1.5.0",
      "model_name": "HTMLModel",
      "state": {
       "layout": "IPY_MODEL_0b8feca1850c476a942febc2235e3c34",
       "style": "IPY_MODEL_233168855b74439493fa43eeabbf3116",
       "value": "<div style='background-color:#6E6BF4;'>&nbsp;</div>"
      }
     },
     "602efb9036554a60aa20b13f3208e06d": {
      "model_module": "@jupyter-widgets/controls",
      "model_module_version": "1.5.0",
      "model_name": "HTMLModel",
      "state": {
       "layout": "IPY_MODEL_01bd4fb9f4604e48b4180c1f61f4ac5b",
       "style": "IPY_MODEL_c0401ecdee2e44598dda5248c144e2c9",
       "value": "<div style='background-color:white;'>&nbsp;</div>"
      }
     },
     "60456ad935ea489a87c38e9d5258c018": {
      "model_module": "@jupyter-widgets/controls",
      "model_module_version": "1.5.0",
      "model_name": "DescriptionStyleModel",
      "state": {
       "description_width": ""
      }
     },
     "609fdf9e7808480abdd14ae25d8af067": {
      "model_module": "@jupyter-widgets/controls",
      "model_module_version": "1.5.0",
      "model_name": "HTMLModel",
      "state": {
       "layout": "IPY_MODEL_724d9cff446d46feb646e31310a35b12",
       "style": "IPY_MODEL_9a6a64f6b4d049469bf1a19ff6b17a77",
       "value": "<div style='background-color:#6E6BF4;'>&nbsp;</div>"
      }
     },
     "61183cb9c86242c9897cc2c6c1dd1e30": {
      "model_module": "@jupyter-widgets/controls",
      "model_module_version": "1.5.0",
      "model_name": "DescriptionStyleModel",
      "state": {
       "description_width": ""
      }
     },
     "61222049aa354adf9b5ffc0d77d79171": {
      "model_module": "@jupyter-widgets/base",
      "model_module_version": "1.2.0",
      "model_name": "LayoutModel",
      "state": {
       "grid_area": "widget061",
       "margin": "0"
      }
     },
     "612be434ef6c41438f32b380d7e0a20d": {
      "model_module": "@jupyter-widgets/controls",
      "model_module_version": "1.5.0",
      "model_name": "HTMLModel",
      "state": {
       "layout": "IPY_MODEL_0c9764cf5c984903bee1f83b4ac58e18",
       "style": "IPY_MODEL_59ec60ec7bd64311991811e718d65e5c",
       "value": "<div style='background-color:white;'>&nbsp;</div>"
      }
     },
     "6131412330af484ba3991ad2acdb03c4": {
      "model_module": "@jupyter-widgets/controls",
      "model_module_version": "1.5.0",
      "model_name": "DescriptionStyleModel",
      "state": {
       "description_width": ""
      }
     },
     "613bf842bcd44482a88fa48257ccca36": {
      "model_module": "@jupyter-widgets/controls",
      "model_module_version": "1.5.0",
      "model_name": "HTMLModel",
      "state": {
       "layout": "IPY_MODEL_df5c76466b304271925e3c3cc75066fe",
       "style": "IPY_MODEL_f54cd88788b44a8191d1829138f72065",
       "value": "<div style='background-color:white;'>&nbsp;</div>"
      }
     },
     "61440ccad119458cac0820bfb118413c": {
      "model_module": "@jupyter-widgets/base",
      "model_module_version": "1.2.0",
      "model_name": "LayoutModel",
      "state": {
       "grid_area": "widget010",
       "margin": "0"
      }
     },
     "6151aac38bab410aa561fb9140eb4d5d": {
      "model_module": "@jupyter-widgets/controls",
      "model_module_version": "1.5.0",
      "model_name": "DescriptionStyleModel",
      "state": {
       "description_width": ""
      }
     },
     "615dc55c024f48319d42c2e6d4946394": {
      "model_module": "@jupyter-widgets/base",
      "model_module_version": "1.2.0",
      "model_name": "LayoutModel",
      "state": {
       "grid_area": "widget016",
       "margin": "0"
      }
     },
     "61c512a162c34afcb498716087df68d6": {
      "model_module": "@jupyter-widgets/base",
      "model_module_version": "1.2.0",
      "model_name": "LayoutModel",
      "state": {
       "grid_area": "widget105",
       "margin": "0"
      }
     },
     "61fd212856af439a97b0606a789e2d8a": {
      "model_module": "@jupyter-widgets/controls",
      "model_module_version": "1.5.0",
      "model_name": "DescriptionStyleModel",
      "state": {
       "description_width": ""
      }
     },
     "6221a5f58df543688f8a112d1109bfb1": {
      "model_module": "@jupyter-widgets/controls",
      "model_module_version": "1.5.0",
      "model_name": "HTMLModel",
      "state": {
       "layout": "IPY_MODEL_7a55ee8026e54455affe64f782a332b4",
       "style": "IPY_MODEL_1912a8e1876b4deca84e8d8d5fc89e05",
       "value": "<div style='background-color:#6E6BF4; font-family:monospace'>&nbsp;</div>"
      }
     },
     "6241fbecc6114bddbd09686f5fa0d42d": {
      "model_module": "@jupyter-widgets/controls",
      "model_module_version": "1.5.0",
      "model_name": "DescriptionStyleModel",
      "state": {
       "description_width": ""
      }
     },
     "62dceff2b0414939b75bd96b441115eb": {
      "model_module": "@jupyter-widgets/controls",
      "model_module_version": "1.5.0",
      "model_name": "HTMLModel",
      "state": {
       "layout": "IPY_MODEL_954c7e8670024795a32dce68456740c8",
       "style": "IPY_MODEL_281c80dc267c461f90edb51a1c5af42e",
       "value": "<div style='background-color:#6E6BF4;'>&nbsp;</div>"
      }
     },
     "631b57f2b388442ba05a2ce744ddd45d": {
      "model_module": "@jupyter-widgets/controls",
      "model_module_version": "1.5.0",
      "model_name": "HTMLModel",
      "state": {
       "layout": "IPY_MODEL_6655b81b380540cbb1b7153d363606cd",
       "style": "IPY_MODEL_0b053c8637a44c539c45189ec069e7dd",
       "value": "<div style='background-color:white;'>&nbsp;</div>"
      }
     },
     "6355d353e12049369bf58b7def1dd0e6": {
      "model_module": "@jupyter-widgets/base",
      "model_module_version": "1.2.0",
      "model_name": "LayoutModel",
      "state": {
       "grid_area": "widget027",
       "margin": "0"
      }
     },
     "6368818adc9a44e1bb977866a737acfa": {
      "model_module": "@jupyter-widgets/controls",
      "model_module_version": "1.5.0",
      "model_name": "HTMLModel",
      "state": {
       "layout": "IPY_MODEL_6bd3f1c76987412f877040d62ed5a270",
       "style": "IPY_MODEL_ad351e1d423c47d8a13c8815e3fdb4f7",
       "value": "<div style='background-color:#6E6BF4;'>&nbsp;</div>"
      }
     },
     "63fec6c303104ff68788c2d14014398d": {
      "model_module": "@jupyter-widgets/base",
      "model_module_version": "1.2.0",
      "model_name": "LayoutModel",
      "state": {
       "grid_area": "widget104",
       "margin": "0"
      }
     },
     "64012e8c36b04d659923a7236ef240c8": {
      "model_module": "@jupyter-widgets/base",
      "model_module_version": "1.2.0",
      "model_name": "LayoutModel",
      "state": {}
     },
     "6425b752495e419ebf34085d5c64c9c7": {
      "model_module": "@jupyter-widgets/base",
      "model_module_version": "1.2.0",
      "model_name": "LayoutModel",
      "state": {
       "grid_area": "widget031",
       "margin": "0"
      }
     },
     "6463431e67354afcb9e59c48baa797e0": {
      "model_module": "@jupyter-widgets/base",
      "model_module_version": "1.2.0",
      "model_name": "LayoutModel",
      "state": {
       "grid_template_areas": "\"widget051 widget052 widget001 widget002 widget003 widget004 widget005 widget006 widget007 widget008 widget009 widget010 widget011 widget012 widget013 widget014 widget015 widget016 widget017 widget018 widget019 widget020 widget021 widget022 widget023 widget024 widget025 widget026 widget027 widget028 widget029 widget030 widget031 widget032 widget033 widget034 widget035 widget036 widget037 widget038 widget039 widget040 widget041 widget042 widget043 widget044 widget045 widget046 widget047 widget048 widget049 widget050 widget053\"\n\"widget104 widget105 widget054 widget055 widget056 widget057 widget058 widget059 widget060 widget061 widget062 widget063 widget064 widget065 widget066 widget067 widget068 widget069 widget070 widget071 widget072 widget073 widget074 widget075 widget076 widget077 widget078 widget079 widget080 widget081 widget082 widget083 widget084 widget085 widget086 widget087 widget088 widget089 widget090 widget091 widget092 widget093 widget094 widget095 widget096 widget097 widget098 widget099 widget100 widget101 widget102 widget103 widget106\"",
       "grid_template_columns": "repeat(53, 1fr)",
       "grid_template_rows": "repeat(2, 1fr)"
      }
     },
     "6479f1351a184c70981b6d2397200a9a": {
      "model_module": "@jupyter-widgets/controls",
      "model_module_version": "1.5.0",
      "model_name": "HTMLModel",
      "state": {
       "layout": "IPY_MODEL_02c0f3967284484bab835e503dc0cdaf",
       "style": "IPY_MODEL_5c829ddeac754a95ac640a4059f0fd79",
       "value": "<div style='background-color:white;'>&nbsp;</div>"
      }
     },
     "64992d0009be4f8fa2dd0d46d40f0f94": {
      "model_module": "@jupyter-widgets/controls",
      "model_module_version": "1.5.0",
      "model_name": "HTMLModel",
      "state": {
       "layout": "IPY_MODEL_4789eb83c00e4a0d813e592b87d7cea7",
       "style": "IPY_MODEL_4a3fd6734ffe4eb3af29dd9f9ef6f8d7",
       "value": "<div style='background-color:white;'>&nbsp;</div>"
      }
     },
     "64b47520b29146f4a34700fb7d077726": {
      "model_module": "@jupyter-widgets/controls",
      "model_module_version": "1.5.0",
      "model_name": "DescriptionStyleModel",
      "state": {
       "description_width": ""
      }
     },
     "64f0912d6ad7455b9ea169bebde0f3e9": {
      "model_module": "@jupyter-widgets/controls",
      "model_module_version": "1.5.0",
      "model_name": "HTMLModel",
      "state": {
       "layout": "IPY_MODEL_5e08ccfad38541718848530fd9516d22",
       "style": "IPY_MODEL_f52d161e14544f5591c6303c40769b68",
       "value": "<div style='background-color:white;'>&nbsp;</div>"
      }
     },
     "64ffbb94fb03485ba95b43122889ff73": {
      "model_module": "@jupyter-widgets/controls",
      "model_module_version": "1.5.0",
      "model_name": "DescriptionStyleModel",
      "state": {
       "description_width": ""
      }
     },
     "651977e4e02b4720a7b5f00be9625f4c": {
      "model_module": "@jupyter-widgets/controls",
      "model_module_version": "1.5.0",
      "model_name": "DescriptionStyleModel",
      "state": {
       "description_width": ""
      }
     },
     "652e12185b4148fca247037e70826311": {
      "model_module": "@jupyter-widgets/controls",
      "model_module_version": "1.5.0",
      "model_name": "HTMLModel",
      "state": {
       "layout": "IPY_MODEL_a5533432e19042c18992abc7949e0c90",
       "style": "IPY_MODEL_61183cb9c86242c9897cc2c6c1dd1e30",
       "value": "<div style='background-color:#6E6BF4;'>&nbsp;</div>"
      }
     },
     "654fc6cde75a4025a71ad0ece37b7639": {
      "model_module": "@jupyter-widgets/controls",
      "model_module_version": "1.5.0",
      "model_name": "HTMLModel",
      "state": {
       "layout": "IPY_MODEL_36a9085b13ce42f398b1746fa176edf3",
       "style": "IPY_MODEL_aa52d31fec4e4f30b711155b6b5caffb",
       "value": "<div style='background-color:white;'>&nbsp;</div>"
      }
     },
     "656d96a561dd4c06945808b306a62a08": {
      "model_module": "@jupyter-widgets/base",
      "model_module_version": "1.2.0",
      "model_name": "LayoutModel",
      "state": {
       "grid_area": "widget007",
       "margin": "0"
      }
     },
     "65d55efaf6c04316b0c67dc5d5cc85bc": {
      "model_module": "@jupyter-widgets/controls",
      "model_module_version": "1.5.0",
      "model_name": "HTMLModel",
      "state": {
       "layout": "IPY_MODEL_e81c1bf4dd074aaea26f4b4075463b84",
       "style": "IPY_MODEL_14ab7001414f4ae28f45853e12719e0a",
       "value": "<div style='background-color:white;'>&nbsp;</div>"
      }
     },
     "6617257dd7ec4c18a6e6dbecea2766a1": {
      "model_module": "@jupyter-widgets/base",
      "model_module_version": "1.2.0",
      "model_name": "LayoutModel",
      "state": {
       "grid_area": "widget028",
       "margin": "0"
      }
     },
     "6655b81b380540cbb1b7153d363606cd": {
      "model_module": "@jupyter-widgets/base",
      "model_module_version": "1.2.0",
      "model_name": "LayoutModel",
      "state": {
       "grid_area": "widget039",
       "margin": "0"
      }
     },
     "66a1e4d050f24c32a0bfa2eb687ab7e9": {
      "model_module": "@jupyter-widgets/base",
      "model_module_version": "1.2.0",
      "model_name": "LayoutModel",
      "state": {
       "grid_area": "widget079",
       "margin": "0"
      }
     },
     "66ae19ed3791435fa0e898c28395f54c": {
      "model_module": "@jupyter-widgets/controls",
      "model_module_version": "1.5.0",
      "model_name": "HTMLModel",
      "state": {
       "layout": "IPY_MODEL_6fcdf28b5ee84d578e0023c507fd86c5",
       "style": "IPY_MODEL_dfa0c0ea940c4fdaad99ae8dda134561",
       "value": "-0.00"
      }
     },
     "66f0d88ef9094288a3302c48eef2b234": {
      "model_module": "@jupyter-widgets/controls",
      "model_module_version": "1.5.0",
      "model_name": "DescriptionStyleModel",
      "state": {
       "description_width": ""
      }
     },
     "6781e6b95bd74ab58cd82be6969baa2b": {
      "model_module": "@jupyter-widgets/controls",
      "model_module_version": "1.5.0",
      "model_name": "HTMLModel",
      "state": {
       "layout": "IPY_MODEL_3685656b73b04b6ca65b29b9008254ef",
       "style": "IPY_MODEL_6d0730e7c5674ea78c10215d22ca9501",
       "value": "<div style='background-color:#6E6BF4; font-family:monospace'>&nbsp;</div>"
      }
     },
     "67a69d0f7f8c4d84acf804a5aa9b23ef": {
      "model_module": "@jupyter-widgets/base",
      "model_module_version": "1.2.0",
      "model_name": "LayoutModel",
      "state": {
       "grid_area": "widget043",
       "margin": "0"
      }
     },
     "683640eb18054abb9c459a0f7234d1d9": {
      "model_module": "@jupyter-widgets/controls",
      "model_module_version": "1.5.0",
      "model_name": "DescriptionStyleModel",
      "state": {
       "description_width": ""
      }
     },
     "685cd1fc455948df95db91efe529eb9f": {
      "model_module": "@jupyter-widgets/controls",
      "model_module_version": "1.5.0",
      "model_name": "DescriptionStyleModel",
      "state": {
       "description_width": ""
      }
     },
     "687695ea60544c7a83f905738f505cf9": {
      "model_module": "@jupyter-widgets/base",
      "model_module_version": "1.2.0",
      "model_name": "LayoutModel",
      "state": {
       "grid_area": "widget023",
       "margin": "0"
      }
     },
     "687ffe24ebd84635b58ea1586d304b29": {
      "model_module": "@jupyter-widgets/base",
      "model_module_version": "1.2.0",
      "model_name": "LayoutModel",
      "state": {
       "grid_area": "widget014",
       "margin": "0"
      }
     },
     "68edd3fb8c824ca6908da5e083b3a7cd": {
      "model_module": "@jupyter-widgets/controls",
      "model_module_version": "1.5.0",
      "model_name": "HTMLModel",
      "state": {
       "layout": "IPY_MODEL_6a84541800d84d34b7522d90f87c0e91",
       "style": "IPY_MODEL_7efd32bc84b644999f63b1a92cf9a3e4",
       "value": "<div style='background-color:white;'>&nbsp;</div>"
      }
     },
     "68ff5750726a4b26853691050cdabffa": {
      "model_module": "@jupyter-widgets/controls",
      "model_module_version": "1.5.0",
      "model_name": "DescriptionStyleModel",
      "state": {
       "description_width": ""
      }
     },
     "699b50eaa27d47f0b7de3749037529ba": {
      "model_module": "@jupyter-widgets/controls",
      "model_module_version": "1.5.0",
      "model_name": "DescriptionStyleModel",
      "state": {
       "description_width": ""
      }
     },
     "69d1577c976a494892569a63b59d0d88": {
      "model_module": "@jupyter-widgets/controls",
      "model_module_version": "1.5.0",
      "model_name": "HTMLModel",
      "state": {
       "layout": "IPY_MODEL_b72ab5e821ad44588928b59f52d8de3f",
       "style": "IPY_MODEL_68ff5750726a4b26853691050cdabffa",
       "value": "<div style='background-color:#6E6BF4;'>&nbsp;</div>"
      }
     },
     "69e5f4cdda1340e2ac18995de37efd28": {
      "model_module": "@jupyter-widgets/controls",
      "model_module_version": "1.5.0",
      "model_name": "DescriptionStyleModel",
      "state": {
       "description_width": ""
      }
     },
     "6a646b13a1b643899da7665fbb4be3a5": {
      "model_module": "@jupyter-widgets/base",
      "model_module_version": "1.2.0",
      "model_name": "LayoutModel",
      "state": {
       "grid_area": "widget066",
       "margin": "0"
      }
     },
     "6a67bf852b0c49f4b3917cbf69a3543d": {
      "model_module": "@jupyter-widgets/controls",
      "model_module_version": "1.5.0",
      "model_name": "DescriptionStyleModel",
      "state": {
       "description_width": ""
      }
     },
     "6a84541800d84d34b7522d90f87c0e91": {
      "model_module": "@jupyter-widgets/base",
      "model_module_version": "1.2.0",
      "model_name": "LayoutModel",
      "state": {
       "grid_area": "widget013",
       "margin": "0"
      }
     },
     "6aaef8c674ae4555b4ceded65ca24480": {
      "model_module": "@jupyter-widgets/controls",
      "model_module_version": "1.5.0",
      "model_name": "HTMLModel",
      "state": {
       "layout": "IPY_MODEL_b9758d325bab48448d9de18256a10009",
       "style": "IPY_MODEL_06fbcb5151df4ce885a57d01d87822bf",
       "value": "<div style='background-color:white;'>&nbsp;</div>"
      }
     },
     "6ad354148c974c84b1a7bf6c29120a19": {
      "model_module": "@jupyter-widgets/controls",
      "model_module_version": "1.5.0",
      "model_name": "HTMLModel",
      "state": {
       "layout": "IPY_MODEL_91bd93408c5b4ee89162f96d075f2b67",
       "style": "IPY_MODEL_26093460796f40c3aadf5c4bcee28442",
       "value": "<div style='background-color:white;'>&nbsp;</div>"
      }
     },
     "6b04af45459a40669801e24940f361f0": {
      "model_module": "@jupyter-widgets/controls",
      "model_module_version": "1.5.0",
      "model_name": "HTMLModel",
      "state": {
       "layout": "IPY_MODEL_8eb1ba3fbb514eee95e3ff39ca97ab2f",
       "style": "IPY_MODEL_8645f48d9cc440628994b234a3ccdb08",
       "value": "<div style='background-color:white;'>&nbsp;</div>"
      }
     },
     "6b162506c6bb4feaa66dc4856eb116d3": {
      "model_module": "@jupyter-widgets/base",
      "model_module_version": "1.2.0",
      "model_name": "LayoutModel",
      "state": {
       "grid_area": "widget056",
       "margin": "0"
      }
     },
     "6b236e9e72af463c97e96447eb2e5293": {
      "model_module": "@jupyter-widgets/controls",
      "model_module_version": "1.5.0",
      "model_name": "HTMLModel",
      "state": {
       "layout": "IPY_MODEL_5a2008da6f984a84abd564ddc92d67b8",
       "style": "IPY_MODEL_e46015caab8f406687246ab25bfd533e",
       "value": "<div style='background-color:white;'>&nbsp;</div>"
      }
     },
     "6b2e155405744acdb92e279bba4fe9af": {
      "model_module": "@jupyter-widgets/base",
      "model_module_version": "1.2.0",
      "model_name": "LayoutModel",
      "state": {}
     },
     "6b2f7b0bf2a943a28d9d7c4162511b0d": {
      "model_module": "@jupyter-widgets/base",
      "model_module_version": "1.2.0",
      "model_name": "LayoutModel",
      "state": {}
     },
     "6b57cafbee6a413386d493ae1e53aca0": {
      "model_module": "@jupyter-widgets/base",
      "model_module_version": "1.2.0",
      "model_name": "LayoutModel",
      "state": {
       "grid_area": "widget045",
       "margin": "0"
      }
     },
     "6ba5391997904fb683b6e0b1beae5813": {
      "model_module": "@jupyter-widgets/base",
      "model_module_version": "1.2.0",
      "model_name": "LayoutModel",
      "state": {
       "grid_area": "widget044",
       "margin": "0"
      }
     },
     "6ba9f645210e499b93017a12d23fc1b2": {
      "model_module": "@jupyter-widgets/controls",
      "model_module_version": "1.5.0",
      "model_name": "HTMLModel",
      "state": {
       "layout": "IPY_MODEL_558d67721f474feb81066de8b05d5999",
       "style": "IPY_MODEL_5eb200315df8430e8c77333cbfc5be07",
       "value": "<div style='background-color:white;'>&nbsp;</div>"
      }
     },
     "6bc3150ba04c41499487a32bd5dd9a7d": {
      "model_module": "@jupyter-widgets/base",
      "model_module_version": "1.2.0",
      "model_name": "LayoutModel",
      "state": {
       "grid_area": "widget079",
       "margin": "0"
      }
     },
     "6bd3f1c76987412f877040d62ed5a270": {
      "model_module": "@jupyter-widgets/base",
      "model_module_version": "1.2.0",
      "model_name": "LayoutModel",
      "state": {
       "grid_area": "widget064",
       "margin": "0"
      }
     },
     "6be393bc7be74ba0bee2b00333ffbbe2": {
      "model_module": "@jupyter-widgets/controls",
      "model_module_version": "1.5.0",
      "model_name": "HTMLModel",
      "state": {
       "layout": "IPY_MODEL_485939b7937245f1b6bed9fc37a2566f",
       "style": "IPY_MODEL_4fbfd617310d4705b05ae4265e42f6d3",
       "value": "<div style='background-color:#6E6BF4;'>&nbsp;</div>"
      }
     },
     "6c3da880ccbb460c9615da3f4725c591": {
      "model_module": "@jupyter-widgets/controls",
      "model_module_version": "1.5.0",
      "model_name": "DescriptionStyleModel",
      "state": {
       "description_width": ""
      }
     },
     "6c4122718b154129918b628ab709f65f": {
      "model_module": "@jupyter-widgets/base",
      "model_module_version": "1.2.0",
      "model_name": "LayoutModel",
      "state": {}
     },
     "6c4fb4e1f3cd448facdfaf85e5e470df": {
      "model_module": "@jupyter-widgets/base",
      "model_module_version": "1.2.0",
      "model_name": "LayoutModel",
      "state": {
       "grid_area": "widget059",
       "margin": "0"
      }
     },
     "6c8c05bcdb7048668a895a0d0196b61f": {
      "model_module": "@jupyter-widgets/base",
      "model_module_version": "1.2.0",
      "model_name": "LayoutModel",
      "state": {
       "grid_area": "widget050",
       "margin": "0"
      }
     },
     "6c9f219649b74c8f8f63c1d19798b287": {
      "model_module": "@jupyter-widgets/controls",
      "model_module_version": "1.5.0",
      "model_name": "HTMLModel",
      "state": {
       "layout": "IPY_MODEL_fb550c6282e9441bb3c48b61cde47b96",
       "style": "IPY_MODEL_56b2c4a1f05443b58b7d2246acede658",
       "value": "<div style='background-color:white;'>&nbsp;</div>"
      }
     },
     "6cc891972bc14110b0518aa0b869c27b": {
      "model_module": "@jupyter-widgets/base",
      "model_module_version": "1.2.0",
      "model_name": "LayoutModel",
      "state": {
       "grid_area": "widget005",
       "margin": "0"
      }
     },
     "6cfeb8e8ca43438fad1512751db30a37": {
      "model_module": "@jupyter-widgets/base",
      "model_module_version": "1.2.0",
      "model_name": "LayoutModel",
      "state": {
       "grid_area": "widget104",
       "margin": "0"
      }
     },
     "6d0730e7c5674ea78c10215d22ca9501": {
      "model_module": "@jupyter-widgets/controls",
      "model_module_version": "1.5.0",
      "model_name": "DescriptionStyleModel",
      "state": {
       "description_width": ""
      }
     },
     "6d10e9d655354262ae94563bd9a1106d": {
      "model_module": "@jupyter-widgets/base",
      "model_module_version": "1.2.0",
      "model_name": "LayoutModel",
      "state": {
       "grid_area": "widget081",
       "margin": "0"
      }
     },
     "6d21a3d9b9af4abb83e3a8e42d4b376a": {
      "model_module": "@jupyter-widgets/base",
      "model_module_version": "1.2.0",
      "model_name": "LayoutModel",
      "state": {
       "grid_area": "widget049",
       "margin": "0"
      }
     },
     "6d252435b4d545deb58006e714354258": {
      "model_module": "@jupyter-widgets/base",
      "model_module_version": "1.2.0",
      "model_name": "LayoutModel",
      "state": {
       "grid_area": "widget033",
       "margin": "0"
      }
     },
     "6d2fbbdc49c14aaf937fb5dfd1a9e66c": {
      "model_module": "@jupyter-widgets/controls",
      "model_module_version": "1.5.0",
      "model_name": "DescriptionStyleModel",
      "state": {
       "description_width": ""
      }
     },
     "6d976636064e488cb0950a297d40d280": {
      "model_module": "@jupyter-widgets/controls",
      "model_module_version": "1.5.0",
      "model_name": "HTMLModel",
      "state": {
       "layout": "IPY_MODEL_1448d315a9fd40aea7a22c37dd146649",
       "style": "IPY_MODEL_27e914d91270411798f3be9373b05510",
       "value": "+10.0"
      }
     },
     "6d977a2cf3ce4b1b90f44ee01df8bebe": {
      "model_module": "@jupyter-widgets/controls",
      "model_module_version": "1.5.0",
      "model_name": "HTMLModel",
      "state": {
       "layout": "IPY_MODEL_801858783b75480daff5231408e367ae",
       "style": "IPY_MODEL_8fcd3a075e1e43fda7b9a2b488162d7d",
       "value": "<div style='background-color:white;'>&nbsp;</div>"
      }
     },
     "6e5e3466d8e743fd908c0864812b362f": {
      "model_module": "@jupyter-widgets/controls",
      "model_module_version": "1.5.0",
      "model_name": "HTMLModel",
      "state": {
       "layout": "IPY_MODEL_74ad1481f47246f49955739a9e603df6",
       "style": "IPY_MODEL_a4db7d3e41de44d3bcb1cf95a835c6e9",
       "value": "<div style='background-color:#FFB858; font-weight:bold; padding-right: 2em;'>source1.spectrum.main.Powerlaw.index</div>"
      }
     },
     "6ea2b6be9b964aeea0e25a6040bcfd4b": {
      "model_module": "@jupyter-widgets/base",
      "model_module_version": "1.2.0",
      "model_name": "LayoutModel",
      "state": {
       "grid_area": "widget009",
       "margin": "0"
      }
     },
     "6eb0aa7d79064053ab1c4ef3fd14f1eb": {
      "model_module": "@jupyter-widgets/controls",
      "model_module_version": "1.5.0",
      "model_name": "HTMLModel",
      "state": {
       "layout": "IPY_MODEL_6ea2b6be9b964aeea0e25a6040bcfd4b",
       "style": "IPY_MODEL_d8efed6102f44faaac891b83535e998c",
       "value": "<div style='background-color:white;'>&nbsp;</div>"
      }
     },
     "6ebdb2b99e964d1386c8e0651a7d46ae": {
      "model_module": "@jupyter-widgets/base",
      "model_module_version": "1.2.0",
      "model_name": "LayoutModel",
      "state": {}
     },
     "6ed03d4744b4466280837d188c8d499b": {
      "model_module": "@jupyter-widgets/base",
      "model_module_version": "1.2.0",
      "model_name": "LayoutModel",
      "state": {
       "grid_area": "widget079",
       "margin": "0"
      }
     },
     "6f352016b44b49809830c77960e457e3": {
      "model_module": "@jupyter-widgets/base",
      "model_module_version": "1.2.0",
      "model_name": "LayoutModel",
      "state": {
       "grid_area": "widget025",
       "margin": "0"
      }
     },
     "6f5ea4cf7ef346bb8705aa042ad19d29": {
      "model_module": "@jupyter-widgets/controls",
      "model_module_version": "1.5.0",
      "model_name": "HTMLModel",
      "state": {
       "layout": "IPY_MODEL_0ff08c00682b448194b31939ca68d608",
       "style": "IPY_MODEL_3ea57e11fd594d638074addf34c0d0a4",
       "value": "<div style='background-color:white;'>&nbsp;</div>"
      }
     },
     "6fcdf28b5ee84d578e0023c507fd86c5": {
      "model_module": "@jupyter-widgets/base",
      "model_module_version": "1.2.0",
      "model_name": "LayoutModel",
      "state": {
       "grid_area": "widget106",
       "margin": "0"
      }
     },
     "701b163634204611ba38179d015465d3": {
      "model_module": "@jupyter-widgets/controls",
      "model_module_version": "1.5.0",
      "model_name": "HTMLModel",
      "state": {
       "layout": "IPY_MODEL_04dd4fe5e0cd493eabb891577441f047",
       "style": "IPY_MODEL_c8a897321b964a0aaf4f47ac832b5a08",
       "value": "<div style='background-color:white;'>&nbsp;</div>"
      }
     },
     "701d974ced92412698263ea1bdc388c1": {
      "model_module": "@jupyter-widgets/controls",
      "model_module_version": "1.5.0",
      "model_name": "DescriptionStyleModel",
      "state": {
       "description_width": ""
      }
     },
     "704adb55274d4573b413d8f4a8bf9a6e": {
      "model_module": "@jupyter-widgets/base",
      "model_module_version": "1.2.0",
      "model_name": "LayoutModel",
      "state": {}
     },
     "704c6137f93d4ee1a2dfe48497a42be8": {
      "model_module": "@jupyter-widgets/base",
      "model_module_version": "1.2.0",
      "model_name": "LayoutModel",
      "state": {}
     },
     "7050b5fb41a34701ba51d987e6b8a38c": {
      "model_module": "@jupyter-widgets/controls",
      "model_module_version": "1.5.0",
      "model_name": "HTMLModel",
      "state": {
       "layout": "IPY_MODEL_5775ffae568f4ddfbcc51bbd98e8c22d",
       "style": "IPY_MODEL_0319e7e16b6f4bfd96ecab8ae84466f3",
       "value": "-10.0"
      }
     },
     "7057fc28fa1e4c0dbbe799c3176f8f1b": {
      "model_module": "@jupyter-widgets/controls",
      "model_module_version": "1.5.0",
      "model_name": "HTMLModel",
      "state": {
       "layout": "IPY_MODEL_055bcffbd26241ac83bf83bbbdba7403",
       "style": "IPY_MODEL_eadd3fa556b54d6482fc722a38fdf80c",
       "value": "<div style='background-color:white;'>&nbsp;</div>"
      }
     },
     "709ec6383da34c6bbe78d0dd3a8e8d1a": {
      "model_module": "@jupyter-widgets/controls",
      "model_module_version": "1.5.0",
      "model_name": "HTMLModel",
      "state": {
       "layout": "IPY_MODEL_b0ebb9c46faa4f8087e55a3d87d81ab4",
       "style": "IPY_MODEL_e99cde2bc9d14691b740aa2c29d29cbd",
       "value": "<div style='background-color:#6E6BF4;'>&nbsp;</div>"
      }
     },
     "70ba15c29acf4d95baffa8e93f40ff68": {
      "model_module": "@jupyter-widgets/base",
      "model_module_version": "1.2.0",
      "model_name": "LayoutModel",
      "state": {
       "grid_area": "widget105",
       "margin": "0"
      }
     },
     "70c818fa0d084d8fac692ab878cc61f9": {
      "model_module": "@jupyter-widgets/base",
      "model_module_version": "1.2.0",
      "model_name": "LayoutModel",
      "state": {
       "grid_area": "widget002",
       "margin": "0"
      }
     },
     "70d94db7f71040239a2e6ac2cdc08c11": {
      "model_module": "@jupyter-widgets/controls",
      "model_module_version": "1.5.0",
      "model_name": "DescriptionStyleModel",
      "state": {
       "description_width": ""
      }
     },
     "70de23c9a923484fbe0cb4be02e84426": {
      "model_module": "@jupyter-widgets/controls",
      "model_module_version": "1.5.0",
      "model_name": "FloatProgressModel",
      "state": {
       "layout": "IPY_MODEL_6b2f7b0bf2a943a28d9d7c4162511b0d",
       "style": "IPY_MODEL_e6b166f8247c44cd9d1c366cf9e5d421",
       "value": 100
      }
     },
     "70ea50981066472d848bac0a4b87b0cd": {
      "model_module": "@jupyter-widgets/controls",
      "model_module_version": "1.5.0",
      "model_name": "HTMLModel",
      "state": {
       "layout": "IPY_MODEL_0562541300ba4e18836b12db525a4113",
       "style": "IPY_MODEL_dcf1434bac8f4c90b6b9f6d6c721c645",
       "value": "<div style='background-color:white;'>&nbsp;</div>"
      }
     },
     "710849ba9ef344aead08c456ab2ffe93": {
      "model_module": "@jupyter-widgets/base",
      "model_module_version": "1.2.0",
      "model_name": "LayoutModel",
      "state": {
       "grid_area": "widget023",
       "margin": "0"
      }
     },
     "71514a318a1640de8dd9c2713a954916": {
      "model_module": "@jupyter-widgets/controls",
      "model_module_version": "1.5.0",
      "model_name": "GridBoxModel",
      "state": {
       "children": [
        "IPY_MODEL_55f1c2c145294236a72dc0f141c532be",
        "IPY_MODEL_f374b65692ee4c0c8cc8c8b7da72a190",
        "IPY_MODEL_5424414f25d147238b84d7406e0c3f72",
        "IPY_MODEL_cc011ac5a114448392872fc137eb71f1",
        "IPY_MODEL_f193a48e60d14a038c5b57d3e4b59d34",
        "IPY_MODEL_e040ebc85463411e9aad23fc762c01de",
        "IPY_MODEL_18b7dd54cf26401eb98c3df8f7c6c2c3",
        "IPY_MODEL_18446a676e054ee6aead85215f6941f0",
        "IPY_MODEL_7f11d896aed942efa34c9bdf1c63dc3c",
        "IPY_MODEL_510448d6c507433dafefd8399be19dfc",
        "IPY_MODEL_0a3f2333e211418f9403f544733a7166",
        "IPY_MODEL_6c9f219649b74c8f8f63c1d19798b287",
        "IPY_MODEL_68edd3fb8c824ca6908da5e083b3a7cd",
        "IPY_MODEL_e314ae1e7dfd4a7e8bc410329287f382",
        "IPY_MODEL_101b5a34c3414d4bb6b5e8ae294aff4d",
        "IPY_MODEL_330b64be8f2147e18dc6563b021827be",
        "IPY_MODEL_7a177a0348f44c2fbd26bf4a68af529a",
        "IPY_MODEL_1fd4c1e36f9441898a3216a019e66a51",
        "IPY_MODEL_29fdfb6e9af54587a83aa9da600788ed",
        "IPY_MODEL_7057fc28fa1e4c0dbbe799c3176f8f1b",
        "IPY_MODEL_612be434ef6c41438f32b380d7e0a20d",
        "IPY_MODEL_70ea50981066472d848bac0a4b87b0cd",
        "IPY_MODEL_d1b52e617f074ba197ea6def19bbccc5",
        "IPY_MODEL_360c3362cd2c4146b266a5a775f02920",
        "IPY_MODEL_c66a9bdada3548d288c1661bf7dc447a",
        "IPY_MODEL_9c514d08466144f99b304078b983c857",
        "IPY_MODEL_78996104d19e42ee890a5bbbe852801c",
        "IPY_MODEL_9839f6c2ef8e4d3da0511944be770e1d",
        "IPY_MODEL_288de75f9b474bd7afa55d534800c96d",
        "IPY_MODEL_39427ad732194dcf9f88f6806f9d20ba",
        "IPY_MODEL_7ec50fb5a7fd46b19ba89edaaca537de",
        "IPY_MODEL_e5713aaa05d448e0b4f54985702b1cc6",
        "IPY_MODEL_3c23b7d4f5194e3b8762c958f4a09eff",
        "IPY_MODEL_00e0a2d31ea04cd78b0d710d9367995c",
        "IPY_MODEL_fb87b535b19246a297ebea4bbd0fa6a3",
        "IPY_MODEL_004f344edc944d89a3a7589b307ee0eb",
        "IPY_MODEL_ddf8be2d7e2043888d1ffa3e47aef543",
        "IPY_MODEL_bb7480a1c53b4a94b72ca571a158a5e9",
        "IPY_MODEL_1bc036afc1894f0dbd83ea3333623c19",
        "IPY_MODEL_025dcfa5ec9d436cb45cbd6ff5d7f2af",
        "IPY_MODEL_e96b267fe5b1496684a83a39d6643a62",
        "IPY_MODEL_7d67b480ad1f4489b657d0ef6efc073c",
        "IPY_MODEL_e6240366b18842afbed48c668e9c2a27",
        "IPY_MODEL_2aa9fa8c68354fab83190325928f0637",
        "IPY_MODEL_07ff5a9252184ea281ccae88c1f0d116",
        "IPY_MODEL_6781e6b95bd74ab58cd82be6969baa2b",
        "IPY_MODEL_87a5d2e1ae524fce8a20302bcd482b54",
        "IPY_MODEL_515e5eeabb464bbaba7676a41783feee",
        "IPY_MODEL_a18bccf6debb496caa02536d80100d2c",
        "IPY_MODEL_ad3194de37a3454f8e5d439c689c6353",
        "IPY_MODEL_91379c994d0d4438bf914f63452be01b",
        "IPY_MODEL_79dd5c09f2f742f5a82ad2466da9c01a",
        "IPY_MODEL_99e4dabf76534b3782ae8a391162f38c",
        "IPY_MODEL_89027e06d0d04123a3679dcf3f9644da",
        "IPY_MODEL_1a7fada51fdd479e9559a81ebe6c5870",
        "IPY_MODEL_43cd5a5785f441ab9eca3452a2caf5b4",
        "IPY_MODEL_7ee56b29294e43ae90ec691e48832cce",
        "IPY_MODEL_06094906f8de4ab68ec6c7ec0f0916ef",
        "IPY_MODEL_3779b40afdec457598c2ea9d9a31db00",
        "IPY_MODEL_9f796b652bac47eaa142692fab837d8d",
        "IPY_MODEL_53c4aea589624ae5adb2ad7553618f20",
        "IPY_MODEL_4e13870d4a554f778567f010093c867c",
        "IPY_MODEL_ab5e6098385145b798e9d1f52ab3282d",
        "IPY_MODEL_089f57251b3545b68a4787a6a53ecc5a",
        "IPY_MODEL_7d51ac008da64000bbeb3e309c7de79f",
        "IPY_MODEL_46bcabb420464295b71eefd2403482b4",
        "IPY_MODEL_ec50ce7d96d240dc8489c836ec3facbe",
        "IPY_MODEL_4f67745577cc48e7b367a9e81e970b18",
        "IPY_MODEL_4b65fe03cd034778921446e94cce4345",
        "IPY_MODEL_3388d3e1cf8248a78be435feb141560a",
        "IPY_MODEL_ed78adfc4b714abcb3540d29bc1bd075",
        "IPY_MODEL_da584519886e4912b45d67546ea81089",
        "IPY_MODEL_35efb93a4c0440db8a3aa9210898a756",
        "IPY_MODEL_90c51753381a429980aff0426da75fbc",
        "IPY_MODEL_d2160126baff48cc94edb0448ca794d7",
        "IPY_MODEL_cb616404b6854550aa17a582ba48095a",
        "IPY_MODEL_f17fa71d53ea4583a27d620fae1e0851",
        "IPY_MODEL_13094bf23d504e60a0ec1dae914df9bd",
        "IPY_MODEL_a6e9b7a410574868847bb8073c441b6c",
        "IPY_MODEL_bd3eaf14e32e4e5e8d434ac2e132763d",
        "IPY_MODEL_a347c2df98184b3cb4517dd0dd826fc2",
        "IPY_MODEL_90858f16304d478e905401a266cbad83",
        "IPY_MODEL_22a08324c54e46fda48fccc4e4b82865",
        "IPY_MODEL_2966f7265870447a92251423c68092b7",
        "IPY_MODEL_829e0d1d2c6c49868a608d19b10e1c6a",
        "IPY_MODEL_d11c1c309da94e9f923a5f8fbc55837a",
        "IPY_MODEL_885758a607164e0f94c6ac96cd2dd098",
        "IPY_MODEL_5739f7c37a624d58a726fa5ef9e1e529",
        "IPY_MODEL_06d060146d374be99c59dd800d1e2024",
        "IPY_MODEL_083df16fb9de4582a8ea0881da4ac7e6",
        "IPY_MODEL_c7ddc7a646984736bb3848cb8b57d68e",
        "IPY_MODEL_0b979294e05e4594a105f66ac42f5f51",
        "IPY_MODEL_06f70f25260845ab862b001532c4544c",
        "IPY_MODEL_e030bae9e8c54d15a887ae82035950d2",
        "IPY_MODEL_29029c9cd03046f39bc215862a55156f",
        "IPY_MODEL_039c17d61fe14e3db8033651e0b06bc0",
        "IPY_MODEL_ca000140d2a04c71badfe9ca3d9d8225",
        "IPY_MODEL_c0e5825890cf49ed985058cd50e63e01",
        "IPY_MODEL_43322c4264b24aae80917ea2196ee4bf",
        "IPY_MODEL_781f36d54dc4475c93f888846ad81097",
        "IPY_MODEL_4b153f97c6d74406b9e04a62de8786c0",
        "IPY_MODEL_542b972c6fc242f989f0d5b45396544c",
        "IPY_MODEL_8e140f4b6a09405e9d438aa028b426c5",
        "IPY_MODEL_6e5e3466d8e743fd908c0864812b362f",
        "IPY_MODEL_dafb2cae6e2b42b1bf2359e53e44e4dc",
        "IPY_MODEL_e263081760b1487eb37abbaf51340f33"
       ],
       "layout": "IPY_MODEL_df72782003084a568ea5b3061c842284"
      }
     },
     "719cdf1559ce40789dde860afc9757f8": {
      "model_module": "@jupyter-widgets/controls",
      "model_module_version": "1.5.0",
      "model_name": "HTMLModel",
      "state": {
       "layout": "IPY_MODEL_9bd771bdd2b2481fbf518570506ac180",
       "style": "IPY_MODEL_4a058df10c054a728bbabff36ffe9550",
       "value": "<div style='background-color:#FFB858; font-weight:bold; padding-right: 2em;'>source1.spectrum.main.Powerlaw.index</div>"
      }
     },
     "71de2adc4c274bd49d8bcd051f26f3c4": {
      "model_module": "@jupyter-widgets/controls",
      "model_module_version": "1.5.0",
      "model_name": "HTMLModel",
      "state": {
       "layout": "IPY_MODEL_85ad2a82018549e9aea29b0ced64070f",
       "style": "IPY_MODEL_b76e2eb3ddbc4a3f899d6867ed56774d",
       "value": "<div style='background-color:#6E6BF4;'>&nbsp;</div>"
      }
     },
     "723d72eb97f140f784dff8b43d181e04": {
      "model_module": "@jupyter-widgets/base",
      "model_module_version": "1.2.0",
      "model_name": "LayoutModel",
      "state": {
       "grid_area": "widget015",
       "margin": "0"
      }
     },
     "7249c1846f6d4b299602638dc3a5b248": {
      "model_module": "@jupyter-widgets/controls",
      "model_module_version": "1.5.0",
      "model_name": "HTMLModel",
      "state": {
       "layout": "IPY_MODEL_0336674185b74ad0918e0ad0ec365a16",
       "style": "IPY_MODEL_b5a88670b27e4afaa719570c8c035946",
       "value": "<div style='background-color:#6E6BF4;'>&nbsp;</div>"
      }
     },
     "724d9cff446d46feb646e31310a35b12": {
      "model_module": "@jupyter-widgets/base",
      "model_module_version": "1.2.0",
      "model_name": "LayoutModel",
      "state": {
       "grid_area": "widget001",
       "margin": "0"
      }
     },
     "724dc1dbc8334a04ab58f06c7e5f5bc5": {
      "model_module": "@jupyter-widgets/base",
      "model_module_version": "1.2.0",
      "model_name": "LayoutModel",
      "state": {
       "grid_area": "widget078",
       "margin": "0"
      }
     },
     "725ad60dbad24d0f9ae29e5c0436cf4b": {
      "model_module": "@jupyter-widgets/base",
      "model_module_version": "1.2.0",
      "model_name": "LayoutModel",
      "state": {
       "grid_area": "widget040",
       "margin": "0"
      }
     },
     "72611173ba994ca196a4f4cda3950f7c": {
      "model_module": "@jupyter-widgets/controls",
      "model_module_version": "1.5.0",
      "model_name": "DescriptionStyleModel",
      "state": {
       "description_width": ""
      }
     },
     "7274f76936bb44638945c989a00fb3fc": {
      "model_module": "@jupyter-widgets/controls",
      "model_module_version": "1.5.0",
      "model_name": "HTMLModel",
      "state": {
       "layout": "IPY_MODEL_28946d6d4f5e4344892a49c28955b9fc",
       "style": "IPY_MODEL_58b942e438d14fef8f8d14623958a73a",
       "value": "<div style='background-color:white;'>&nbsp;</div>"
      }
     },
     "72a376d47faa44559ccdf2704b43df0c": {
      "model_module": "@jupyter-widgets/base",
      "model_module_version": "1.2.0",
      "model_name": "LayoutModel",
      "state": {}
     },
     "730b4daa4b104c5f88f5449c9b213ab0": {
      "model_module": "@jupyter-widgets/base",
      "model_module_version": "1.2.0",
      "model_name": "LayoutModel",
      "state": {
       "grid_area": "widget007",
       "margin": "0"
      }
     },
     "733358f3117d4f8da1a6e9a1b514b0cb": {
      "model_module": "@jupyter-widgets/controls",
      "model_module_version": "1.5.0",
      "model_name": "HTMLModel",
      "state": {
       "layout": "IPY_MODEL_a27dd14dd39c47f6a4f8e7a0b78cf7e9",
       "style": "IPY_MODEL_25456ab35cbc4909888335135dbc8797",
       "value": "<div style='background-color:white;'>&nbsp;</div>"
      }
     },
     "734caa4c47e34c388b0940c7435357fe": {
      "model_module": "@jupyter-widgets/base",
      "model_module_version": "1.2.0",
      "model_name": "LayoutModel",
      "state": {
       "grid_area": "widget083",
       "margin": "0"
      }
     },
     "739ae92221c846338febf5b5fdb1cac7": {
      "model_module": "@jupyter-widgets/base",
      "model_module_version": "1.2.0",
      "model_name": "LayoutModel",
      "state": {
       "grid_area": "widget019",
       "margin": "0"
      }
     },
     "73cb3770c5634a3d88a2f4832c915305": {
      "model_module": "@jupyter-widgets/base",
      "model_module_version": "1.2.0",
      "model_name": "LayoutModel",
      "state": {
       "grid_area": "widget062",
       "margin": "0"
      }
     },
     "73d0d1d598d64a3ea28d243d734d9487": {
      "model_module": "@jupyter-widgets/controls",
      "model_module_version": "1.5.0",
      "model_name": "DescriptionStyleModel",
      "state": {
       "description_width": ""
      }
     },
     "73f1b4603e024b56a5664cde141aec7e": {
      "model_module": "@jupyter-widgets/base",
      "model_module_version": "1.2.0",
      "model_name": "LayoutModel",
      "state": {
       "grid_area": "widget025",
       "margin": "0"
      }
     },
     "7481816d3c164405a88fe74ecbb87c05": {
      "model_module": "@jupyter-widgets/controls",
      "model_module_version": "1.5.0",
      "model_name": "DescriptionStyleModel",
      "state": {
       "description_width": ""
      }
     },
     "748a3c927b014b208cbe89f696df3607": {
      "model_module": "@jupyter-widgets/base",
      "model_module_version": "1.2.0",
      "model_name": "LayoutModel",
      "state": {}
     },
     "749dbb6ef61440e983f9a8eead6bf8e8": {
      "model_module": "@jupyter-widgets/base",
      "model_module_version": "1.2.0",
      "model_name": "LayoutModel",
      "state": {
       "grid_area": "widget013",
       "margin": "0"
      }
     },
     "74ad1481f47246f49955739a9e603df6": {
      "model_module": "@jupyter-widgets/base",
      "model_module_version": "1.2.0",
      "model_name": "LayoutModel",
      "state": {
       "grid_area": "widget104",
       "margin": "0"
      }
     },
     "750d1d578a9141258f299316fa905c8c": {
      "model_module": "@jupyter-widgets/base",
      "model_module_version": "1.2.0",
      "model_name": "LayoutModel",
      "state": {
       "grid_area": "widget036",
       "margin": "0"
      }
     },
     "755ba064d3bc411693f55c84e897ff3b": {
      "model_module": "@jupyter-widgets/base",
      "model_module_version": "1.2.0",
      "model_name": "LayoutModel",
      "state": {
       "grid_area": "widget072",
       "margin": "0"
      }
     },
     "7562bf094f2540e4981927968683af48": {
      "model_module": "@jupyter-widgets/controls",
      "model_module_version": "1.5.0",
      "model_name": "HTMLModel",
      "state": {
       "layout": "IPY_MODEL_e3b37d377755498b8973473f59e5223b",
       "style": "IPY_MODEL_8e4bb108baf44d8097124b1020f3f0f8",
       "value": "<div style='background-color:#6E6BF4;'>&nbsp;</div>"
      }
     },
     "758027a4d2834c85b76e75ae519ad792": {
      "model_module": "@jupyter-widgets/controls",
      "model_module_version": "1.5.0",
      "model_name": "DescriptionStyleModel",
      "state": {
       "description_width": ""
      }
     },
     "75a2c65548cc48038a7e1fed0c3b98a0": {
      "model_module": "@jupyter-widgets/base",
      "model_module_version": "1.2.0",
      "model_name": "LayoutModel",
      "state": {
       "grid_area": "widget098",
       "margin": "0"
      }
     },
     "75ae072e74264fbca1cb10abf0d4b5df": {
      "model_module": "@jupyter-widgets/base",
      "model_module_version": "1.2.0",
      "model_name": "LayoutModel",
      "state": {
       "grid_area": "widget057",
       "margin": "0"
      }
     },
     "770a79e5d26e4ccdb972b066c1a66a31": {
      "model_module": "@jupyter-widgets/base",
      "model_module_version": "1.2.0",
      "model_name": "LayoutModel",
      "state": {
       "grid_area": "widget055",
       "margin": "0"
      }
     },
     "77585283d54d4754aedbc99e8feaea34": {
      "model_module": "@jupyter-widgets/controls",
      "model_module_version": "1.5.0",
      "model_name": "DescriptionStyleModel",
      "state": {
       "description_width": ""
      }
     },
     "77a99f0af1a645de8c0345fa71cc93bd": {
      "model_module": "@jupyter-widgets/base",
      "model_module_version": "1.2.0",
      "model_name": "LayoutModel",
      "state": {
       "grid_area": "widget040",
       "margin": "0"
      }
     },
     "77d7d25dc8ce4342833eba5bcc5c40d4": {
      "model_module": "@jupyter-widgets/controls",
      "model_module_version": "1.5.0",
      "model_name": "HTMLModel",
      "state": {
       "layout": "IPY_MODEL_ad2aab669ba04e2493cdc0debeb1e785",
       "style": "IPY_MODEL_c13a085823bd4d20a3ca44bda214039a",
       "value": "1 / 1  in 1.8 s (0:00:00 remaining)"
      }
     },
     "781f36d54dc4475c93f888846ad81097": {
      "model_module": "@jupyter-widgets/controls",
      "model_module_version": "1.5.0",
      "model_name": "HTMLModel",
      "state": {
       "layout": "IPY_MODEL_ff5b15778bec41b89111642d2416b7da",
       "style": "IPY_MODEL_ac3dcda1c58b45f39c283ca4c04ed26c",
       "value": "<div style='background-color:white;'>&nbsp;</div>"
      }
     },
     "786d1f539d8e418f8d6066750aacdf9f": {
      "model_module": "@jupyter-widgets/controls",
      "model_module_version": "1.5.0",
      "model_name": "DescriptionStyleModel",
      "state": {
       "description_width": ""
      }
     },
     "787235228e4a48ab81f01457b68f2f95": {
      "model_module": "@jupyter-widgets/controls",
      "model_module_version": "1.5.0",
      "model_name": "DescriptionStyleModel",
      "state": {
       "description_width": ""
      }
     },
     "78996104d19e42ee890a5bbbe852801c": {
      "model_module": "@jupyter-widgets/controls",
      "model_module_version": "1.5.0",
      "model_name": "HTMLModel",
      "state": {
       "layout": "IPY_MODEL_e7e3b33db41a4fef9696e0c7bd9f5d54",
       "style": "IPY_MODEL_ba590a481d724bb5b0b55fa8e5b968db",
       "value": "<div style='background-color:white;'>&nbsp;</div>"
      }
     },
     "79492b2d81cc411b80acc08a6f1589fc": {
      "model_module": "@jupyter-widgets/controls",
      "model_module_version": "1.5.0",
      "model_name": "HTMLModel",
      "state": {
       "layout": "IPY_MODEL_2bacefa6608c46d799e1197cdd462e6b",
       "style": "IPY_MODEL_c63114ed7b2d4c8c96316117cf55bb22",
       "value": "<div style='background-color:#6E6BF4;'>&nbsp;</div>"
      }
     },
     "7959edcdac634b44bc6cdbefc7ee95e9": {
      "model_module": "@jupyter-widgets/base",
      "model_module_version": "1.2.0",
      "model_name": "LayoutModel",
      "state": {
       "grid_area": "widget077",
       "margin": "0"
      }
     },
     "7973d8b910ee49d798719fa3f04e0b09": {
      "model_module": "@jupyter-widgets/controls",
      "model_module_version": "1.5.0",
      "model_name": "VBoxModel",
      "state": {
       "children": [
        "IPY_MODEL_a8bd673d937c42faac979e60dec0cdc1",
        "IPY_MODEL_77d7d25dc8ce4342833eba5bcc5c40d4",
        "IPY_MODEL_97ea6dc8943a43008077be5f5e68e08c"
       ],
       "layout": "IPY_MODEL_704adb55274d4573b413d8f4a8bf9a6e"
      }
     },
     "799786dfd829441a8acfc4b154c9122a": {
      "model_module": "@jupyter-widgets/controls",
      "model_module_version": "1.5.0",
      "model_name": "HTMLModel",
      "state": {
       "layout": "IPY_MODEL_1d62a41d8ae54048b414c7114b473e28",
       "style": "IPY_MODEL_e8abed351a9947659731578d2f053508",
       "value": "<div style='background-color:white;'>&nbsp;</div>"
      }
     },
     "799bd18f71154bcabd753d1d1ae40283": {
      "model_module": "@jupyter-widgets/controls",
      "model_module_version": "1.5.0",
      "model_name": "DescriptionStyleModel",
      "state": {
       "description_width": ""
      }
     },
     "79a11030eabe4f19b6e81048d021dd11": {
      "model_module": "@jupyter-widgets/base",
      "model_module_version": "1.2.0",
      "model_name": "LayoutModel",
      "state": {}
     },
     "79b62a096f524a96a84db06b4fc1912a": {
      "model_module": "@jupyter-widgets/base",
      "model_module_version": "1.2.0",
      "model_name": "LayoutModel",
      "state": {
       "grid_area": "widget095",
       "margin": "0"
      }
     },
     "79bd5c9d55424aa88849022f3435bdc2": {
      "model_module": "@jupyter-widgets/base",
      "model_module_version": "1.2.0",
      "model_name": "LayoutModel",
      "state": {
       "grid_area": "widget073",
       "margin": "0"
      }
     },
     "79dd5c09f2f742f5a82ad2466da9c01a": {
      "model_module": "@jupyter-widgets/controls",
      "model_module_version": "1.5.0",
      "model_name": "HTMLModel",
      "state": {
       "layout": "IPY_MODEL_a5b25f8db2f846c7a8029a9bd24e7c5d",
       "style": "IPY_MODEL_82c9f7526c53444d9102adcb2e15cfd1",
       "value": "+0.0"
      }
     },
     "7a177a0348f44c2fbd26bf4a68af529a": {
      "model_module": "@jupyter-widgets/controls",
      "model_module_version": "1.5.0",
      "model_name": "HTMLModel",
      "state": {
       "layout": "IPY_MODEL_0abc8e951a654f108cd4c92f4729e499",
       "style": "IPY_MODEL_3c11e4ed53d94e7092b655dd9fafad3c",
       "value": "<div style='background-color:white;'>&nbsp;</div>"
      }
     },
     "7a2425021c7b48bf97e8326706615009": {
      "model_module": "@jupyter-widgets/base",
      "model_module_version": "1.2.0",
      "model_name": "LayoutModel",
      "state": {
       "grid_area": "widget047",
       "margin": "0"
      }
     },
     "7a381405b4e14c6694156f0053e7779c": {
      "model_module": "@jupyter-widgets/controls",
      "model_module_version": "1.5.0",
      "model_name": "DescriptionStyleModel",
      "state": {
       "description_width": ""
      }
     },
     "7a521323b6a24251a3b3a84a5c6f2529": {
      "model_module": "@jupyter-widgets/controls",
      "model_module_version": "1.5.0",
      "model_name": "HTMLModel",
      "state": {
       "layout": "IPY_MODEL_05e8439a1fb4498e8e41b2479acbfa97",
       "style": "IPY_MODEL_685cd1fc455948df95db91efe529eb9f",
       "value": "<div style='background-color:white;'>&nbsp;</div>"
      }
     },
     "7a55ee8026e54455affe64f782a332b4": {
      "model_module": "@jupyter-widgets/base",
      "model_module_version": "1.2.0",
      "model_name": "LayoutModel",
      "state": {
       "grid_area": "widget046",
       "margin": "0"
      }
     },
     "7a620e459a7247dc8cbc36c1bb489ef7": {
      "model_module": "@jupyter-widgets/controls",
      "model_module_version": "1.5.0",
      "model_name": "DescriptionStyleModel",
      "state": {
       "description_width": ""
      }
     },
     "7ab7d18303cc4e91880edfdf742bfdb4": {
      "model_module": "@jupyter-widgets/controls",
      "model_module_version": "1.5.0",
      "model_name": "DescriptionStyleModel",
      "state": {
       "description_width": ""
      }
     },
     "7ae056f2436b461583e06e9b1887ec82": {
      "model_module": "@jupyter-widgets/controls",
      "model_module_version": "1.5.0",
      "model_name": "DescriptionStyleModel",
      "state": {
       "description_width": ""
      }
     },
     "7ae4a9491a854445a434e79f645cff83": {
      "model_module": "@jupyter-widgets/controls",
      "model_module_version": "1.5.0",
      "model_name": "HTMLModel",
      "state": {
       "layout": "IPY_MODEL_7db44eaa89884e8d922df772857789a4",
       "style": "IPY_MODEL_c6b553160d304b19b0221ba4a89ce429",
       "value": "<div style='background-color:#6E6BF4;'>&nbsp;</div>"
      }
     },
     "7b5e1ad2ba8d4b11a9781197a72982a2": {
      "model_module": "@jupyter-widgets/controls",
      "model_module_version": "1.5.0",
      "model_name": "HTMLModel",
      "state": {
       "layout": "IPY_MODEL_6617257dd7ec4c18a6e6dbecea2766a1",
       "style": "IPY_MODEL_2b0bcfae771c4cbcadc4be00ba9f5a2c",
       "value": "<div style='background-color:white;'>&nbsp;</div>"
      }
     },
     "7b899ac0648946a5aa885bf4919fa0a2": {
      "model_module": "@jupyter-widgets/base",
      "model_module_version": "1.2.0",
      "model_name": "LayoutModel",
      "state": {
       "grid_area": "widget060",
       "margin": "0"
      }
     },
     "7ba07017892e4ce78311b77a27bd44be": {
      "model_module": "@jupyter-widgets/controls",
      "model_module_version": "1.5.0",
      "model_name": "DescriptionStyleModel",
      "state": {
       "description_width": ""
      }
     },
     "7bb2df7920454c6bb3711c931ec241a3": {
      "model_module": "@jupyter-widgets/base",
      "model_module_version": "1.2.0",
      "model_name": "LayoutModel",
      "state": {
       "grid_area": "widget009",
       "margin": "0"
      }
     },
     "7bb5d14acae14dd78f776e185d37a053": {
      "model_module": "@jupyter-widgets/base",
      "model_module_version": "1.2.0",
      "model_name": "LayoutModel",
      "state": {
       "grid_area": "widget094",
       "margin": "0"
      }
     },
     "7c232919f99b49cc811a39c91f40e702": {
      "model_module": "@jupyter-widgets/controls",
      "model_module_version": "1.5.0",
      "model_name": "HTMLModel",
      "state": {
       "layout": "IPY_MODEL_b4ec4eecd2dc479cae6fee8353720886",
       "style": "IPY_MODEL_a2a652041a2443729749f37957393bdb",
       "value": "<div style='background-color:#6E6BF4;'>&nbsp;</div>"
      }
     },
     "7c80e775bb3a4dc5935fa901e1a6a71f": {
      "model_module": "@jupyter-widgets/controls",
      "model_module_version": "1.5.0",
      "model_name": "HTMLModel",
      "state": {
       "layout": "IPY_MODEL_73cb3770c5634a3d88a2f4832c915305",
       "style": "IPY_MODEL_ffdf0b10d628401eae0ba3aad1ee756e",
       "value": "<div style='background-color:white;'>&nbsp;</div>"
      }
     },
     "7ca6192dfd0b41c88175ded099a91368": {
      "model_module": "@jupyter-widgets/base",
      "model_module_version": "1.2.0",
      "model_name": "LayoutModel",
      "state": {
       "grid_area": "widget068",
       "margin": "0"
      }
     },
     "7ccc867f11dd47659c1e7ff9cfe25476": {
      "model_module": "@jupyter-widgets/controls",
      "model_module_version": "1.5.0",
      "model_name": "HTMLModel",
      "state": {
       "layout": "IPY_MODEL_0b512f3a2b8140cd8d4a97bce37cdbeb",
       "style": "IPY_MODEL_05193facde804a7aad071f3d7a34ae84",
       "value": "<div style='background-color:white;'>&nbsp;</div>"
      }
     },
     "7d32fceac09f49248ddbac9f7fa4fd44": {
      "model_module": "@jupyter-widgets/controls",
      "model_module_version": "1.5.0",
      "model_name": "DescriptionStyleModel",
      "state": {
       "description_width": ""
      }
     },
     "7d33109f607049ee8e0716f70d8a60c7": {
      "model_module": "@jupyter-widgets/controls",
      "model_module_version": "1.5.0",
      "model_name": "DescriptionStyleModel",
      "state": {
       "description_width": ""
      }
     },
     "7d51ac008da64000bbeb3e309c7de79f": {
      "model_module": "@jupyter-widgets/controls",
      "model_module_version": "1.5.0",
      "model_name": "HTMLModel",
      "state": {
       "layout": "IPY_MODEL_1f570fc88f844b32aa729bec16e7e1fd",
       "style": "IPY_MODEL_1a9383c4afd84493a041137972c13fd0",
       "value": "<div style='background-color:white;'>&nbsp;</div>"
      }
     },
     "7d6779761db54a15b08c09bfc9a04106": {
      "model_module": "@jupyter-widgets/controls",
      "model_module_version": "1.5.0",
      "model_name": "DescriptionStyleModel",
      "state": {
       "description_width": ""
      }
     },
     "7d67b480ad1f4489b657d0ef6efc073c": {
      "model_module": "@jupyter-widgets/controls",
      "model_module_version": "1.5.0",
      "model_name": "HTMLModel",
      "state": {
       "layout": "IPY_MODEL_c194ca8ef87f4d29a4bc0a14ad010fc4",
       "style": "IPY_MODEL_c50b0cd3c3c64185adfbc133ec6bf5fc",
       "value": "<div style='background-color:white;'>&nbsp;</div>"
      }
     },
     "7d6cdb2295624c9ab2ae8758d3bde007": {
      "model_module": "@jupyter-widgets/base",
      "model_module_version": "1.2.0",
      "model_name": "LayoutModel",
      "state": {
       "grid_template_areas": "\"widget051 widget052 widget001 widget002 widget003 widget004 widget005 widget006 widget007 widget008 widget009 widget010 widget011 widget012 widget013 widget014 widget015 widget016 widget017 widget018 widget019 widget020 widget021 widget022 widget023 widget024 widget025 widget026 widget027 widget028 widget029 widget030 widget031 widget032 widget033 widget034 widget035 widget036 widget037 widget038 widget039 widget040 widget041 widget042 widget043 widget044 widget045 widget046 widget047 widget048 widget049 widget050 widget053\"\n\"widget104 widget105 widget054 widget055 widget056 widget057 widget058 widget059 widget060 widget061 widget062 widget063 widget064 widget065 widget066 widget067 widget068 widget069 widget070 widget071 widget072 widget073 widget074 widget075 widget076 widget077 widget078 widget079 widget080 widget081 widget082 widget083 widget084 widget085 widget086 widget087 widget088 widget089 widget090 widget091 widget092 widget093 widget094 widget095 widget096 widget097 widget098 widget099 widget100 widget101 widget102 widget103 widget106\"",
       "grid_template_columns": "repeat(53, 1fr)",
       "grid_template_rows": "repeat(2, 1fr)"
      }
     },
     "7d6eb6364fad47c5ac9d1ff151a8c32c": {
      "model_module": "@jupyter-widgets/base",
      "model_module_version": "1.2.0",
      "model_name": "LayoutModel",
      "state": {
       "grid_area": "widget062",
       "margin": "0"
      }
     },
     "7db44eaa89884e8d922df772857789a4": {
      "model_module": "@jupyter-widgets/base",
      "model_module_version": "1.2.0",
      "model_name": "LayoutModel",
      "state": {
       "grid_area": "widget009",
       "margin": "0"
      }
     },
     "7df1717c74d641b39f6db07c194bf855": {
      "model_module": "@jupyter-widgets/controls",
      "model_module_version": "1.5.0",
      "model_name": "DescriptionStyleModel",
      "state": {
       "description_width": ""
      }
     },
     "7e03d914cf5941e99a9584cb53bb2333": {
      "model_module": "@jupyter-widgets/controls",
      "model_module_version": "1.5.0",
      "model_name": "HTMLModel",
      "state": {
       "layout": "IPY_MODEL_b520c4f1a81945af963cfae6fd0ee90f",
       "style": "IPY_MODEL_e68b9778783b4021885ec22302acf487",
       "value": "<div style='background-color:white;'>&nbsp;</div>"
      }
     },
     "7e1e715ba8154fb18eb1488bdab1d383": {
      "model_module": "@jupyter-widgets/controls",
      "model_module_version": "1.5.0",
      "model_name": "HTMLModel",
      "state": {
       "layout": "IPY_MODEL_3aae1f3f34724cc2acc93c60637ecea1",
       "style": "IPY_MODEL_b43ad1688eac4ad3a68d69bbb6ccb538",
       "value": "<div style='background-color:white;'>&nbsp;</div>"
      }
     },
     "7e1f8964cf6e4c10975eab12224a2990": {
      "model_module": "@jupyter-widgets/controls",
      "model_module_version": "1.5.0",
      "model_name": "DescriptionStyleModel",
      "state": {
       "description_width": ""
      }
     },
     "7e3ef3006d5f45ca82806f1036a603d0": {
      "model_module": "@jupyter-widgets/base",
      "model_module_version": "1.2.0",
      "model_name": "LayoutModel",
      "state": {
       "grid_area": "widget060",
       "margin": "0"
      }
     },
     "7eab55c8b02943a7a0c53e3372d93e00": {
      "model_module": "@jupyter-widgets/base",
      "model_module_version": "1.2.0",
      "model_name": "LayoutModel",
      "state": {
       "grid_area": "widget067",
       "margin": "0"
      }
     },
     "7ebef4b5a44d4b74b1fe7af5a9b33030": {
      "model_module": "@jupyter-widgets/base",
      "model_module_version": "1.2.0",
      "model_name": "LayoutModel",
      "state": {
       "grid_area": "widget091",
       "margin": "0"
      }
     },
     "7ec50fb5a7fd46b19ba89edaaca537de": {
      "model_module": "@jupyter-widgets/controls",
      "model_module_version": "1.5.0",
      "model_name": "HTMLModel",
      "state": {
       "layout": "IPY_MODEL_6425b752495e419ebf34085d5c64c9c7",
       "style": "IPY_MODEL_786d1f539d8e418f8d6066750aacdf9f",
       "value": "<div style='background-color:white;'>&nbsp;</div>"
      }
     },
     "7ee56b29294e43ae90ec691e48832cce": {
      "model_module": "@jupyter-widgets/controls",
      "model_module_version": "1.5.0",
      "model_name": "HTMLModel",
      "state": {
       "layout": "IPY_MODEL_dfd9b93cbba74c4c8874f67e2418ee3e",
       "style": "IPY_MODEL_01a0632c22044ca7bbe575057807a899",
       "value": "<div style='background-color:white;'>&nbsp;</div>"
      }
     },
     "7ef40bd2e46345a79752a00ab24add0d": {
      "model_module": "@jupyter-widgets/base",
      "model_module_version": "1.2.0",
      "model_name": "LayoutModel",
      "state": {}
     },
     "7efd32bc84b644999f63b1a92cf9a3e4": {
      "model_module": "@jupyter-widgets/controls",
      "model_module_version": "1.5.0",
      "model_name": "DescriptionStyleModel",
      "state": {
       "description_width": ""
      }
     },
     "7f11ce022bba41648fa3aadd3da6a90e": {
      "model_module": "@jupyter-widgets/controls",
      "model_module_version": "1.5.0",
      "model_name": "DescriptionStyleModel",
      "state": {
       "description_width": ""
      }
     },
     "7f11d896aed942efa34c9bdf1c63dc3c": {
      "model_module": "@jupyter-widgets/controls",
      "model_module_version": "1.5.0",
      "model_name": "HTMLModel",
      "state": {
       "layout": "IPY_MODEL_7bb2df7920454c6bb3711c931ec241a3",
       "style": "IPY_MODEL_02ab62ac38e74001b34ba746d7eccead",
       "value": "<div style='background-color:white;'>&nbsp;</div>"
      }
     },
     "7f15ea083ead451a9419a0a3161785e2": {
      "model_module": "@jupyter-widgets/base",
      "model_module_version": "1.2.0",
      "model_name": "LayoutModel",
      "state": {
       "grid_area": "widget029",
       "margin": "0"
      }
     },
     "7f1c9968e4a9475b81a2dbd3c36fc288": {
      "model_module": "@jupyter-widgets/controls",
      "model_module_version": "1.5.0",
      "model_name": "DescriptionStyleModel",
      "state": {
       "description_width": ""
      }
     },
     "7f47a364f8bd48f68317355e28408ef4": {
      "model_module": "@jupyter-widgets/controls",
      "model_module_version": "1.5.0",
      "model_name": "DescriptionStyleModel",
      "state": {
       "description_width": ""
      }
     },
     "7f8abd51759d4a4b880ebed31d81d794": {
      "model_module": "@jupyter-widgets/controls",
      "model_module_version": "1.5.0",
      "model_name": "HTMLModel",
      "state": {
       "layout": "IPY_MODEL_29aaa542f5744395ac4de78ccaab9bbc",
       "style": "IPY_MODEL_eaaeb752b13547b9a4ec03ec845194e7",
       "value": "<div style='background-color:white;'>&nbsp;</div>"
      }
     },
     "7fa3f5cf26744834a3d6b912ddc182b7": {
      "model_module": "@jupyter-widgets/base",
      "model_module_version": "1.2.0",
      "model_name": "LayoutModel",
      "state": {
       "grid_area": "widget077",
       "margin": "0"
      }
     },
     "7fe33aecc3634fc2bbabd0ff8b0b1862": {
      "model_module": "@jupyter-widgets/controls",
      "model_module_version": "1.5.0",
      "model_name": "HTMLModel",
      "state": {
       "layout": "IPY_MODEL_386db4badec04d439e00945806eec01b",
       "style": "IPY_MODEL_3c5b4b20b005410997045cff60a07e5a",
       "value": "<div style='background-color:#6E6BF4;'>&nbsp;</div>"
      }
     },
     "7ffb566f676d4b84bc510d528343a705": {
      "model_module": "@jupyter-widgets/base",
      "model_module_version": "1.2.0",
      "model_name": "LayoutModel",
      "state": {
       "grid_area": "widget071",
       "margin": "0"
      }
     },
     "801858783b75480daff5231408e367ae": {
      "model_module": "@jupyter-widgets/base",
      "model_module_version": "1.2.0",
      "model_name": "LayoutModel",
      "state": {
       "grid_area": "widget061",
       "margin": "0"
      }
     },
     "80a4529c9b134b3dab649d829dc38b4e": {
      "model_module": "@jupyter-widgets/controls",
      "model_module_version": "1.5.0",
      "model_name": "FloatProgressModel",
      "state": {
       "layout": "IPY_MODEL_188ec12d3ac44a33a0953b8922710114",
       "style": "IPY_MODEL_d1678fb8767a4941b897efff1ee4401a",
       "value": 100
      }
     },
     "80bc2cfa9f554f9fa032abb487db04af": {
      "model_module": "@jupyter-widgets/base",
      "model_module_version": "1.2.0",
      "model_name": "LayoutModel",
      "state": {}
     },
     "80c951ccfbe0482a859f16297733ad20": {
      "model_module": "@jupyter-widgets/controls",
      "model_module_version": "1.5.0",
      "model_name": "HTMLModel",
      "state": {
       "layout": "IPY_MODEL_2f3af919d3d64996bc2f1b621660a654",
       "style": "IPY_MODEL_13d0d0557b71473f989d9e1a634712ef",
       "value": "<div style='background-color:white;'>&nbsp;</div>"
      }
     },
     "80ce26dd1a884198818027118271f043": {
      "model_module": "@jupyter-widgets/controls",
      "model_module_version": "1.5.0",
      "model_name": "DescriptionStyleModel",
      "state": {
       "description_width": ""
      }
     },
     "8104d0c04537458fbc29e683619ddd21": {
      "model_module": "@jupyter-widgets/base",
      "model_module_version": "1.2.0",
      "model_name": "LayoutModel",
      "state": {
       "grid_area": "widget054",
       "margin": "0"
      }
     },
     "8124d8e6bb944ba68922aabf18d3c139": {
      "model_module": "@jupyter-widgets/controls",
      "model_module_version": "1.5.0",
      "model_name": "DescriptionStyleModel",
      "state": {
       "description_width": ""
      }
     },
     "818e2baa4ebb4c6587d51c4e12f18ba0": {
      "model_module": "@jupyter-widgets/base",
      "model_module_version": "1.2.0",
      "model_name": "LayoutModel",
      "state": {}
     },
     "8257339a1acc4656be37c7b7aae2a7a3": {
      "model_module": "@jupyter-widgets/controls",
      "model_module_version": "1.5.0",
      "model_name": "HTMLModel",
      "state": {
       "layout": "IPY_MODEL_0a6c19d65cee421691978938b0885dac",
       "style": "IPY_MODEL_29c52a66a7c0450db137265064c30744",
       "value": "<div style='background-color:#6E6BF4;'>&nbsp;</div>"
      }
     },
     "828530ced3fc4617a410279d91107fff": {
      "model_module": "@jupyter-widgets/base",
      "model_module_version": "1.2.0",
      "model_name": "LayoutModel",
      "state": {
       "grid_area": "widget033",
       "margin": "0"
      }
     },
     "8293cf079a3442c6b7e7be19cc87188e": {
      "model_module": "@jupyter-widgets/base",
      "model_module_version": "1.2.0",
      "model_name": "LayoutModel",
      "state": {
       "grid_area": "widget081",
       "margin": "0"
      }
     },
     "8293f19b664b412691ad58de3d79ba0c": {
      "model_module": "@jupyter-widgets/base",
      "model_module_version": "1.2.0",
      "model_name": "LayoutModel",
      "state": {
       "grid_area": "widget102",
       "margin": "0"
      }
     },
     "829e0d1d2c6c49868a608d19b10e1c6a": {
      "model_module": "@jupyter-widgets/controls",
      "model_module_version": "1.5.0",
      "model_name": "HTMLModel",
      "state": {
       "layout": "IPY_MODEL_e19e63c6697e45d3a5a579bda134ff40",
       "style": "IPY_MODEL_514983e2d7f24f77b4f0ed978ccef54f",
       "value": "<div style='background-color:white;'>&nbsp;</div>"
      }
     },
     "82c9f7526c53444d9102adcb2e15cfd1": {
      "model_module": "@jupyter-widgets/controls",
      "model_module_version": "1.5.0",
      "model_name": "DescriptionStyleModel",
      "state": {
       "description_width": ""
      }
     },
     "82d8be76887c42139b64fdd0f8769a78": {
      "model_module": "@jupyter-widgets/controls",
      "model_module_version": "1.5.0",
      "model_name": "DescriptionStyleModel",
      "state": {
       "description_width": ""
      }
     },
     "83f8816c93be40688d69a5afe9bb1598": {
      "model_module": "@jupyter-widgets/controls",
      "model_module_version": "1.5.0",
      "model_name": "DescriptionStyleModel",
      "state": {
       "description_width": ""
      }
     },
     "84237076eb3d40cf84a0a724925cd5cb": {
      "model_module": "@jupyter-widgets/base",
      "model_module_version": "1.2.0",
      "model_name": "LayoutModel",
      "state": {
       "grid_area": "widget087",
       "margin": "0"
      }
     },
     "844c08a9d898432c8ff20d52b820e858": {
      "model_module": "@jupyter-widgets/controls",
      "model_module_version": "1.5.0",
      "model_name": "DescriptionStyleModel",
      "state": {
       "description_width": ""
      }
     },
     "8472d662fa334b9692ce68f2a404e283": {
      "model_module": "@jupyter-widgets/controls",
      "model_module_version": "1.5.0",
      "model_name": "HTMLModel",
      "state": {
       "layout": "IPY_MODEL_2f5e2d33533844c6b0237553c15778b9",
       "style": "IPY_MODEL_b71ad444b0c64115b8b0747b4809a170",
       "value": "+1.0e-02"
      }
     },
     "84c603effe7b4d9b88ee34a17ea292dd": {
      "model_module": "@jupyter-widgets/controls",
      "model_module_version": "1.5.0",
      "model_name": "DescriptionStyleModel",
      "state": {
       "description_width": ""
      }
     },
     "84d030ada3d54f2ea249081def5a0d1e": {
      "model_module": "@jupyter-widgets/controls",
      "model_module_version": "1.5.0",
      "model_name": "DescriptionStyleModel",
      "state": {
       "description_width": ""
      }
     },
     "84fb2b8aa8484832a471204e5aa417b6": {
      "model_module": "@jupyter-widgets/controls",
      "model_module_version": "1.5.0",
      "model_name": "DescriptionStyleModel",
      "state": {
       "description_width": ""
      }
     },
     "85ad2a82018549e9aea29b0ced64070f": {
      "model_module": "@jupyter-widgets/base",
      "model_module_version": "1.2.0",
      "model_name": "LayoutModel",
      "state": {
       "grid_area": "widget071",
       "margin": "0"
      }
     },
     "85cc9399104a44958f0e1ea6f8836b0b": {
      "model_module": "@jupyter-widgets/controls",
      "model_module_version": "1.5.0",
      "model_name": "DescriptionStyleModel",
      "state": {
       "description_width": ""
      }
     },
     "863b3bd206624de2992ad470e6c3eb58": {
      "model_module": "@jupyter-widgets/controls",
      "model_module_version": "1.5.0",
      "model_name": "DescriptionStyleModel",
      "state": {
       "description_width": ""
      }
     },
     "8645f48d9cc440628994b234a3ccdb08": {
      "model_module": "@jupyter-widgets/controls",
      "model_module_version": "1.5.0",
      "model_name": "DescriptionStyleModel",
      "state": {
       "description_width": ""
      }
     },
     "86876a24d6fd45a1868e552814ca1685": {
      "model_module": "@jupyter-widgets/controls",
      "model_module_version": "1.5.0",
      "model_name": "HTMLModel",
      "state": {
       "layout": "IPY_MODEL_36742747ef924b59963ab99f7068c720",
       "style": "IPY_MODEL_deac3e2dd3d54a689fd935985c097eb3",
       "value": "<div style='background-color:white;'>&nbsp;</div>"
      }
     },
     "86d8e51c08d243fe8d674554e66a7c06": {
      "model_module": "@jupyter-widgets/controls",
      "model_module_version": "1.5.0",
      "model_name": "HTMLModel",
      "state": {
       "layout": "IPY_MODEL_6f352016b44b49809830c77960e457e3",
       "style": "IPY_MODEL_918fcea69b54400490a38cdfcd719102",
       "value": "<div style='background-color:white;'>&nbsp;</div>"
      }
     },
     "86dfeba19a634df0919c884e0bcc5d6e": {
      "model_module": "@jupyter-widgets/controls",
      "model_module_version": "1.5.0",
      "model_name": "HTMLModel",
      "state": {
       "layout": "IPY_MODEL_a8c536d87a074be090f5345cdb5d5f27",
       "style": "IPY_MODEL_d3168a42f35645e0a3d304254f7511dd",
       "value": "<div style='background-color:white;'>&nbsp;</div>"
      }
     },
     "86e19f695a4c4f2886bbe643337ee6f8": {
      "model_module": "@jupyter-widgets/base",
      "model_module_version": "1.2.0",
      "model_name": "LayoutModel",
      "state": {
       "grid_area": "widget095",
       "margin": "0"
      }
     },
     "8755ad300cd64d4bab58850c32704b23": {
      "model_module": "@jupyter-widgets/controls",
      "model_module_version": "1.5.0",
      "model_name": "HTMLModel",
      "state": {
       "layout": "IPY_MODEL_6ebdb2b99e964d1386c8e0651a7d46ae",
       "style": "IPY_MODEL_ea4b24f48b6140d38f2f99c0822accb6",
       "value": "Propagating errors : "
      }
     },
     "878cb4557c0f444ea0369c1f6a1f8b06": {
      "model_module": "@jupyter-widgets/controls",
      "model_module_version": "1.5.0",
      "model_name": "DescriptionStyleModel",
      "state": {
       "description_width": ""
      }
     },
     "879e0227f68f4acf9ccab0346df185e4": {
      "model_module": "@jupyter-widgets/controls",
      "model_module_version": "1.5.0",
      "model_name": "HTMLModel",
      "state": {
       "layout": "IPY_MODEL_449c2e9dc0ca4a189b460f81771825d1",
       "style": "IPY_MODEL_1590919e5c9b4163a58b8d6211128cd3",
       "value": "<div style='background-color:white;'>&nbsp;</div>"
      }
     },
     "87a166124f7840a3832aaff836d1462e": {
      "model_module": "@jupyter-widgets/base",
      "model_module_version": "1.2.0",
      "model_name": "LayoutModel",
      "state": {
       "grid_area": "widget054",
       "margin": "0"
      }
     },
     "87a5d2e1ae524fce8a20302bcd482b54": {
      "model_module": "@jupyter-widgets/controls",
      "model_module_version": "1.5.0",
      "model_name": "HTMLModel",
      "state": {
       "layout": "IPY_MODEL_285386ecb97045d094437f8e7c191fb4",
       "style": "IPY_MODEL_dc47c7e213714e36b9c14c0179cfbbd3",
       "value": "<div style='background-color:#6E6BF4; font-family:monospace'>&nbsp;</div>"
      }
     },
     "87ba0d0edd464fd18b625ddacd9bb704": {
      "model_module": "@jupyter-widgets/base",
      "model_module_version": "1.2.0",
      "model_name": "LayoutModel",
      "state": {
       "grid_area": "widget087",
       "margin": "0"
      }
     },
     "881ed3e99f264b40bff52524dbe40289": {
      "model_module": "@jupyter-widgets/controls",
      "model_module_version": "1.5.0",
      "model_name": "DescriptionStyleModel",
      "state": {
       "description_width": ""
      }
     },
     "885758a607164e0f94c6ac96cd2dd098": {
      "model_module": "@jupyter-widgets/controls",
      "model_module_version": "1.5.0",
      "model_name": "HTMLModel",
      "state": {
       "layout": "IPY_MODEL_10f170bcfa844e9f9fe58145bb46c0ab",
       "style": "IPY_MODEL_cfe94528fc1549409c96ca0978566851",
       "value": "<div style='background-color:white;'>&nbsp;</div>"
      }
     },
     "885af4ec53e8435f9d562f16b84f67d4": {
      "model_module": "@jupyter-widgets/base",
      "model_module_version": "1.2.0",
      "model_name": "LayoutModel",
      "state": {
       "grid_area": "widget073",
       "margin": "0"
      }
     },
     "88cc692ef16741378f551916da363431": {
      "model_module": "@jupyter-widgets/controls",
      "model_module_version": "1.5.0",
      "model_name": "DescriptionStyleModel",
      "state": {
       "description_width": ""
      }
     },
     "88efc61603a04de6a792ed707578a164": {
      "model_module": "@jupyter-widgets/base",
      "model_module_version": "1.2.0",
      "model_name": "LayoutModel",
      "state": {
       "grid_area": "widget023",
       "margin": "0"
      }
     },
     "88fd6affa03a4fda85dc09f083fee717": {
      "model_module": "@jupyter-widgets/controls",
      "model_module_version": "1.5.0",
      "model_name": "DescriptionStyleModel",
      "state": {
       "description_width": ""
      }
     },
     "88fe46abdcfe48299ac893f723b0981a": {
      "model_module": "@jupyter-widgets/controls",
      "model_module_version": "1.5.0",
      "model_name": "DescriptionStyleModel",
      "state": {
       "description_width": ""
      }
     },
     "89027e06d0d04123a3679dcf3f9644da": {
      "model_module": "@jupyter-widgets/controls",
      "model_module_version": "1.5.0",
      "model_name": "HTMLModel",
      "state": {
       "layout": "IPY_MODEL_e2e3185fe5e745678ad238434d59f069",
       "style": "IPY_MODEL_d3c1774d579c49f9ad28a2ee09c8d96f",
       "value": "<div style='background-color:white;'>&nbsp;</div>"
      }
     },
     "894d9a00bd6244e8938c51916b3b948e": {
      "model_module": "@jupyter-widgets/base",
      "model_module_version": "1.2.0",
      "model_name": "LayoutModel",
      "state": {
       "grid_area": "widget043",
       "margin": "0"
      }
     },
     "89ab93660a7945babb41ba4c82cd991d": {
      "model_module": "@jupyter-widgets/base",
      "model_module_version": "1.2.0",
      "model_name": "LayoutModel",
      "state": {}
     },
     "89b077c887d44fb3af711cfd5d7b53d5": {
      "model_module": "@jupyter-widgets/controls",
      "model_module_version": "1.5.0",
      "model_name": "HTMLModel",
      "state": {
       "layout": "IPY_MODEL_d6582f72fd49452884732068eaffd108",
       "style": "IPY_MODEL_cc66ea08044f46dba1c5f3316ee7c773",
       "value": "+1.0"
      }
     },
     "8a3683068c914e13920bf04fbee6fdc6": {
      "model_module": "@jupyter-widgets/controls",
      "model_module_version": "1.5.0",
      "model_name": "DescriptionStyleModel",
      "state": {
       "description_width": ""
      }
     },
     "8a56533528d44880bbf6d3e7a28f25a0": {
      "model_module": "@jupyter-widgets/controls",
      "model_module_version": "1.5.0",
      "model_name": "HTMLModel",
      "state": {
       "layout": "IPY_MODEL_2d071cea8ce84a74b56f561c53977b2b",
       "style": "IPY_MODEL_b9ce43a8d521488b900cdc9006851374",
       "value": "<div style='background-color:#6E6BF4;'>&nbsp;</div>"
      }
     },
     "8a665b88e4c94631b4853e3ba3fc3fcf": {
      "model_module": "@jupyter-widgets/controls",
      "model_module_version": "1.5.0",
      "model_name": "DescriptionStyleModel",
      "state": {
       "description_width": ""
      }
     },
     "8adfd94123a04b40997d7f2fe2b4d5e0": {
      "model_module": "@jupyter-widgets/base",
      "model_module_version": "1.2.0",
      "model_name": "LayoutModel",
      "state": {
       "grid_area": "widget098",
       "margin": "0"
      }
     },
     "8b28bb926593475db48766b85fe74655": {
      "model_module": "@jupyter-widgets/controls",
      "model_module_version": "1.5.0",
      "model_name": "HTMLModel",
      "state": {
       "layout": "IPY_MODEL_2cd0e21168f646ac86b1599560d4ae08",
       "style": "IPY_MODEL_19d71ffe116942878446bd1087ca2720",
       "value": "<div style='background-color:#6E6BF4;'>&nbsp;</div>"
      }
     },
     "8b34d2ff992b47968997ccfd385c3b6d": {
      "model_module": "@jupyter-widgets/controls",
      "model_module_version": "1.5.0",
      "model_name": "HTMLModel",
      "state": {
       "layout": "IPY_MODEL_4582cfd37784456abde1a8e05eee5781",
       "style": "IPY_MODEL_595f90257beb40b8b90ae9c6678f3779",
       "value": "<div style='background-color:white;'>&nbsp;</div>"
      }
     },
     "8bb875058ad349d2a14dd15a23ce9aa6": {
      "model_module": "@jupyter-widgets/controls",
      "model_module_version": "1.5.0",
      "model_name": "DescriptionStyleModel",
      "state": {
       "description_width": ""
      }
     },
     "8bca87d8742b41cfb205ee74ebcfe694": {
      "model_module": "@jupyter-widgets/controls",
      "model_module_version": "1.5.0",
      "model_name": "HTMLModel",
      "state": {
       "layout": "IPY_MODEL_d111b0fedee246ecb90aa081ade25019",
       "style": "IPY_MODEL_b45e2f03373848479018453d35612604",
       "value": "<div style='background-color:#6E6BF4;'>&nbsp;</div>"
      }
     },
     "8bce21d43a4f46ca944b53952af2d499": {
      "model_module": "@jupyter-widgets/controls",
      "model_module_version": "1.5.0",
      "model_name": "DescriptionStyleModel",
      "state": {
       "description_width": ""
      }
     },
     "8c136734ce3448088266838b1202b28d": {
      "model_module": "@jupyter-widgets/controls",
      "model_module_version": "1.5.0",
      "model_name": "DescriptionStyleModel",
      "state": {
       "description_width": ""
      }
     },
     "8c2651fd4a234b5ba0c6994bf1cad9a4": {
      "model_module": "@jupyter-widgets/base",
      "model_module_version": "1.2.0",
      "model_name": "LayoutModel",
      "state": {
       "grid_area": "widget017",
       "margin": "0"
      }
     },
     "8c4d415e7e8d49c094f0f028462ae9b1": {
      "model_module": "@jupyter-widgets/controls",
      "model_module_version": "1.5.0",
      "model_name": "DescriptionStyleModel",
      "state": {
       "description_width": ""
      }
     },
     "8c55aa80a1de4dfbaa2751360d83e2aa": {
      "model_module": "@jupyter-widgets/controls",
      "model_module_version": "1.5.0",
      "model_name": "DescriptionStyleModel",
      "state": {
       "description_width": ""
      }
     },
     "8c9592afde0f48d89aa9c000e5095f9d": {
      "model_module": "@jupyter-widgets/controls",
      "model_module_version": "1.5.0",
      "model_name": "GridBoxModel",
      "state": {
       "children": [
        "IPY_MODEL_609fdf9e7808480abdd14ae25d8af067",
        "IPY_MODEL_e07fa8c5472e41b5ba1a2122514e6970",
        "IPY_MODEL_a47d23bae2984e5a909f8725c25d86d8",
        "IPY_MODEL_8b28bb926593475db48766b85fe74655",
        "IPY_MODEL_709ec6383da34c6bbe78d0dd3a8e8d1a",
        "IPY_MODEL_fd9a30cee2df49a5b5e916a765d390e6",
        "IPY_MODEL_94b471e82ad34cfcbc672cc4bea35026",
        "IPY_MODEL_d1365a4b3ea74010b35a31080a4ae988",
        "IPY_MODEL_7ae4a9491a854445a434e79f645cff83",
        "IPY_MODEL_c1db78f80e71410c9edb3cbc551e2b3b",
        "IPY_MODEL_2002f7a4de4b46df976fb79e9fd02021",
        "IPY_MODEL_f9958ead76c9400fb61ff4c207257a7e",
        "IPY_MODEL_239cbafeb93745bbb84305c61bd3c974",
        "IPY_MODEL_df70064fdb944dfcb7d99c714a43920b",
        "IPY_MODEL_08e800cca8e7435b944c6a010668e0c9",
        "IPY_MODEL_1001f2a28f834c8db3596fd915c2cdd0",
        "IPY_MODEL_ee86e75c7ca048dc974439c25763b227",
        "IPY_MODEL_e842d9bbcf9b44d5805ac4d8d6eade2b",
        "IPY_MODEL_4c4c2cdb85624c35bfb8dd37d569ef46",
        "IPY_MODEL_7c232919f99b49cc811a39c91f40e702",
        "IPY_MODEL_62dceff2b0414939b75bd96b441115eb",
        "IPY_MODEL_096364eb19b544dcaa1abd6b9dc6fd2e",
        "IPY_MODEL_0ece44071bc048eb904a0146d3b6cd26",
        "IPY_MODEL_e95fcf97c68a4630beae31a454024525",
        "IPY_MODEL_2a6d2d1f70fe467fac008e8c98248b75",
        "IPY_MODEL_41171ea46f0b4c13b13454445553b456",
        "IPY_MODEL_0bc986a89e164058b671e8c64ab1893e",
        "IPY_MODEL_7b5e1ad2ba8d4b11a9781197a72982a2",
        "IPY_MODEL_534d338882e34f678ac9c9d312e53bc8",
        "IPY_MODEL_b3dd111f6e744ccf8c88f6b6758ae73f",
        "IPY_MODEL_8a56533528d44880bbf6d3e7a28f25a0",
        "IPY_MODEL_537ccf91bc6349f588dc106b5813bd30",
        "IPY_MODEL_2028d978897e440bb46e59ce70ab3a43",
        "IPY_MODEL_e8a575ecac5e49da8791c408af799fd3",
        "IPY_MODEL_3329025799184dd0b233774da101509a",
        "IPY_MODEL_c1abcbfd208a46b4b93d7c670a1d1023",
        "IPY_MODEL_6aaef8c674ae4555b4ceded65ca24480",
        "IPY_MODEL_b91aeb3418bd4c2db9dc558916a8e31e",
        "IPY_MODEL_95e61b63a3d44d9e9a13840979082561",
        "IPY_MODEL_8f75bc89f5584a879faa09700d42b0e3",
        "IPY_MODEL_701b163634204611ba38179d015465d3",
        "IPY_MODEL_10fd16767e6d4c74ab3ecf6d4359dbe6",
        "IPY_MODEL_f13d2f8b512b4231acc91b9c4ee082c3",
        "IPY_MODEL_9c3e22590aa64215a6567314ff46647e",
        "IPY_MODEL_aac0026abd3546a6acf24f04485ea8ac",
        "IPY_MODEL_3f12dec1b15a4c46b09c9c2e3e26873a",
        "IPY_MODEL_0fa5a6478abc49439ef0ddfd18727a44",
        "IPY_MODEL_be0c780ae628444c86e98bd686976e27",
        "IPY_MODEL_0532d2465ead410595277824a4156c67",
        "IPY_MODEL_2b88c777aa4348109985fb56529d2759",
        "IPY_MODEL_b4939040c7944b418456dda8a99d665c",
        "IPY_MODEL_8472d662fa334b9692ce68f2a404e283",
        "IPY_MODEL_2924c54163b541b1aa75b1e73e3b5e1f",
        "IPY_MODEL_3c0b61027c96444dba094126446d3df3",
        "IPY_MODEL_652e12185b4148fca247037e70826311",
        "IPY_MODEL_13a02640cd054dec852157ac56f69238",
        "IPY_MODEL_a8b2b42ab8f94987b5cd932aaa6e56bf",
        "IPY_MODEL_38837dcc07534953b0c4dc98ec740a37",
        "IPY_MODEL_18dced6f274d41aa9f0fe5891b439183",
        "IPY_MODEL_0b8d25b432ca485581626b89df657410",
        "IPY_MODEL_076c960c73ca42db8f927634d700f9d6",
        "IPY_MODEL_452bc223dd864c1a8c041e6f0599c0bd",
        "IPY_MODEL_f9289eceb24a4cb6ad566259decf653b",
        "IPY_MODEL_6368818adc9a44e1bb977866a737acfa",
        "IPY_MODEL_201dcea586014d22b1897d0005cf23e0",
        "IPY_MODEL_df5efea37db84b51aec126ba0887f583",
        "IPY_MODEL_7fe33aecc3634fc2bbabd0ff8b0b1862",
        "IPY_MODEL_6be393bc7be74ba0bee2b00333ffbbe2",
        "IPY_MODEL_0f19405689c54fdcb71607de0c3649a0",
        "IPY_MODEL_b81c9864449b4cbeaaa279f290cfc41a",
        "IPY_MODEL_71de2adc4c274bd49d8bcd051f26f3c4",
        "IPY_MODEL_4fba3614468247a9a3a8d056db91ee50",
        "IPY_MODEL_b6e8802c869e407e9227ec098558d579",
        "IPY_MODEL_efefe7412b544357a89fda7f746bdd07",
        "IPY_MODEL_aaf6dab8407d41b5bcf92a57d2da931b",
        "IPY_MODEL_b04eed00546a45ef8cb0c86643981c7c",
        "IPY_MODEL_1a41ae7ecd584283b2a47aa259d3bbdf",
        "IPY_MODEL_79492b2d81cc411b80acc08a6f1589fc",
        "IPY_MODEL_3a3b0791077b4e57b93e5e967bfbc178",
        "IPY_MODEL_47d327374df74725a7104900029babc8",
        "IPY_MODEL_2350594a7ddb46a0aefdda0e4ad651ee",
        "IPY_MODEL_b94244950c1f4f4d934fc45128d07aed",
        "IPY_MODEL_17b40a7d42644ba29eae7415741eb167",
        "IPY_MODEL_04d719242dac4f549f120f8b81646d67",
        "IPY_MODEL_8bca87d8742b41cfb205ee74ebcfe694",
        "IPY_MODEL_8257339a1acc4656be37c7b7aae2a7a3",
        "IPY_MODEL_4c7725f3e40e4168b1b80d3f370320f5",
        "IPY_MODEL_a4599135facf4bd7893f4391422b5c37",
        "IPY_MODEL_afbbe0f922b14a72a28ca4cb688bdf61",
        "IPY_MODEL_cb1847452ffc4a8eb9a68bf99187dcc6",
        "IPY_MODEL_7249c1846f6d4b299602638dc3a5b248",
        "IPY_MODEL_53791f0c5b92475bbca5072c939a1bf6",
        "IPY_MODEL_7562bf094f2540e4981927968683af48",
        "IPY_MODEL_a94ec55041e641468dcd23126af1a578",
        "IPY_MODEL_a09401f8d3ea42bc87108b5214e81f02",
        "IPY_MODEL_abb787fb49654f569bfb2841d2446d7c",
        "IPY_MODEL_f5e0b71e6ad44d6b990c211085e9b251",
        "IPY_MODEL_d8b066044a13486980689316a9917958",
        "IPY_MODEL_bb607e8976e54a6dbde95bf16aaad7a9",
        "IPY_MODEL_69d1577c976a494892569a63b59d0d88",
        "IPY_MODEL_d838da6cc7e04a1bb20c2ca62a74fddd",
        "IPY_MODEL_f7f3695c0f3b4662b9ec5f3cc3d5de1d",
        "IPY_MODEL_cd67e522e3b5477b9558437d0a5cbb8c",
        "IPY_MODEL_d7878430b2c74a73b374045ee3e603a8",
        "IPY_MODEL_7050b5fb41a34701ba51d987e6b8a38c",
        "IPY_MODEL_6d976636064e488cb0950a297d40d280"
       ],
       "layout": "IPY_MODEL_7d6cdb2295624c9ab2ae8758d3bde007"
      }
     },
     "8cbcb52f40924f85afa66eb335f7c942": {
      "model_module": "@jupyter-widgets/base",
      "model_module_version": "1.2.0",
      "model_name": "LayoutModel",
      "state": {
       "grid_area": "widget073",
       "margin": "0"
      }
     },
     "8d22e050384a4dba889d519dc48578a7": {
      "model_module": "@jupyter-widgets/controls",
      "model_module_version": "1.5.0",
      "model_name": "HTMLModel",
      "state": {
       "layout": "IPY_MODEL_84237076eb3d40cf84a0a724925cd5cb",
       "style": "IPY_MODEL_d92c23fb6c214474883b2ef0d6b40495",
       "value": "<div style='background-color:white;'>&nbsp;</div>"
      }
     },
     "8daa2a6dd71b43f994daeaa3022e1020": {
      "model_module": "@jupyter-widgets/base",
      "model_module_version": "1.2.0",
      "model_name": "LayoutModel",
      "state": {
       "grid_area": "widget077",
       "margin": "0"
      }
     },
     "8db7523ecba94d45b836248c295098ef": {
      "model_module": "@jupyter-widgets/controls",
      "model_module_version": "1.5.0",
      "model_name": "HTMLModel",
      "state": {
       "layout": "IPY_MODEL_c76bd5e7e3e641d48f9cb09ea2d310cc",
       "style": "IPY_MODEL_64b47520b29146f4a34700fb7d077726",
       "value": "<div style='background-color:white;'>&nbsp;</div>"
      }
     },
     "8e140f4b6a09405e9d438aa028b426c5": {
      "model_module": "@jupyter-widgets/controls",
      "model_module_version": "1.5.0",
      "model_name": "HTMLModel",
      "state": {
       "layout": "IPY_MODEL_9565d9a140e149158de857a34dae8d20",
       "style": "IPY_MODEL_cae09e5b00ea4189bbfc9375b4be09c8",
       "value": "<div style='background-color:white;'>&nbsp;</div>"
      }
     },
     "8e4bb108baf44d8097124b1020f3f0f8": {
      "model_module": "@jupyter-widgets/controls",
      "model_module_version": "1.5.0",
      "model_name": "DescriptionStyleModel",
      "state": {
       "description_width": ""
      }
     },
     "8e8a4c2cbb4849b5b35a8d185a8bf541": {
      "model_module": "@jupyter-widgets/controls",
      "model_module_version": "1.5.0",
      "model_name": "HTMLModel",
      "state": {
       "layout": "IPY_MODEL_6c4122718b154129918b628ab709f65f",
       "style": "IPY_MODEL_1845a75be0e14713bcf840bff706bfac",
       "value": "Mono-modal | Volume: ~exp(-16.05) * | Expected Volume: exp(-11.54)<br/>   negative degeneracy between source1.spectrum.main.Powerlaw.K and source1.spectrum.main.Powerlaw.index: rho=-0.99"
      }
     },
     "8eb1ba3fbb514eee95e3ff39ca97ab2f": {
      "model_module": "@jupyter-widgets/base",
      "model_module_version": "1.2.0",
      "model_name": "LayoutModel",
      "state": {
       "grid_area": "widget042",
       "margin": "0"
      }
     },
     "8ef60f0f636c499c9b73eef7dab82063": {
      "model_module": "@jupyter-widgets/controls",
      "model_module_version": "1.5.0",
      "model_name": "DescriptionStyleModel",
      "state": {
       "description_width": ""
      }
     },
     "8f41b9e6b4a349edb7c7ba0d17230e13": {
      "model_module": "@jupyter-widgets/controls",
      "model_module_version": "1.5.0",
      "model_name": "DescriptionStyleModel",
      "state": {
       "description_width": ""
      }
     },
     "8f7144e8d52e4d2ab9a4acb644d0f06a": {
      "model_module": "@jupyter-widgets/base",
      "model_module_version": "1.2.0",
      "model_name": "LayoutModel",
      "state": {
       "grid_area": "widget045",
       "margin": "0"
      }
     },
     "8f75bc89f5584a879faa09700d42b0e3": {
      "model_module": "@jupyter-widgets/controls",
      "model_module_version": "1.5.0",
      "model_name": "HTMLModel",
      "state": {
       "layout": "IPY_MODEL_725ad60dbad24d0f9ae29e5c0436cf4b",
       "style": "IPY_MODEL_ec69669ef80d4f8a8d6de3111e5eef0b",
       "value": "<div style='background-color:white;'>&nbsp;</div>"
      }
     },
     "8f797f17d4f9443e9ee7f9337b983dbd": {
      "model_module": "@jupyter-widgets/controls",
      "model_module_version": "1.5.0",
      "model_name": "DescriptionStyleModel",
      "state": {
       "description_width": ""
      }
     },
     "8fab1e56fa214127ab836a1ab997a737": {
      "model_module": "@jupyter-widgets/base",
      "model_module_version": "1.2.0",
      "model_name": "LayoutModel",
      "state": {
       "grid_area": "widget032",
       "margin": "0"
      }
     },
     "8fb65aee0d29426cb999e632d7732540": {
      "model_module": "@jupyter-widgets/controls",
      "model_module_version": "1.5.0",
      "model_name": "HTMLModel",
      "state": {
       "layout": "IPY_MODEL_750d1d578a9141258f299316fa905c8c",
       "style": "IPY_MODEL_aa7b416366e64dbeae304ba86caf99f6",
       "value": "<div style='background-color:white;'>&nbsp;</div>"
      }
     },
     "8fc2df2a23d5472e89bf4adeee19c7eb": {
      "model_module": "@jupyter-widgets/base",
      "model_module_version": "1.2.0",
      "model_name": "LayoutModel",
      "state": {
       "grid_area": "widget043",
       "margin": "0"
      }
     },
     "8fc91ac579a64351ad65bec5585f994c": {
      "model_module": "@jupyter-widgets/controls",
      "model_module_version": "1.5.0",
      "model_name": "HTMLModel",
      "state": {
       "layout": "IPY_MODEL_b0b7dbb731974addbfdf5dc224a46c92",
       "style": "IPY_MODEL_ec250234bbc54a87a5caf1e13137fa81",
       "value": "<div style='background-color:white;'>&nbsp;</div>"
      }
     },
     "8fcd3a075e1e43fda7b9a2b488162d7d": {
      "model_module": "@jupyter-widgets/controls",
      "model_module_version": "1.5.0",
      "model_name": "DescriptionStyleModel",
      "state": {
       "description_width": ""
      }
     },
     "9003270bafbb4c0a9128175e2c7e4f49": {
      "model_module": "@jupyter-widgets/controls",
      "model_module_version": "1.5.0",
      "model_name": "DescriptionStyleModel",
      "state": {
       "description_width": ""
      }
     },
     "90303c1dbd3a4fea8a88e5cb656a1087": {
      "model_module": "@jupyter-widgets/base",
      "model_module_version": "1.2.0",
      "model_name": "LayoutModel",
      "state": {
       "grid_area": "widget097",
       "margin": "0"
      }
     },
     "906601a51f0f42f5bc978c43b50267be": {
      "model_module": "@jupyter-widgets/controls",
      "model_module_version": "1.5.0",
      "model_name": "DescriptionStyleModel",
      "state": {
       "description_width": ""
      }
     },
     "906a541e8b8c4008a389dbfa11ea37a1": {
      "model_module": "@jupyter-widgets/base",
      "model_module_version": "1.2.0",
      "model_name": "LayoutModel",
      "state": {
       "grid_area": "widget084",
       "margin": "0"
      }
     },
     "90858f16304d478e905401a266cbad83": {
      "model_module": "@jupyter-widgets/controls",
      "model_module_version": "1.5.0",
      "model_name": "HTMLModel",
      "state": {
       "layout": "IPY_MODEL_beb35266257743f2bab0c2d6f1495e6b",
       "style": "IPY_MODEL_e9472b0a019e456f988717d440392845",
       "value": "<div style='background-color:white;'>&nbsp;</div>"
      }
     },
     "90881111ba424a7e8c91ddff3c6264d4": {
      "model_module": "@jupyter-widgets/controls",
      "model_module_version": "1.5.0",
      "model_name": "HTMLModel",
      "state": {
       "layout": "IPY_MODEL_704c6137f93d4ee1a2dfe48497a42be8",
       "style": "IPY_MODEL_43be0467342f4149bb534940514eb73f",
       "value": "500 / 500  in 15.8 s (0:00:00 remaining)"
      }
     },
     "909e9a4c0dfc4d5eb9aa7a5ca91d73de": {
      "model_module": "@jupyter-widgets/base",
      "model_module_version": "1.2.0",
      "model_name": "LayoutModel",
      "state": {
       "grid_area": "widget058",
       "margin": "0"
      }
     },
     "90bea509f8fe40e28c2096f043ea89ed": {
      "model_module": "@jupyter-widgets/controls",
      "model_module_version": "1.5.0",
      "model_name": "DescriptionStyleModel",
      "state": {
       "description_width": ""
      }
     },
     "90c51753381a429980aff0426da75fbc": {
      "model_module": "@jupyter-widgets/controls",
      "model_module_version": "1.5.0",
      "model_name": "HTMLModel",
      "state": {
       "layout": "IPY_MODEL_dc1d1df4b9a14231868ffa23ec4ad683",
       "style": "IPY_MODEL_88fe46abdcfe48299ac893f723b0981a",
       "value": "<div style='background-color:white;'>&nbsp;</div>"
      }
     },
     "90e05c34e89e46cb8215e3b83fcd7f49": {
      "model_module": "@jupyter-widgets/controls",
      "model_module_version": "1.5.0",
      "model_name": "DescriptionStyleModel",
      "state": {
       "description_width": ""
      }
     },
     "91379c994d0d4438bf914f63452be01b": {
      "model_module": "@jupyter-widgets/controls",
      "model_module_version": "1.5.0",
      "model_name": "HTMLModel",
      "state": {
       "layout": "IPY_MODEL_4f5038bc904c40bdaaaa0124a52051a6",
       "style": "IPY_MODEL_4206e045b5f7424fb862e2b71b4725bc",
       "value": "<div style='background-color:#FFB858; font-weight:bold; padding-right: 2em;'>source1.spectrum.main.Powerlaw.K</div>"
      }
     },
     "9159110e990a4869894ad4844eeb3083": {
      "model_module": "@jupyter-widgets/base",
      "model_module_version": "1.2.0",
      "model_name": "LayoutModel",
      "state": {
       "grid_area": "widget044",
       "margin": "0"
      }
     },
     "918fcea69b54400490a38cdfcd719102": {
      "model_module": "@jupyter-widgets/controls",
      "model_module_version": "1.5.0",
      "model_name": "DescriptionStyleModel",
      "state": {
       "description_width": ""
      }
     },
     "919013a7fcf248ff9c1ad0a1d0d41d0a": {
      "model_module": "@jupyter-widgets/controls",
      "model_module_version": "1.5.0",
      "model_name": "DescriptionStyleModel",
      "state": {
       "description_width": ""
      }
     },
     "91bd93408c5b4ee89162f96d075f2b67": {
      "model_module": "@jupyter-widgets/base",
      "model_module_version": "1.2.0",
      "model_name": "LayoutModel",
      "state": {
       "grid_area": "widget101",
       "margin": "0"
      }
     },
     "91c467a7c8a84c79a17f7c294293d592": {
      "model_module": "@jupyter-widgets/controls",
      "model_module_version": "1.5.0",
      "model_name": "DescriptionStyleModel",
      "state": {
       "description_width": ""
      }
     },
     "91c71a1a4e844cd3b32fc5d6566cdcb5": {
      "model_module": "@jupyter-widgets/base",
      "model_module_version": "1.2.0",
      "model_name": "LayoutModel",
      "state": {
       "grid_area": "widget051",
       "margin": "0"
      }
     },
     "91ddd229aa2643d4984c338480eb7015": {
      "model_module": "@jupyter-widgets/base",
      "model_module_version": "1.2.0",
      "model_name": "LayoutModel",
      "state": {
       "grid_area": "widget006",
       "margin": "0"
      }
     },
     "926cfee69f5d4a65bf4c4771ab5f4ea5": {
      "model_module": "@jupyter-widgets/controls",
      "model_module_version": "1.5.0",
      "model_name": "HTMLModel",
      "state": {
       "layout": "IPY_MODEL_06cf3f47606d4eca98b79989d6b13138",
       "style": "IPY_MODEL_5470351295364ff3a36b57401a772635",
       "value": "+0.0"
      }
     },
     "9279f1d8ba834d069db0b83ae1913ab3": {
      "model_module": "@jupyter-widgets/base",
      "model_module_version": "1.2.0",
      "model_name": "LayoutModel",
      "state": {
       "grid_area": "widget051",
       "margin": "0"
      }
     },
     "929eb960a11a4de48ebca53bb2719ee8": {
      "model_module": "@jupyter-widgets/controls",
      "model_module_version": "1.5.0",
      "model_name": "HTMLModel",
      "state": {
       "layout": "IPY_MODEL_010210469fc948b9af403cc6a123a0af",
       "style": "IPY_MODEL_26b3281e98c0488ea467e9721c05a4d8",
       "value": "<div style='background-color:#6E6BF4; font-family:monospace'>&nbsp;</div>"
      }
     },
     "92b9273bdf7746fb9e2bea1f1009ef27": {
      "model_module": "@jupyter-widgets/controls",
      "model_module_version": "1.5.0",
      "model_name": "HTMLModel",
      "state": {
       "layout": "IPY_MODEL_a6a88f7c5c00451095b4d0bdee8ec5b6",
       "style": "IPY_MODEL_28dcb446131f445587a09d97b92ce61f",
       "value": "<div style='background-color:white;'>&nbsp;</div>"
      }
     },
     "92c5d1d8ec7f4510bbe297a65b88d244": {
      "model_module": "@jupyter-widgets/base",
      "model_module_version": "1.2.0",
      "model_name": "LayoutModel",
      "state": {
       "grid_area": "widget070",
       "margin": "0"
      }
     },
     "9336353388f043709d26421c17000ba3": {
      "model_module": "@jupyter-widgets/controls",
      "model_module_version": "1.5.0",
      "model_name": "VBoxModel",
      "state": {
       "children": [
        "IPY_MODEL_ea5ea3c92d774568a6938752df81354c",
        "IPY_MODEL_f38e912c953c4a258ede898b24d0c4d3"
       ],
       "layout": "IPY_MODEL_72a376d47faa44559ccdf2704b43df0c"
      }
     },
     "933c64a6f324447b8ad9d2c96f6f92a2": {
      "model_module": "@jupyter-widgets/controls",
      "model_module_version": "1.5.0",
      "model_name": "DescriptionStyleModel",
      "state": {
       "description_width": ""
      }
     },
     "935c3f0a27d546c4b6877adc0ccb5dde": {
      "model_module": "@jupyter-widgets/base",
      "model_module_version": "1.2.0",
      "model_name": "LayoutModel",
      "state": {
       "grid_area": "widget035",
       "margin": "0"
      }
     },
     "9392f391a4464d21bbe300320470a063": {
      "model_module": "@jupyter-widgets/controls",
      "model_module_version": "1.5.0",
      "model_name": "DescriptionStyleModel",
      "state": {
       "description_width": ""
      }
     },
     "9484d741aa5a4d56a0422f06d7fdceed": {
      "model_module": "@jupyter-widgets/base",
      "model_module_version": "1.2.0",
      "model_name": "LayoutModel",
      "state": {
       "grid_area": "widget071",
       "margin": "0"
      }
     },
     "9488f5e5c3d9405d9ec3d06990b1aae2": {
      "model_module": "@jupyter-widgets/controls",
      "model_module_version": "1.5.0",
      "model_name": "DescriptionStyleModel",
      "state": {
       "description_width": ""
      }
     },
     "94a4231a750a4d19884910be533e02de": {
      "model_module": "@jupyter-widgets/controls",
      "model_module_version": "1.5.0",
      "model_name": "HTMLModel",
      "state": {
       "layout": "IPY_MODEL_8fab1e56fa214127ab836a1ab997a737",
       "style": "IPY_MODEL_70d94db7f71040239a2e6ac2cdc08c11",
       "value": "<div style='background-color:white;'>&nbsp;</div>"
      }
     },
     "94b471e82ad34cfcbc672cc4bea35026": {
      "model_module": "@jupyter-widgets/controls",
      "model_module_version": "1.5.0",
      "model_name": "HTMLModel",
      "state": {
       "layout": "IPY_MODEL_730b4daa4b104c5f88f5449c9b213ab0",
       "style": "IPY_MODEL_b25c903e7c2b4311927a0e9a1b219f94",
       "value": "<div style='background-color:#6E6BF4;'>&nbsp;</div>"
      }
     },
     "94d030dce7944385b371975cf0a3f8d6": {
      "model_module": "@jupyter-widgets/base",
      "model_module_version": "1.2.0",
      "model_name": "LayoutModel",
      "state": {}
     },
     "94eb05fc2c3e42f595822f52af160307": {
      "model_module": "@jupyter-widgets/controls",
      "model_module_version": "1.5.0",
      "model_name": "DescriptionStyleModel",
      "state": {
       "description_width": ""
      }
     },
     "94f76fa2b84e465385258777d19a9492": {
      "model_module": "@jupyter-widgets/controls",
      "model_module_version": "1.5.0",
      "model_name": "DescriptionStyleModel",
      "state": {
       "description_width": ""
      }
     },
     "9528c7be80a04c899695564f8e00c10c": {
      "model_module": "@jupyter-widgets/base",
      "model_module_version": "1.2.0",
      "model_name": "LayoutModel",
      "state": {
       "grid_area": "widget064",
       "margin": "0"
      }
     },
     "954c7e8670024795a32dce68456740c8": {
      "model_module": "@jupyter-widgets/base",
      "model_module_version": "1.2.0",
      "model_name": "LayoutModel",
      "state": {
       "grid_area": "widget021",
       "margin": "0"
      }
     },
     "9565d9a140e149158de857a34dae8d20": {
      "model_module": "@jupyter-widgets/base",
      "model_module_version": "1.2.0",
      "model_name": "LayoutModel",
      "state": {
       "grid_area": "widget103",
       "margin": "0"
      }
     },
     "959dfb158f464592928451c05975ac38": {
      "model_module": "@jupyter-widgets/controls",
      "model_module_version": "1.5.0",
      "model_name": "HTMLModel",
      "state": {
       "layout": "IPY_MODEL_755ba064d3bc411693f55c84e897ff3b",
       "style": "IPY_MODEL_9903efa89f10471182f8767965cc3903",
       "value": "<div style='background-color:white;'>&nbsp;</div>"
      }
     },
     "95d536a574a84cbdba6564711f25a02c": {
      "model_module": "@jupyter-widgets/controls",
      "model_module_version": "1.5.0",
      "model_name": "HTMLModel",
      "state": {
       "layout": "IPY_MODEL_5a9e3d10f45c44a39e673e9042ec0e7a",
       "style": "IPY_MODEL_50870f0f147a4aa388758b7ae392193c",
       "value": "+0.0"
      }
     },
     "95e61b63a3d44d9e9a13840979082561": {
      "model_module": "@jupyter-widgets/controls",
      "model_module_version": "1.5.0",
      "model_name": "HTMLModel",
      "state": {
       "layout": "IPY_MODEL_9dc739db8bc941668b1420363308f47d",
       "style": "IPY_MODEL_98a552f278eb46c09db68e04d9f4d31d",
       "value": "<div style='background-color:#6E6BF4;'>&nbsp;</div>"
      }
     },
     "96310d9bcf1e4f668520a2eaabd4b861": {
      "model_module": "@jupyter-widgets/base",
      "model_module_version": "1.2.0",
      "model_name": "LayoutModel",
      "state": {}
     },
     "968016fdaeaa4ec09166ff516da59c08": {
      "model_module": "@jupyter-widgets/controls",
      "model_module_version": "1.5.0",
      "model_name": "DescriptionStyleModel",
      "state": {
       "description_width": ""
      }
     },
     "969be22bf9924689b92c748bb593a99b": {
      "model_module": "@jupyter-widgets/base",
      "model_module_version": "1.2.0",
      "model_name": "LayoutModel",
      "state": {
       "grid_area": "widget041",
       "margin": "0"
      }
     },
     "96b018771d9a479f965c6b51ee922074": {
      "model_module": "@jupyter-widgets/controls",
      "model_module_version": "1.5.0",
      "model_name": "HTMLModel",
      "state": {
       "layout": "IPY_MODEL_f2537f5cf5644280b9359aa2a33c5893",
       "style": "IPY_MODEL_ec55a471fc9b4894864a59f5074442aa",
       "value": "<div style='background-color:white;'>&nbsp;</div>"
      }
     },
     "96ef6e98ea2a4563835e8c21677e11ad": {
      "model_module": "@jupyter-widgets/base",
      "model_module_version": "1.2.0",
      "model_name": "LayoutModel",
      "state": {}
     },
     "97122dae5ad54552a0fc235632e8f711": {
      "model_module": "@jupyter-widgets/controls",
      "model_module_version": "1.5.0",
      "model_name": "DescriptionStyleModel",
      "state": {
       "description_width": ""
      }
     },
     "97362b29b6e946efbe86be77673f8750": {
      "model_module": "@jupyter-widgets/controls",
      "model_module_version": "1.5.0",
      "model_name": "HTMLModel",
      "state": {
       "layout": "IPY_MODEL_7b899ac0648946a5aa885bf4919fa0a2",
       "style": "IPY_MODEL_1600a258906441e98981148e9dfe3eb7",
       "value": "<div style='background-color:white;'>&nbsp;</div>"
      }
     },
     "9745b13abe114474a7915910a5ee9d39": {
      "model_module": "@jupyter-widgets/base",
      "model_module_version": "1.2.0",
      "model_name": "LayoutModel",
      "state": {
       "grid_area": "widget010",
       "margin": "0"
      }
     },
     "97a759dd8729403984c1b0b92d045e63": {
      "model_module": "@jupyter-widgets/controls",
      "model_module_version": "1.5.0",
      "model_name": "HTMLModel",
      "state": {
       "layout": "IPY_MODEL_bf3cc1fc76ac40ef92a55044d3396ce1",
       "style": "IPY_MODEL_1593853ae1d34443ad900077f42c742f",
       "value": "<div style='background-color:white;'>&nbsp;</div>"
      }
     },
     "97ea6dc8943a43008077be5f5e68e08c": {
      "model_module": "@jupyter-widgets/controls",
      "model_module_version": "1.5.0",
      "model_name": "FloatProgressModel",
      "state": {
       "layout": "IPY_MODEL_d11620379bfc4289885eb0e5ad150201",
       "style": "IPY_MODEL_b51a9d82f09745329086d3fabc9910fd",
       "value": 100
      }
     },
     "9839f6c2ef8e4d3da0511944be770e1d": {
      "model_module": "@jupyter-widgets/controls",
      "model_module_version": "1.5.0",
      "model_name": "HTMLModel",
      "state": {
       "layout": "IPY_MODEL_16d5c959e25d464d872f8ee9db55bcde",
       "style": "IPY_MODEL_be95f514f9604eeab6c4d720e2e4962e",
       "value": "<div style='background-color:white;'>&nbsp;</div>"
      }
     },
     "9841715176a94f1f9bab997e87f71b7e": {
      "model_module": "@jupyter-widgets/controls",
      "model_module_version": "1.5.0",
      "model_name": "DescriptionStyleModel",
      "state": {
       "description_width": ""
      }
     },
     "9862a964c1864e669c2b1e3224816996": {
      "model_module": "@jupyter-widgets/base",
      "model_module_version": "1.2.0",
      "model_name": "LayoutModel",
      "state": {
       "grid_area": "widget023",
       "margin": "0"
      }
     },
     "989c17f7a7af499280e3569eda6816b3": {
      "model_module": "@jupyter-widgets/controls",
      "model_module_version": "1.5.0",
      "model_name": "HTMLModel",
      "state": {
       "layout": "IPY_MODEL_d569534cfb2c400cbb1c8d71102653f4",
       "style": "IPY_MODEL_525e6334d9f7456c9a7b7c5f15f6b1ab",
       "value": "<div style='background-color:white;'>&nbsp;</div>"
      }
     },
     "98a552f278eb46c09db68e04d9f4d31d": {
      "model_module": "@jupyter-widgets/controls",
      "model_module_version": "1.5.0",
      "model_name": "DescriptionStyleModel",
      "state": {
       "description_width": ""
      }
     },
     "98a84f85d4f646829bb1e2f0d938faa2": {
      "model_module": "@jupyter-widgets/base",
      "model_module_version": "1.2.0",
      "model_name": "LayoutModel",
      "state": {
       "grid_area": "widget070",
       "margin": "0"
      }
     },
     "98c2a726145345318531389523158f12": {
      "model_module": "@jupyter-widgets/controls",
      "model_module_version": "1.5.0",
      "model_name": "DescriptionStyleModel",
      "state": {
       "description_width": ""
      }
     },
     "98ebf9802fab4bea85686ae2b05bc4fe": {
      "model_module": "@jupyter-widgets/base",
      "model_module_version": "1.2.0",
      "model_name": "LayoutModel",
      "state": {
       "grid_area": "widget022",
       "margin": "0"
      }
     },
     "9903efa89f10471182f8767965cc3903": {
      "model_module": "@jupyter-widgets/controls",
      "model_module_version": "1.5.0",
      "model_name": "DescriptionStyleModel",
      "state": {
       "description_width": ""
      }
     },
     "9956ae5d871445ddac49af4e7347bb2d": {
      "model_module": "@jupyter-widgets/base",
      "model_module_version": "1.2.0",
      "model_name": "LayoutModel",
      "state": {}
     },
     "99cff54ce7874466bf53a261bf3860ab": {
      "model_module": "@jupyter-widgets/base",
      "model_module_version": "1.2.0",
      "model_name": "LayoutModel",
      "state": {
       "grid_area": "widget012",
       "margin": "0"
      }
     },
     "99e4dabf76534b3782ae8a391162f38c": {
      "model_module": "@jupyter-widgets/controls",
      "model_module_version": "1.5.0",
      "model_name": "HTMLModel",
      "state": {
       "layout": "IPY_MODEL_2661a29ea3b14e85b609399b955197d3",
       "style": "IPY_MODEL_24e7f0bb3d7e43478e377012cc8009e6",
       "value": "+1.0"
      }
     },
     "9a6a64f6b4d049469bf1a19ff6b17a77": {
      "model_module": "@jupyter-widgets/controls",
      "model_module_version": "1.5.0",
      "model_name": "DescriptionStyleModel",
      "state": {
       "description_width": ""
      }
     },
     "9a86e07af8834db390b1fc6c95415bc9": {
      "model_module": "@jupyter-widgets/base",
      "model_module_version": "1.2.0",
      "model_name": "LayoutModel",
      "state": {
       "grid_area": "widget103",
       "margin": "0"
      }
     },
     "9a8bc36128b14b74b6dd1d3774b8ccec": {
      "model_module": "@jupyter-widgets/controls",
      "model_module_version": "1.5.0",
      "model_name": "HTMLModel",
      "state": {
       "layout": "IPY_MODEL_cadfe65aeca844e08d6c65b9eb37ccbc",
       "style": "IPY_MODEL_f59be371442a4934af1dfa2eaa2a2b26",
       "value": "<div style='background-color:white;'>&nbsp;</div>"
      }
     },
     "9a989f65b7d44abc8f00ca688d021c7a": {
      "model_module": "@jupyter-widgets/controls",
      "model_module_version": "1.5.0",
      "model_name": "DescriptionStyleModel",
      "state": {
       "description_width": ""
      }
     },
     "9b18b40bce554fed92962e8107f5d224": {
      "model_module": "@jupyter-widgets/controls",
      "model_module_version": "1.5.0",
      "model_name": "HTMLModel",
      "state": {
       "layout": "IPY_MODEL_749dbb6ef61440e983f9a8eead6bf8e8",
       "style": "IPY_MODEL_4ba0d201f9ec438b85990b095de72e12",
       "value": "<div style='background-color:white;'>&nbsp;</div>"
      }
     },
     "9b63db84f3e340d68c0133ac7cec4b41": {
      "model_module": "@jupyter-widgets/controls",
      "model_module_version": "1.5.0",
      "model_name": "HTMLModel",
      "state": {
       "layout": "IPY_MODEL_e53b87dbd1644686b1d0f313eb9bd102",
       "style": "IPY_MODEL_98c2a726145345318531389523158f12",
       "value": "<div style='background-color:white;'>&nbsp;</div>"
      }
     },
     "9bce47448ae14cefbc45bb3092d58660": {
      "model_module": "@jupyter-widgets/controls",
      "model_module_version": "1.5.0",
      "model_name": "DescriptionStyleModel",
      "state": {
       "description_width": ""
      }
     },
     "9bd771bdd2b2481fbf518570506ac180": {
      "model_module": "@jupyter-widgets/base",
      "model_module_version": "1.2.0",
      "model_name": "LayoutModel",
      "state": {
       "grid_area": "widget104",
       "margin": "0"
      }
     },
     "9c3e22590aa64215a6567314ff46647e": {
      "model_module": "@jupyter-widgets/controls",
      "model_module_version": "1.5.0",
      "model_name": "HTMLModel",
      "state": {
       "layout": "IPY_MODEL_6ba5391997904fb683b6e0b1beae5813",
       "style": "IPY_MODEL_9e9bf1206402415dbce937080d1fd088",
       "value": "<div style='background-color:#6E6BF4;'>&nbsp;</div>"
      }
     },
     "9c448bb493494d65bad6d4e97089f0d9": {
      "model_module": "@jupyter-widgets/base",
      "model_module_version": "1.2.0",
      "model_name": "LayoutModel",
      "state": {
       "grid_area": "widget048",
       "margin": "0"
      }
     },
     "9c514d08466144f99b304078b983c857": {
      "model_module": "@jupyter-widgets/controls",
      "model_module_version": "1.5.0",
      "model_name": "HTMLModel",
      "state": {
       "layout": "IPY_MODEL_c9be6ef2bc85466ea3ac02cb80f1c49d",
       "style": "IPY_MODEL_58f7c99d51224bbcac480039f7fe19dd",
       "value": "<div style='background-color:white;'>&nbsp;</div>"
      }
     },
     "9c9f2c8702954b45b650ac1145f8a1bd": {
      "model_module": "@jupyter-widgets/controls",
      "model_module_version": "1.5.0",
      "model_name": "HTMLModel",
      "state": {
       "layout": "IPY_MODEL_cf51de75beee4803ab48f78ad0c94c8b",
       "style": "IPY_MODEL_6241fbecc6114bddbd09686f5fa0d42d",
       "value": "<div style='background-color:white;'>&nbsp;</div>"
      }
     },
     "9d14d5a8093c48e0bb6031d1726e6d87": {
      "model_module": "@jupyter-widgets/controls",
      "model_module_version": "1.5.0",
      "model_name": "HTMLModel",
      "state": {
       "layout": "IPY_MODEL_577886a451a8463c8706b1af45225c89",
       "style": "IPY_MODEL_e0a53a46ba7247089ade31453e6473f1",
       "value": "<div style='background-color:white;'>&nbsp;</div>"
      }
     },
     "9d37f7b75de24cc8a064790844c2173f": {
      "model_module": "@jupyter-widgets/base",
      "model_module_version": "1.2.0",
      "model_name": "LayoutModel",
      "state": {
       "grid_area": "widget063",
       "margin": "0"
      }
     },
     "9d5eea4f05954434821df524e6436e3b": {
      "model_module": "@jupyter-widgets/controls",
      "model_module_version": "1.5.0",
      "model_name": "HTMLModel",
      "state": {
       "layout": "IPY_MODEL_7a2425021c7b48bf97e8326706615009",
       "style": "IPY_MODEL_26fb841a2e354b0695576331108456ae",
       "value": "<div style='background-color:#6E6BF4; font-family:monospace'>&nbsp;</div>"
      }
     },
     "9dc739db8bc941668b1420363308f47d": {
      "model_module": "@jupyter-widgets/base",
      "model_module_version": "1.2.0",
      "model_name": "LayoutModel",
      "state": {
       "grid_area": "widget039",
       "margin": "0"
      }
     },
     "9e18ad17b48e4270b4e481831a43ab00": {
      "model_module": "@jupyter-widgets/controls",
      "model_module_version": "1.5.0",
      "model_name": "DescriptionStyleModel",
      "state": {
       "description_width": ""
      }
     },
     "9e31f1a597644d22abf91db4fdef35e6": {
      "model_module": "@jupyter-widgets/controls",
      "model_module_version": "1.5.0",
      "model_name": "DescriptionStyleModel",
      "state": {
       "description_width": ""
      }
     },
     "9e39f6bb7858444f84f12b5330935a07": {
      "model_module": "@jupyter-widgets/controls",
      "model_module_version": "1.5.0",
      "model_name": "DescriptionStyleModel",
      "state": {
       "description_width": ""
      }
     },
     "9e8af3b3831848c3aa90529f1902a852": {
      "model_module": "@jupyter-widgets/base",
      "model_module_version": "1.2.0",
      "model_name": "LayoutModel",
      "state": {
       "grid_area": "widget084",
       "margin": "0"
      }
     },
     "9e9bf1206402415dbce937080d1fd088": {
      "model_module": "@jupyter-widgets/controls",
      "model_module_version": "1.5.0",
      "model_name": "DescriptionStyleModel",
      "state": {
       "description_width": ""
      }
     },
     "9ec3f1aa2e394e15a67ca8bab6f25c2b": {
      "model_module": "@jupyter-widgets/controls",
      "model_module_version": "1.5.0",
      "model_name": "DescriptionStyleModel",
      "state": {
       "description_width": ""
      }
     },
     "9ec444e04d5a4e58ab52ddd2511107c9": {
      "model_module": "@jupyter-widgets/controls",
      "model_module_version": "1.5.0",
      "model_name": "HTMLModel",
      "state": {
       "layout": "IPY_MODEL_7ffb566f676d4b84bc510d528343a705",
       "style": "IPY_MODEL_9392f391a4464d21bbe300320470a063",
       "value": "<div style='background-color:#6E6BF4;'>&nbsp;</div>"
      }
     },
     "9f29a37df82e4418bad85ca6e5fac18a": {
      "model_module": "@jupyter-widgets/controls",
      "model_module_version": "1.5.0",
      "model_name": "DescriptionStyleModel",
      "state": {
       "description_width": ""
      }
     },
     "9f796b652bac47eaa142692fab837d8d": {
      "model_module": "@jupyter-widgets/controls",
      "model_module_version": "1.5.0",
      "model_name": "HTMLModel",
      "state": {
       "layout": "IPY_MODEL_7e3ef3006d5f45ca82806f1036a603d0",
       "style": "IPY_MODEL_90e05c34e89e46cb8215e3b83fcd7f49",
       "value": "<div style='background-color:white;'>&nbsp;</div>"
      }
     },
     "9fe3e7470ec54f85a3737227be2e1c37": {
      "model_module": "@jupyter-widgets/base",
      "model_module_version": "1.2.0",
      "model_name": "LayoutModel",
      "state": {
       "grid_area": "widget011",
       "margin": "0"
      }
     },
     "9fe3fe1b973f49928325739a0aea86f3": {
      "model_module": "@jupyter-widgets/controls",
      "model_module_version": "1.5.0",
      "model_name": "DescriptionStyleModel",
      "state": {
       "description_width": ""
      }
     },
     "a00ce5eff04842848a4a4f64515a13d3": {
      "model_module": "@jupyter-widgets/controls",
      "model_module_version": "1.5.0",
      "model_name": "DescriptionStyleModel",
      "state": {
       "description_width": ""
      }
     },
     "a0627cb4386d4c0a9eaad0f4cde0df77": {
      "model_module": "@jupyter-widgets/controls",
      "model_module_version": "1.5.0",
      "model_name": "DescriptionStyleModel",
      "state": {
       "description_width": ""
      }
     },
     "a09401f8d3ea42bc87108b5214e81f02": {
      "model_module": "@jupyter-widgets/controls",
      "model_module_version": "1.5.0",
      "model_name": "HTMLModel",
      "state": {
       "layout": "IPY_MODEL_a4ee4e3428274b6b813130a7cdc1e6e0",
       "style": "IPY_MODEL_43b9ed25895d48a0b9678fd3b0045f1f",
       "value": "<div style='background-color:#6E6BF4;'>&nbsp;</div>"
      }
     },
     "a0b22bf1fb854df69f262b146811ca9b": {
      "model_module": "@jupyter-widgets/controls",
      "model_module_version": "1.5.0",
      "model_name": "HTMLModel",
      "state": {
       "layout": "IPY_MODEL_1c7284ec88b047eebe4789c2210810f5",
       "style": "IPY_MODEL_d974b39ee8e74adb880af50e643b05fe",
       "value": "<div style='background-color:white;'>&nbsp;</div>"
      }
     },
     "a0bbfcacd8454534aeec080d4707aaf0": {
      "model_module": "@jupyter-widgets/controls",
      "model_module_version": "1.5.0",
      "model_name": "HTMLModel",
      "state": {
       "layout": "IPY_MODEL_fce87fc30c6e4730a9b2305f735d8bfb",
       "style": "IPY_MODEL_8ef60f0f636c499c9b73eef7dab82063",
       "value": "<div style='background-color:white;'>&nbsp;</div>"
      }
     },
     "a0e9084ce6c443d8a86437a53f48f705": {
      "model_module": "@jupyter-widgets/controls",
      "model_module_version": "1.5.0",
      "model_name": "HTMLModel",
      "state": {
       "layout": "IPY_MODEL_30782656420e49a39e655969e88c48ef",
       "style": "IPY_MODEL_19ac485c3462409eafc1f4a63ba7a9e5",
       "value": "<div style='background-color:white;'>&nbsp;</div>"
      }
     },
     "a10a738a2c8940d08c7660554a49490b": {
      "model_module": "@jupyter-widgets/controls",
      "model_module_version": "1.5.0",
      "model_name": "DescriptionStyleModel",
      "state": {
       "description_width": ""
      }
     },
     "a157f9c38be64ada8767670744b3ce25": {
      "model_module": "@jupyter-widgets/controls",
      "model_module_version": "1.5.0",
      "model_name": "HTMLModel",
      "state": {
       "layout": "IPY_MODEL_e0396d0725924ca49b2e79d5a53eddd8",
       "style": "IPY_MODEL_bc1b51d3147d4e49b86ee16b7db8e740",
       "value": "<div style='background-color:white;'>&nbsp;</div>"
      }
     },
     "a18bccf6debb496caa02536d80100d2c": {
      "model_module": "@jupyter-widgets/controls",
      "model_module_version": "1.5.0",
      "model_name": "HTMLModel",
      "state": {
       "layout": "IPY_MODEL_ce6f70acc1144c808f48c7cc575fa667",
       "style": "IPY_MODEL_f35079454bd14da3a41bb9bbf144eda8",
       "value": "<div style='background-color:white;'>&nbsp;</div>"
      }
     },
     "a1a40b5e40ea4f02a83c4240a96b558b": {
      "model_module": "@jupyter-widgets/controls",
      "model_module_version": "1.5.0",
      "model_name": "DescriptionStyleModel",
      "state": {
       "description_width": ""
      }
     },
     "a1a97dda08684640835b912ae3acdf65": {
      "model_module": "@jupyter-widgets/controls",
      "model_module_version": "1.5.0",
      "model_name": "HTMLModel",
      "state": {
       "layout": "IPY_MODEL_99cff54ce7874466bf53a261bf3860ab",
       "style": "IPY_MODEL_e539b6093fdb48ea819385df612b2776",
       "value": "<div style='background-color:white;'>&nbsp;</div>"
      }
     },
     "a1d47f0ebeea4faaa226c2b686af7373": {
      "model_module": "@jupyter-widgets/controls",
      "model_module_version": "1.5.0",
      "model_name": "DescriptionStyleModel",
      "state": {
       "description_width": ""
      }
     },
     "a1d6903325c44791b731d9a822a0e755": {
      "model_module": "@jupyter-widgets/controls",
      "model_module_version": "1.5.0",
      "model_name": "HTMLModel",
      "state": {
       "layout": "IPY_MODEL_f3a9653e8e564018928c5dd9af365316",
       "style": "IPY_MODEL_77585283d54d4754aedbc99e8feaea34",
       "value": "<div style='background-color:white;'>&nbsp;</div>"
      }
     },
     "a1fa9706e55d4fd995b9260317d839ef": {
      "model_module": "@jupyter-widgets/base",
      "model_module_version": "1.2.0",
      "model_name": "LayoutModel",
      "state": {
       "grid_area": "widget035",
       "margin": "0"
      }
     },
     "a21359ebe20f496180560737e90fae5a": {
      "model_module": "@jupyter-widgets/controls",
      "model_module_version": "1.5.0",
      "model_name": "HTMLModel",
      "state": {
       "layout": "IPY_MODEL_a44b8de2f5fe43d38b14acb6acb07abe",
       "style": "IPY_MODEL_3206f5fe4ad54c18942cb9497b8c9a79",
       "value": "<div style='background-color:white;'>&nbsp;</div>"
      }
     },
     "a27dd14dd39c47f6a4f8e7a0b78cf7e9": {
      "model_module": "@jupyter-widgets/base",
      "model_module_version": "1.2.0",
      "model_name": "LayoutModel",
      "state": {
       "grid_area": "widget032",
       "margin": "0"
      }
     },
     "a2a3620434c14649812a599908c349c4": {
      "model_module": "@jupyter-widgets/base",
      "model_module_version": "1.2.0",
      "model_name": "LayoutModel",
      "state": {
       "grid_area": "widget080",
       "margin": "0"
      }
     },
     "a2a652041a2443729749f37957393bdb": {
      "model_module": "@jupyter-widgets/controls",
      "model_module_version": "1.5.0",
      "model_name": "DescriptionStyleModel",
      "state": {
       "description_width": ""
      }
     },
     "a2d78ad7abbf4809afa9bf8b0aabe564": {
      "model_module": "@jupyter-widgets/base",
      "model_module_version": "1.2.0",
      "model_name": "LayoutModel",
      "state": {
       "grid_area": "widget038",
       "margin": "0"
      }
     },
     "a347c2df98184b3cb4517dd0dd826fc2": {
      "model_module": "@jupyter-widgets/controls",
      "model_module_version": "1.5.0",
      "model_name": "HTMLModel",
      "state": {
       "layout": "IPY_MODEL_8293cf079a3442c6b7e7be19cc87188e",
       "style": "IPY_MODEL_411a0214c9d748b5b039d7fec4cb6784",
       "value": "<div style='background-color:white;'>&nbsp;</div>"
      }
     },
     "a34b7672d56c4093aa1ab896453b1d8b": {
      "model_module": "@jupyter-widgets/base",
      "model_module_version": "1.2.0",
      "model_name": "LayoutModel",
      "state": {
       "grid_area": "widget050",
       "margin": "0"
      }
     },
     "a354dc5873cb4a9690e90478bde8b182": {
      "model_module": "@jupyter-widgets/base",
      "model_module_version": "1.2.0",
      "model_name": "LayoutModel",
      "state": {
       "grid_area": "widget063",
       "margin": "0"
      }
     },
     "a37fa4a1584f4d1dbc7699319e020e5f": {
      "model_module": "@jupyter-widgets/base",
      "model_module_version": "1.2.0",
      "model_name": "LayoutModel",
      "state": {
       "grid_area": "widget033",
       "margin": "0"
      }
     },
     "a386a1280bb44b74bb0ed7f6a6508405": {
      "model_module": "@jupyter-widgets/base",
      "model_module_version": "1.2.0",
      "model_name": "LayoutModel",
      "state": {
       "grid_template_areas": "\"widget051 widget052 widget001 widget002 widget003 widget004 widget005 widget006 widget007 widget008 widget009 widget010 widget011 widget012 widget013 widget014 widget015 widget016 widget017 widget018 widget019 widget020 widget021 widget022 widget023 widget024 widget025 widget026 widget027 widget028 widget029 widget030 widget031 widget032 widget033 widget034 widget035 widget036 widget037 widget038 widget039 widget040 widget041 widget042 widget043 widget044 widget045 widget046 widget047 widget048 widget049 widget050 widget053\"\n\"widget104 widget105 widget054 widget055 widget056 widget057 widget058 widget059 widget060 widget061 widget062 widget063 widget064 widget065 widget066 widget067 widget068 widget069 widget070 widget071 widget072 widget073 widget074 widget075 widget076 widget077 widget078 widget079 widget080 widget081 widget082 widget083 widget084 widget085 widget086 widget087 widget088 widget089 widget090 widget091 widget092 widget093 widget094 widget095 widget096 widget097 widget098 widget099 widget100 widget101 widget102 widget103 widget106\"",
       "grid_template_columns": "repeat(53, 1fr)",
       "grid_template_rows": "repeat(2, 1fr)"
      }
     },
     "a3e8f36c48e94ddcac4447a756f6cd78": {
      "model_module": "@jupyter-widgets/controls",
      "model_module_version": "1.5.0",
      "model_name": "HTMLModel",
      "state": {
       "layout": "IPY_MODEL_0c6ce845d8574fb48688dcdddf52dbbc",
       "style": "IPY_MODEL_c14c230c9ad34d8c82d76d1e17b4c041",
       "value": "<div style='background-color:white;'>&nbsp;</div>"
      }
     },
     "a44b8de2f5fe43d38b14acb6acb07abe": {
      "model_module": "@jupyter-widgets/base",
      "model_module_version": "1.2.0",
      "model_name": "LayoutModel",
      "state": {
       "grid_area": "widget027",
       "margin": "0"
      }
     },
     "a4599135facf4bd7893f4391422b5c37": {
      "model_module": "@jupyter-widgets/controls",
      "model_module_version": "1.5.0",
      "model_name": "HTMLModel",
      "state": {
       "layout": "IPY_MODEL_f05186d3fa5d413cbed22f905537e598",
       "style": "IPY_MODEL_8bce21d43a4f46ca944b53952af2d499",
       "value": "<div style='background-color:#6E6BF4;'>&nbsp;</div>"
      }
     },
     "a478194fa74a4f2fa34d0771fecc755c": {
      "model_module": "@jupyter-widgets/controls",
      "model_module_version": "1.5.0",
      "model_name": "DescriptionStyleModel",
      "state": {
       "description_width": ""
      }
     },
     "a47d23bae2984e5a909f8725c25d86d8": {
      "model_module": "@jupyter-widgets/controls",
      "model_module_version": "1.5.0",
      "model_name": "HTMLModel",
      "state": {
       "layout": "IPY_MODEL_439df542d8ca4f76ad96c031b7d5ac07",
       "style": "IPY_MODEL_e3d4a69cab08468f808f8bfd4fdb2e09",
       "value": "<div style='background-color:#6E6BF4;'>&nbsp;</div>"
      }
     },
     "a4abdf9f285342a7b1cf520582f5434f": {
      "model_module": "@jupyter-widgets/controls",
      "model_module_version": "1.5.0",
      "model_name": "HTMLModel",
      "state": {
       "layout": "IPY_MODEL_f4af2a50e4e54c7081382c7d83acb475",
       "style": "IPY_MODEL_73d0d1d598d64a3ea28d243d734d9487",
       "value": "<div style='background-color:white;'>&nbsp;</div>"
      }
     },
     "a4db7d3e41de44d3bcb1cf95a835c6e9": {
      "model_module": "@jupyter-widgets/controls",
      "model_module_version": "1.5.0",
      "model_name": "DescriptionStyleModel",
      "state": {
       "description_width": ""
      }
     },
     "a4ee4e3428274b6b813130a7cdc1e6e0": {
      "model_module": "@jupyter-widgets/base",
      "model_module_version": "1.2.0",
      "model_name": "LayoutModel",
      "state": {
       "grid_area": "widget095",
       "margin": "0"
      }
     },
     "a5533432e19042c18992abc7949e0c90": {
      "model_module": "@jupyter-widgets/base",
      "model_module_version": "1.2.0",
      "model_name": "LayoutModel",
      "state": {
       "grid_area": "widget055",
       "margin": "0"
      }
     },
     "a5936ea1567e476ba6514e079761cb95": {
      "model_module": "@jupyter-widgets/base",
      "model_module_version": "1.2.0",
      "model_name": "LayoutModel",
      "state": {}
     },
     "a5b25f8db2f846c7a8029a9bd24e7c5d": {
      "model_module": "@jupyter-widgets/base",
      "model_module_version": "1.2.0",
      "model_name": "LayoutModel",
      "state": {
       "grid_area": "widget052",
       "margin": "0"
      }
     },
     "a5eba90a434c40e8995feb50cc604056": {
      "model_module": "@jupyter-widgets/controls",
      "model_module_version": "1.5.0",
      "model_name": "DescriptionStyleModel",
      "state": {
       "description_width": ""
      }
     },
     "a63654d6cbd34761bf6eda90bd082016": {
      "model_module": "@jupyter-widgets/base",
      "model_module_version": "1.2.0",
      "model_name": "LayoutModel",
      "state": {
       "grid_area": "widget003",
       "margin": "0"
      }
     },
     "a6a88f7c5c00451095b4d0bdee8ec5b6": {
      "model_module": "@jupyter-widgets/base",
      "model_module_version": "1.2.0",
      "model_name": "LayoutModel",
      "state": {
       "grid_area": "widget005",
       "margin": "0"
      }
     },
     "a6d957777eb54971b3d51ac065da4a3e": {
      "model_module": "@jupyter-widgets/base",
      "model_module_version": "1.2.0",
      "model_name": "LayoutModel",
      "state": {
       "grid_area": "widget061",
       "margin": "0"
      }
     },
     "a6dcfa65cbc8460387fe224897360164": {
      "model_module": "@jupyter-widgets/controls",
      "model_module_version": "1.5.0",
      "model_name": "DescriptionStyleModel",
      "state": {
       "description_width": ""
      }
     },
     "a6e9b7a410574868847bb8073c441b6c": {
      "model_module": "@jupyter-widgets/controls",
      "model_module_version": "1.5.0",
      "model_name": "HTMLModel",
      "state": {
       "layout": "IPY_MODEL_66a1e4d050f24c32a0bfa2eb687ab7e9",
       "style": "IPY_MODEL_2c87a1299ead4c3481547c29550a5def",
       "value": "<div style='background-color:white;'>&nbsp;</div>"
      }
     },
     "a70151eee31a4d4eb04e2d31b50fd846": {
      "model_module": "@jupyter-widgets/controls",
      "model_module_version": "1.5.0",
      "model_name": "HTMLModel",
      "state": {
       "layout": "IPY_MODEL_f7ac47a7756e481fb644034d893f2cec",
       "style": "IPY_MODEL_e1cf99a14a684cc6b74f5e4e4e7719a5",
       "value": "<div style='background-color:white;'>&nbsp;</div>"
      }
     },
     "a7af10ce750643a88d1f1f6d97a61e26": {
      "model_module": "@jupyter-widgets/controls",
      "model_module_version": "1.5.0",
      "model_name": "DescriptionStyleModel",
      "state": {
       "description_width": ""
      }
     },
     "a7d93df7c7b046f79febedb5201d25e3": {
      "model_module": "@jupyter-widgets/controls",
      "model_module_version": "1.5.0",
      "model_name": "HTMLModel",
      "state": {
       "layout": "IPY_MODEL_0427c18d6b164223b8522e186b6f47fa",
       "style": "IPY_MODEL_4997c64be2274389ae01bf249861c303",
       "value": "<div style='background-color:white;'>&nbsp;</div>"
      }
     },
     "a8725e8987e34a2485003ea7ab43a1f1": {
      "model_module": "@jupyter-widgets/controls",
      "model_module_version": "1.5.0",
      "model_name": "DescriptionStyleModel",
      "state": {
       "description_width": ""
      }
     },
     "a88994587c4f4816aebb357ed2b3efc2": {
      "model_module": "@jupyter-widgets/controls",
      "model_module_version": "1.5.0",
      "model_name": "DescriptionStyleModel",
      "state": {
       "description_width": ""
      }
     },
     "a89d5681bc5a4217b9d2d0af962eac97": {
      "model_module": "@jupyter-widgets/base",
      "model_module_version": "1.2.0",
      "model_name": "LayoutModel",
      "state": {}
     },
     "a8b2b42ab8f94987b5cd932aaa6e56bf": {
      "model_module": "@jupyter-widgets/controls",
      "model_module_version": "1.5.0",
      "model_name": "HTMLModel",
      "state": {
       "layout": "IPY_MODEL_75ae072e74264fbca1cb10abf0d4b5df",
       "style": "IPY_MODEL_8bb875058ad349d2a14dd15a23ce9aa6",
       "value": "<div style='background-color:#6E6BF4;'>&nbsp;</div>"
      }
     },
     "a8bd673d937c42faac979e60dec0cdc1": {
      "model_module": "@jupyter-widgets/controls",
      "model_module_version": "1.5.0",
      "model_name": "HTMLModel",
      "state": {
       "layout": "IPY_MODEL_dc968d42cd23430b82cb827a77c2c3d9",
       "style": "IPY_MODEL_1de0996c482f4c88959f22b3ddb8c7af",
       "value": "Propagating errors : "
      }
     },
     "a8c536d87a074be090f5345cdb5d5f27": {
      "model_module": "@jupyter-widgets/base",
      "model_module_version": "1.2.0",
      "model_name": "LayoutModel",
      "state": {
       "grid_area": "widget100",
       "margin": "0"
      }
     },
     "a94ec55041e641468dcd23126af1a578": {
      "model_module": "@jupyter-widgets/controls",
      "model_module_version": "1.5.0",
      "model_name": "HTMLModel",
      "state": {
       "layout": "IPY_MODEL_ea05155c2d384b6d93cce4ab6ce462bd",
       "style": "IPY_MODEL_7f1c9968e4a9475b81a2dbd3c36fc288",
       "value": "<div style='background-color:#6E6BF4;'>&nbsp;</div>"
      }
     },
     "a9b3663b064c453cb0f5d6730e587747": {
      "model_module": "@jupyter-widgets/base",
      "model_module_version": "1.2.0",
      "model_name": "LayoutModel",
      "state": {
       "grid_area": "widget017",
       "margin": "0"
      }
     },
     "a9fa72212ce34c8aad60efc6b4822663": {
      "model_module": "@jupyter-widgets/base",
      "model_module_version": "1.2.0",
      "model_name": "LayoutModel",
      "state": {
       "grid_area": "widget001",
       "margin": "0"
      }
     },
     "aa52d31fec4e4f30b711155b6b5caffb": {
      "model_module": "@jupyter-widgets/controls",
      "model_module_version": "1.5.0",
      "model_name": "DescriptionStyleModel",
      "state": {
       "description_width": ""
      }
     },
     "aa7b416366e64dbeae304ba86caf99f6": {
      "model_module": "@jupyter-widgets/controls",
      "model_module_version": "1.5.0",
      "model_name": "DescriptionStyleModel",
      "state": {
       "description_width": ""
      }
     },
     "aac0026abd3546a6acf24f04485ea8ac": {
      "model_module": "@jupyter-widgets/controls",
      "model_module_version": "1.5.0",
      "model_name": "HTMLModel",
      "state": {
       "layout": "IPY_MODEL_5f94ed316b634ce5bab2cf3288c76bf9",
       "style": "IPY_MODEL_eaea6e8492f943f1ab9d0fb61f713b4c",
       "value": "<div style='background-color:#6E6BF4;'>&nbsp;</div>"
      }
     },
     "aaf6dab8407d41b5bcf92a57d2da931b": {
      "model_module": "@jupyter-widgets/controls",
      "model_module_version": "1.5.0",
      "model_name": "HTMLModel",
      "state": {
       "layout": "IPY_MODEL_06edcf1025ac454b977cba6e15a475ae",
       "style": "IPY_MODEL_0d9840183246460f9922ef417b796948",
       "value": "<div style='background-color:#6E6BF4;'>&nbsp;</div>"
      }
     },
     "ab0f7ca555bc410b90d80d699325fa24": {
      "model_module": "@jupyter-widgets/base",
      "model_module_version": "1.2.0",
      "model_name": "LayoutModel",
      "state": {
       "grid_area": "widget053",
       "margin": "0"
      }
     },
     "ab5e6098385145b798e9d1f52ab3282d": {
      "model_module": "@jupyter-widgets/controls",
      "model_module_version": "1.5.0",
      "model_name": "HTMLModel",
      "state": {
       "layout": "IPY_MODEL_5efb478a82ca4bc6b0001fecb9443b99",
       "style": "IPY_MODEL_1530c80db23245179891f43c81c19544",
       "value": "<div style='background-color:white;'>&nbsp;</div>"
      }
     },
     "ab62547904ba48f59e27204be1d67ca3": {
      "model_module": "@jupyter-widgets/controls",
      "model_module_version": "1.5.0",
      "model_name": "HTMLModel",
      "state": {
       "layout": "IPY_MODEL_9279f1d8ba834d069db0b83ae1913ab3",
       "style": "IPY_MODEL_d2ee7a4c230c4cc2848a23f257d7a066",
       "value": "<div style='background-color:#FFB858; font-weight:bold; padding-right: 2em;'>source1.spectrum.main.Powerlaw.K</div>"
      }
     },
     "abb787fb49654f569bfb2841d2446d7c": {
      "model_module": "@jupyter-widgets/controls",
      "model_module_version": "1.5.0",
      "model_name": "HTMLModel",
      "state": {
       "layout": "IPY_MODEL_e1b6771490284c53a5210be68954f973",
       "style": "IPY_MODEL_34c7b4f19ee843c69db0d684d833b4d2",
       "value": "<div style='background-color:#6E6BF4;'>&nbsp;</div>"
      }
     },
     "abbe1a78acb845399b1c2b283ca37979": {
      "model_module": "@jupyter-widgets/base",
      "model_module_version": "1.2.0",
      "model_name": "LayoutModel",
      "state": {
       "grid_area": "widget058",
       "margin": "0"
      }
     },
     "abc049b767754028a534ae356352e8c3": {
      "model_module": "@jupyter-widgets/controls",
      "model_module_version": "1.5.0",
      "model_name": "HTMLModel",
      "state": {
       "layout": "IPY_MODEL_e1b7d84198a64866b9672a17c0af5557",
       "style": "IPY_MODEL_c54ebe1e139b45d9b667626f6a62885f",
       "value": "<div style='background-color:white;'>&nbsp;</div>"
      }
     },
     "abf30b0879f440fd838d6fe8a642cc05": {
      "model_module": "@jupyter-widgets/base",
      "model_module_version": "1.2.0",
      "model_name": "LayoutModel",
      "state": {
       "grid_area": "widget011",
       "margin": "0"
      }
     },
     "ac3dcda1c58b45f39c283ca4c04ed26c": {
      "model_module": "@jupyter-widgets/controls",
      "model_module_version": "1.5.0",
      "model_name": "DescriptionStyleModel",
      "state": {
       "description_width": ""
      }
     },
     "acab53e109584af0a8c2963b61448718": {
      "model_module": "@jupyter-widgets/controls",
      "model_module_version": "1.5.0",
      "model_name": "VBoxModel",
      "state": {
       "children": [
        "IPY_MODEL_f5b086b7ebef46b2b81371fb59495b20",
        "IPY_MODEL_90881111ba424a7e8c91ddff3c6264d4",
        "IPY_MODEL_57fa564984d94b79abbf2d1f5405e4ca"
       ],
       "layout": "IPY_MODEL_ba7bbf4457f24ee8938ddb0432fa7314"
      }
     },
     "ad109b75cea0415ab563c6a17c909dbc": {
      "model_module": "@jupyter-widgets/base",
      "model_module_version": "1.2.0",
      "model_name": "LayoutModel",
      "state": {
       "grid_area": "widget037",
       "margin": "0"
      }
     },
     "ad2aab669ba04e2493cdc0debeb1e785": {
      "model_module": "@jupyter-widgets/base",
      "model_module_version": "1.2.0",
      "model_name": "LayoutModel",
      "state": {}
     },
     "ad3194de37a3454f8e5d439c689c6353": {
      "model_module": "@jupyter-widgets/controls",
      "model_module_version": "1.5.0",
      "model_name": "HTMLModel",
      "state": {
       "layout": "IPY_MODEL_a34b7672d56c4093aa1ab896453b1d8b",
       "style": "IPY_MODEL_3c7d84a9c1084241b22ad84f9ee69eeb",
       "value": "<div style='background-color:white;'>&nbsp;</div>"
      }
     },
     "ad351e1d423c47d8a13c8815e3fdb4f7": {
      "model_module": "@jupyter-widgets/controls",
      "model_module_version": "1.5.0",
      "model_name": "DescriptionStyleModel",
      "state": {
       "description_width": ""
      }
     },
     "aeb64109311743f3be2de7f3b8a513fe": {
      "model_module": "@jupyter-widgets/controls",
      "model_module_version": "1.5.0",
      "model_name": "DescriptionStyleModel",
      "state": {
       "description_width": ""
      }
     },
     "af2a089d33ff4c1082e129ca110b4cce": {
      "model_module": "@jupyter-widgets/base",
      "model_module_version": "1.2.0",
      "model_name": "LayoutModel",
      "state": {
       "grid_area": "widget068",
       "margin": "0"
      }
     },
     "af841c7745064ae7a5b0e809271cb2c7": {
      "model_module": "@jupyter-widgets/base",
      "model_module_version": "1.2.0",
      "model_name": "LayoutModel",
      "state": {}
     },
     "af99c270d0a74609bba3a2e43bd31255": {
      "model_module": "@jupyter-widgets/base",
      "model_module_version": "1.2.0",
      "model_name": "LayoutModel",
      "state": {}
     },
     "afbbe0f922b14a72a28ca4cb688bdf61": {
      "model_module": "@jupyter-widgets/controls",
      "model_module_version": "1.5.0",
      "model_name": "HTMLModel",
      "state": {
       "layout": "IPY_MODEL_1934cbd7de434f1492fe57f7ad6bc803",
       "style": "IPY_MODEL_dbf7a4883e34491896e8042cfe601163",
       "value": "<div style='background-color:#6E6BF4;'>&nbsp;</div>"
      }
     },
     "b04e36ed19d94a0c9e5eefcffc1904fd": {
      "model_module": "@jupyter-widgets/controls",
      "model_module_version": "1.5.0",
      "model_name": "DescriptionStyleModel",
      "state": {
       "description_width": ""
      }
     },
     "b04eed00546a45ef8cb0c86643981c7c": {
      "model_module": "@jupyter-widgets/controls",
      "model_module_version": "1.5.0",
      "model_name": "HTMLModel",
      "state": {
       "layout": "IPY_MODEL_445db2cd83104e02beb10a8ac96be126",
       "style": "IPY_MODEL_0a4e3c4cf89942c89f7b40fed07e0c8f",
       "value": "<div style='background-color:#6E6BF4;'>&nbsp;</div>"
      }
     },
     "b068ca4e7fde415aa4a34a458127076c": {
      "model_module": "@jupyter-widgets/controls",
      "model_module_version": "1.5.0",
      "model_name": "DescriptionStyleModel",
      "state": {
       "description_width": ""
      }
     },
     "b0947b9d1e0146c580d5a019eca25521": {
      "model_module": "@jupyter-widgets/controls",
      "model_module_version": "1.5.0",
      "model_name": "DescriptionStyleModel",
      "state": {
       "description_width": ""
      }
     },
     "b0b751282ef8444ba130d1f1ba5dbed8": {
      "model_module": "@jupyter-widgets/controls",
      "model_module_version": "1.5.0",
      "model_name": "DescriptionStyleModel",
      "state": {
       "description_width": ""
      }
     },
     "b0b7dbb731974addbfdf5dc224a46c92": {
      "model_module": "@jupyter-widgets/base",
      "model_module_version": "1.2.0",
      "model_name": "LayoutModel",
      "state": {
       "grid_area": "widget093",
       "margin": "0"
      }
     },
     "b0c221dd8a0a447f9937cc15457b46b9": {
      "model_module": "@jupyter-widgets/base",
      "model_module_version": "1.2.0",
      "model_name": "LayoutModel",
      "state": {
       "grid_area": "widget080",
       "margin": "0"
      }
     },
     "b0d2b457218243fc9a0b992aae870a7a": {
      "model_module": "@jupyter-widgets/controls",
      "model_module_version": "1.5.0",
      "model_name": "FloatProgressModel",
      "state": {
       "layout": "IPY_MODEL_748a3c927b014b208cbe89f696df3607",
       "style": "IPY_MODEL_3f72816415a24514a98617c39d6925c0",
       "value": 100
      }
     },
     "b0ebb9c46faa4f8087e55a3d87d81ab4": {
      "model_module": "@jupyter-widgets/base",
      "model_module_version": "1.2.0",
      "model_name": "LayoutModel",
      "state": {
       "grid_area": "widget005",
       "margin": "0"
      }
     },
     "b12b0bed130046a1b73f4b981e6f7598": {
      "model_module": "@jupyter-widgets/base",
      "model_module_version": "1.2.0",
      "model_name": "LayoutModel",
      "state": {
       "grid_area": "widget029",
       "margin": "0"
      }
     },
     "b18f0077461548daa01f66e2e68a483f": {
      "model_module": "@jupyter-widgets/base",
      "model_module_version": "1.2.0",
      "model_name": "LayoutModel",
      "state": {
       "grid_area": "widget044",
       "margin": "0"
      }
     },
     "b208af90d0124fb2923156a00cb1b66a": {
      "model_module": "@jupyter-widgets/controls",
      "model_module_version": "1.5.0",
      "model_name": "DescriptionStyleModel",
      "state": {
       "description_width": ""
      }
     },
     "b24d0abe02e74a6da3dc542a074183bb": {
      "model_module": "@jupyter-widgets/base",
      "model_module_version": "1.2.0",
      "model_name": "LayoutModel",
      "state": {
       "grid_area": "widget038",
       "margin": "0"
      }
     },
     "b25c903e7c2b4311927a0e9a1b219f94": {
      "model_module": "@jupyter-widgets/controls",
      "model_module_version": "1.5.0",
      "model_name": "DescriptionStyleModel",
      "state": {
       "description_width": ""
      }
     },
     "b279da3c643f4a6aa87c0880f60acc22": {
      "model_module": "@jupyter-widgets/controls",
      "model_module_version": "1.5.0",
      "model_name": "HTMLModel",
      "state": {
       "layout": "IPY_MODEL_bea0af86d1cf44a2a262827e5c0709d4",
       "style": "IPY_MODEL_c7dfab56734e4be8a50287e432976f14",
       "value": "<div style='background-color:white;'>&nbsp;</div>"
      }
     },
     "b2c386015f644197bb457ddfaa001537": {
      "model_module": "@jupyter-widgets/base",
      "model_module_version": "1.2.0",
      "model_name": "LayoutModel",
      "state": {}
     },
     "b2e2165f5bf943a2824a6ad7b2ad570a": {
      "model_module": "@jupyter-widgets/controls",
      "model_module_version": "1.5.0",
      "model_name": "HTMLModel",
      "state": {
       "layout": "IPY_MODEL_6d252435b4d545deb58006e714354258",
       "style": "IPY_MODEL_1fbb39ff02fc448eb3dc0c3bc42ee8f9",
       "value": "<div style='background-color:white;'>&nbsp;</div>"
      }
     },
     "b2ea2be59fc64ed39cdf2ef9aa6a177b": {
      "model_module": "@jupyter-widgets/controls",
      "model_module_version": "1.5.0",
      "model_name": "DescriptionStyleModel",
      "state": {
       "description_width": ""
      }
     },
     "b328cae6dfce44ffaf218c91f83f0468": {
      "model_module": "@jupyter-widgets/controls",
      "model_module_version": "1.5.0",
      "model_name": "DescriptionStyleModel",
      "state": {
       "description_width": ""
      }
     },
     "b37e08a1a7514c5caa4733439135fbba": {
      "model_module": "@jupyter-widgets/controls",
      "model_module_version": "1.5.0",
      "model_name": "DescriptionStyleModel",
      "state": {
       "description_width": ""
      }
     },
     "b38e5d3daea24a27a5e203bd44faaa89": {
      "model_module": "@jupyter-widgets/controls",
      "model_module_version": "1.5.0",
      "model_name": "DescriptionStyleModel",
      "state": {
       "description_width": ""
      }
     },
     "b3dd111f6e744ccf8c88f6b6758ae73f": {
      "model_module": "@jupyter-widgets/controls",
      "model_module_version": "1.5.0",
      "model_name": "HTMLModel",
      "state": {
       "layout": "IPY_MODEL_c89a7a402c99465c922aed8bddb0444b",
       "style": "IPY_MODEL_8a665b88e4c94631b4853e3ba3fc3fcf",
       "value": "<div style='background-color:#6E6BF4;'>&nbsp;</div>"
      }
     },
     "b3e9dadc9ff8491e8b4263d605506db8": {
      "model_module": "@jupyter-widgets/controls",
      "model_module_version": "1.5.0",
      "model_name": "DescriptionStyleModel",
      "state": {
       "description_width": ""
      }
     },
     "b40a366fe6174d6ea351d8dd1503db09": {
      "model_module": "@jupyter-widgets/controls",
      "model_module_version": "1.5.0",
      "model_name": "DescriptionStyleModel",
      "state": {
       "description_width": ""
      }
     },
     "b43ad1688eac4ad3a68d69bbb6ccb538": {
      "model_module": "@jupyter-widgets/controls",
      "model_module_version": "1.5.0",
      "model_name": "DescriptionStyleModel",
      "state": {
       "description_width": ""
      }
     },
     "b45e2f03373848479018453d35612604": {
      "model_module": "@jupyter-widgets/controls",
      "model_module_version": "1.5.0",
      "model_name": "DescriptionStyleModel",
      "state": {
       "description_width": ""
      }
     },
     "b48e3c063dcb4930a64bb0966b89a181": {
      "model_module": "@jupyter-widgets/base",
      "model_module_version": "1.2.0",
      "model_name": "LayoutModel",
      "state": {
       "grid_area": "widget097",
       "margin": "0"
      }
     },
     "b4939040c7944b418456dda8a99d665c": {
      "model_module": "@jupyter-widgets/controls",
      "model_module_version": "1.5.0",
      "model_name": "HTMLModel",
      "state": {
       "layout": "IPY_MODEL_f93d19ebb5984047bbaf3038fea745a3",
       "style": "IPY_MODEL_ca0d957c35234d368850e510cd3cfebc",
       "value": "<div style='background-color:#FFB858; font-weight:bold; padding-right: 2em;'>source1.spectrum.main.Powerlaw.K</div>"
      }
     },
     "b4bc6766dc044eae9ac50d5d3e815fa1": {
      "model_module": "@jupyter-widgets/controls",
      "model_module_version": "1.5.0",
      "model_name": "DescriptionStyleModel",
      "state": {
       "description_width": ""
      }
     },
     "b4ec4eecd2dc479cae6fee8353720886": {
      "model_module": "@jupyter-widgets/base",
      "model_module_version": "1.2.0",
      "model_name": "LayoutModel",
      "state": {
       "grid_area": "widget020",
       "margin": "0"
      }
     },
     "b51a9d82f09745329086d3fabc9910fd": {
      "model_module": "@jupyter-widgets/controls",
      "model_module_version": "1.5.0",
      "model_name": "ProgressStyleModel",
      "state": {
       "description_width": ""
      }
     },
     "b520c4f1a81945af963cfae6fd0ee90f": {
      "model_module": "@jupyter-widgets/base",
      "model_module_version": "1.2.0",
      "model_name": "LayoutModel",
      "state": {
       "grid_area": "widget086",
       "margin": "0"
      }
     },
     "b5a88670b27e4afaa719570c8c035946": {
      "model_module": "@jupyter-widgets/controls",
      "model_module_version": "1.5.0",
      "model_name": "DescriptionStyleModel",
      "state": {
       "description_width": ""
      }
     },
     "b5aca7cbe73940de8f60a911b17ad3a7": {
      "model_module": "@jupyter-widgets/base",
      "model_module_version": "1.2.0",
      "model_name": "LayoutModel",
      "state": {
       "grid_area": "widget092",
       "margin": "0"
      }
     },
     "b5eda5d827384dd49bf65d0919dc4120": {
      "model_module": "@jupyter-widgets/base",
      "model_module_version": "1.2.0",
      "model_name": "LayoutModel",
      "state": {
       "grid_area": "widget047",
       "margin": "0"
      }
     },
     "b65ba8e1724d4873b64fb7dcf7ae663d": {
      "model_module": "@jupyter-widgets/base",
      "model_module_version": "1.2.0",
      "model_name": "LayoutModel",
      "state": {
       "grid_area": "widget092",
       "margin": "0"
      }
     },
     "b66576e8d26d4b2ab416f196149c3ff6": {
      "model_module": "@jupyter-widgets/base",
      "model_module_version": "1.2.0",
      "model_name": "LayoutModel",
      "state": {
       "grid_area": "widget048",
       "margin": "0"
      }
     },
     "b6bc55e49c9b490d8b219c7933e734f4": {
      "model_module": "@jupyter-widgets/controls",
      "model_module_version": "1.5.0",
      "model_name": "DescriptionStyleModel",
      "state": {
       "description_width": ""
      }
     },
     "b6c06b8ee51c440ba61f4d07363fb758": {
      "model_module": "@jupyter-widgets/controls",
      "model_module_version": "1.5.0",
      "model_name": "DescriptionStyleModel",
      "state": {
       "description_width": ""
      }
     },
     "b6e8802c869e407e9227ec098558d579": {
      "model_module": "@jupyter-widgets/controls",
      "model_module_version": "1.5.0",
      "model_name": "HTMLModel",
      "state": {
       "layout": "IPY_MODEL_885af4ec53e8435f9d562f16b84f67d4",
       "style": "IPY_MODEL_0cf8921a68e8434e9617f36cd4ad2b12",
       "value": "<div style='background-color:#6E6BF4;'>&nbsp;</div>"
      }
     },
     "b70a64b0bf20474398ea849b6f2b9361": {
      "model_module": "@jupyter-widgets/base",
      "model_module_version": "1.2.0",
      "model_name": "LayoutModel",
      "state": {
       "grid_area": "widget021",
       "margin": "0"
      }
     },
     "b71ad444b0c64115b8b0747b4809a170": {
      "model_module": "@jupyter-widgets/controls",
      "model_module_version": "1.5.0",
      "model_name": "DescriptionStyleModel",
      "state": {
       "description_width": ""
      }
     },
     "b72ab5e821ad44588928b59f52d8de3f": {
      "model_module": "@jupyter-widgets/base",
      "model_module_version": "1.2.0",
      "model_name": "LayoutModel",
      "state": {
       "grid_area": "widget100",
       "margin": "0"
      }
     },
     "b745450f7f014fceae651dba6b9b06b5": {
      "model_module": "@jupyter-widgets/base",
      "model_module_version": "1.2.0",
      "model_name": "LayoutModel",
      "state": {
       "grid_area": "widget015",
       "margin": "0"
      }
     },
     "b74d24ebf2634877b6fb37274182c1ae": {
      "model_module": "@jupyter-widgets/controls",
      "model_module_version": "1.5.0",
      "model_name": "HTMLModel",
      "state": {
       "layout": "IPY_MODEL_fa25398cc96e45268de6f5d3e87f4204",
       "style": "IPY_MODEL_4fdd0842dfd448dbb3e70ef5c5710178",
       "value": "1 / 1  in 1.7 s (0:00:00 remaining)"
      }
     },
     "b76e2eb3ddbc4a3f899d6867ed56774d": {
      "model_module": "@jupyter-widgets/controls",
      "model_module_version": "1.5.0",
      "model_name": "DescriptionStyleModel",
      "state": {
       "description_width": ""
      }
     },
     "b7fc4456aa614eaf91d64c3d3e95aa2c": {
      "model_module": "@jupyter-widgets/base",
      "model_module_version": "1.2.0",
      "model_name": "LayoutModel",
      "state": {
       "grid_area": "widget087",
       "margin": "0"
      }
     },
     "b81c9864449b4cbeaaa279f290cfc41a": {
      "model_module": "@jupyter-widgets/controls",
      "model_module_version": "1.5.0",
      "model_name": "HTMLModel",
      "state": {
       "layout": "IPY_MODEL_92c5d1d8ec7f4510bbe297a65b88d244",
       "style": "IPY_MODEL_a10a738a2c8940d08c7660554a49490b",
       "value": "<div style='background-color:#6E6BF4;'>&nbsp;</div>"
      }
     },
     "b8784ee2ef54463494b0181c6b08e93e": {
      "model_module": "@jupyter-widgets/controls",
      "model_module_version": "1.5.0",
      "model_name": "HTMLModel",
      "state": {
       "layout": "IPY_MODEL_906a541e8b8c4008a389dbfa11ea37a1",
       "style": "IPY_MODEL_f4566b84c42d48cb85c848933e6bd832",
       "value": "<div style='background-color:white;'>&nbsp;</div>"
      }
     },
     "b87dbaf035ef47ce8eef2559a70a53ce": {
      "model_module": "@jupyter-widgets/base",
      "model_module_version": "1.2.0",
      "model_name": "LayoutModel",
      "state": {
       "grid_area": "widget033",
       "margin": "0"
      }
     },
     "b88d7275e95241c0a9ebee7d5ac5a2e6": {
      "model_module": "@jupyter-widgets/controls",
      "model_module_version": "1.5.0",
      "model_name": "HTMLModel",
      "state": {
       "layout": "IPY_MODEL_dfa796ecd27c46a8b9646c10f4551a18",
       "style": "IPY_MODEL_de135ddfb7514789a521fdf2d60c002c",
       "value": "<div style='background-color:white;'>&nbsp;</div>"
      }
     },
     "b8ab7de66df940e9b6adf20381c28061": {
      "model_module": "@jupyter-widgets/controls",
      "model_module_version": "1.5.0",
      "model_name": "VBoxModel",
      "state": {
       "children": [
        "IPY_MODEL_f5bb838b31ba4f4aa827125e2a9bc416",
        "IPY_MODEL_8c9592afde0f48d89aa9c000e5095f9d"
       ],
       "layout": "IPY_MODEL_7ef40bd2e46345a79752a00ab24add0d"
      }
     },
     "b8cacc7549ed4226a89deb8b54c6fa1f": {
      "model_module": "@jupyter-widgets/controls",
      "model_module_version": "1.5.0",
      "model_name": "HTMLModel",
      "state": {
       "layout": "IPY_MODEL_f0380053edcc4943819650348073303e",
       "style": "IPY_MODEL_fa77c68ed0804d528baf93b1c70fdd5e",
       "value": "<div style='background-color:white;'>&nbsp;</div>"
      }
     },
     "b8d965983eb444f8a97a6f0127e502fb": {
      "model_module": "@jupyter-widgets/controls",
      "model_module_version": "1.5.0",
      "model_name": "DescriptionStyleModel",
      "state": {
       "description_width": ""
      }
     },
     "b8e31d9e7d264191876d8ebf048bac8b": {
      "model_module": "@jupyter-widgets/controls",
      "model_module_version": "1.5.0",
      "model_name": "DescriptionStyleModel",
      "state": {
       "description_width": ""
      }
     },
     "b91aeb3418bd4c2db9dc558916a8e31e": {
      "model_module": "@jupyter-widgets/controls",
      "model_module_version": "1.5.0",
      "model_name": "HTMLModel",
      "state": {
       "layout": "IPY_MODEL_2c14e698b91c4bd0b59f7d8bcdf20126",
       "style": "IPY_MODEL_b3e9dadc9ff8491e8b4263d605506db8",
       "value": "<div style='background-color:white;'>&nbsp;</div>"
      }
     },
     "b91df6fb27e14fb49c67b88165dd42d9": {
      "model_module": "@jupyter-widgets/controls",
      "model_module_version": "1.5.0",
      "model_name": "DescriptionStyleModel",
      "state": {
       "description_width": ""
      }
     },
     "b94244950c1f4f4d934fc45128d07aed": {
      "model_module": "@jupyter-widgets/controls",
      "model_module_version": "1.5.0",
      "model_name": "HTMLModel",
      "state": {
       "layout": "IPY_MODEL_4da2d9e09d45422bbf435b20e7c16704",
       "style": "IPY_MODEL_fff1de1138f54aa59c2f3f5cdbb8d00e",
       "value": "<div style='background-color:#6E6BF4;'>&nbsp;</div>"
      }
     },
     "b9468c1be07d4927b97ab99440ea082e": {
      "model_module": "@jupyter-widgets/controls",
      "model_module_version": "1.5.0",
      "model_name": "DescriptionStyleModel",
      "state": {
       "description_width": ""
      }
     },
     "b9758d325bab48448d9de18256a10009": {
      "model_module": "@jupyter-widgets/base",
      "model_module_version": "1.2.0",
      "model_name": "LayoutModel",
      "state": {
       "grid_area": "widget037",
       "margin": "0"
      }
     },
     "b99db965281c456e83d75d8450778267": {
      "model_module": "@jupyter-widgets/controls",
      "model_module_version": "1.5.0",
      "model_name": "DescriptionStyleModel",
      "state": {
       "description_width": ""
      }
     },
     "b9ce43a8d521488b900cdc9006851374": {
      "model_module": "@jupyter-widgets/controls",
      "model_module_version": "1.5.0",
      "model_name": "DescriptionStyleModel",
      "state": {
       "description_width": ""
      }
     },
     "b9d59e6acdc54ab599aa81aabdd4fc21": {
      "model_module": "@jupyter-widgets/controls",
      "model_module_version": "1.5.0",
      "model_name": "DescriptionStyleModel",
      "state": {
       "description_width": ""
      }
     },
     "ba01b7b872a64134b10302d2357454a5": {
      "model_module": "@jupyter-widgets/base",
      "model_module_version": "1.2.0",
      "model_name": "LayoutModel",
      "state": {
       "grid_area": "widget013",
       "margin": "0"
      }
     },
     "ba24f5795641415d92947972ef693f95": {
      "model_module": "@jupyter-widgets/controls",
      "model_module_version": "1.5.0",
      "model_name": "HTMLModel",
      "state": {
       "layout": "IPY_MODEL_8fc2df2a23d5472e89bf4adeee19c7eb",
       "style": "IPY_MODEL_c237da6fcdee4dd0a4ac64abb61fad5a",
       "value": "<div style='background-color:#6E6BF4; font-family:monospace'>&nbsp;</div>"
      }
     },
     "ba590a481d724bb5b0b55fa8e5b968db": {
      "model_module": "@jupyter-widgets/controls",
      "model_module_version": "1.5.0",
      "model_name": "DescriptionStyleModel",
      "state": {
       "description_width": ""
      }
     },
     "ba7bbf4457f24ee8938ddb0432fa7314": {
      "model_module": "@jupyter-widgets/base",
      "model_module_version": "1.2.0",
      "model_name": "LayoutModel",
      "state": {}
     },
     "bb607e8976e54a6dbde95bf16aaad7a9": {
      "model_module": "@jupyter-widgets/controls",
      "model_module_version": "1.5.0",
      "model_name": "HTMLModel",
      "state": {
       "layout": "IPY_MODEL_2365a02cc0304c1a97a0abf3a5ae9e34",
       "style": "IPY_MODEL_6c3da880ccbb460c9615da3f4725c591",
       "value": "<div style='background-color:#6E6BF4;'>&nbsp;</div>"
      }
     },
     "bb7480a1c53b4a94b72ca571a158a5e9": {
      "model_module": "@jupyter-widgets/controls",
      "model_module_version": "1.5.0",
      "model_name": "HTMLModel",
      "state": {
       "layout": "IPY_MODEL_a2d78ad7abbf4809afa9bf8b0aabe564",
       "style": "IPY_MODEL_b37e08a1a7514c5caa4733439135fbba",
       "value": "<div style='background-color:white;'>&nbsp;</div>"
      }
     },
     "bb8bb6b4136b414fb219749fc64a7577": {
      "model_module": "@jupyter-widgets/controls",
      "model_module_version": "1.5.0",
      "model_name": "HTMLModel",
      "state": {
       "layout": "IPY_MODEL_a9b3663b064c453cb0f5d6730e587747",
       "style": "IPY_MODEL_b9d59e6acdc54ab599aa81aabdd4fc21",
       "value": "<div style='background-color:white;'>&nbsp;</div>"
      }
     },
     "bb9ec2e2db8a4372919dd3b10cf5c215": {
      "model_module": "@jupyter-widgets/controls",
      "model_module_version": "1.5.0",
      "model_name": "DescriptionStyleModel",
      "state": {
       "description_width": ""
      }
     },
     "bbb55ff1c7034e7baed6e115912d5391": {
      "model_module": "@jupyter-widgets/controls",
      "model_module_version": "1.5.0",
      "model_name": "DescriptionStyleModel",
      "state": {
       "description_width": ""
      }
     },
     "bc1b51d3147d4e49b86ee16b7db8e740": {
      "model_module": "@jupyter-widgets/controls",
      "model_module_version": "1.5.0",
      "model_name": "DescriptionStyleModel",
      "state": {
       "description_width": ""
      }
     },
     "bc417799f1e1478b895b435616aaf816": {
      "model_module": "@jupyter-widgets/base",
      "model_module_version": "1.2.0",
      "model_name": "LayoutModel",
      "state": {
       "grid_area": "widget066",
       "margin": "0"
      }
     },
     "bc80eb1464fd483c882eac552b4e769e": {
      "model_module": "@jupyter-widgets/base",
      "model_module_version": "1.2.0",
      "model_name": "LayoutModel",
      "state": {}
     },
     "bcce2fcde4834f4fb5d408fbadfe019a": {
      "model_module": "@jupyter-widgets/base",
      "model_module_version": "1.2.0",
      "model_name": "LayoutModel",
      "state": {
       "grid_area": "widget027",
       "margin": "0"
      }
     },
     "bcd161284566497c8d72b93c724a887c": {
      "model_module": "@jupyter-widgets/base",
      "model_module_version": "1.2.0",
      "model_name": "LayoutModel",
      "state": {
       "grid_area": "widget088",
       "margin": "0"
      }
     },
     "bd088ae3ea274f2186d85de2ddc42772": {
      "model_module": "@jupyter-widgets/base",
      "model_module_version": "1.2.0",
      "model_name": "LayoutModel",
      "state": {
       "grid_area": "widget035",
       "margin": "0"
      }
     },
     "bd1ecd1ff0204cc0ab07248d1b256d2c": {
      "model_module": "@jupyter-widgets/controls",
      "model_module_version": "1.5.0",
      "model_name": "HTMLModel",
      "state": {
       "layout": "IPY_MODEL_22b9d1a43f8e4e8db58d7852ff6de8c1",
       "style": "IPY_MODEL_b068ca4e7fde415aa4a34a458127076c",
       "value": "<div style='background-color:white;'>&nbsp;</div>"
      }
     },
     "bd3eaf14e32e4e5e8d434ac2e132763d": {
      "model_module": "@jupyter-widgets/controls",
      "model_module_version": "1.5.0",
      "model_name": "HTMLModel",
      "state": {
       "layout": "IPY_MODEL_b0c221dd8a0a447f9937cc15457b46b9",
       "style": "IPY_MODEL_369b69773c0c4825b3ad4b962edc05e6",
       "value": "<div style='background-color:white;'>&nbsp;</div>"
      }
     },
     "bdd7e70e1bd04c3dab870eea3223fc98": {
      "model_module": "@jupyter-widgets/controls",
      "model_module_version": "1.5.0",
      "model_name": "HTMLModel",
      "state": {
       "layout": "IPY_MODEL_cbe5c96d826e4db88e6883b1b120fee7",
       "style": "IPY_MODEL_0d562c3f1d4c4b44a7296bd677f9ca11",
       "value": "<div style='background-color:white;'>&nbsp;</div>"
      }
     },
     "bde3b98b94824228ae59f60e03a4391f": {
      "model_module": "@jupyter-widgets/base",
      "model_module_version": "1.2.0",
      "model_name": "LayoutModel",
      "state": {
       "grid_area": "widget069",
       "margin": "0"
      }
     },
     "be0c780ae628444c86e98bd686976e27": {
      "model_module": "@jupyter-widgets/controls",
      "model_module_version": "1.5.0",
      "model_name": "HTMLModel",
      "state": {
       "layout": "IPY_MODEL_9c448bb493494d65bad6d4e97089f0d9",
       "style": "IPY_MODEL_84fb2b8aa8484832a471204e5aa417b6",
       "value": "<div style='background-color:#6E6BF4;'>&nbsp;</div>"
      }
     },
     "be20a82de10342be9149ac255cf13d5a": {
      "model_module": "@jupyter-widgets/base",
      "model_module_version": "1.2.0",
      "model_name": "LayoutModel",
      "state": {
       "grid_area": "widget014",
       "margin": "0"
      }
     },
     "be23d6bf78a148c1823b2bd9294901ee": {
      "model_module": "@jupyter-widgets/controls",
      "model_module_version": "1.5.0",
      "model_name": "DescriptionStyleModel",
      "state": {
       "description_width": ""
      }
     },
     "be95f514f9604eeab6c4d720e2e4962e": {
      "model_module": "@jupyter-widgets/controls",
      "model_module_version": "1.5.0",
      "model_name": "DescriptionStyleModel",
      "state": {
       "description_width": ""
      }
     },
     "bea0af86d1cf44a2a262827e5c0709d4": {
      "model_module": "@jupyter-widgets/base",
      "model_module_version": "1.2.0",
      "model_name": "LayoutModel",
      "state": {
       "grid_area": "widget057",
       "margin": "0"
      }
     },
     "beb35266257743f2bab0c2d6f1495e6b": {
      "model_module": "@jupyter-widgets/base",
      "model_module_version": "1.2.0",
      "model_name": "LayoutModel",
      "state": {
       "grid_area": "widget082",
       "margin": "0"
      }
     },
     "beeeddf1603b4e6aab16af11feecc2f8": {
      "model_module": "@jupyter-widgets/controls",
      "model_module_version": "1.5.0",
      "model_name": "DescriptionStyleModel",
      "state": {
       "description_width": ""
      }
     },
     "bf3cc1fc76ac40ef92a55044d3396ce1": {
      "model_module": "@jupyter-widgets/base",
      "model_module_version": "1.2.0",
      "model_name": "LayoutModel",
      "state": {
       "grid_area": "widget036",
       "margin": "0"
      }
     },
     "bf54acbac6ce429fb4f2f93b714df1cc": {
      "model_module": "@jupyter-widgets/base",
      "model_module_version": "1.2.0",
      "model_name": "LayoutModel",
      "state": {
       "grid_area": "widget073",
       "margin": "0"
      }
     },
     "bfa0b324155549c4a8b82e85c55ff2c1": {
      "model_module": "@jupyter-widgets/controls",
      "model_module_version": "1.5.0",
      "model_name": "DescriptionStyleModel",
      "state": {
       "description_width": ""
      }
     },
     "c036c603db7d4c46b93bbc79e21a1e7b": {
      "model_module": "@jupyter-widgets/base",
      "model_module_version": "1.2.0",
      "model_name": "LayoutModel",
      "state": {
       "grid_area": "widget040",
       "margin": "0"
      }
     },
     "c0401ecdee2e44598dda5248c144e2c9": {
      "model_module": "@jupyter-widgets/controls",
      "model_module_version": "1.5.0",
      "model_name": "DescriptionStyleModel",
      "state": {
       "description_width": ""
      }
     },
     "c095bd3506674f41b22afd1958c6a009": {
      "model_module": "@jupyter-widgets/base",
      "model_module_version": "1.2.0",
      "model_name": "LayoutModel",
      "state": {
       "grid_area": "widget099",
       "margin": "0"
      }
     },
     "c0e5825890cf49ed985058cd50e63e01": {
      "model_module": "@jupyter-widgets/controls",
      "model_module_version": "1.5.0",
      "model_name": "HTMLModel",
      "state": {
       "layout": "IPY_MODEL_c40aa510378f4849963938cd09373e33",
       "style": "IPY_MODEL_863b3bd206624de2992ad470e6c3eb58",
       "value": "<div style='background-color:white;'>&nbsp;</div>"
      }
     },
     "c13a085823bd4d20a3ca44bda214039a": {
      "model_module": "@jupyter-widgets/controls",
      "model_module_version": "1.5.0",
      "model_name": "DescriptionStyleModel",
      "state": {
       "description_width": ""
      }
     },
     "c14c230c9ad34d8c82d76d1e17b4c041": {
      "model_module": "@jupyter-widgets/controls",
      "model_module_version": "1.5.0",
      "model_name": "DescriptionStyleModel",
      "state": {
       "description_width": ""
      }
     },
     "c16433171d8d41f89025b79f195bc4af": {
      "model_module": "@jupyter-widgets/base",
      "model_module_version": "1.2.0",
      "model_name": "LayoutModel",
      "state": {}
     },
     "c194ca8ef87f4d29a4bc0a14ad010fc4": {
      "model_module": "@jupyter-widgets/base",
      "model_module_version": "1.2.0",
      "model_name": "LayoutModel",
      "state": {
       "grid_area": "widget042",
       "margin": "0"
      }
     },
     "c1a5c02e7ab6422a8a10554eb5b1a2ce": {
      "model_module": "@jupyter-widgets/controls",
      "model_module_version": "1.5.0",
      "model_name": "DescriptionStyleModel",
      "state": {
       "description_width": ""
      }
     },
     "c1a6b99a7e3346b88a83aa6cb55073f2": {
      "model_module": "@jupyter-widgets/base",
      "model_module_version": "1.2.0",
      "model_name": "LayoutModel",
      "state": {
       "grid_area": "widget007",
       "margin": "0"
      }
     },
     "c1abcbfd208a46b4b93d7c670a1d1023": {
      "model_module": "@jupyter-widgets/controls",
      "model_module_version": "1.5.0",
      "model_name": "HTMLModel",
      "state": {
       "layout": "IPY_MODEL_eb59f60bf6f24ae28bb027366a8e0aeb",
       "style": "IPY_MODEL_e2915233498244c5af42ac1dc201c3c1",
       "value": "<div style='background-color:#6E6BF4;'>&nbsp;</div>"
      }
     },
     "c1db78f80e71410c9edb3cbc551e2b3b": {
      "model_module": "@jupyter-widgets/controls",
      "model_module_version": "1.5.0",
      "model_name": "HTMLModel",
      "state": {
       "layout": "IPY_MODEL_61440ccad119458cac0820bfb118413c",
       "style": "IPY_MODEL_9fe3fe1b973f49928325739a0aea86f3",
       "value": "<div style='background-color:#6E6BF4;'>&nbsp;</div>"
      }
     },
     "c237da6fcdee4dd0a4ac64abb61fad5a": {
      "model_module": "@jupyter-widgets/controls",
      "model_module_version": "1.5.0",
      "model_name": "DescriptionStyleModel",
      "state": {
       "description_width": ""
      }
     },
     "c2a069fc1c55443e9a7cf70156ef6844": {
      "model_module": "@jupyter-widgets/controls",
      "model_module_version": "1.5.0",
      "model_name": "DescriptionStyleModel",
      "state": {
       "description_width": ""
      }
     },
     "c3090a0283544942a13883664e986dee": {
      "model_module": "@jupyter-widgets/base",
      "model_module_version": "1.2.0",
      "model_name": "LayoutModel",
      "state": {
       "grid_area": "widget015",
       "margin": "0"
      }
     },
     "c3194c52762249d389697f60f78a1448": {
      "model_module": "@jupyter-widgets/controls",
      "model_module_version": "1.5.0",
      "model_name": "DescriptionStyleModel",
      "state": {
       "description_width": ""
      }
     },
     "c34b58f934234eaaab469bbdf0bba80d": {
      "model_module": "@jupyter-widgets/controls",
      "model_module_version": "1.5.0",
      "model_name": "DescriptionStyleModel",
      "state": {
       "description_width": ""
      }
     },
     "c3996e19645f4743a645578e40b93554": {
      "model_module": "@jupyter-widgets/controls",
      "model_module_version": "1.5.0",
      "model_name": "DescriptionStyleModel",
      "state": {
       "description_width": ""
      }
     },
     "c3b230dab4a94a259e99fb19289dc50e": {
      "model_module": "@jupyter-widgets/base",
      "model_module_version": "1.2.0",
      "model_name": "LayoutModel",
      "state": {
       "grid_area": "widget056",
       "margin": "0"
      }
     },
     "c40aa510378f4849963938cd09373e33": {
      "model_module": "@jupyter-widgets/base",
      "model_module_version": "1.2.0",
      "model_name": "LayoutModel",
      "state": {
       "grid_area": "widget098",
       "margin": "0"
      }
     },
     "c41d62554aa84478a6c0e945e0b46953": {
      "model_module": "@jupyter-widgets/controls",
      "model_module_version": "1.5.0",
      "model_name": "DescriptionStyleModel",
      "state": {
       "description_width": ""
      }
     },
     "c4717a5aca8d4d2ea0a58b78ec0bbd5a": {
      "model_module": "@jupyter-widgets/base",
      "model_module_version": "1.2.0",
      "model_name": "LayoutModel",
      "state": {
       "grid_area": "widget034",
       "margin": "0"
      }
     },
     "c48622c2d1f94a85a030a4e133b0b9d6": {
      "model_module": "@jupyter-widgets/controls",
      "model_module_version": "1.5.0",
      "model_name": "HTMLModel",
      "state": {
       "layout": "IPY_MODEL_300c5d0bcea441798f154d7eadf26064",
       "style": "IPY_MODEL_eeb958612f7d459a8e114be3a2b845f1",
       "value": "<div style='background-color:white;'>&nbsp;</div>"
      }
     },
     "c4a5fe2d0ef6444f908a5c2ee2c170ea": {
      "model_module": "@jupyter-widgets/controls",
      "model_module_version": "1.5.0",
      "model_name": "DescriptionStyleModel",
      "state": {
       "description_width": ""
      }
     },
     "c4e1a5f45a9949f092f950e9e2a756c9": {
      "model_module": "@jupyter-widgets/controls",
      "model_module_version": "1.5.0",
      "model_name": "DescriptionStyleModel",
      "state": {
       "description_width": ""
      }
     },
     "c50b0cd3c3c64185adfbc133ec6bf5fc": {
      "model_module": "@jupyter-widgets/controls",
      "model_module_version": "1.5.0",
      "model_name": "DescriptionStyleModel",
      "state": {
       "description_width": ""
      }
     },
     "c51247fe6f0b431db682c9a6dfb06e3a": {
      "model_module": "@jupyter-widgets/controls",
      "model_module_version": "1.5.0",
      "model_name": "DescriptionStyleModel",
      "state": {
       "description_width": ""
      }
     },
     "c54ebe1e139b45d9b667626f6a62885f": {
      "model_module": "@jupyter-widgets/controls",
      "model_module_version": "1.5.0",
      "model_name": "DescriptionStyleModel",
      "state": {
       "description_width": ""
      }
     },
     "c58982c5961946608edf413ee2c7d6fa": {
      "model_module": "@jupyter-widgets/controls",
      "model_module_version": "1.5.0",
      "model_name": "HTMLModel",
      "state": {
       "layout": "IPY_MODEL_710849ba9ef344aead08c456ab2ffe93",
       "style": "IPY_MODEL_6151aac38bab410aa561fb9140eb4d5d",
       "value": "<div style='background-color:white;'>&nbsp;</div>"
      }
     },
     "c5a25864978a4ec98fa22ee4de4a713e": {
      "model_module": "@jupyter-widgets/base",
      "model_module_version": "1.2.0",
      "model_name": "LayoutModel",
      "state": {
       "grid_area": "widget026",
       "margin": "0"
      }
     },
     "c5b6155f231c4df98bfaf6e9d8f6959c": {
      "model_module": "@jupyter-widgets/base",
      "model_module_version": "1.2.0",
      "model_name": "LayoutModel",
      "state": {
       "grid_area": "widget097",
       "margin": "0"
      }
     },
     "c5facb9196174eb199e69f45ec5b3780": {
      "model_module": "@jupyter-widgets/controls",
      "model_module_version": "1.5.0",
      "model_name": "DescriptionStyleModel",
      "state": {
       "description_width": ""
      }
     },
     "c63114ed7b2d4c8c96316117cf55bb22": {
      "model_module": "@jupyter-widgets/controls",
      "model_module_version": "1.5.0",
      "model_name": "DescriptionStyleModel",
      "state": {
       "description_width": ""
      }
     },
     "c631b6a85cc74a2e87edfcae4af87c94": {
      "model_module": "@jupyter-widgets/base",
      "model_module_version": "1.2.0",
      "model_name": "LayoutModel",
      "state": {
       "grid_area": "widget039",
       "margin": "0"
      }
     },
     "c6697e12666a403ea70e577a2f26902d": {
      "model_module": "@jupyter-widgets/base",
      "model_module_version": "1.2.0",
      "model_name": "LayoutModel",
      "state": {}
     },
     "c66a9bdada3548d288c1661bf7dc447a": {
      "model_module": "@jupyter-widgets/controls",
      "model_module_version": "1.5.0",
      "model_name": "HTMLModel",
      "state": {
       "layout": "IPY_MODEL_07769146c30f4bca8268e2fdae662d16",
       "style": "IPY_MODEL_fdb940a8e2334b21b2af631c48da391f",
       "value": "<div style='background-color:white;'>&nbsp;</div>"
      }
     },
     "c6b553160d304b19b0221ba4a89ce429": {
      "model_module": "@jupyter-widgets/controls",
      "model_module_version": "1.5.0",
      "model_name": "DescriptionStyleModel",
      "state": {
       "description_width": ""
      }
     },
     "c70e7d7a236244f3bdb731376b9ead81": {
      "model_module": "@jupyter-widgets/controls",
      "model_module_version": "1.5.0",
      "model_name": "DescriptionStyleModel",
      "state": {
       "description_width": ""
      }
     },
     "c76bd5e7e3e641d48f9cb09ea2d310cc": {
      "model_module": "@jupyter-widgets/base",
      "model_module_version": "1.2.0",
      "model_name": "LayoutModel",
      "state": {
       "grid_area": "widget076",
       "margin": "0"
      }
     },
     "c7ddc7a646984736bb3848cb8b57d68e": {
      "model_module": "@jupyter-widgets/controls",
      "model_module_version": "1.5.0",
      "model_name": "HTMLModel",
      "state": {
       "layout": "IPY_MODEL_cdfb189bc6074abfa1e4e1fcd585ea96",
       "style": "IPY_MODEL_7d33109f607049ee8e0716f70d8a60c7",
       "value": "<div style='background-color:white;'>&nbsp;</div>"
      }
     },
     "c7dfab56734e4be8a50287e432976f14": {
      "model_module": "@jupyter-widgets/controls",
      "model_module_version": "1.5.0",
      "model_name": "DescriptionStyleModel",
      "state": {
       "description_width": ""
      }
     },
     "c89a7a402c99465c922aed8bddb0444b": {
      "model_module": "@jupyter-widgets/base",
      "model_module_version": "1.2.0",
      "model_name": "LayoutModel",
      "state": {
       "grid_area": "widget030",
       "margin": "0"
      }
     },
     "c8a897321b964a0aaf4f47ac832b5a08": {
      "model_module": "@jupyter-widgets/controls",
      "model_module_version": "1.5.0",
      "model_name": "DescriptionStyleModel",
      "state": {
       "description_width": ""
      }
     },
     "c8f36d5c02ee41a1bf86d2675bd86347": {
      "model_module": "@jupyter-widgets/controls",
      "model_module_version": "1.5.0",
      "model_name": "HTMLModel",
      "state": {
       "layout": "IPY_MODEL_cb6ddc0b26a64efe802d5d7bc67258e6",
       "style": "IPY_MODEL_b99db965281c456e83d75d8450778267",
       "value": "<div style='background-color:#6E6BF4;'>&nbsp;</div>"
      }
     },
     "c9be6ef2bc85466ea3ac02cb80f1c49d": {
      "model_module": "@jupyter-widgets/base",
      "model_module_version": "1.2.0",
      "model_name": "LayoutModel",
      "state": {
       "grid_area": "widget026",
       "margin": "0"
      }
     },
     "ca000140d2a04c71badfe9ca3d9d8225": {
      "model_module": "@jupyter-widgets/controls",
      "model_module_version": "1.5.0",
      "model_name": "HTMLModel",
      "state": {
       "layout": "IPY_MODEL_b48e3c063dcb4930a64bb0966b89a181",
       "style": "IPY_MODEL_1673e14166c543f4854cbf8efc8cf817",
       "value": "<div style='background-color:white;'>&nbsp;</div>"
      }
     },
     "ca0d957c35234d368850e510cd3cfebc": {
      "model_module": "@jupyter-widgets/controls",
      "model_module_version": "1.5.0",
      "model_name": "DescriptionStyleModel",
      "state": {
       "description_width": ""
      }
     },
     "ca42c5171af74dd4ae46a4a71576d634": {
      "model_module": "@jupyter-widgets/controls",
      "model_module_version": "1.5.0",
      "model_name": "DescriptionStyleModel",
      "state": {
       "description_width": ""
      }
     },
     "ca4f3876e5914a4cb952c9d884c0df1f": {
      "model_module": "@jupyter-widgets/controls",
      "model_module_version": "1.5.0",
      "model_name": "HTMLModel",
      "state": {
       "layout": "IPY_MODEL_e5e51613a4dc45b680535c4bdfaf46c8",
       "style": "IPY_MODEL_2478793a8e424e04b2129d4aa48858e2",
       "value": "<div style='background-color:white;'>&nbsp;</div>"
      }
     },
     "ca75b819c6e74d8eb57c0b772d5c3d49": {
      "model_module": "@jupyter-widgets/base",
      "model_module_version": "1.2.0",
      "model_name": "LayoutModel",
      "state": {
       "grid_area": "widget006",
       "margin": "0"
      }
     },
     "cadfe65aeca844e08d6c65b9eb37ccbc": {
      "model_module": "@jupyter-widgets/base",
      "model_module_version": "1.2.0",
      "model_name": "LayoutModel",
      "state": {
       "grid_area": "widget003",
       "margin": "0"
      }
     },
     "cae09e5b00ea4189bbfc9375b4be09c8": {
      "model_module": "@jupyter-widgets/controls",
      "model_module_version": "1.5.0",
      "model_name": "DescriptionStyleModel",
      "state": {
       "description_width": ""
      }
     },
     "caf4b1339f984567982faace1e52550c": {
      "model_module": "@jupyter-widgets/controls",
      "model_module_version": "1.5.0",
      "model_name": "HTMLModel",
      "state": {
       "layout": "IPY_MODEL_52539a58092b440da50153082c4f76c9",
       "style": "IPY_MODEL_36826a7379a2415984c85acd2035706d",
       "value": "<div style='background-color:white;'>&nbsp;</div>"
      }
     },
     "cb1847452ffc4a8eb9a68bf99187dcc6": {
      "model_module": "@jupyter-widgets/controls",
      "model_module_version": "1.5.0",
      "model_name": "HTMLModel",
      "state": {
       "layout": "IPY_MODEL_1bc6c58631d6481598f86e26b7d46818",
       "style": "IPY_MODEL_4f2f8fc42f8545c78d6585d02d02f496",
       "value": "<div style='background-color:#6E6BF4;'>&nbsp;</div>"
      }
     },
     "cb47034aa07b44a6a0daaf7ab986aa64": {
      "model_module": "@jupyter-widgets/controls",
      "model_module_version": "1.5.0",
      "model_name": "DescriptionStyleModel",
      "state": {
       "description_width": ""
      }
     },
     "cb616404b6854550aa17a582ba48095a": {
      "model_module": "@jupyter-widgets/controls",
      "model_module_version": "1.5.0",
      "model_name": "HTMLModel",
      "state": {
       "layout": "IPY_MODEL_5149cdd6e73144cdb74d51f30a343488",
       "style": "IPY_MODEL_9e18ad17b48e4270b4e481831a43ab00",
       "value": "<div style='background-color:white;'>&nbsp;</div>"
      }
     },
     "cb682ec5f73a48f782da926a0b7e0858": {
      "model_module": "@jupyter-widgets/controls",
      "model_module_version": "1.5.0",
      "model_name": "HTMLModel",
      "state": {
       "layout": "IPY_MODEL_e3a18405d1b5415f827f53b00b35d646",
       "style": "IPY_MODEL_ced72630bd6a431fa8b99112fe976482",
       "value": "<div style='background-color:white;'>&nbsp;</div>"
      }
     },
     "cb6ddc0b26a64efe802d5d7bc67258e6": {
      "model_module": "@jupyter-widgets/base",
      "model_module_version": "1.2.0",
      "model_name": "LayoutModel",
      "state": {
       "grid_area": "widget071",
       "margin": "0"
      }
     },
     "cbc780a99a0b438d89b80f0d15bcfc48": {
      "model_module": "@jupyter-widgets/controls",
      "model_module_version": "1.5.0",
      "model_name": "HTMLModel",
      "state": {
       "layout": "IPY_MODEL_64012e8c36b04d659923a7236ef240c8",
       "style": "IPY_MODEL_090a05c0b2fc48208298d543ba0834df",
       "value": "Propagating errors : "
      }
     },
     "cbe5c96d826e4db88e6883b1b120fee7": {
      "model_module": "@jupyter-widgets/base",
      "model_module_version": "1.2.0",
      "model_name": "LayoutModel",
      "state": {
       "grid_area": "widget092",
       "margin": "0"
      }
     },
     "cc011ac5a114448392872fc137eb71f1": {
      "model_module": "@jupyter-widgets/controls",
      "model_module_version": "1.5.0",
      "model_name": "HTMLModel",
      "state": {
       "layout": "IPY_MODEL_5d05e24b920d41118bff014090e61758",
       "style": "IPY_MODEL_e5a278413ce84108a02976165bbab893",
       "value": "<div style='background-color:white;'>&nbsp;</div>"
      }
     },
     "cc0b6d690afa46efaf85faefce16f107": {
      "model_module": "@jupyter-widgets/controls",
      "model_module_version": "1.5.0",
      "model_name": "HTMLModel",
      "state": {
       "layout": "IPY_MODEL_f5353712e91541b98e2790d4f8c8c57d",
       "style": "IPY_MODEL_933c64a6f324447b8ad9d2c96f6f92a2",
       "value": "<div style='background-color:white;'>&nbsp;</div>"
      }
     },
     "cc0c49d49d6c47aaaa0353d5b8e77b39": {
      "model_module": "@jupyter-widgets/controls",
      "model_module_version": "1.5.0",
      "model_name": "HTMLModel",
      "state": {
       "layout": "IPY_MODEL_05986347e3f1489a93f4cd01cdc77dae",
       "style": "IPY_MODEL_526bbf6debc445d493cf33208d8e25c5",
       "value": "<div style='background-color:white;'>&nbsp;</div>"
      }
     },
     "cc5a3614e1304259b3135e1a8467cd81": {
      "model_module": "@jupyter-widgets/controls",
      "model_module_version": "1.5.0",
      "model_name": "DescriptionStyleModel",
      "state": {
       "description_width": ""
      }
     },
     "cc66ea08044f46dba1c5f3316ee7c773": {
      "model_module": "@jupyter-widgets/controls",
      "model_module_version": "1.5.0",
      "model_name": "DescriptionStyleModel",
      "state": {
       "description_width": ""
      }
     },
     "cced0ebb41314ecc983568b60b642c50": {
      "model_module": "@jupyter-widgets/controls",
      "model_module_version": "1.5.0",
      "model_name": "HTMLModel",
      "state": {
       "layout": "IPY_MODEL_6b162506c6bb4feaa66dc4856eb116d3",
       "style": "IPY_MODEL_be23d6bf78a148c1823b2bd9294901ee",
       "value": "<div style='background-color:white;'>&nbsp;</div>"
      }
     },
     "cd1ac8e92abe44feb951f400efcf30e0": {
      "model_module": "@jupyter-widgets/controls",
      "model_module_version": "1.5.0",
      "model_name": "DescriptionStyleModel",
      "state": {
       "description_width": ""
      }
     },
     "cd278a83c9e3461f930ef70cfb7a6023": {
      "model_module": "@jupyter-widgets/base",
      "model_module_version": "1.2.0",
      "model_name": "LayoutModel",
      "state": {
       "grid_area": "widget072",
       "margin": "0"
      }
     },
     "cd67e522e3b5477b9558437d0a5cbb8c": {
      "model_module": "@jupyter-widgets/controls",
      "model_module_version": "1.5.0",
      "model_name": "HTMLModel",
      "state": {
       "layout": "IPY_MODEL_9a86e07af8834db390b1fc6c95415bc9",
       "style": "IPY_MODEL_b38e5d3daea24a27a5e203bd44faaa89",
       "value": "<div style='background-color:#6E6BF4;'>&nbsp;</div>"
      }
     },
     "cd7b1f4a48e54f349a3d77e47afb7f34": {
      "model_module": "@jupyter-widgets/controls",
      "model_module_version": "1.5.0",
      "model_name": "DescriptionStyleModel",
      "state": {
       "description_width": ""
      }
     },
     "cd8b5bf99ff24421b2ac978cc5707f88": {
      "model_module": "@jupyter-widgets/controls",
      "model_module_version": "1.5.0",
      "model_name": "DescriptionStyleModel",
      "state": {
       "description_width": ""
      }
     },
     "cdd572da424045f0850a16d35abbdd97": {
      "model_module": "@jupyter-widgets/base",
      "model_module_version": "1.2.0",
      "model_name": "LayoutModel",
      "state": {
       "grid_area": "widget036",
       "margin": "0"
      }
     },
     "cdfb189bc6074abfa1e4e1fcd585ea96": {
      "model_module": "@jupyter-widgets/base",
      "model_module_version": "1.2.0",
      "model_name": "LayoutModel",
      "state": {
       "grid_area": "widget091",
       "margin": "0"
      }
     },
     "ce46d513ebfc496fb68081936c94cb42": {
      "model_module": "@jupyter-widgets/controls",
      "model_module_version": "1.5.0",
      "model_name": "HTMLModel",
      "state": {
       "layout": "IPY_MODEL_79b62a096f524a96a84db06b4fc1912a",
       "style": "IPY_MODEL_bfa0b324155549c4a8b82e85c55ff2c1",
       "value": "<div style='background-color:white;'>&nbsp;</div>"
      }
     },
     "ce6f70acc1144c808f48c7cc575fa667": {
      "model_module": "@jupyter-widgets/base",
      "model_module_version": "1.2.0",
      "model_name": "LayoutModel",
      "state": {
       "grid_area": "widget049",
       "margin": "0"
      }
     },
     "ced72630bd6a431fa8b99112fe976482": {
      "model_module": "@jupyter-widgets/controls",
      "model_module_version": "1.5.0",
      "model_name": "DescriptionStyleModel",
      "state": {
       "description_width": ""
      }
     },
     "cf040ef032fb4229a1aa336b43c4cec6": {
      "model_module": "@jupyter-widgets/base",
      "model_module_version": "1.2.0",
      "model_name": "LayoutModel",
      "state": {
       "grid_area": "widget007",
       "margin": "0"
      }
     },
     "cf51de75beee4803ab48f78ad0c94c8b": {
      "model_module": "@jupyter-widgets/base",
      "model_module_version": "1.2.0",
      "model_name": "LayoutModel",
      "state": {
       "grid_area": "widget024",
       "margin": "0"
      }
     },
     "cfa73e52ead144dc9163d4bd2239f774": {
      "model_module": "@jupyter-widgets/base",
      "model_module_version": "1.2.0",
      "model_name": "LayoutModel",
      "state": {
       "grid_area": "widget001",
       "margin": "0"
      }
     },
     "cfb8b5c0055a4ea99ad911318d29061c": {
      "model_module": "@jupyter-widgets/controls",
      "model_module_version": "1.5.0",
      "model_name": "DescriptionStyleModel",
      "state": {
       "description_width": ""
      }
     },
     "cfe94528fc1549409c96ca0978566851": {
      "model_module": "@jupyter-widgets/controls",
      "model_module_version": "1.5.0",
      "model_name": "DescriptionStyleModel",
      "state": {
       "description_width": ""
      }
     },
     "d08c7a04ae984649b38cb6c824632c47": {
      "model_module": "@jupyter-widgets/controls",
      "model_module_version": "1.5.0",
      "model_name": "DescriptionStyleModel",
      "state": {
       "description_width": ""
      }
     },
     "d111b0fedee246ecb90aa081ade25019": {
      "model_module": "@jupyter-widgets/base",
      "model_module_version": "1.2.0",
      "model_name": "LayoutModel",
      "state": {
       "grid_area": "widget085",
       "margin": "0"
      }
     },
     "d11620379bfc4289885eb0e5ad150201": {
      "model_module": "@jupyter-widgets/base",
      "model_module_version": "1.2.0",
      "model_name": "LayoutModel",
      "state": {}
     },
     "d11c1c309da94e9f923a5f8fbc55837a": {
      "model_module": "@jupyter-widgets/controls",
      "model_module_version": "1.5.0",
      "model_name": "HTMLModel",
      "state": {
       "layout": "IPY_MODEL_595e62989b8c45a79919d4086785f313",
       "style": "IPY_MODEL_9003270bafbb4c0a9128175e2c7e4f49",
       "value": "<div style='background-color:white;'>&nbsp;</div>"
      }
     },
     "d1365a4b3ea74010b35a31080a4ae988": {
      "model_module": "@jupyter-widgets/controls",
      "model_module_version": "1.5.0",
      "model_name": "HTMLModel",
      "state": {
       "layout": "IPY_MODEL_5f73477214f04ad98a2e8072ab74766f",
       "style": "IPY_MODEL_e7671033054544728e0d6765f152105c",
       "value": "<div style='background-color:#6E6BF4;'>&nbsp;</div>"
      }
     },
     "d1678fb8767a4941b897efff1ee4401a": {
      "model_module": "@jupyter-widgets/controls",
      "model_module_version": "1.5.0",
      "model_name": "ProgressStyleModel",
      "state": {
       "description_width": ""
      }
     },
     "d187c74a873c4791b4eaefd138b6d802": {
      "model_module": "@jupyter-widgets/controls",
      "model_module_version": "1.5.0",
      "model_name": "HTMLModel",
      "state": {
       "layout": "IPY_MODEL_1794007bd2de4e19b0d89176afeef365",
       "style": "IPY_MODEL_1a65c6f688f347f6bc9e472714ac6de9",
       "value": "<div style='background-color:white;'>&nbsp;</div>"
      }
     },
     "d1b52e617f074ba197ea6def19bbccc5": {
      "model_module": "@jupyter-widgets/controls",
      "model_module_version": "1.5.0",
      "model_name": "HTMLModel",
      "state": {
       "layout": "IPY_MODEL_9862a964c1864e669c2b1e3224816996",
       "style": "IPY_MODEL_1066483a85e04a5f9b84390921cb36be",
       "value": "<div style='background-color:white;'>&nbsp;</div>"
      }
     },
     "d1e6b412fb4a4f889a2f3ff6c9f0a8cd": {
      "model_module": "@jupyter-widgets/controls",
      "model_module_version": "1.5.0",
      "model_name": "HTMLModel",
      "state": {
       "layout": "IPY_MODEL_235b3c6e59da445792d6ce7e00a7e61b",
       "style": "IPY_MODEL_84c603effe7b4d9b88ee34a17ea292dd",
       "value": "<div style='background-color:#6E6BF4; font-family:monospace'>&nbsp;</div>"
      }
     },
     "d2160126baff48cc94edb0448ca794d7": {
      "model_module": "@jupyter-widgets/controls",
      "model_module_version": "1.5.0",
      "model_name": "HTMLModel",
      "state": {
       "layout": "IPY_MODEL_2ed427aa3bac4b59b70bf88dc02a0940",
       "style": "IPY_MODEL_97122dae5ad54552a0fc235632e8f711",
       "value": "<div style='background-color:white;'>&nbsp;</div>"
      }
     },
     "d2b9d60b85444a91bd05962c5eb58252": {
      "model_module": "@jupyter-widgets/controls",
      "model_module_version": "1.5.0",
      "model_name": "HTMLModel",
      "state": {
       "layout": "IPY_MODEL_87a166124f7840a3832aaff836d1462e",
       "style": "IPY_MODEL_c3996e19645f4743a645578e40b93554",
       "value": "<div style='background-color:white;'>&nbsp;</div>"
      }
     },
     "d2ee7a4c230c4cc2848a23f257d7a066": {
      "model_module": "@jupyter-widgets/controls",
      "model_module_version": "1.5.0",
      "model_name": "DescriptionStyleModel",
      "state": {
       "description_width": ""
      }
     },
     "d30f47cb3d2e4e6fbf564ef5ed5fb6bb": {
      "model_module": "@jupyter-widgets/base",
      "model_module_version": "1.2.0",
      "model_name": "LayoutModel",
      "state": {}
     },
     "d3168a42f35645e0a3d304254f7511dd": {
      "model_module": "@jupyter-widgets/controls",
      "model_module_version": "1.5.0",
      "model_name": "DescriptionStyleModel",
      "state": {
       "description_width": ""
      }
     },
     "d3c1774d579c49f9ad28a2ee09c8d96f": {
      "model_module": "@jupyter-widgets/controls",
      "model_module_version": "1.5.0",
      "model_name": "DescriptionStyleModel",
      "state": {
       "description_width": ""
      }
     },
     "d4123afcb753408c82a53d46fe054369": {
      "model_module": "@jupyter-widgets/controls",
      "model_module_version": "1.5.0",
      "model_name": "VBoxModel",
      "state": {
       "children": [
        "IPY_MODEL_eadb0ea6780f4961b2cdcce28cbeaf02",
        "IPY_MODEL_329c018adaea46c6a1b3ee804bf4f774"
       ],
       "layout": "IPY_MODEL_b2c386015f644197bb457ddfaa001537"
      }
     },
     "d424ffda238a404d9bf55dc74c39b125": {
      "model_module": "@jupyter-widgets/controls",
      "model_module_version": "1.5.0",
      "model_name": "HTMLModel",
      "state": {
       "layout": "IPY_MODEL_d73c5c14d2b9497caf05051e5bdb515d",
       "style": "IPY_MODEL_3e3377c0b7a94b58b94a982505807763",
       "value": "<div style='background-color:white;'>&nbsp;</div>"
      }
     },
     "d53a830fc08e4488a1e4094469fe408a": {
      "model_module": "@jupyter-widgets/controls",
      "model_module_version": "1.5.0",
      "model_name": "HTMLModel",
      "state": {
       "layout": "IPY_MODEL_724dc1dbc8334a04ab58f06c7e5f5bc5",
       "style": "IPY_MODEL_5b2c899c50d64c00a64f1c2abf24d47c",
       "value": "<div style='background-color:white;'>&nbsp;</div>"
      }
     },
     "d569534cfb2c400cbb1c8d71102653f4": {
      "model_module": "@jupyter-widgets/base",
      "model_module_version": "1.2.0",
      "model_name": "LayoutModel",
      "state": {
       "grid_area": "widget005",
       "margin": "0"
      }
     },
     "d5f9ce0e773b40158a9789932776ba59": {
      "model_module": "@jupyter-widgets/controls",
      "model_module_version": "1.5.0",
      "model_name": "DescriptionStyleModel",
      "state": {
       "description_width": ""
      }
     },
     "d60c4a9fafcc470d83deef34b872cede": {
      "model_module": "@jupyter-widgets/controls",
      "model_module_version": "1.5.0",
      "model_name": "DescriptionStyleModel",
      "state": {
       "description_width": ""
      }
     },
     "d6582f72fd49452884732068eaffd108": {
      "model_module": "@jupyter-widgets/base",
      "model_module_version": "1.2.0",
      "model_name": "LayoutModel",
      "state": {
       "grid_area": "widget053",
       "margin": "0"
      }
     },
     "d6a1068145b343c99d45e7440615d39b": {
      "model_module": "@jupyter-widgets/base",
      "model_module_version": "1.2.0",
      "model_name": "LayoutModel",
      "state": {
       "grid_area": "widget083",
       "margin": "0"
      }
     },
     "d6a9585623ca4499a3c8e8209ffa2d55": {
      "model_module": "@jupyter-widgets/controls",
      "model_module_version": "1.5.0",
      "model_name": "DescriptionStyleModel",
      "state": {
       "description_width": ""
      }
     },
     "d6b2692d686a4780bd2553e6e1613e58": {
      "model_module": "@jupyter-widgets/controls",
      "model_module_version": "1.5.0",
      "model_name": "FloatProgressModel",
      "state": {
       "layout": "IPY_MODEL_89ab93660a7945babb41ba4c82cd991d",
       "style": "IPY_MODEL_dd45a2596f6c402f88d5be4992210400",
       "value": 100
      }
     },
     "d7081411be77484294b3c1a5df12dda2": {
      "model_module": "@jupyter-widgets/base",
      "model_module_version": "1.2.0",
      "model_name": "LayoutModel",
      "state": {
       "grid_area": "widget045",
       "margin": "0"
      }
     },
     "d70f2a2fbc3c438784edf161abc4b33a": {
      "model_module": "@jupyter-widgets/controls",
      "model_module_version": "1.5.0",
      "model_name": "HTMLModel",
      "state": {
       "layout": "IPY_MODEL_443631d81b354929b91535d22dd605ae",
       "style": "IPY_MODEL_7df1717c74d641b39f6db07c194bf855",
       "value": "<div style='background-color:white;'>&nbsp;</div>"
      }
     },
     "d73c5c14d2b9497caf05051e5bdb515d": {
      "model_module": "@jupyter-widgets/base",
      "model_module_version": "1.2.0",
      "model_name": "LayoutModel",
      "state": {
       "grid_area": "widget094",
       "margin": "0"
      }
     },
     "d7878430b2c74a73b374045ee3e603a8": {
      "model_module": "@jupyter-widgets/controls",
      "model_module_version": "1.5.0",
      "model_name": "HTMLModel",
      "state": {
       "layout": "IPY_MODEL_63fec6c303104ff68788c2d14014398d",
       "style": "IPY_MODEL_10ae90aa0b924b7ca79b7216e46cfc6a",
       "value": "<div style='background-color:#FFB858; font-weight:bold; padding-right: 2em;'>source1.spectrum.main.Powerlaw.index</div>"
      }
     },
     "d7fce8b0d07241c6aea80b0354207a88": {
      "model_module": "@jupyter-widgets/controls",
      "model_module_version": "1.5.0",
      "model_name": "DescriptionStyleModel",
      "state": {
       "description_width": ""
      }
     },
     "d829376bdd2c4fbc8addc598bf097524": {
      "model_module": "@jupyter-widgets/controls",
      "model_module_version": "1.5.0",
      "model_name": "DescriptionStyleModel",
      "state": {
       "description_width": ""
      }
     },
     "d838da6cc7e04a1bb20c2ca62a74fddd": {
      "model_module": "@jupyter-widgets/controls",
      "model_module_version": "1.5.0",
      "model_name": "HTMLModel",
      "state": {
       "layout": "IPY_MODEL_e1ffef55dedc4af4967f8e3d62a810aa",
       "style": "IPY_MODEL_091153a4f6d748f085cd2365d52c3efc",
       "value": "<div style='background-color:#6E6BF4;'>&nbsp;</div>"
      }
     },
     "d8b066044a13486980689316a9917958": {
      "model_module": "@jupyter-widgets/controls",
      "model_module_version": "1.5.0",
      "model_name": "HTMLModel",
      "state": {
       "layout": "IPY_MODEL_75a2c65548cc48038a7e1fed0c3b98a0",
       "style": "IPY_MODEL_2c6e6c5b45ad49c3a672c7c4ab8331df",
       "value": "<div style='background-color:#6E6BF4;'>&nbsp;</div>"
      }
     },
     "d8b5390775b64038ba61b0b6186a6ca0": {
      "model_module": "@jupyter-widgets/controls",
      "model_module_version": "1.5.0",
      "model_name": "DescriptionStyleModel",
      "state": {
       "description_width": ""
      }
     },
     "d8d0a101959f44ee8f509086dee96ea1": {
      "model_module": "@jupyter-widgets/controls",
      "model_module_version": "1.5.0",
      "model_name": "HTMLModel",
      "state": {
       "layout": "IPY_MODEL_12aab8f70f3c4bcf8978c284f2242d23",
       "style": "IPY_MODEL_cd1ac8e92abe44feb951f400efcf30e0",
       "value": "<div style='background-color:white;'>&nbsp;</div>"
      }
     },
     "d8efed6102f44faaac891b83535e998c": {
      "model_module": "@jupyter-widgets/controls",
      "model_module_version": "1.5.0",
      "model_name": "DescriptionStyleModel",
      "state": {
       "description_width": ""
      }
     },
     "d92c23fb6c214474883b2ef0d6b40495": {
      "model_module": "@jupyter-widgets/controls",
      "model_module_version": "1.5.0",
      "model_name": "DescriptionStyleModel",
      "state": {
       "description_width": ""
      }
     },
     "d935252e181b4629a562a8a9fb714e8f": {
      "model_module": "@jupyter-widgets/controls",
      "model_module_version": "1.5.0",
      "model_name": "HTMLModel",
      "state": {
       "layout": "IPY_MODEL_47780e890d434dec9d13770022ebf0d2",
       "style": "IPY_MODEL_f4f233f880fb4acf901aa960d0a209cc",
       "value": "<div style='background-color:white;'>&nbsp;</div>"
      }
     },
     "d974b39ee8e74adb880af50e643b05fe": {
      "model_module": "@jupyter-widgets/controls",
      "model_module_version": "1.5.0",
      "model_name": "DescriptionStyleModel",
      "state": {
       "description_width": ""
      }
     },
     "da584519886e4912b45d67546ea81089": {
      "model_module": "@jupyter-widgets/controls",
      "model_module_version": "1.5.0",
      "model_name": "HTMLModel",
      "state": {
       "layout": "IPY_MODEL_215edac9be3e406188cbf45374f98a3b",
       "style": "IPY_MODEL_25345e700b134051b15afea33b2b9127",
       "value": "<div style='background-color:white;'>&nbsp;</div>"
      }
     },
     "dab7c69239134feca39240e598a373bf": {
      "model_module": "@jupyter-widgets/controls",
      "model_module_version": "1.5.0",
      "model_name": "DescriptionStyleModel",
      "state": {
       "description_width": ""
      }
     },
     "daccda03a2c749fd86b13fbc1cb0ac1d": {
      "model_module": "@jupyter-widgets/controls",
      "model_module_version": "1.5.0",
      "model_name": "DescriptionStyleModel",
      "state": {
       "description_width": ""
      }
     },
     "dafb2cae6e2b42b1bf2359e53e44e4dc": {
      "model_module": "@jupyter-widgets/controls",
      "model_module_version": "1.5.0",
      "model_name": "HTMLModel",
      "state": {
       "layout": "IPY_MODEL_70ba15c29acf4d95baffa8e93f40ff68",
       "style": "IPY_MODEL_651977e4e02b4720a7b5f00be9625f4c",
       "value": "-3.00"
      }
     },
     "db0d09b7e1554c1a93676b0ec4156929": {
      "model_module": "@jupyter-widgets/base",
      "model_module_version": "1.2.0",
      "model_name": "LayoutModel",
      "state": {
       "grid_area": "widget053",
       "margin": "0"
      }
     },
     "db0f63ae76d441e097d1a6052e2bb1d4": {
      "model_module": "@jupyter-widgets/base",
      "model_module_version": "1.2.0",
      "model_name": "LayoutModel",
      "state": {
       "grid_area": "widget080",
       "margin": "0"
      }
     },
     "db41d1b9b6d2448aa5bae9db7e584d59": {
      "model_module": "@jupyter-widgets/controls",
      "model_module_version": "1.5.0",
      "model_name": "DescriptionStyleModel",
      "state": {
       "description_width": ""
      }
     },
     "db88e880b0df4ef180e1259e20b10cdd": {
      "model_module": "@jupyter-widgets/controls",
      "model_module_version": "1.5.0",
      "model_name": "DescriptionStyleModel",
      "state": {
       "description_width": ""
      }
     },
     "db912373cce2402c9813430ec9ae5c8e": {
      "model_module": "@jupyter-widgets/controls",
      "model_module_version": "1.5.0",
      "model_name": "DescriptionStyleModel",
      "state": {
       "description_width": ""
      }
     },
     "dbf7a4883e34491896e8042cfe601163": {
      "model_module": "@jupyter-widgets/controls",
      "model_module_version": "1.5.0",
      "model_name": "DescriptionStyleModel",
      "state": {
       "description_width": ""
      }
     },
     "dc1d1df4b9a14231868ffa23ec4ad683": {
      "model_module": "@jupyter-widgets/base",
      "model_module_version": "1.2.0",
      "model_name": "LayoutModel",
      "state": {
       "grid_area": "widget074",
       "margin": "0"
      }
     },
     "dc47c7e213714e36b9c14c0179cfbbd3": {
      "model_module": "@jupyter-widgets/controls",
      "model_module_version": "1.5.0",
      "model_name": "DescriptionStyleModel",
      "state": {
       "description_width": ""
      }
     },
     "dc968d42cd23430b82cb827a77c2c3d9": {
      "model_module": "@jupyter-widgets/base",
      "model_module_version": "1.2.0",
      "model_name": "LayoutModel",
      "state": {}
     },
     "dc996132794e4b7686e78afeaa188154": {
      "model_module": "@jupyter-widgets/base",
      "model_module_version": "1.2.0",
      "model_name": "LayoutModel",
      "state": {
       "grid_area": "widget089",
       "margin": "0"
      }
     },
     "dcae54f8b72240fe979da28d0cbaf7ff": {
      "model_module": "@jupyter-widgets/base",
      "model_module_version": "1.2.0",
      "model_name": "LayoutModel",
      "state": {
       "grid_area": "widget075",
       "margin": "0"
      }
     },
     "dcc0ba4886404bb79b6735de820dba7f": {
      "model_module": "@jupyter-widgets/controls",
      "model_module_version": "1.5.0",
      "model_name": "DescriptionStyleModel",
      "state": {
       "description_width": ""
      }
     },
     "dcd7171e555c44688b7eb745dd004c9d": {
      "model_module": "@jupyter-widgets/controls",
      "model_module_version": "1.5.0",
      "model_name": "HTMLModel",
      "state": {
       "layout": "IPY_MODEL_b70a64b0bf20474398ea849b6f2b9361",
       "style": "IPY_MODEL_9f29a37df82e4418bad85ca6e5fac18a",
       "value": "<div style='background-color:white;'>&nbsp;</div>"
      }
     },
     "dcf1434bac8f4c90b6b9f6d6c721c645": {
      "model_module": "@jupyter-widgets/controls",
      "model_module_version": "1.5.0",
      "model_name": "DescriptionStyleModel",
      "state": {
       "description_width": ""
      }
     },
     "dd1dfa917dbd4797b507744dedde7a9b": {
      "model_module": "@jupyter-widgets/controls",
      "model_module_version": "1.5.0",
      "model_name": "HTMLModel",
      "state": {
       "layout": "IPY_MODEL_90303c1dbd3a4fea8a88e5cb656a1087",
       "style": "IPY_MODEL_328b419f32ec4f68981629e6dd683765",
       "value": "<div style='background-color:white;'>&nbsp;</div>"
      }
     },
     "dd45a2596f6c402f88d5be4992210400": {
      "model_module": "@jupyter-widgets/controls",
      "model_module_version": "1.5.0",
      "model_name": "ProgressStyleModel",
      "state": {
       "description_width": ""
      }
     },
     "dd9cbff32c1540fcbed881c8ed1e9042": {
      "model_module": "@jupyter-widgets/base",
      "model_module_version": "1.2.0",
      "model_name": "LayoutModel",
      "state": {
       "grid_area": "widget021",
       "margin": "0"
      }
     },
     "ddc2db071135403599b4d279fa6c7755": {
      "model_module": "@jupyter-widgets/controls",
      "model_module_version": "1.5.0",
      "model_name": "DescriptionStyleModel",
      "state": {
       "description_width": ""
      }
     },
     "ddeaa3b6c4be4103bc4c6b0d45a249db": {
      "model_module": "@jupyter-widgets/controls",
      "model_module_version": "1.5.0",
      "model_name": "DescriptionStyleModel",
      "state": {
       "description_width": ""
      }
     },
     "ddf8be2d7e2043888d1ffa3e47aef543": {
      "model_module": "@jupyter-widgets/controls",
      "model_module_version": "1.5.0",
      "model_name": "HTMLModel",
      "state": {
       "layout": "IPY_MODEL_ad109b75cea0415ab563c6a17c909dbc",
       "style": "IPY_MODEL_699b50eaa27d47f0b7de3749037529ba",
       "value": "<div style='background-color:white;'>&nbsp;</div>"
      }
     },
     "de135ddfb7514789a521fdf2d60c002c": {
      "model_module": "@jupyter-widgets/controls",
      "model_module_version": "1.5.0",
      "model_name": "DescriptionStyleModel",
      "state": {
       "description_width": ""
      }
     },
     "de5d0cf4f60d4aaba9e91d1e9198b037": {
      "model_module": "@jupyter-widgets/controls",
      "model_module_version": "1.5.0",
      "model_name": "DescriptionStyleModel",
      "state": {
       "description_width": ""
      }
     },
     "deac3e2dd3d54a689fd935985c097eb3": {
      "model_module": "@jupyter-widgets/controls",
      "model_module_version": "1.5.0",
      "model_name": "DescriptionStyleModel",
      "state": {
       "description_width": ""
      }
     },
     "df20437c99994978a70873a6231b3afc": {
      "model_module": "@jupyter-widgets/controls",
      "model_module_version": "1.5.0",
      "model_name": "HTMLModel",
      "state": {
       "layout": "IPY_MODEL_8cbcb52f40924f85afa66eb335f7c942",
       "style": "IPY_MODEL_94eb05fc2c3e42f595822f52af160307",
       "value": "<div style='background-color:white;'>&nbsp;</div>"
      }
     },
     "df3a08ac22b143d6aac16fbca2b20768": {
      "model_module": "@jupyter-widgets/controls",
      "model_module_version": "1.5.0",
      "model_name": "HTMLModel",
      "state": {
       "layout": "IPY_MODEL_6b2e155405744acdb92e279bba4fe9af",
       "style": "IPY_MODEL_ddeaa3b6c4be4103bc4c6b0d45a249db",
       "value": "500 / 500  in 15.9 s (0:00:00 remaining)"
      }
     },
     "df5c76466b304271925e3c3cc75066fe": {
      "model_module": "@jupyter-widgets/base",
      "model_module_version": "1.2.0",
      "model_name": "LayoutModel",
      "state": {
       "grid_area": "widget004",
       "margin": "0"
      }
     },
     "df5efea37db84b51aec126ba0887f583": {
      "model_module": "@jupyter-widgets/controls",
      "model_module_version": "1.5.0",
      "model_name": "HTMLModel",
      "state": {
       "layout": "IPY_MODEL_0d441b7557124ff19a08b803f6ab740d",
       "style": "IPY_MODEL_31a4a79ba2a241dc8a546d13f0b9619c",
       "value": "<div style='background-color:#6E6BF4;'>&nbsp;</div>"
      }
     },
     "df70064fdb944dfcb7d99c714a43920b": {
      "model_module": "@jupyter-widgets/controls",
      "model_module_version": "1.5.0",
      "model_name": "HTMLModel",
      "state": {
       "layout": "IPY_MODEL_3adc823b9c07448f821946d647627596",
       "style": "IPY_MODEL_42b2abb624b24a34add93e9e9fc60c6f",
       "value": "<div style='background-color:#6E6BF4;'>&nbsp;</div>"
      }
     },
     "df72782003084a568ea5b3061c842284": {
      "model_module": "@jupyter-widgets/base",
      "model_module_version": "1.2.0",
      "model_name": "LayoutModel",
      "state": {
       "grid_template_areas": "\"widget051 widget052 widget001 widget002 widget003 widget004 widget005 widget006 widget007 widget008 widget009 widget010 widget011 widget012 widget013 widget014 widget015 widget016 widget017 widget018 widget019 widget020 widget021 widget022 widget023 widget024 widget025 widget026 widget027 widget028 widget029 widget030 widget031 widget032 widget033 widget034 widget035 widget036 widget037 widget038 widget039 widget040 widget041 widget042 widget043 widget044 widget045 widget046 widget047 widget048 widget049 widget050 widget053\"\n\"widget104 widget105 widget054 widget055 widget056 widget057 widget058 widget059 widget060 widget061 widget062 widget063 widget064 widget065 widget066 widget067 widget068 widget069 widget070 widget071 widget072 widget073 widget074 widget075 widget076 widget077 widget078 widget079 widget080 widget081 widget082 widget083 widget084 widget085 widget086 widget087 widget088 widget089 widget090 widget091 widget092 widget093 widget094 widget095 widget096 widget097 widget098 widget099 widget100 widget101 widget102 widget103 widget106\"",
       "grid_template_columns": "repeat(53, 1fr)",
       "grid_template_rows": "repeat(2, 1fr)"
      }
     },
     "df809db404e04ad7ba5a3396b9c612b9": {
      "model_module": "@jupyter-widgets/controls",
      "model_module_version": "1.5.0",
      "model_name": "HTMLModel",
      "state": {
       "layout": "IPY_MODEL_50e81b16f00b4a668324afcf78eaf907",
       "style": "IPY_MODEL_7d6779761db54a15b08c09bfc9a04106",
       "value": "<div style='background-color:white;'>&nbsp;</div>"
      }
     },
     "dfa0c0ea940c4fdaad99ae8dda134561": {
      "model_module": "@jupyter-widgets/controls",
      "model_module_version": "1.5.0",
      "model_name": "DescriptionStyleModel",
      "state": {
       "description_width": ""
      }
     },
     "dfa796ecd27c46a8b9646c10f4551a18": {
      "model_module": "@jupyter-widgets/base",
      "model_module_version": "1.2.0",
      "model_name": "LayoutModel",
      "state": {
       "grid_area": "widget084",
       "margin": "0"
      }
     },
     "dfce01e4ba624e22b9340253f76b2cb1": {
      "model_module": "@jupyter-widgets/controls",
      "model_module_version": "1.5.0",
      "model_name": "DescriptionStyleModel",
      "state": {
       "description_width": ""
      }
     },
     "dfd3ff25bc3b4f859a1d8fadbf24e0b9": {
      "model_module": "@jupyter-widgets/controls",
      "model_module_version": "1.5.0",
      "model_name": "HTMLModel",
      "state": {
       "layout": "IPY_MODEL_f3f74b0487394670a13b702a7e675a05",
       "style": "IPY_MODEL_e438db562b594e178fcd1382bb63fe4f",
       "value": "<div style='background-color:white;'>&nbsp;</div>"
      }
     },
     "dfd9b93cbba74c4c8874f67e2418ee3e": {
      "model_module": "@jupyter-widgets/base",
      "model_module_version": "1.2.0",
      "model_name": "LayoutModel",
      "state": {
       "grid_area": "widget057",
       "margin": "0"
      }
     },
     "e01274a4cba34bf1b189d7cda0e7179c": {
      "model_module": "@jupyter-widgets/controls",
      "model_module_version": "1.5.0",
      "model_name": "HTMLModel",
      "state": {
       "layout": "IPY_MODEL_c5b6155f231c4df98bfaf6e9d8f6959c",
       "style": "IPY_MODEL_16c49491c47c486f827f7946f4f405b8",
       "value": "<div style='background-color:white;'>&nbsp;</div>"
      }
     },
     "e030bae9e8c54d15a887ae82035950d2": {
      "model_module": "@jupyter-widgets/controls",
      "model_module_version": "1.5.0",
      "model_name": "HTMLModel",
      "state": {
       "layout": "IPY_MODEL_7bb5d14acae14dd78f776e185d37a053",
       "style": "IPY_MODEL_2c2e1e9d17de460db77f4108804cddec",
       "value": "<div style='background-color:white;'>&nbsp;</div>"
      }
     },
     "e0396d0725924ca49b2e79d5a53eddd8": {
      "model_module": "@jupyter-widgets/base",
      "model_module_version": "1.2.0",
      "model_name": "LayoutModel",
      "state": {
       "grid_area": "widget065",
       "margin": "0"
      }
     },
     "e040ebc85463411e9aad23fc762c01de": {
      "model_module": "@jupyter-widgets/controls",
      "model_module_version": "1.5.0",
      "model_name": "HTMLModel",
      "state": {
       "layout": "IPY_MODEL_91ddd229aa2643d4984c338480eb7015",
       "style": "IPY_MODEL_a0627cb4386d4c0a9eaad0f4cde0df77",
       "value": "<div style='background-color:white;'>&nbsp;</div>"
      }
     },
     "e04a419e44ee4406b3ed495be928cc22": {
      "model_module": "@jupyter-widgets/controls",
      "model_module_version": "1.5.0",
      "model_name": "HTMLModel",
      "state": {
       "layout": "IPY_MODEL_8104d0c04537458fbc29e683619ddd21",
       "style": "IPY_MODEL_906601a51f0f42f5bc978c43b50267be",
       "value": "<div style='background-color:white;'>&nbsp;</div>"
      }
     },
     "e06fa0b983de4416a3dc5ad8edc58347": {
      "model_module": "@jupyter-widgets/base",
      "model_module_version": "1.2.0",
      "model_name": "LayoutModel",
      "state": {
       "grid_area": "widget093",
       "margin": "0"
      }
     },
     "e07fa8c5472e41b5ba1a2122514e6970": {
      "model_module": "@jupyter-widgets/controls",
      "model_module_version": "1.5.0",
      "model_name": "HTMLModel",
      "state": {
       "layout": "IPY_MODEL_f0b38b910a4448119e78dd08b1b89f9f",
       "style": "IPY_MODEL_2451cb6f0cac47d19b4731a8020352f0",
       "value": "<div style='background-color:#6E6BF4;'>&nbsp;</div>"
      }
     },
     "e0a53a46ba7247089ade31453e6473f1": {
      "model_module": "@jupyter-widgets/controls",
      "model_module_version": "1.5.0",
      "model_name": "DescriptionStyleModel",
      "state": {
       "description_width": ""
      }
     },
     "e11a6f2872d94db39d9ca5a91f751ff3": {
      "model_module": "@jupyter-widgets/controls",
      "model_module_version": "1.5.0",
      "model_name": "DescriptionStyleModel",
      "state": {
       "description_width": ""
      }
     },
     "e19e63c6697e45d3a5a579bda134ff40": {
      "model_module": "@jupyter-widgets/base",
      "model_module_version": "1.2.0",
      "model_name": "LayoutModel",
      "state": {
       "grid_area": "widget085",
       "margin": "0"
      }
     },
     "e1a6464d08e6427981fc0152851d133b": {
      "model_module": "@jupyter-widgets/controls",
      "model_module_version": "1.5.0",
      "model_name": "DescriptionStyleModel",
      "state": {
       "description_width": ""
      }
     },
     "e1b6771490284c53a5210be68954f973": {
      "model_module": "@jupyter-widgets/base",
      "model_module_version": "1.2.0",
      "model_name": "LayoutModel",
      "state": {
       "grid_area": "widget096",
       "margin": "0"
      }
     },
     "e1b7d84198a64866b9672a17c0af5557": {
      "model_module": "@jupyter-widgets/base",
      "model_module_version": "1.2.0",
      "model_name": "LayoutModel",
      "state": {
       "grid_area": "widget096",
       "margin": "0"
      }
     },
     "e1cdf334785b46efb5f7de4d471cd9ec": {
      "model_module": "@jupyter-widgets/controls",
      "model_module_version": "1.5.0",
      "model_name": "DescriptionStyleModel",
      "state": {
       "description_width": ""
      }
     },
     "e1cf99a14a684cc6b74f5e4e4e7719a5": {
      "model_module": "@jupyter-widgets/controls",
      "model_module_version": "1.5.0",
      "model_name": "DescriptionStyleModel",
      "state": {
       "description_width": ""
      }
     },
     "e1e2c8d523f04783ac1d018bd7d74cc6": {
      "model_module": "@jupyter-widgets/controls",
      "model_module_version": "1.5.0",
      "model_name": "DescriptionStyleModel",
      "state": {
       "description_width": ""
      }
     },
     "e1ffef55dedc4af4967f8e3d62a810aa": {
      "model_module": "@jupyter-widgets/base",
      "model_module_version": "1.2.0",
      "model_name": "LayoutModel",
      "state": {
       "grid_area": "widget101",
       "margin": "0"
      }
     },
     "e218e85ab3ac44929442f20c4461a16c": {
      "model_module": "@jupyter-widgets/base",
      "model_module_version": "1.2.0",
      "model_name": "LayoutModel",
      "state": {
       "grid_area": "widget054",
       "margin": "0"
      }
     },
     "e22256ae43824224a2677091f1d76710": {
      "model_module": "@jupyter-widgets/controls",
      "model_module_version": "1.5.0",
      "model_name": "HTMLModel",
      "state": {
       "layout": "IPY_MODEL_94d030dce7944385b371975cf0a3f8d6",
       "style": "IPY_MODEL_22e505fce7cf450e91a565ea1f7e8ae8",
       "value": "1 / 1  in 1.9 s (0:00:00 remaining)"
      }
     },
     "e22649746e4c4e4ea253fa55c367d25f": {
      "model_module": "@jupyter-widgets/base",
      "model_module_version": "1.2.0",
      "model_name": "LayoutModel",
      "state": {}
     },
     "e2530adcdcf945e6a0c6bcb5f101cb25": {
      "model_module": "@jupyter-widgets/controls",
      "model_module_version": "1.5.0",
      "model_name": "HTMLModel",
      "state": {
       "layout": "IPY_MODEL_2091306e0ecc477b982c5361082adaab",
       "style": "IPY_MODEL_ca42c5171af74dd4ae46a4a71576d634",
       "value": "<div style='background-color:white;'>&nbsp;</div>"
      }
     },
     "e263081760b1487eb37abbaf51340f33": {
      "model_module": "@jupyter-widgets/controls",
      "model_module_version": "1.5.0",
      "model_name": "HTMLModel",
      "state": {
       "layout": "IPY_MODEL_4bcf42bfa04b450c9215b534961874b3",
       "style": "IPY_MODEL_129d9c4332684909bc1a432847ac732d",
       "value": "-0.00"
      }
     },
     "e2915233498244c5af42ac1dc201c3c1": {
      "model_module": "@jupyter-widgets/controls",
      "model_module_version": "1.5.0",
      "model_name": "DescriptionStyleModel",
      "state": {
       "description_width": ""
      }
     },
     "e2bdb7f6467b4e1688d47b0638999eaa": {
      "model_module": "@jupyter-widgets/base",
      "model_module_version": "1.2.0",
      "model_name": "LayoutModel",
      "state": {
       "grid_area": "widget060",
       "margin": "0"
      }
     },
     "e2e2628c9acf4cf09c6b7546a432194e": {
      "model_module": "@jupyter-widgets/controls",
      "model_module_version": "1.5.0",
      "model_name": "HTMLModel",
      "state": {
       "layout": "IPY_MODEL_4ef99cb2bcd447e09cd99896d37d8436",
       "style": "IPY_MODEL_27e4673969a349bdab3441848ce11dd8",
       "value": "<div style='background-color:white;'>&nbsp;</div>"
      }
     },
     "e2e3185fe5e745678ad238434d59f069": {
      "model_module": "@jupyter-widgets/base",
      "model_module_version": "1.2.0",
      "model_name": "LayoutModel",
      "state": {
       "grid_area": "widget054",
       "margin": "0"
      }
     },
     "e314ae1e7dfd4a7e8bc410329287f382": {
      "model_module": "@jupyter-widgets/controls",
      "model_module_version": "1.5.0",
      "model_name": "HTMLModel",
      "state": {
       "layout": "IPY_MODEL_be20a82de10342be9149ac255cf13d5a",
       "style": "IPY_MODEL_bbb55ff1c7034e7baed6e115912d5391",
       "value": "<div style='background-color:white;'>&nbsp;</div>"
      }
     },
     "e32df9c0e4c742bd88d3e75878e8951a": {
      "model_module": "@jupyter-widgets/controls",
      "model_module_version": "1.5.0",
      "model_name": "DescriptionStyleModel",
      "state": {
       "description_width": ""
      }
     },
     "e3a18405d1b5415f827f53b00b35d646": {
      "model_module": "@jupyter-widgets/base",
      "model_module_version": "1.2.0",
      "model_name": "LayoutModel",
      "state": {
       "grid_area": "widget009",
       "margin": "0"
      }
     },
     "e3b37d377755498b8973473f59e5223b": {
      "model_module": "@jupyter-widgets/base",
      "model_module_version": "1.2.0",
      "model_name": "LayoutModel",
      "state": {
       "grid_area": "widget093",
       "margin": "0"
      }
     },
     "e3d4a69cab08468f808f8bfd4fdb2e09": {
      "model_module": "@jupyter-widgets/controls",
      "model_module_version": "1.5.0",
      "model_name": "DescriptionStyleModel",
      "state": {
       "description_width": ""
      }
     },
     "e438db562b594e178fcd1382bb63fe4f": {
      "model_module": "@jupyter-widgets/controls",
      "model_module_version": "1.5.0",
      "model_name": "DescriptionStyleModel",
      "state": {
       "description_width": ""
      }
     },
     "e46015caab8f406687246ab25bfd533e": {
      "model_module": "@jupyter-widgets/controls",
      "model_module_version": "1.5.0",
      "model_name": "DescriptionStyleModel",
      "state": {
       "description_width": ""
      }
     },
     "e46f92155d7e4d048592b29a2bf879db": {
      "model_module": "@jupyter-widgets/controls",
      "model_module_version": "1.5.0",
      "model_name": "HTMLModel",
      "state": {
       "layout": "IPY_MODEL_11cc34515b8d4451907619b4b122e908",
       "style": "IPY_MODEL_34519fecc90a44b992659708440de388",
       "value": "<div style='background-color:white;'>&nbsp;</div>"
      }
     },
     "e4dc65452c994c8589e355d622622dd0": {
      "model_module": "@jupyter-widgets/controls",
      "model_module_version": "1.5.0",
      "model_name": "HTMLModel",
      "state": {
       "layout": "IPY_MODEL_304cda75d6a34273bf6e3949bc9e976e",
       "style": "IPY_MODEL_c1a5c02e7ab6422a8a10554eb5b1a2ce",
       "value": "<div style='background-color:white;'>&nbsp;</div>"
      }
     },
     "e50e7d8394b34ddab54d2d2716068352": {
      "model_module": "@jupyter-widgets/base",
      "model_module_version": "1.2.0",
      "model_name": "LayoutModel",
      "state": {
       "grid_area": "widget083",
       "margin": "0"
      }
     },
     "e539b6093fdb48ea819385df612b2776": {
      "model_module": "@jupyter-widgets/controls",
      "model_module_version": "1.5.0",
      "model_name": "DescriptionStyleModel",
      "state": {
       "description_width": ""
      }
     },
     "e53b87dbd1644686b1d0f313eb9bd102": {
      "model_module": "@jupyter-widgets/base",
      "model_module_version": "1.2.0",
      "model_name": "LayoutModel",
      "state": {
       "grid_area": "widget101",
       "margin": "0"
      }
     },
     "e5713aaa05d448e0b4f54985702b1cc6": {
      "model_module": "@jupyter-widgets/controls",
      "model_module_version": "1.5.0",
      "model_name": "HTMLModel",
      "state": {
       "layout": "IPY_MODEL_fa5c3388fb394958932975c753db50ff",
       "style": "IPY_MODEL_e60b2af70e5a472b9f8f92389f9c51c5",
       "value": "<div style='background-color:white;'>&nbsp;</div>"
      }
     },
     "e5a278413ce84108a02976165bbab893": {
      "model_module": "@jupyter-widgets/controls",
      "model_module_version": "1.5.0",
      "model_name": "DescriptionStyleModel",
      "state": {
       "description_width": ""
      }
     },
     "e5c96d5e7acd40d3b2de72786cfcd595": {
      "model_module": "@jupyter-widgets/base",
      "model_module_version": "1.2.0",
      "model_name": "LayoutModel",
      "state": {
       "grid_area": "widget056",
       "margin": "0"
      }
     },
     "e5e51613a4dc45b680535c4bdfaf46c8": {
      "model_module": "@jupyter-widgets/base",
      "model_module_version": "1.2.0",
      "model_name": "LayoutModel",
      "state": {
       "grid_area": "widget026",
       "margin": "0"
      }
     },
     "e60b2af70e5a472b9f8f92389f9c51c5": {
      "model_module": "@jupyter-widgets/controls",
      "model_module_version": "1.5.0",
      "model_name": "DescriptionStyleModel",
      "state": {
       "description_width": ""
      }
     },
     "e61808cc2f2b416a81014fe74780fa8f": {
      "model_module": "@jupyter-widgets/controls",
      "model_module_version": "1.5.0",
      "model_name": "HTMLModel",
      "state": {
       "layout": "IPY_MODEL_dc996132794e4b7686e78afeaa188154",
       "style": "IPY_MODEL_b6c06b8ee51c440ba61f4d07363fb758",
       "value": "<div style='background-color:white;'>&nbsp;</div>"
      }
     },
     "e6240366b18842afbed48c668e9c2a27": {
      "model_module": "@jupyter-widgets/controls",
      "model_module_version": "1.5.0",
      "model_name": "HTMLModel",
      "state": {
       "layout": "IPY_MODEL_894d9a00bd6244e8938c51916b3b948e",
       "style": "IPY_MODEL_4155c2cf62204d08aec6c521db992240",
       "value": "<div style='background-color:#6E6BF4; font-family:monospace'>&nbsp;</div>"
      }
     },
     "e637dbcf1d3a40d18d8051eae686c446": {
      "model_module": "@jupyter-widgets/controls",
      "model_module_version": "1.5.0",
      "model_name": "HTMLModel",
      "state": {
       "layout": "IPY_MODEL_f2185efbee314747aaabe3d31dfe52fd",
       "style": "IPY_MODEL_36fa2cff2a794c5eb0b01fb08d7d4073",
       "value": "<div style='background-color:white;'>&nbsp;</div>"
      }
     },
     "e67d8730b956417296bb8042fc4bdb89": {
      "model_module": "@jupyter-widgets/controls",
      "model_module_version": "1.5.0",
      "model_name": "DescriptionStyleModel",
      "state": {
       "description_width": ""
      }
     },
     "e68b9778783b4021885ec22302acf487": {
      "model_module": "@jupyter-widgets/controls",
      "model_module_version": "1.5.0",
      "model_name": "DescriptionStyleModel",
      "state": {
       "description_width": ""
      }
     },
     "e6a01745d7094072aa4f9b84035ceca6": {
      "model_module": "@jupyter-widgets/controls",
      "model_module_version": "1.5.0",
      "model_name": "DescriptionStyleModel",
      "state": {
       "description_width": ""
      }
     },
     "e6b166f8247c44cd9d1c366cf9e5d421": {
      "model_module": "@jupyter-widgets/controls",
      "model_module_version": "1.5.0",
      "model_name": "ProgressStyleModel",
      "state": {
       "description_width": ""
      }
     },
     "e6dce4096c9841669979b9a1a14e4785": {
      "model_module": "@jupyter-widgets/controls",
      "model_module_version": "1.5.0",
      "model_name": "HTMLModel",
      "state": {
       "layout": "IPY_MODEL_14b5a0f9ee8645089b3fe80ef52c35fe",
       "style": "IPY_MODEL_a1d47f0ebeea4faaa226c2b686af7373",
       "value": "<div style='background-color:white;'>&nbsp;</div>"
      }
     },
     "e6e89ee189e24570977c76d5640110a7": {
      "model_module": "@jupyter-widgets/base",
      "model_module_version": "1.2.0",
      "model_name": "LayoutModel",
      "state": {
       "grid_area": "widget018",
       "margin": "0"
      }
     },
     "e7671033054544728e0d6765f152105c": {
      "model_module": "@jupyter-widgets/controls",
      "model_module_version": "1.5.0",
      "model_name": "DescriptionStyleModel",
      "state": {
       "description_width": ""
      }
     },
     "e7e3b33db41a4fef9696e0c7bd9f5d54": {
      "model_module": "@jupyter-widgets/base",
      "model_module_version": "1.2.0",
      "model_name": "LayoutModel",
      "state": {
       "grid_area": "widget027",
       "margin": "0"
      }
     },
     "e81c1bf4dd074aaea26f4b4075463b84": {
      "model_module": "@jupyter-widgets/base",
      "model_module_version": "1.2.0",
      "model_name": "LayoutModel",
      "state": {
       "grid_area": "widget024",
       "margin": "0"
      }
     },
     "e83f6187c76c4569803c82ce2f490be7": {
      "model_module": "@jupyter-widgets/base",
      "model_module_version": "1.2.0",
      "model_name": "LayoutModel",
      "state": {
       "grid_area": "widget006",
       "margin": "0"
      }
     },
     "e842d9bbcf9b44d5805ac4d8d6eade2b": {
      "model_module": "@jupyter-widgets/controls",
      "model_module_version": "1.5.0",
      "model_name": "HTMLModel",
      "state": {
       "layout": "IPY_MODEL_e6e89ee189e24570977c76d5640110a7",
       "style": "IPY_MODEL_3143e396655e49e789188a41fbbdeb6d",
       "value": "<div style='background-color:#6E6BF4;'>&nbsp;</div>"
      }
     },
     "e8a575ecac5e49da8791c408af799fd3": {
      "model_module": "@jupyter-widgets/controls",
      "model_module_version": "1.5.0",
      "model_name": "HTMLModel",
      "state": {
       "layout": "IPY_MODEL_163e7463c6f94026b2bf671408791461",
       "style": "IPY_MODEL_dab7c69239134feca39240e598a373bf",
       "value": "<div style='background-color:white;'>&nbsp;</div>"
      }
     },
     "e8abed351a9947659731578d2f053508": {
      "model_module": "@jupyter-widgets/controls",
      "model_module_version": "1.5.0",
      "model_name": "DescriptionStyleModel",
      "state": {
       "description_width": ""
      }
     },
     "e907894e930f4655abe8d4f23e39e72b": {
      "model_module": "@jupyter-widgets/controls",
      "model_module_version": "1.5.0",
      "model_name": "VBoxModel",
      "state": {
       "children": [
        "IPY_MODEL_374fa5aac36a42c580fb8fc44f14e663",
        "IPY_MODEL_2002a54bbec04a979f7a3972d5e2c554",
        "IPY_MODEL_d6b2692d686a4780bd2553e6e1613e58"
       ],
       "layout": "IPY_MODEL_af841c7745064ae7a5b0e809271cb2c7"
      }
     },
     "e913b260cab34fae93fb80d56452fe82": {
      "model_module": "@jupyter-widgets/controls",
      "model_module_version": "1.5.0",
      "model_name": "HTMLModel",
      "state": {
       "layout": "IPY_MODEL_46274b650e9647e8b3d21b91aae02314",
       "style": "IPY_MODEL_3bc05f41838f42b1b89cbcc070d3862d",
       "value": "<div style='background-color:white;'>&nbsp;</div>"
      }
     },
     "e9472b0a019e456f988717d440392845": {
      "model_module": "@jupyter-widgets/controls",
      "model_module_version": "1.5.0",
      "model_name": "DescriptionStyleModel",
      "state": {
       "description_width": ""
      }
     },
     "e95fcf97c68a4630beae31a454024525": {
      "model_module": "@jupyter-widgets/controls",
      "model_module_version": "1.5.0",
      "model_name": "HTMLModel",
      "state": {
       "layout": "IPY_MODEL_34148271e0d9402396a358d8067c0204",
       "style": "IPY_MODEL_7a620e459a7247dc8cbc36c1bb489ef7",
       "value": "<div style='background-color:#6E6BF4;'>&nbsp;</div>"
      }
     },
     "e96b267fe5b1496684a83a39d6643a62": {
      "model_module": "@jupyter-widgets/controls",
      "model_module_version": "1.5.0",
      "model_name": "HTMLModel",
      "state": {
       "layout": "IPY_MODEL_969be22bf9924689b92c748bb593a99b",
       "style": "IPY_MODEL_8c55aa80a1de4dfbaa2751360d83e2aa",
       "value": "<div style='background-color:white;'>&nbsp;</div>"
      }
     },
     "e99176afb5b6419ca2b52b8601836f10": {
      "model_module": "@jupyter-widgets/controls",
      "model_module_version": "1.5.0",
      "model_name": "HTMLModel",
      "state": {
       "layout": "IPY_MODEL_e2bdb7f6467b4e1688d47b0638999eaa",
       "style": "IPY_MODEL_b8e31d9e7d264191876d8ebf048bac8b",
       "value": "<div style='background-color:white;'>&nbsp;</div>"
      }
     },
     "e998360955d3439fb406c8435ddd1a24": {
      "model_module": "@jupyter-widgets/base",
      "model_module_version": "1.2.0",
      "model_name": "LayoutModel",
      "state": {
       "grid_area": "widget019",
       "margin": "0"
      }
     },
     "e99cde2bc9d14691b740aa2c29d29cbd": {
      "model_module": "@jupyter-widgets/controls",
      "model_module_version": "1.5.0",
      "model_name": "DescriptionStyleModel",
      "state": {
       "description_width": ""
      }
     },
     "ea05155c2d384b6d93cce4ab6ce462bd": {
      "model_module": "@jupyter-widgets/base",
      "model_module_version": "1.2.0",
      "model_name": "LayoutModel",
      "state": {
       "grid_area": "widget094",
       "margin": "0"
      }
     },
     "ea06d3bcf53f4b488c180514bb4acdca": {
      "model_module": "@jupyter-widgets/base",
      "model_module_version": "1.2.0",
      "model_name": "LayoutModel",
      "state": {
       "grid_area": "widget010",
       "margin": "0"
      }
     },
     "ea4b24f48b6140d38f2f99c0822accb6": {
      "model_module": "@jupyter-widgets/controls",
      "model_module_version": "1.5.0",
      "model_name": "DescriptionStyleModel",
      "state": {
       "description_width": ""
      }
     },
     "ea5ea3c92d774568a6938752df81354c": {
      "model_module": "@jupyter-widgets/controls",
      "model_module_version": "1.5.0",
      "model_name": "HTMLModel",
      "state": {
       "layout": "IPY_MODEL_5d2e245a5cab4714b87e45d18cbeed15",
       "style": "IPY_MODEL_f2e043056a864004b2509ff1fd759ab9",
       "value": "Mono-modal | Volume: ~exp(-15.53) * | Expected Volume: exp(-11.54)<br/>   negative degeneracy between source1.spectrum.main.Powerlaw.K and source1.spectrum.main.Powerlaw.index: rho=-0.99"
      }
     },
     "eaaace21ced54ab8940987744ecff855": {
      "model_module": "@jupyter-widgets/base",
      "model_module_version": "1.2.0",
      "model_name": "LayoutModel",
      "state": {
       "grid_area": "widget058",
       "margin": "0"
      }
     },
     "eaaeb752b13547b9a4ec03ec845194e7": {
      "model_module": "@jupyter-widgets/controls",
      "model_module_version": "1.5.0",
      "model_name": "DescriptionStyleModel",
      "state": {
       "description_width": ""
      }
     },
     "eadb0ea6780f4961b2cdcce28cbeaf02": {
      "model_module": "@jupyter-widgets/controls",
      "model_module_version": "1.5.0",
      "model_name": "HTMLModel",
      "state": {
       "layout": "IPY_MODEL_d30f47cb3d2e4e6fbf564ef5ed5fb6bb",
       "style": "IPY_MODEL_c51247fe6f0b431db682c9a6dfb06e3a",
       "value": "Mono-modal | Volume: ~exp(-15.98) * | Expected Volume: exp(-11.54)<br/>   negative degeneracy between source1.spectrum.main.Powerlaw.K and source1.spectrum.main.Powerlaw.index: rho=-0.99"
      }
     },
     "eadd3fa556b54d6482fc722a38fdf80c": {
      "model_module": "@jupyter-widgets/controls",
      "model_module_version": "1.5.0",
      "model_name": "DescriptionStyleModel",
      "state": {
       "description_width": ""
      }
     },
     "eaea6e8492f943f1ab9d0fb61f713b4c": {
      "model_module": "@jupyter-widgets/controls",
      "model_module_version": "1.5.0",
      "model_name": "DescriptionStyleModel",
      "state": {
       "description_width": ""
      }
     },
     "eb59f60bf6f24ae28bb027366a8e0aeb": {
      "model_module": "@jupyter-widgets/base",
      "model_module_version": "1.2.0",
      "model_name": "LayoutModel",
      "state": {
       "grid_area": "widget036",
       "margin": "0"
      }
     },
     "eb73691177ce46dbac267d5b61a26d45": {
      "model_module": "@jupyter-widgets/controls",
      "model_module_version": "1.5.0",
      "model_name": "HTMLModel",
      "state": {
       "layout": "IPY_MODEL_2b1a308f97194e5493cb32caf404f736",
       "style": "IPY_MODEL_7ae056f2436b461583e06e9b1887ec82",
       "value": "<div style='background-color:white;'>&nbsp;</div>"
      }
     },
     "ebad89d4cbb74dea88d067d4af941e3e": {
      "model_module": "@jupyter-widgets/controls",
      "model_module_version": "1.5.0",
      "model_name": "DescriptionStyleModel",
      "state": {
       "description_width": ""
      }
     },
     "ebbabcf5eef04cfdb7c82198bfa920a6": {
      "model_module": "@jupyter-widgets/base",
      "model_module_version": "1.2.0",
      "model_name": "LayoutModel",
      "state": {
       "grid_area": "widget062",
       "margin": "0"
      }
     },
     "ec250234bbc54a87a5caf1e13137fa81": {
      "model_module": "@jupyter-widgets/controls",
      "model_module_version": "1.5.0",
      "model_name": "DescriptionStyleModel",
      "state": {
       "description_width": ""
      }
     },
     "ec50ce7d96d240dc8489c836ec3facbe": {
      "model_module": "@jupyter-widgets/controls",
      "model_module_version": "1.5.0",
      "model_name": "HTMLModel",
      "state": {
       "layout": "IPY_MODEL_7eab55c8b02943a7a0c53e3372d93e00",
       "style": "IPY_MODEL_1446c722561542638f352b461ed8371e",
       "value": "<div style='background-color:white;'>&nbsp;</div>"
      }
     },
     "ec55a471fc9b4894864a59f5074442aa": {
      "model_module": "@jupyter-widgets/controls",
      "model_module_version": "1.5.0",
      "model_name": "DescriptionStyleModel",
      "state": {
       "description_width": ""
      }
     },
     "ec69669ef80d4f8a8d6de3111e5eef0b": {
      "model_module": "@jupyter-widgets/controls",
      "model_module_version": "1.5.0",
      "model_name": "DescriptionStyleModel",
      "state": {
       "description_width": ""
      }
     },
     "ec8f5bfbf3f5445b8a4d96b39cf738ed": {
      "model_module": "@jupyter-widgets/controls",
      "model_module_version": "1.5.0",
      "model_name": "DescriptionStyleModel",
      "state": {
       "description_width": ""
      }
     },
     "ec9eaa0d48ce4617a3dd2ee08683af06": {
      "model_module": "@jupyter-widgets/base",
      "model_module_version": "1.2.0",
      "model_name": "LayoutModel",
      "state": {
       "grid_area": "widget049",
       "margin": "0"
      }
     },
     "ed78adfc4b714abcb3540d29bc1bd075": {
      "model_module": "@jupyter-widgets/controls",
      "model_module_version": "1.5.0",
      "model_name": "HTMLModel",
      "state": {
       "layout": "IPY_MODEL_9484d741aa5a4d56a0422f06d7fdceed",
       "style": "IPY_MODEL_e1a6464d08e6427981fc0152851d133b",
       "value": "<div style='background-color:#6E6BF4;'>&nbsp;</div>"
      }
     },
     "ee86e75c7ca048dc974439c25763b227": {
      "model_module": "@jupyter-widgets/controls",
      "model_module_version": "1.5.0",
      "model_name": "HTMLModel",
      "state": {
       "layout": "IPY_MODEL_0aed053ce4774fbe9e1fe16f99c62840",
       "style": "IPY_MODEL_04e57802e6a24b67a399dd6dcc31d513",
       "value": "<div style='background-color:#6E6BF4;'>&nbsp;</div>"
      }
     },
     "eeb958612f7d459a8e114be3a2b845f1": {
      "model_module": "@jupyter-widgets/controls",
      "model_module_version": "1.5.0",
      "model_name": "DescriptionStyleModel",
      "state": {
       "description_width": ""
      }
     },
     "ef0990a7f2a24e8485bc2dc20da92270": {
      "model_module": "@jupyter-widgets/controls",
      "model_module_version": "1.5.0",
      "model_name": "VBoxModel",
      "state": {
       "children": [
        "IPY_MODEL_1fdb7a2457d145d4878745033e107058",
        "IPY_MODEL_e22256ae43824224a2677091f1d76710",
        "IPY_MODEL_80a4529c9b134b3dab649d829dc38b4e"
       ],
       "layout": "IPY_MODEL_80bc2cfa9f554f9fa032abb487db04af"
      }
     },
     "ef149158513d486a9238468d7f614833": {
      "model_module": "@jupyter-widgets/controls",
      "model_module_version": "1.5.0",
      "model_name": "DescriptionStyleModel",
      "state": {
       "description_width": ""
      }
     },
     "efa19deb79fb4e1aaa7bab3540b627f4": {
      "model_module": "@jupyter-widgets/controls",
      "model_module_version": "1.5.0",
      "model_name": "VBoxModel",
      "state": {
       "children": [
        "IPY_MODEL_8e8a4c2cbb4849b5b35a8d185a8bf541",
        "IPY_MODEL_71514a318a1640de8dd9c2713a954916"
       ],
       "layout": "IPY_MODEL_5acc7f78093a47ad8018fc302c62fc58"
      }
     },
     "efefe7412b544357a89fda7f746bdd07": {
      "model_module": "@jupyter-widgets/controls",
      "model_module_version": "1.5.0",
      "model_name": "HTMLModel",
      "state": {
       "layout": "IPY_MODEL_38735e2f80094337865a8afde9f505d5",
       "style": "IPY_MODEL_dfce01e4ba624e22b9340253f76b2cb1",
       "value": "<div style='background-color:#6E6BF4;'>&nbsp;</div>"
      }
     },
     "f02196e93bad4411b0dd6a9034850e99": {
      "model_module": "@jupyter-widgets/controls",
      "model_module_version": "1.5.0",
      "model_name": "DescriptionStyleModel",
      "state": {
       "description_width": ""
      }
     },
     "f0380053edcc4943819650348073303e": {
      "model_module": "@jupyter-widgets/base",
      "model_module_version": "1.2.0",
      "model_name": "LayoutModel",
      "state": {
       "grid_area": "widget099",
       "margin": "0"
      }
     },
     "f03a7fb9febe4fd2b0a4c24c4dbe3c1a": {
      "model_module": "@jupyter-widgets/base",
      "model_module_version": "1.2.0",
      "model_name": "LayoutModel",
      "state": {
       "grid_area": "widget026",
       "margin": "0"
      }
     },
     "f05186d3fa5d413cbed22f905537e598": {
      "model_module": "@jupyter-widgets/base",
      "model_module_version": "1.2.0",
      "model_name": "LayoutModel",
      "state": {
       "grid_area": "widget088",
       "margin": "0"
      }
     },
     "f0b38b910a4448119e78dd08b1b89f9f": {
      "model_module": "@jupyter-widgets/base",
      "model_module_version": "1.2.0",
      "model_name": "LayoutModel",
      "state": {
       "grid_area": "widget002",
       "margin": "0"
      }
     },
     "f0d7c28c0d564cb18a9f18dd05748dd5": {
      "model_module": "@jupyter-widgets/controls",
      "model_module_version": "1.5.0",
      "model_name": "DescriptionStyleModel",
      "state": {
       "description_width": ""
      }
     },
     "f0e1b0ae0f6b4ae0a6b5cc2996458385": {
      "model_module": "@jupyter-widgets/controls",
      "model_module_version": "1.5.0",
      "model_name": "HTMLModel",
      "state": {
       "layout": "IPY_MODEL_501b4a035847465198914509a628addc",
       "style": "IPY_MODEL_9ec3f1aa2e394e15a67ca8bab6f25c2b",
       "value": "<div style='background-color:white;'>&nbsp;</div>"
      }
     },
     "f13d2f8b512b4231acc91b9c4ee082c3": {
      "model_module": "@jupyter-widgets/controls",
      "model_module_version": "1.5.0",
      "model_name": "HTMLModel",
      "state": {
       "layout": "IPY_MODEL_67a69d0f7f8c4d84acf804a5aa9b23ef",
       "style": "IPY_MODEL_c3194c52762249d389697f60f78a1448",
       "value": "<div style='background-color:white;'>&nbsp;</div>"
      }
     },
     "f16ea9cf66a248109dc84cb6faf70ecc": {
      "model_module": "@jupyter-widgets/controls",
      "model_module_version": "1.5.0",
      "model_name": "HTMLModel",
      "state": {
       "layout": "IPY_MODEL_e22649746e4c4e4ea253fa55c367d25f",
       "style": "IPY_MODEL_80ce26dd1a884198818027118271f043",
       "value": "Propagating errors : "
      }
     },
     "f17fa71d53ea4583a27d620fae1e0851": {
      "model_module": "@jupyter-widgets/controls",
      "model_module_version": "1.5.0",
      "model_name": "HTMLModel",
      "state": {
       "layout": "IPY_MODEL_7fa3f5cf26744834a3d6b912ddc182b7",
       "style": "IPY_MODEL_f5c0c3ced32947fa9b37407765a4c146",
       "value": "<div style='background-color:white;'>&nbsp;</div>"
      }
     },
     "f193a48e60d14a038c5b57d3e4b59d34": {
      "model_module": "@jupyter-widgets/controls",
      "model_module_version": "1.5.0",
      "model_name": "HTMLModel",
      "state": {
       "layout": "IPY_MODEL_6cc891972bc14110b0518aa0b869c27b",
       "style": "IPY_MODEL_fbddebf402f7486e8c6a28fb79136647",
       "value": "<div style='background-color:white;'>&nbsp;</div>"
      }
     },
     "f2185efbee314747aaabe3d31dfe52fd": {
      "model_module": "@jupyter-widgets/base",
      "model_module_version": "1.2.0",
      "model_name": "LayoutModel",
      "state": {
       "grid_area": "widget037",
       "margin": "0"
      }
     },
     "f2537f5cf5644280b9359aa2a33c5893": {
      "model_module": "@jupyter-widgets/base",
      "model_module_version": "1.2.0",
      "model_name": "LayoutModel",
      "state": {
       "grid_area": "widget008",
       "margin": "0"
      }
     },
     "f2e043056a864004b2509ff1fd759ab9": {
      "model_module": "@jupyter-widgets/controls",
      "model_module_version": "1.5.0",
      "model_name": "DescriptionStyleModel",
      "state": {
       "description_width": ""
      }
     },
     "f346e47e0b274e499397640edee85df5": {
      "model_module": "@jupyter-widgets/base",
      "model_module_version": "1.2.0",
      "model_name": "LayoutModel",
      "state": {
       "grid_area": "widget003",
       "margin": "0"
      }
     },
     "f35079454bd14da3a41bb9bbf144eda8": {
      "model_module": "@jupyter-widgets/controls",
      "model_module_version": "1.5.0",
      "model_name": "DescriptionStyleModel",
      "state": {
       "description_width": ""
      }
     },
     "f374b65692ee4c0c8cc8c8b7da72a190": {
      "model_module": "@jupyter-widgets/controls",
      "model_module_version": "1.5.0",
      "model_name": "HTMLModel",
      "state": {
       "layout": "IPY_MODEL_70c818fa0d084d8fac692ab878cc61f9",
       "style": "IPY_MODEL_fb88e9ef82a540daa9201ae8c12638a2",
       "value": "<div style='background-color:white;'>&nbsp;</div>"
      }
     },
     "f38e912c953c4a258ede898b24d0c4d3": {
      "model_module": "@jupyter-widgets/controls",
      "model_module_version": "1.5.0",
      "model_name": "GridBoxModel",
      "state": {
       "children": [
        "IPY_MODEL_fb8be7e148884933be7fa9b6824f6dd7",
        "IPY_MODEL_7e1e715ba8154fb18eb1488bdab1d383",
        "IPY_MODEL_9a8bc36128b14b74b6dd1d3774b8ccec",
        "IPY_MODEL_cc0c49d49d6c47aaaa0353d5b8e77b39",
        "IPY_MODEL_989c17f7a7af499280e3569eda6816b3",
        "IPY_MODEL_20452d3048b740369b53b60e63ac152b",
        "IPY_MODEL_5e42013ea39b428a84aa9c17bb8a4330",
        "IPY_MODEL_1ef1bee5b16b43aa8877b5b01d210e06",
        "IPY_MODEL_6eb0aa7d79064053ab1c4ef3fd14f1eb",
        "IPY_MODEL_0bafaa2c5b9d4dbaa5392c2876425537",
        "IPY_MODEL_fe0e1feb6a0040428e0b6259b9aa5c05",
        "IPY_MODEL_a4abdf9f285342a7b1cf520582f5434f",
        "IPY_MODEL_9b18b40bce554fed92962e8107f5d224",
        "IPY_MODEL_43c8ac4f7d514230a5344ef4dde88c6f",
        "IPY_MODEL_59f0ee5f4f82453391c9c1c34c356e8a",
        "IPY_MODEL_8b34d2ff992b47968997ccfd385c3b6d",
        "IPY_MODEL_bb8bb6b4136b414fb219749fc64a7577",
        "IPY_MODEL_654fc6cde75a4025a71ad0ece37b7639",
        "IPY_MODEL_0004c2b54f27410daf5d459a689d8d20",
        "IPY_MODEL_cc0b6d690afa46efaf85faefce16f107",
        "IPY_MODEL_dcd7171e555c44688b7eb745dd004c9d",
        "IPY_MODEL_e4dc65452c994c8589e355d622622dd0",
        "IPY_MODEL_c58982c5961946608edf413ee2c7d6fa",
        "IPY_MODEL_9c9f2c8702954b45b650ac1145f8a1bd",
        "IPY_MODEL_30a45fe287ee42fbad135a75c2fda118",
        "IPY_MODEL_41c20f561c904793b8a60dd710f56da8",
        "IPY_MODEL_a21359ebe20f496180560737e90fae5a",
        "IPY_MODEL_383ec32a294649b1a5df13d6ab012e9d",
        "IPY_MODEL_c48622c2d1f94a85a030a4e133b0b9d6",
        "IPY_MODEL_7274f76936bb44638945c989a00fb3fc",
        "IPY_MODEL_e46f92155d7e4d048592b29a2bf879db",
        "IPY_MODEL_733358f3117d4f8da1a6e9a1b514b0cb",
        "IPY_MODEL_b2e2165f5bf943a2824a6ad7b2ad570a",
        "IPY_MODEL_dfd3ff25bc3b4f859a1d8fadbf24e0b9",
        "IPY_MODEL_4a93839938f549f795bf8690e0a16914",
        "IPY_MODEL_97a759dd8729403984c1b0b92d045e63",
        "IPY_MODEL_e637dbcf1d3a40d18d8051eae686c446",
        "IPY_MODEL_1e92238d7e8f4c61b18a6a52af3bb92c",
        "IPY_MODEL_12dd1d4ab92440399f5dd9a1c52e6d4a",
        "IPY_MODEL_455fbee0679445b290d0229ae7e5d708",
        "IPY_MODEL_3e3b1997d9ea4d28a24d9ff21f847fe8",
        "IPY_MODEL_6b04af45459a40669801e24940f361f0",
        "IPY_MODEL_ba24f5795641415d92947972ef693f95",
        "IPY_MODEL_1da7f6fca35340cabf71057a9e1c692c",
        "IPY_MODEL_3353708035364029bc9e35a00b88a2dc",
        "IPY_MODEL_129619226a694585b9e5b3073d67cd61",
        "IPY_MODEL_d1e6b412fb4a4f889a2f3ff6c9f0a8cd",
        "IPY_MODEL_929eb960a11a4de48ebca53bb2719ee8",
        "IPY_MODEL_3ae0efffc6684322b5b12942a3b86b24",
        "IPY_MODEL_7a521323b6a24251a3b3a84a5c6f2529",
        "IPY_MODEL_57a41cc41f844e67bf805c0dbad39a80",
        "IPY_MODEL_95d536a574a84cbdba6564711f25a02c",
        "IPY_MODEL_180a8d830e34460db846419e796439cb",
        "IPY_MODEL_e04a419e44ee4406b3ed495be928cc22",
        "IPY_MODEL_80c951ccfbe0482a859f16297733ad20",
        "IPY_MODEL_33217f6a1f204e53baaa0f0a0f26a4df",
        "IPY_MODEL_b279da3c643f4a6aa87c0880f60acc22",
        "IPY_MODEL_52f31660d15646d889a6d57c3cae41ef",
        "IPY_MODEL_6b236e9e72af463c97e96447eb2e5293",
        "IPY_MODEL_97362b29b6e946efbe86be77673f8750",
        "IPY_MODEL_6d977a2cf3ce4b1b90f44ee01df8bebe",
        "IPY_MODEL_7c80e775bb3a4dc5935fa901e1a6a71f",
        "IPY_MODEL_a1d6903325c44791b731d9a822a0e755",
        "IPY_MODEL_e6dce4096c9841669979b9a1a14e4785",
        "IPY_MODEL_33b2ae7001eb489997c799ed2a5bcd4c",
        "IPY_MODEL_118d16e62de8430ca8784dd4eae2ea6b",
        "IPY_MODEL_86876a24d6fd45a1868e552814ca1685",
        "IPY_MODEL_879e0227f68f4acf9ccab0346df185e4",
        "IPY_MODEL_a0e9084ce6c443d8a86437a53f48f705",
        "IPY_MODEL_2a6d8bae6ba04f68a2995bfc4b3addec",
        "IPY_MODEL_9ec444e04d5a4e58ab52ddd2511107c9",
        "IPY_MODEL_959dfb158f464592928451c05975ac38",
        "IPY_MODEL_df20437c99994978a70873a6231b3afc",
        "IPY_MODEL_08d6854272474690947119fb19165f9d",
        "IPY_MODEL_5b61b9c3e44f4345b59acc45978eb296",
        "IPY_MODEL_bd1ecd1ff0204cc0ab07248d1b256d2c",
        "IPY_MODEL_51d9400cecb6438a9461253ccf4fe710",
        "IPY_MODEL_4e77a27883d5411490ba245094fc389a",
        "IPY_MODEL_7ccc867f11dd47659c1e7ff9cfe25476",
        "IPY_MODEL_307f41692b6f4ab9aa7280c1ca164516",
        "IPY_MODEL_d8d0a101959f44ee8f509086dee96ea1",
        "IPY_MODEL_6ba9f645210e499b93017a12d23fc1b2",
        "IPY_MODEL_1ddfb51ce7ac46acb647f1a77d72dcdd",
        "IPY_MODEL_b8784ee2ef54463494b0181c6b08e93e",
        "IPY_MODEL_602efb9036554a60aa20b13f3208e06d",
        "IPY_MODEL_7e03d914cf5941e99a9584cb53bb2333",
        "IPY_MODEL_f4b505a8f94945e69ffb4d91f8c3198b",
        "IPY_MODEL_38d8bee193b14e8da72538e30a2bf150",
        "IPY_MODEL_e61808cc2f2b416a81014fe74780fa8f",
        "IPY_MODEL_48f1ee2b074d408e9445e0691e397aee",
        "IPY_MODEL_d935252e181b4629a562a8a9fb714e8f",
        "IPY_MODEL_548d7fa8c62b4977a34123da2d7bdea6",
        "IPY_MODEL_8fc91ac579a64351ad65bec5585f994c",
        "IPY_MODEL_d424ffda238a404d9bf55dc74c39b125",
        "IPY_MODEL_f444745daf5649f78a51f5a13dc948b8",
        "IPY_MODEL_abc049b767754028a534ae356352e8c3",
        "IPY_MODEL_dd1dfa917dbd4797b507744dedde7a9b",
        "IPY_MODEL_a0b22bf1fb854df69f262b146811ca9b",
        "IPY_MODEL_b8cacc7549ed4226a89deb8b54c6fa1f",
        "IPY_MODEL_5c932fe2cde140c2baabfa77107b16ee",
        "IPY_MODEL_9b63db84f3e340d68c0133ac7cec4b41",
        "IPY_MODEL_d70f2a2fbc3c438784edf161abc4b33a",
        "IPY_MODEL_caf4b1339f984567982faace1e52550c",
        "IPY_MODEL_719cdf1559ce40789dde860afc9757f8",
        "IPY_MODEL_41f09ca600c34272a054580dee2ce642",
        "IPY_MODEL_66ae19ed3791435fa0e898c28395f54c"
       ],
       "layout": "IPY_MODEL_a386a1280bb44b74bb0ed7f6a6508405"
      }
     },
     "f3a9653e8e564018928c5dd9af365316": {
      "model_module": "@jupyter-widgets/base",
      "model_module_version": "1.2.0",
      "model_name": "LayoutModel",
      "state": {
       "grid_area": "widget063",
       "margin": "0"
      }
     },
     "f3f74b0487394670a13b702a7e675a05": {
      "model_module": "@jupyter-widgets/base",
      "model_module_version": "1.2.0",
      "model_name": "LayoutModel",
      "state": {
       "grid_area": "widget034",
       "margin": "0"
      }
     },
     "f42775aeff844e6c87df7c948ebcc343": {
      "model_module": "@jupyter-widgets/controls",
      "model_module_version": "1.5.0",
      "model_name": "HTMLModel",
      "state": {
       "layout": "IPY_MODEL_656d96a561dd4c06945808b306a62a08",
       "style": "IPY_MODEL_e6a01745d7094072aa4f9b84035ceca6",
       "value": "<div style='background-color:white;'>&nbsp;</div>"
      }
     },
     "f435b22290fb4220a34b5bd8d00e0149": {
      "model_module": "@jupyter-widgets/controls",
      "model_module_version": "1.5.0",
      "model_name": "DescriptionStyleModel",
      "state": {
       "description_width": ""
      }
     },
     "f444745daf5649f78a51f5a13dc948b8": {
      "model_module": "@jupyter-widgets/controls",
      "model_module_version": "1.5.0",
      "model_name": "HTMLModel",
      "state": {
       "layout": "IPY_MODEL_f8aa7eca74f344e280cb779d6e20b209",
       "style": "IPY_MODEL_61fd212856af439a97b0606a789e2d8a",
       "value": "<div style='background-color:white;'>&nbsp;</div>"
      }
     },
     "f4566b84c42d48cb85c848933e6bd832": {
      "model_module": "@jupyter-widgets/controls",
      "model_module_version": "1.5.0",
      "model_name": "DescriptionStyleModel",
      "state": {
       "description_width": ""
      }
     },
     "f4af2a50e4e54c7081382c7d83acb475": {
      "model_module": "@jupyter-widgets/base",
      "model_module_version": "1.2.0",
      "model_name": "LayoutModel",
      "state": {
       "grid_area": "widget012",
       "margin": "0"
      }
     },
     "f4b505a8f94945e69ffb4d91f8c3198b": {
      "model_module": "@jupyter-widgets/controls",
      "model_module_version": "1.5.0",
      "model_name": "HTMLModel",
      "state": {
       "layout": "IPY_MODEL_87ba0d0edd464fd18b625ddacd9bb704",
       "style": "IPY_MODEL_4c62c46016594d448664922cc29dad6f",
       "value": "<div style='background-color:white;'>&nbsp;</div>"
      }
     },
     "f4f233f880fb4acf901aa960d0a209cc": {
      "model_module": "@jupyter-widgets/controls",
      "model_module_version": "1.5.0",
      "model_name": "DescriptionStyleModel",
      "state": {
       "description_width": ""
      }
     },
     "f52d161e14544f5591c6303c40769b68": {
      "model_module": "@jupyter-widgets/controls",
      "model_module_version": "1.5.0",
      "model_name": "DescriptionStyleModel",
      "state": {
       "description_width": ""
      }
     },
     "f5353712e91541b98e2790d4f8c8c57d": {
      "model_module": "@jupyter-widgets/base",
      "model_module_version": "1.2.0",
      "model_name": "LayoutModel",
      "state": {
       "grid_area": "widget020",
       "margin": "0"
      }
     },
     "f54cd88788b44a8191d1829138f72065": {
      "model_module": "@jupyter-widgets/controls",
      "model_module_version": "1.5.0",
      "model_name": "DescriptionStyleModel",
      "state": {
       "description_width": ""
      }
     },
     "f59be371442a4934af1dfa2eaa2a2b26": {
      "model_module": "@jupyter-widgets/controls",
      "model_module_version": "1.5.0",
      "model_name": "DescriptionStyleModel",
      "state": {
       "description_width": ""
      }
     },
     "f5b086b7ebef46b2b81371fb59495b20": {
      "model_module": "@jupyter-widgets/controls",
      "model_module_version": "1.5.0",
      "model_name": "HTMLModel",
      "state": {
       "layout": "IPY_MODEL_c16433171d8d41f89025b79f195bc4af",
       "style": "IPY_MODEL_f7b428c5134643088e99d45d23399088",
       "value": "Propagating errors : "
      }
     },
     "f5bb838b31ba4f4aa827125e2a9bc416": {
      "model_module": "@jupyter-widgets/controls",
      "model_module_version": "1.5.0",
      "model_name": "HTMLModel",
      "state": {
       "layout": "IPY_MODEL_bc80eb1464fd483c882eac552b4e769e",
       "style": "IPY_MODEL_1ae4e6005ced43e0a2a0001692b665dc",
       "value": "Mono-modal | Volume: ~exp(-4.30) * | Expected Volume: exp(0.00)"
      }
     },
     "f5c0c3ced32947fa9b37407765a4c146": {
      "model_module": "@jupyter-widgets/controls",
      "model_module_version": "1.5.0",
      "model_name": "DescriptionStyleModel",
      "state": {
       "description_width": ""
      }
     },
     "f5c44329b7b140b78a39efb683ea6b31": {
      "model_module": "@jupyter-widgets/controls",
      "model_module_version": "1.5.0",
      "model_name": "DescriptionStyleModel",
      "state": {
       "description_width": ""
      }
     },
     "f5e0b71e6ad44d6b990c211085e9b251": {
      "model_module": "@jupyter-widgets/controls",
      "model_module_version": "1.5.0",
      "model_name": "HTMLModel",
      "state": {
       "layout": "IPY_MODEL_ffa08ff6621f4108a419c6c70d329065",
       "style": "IPY_MODEL_f02196e93bad4411b0dd6a9034850e99",
       "value": "<div style='background-color:#6E6BF4;'>&nbsp;</div>"
      }
     },
     "f67e14d15345445a8150b61c8e3f3575": {
      "model_module": "@jupyter-widgets/controls",
      "model_module_version": "1.5.0",
      "model_name": "DescriptionStyleModel",
      "state": {
       "description_width": ""
      }
     },
     "f6f123fd825b44aca421bb7ec114a5f2": {
      "model_module": "@jupyter-widgets/controls",
      "model_module_version": "1.5.0",
      "model_name": "HTMLModel",
      "state": {
       "layout": "IPY_MODEL_10884ff11e01488198ede4d5e1a2ca5a",
       "style": "IPY_MODEL_a1a40b5e40ea4f02a83c4240a96b558b",
       "value": "<div style='background-color:white;'>&nbsp;</div>"
      }
     },
     "f717aac456734ad09d82f43f507a497e": {
      "model_module": "@jupyter-widgets/base",
      "model_module_version": "1.2.0",
      "model_name": "LayoutModel",
      "state": {
       "grid_area": "widget043",
       "margin": "0"
      }
     },
     "f78bc20d1ab24acebbbbf3bd834c549c": {
      "model_module": "@jupyter-widgets/controls",
      "model_module_version": "1.5.0",
      "model_name": "HTMLModel",
      "state": {
       "layout": "IPY_MODEL_a9fa72212ce34c8aad60efc6b4822663",
       "style": "IPY_MODEL_4ac648e26f164aad946ebe0f44d9c9e4",
       "value": "<div style='background-color:white;'>&nbsp;</div>"
      }
     },
     "f7ac47a7756e481fb644034d893f2cec": {
      "model_module": "@jupyter-widgets/base",
      "model_module_version": "1.2.0",
      "model_name": "LayoutModel",
      "state": {
       "grid_area": "widget099",
       "margin": "0"
      }
     },
     "f7b428c5134643088e99d45d23399088": {
      "model_module": "@jupyter-widgets/controls",
      "model_module_version": "1.5.0",
      "model_name": "DescriptionStyleModel",
      "state": {
       "description_width": ""
      }
     },
     "f7c0f9a69e674969b73c7c24c08d4720": {
      "model_module": "@jupyter-widgets/controls",
      "model_module_version": "1.5.0",
      "model_name": "DescriptionStyleModel",
      "state": {
       "description_width": ""
      }
     },
     "f7f3695c0f3b4662b9ec5f3cc3d5de1d": {
      "model_module": "@jupyter-widgets/controls",
      "model_module_version": "1.5.0",
      "model_name": "HTMLModel",
      "state": {
       "layout": "IPY_MODEL_255f2863eea249c6a0877df236037b46",
       "style": "IPY_MODEL_34dcadc92b374a5cae892889db71bcac",
       "value": "<div style='background-color:#6E6BF4;'>&nbsp;</div>"
      }
     },
     "f8562bc7a25649d096890b4f7d58b9e5": {
      "model_module": "@jupyter-widgets/controls",
      "model_module_version": "1.5.0",
      "model_name": "DescriptionStyleModel",
      "state": {
       "description_width": ""
      }
     },
     "f8aa7eca74f344e280cb779d6e20b209": {
      "model_module": "@jupyter-widgets/base",
      "model_module_version": "1.2.0",
      "model_name": "LayoutModel",
      "state": {
       "grid_area": "widget095",
       "margin": "0"
      }
     },
     "f9289eceb24a4cb6ad566259decf653b": {
      "model_module": "@jupyter-widgets/controls",
      "model_module_version": "1.5.0",
      "model_name": "HTMLModel",
      "state": {
       "layout": "IPY_MODEL_9d37f7b75de24cc8a064790844c2173f",
       "style": "IPY_MODEL_21c4649a78544675874821f84eedbfab",
       "value": "<div style='background-color:#6E6BF4;'>&nbsp;</div>"
      }
     },
     "f93d19ebb5984047bbaf3038fea745a3": {
      "model_module": "@jupyter-widgets/base",
      "model_module_version": "1.2.0",
      "model_name": "LayoutModel",
      "state": {
       "grid_area": "widget051",
       "margin": "0"
      }
     },
     "f9958ead76c9400fb61ff4c207257a7e": {
      "model_module": "@jupyter-widgets/controls",
      "model_module_version": "1.5.0",
      "model_name": "HTMLModel",
      "state": {
       "layout": "IPY_MODEL_5424f24b26ca4bcc975dc944cf4af0d8",
       "style": "IPY_MODEL_d5f9ce0e773b40158a9789932776ba59",
       "value": "<div style='background-color:#6E6BF4;'>&nbsp;</div>"
      }
     },
     "f9eafcf410594c8581e48833f4ebd588": {
      "model_module": "@jupyter-widgets/controls",
      "model_module_version": "1.5.0",
      "model_name": "DescriptionStyleModel",
      "state": {
       "description_width": ""
      }
     },
     "fa25398cc96e45268de6f5d3e87f4204": {
      "model_module": "@jupyter-widgets/base",
      "model_module_version": "1.2.0",
      "model_name": "LayoutModel",
      "state": {}
     },
     "fa5c3388fb394958932975c753db50ff": {
      "model_module": "@jupyter-widgets/base",
      "model_module_version": "1.2.0",
      "model_name": "LayoutModel",
      "state": {
       "grid_area": "widget032",
       "margin": "0"
      }
     },
     "fa77c68ed0804d528baf93b1c70fdd5e": {
      "model_module": "@jupyter-widgets/controls",
      "model_module_version": "1.5.0",
      "model_name": "DescriptionStyleModel",
      "state": {
       "description_width": ""
      }
     },
     "fb550c6282e9441bb3c48b61cde47b96": {
      "model_module": "@jupyter-widgets/base",
      "model_module_version": "1.2.0",
      "model_name": "LayoutModel",
      "state": {
       "grid_area": "widget012",
       "margin": "0"
      }
     },
     "fb87b535b19246a297ebea4bbd0fa6a3": {
      "model_module": "@jupyter-widgets/controls",
      "model_module_version": "1.5.0",
      "model_name": "HTMLModel",
      "state": {
       "layout": "IPY_MODEL_a1fa9706e55d4fd995b9260317d839ef",
       "style": "IPY_MODEL_0a742cba5a8342cea647394a54cc2540",
       "value": "<div style='background-color:white;'>&nbsp;</div>"
      }
     },
     "fb88e9ef82a540daa9201ae8c12638a2": {
      "model_module": "@jupyter-widgets/controls",
      "model_module_version": "1.5.0",
      "model_name": "DescriptionStyleModel",
      "state": {
       "description_width": ""
      }
     },
     "fb8be7e148884933be7fa9b6824f6dd7": {
      "model_module": "@jupyter-widgets/controls",
      "model_module_version": "1.5.0",
      "model_name": "HTMLModel",
      "state": {
       "layout": "IPY_MODEL_cfa73e52ead144dc9163d4bd2239f774",
       "style": "IPY_MODEL_48435fbd32f74674a707624c51a9b0bd",
       "value": "<div style='background-color:white;'>&nbsp;</div>"
      }
     },
     "fba67e9b5b574b5583aa7c12f88ff90c": {
      "model_module": "@jupyter-widgets/controls",
      "model_module_version": "1.5.0",
      "model_name": "HTMLModel",
      "state": {
       "layout": "IPY_MODEL_0ba18eb17eee46709189d077386317b4",
       "style": "IPY_MODEL_452edba268ef40319a83d1a53d812ce3",
       "value": "500 / 500  in 15.8 s (0:00:00 remaining)"
      }
     },
     "fbddebf402f7486e8c6a28fb79136647": {
      "model_module": "@jupyter-widgets/controls",
      "model_module_version": "1.5.0",
      "model_name": "DescriptionStyleModel",
      "state": {
       "description_width": ""
      }
     },
     "fbe73c5722cb42afade8a674353a9bbf": {
      "model_module": "@jupyter-widgets/base",
      "model_module_version": "1.2.0",
      "model_name": "LayoutModel",
      "state": {
       "grid_area": "widget072",
       "margin": "0"
      }
     },
     "fc37c2e4fd7a4fe58aa8c7fe44aeb219": {
      "model_module": "@jupyter-widgets/base",
      "model_module_version": "1.2.0",
      "model_name": "LayoutModel",
      "state": {
       "grid_area": "widget015",
       "margin": "0"
      }
     },
     "fcb728af01804f6aa9a433bf8cad7a50": {
      "model_module": "@jupyter-widgets/controls",
      "model_module_version": "1.5.0",
      "model_name": "DescriptionStyleModel",
      "state": {
       "description_width": ""
      }
     },
     "fce87fc30c6e4730a9b2305f735d8bfb": {
      "model_module": "@jupyter-widgets/base",
      "model_module_version": "1.2.0",
      "model_name": "LayoutModel",
      "state": {
       "grid_area": "widget011",
       "margin": "0"
      }
     },
     "fd55d29c190d4e46b42f9889f9aaceed": {
      "model_module": "@jupyter-widgets/controls",
      "model_module_version": "1.5.0",
      "model_name": "HTMLModel",
      "state": {
       "layout": "IPY_MODEL_b18f0077461548daa01f66e2e68a483f",
       "style": "IPY_MODEL_7ab7d18303cc4e91880edfdf742bfdb4",
       "value": "<div style='background-color:#6E6BF4; font-family:monospace'>&nbsp;</div>"
      }
     },
     "fd9a30cee2df49a5b5e916a765d390e6": {
      "model_module": "@jupyter-widgets/controls",
      "model_module_version": "1.5.0",
      "model_name": "HTMLModel",
      "state": {
       "layout": "IPY_MODEL_0d4d09159b204b0b973ae86b26d6d625",
       "style": "IPY_MODEL_2d54a2422ef8414494925bf256036a73",
       "value": "<div style='background-color:#6E6BF4;'>&nbsp;</div>"
      }
     },
     "fdb940a8e2334b21b2af631c48da391f": {
      "model_module": "@jupyter-widgets/controls",
      "model_module_version": "1.5.0",
      "model_name": "DescriptionStyleModel",
      "state": {
       "description_width": ""
      }
     },
     "fe0e1feb6a0040428e0b6259b9aa5c05": {
      "model_module": "@jupyter-widgets/controls",
      "model_module_version": "1.5.0",
      "model_name": "HTMLModel",
      "state": {
       "layout": "IPY_MODEL_9fe3e7470ec54f85a3737227be2e1c37",
       "style": "IPY_MODEL_64ffbb94fb03485ba95b43122889ff73",
       "value": "<div style='background-color:white;'>&nbsp;</div>"
      }
     },
     "feaf6efd9ef646c29ae817eda3100340": {
      "model_module": "@jupyter-widgets/controls",
      "model_module_version": "1.5.0",
      "model_name": "DescriptionStyleModel",
      "state": {
       "description_width": ""
      }
     },
     "fec2389c09344278a2d943cd31b2e355": {
      "model_module": "@jupyter-widgets/controls",
      "model_module_version": "1.5.0",
      "model_name": "HTMLModel",
      "state": {
       "layout": "IPY_MODEL_b66576e8d26d4b2ab416f196149c3ff6",
       "style": "IPY_MODEL_daccda03a2c749fd86b13fbc1cb0ac1d",
       "value": "<div style='background-color:#6E6BF4; font-family:monospace'>&nbsp;</div>"
      }
     },
     "ff18d307cd4d479bbb5f425c324104be": {
      "model_module": "@jupyter-widgets/controls",
      "model_module_version": "1.5.0",
      "model_name": "DescriptionStyleModel",
      "state": {
       "description_width": ""
      }
     },
     "ff3de6af538b4b2b95a298ea947a4183": {
      "model_module": "@jupyter-widgets/controls",
      "model_module_version": "1.5.0",
      "model_name": "DescriptionStyleModel",
      "state": {
       "description_width": ""
      }
     },
     "ff4d4c6c3ec24d55b0d3f0a9246c9e0f": {
      "model_module": "@jupyter-widgets/controls",
      "model_module_version": "1.5.0",
      "model_name": "HTMLModel",
      "state": {
       "layout": "IPY_MODEL_88efc61603a04de6a792ed707578a164",
       "style": "IPY_MODEL_7f47a364f8bd48f68317355e28408ef4",
       "value": "<div style='background-color:white;'>&nbsp;</div>"
      }
     },
     "ff5b15778bec41b89111642d2416b7da": {
      "model_module": "@jupyter-widgets/base",
      "model_module_version": "1.2.0",
      "model_name": "LayoutModel",
      "state": {
       "grid_area": "widget100",
       "margin": "0"
      }
     },
     "ff689313e8a34ea89548ea8bc8cde944": {
      "model_module": "@jupyter-widgets/controls",
      "model_module_version": "1.5.0",
      "model_name": "DescriptionStyleModel",
      "state": {
       "description_width": ""
      }
     },
     "ffa08ff6621f4108a419c6c70d329065": {
      "model_module": "@jupyter-widgets/base",
      "model_module_version": "1.2.0",
      "model_name": "LayoutModel",
      "state": {
       "grid_area": "widget097",
       "margin": "0"
      }
     },
     "ffb1bf05a5614e94806565d552b053c0": {
      "model_module": "@jupyter-widgets/base",
      "model_module_version": "1.2.0",
      "model_name": "LayoutModel",
      "state": {
       "grid_area": "widget065",
       "margin": "0"
      }
     },
     "ffdf0b10d628401eae0ba3aad1ee756e": {
      "model_module": "@jupyter-widgets/controls",
      "model_module_version": "1.5.0",
      "model_name": "DescriptionStyleModel",
      "state": {
       "description_width": ""
      }
     },
     "fff1de1138f54aa59c2f3f5cdbb8d00e": {
      "model_module": "@jupyter-widgets/controls",
      "model_module_version": "1.5.0",
      "model_name": "DescriptionStyleModel",
      "state": {
       "description_width": ""
      }
     }
    },
    "version_major": 2,
    "version_minor": 0
   }
  }
 },
 "nbformat": 4,
 "nbformat_minor": 1
}
